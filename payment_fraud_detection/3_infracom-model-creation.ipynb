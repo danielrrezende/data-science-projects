{
 "cells": [
  {
   "cell_type": "markdown",
   "id": "1b22289b",
   "metadata": {
    "papermill": {
     "duration": 0.01206,
     "end_time": "2023-12-02T00:41:48.885839",
     "exception": false,
     "start_time": "2023-12-02T00:41:48.873779",
     "status": "completed"
    },
    "tags": []
   },
   "source": [
    "# Detecção de Fraudes em Pagamentos - PaySim"
   ]
  },
  {
   "cell_type": "markdown",
   "id": "0f48f8ac",
   "metadata": {
    "papermill": {
     "duration": 0.012018,
     "end_time": "2023-12-02T00:41:48.909511",
     "exception": false,
     "start_time": "2023-12-02T00:41:48.897493",
     "status": "completed"
    },
    "tags": []
   },
   "source": [
    "### Bibliotecas"
   ]
  },
  {
   "cell_type": "code",
   "execution_count": 1,
   "id": "3ce971ed",
   "metadata": {
    "_cell_guid": "b1076dfc-b9ad-4769-8c92-a6c4dae69d19",
    "_uuid": "8f2839f25d086af736a60e9eeb907d3b93b6e0e5",
    "execution": {
     "iopub.execute_input": "2023-12-02T00:41:48.934470Z",
     "iopub.status.busy": "2023-12-02T00:41:48.934110Z",
     "iopub.status.idle": "2023-12-02T00:41:52.049777Z",
     "shell.execute_reply": "2023-12-02T00:41:52.048306Z"
    },
    "papermill": {
     "duration": 3.131311,
     "end_time": "2023-12-02T00:41:52.052688",
     "exception": false,
     "start_time": "2023-12-02T00:41:48.921377",
     "status": "completed"
    },
    "tags": []
   },
   "outputs": [
    {
     "name": "stdout",
     "output_type": "stream",
     "text": [
      "/kaggle/input/datasetinf/describe.csv\n",
      "/kaggle/input/datasetinf/PS_20174392719_1491204439457_log.csv\n",
      "/kaggle/input/datasetinf/paysim_predicted.csv\n"
     ]
    }
   ],
   "source": [
    "import numpy as np # linear algebra\n",
    "import pandas as pd # data processing, CSV file I/O (e.g. pd.read_csv)\n",
    "\n",
    "import os\n",
    "for dirname, _, filenames in os.walk('/kaggle/input/datasetinf'):\n",
    "    for filename in filenames:\n",
    "        print(os.path.join(dirname, filename))\n",
    "\n",
    "## modelo\n",
    "from sklearn import preprocessing\n",
    "from sklearn.impute import KNNImputer, SimpleImputer\n",
    "from sklearn.ensemble import RandomForestClassifier, GradientBoostingClassifier\n",
    "from sklearn.model_selection import train_test_split\n",
    "from sklearn.preprocessing import OneHotEncoder, StandardScaler\n",
    "from imblearn.over_sampling import SMOTE\n",
    "from sklearn.compose import ColumnTransformer\n",
    "from imblearn.pipeline import Pipeline\n",
    "from sklearn.metrics import average_precision_score, mean_absolute_error, roc_curve, auc, roc_auc_score\n",
    "from sklearn.metrics import classification_report, confusion_matrix, ConfusionMatrixDisplay, precision_recall_curve\n",
    "\n",
    "\n",
    "## vis\n",
    "import matplotlib\n",
    "import matplotlib.pyplot as plt\n",
    "import matplotlib.dates as mdates\n",
    "import seaborn as sns\n",
    "from collections import Counter\n",
    "\n",
    "# check xgboost version\n",
    "from xgboost import XGBClassifier\n",
    "\n",
    "import timeit\n",
    "import warnings\n",
    "warnings.filterwarnings(\"ignore\")"
   ]
  },
  {
   "cell_type": "markdown",
   "id": "f20af306",
   "metadata": {
    "papermill": {
     "duration": 0.012041,
     "end_time": "2023-12-02T00:41:52.077661",
     "exception": false,
     "start_time": "2023-12-02T00:41:52.065620",
     "status": "completed"
    },
    "tags": []
   },
   "source": [
    "### Layout"
   ]
  },
  {
   "cell_type": "code",
   "execution_count": 2,
   "id": "83dbeebd",
   "metadata": {
    "execution": {
     "iopub.execute_input": "2023-12-02T00:41:52.107066Z",
     "iopub.status.busy": "2023-12-02T00:41:52.106174Z",
     "iopub.status.idle": "2023-12-02T00:41:52.119149Z",
     "shell.execute_reply": "2023-12-02T00:41:52.117647Z"
    },
    "papermill": {
     "duration": 0.032641,
     "end_time": "2023-12-02T00:41:52.122314",
     "exception": false,
     "start_time": "2023-12-02T00:41:52.089673",
     "status": "completed"
    },
    "tags": []
   },
   "outputs": [],
   "source": [
    "%matplotlib inline\n",
    "matplotlib.rcParams['figure.figsize'] = (12, 6)\n",
    "\n",
    "pd.set_option('display.max_columns', 200)\n",
    "pd.set_option('display.width', 1000)\n",
    "\n",
    "rc={'font.size': 16, 'axes.labelsize': 16, 'legend.fontsize': 16,\n",
    "    'axes.titlesize': 18, 'xtick.labelsize': 16, 'ytick.labelsize': 16}\n",
    "\n",
    "sns.set(rc=rc)\n",
    "sns.set_style(\"darkgrid\")\n",
    "sns.set_palette(\"pastel\")"
   ]
  },
  {
   "cell_type": "markdown",
   "id": "1024e4d3",
   "metadata": {
    "papermill": {
     "duration": 0.01171,
     "end_time": "2023-12-02T00:41:52.146674",
     "exception": false,
     "start_time": "2023-12-02T00:41:52.134964",
     "status": "completed"
    },
    "tags": []
   },
   "source": [
    "### Configurações"
   ]
  },
  {
   "cell_type": "code",
   "execution_count": 2,
   "id": "355121da",
   "metadata": {
    "execution": {
     "iopub.execute_input": "2023-12-02T00:41:52.172575Z",
     "iopub.status.busy": "2023-12-02T00:41:52.172048Z",
     "iopub.status.idle": "2023-12-02T00:41:52.176591Z",
     "shell.execute_reply": "2023-12-02T00:41:52.175905Z"
    },
    "papermill": {
     "duration": 0.019933,
     "end_time": "2023-12-02T00:41:52.178507",
     "exception": false,
     "start_time": "2023-12-02T00:41:52.158574",
     "status": "completed"
    },
    "tags": []
   },
   "outputs": [],
   "source": [
    "#pd.set_option('max_columns', 200)\n",
    "pd.options.display.max_columns = 200 \n",
    "\n",
    "# Define um valor maior para a largura máxima das colunas\n",
    "pd.options.display.max_colwidth = 1000\n",
    "\n",
    "seed = 42\n",
    "np.random.seed(seed)"
   ]
  },
  {
   "cell_type": "markdown",
   "id": "490ea0c4",
   "metadata": {
    "papermill": {
     "duration": 0.011278,
     "end_time": "2023-12-02T00:41:52.201439",
     "exception": false,
     "start_time": "2023-12-02T00:41:52.190161",
     "status": "completed"
    },
    "tags": []
   },
   "source": [
    "### Funções"
   ]
  },
  {
   "cell_type": "code",
   "execution_count": 3,
   "id": "2b7eceb8",
   "metadata": {
    "execution": {
     "iopub.execute_input": "2023-12-02T00:41:52.227818Z",
     "iopub.status.busy": "2023-12-02T00:41:52.227226Z",
     "iopub.status.idle": "2023-12-02T00:41:52.232894Z",
     "shell.execute_reply": "2023-12-02T00:41:52.232179Z"
    },
    "papermill": {
     "duration": 0.022052,
     "end_time": "2023-12-02T00:41:52.235002",
     "exception": false,
     "start_time": "2023-12-02T00:41:52.212950",
     "status": "completed"
    },
    "tags": []
   },
   "outputs": [],
   "source": [
    "def check_time(start, end):\n",
    "    seg = end - start\n",
    "    dias = seg // 86400\n",
    "    Seg_Restantes_Após_Dias = seg % 86400\n",
    "    horas = Seg_Restantes_Após_Dias // 3600         # Divisão inteira\n",
    "    Seg_Restantes_Apos_Hora = seg % 3600            # Resto da divisão por 3600\n",
    "    minutos = Seg_Restantes_Apos_Hora // 60         # Divisão inteira dos segundos restantes\n",
    "    Seg_Restantes_Apos_Minutos = seg % 60\n",
    "    #print(minutos,'minutos','e', '%.2f' % Seg_Restantes_Apos_Minutos,'segundos')\n",
    "    print(dias,'dias', horas,'horas', minutos,'minutos','e', '%.2f' % Seg_Restantes_Apos_Minutos,'segundos')\n",
    "\n",
    "start=timeit.default_timer()"
   ]
  },
  {
   "cell_type": "code",
   "execution_count": 4,
   "id": "0335bcf8",
   "metadata": {
    "execution": {
     "iopub.execute_input": "2023-12-02T00:41:52.260292Z",
     "iopub.status.busy": "2023-12-02T00:41:52.259523Z",
     "iopub.status.idle": "2023-12-02T00:41:52.264912Z",
     "shell.execute_reply": "2023-12-02T00:41:52.264294Z"
    },
    "papermill": {
     "duration": 0.020032,
     "end_time": "2023-12-02T00:41:52.266668",
     "exception": false,
     "start_time": "2023-12-02T00:41:52.246636",
     "status": "completed"
    },
    "tags": []
   },
   "outputs": [],
   "source": [
    "def aucur(y_test, preds):\n",
    "    # calculate AUC\n",
    "    aucur = roc_auc_score(y_test, preds)\n",
    "    print('AUC: %.3f' % aucur)\n",
    "\n",
    "    # calculate roc curve\n",
    "    fpr, tpr, thresholds = roc_curve(y_test, preds)\n",
    "\n",
    "    # plot no skill\n",
    "    plt.figure(figsize=(4, 3))\n",
    "    plt.plot([0, 1], [0, 1], linestyle='--')\n",
    "    # plot the roc curve for the model\n",
    "    plt.plot(fpr, tpr, marker='.')\n",
    "    # show the plot\n",
    "    plt.show()"
   ]
  },
  {
   "cell_type": "code",
   "execution_count": 5,
   "id": "fdbe575b",
   "metadata": {
    "execution": {
     "iopub.execute_input": "2023-12-02T00:41:52.291813Z",
     "iopub.status.busy": "2023-12-02T00:41:52.291295Z",
     "iopub.status.idle": "2023-12-02T00:41:52.295990Z",
     "shell.execute_reply": "2023-12-02T00:41:52.295350Z"
    },
    "papermill": {
     "duration": 0.019267,
     "end_time": "2023-12-02T00:41:52.297721",
     "exception": false,
     "start_time": "2023-12-02T00:41:52.278454",
     "status": "completed"
    },
    "tags": []
   },
   "outputs": [],
   "source": [
    "def just_check_nan(df):\n",
    "    # Check NaN Pandas and Numpy\n",
    "    missing_val_count_by_column = (df.isna().sum())\n",
    "\n",
    "    columns_with_nan = missing_val_count_by_column[missing_val_count_by_column > 0]\n",
    "    print('Dados com NaN:')\n",
    "    print(columns_with_nan)\n",
    "    print('')\n",
    "    print('columns_with_nan.shape', columns_with_nan.shape)\n",
    "    print('')"
   ]
  },
  {
   "cell_type": "code",
   "execution_count": 6,
   "id": "0aa1837e",
   "metadata": {
    "execution": {
     "iopub.execute_input": "2023-12-02T00:41:52.388507Z",
     "iopub.status.busy": "2023-12-02T00:41:52.387922Z",
     "iopub.status.idle": "2023-12-02T00:41:52.395896Z",
     "shell.execute_reply": "2023-12-02T00:41:52.395204Z"
    },
    "papermill": {
     "duration": 0.088757,
     "end_time": "2023-12-02T00:41:52.398062",
     "exception": false,
     "start_time": "2023-12-02T00:41:52.309305",
     "status": "completed"
    },
    "tags": []
   },
   "outputs": [],
   "source": [
    "def plot_feature_freq(df, feature, top_n=10):\n",
    "    value_counts = df[feature].value_counts(dropna=True)\n",
    "    top_values = value_counts.head(top_n)\n",
    "    other_values_count = value_counts.iloc[top_n:].sum()\n",
    "\n",
    "    if other_values_count > 0:\n",
    "        top_values['Outros'] = other_values_count\n",
    "\n",
    "    total = top_values.sum()\n",
    "\n",
    "    plt.figure(figsize=(5, 4))\n",
    "    ax = sns.barplot(x=top_values.index, y=top_values.values, palette='viridis')\n",
    "\n",
    "    for p in ax.patches:\n",
    "        ax.annotate('{:.0f}'.format(p.get_height()), (p.get_x() + p.get_width() / 2., p.get_height()),\n",
    "                    ha='center', va='center', xytext=(0, 10), textcoords='offset points')\n",
    "\n",
    "        percentage = p.get_height() / total * 100\n",
    "        ax.annotate('{:.1f}%'.format(percentage), (p.get_x() + p.get_width() / 2., 0),\n",
    "                    ha='center', va='center', xytext=(0, -40), textcoords='offset points')\n",
    "\n",
    "    ax.set(xlabel='isFraud', ylabel='Quantidade')\n",
    "    plt.xticks(rotation=45)\n",
    "    plt.tight_layout()\n",
    "    plt.show()"
   ]
  },
  {
   "cell_type": "markdown",
   "id": "a2d4443e",
   "metadata": {
    "papermill": {
     "duration": 0.011503,
     "end_time": "2023-12-02T00:41:52.421583",
     "exception": false,
     "start_time": "2023-12-02T00:41:52.410080",
     "status": "completed"
    },
    "tags": []
   },
   "source": [
    "***\n",
    "# 1) Definição do problema e objetivo do projeto"
   ]
  },
  {
   "cell_type": "markdown",
   "id": "a46407cb",
   "metadata": {
    "papermill": {
     "duration": 0.011583,
     "end_time": "2023-12-02T00:41:52.444969",
     "exception": false,
     "start_time": "2023-12-02T00:41:52.433386",
     "status": "completed"
    },
    "tags": []
   },
   "source": [
    "## 1.1) Contexto\n",
    "\n",
    "Apresentamos um conjunto de dados sintético gerado usando o simulador denominado PaySim como uma abordagem para tal problema. PaySim usa dados agregados do conjunto de dados privado para gerar um conjunto de dados sintético que se assemelha à operação normal das transações e injeta comportamento malicioso para avaliar posteriormente o desempenho dos métodos de detecção de fraude.\n",
    "\n",
    "## 1.2) Sobre o Conteudo\n",
    "\n",
    "PaySim simula transações de dinheiro móvel com base em uma amostra de transações reais extraídas de um mês de registros financeiros de um serviço de dinheiro móvel implementado em um país africano. Os registos originais foram fornecidos por uma empresa multinacional, fornecedora do serviço financeiro móvel que funciona atualmente em mais de 14 países em todo o mundo.\n",
    "\n",
    "Este conjunto de dados sintético foi reduzido em 1/4 do conjunto de dados original e foi criado apenas para Kaggle."
   ]
  },
  {
   "cell_type": "markdown",
   "id": "37df9b2f",
   "metadata": {
    "papermill": {
     "duration": 0.011701,
     "end_time": "2023-12-02T00:41:52.468589",
     "exception": false,
     "start_time": "2023-12-02T00:41:52.456888",
     "status": "completed"
    },
    "tags": []
   },
   "source": [
    "## 1.3) Dicionario de dados"
   ]
  },
  {
   "cell_type": "code",
   "execution_count": 7,
   "id": "9ad4803f",
   "metadata": {
    "execution": {
     "iopub.execute_input": "2023-12-02T00:41:52.494021Z",
     "iopub.status.busy": "2023-12-02T00:41:52.493644Z",
     "iopub.status.idle": "2023-12-02T00:41:52.532398Z",
     "shell.execute_reply": "2023-12-02T00:41:52.531181Z"
    },
    "papermill": {
     "duration": 0.054123,
     "end_time": "2023-12-02T00:41:52.534469",
     "exception": false,
     "start_time": "2023-12-02T00:41:52.480346",
     "status": "completed"
    },
    "tags": []
   },
   "outputs": [
    {
     "data": {
      "text/html": [
       "<div>\n",
       "<style scoped>\n",
       "    .dataframe tbody tr th:only-of-type {\n",
       "        vertical-align: middle;\n",
       "    }\n",
       "\n",
       "    .dataframe tbody tr th {\n",
       "        vertical-align: top;\n",
       "    }\n",
       "\n",
       "    .dataframe thead th {\n",
       "        text-align: right;\n",
       "    }\n",
       "</style>\n",
       "<table border=\"1\" class=\"dataframe\">\n",
       "  <thead>\n",
       "    <tr style=\"text-align: right;\">\n",
       "      <th></th>\n",
       "      <th>0</th>\n",
       "      <th>1</th>\n",
       "    </tr>\n",
       "  </thead>\n",
       "  <tbody>\n",
       "    <tr>\n",
       "      <th>0</th>\n",
       "      <td>step</td>\n",
       "      <td>mapeia uma unidade de tempo no mundo real. Neste caso, 1 passo equivale a 1 hora. Total de passos 744 (simulação de 30 dias).</td>\n",
       "    </tr>\n",
       "    <tr>\n",
       "      <th>1</th>\n",
       "      <td>type</td>\n",
       "      <td>CASH-IN, CASH-OUT, DÉBITO, PAGAMENTO e TRANSFERÊNCIA.</td>\n",
       "    </tr>\n",
       "    <tr>\n",
       "      <th>2</th>\n",
       "      <td>amount</td>\n",
       "      <td>valor da transação em moeda local.</td>\n",
       "    </tr>\n",
       "    <tr>\n",
       "      <th>3</th>\n",
       "      <td>nameOrig</td>\n",
       "      <td>cliente que iniciou a transação</td>\n",
       "    </tr>\n",
       "    <tr>\n",
       "      <th>4</th>\n",
       "      <td>oldbalanceOrg</td>\n",
       "      <td>saldo inicial antes da transação</td>\n",
       "    </tr>\n",
       "    <tr>\n",
       "      <th>5</th>\n",
       "      <td>newbalanceOrig</td>\n",
       "      <td>novo saldo após a transação.</td>\n",
       "    </tr>\n",
       "    <tr>\n",
       "      <th>6</th>\n",
       "      <td>nameDest</td>\n",
       "      <td>cliente que é o destinatário da transação</td>\n",
       "    </tr>\n",
       "    <tr>\n",
       "      <th>7</th>\n",
       "      <td>oldbalanceDest</td>\n",
       "      <td>destinatário do saldo inicial antes da transação. Observe que não há informações para clientes que iniciam com M (Comerciantes).</td>\n",
       "    </tr>\n",
       "    <tr>\n",
       "      <th>8</th>\n",
       "      <td>newbalanceDest</td>\n",
       "      <td>novo destinatário do saldo após a transação. Observe que não há informações para clientes que iniciam com M (Comerciantes).</td>\n",
       "    </tr>\n",
       "    <tr>\n",
       "      <th>9</th>\n",
       "      <td>isFraud</td>\n",
       "      <td>São as transações realizadas pelos agentes fraudulentos dentro da simulação. Neste conjunto de dados específico, o comportamento fraudulento dos agentes visa lucrar assumindo o controle das contas dos clientes e tentando esvaziar os fundos transferindo para outra conta e depois sacando do sistema.</td>\n",
       "    </tr>\n",
       "    <tr>\n",
       "      <th>10</th>\n",
       "      <td>isFlaggedFraud</td>\n",
       "      <td>O modelo de negócio visa controlar transferências massivas de uma conta para outra e sinalizar tentativas ilegais. Uma tentativa ilegal neste conjunto de dados é uma tentativa de transferir mais de 200.000 em uma única transação.</td>\n",
       "    </tr>\n",
       "  </tbody>\n",
       "</table>\n",
       "</div>"
      ],
      "text/plain": [
       "                  0                                                                                                                                                                                                                                                                                                             1\n",
       "0             step                                                                                                                                                                                  mapeia uma unidade de tempo no mundo real. Neste caso, 1 passo equivale a 1 hora. Total de passos 744 (simulação de 30 dias).\n",
       "1             type                                                                                                                                                                                                                                                          CASH-IN, CASH-OUT, DÉBITO, PAGAMENTO e TRANSFERÊNCIA.\n",
       "2           amount                                                                                                                                                                                                                                                                             valor da transação em moeda local.\n",
       "3         nameOrig                                                                                                                                                                                                                                                                                cliente que iniciou a transação\n",
       "4    oldbalanceOrg                                                                                                                                                                                                                                                                               saldo inicial antes da transação\n",
       "5   newbalanceOrig                                                                                                                                                                                                                                                                                   novo saldo após a transação.\n",
       "6         nameDest                                                                                                                                                                                                                                                                      cliente que é o destinatário da transação\n",
       "7   oldbalanceDest                                                                                                                                                                               destinatário do saldo inicial antes da transação. Observe que não há informações para clientes que iniciam com M (Comerciantes).\n",
       "8   newbalanceDest                                                                                                                                                                                    novo destinatário do saldo após a transação. Observe que não há informações para clientes que iniciam com M (Comerciantes).\n",
       "9          isFraud     São as transações realizadas pelos agentes fraudulentos dentro da simulação. Neste conjunto de dados específico, o comportamento fraudulento dos agentes visa lucrar assumindo o controle das contas dos clientes e tentando esvaziar os fundos transferindo para outra conta e depois sacando do sistema.\n",
       "10  isFlaggedFraud                                                                          O modelo de negócio visa controlar transferências massivas de uma conta para outra e sinalizar tentativas ilegais. Uma tentativa ilegal neste conjunto de dados é uma tentativa de transferir mais de 200.000 em uma única transação."
      ]
     },
     "execution_count": 7,
     "metadata": {},
     "output_type": "execute_result"
    }
   ],
   "source": [
    "dicionario = pd.read_csv('/kaggle/input/datasetinf/describe.csv', delimiter=';', header=None, encoding='latin1', index_col=None)\n",
    "dicionario"
   ]
  },
  {
   "cell_type": "markdown",
   "id": "037222cd",
   "metadata": {
    "papermill": {
     "duration": 0.012224,
     "end_time": "2023-12-02T00:41:52.560722",
     "exception": false,
     "start_time": "2023-12-02T00:41:52.548498",
     "status": "completed"
    },
    "tags": []
   },
   "source": [
    "***\n",
    "# 2) Coleta e preparação dos dados"
   ]
  },
  {
   "cell_type": "markdown",
   "id": "83ecb739",
   "metadata": {
    "papermill": {
     "duration": 0.012293,
     "end_time": "2023-12-02T00:41:52.585680",
     "exception": false,
     "start_time": "2023-12-02T00:41:52.573387",
     "status": "completed"
    },
    "tags": []
   },
   "source": [
    "## 2.1) Coleta dos dados - Modelagem"
   ]
  },
  {
   "cell_type": "code",
   "execution_count": 8,
   "id": "9fe46e76",
   "metadata": {
    "execution": {
     "iopub.execute_input": "2023-12-02T00:41:52.612396Z",
     "iopub.status.busy": "2023-12-02T00:41:52.612067Z",
     "iopub.status.idle": "2023-12-02T00:42:08.686014Z",
     "shell.execute_reply": "2023-12-02T00:42:08.684635Z"
    },
    "papermill": {
     "duration": 16.090225,
     "end_time": "2023-12-02T00:42:08.688672",
     "exception": false,
     "start_time": "2023-12-02T00:41:52.598447",
     "status": "completed"
    },
    "tags": []
   },
   "outputs": [
    {
     "name": "stdout",
     "output_type": "stream",
     "text": [
      "   step      type    amount     nameOrig  oldbalanceOrg  newbalanceOrig     nameDest  oldbalanceDest  newbalanceDest  isFraud\n",
      "0     1   PAYMENT   9839.64  C1231006815       170136.0       160296.36  M1979787155             0.0             0.0        0\n",
      "1     1   PAYMENT   1864.28  C1666544295        21249.0        19384.72  M2044282225             0.0             0.0        0\n",
      "2     1  TRANSFER    181.00  C1305486145          181.0            0.00   C553264065             0.0             0.0        1\n",
      "3     1  CASH_OUT    181.00   C840083671          181.0            0.00    C38997010         21182.0             0.0        1\n",
      "4     1   PAYMENT  11668.14  C2048537720        41554.0        29885.86  M1230701703             0.0             0.0        0\n"
     ]
    }
   ],
   "source": [
    "# treinamento\n",
    "df = pd.read_csv('/kaggle/input/datasetinf/PS_20174392719_1491204439457_log.csv')\n",
    "\n",
    "# isFlaggedFraud foi excluido pois o modelo pode usar esta coluna como referencia para prever fraudes\n",
    "df = df.drop(['isFlaggedFraud'],axis=1)\n",
    "\n",
    "print(df.head())"
   ]
  },
  {
   "cell_type": "code",
   "execution_count": 9,
   "id": "98e79989",
   "metadata": {
    "execution": {
     "iopub.execute_input": "2023-12-02T00:42:08.739971Z",
     "iopub.status.busy": "2023-12-02T00:42:08.739585Z",
     "iopub.status.idle": "2023-12-02T00:42:08.747959Z",
     "shell.execute_reply": "2023-12-02T00:42:08.746803Z"
    },
    "papermill": {
     "duration": 0.024537,
     "end_time": "2023-12-02T00:42:08.750479",
     "exception": false,
     "start_time": "2023-12-02T00:42:08.725942",
     "status": "completed"
    },
    "tags": []
   },
   "outputs": [
    {
     "data": {
      "text/plain": [
       "(6362620, 10)"
      ]
     },
     "execution_count": 9,
     "metadata": {},
     "output_type": "execute_result"
    }
   ],
   "source": [
    "df.shape"
   ]
  },
  {
   "cell_type": "markdown",
   "id": "1a92247a",
   "metadata": {
    "papermill": {
     "duration": 0.013284,
     "end_time": "2023-12-02T00:42:08.850491",
     "exception": false,
     "start_time": "2023-12-02T00:42:08.837207",
     "status": "completed"
    },
    "tags": []
   },
   "source": [
    "## 2.2) Checar dados faltantes"
   ]
  },
  {
   "cell_type": "code",
   "execution_count": 12,
   "id": "b492ea56",
   "metadata": {
    "execution": {
     "iopub.execute_input": "2023-12-02T00:42:08.879472Z",
     "iopub.status.busy": "2023-12-02T00:42:08.879123Z",
     "iopub.status.idle": "2023-12-02T00:42:09.492587Z",
     "shell.execute_reply": "2023-12-02T00:42:09.491208Z"
    },
    "papermill": {
     "duration": 0.629817,
     "end_time": "2023-12-02T00:42:09.494970",
     "exception": false,
     "start_time": "2023-12-02T00:42:08.865153",
     "status": "completed"
    },
    "tags": []
   },
   "outputs": [
    {
     "name": "stdout",
     "output_type": "stream",
     "text": [
      "Dados com NaN:\n",
      "Series([], dtype: int64)\n",
      "\n",
      "columns_with_nan.shape (0,)\n",
      "\n"
     ]
    }
   ],
   "source": [
    "just_check_nan(df)"
   ]
  },
  {
   "cell_type": "markdown",
   "id": "5587bde6",
   "metadata": {
    "papermill": {
     "duration": 0.01351,
     "end_time": "2023-12-02T00:42:09.521596",
     "exception": false,
     "start_time": "2023-12-02T00:42:09.508086",
     "status": "completed"
    },
    "tags": []
   },
   "source": [
    "## 2.3) Apagando dados faltantes\n",
    "\n",
    "No caso deste problema, não há dados faltantes.\n",
    "\n",
    "Quando houver dados faltantes, o ideal é averiguar com a área requisitante o motivo dos dados faltantes, e se mesmo assim persistir a falta, podemos:\n",
    "\n",
    "   - Fill nos dados faltantes com:\n",
    "       - Valores fixos (SimpleImputer)\n",
    "       - Valores Média, Mediana e Moda (reduz a variação no conjunto de dados)\n",
    "       - Previsão (KNN)\n"
   ]
  },
  {
   "cell_type": "markdown",
   "id": "c4b2777a",
   "metadata": {
    "papermill": {
     "duration": 0.013044,
     "end_time": "2023-12-02T00:42:09.548390",
     "exception": false,
     "start_time": "2023-12-02T00:42:09.535346",
     "status": "completed"
    },
    "tags": []
   },
   "source": [
    "### 2.3.1) Exemplos de possiveis tratamentos de dados"
   ]
  },
  {
   "cell_type": "code",
   "execution_count": 13,
   "id": "beaf7ede",
   "metadata": {
    "execution": {
     "iopub.execute_input": "2023-12-02T00:42:09.579042Z",
     "iopub.status.busy": "2023-12-02T00:42:09.578193Z",
     "iopub.status.idle": "2023-12-02T00:42:09.584432Z",
     "shell.execute_reply": "2023-12-02T00:42:09.582805Z"
    },
    "papermill": {
     "duration": 0.025037,
     "end_time": "2023-12-02T00:42:09.588242",
     "exception": false,
     "start_time": "2023-12-02T00:42:09.563205",
     "status": "completed"
    },
    "tags": []
   },
   "outputs": [],
   "source": [
    "### Se houvesse dados faltantes, rodaria a função abaixo para deletar linhas faltantes, caso fosse seguir este caminho\n",
    "# df_dropped = df.dropna().reset_index(drop=True) \n",
    "\n",
    "### Preencher NaN com a média de cada coluna\n",
    "# df_media = df.fillna(df.mean())\n",
    "\n",
    "### Preencher NaN com a mediana de cada coluna\n",
    "# df_mediana = df.fillna(df.median())\n",
    "\n",
    "### Preencher NaN com a moda de cada coluna\n",
    "# df_moda = df.apply(lambda x: x.fillna(x.mode().iloc[0]))\n"
   ]
  },
  {
   "cell_type": "markdown",
   "id": "ac849d11",
   "metadata": {
    "papermill": {
     "duration": 0.012383,
     "end_time": "2023-12-02T00:42:09.614402",
     "exception": false,
     "start_time": "2023-12-02T00:42:09.602019",
     "status": "completed"
    },
    "tags": []
   },
   "source": [
    "### 2.3.2) Checando novamente dados faltantes"
   ]
  },
  {
   "cell_type": "code",
   "execution_count": 14,
   "id": "aaff13ac",
   "metadata": {
    "execution": {
     "iopub.execute_input": "2023-12-02T00:42:09.642884Z",
     "iopub.status.busy": "2023-12-02T00:42:09.642298Z",
     "iopub.status.idle": "2023-12-02T00:42:09.647363Z",
     "shell.execute_reply": "2023-12-02T00:42:09.645652Z"
    },
    "papermill": {
     "duration": 0.022902,
     "end_time": "2023-12-02T00:42:09.649661",
     "exception": false,
     "start_time": "2023-12-02T00:42:09.626759",
     "status": "completed"
    },
    "tags": []
   },
   "outputs": [],
   "source": [
    "# just_check_nan(df_dropped)"
   ]
  },
  {
   "cell_type": "markdown",
   "id": "08ddc57d",
   "metadata": {
    "papermill": {
     "duration": 0.012442,
     "end_time": "2023-12-02T00:42:09.675320",
     "exception": false,
     "start_time": "2023-12-02T00:42:09.662878",
     "status": "completed"
    },
    "tags": []
   },
   "source": [
    "### 2.3.2) Checagem e mudança de Tipagem"
   ]
  },
  {
   "cell_type": "code",
   "execution_count": 15,
   "id": "f86b7829",
   "metadata": {
    "execution": {
     "iopub.execute_input": "2023-12-02T00:42:09.702643Z",
     "iopub.status.busy": "2023-12-02T00:42:09.702233Z",
     "iopub.status.idle": "2023-12-02T00:42:09.724945Z",
     "shell.execute_reply": "2023-12-02T00:42:09.723403Z"
    },
    "papermill": {
     "duration": 0.039326,
     "end_time": "2023-12-02T00:42:09.727195",
     "exception": false,
     "start_time": "2023-12-02T00:42:09.687869",
     "status": "completed"
    },
    "tags": []
   },
   "outputs": [
    {
     "name": "stdout",
     "output_type": "stream",
     "text": [
      "<class 'pandas.core.frame.DataFrame'>\n",
      "RangeIndex: 6362620 entries, 0 to 6362619\n",
      "Data columns (total 10 columns):\n",
      " #   Column          Dtype  \n",
      "---  ------          -----  \n",
      " 0   step            int64  \n",
      " 1   type            object \n",
      " 2   amount          float64\n",
      " 3   nameOrig        object \n",
      " 4   oldbalanceOrg   float64\n",
      " 5   newbalanceOrig  float64\n",
      " 6   nameDest        object \n",
      " 7   oldbalanceDest  float64\n",
      " 8   newbalanceDest  float64\n",
      " 9   isFraud         int64  \n",
      "dtypes: float64(5), int64(2), object(3)\n",
      "memory usage: 485.4+ MB\n"
     ]
    }
   ],
   "source": [
    "df.info()"
   ]
  },
  {
   "cell_type": "markdown",
   "id": "8634db70",
   "metadata": {
    "papermill": {
     "duration": 0.01251,
     "end_time": "2023-12-02T00:42:09.753386",
     "exception": false,
     "start_time": "2023-12-02T00:42:09.740876",
     "status": "completed"
    },
    "tags": []
   },
   "source": [
    "## 2.4) Preparação dos dados"
   ]
  },
  {
   "cell_type": "markdown",
   "id": "f2170c58",
   "metadata": {
    "papermill": {
     "duration": 0.012566,
     "end_time": "2023-12-02T00:42:09.778490",
     "exception": false,
     "start_time": "2023-12-02T00:42:09.765924",
     "status": "completed"
    },
    "tags": []
   },
   "source": [
    "### 2.4.1) Seleção de Features - Feature Importance - Criado em outro notebook (2_infracom-feature-importance)"
   ]
  },
  {
   "cell_type": "code",
   "execution_count": 16,
   "id": "016e9930",
   "metadata": {
    "execution": {
     "iopub.execute_input": "2023-12-02T00:42:09.806858Z",
     "iopub.status.busy": "2023-12-02T00:42:09.806454Z",
     "iopub.status.idle": "2023-12-02T00:42:10.079179Z",
     "shell.execute_reply": "2023-12-02T00:42:10.077263Z"
    },
    "papermill": {
     "duration": 0.290573,
     "end_time": "2023-12-02T00:42:10.082175",
     "exception": false,
     "start_time": "2023-12-02T00:42:09.791602",
     "status": "completed"
    },
    "tags": []
   },
   "outputs": [
    {
     "data": {
      "text/html": [
       "<div>\n",
       "<style scoped>\n",
       "    .dataframe tbody tr th:only-of-type {\n",
       "        vertical-align: middle;\n",
       "    }\n",
       "\n",
       "    .dataframe tbody tr th {\n",
       "        vertical-align: top;\n",
       "    }\n",
       "\n",
       "    .dataframe thead th {\n",
       "        text-align: right;\n",
       "    }\n",
       "</style>\n",
       "<table border=\"1\" class=\"dataframe\">\n",
       "  <thead>\n",
       "    <tr style=\"text-align: right;\">\n",
       "      <th></th>\n",
       "      <th>step</th>\n",
       "      <th>type</th>\n",
       "      <th>amount</th>\n",
       "      <th>nameOrig</th>\n",
       "      <th>oldbalanceOrg</th>\n",
       "      <th>newbalanceOrig</th>\n",
       "      <th>nameDest</th>\n",
       "      <th>oldbalanceDest</th>\n",
       "      <th>newbalanceDest</th>\n",
       "    </tr>\n",
       "  </thead>\n",
       "  <tbody>\n",
       "    <tr>\n",
       "      <th>0</th>\n",
       "      <td>1</td>\n",
       "      <td>PAYMENT</td>\n",
       "      <td>9839.64</td>\n",
       "      <td>C1231006815</td>\n",
       "      <td>170136.00</td>\n",
       "      <td>160296.36</td>\n",
       "      <td>M1979787155</td>\n",
       "      <td>0.00</td>\n",
       "      <td>0.00</td>\n",
       "    </tr>\n",
       "    <tr>\n",
       "      <th>1</th>\n",
       "      <td>1</td>\n",
       "      <td>PAYMENT</td>\n",
       "      <td>1864.28</td>\n",
       "      <td>C1666544295</td>\n",
       "      <td>21249.00</td>\n",
       "      <td>19384.72</td>\n",
       "      <td>M2044282225</td>\n",
       "      <td>0.00</td>\n",
       "      <td>0.00</td>\n",
       "    </tr>\n",
       "    <tr>\n",
       "      <th>2</th>\n",
       "      <td>1</td>\n",
       "      <td>TRANSFER</td>\n",
       "      <td>181.00</td>\n",
       "      <td>C1305486145</td>\n",
       "      <td>181.00</td>\n",
       "      <td>0.00</td>\n",
       "      <td>C553264065</td>\n",
       "      <td>0.00</td>\n",
       "      <td>0.00</td>\n",
       "    </tr>\n",
       "    <tr>\n",
       "      <th>3</th>\n",
       "      <td>1</td>\n",
       "      <td>CASH_OUT</td>\n",
       "      <td>181.00</td>\n",
       "      <td>C840083671</td>\n",
       "      <td>181.00</td>\n",
       "      <td>0.00</td>\n",
       "      <td>C38997010</td>\n",
       "      <td>21182.00</td>\n",
       "      <td>0.00</td>\n",
       "    </tr>\n",
       "    <tr>\n",
       "      <th>4</th>\n",
       "      <td>1</td>\n",
       "      <td>PAYMENT</td>\n",
       "      <td>11668.14</td>\n",
       "      <td>C2048537720</td>\n",
       "      <td>41554.00</td>\n",
       "      <td>29885.86</td>\n",
       "      <td>M1230701703</td>\n",
       "      <td>0.00</td>\n",
       "      <td>0.00</td>\n",
       "    </tr>\n",
       "    <tr>\n",
       "      <th>...</th>\n",
       "      <td>...</td>\n",
       "      <td>...</td>\n",
       "      <td>...</td>\n",
       "      <td>...</td>\n",
       "      <td>...</td>\n",
       "      <td>...</td>\n",
       "      <td>...</td>\n",
       "      <td>...</td>\n",
       "      <td>...</td>\n",
       "    </tr>\n",
       "    <tr>\n",
       "      <th>6362615</th>\n",
       "      <td>743</td>\n",
       "      <td>CASH_OUT</td>\n",
       "      <td>339682.13</td>\n",
       "      <td>C786484425</td>\n",
       "      <td>339682.13</td>\n",
       "      <td>0.00</td>\n",
       "      <td>C776919290</td>\n",
       "      <td>0.00</td>\n",
       "      <td>339682.13</td>\n",
       "    </tr>\n",
       "    <tr>\n",
       "      <th>6362616</th>\n",
       "      <td>743</td>\n",
       "      <td>TRANSFER</td>\n",
       "      <td>6311409.28</td>\n",
       "      <td>C1529008245</td>\n",
       "      <td>6311409.28</td>\n",
       "      <td>0.00</td>\n",
       "      <td>C1881841831</td>\n",
       "      <td>0.00</td>\n",
       "      <td>0.00</td>\n",
       "    </tr>\n",
       "    <tr>\n",
       "      <th>6362617</th>\n",
       "      <td>743</td>\n",
       "      <td>CASH_OUT</td>\n",
       "      <td>6311409.28</td>\n",
       "      <td>C1162922333</td>\n",
       "      <td>6311409.28</td>\n",
       "      <td>0.00</td>\n",
       "      <td>C1365125890</td>\n",
       "      <td>68488.84</td>\n",
       "      <td>6379898.11</td>\n",
       "    </tr>\n",
       "    <tr>\n",
       "      <th>6362618</th>\n",
       "      <td>743</td>\n",
       "      <td>TRANSFER</td>\n",
       "      <td>850002.52</td>\n",
       "      <td>C1685995037</td>\n",
       "      <td>850002.52</td>\n",
       "      <td>0.00</td>\n",
       "      <td>C2080388513</td>\n",
       "      <td>0.00</td>\n",
       "      <td>0.00</td>\n",
       "    </tr>\n",
       "    <tr>\n",
       "      <th>6362619</th>\n",
       "      <td>743</td>\n",
       "      <td>CASH_OUT</td>\n",
       "      <td>850002.52</td>\n",
       "      <td>C1280323807</td>\n",
       "      <td>850002.52</td>\n",
       "      <td>0.00</td>\n",
       "      <td>C873221189</td>\n",
       "      <td>6510099.11</td>\n",
       "      <td>7360101.63</td>\n",
       "    </tr>\n",
       "  </tbody>\n",
       "</table>\n",
       "<p>6362620 rows × 9 columns</p>\n",
       "</div>"
      ],
      "text/plain": [
       "         step      type      amount     nameOrig  oldbalanceOrg  newbalanceOrig     nameDest  oldbalanceDest  newbalanceDest\n",
       "0           1   PAYMENT     9839.64  C1231006815      170136.00       160296.36  M1979787155            0.00            0.00\n",
       "1           1   PAYMENT     1864.28  C1666544295       21249.00        19384.72  M2044282225            0.00            0.00\n",
       "2           1  TRANSFER      181.00  C1305486145         181.00            0.00   C553264065            0.00            0.00\n",
       "3           1  CASH_OUT      181.00   C840083671         181.00            0.00    C38997010        21182.00            0.00\n",
       "4           1   PAYMENT    11668.14  C2048537720       41554.00        29885.86  M1230701703            0.00            0.00\n",
       "...       ...       ...         ...          ...            ...             ...          ...             ...             ...\n",
       "6362615   743  CASH_OUT   339682.13   C786484425      339682.13            0.00   C776919290            0.00       339682.13\n",
       "6362616   743  TRANSFER  6311409.28  C1529008245     6311409.28            0.00  C1881841831            0.00            0.00\n",
       "6362617   743  CASH_OUT  6311409.28  C1162922333     6311409.28            0.00  C1365125890        68488.84      6379898.11\n",
       "6362618   743  TRANSFER   850002.52  C1685995037      850002.52            0.00  C2080388513            0.00            0.00\n",
       "6362619   743  CASH_OUT   850002.52  C1280323807      850002.52            0.00   C873221189      6510099.11      7360101.63\n",
       "\n",
       "[6362620 rows x 9 columns]"
      ]
     },
     "execution_count": 16,
     "metadata": {},
     "output_type": "execute_result"
    }
   ],
   "source": [
    "X = df.drop(['isFraud'], axis=1) # escolhidas Feature Importance - Criado em outro notebook\n",
    "\n",
    "X"
   ]
  },
  {
   "cell_type": "markdown",
   "id": "a032dc4e",
   "metadata": {
    "papermill": {
     "duration": 0.013654,
     "end_time": "2023-12-02T00:42:10.109835",
     "exception": false,
     "start_time": "2023-12-02T00:42:10.096181",
     "status": "completed"
    },
    "tags": []
   },
   "source": [
    "### 2.4.2) Seleção do Target - Classe extremamente desbalanceada, será usado oversampling SMOTE para equilibrar as classes para o treinamento"
   ]
  },
  {
   "cell_type": "code",
   "execution_count": 17,
   "id": "e948489a",
   "metadata": {
    "execution": {
     "iopub.execute_input": "2023-12-02T00:42:10.139142Z",
     "iopub.status.busy": "2023-12-02T00:42:10.138685Z",
     "iopub.status.idle": "2023-12-02T00:42:10.144347Z",
     "shell.execute_reply": "2023-12-02T00:42:10.143188Z"
    },
    "papermill": {
     "duration": 0.023559,
     "end_time": "2023-12-02T00:42:10.146967",
     "exception": false,
     "start_time": "2023-12-02T00:42:10.123408",
     "status": "completed"
    },
    "tags": []
   },
   "outputs": [],
   "source": [
    "# define target\n",
    "y = df['isFraud']"
   ]
  },
  {
   "cell_type": "code",
   "execution_count": 18,
   "id": "86aebd34",
   "metadata": {
    "execution": {
     "iopub.execute_input": "2023-12-02T00:42:10.177195Z",
     "iopub.status.busy": "2023-12-02T00:42:10.176742Z",
     "iopub.status.idle": "2023-12-02T00:42:10.984746Z",
     "shell.execute_reply": "2023-12-02T00:42:10.983307Z"
    },
    "papermill": {
     "duration": 0.826061,
     "end_time": "2023-12-02T00:42:10.987467",
     "exception": false,
     "start_time": "2023-12-02T00:42:10.161406",
     "status": "completed"
    },
    "tags": []
   },
   "outputs": [
    {
     "data": {
      "text/plain": [
       "Counter({0: 6354407, 1: 8213})"
      ]
     },
     "execution_count": 18,
     "metadata": {},
     "output_type": "execute_result"
    }
   ],
   "source": [
    "# contagem de classes\n",
    "c_y = Counter(y)\n",
    "c_y"
   ]
  },
  {
   "cell_type": "code",
   "execution_count": 19,
   "id": "41db4e99",
   "metadata": {
    "execution": {
     "iopub.execute_input": "2023-12-02T00:42:11.017732Z",
     "iopub.status.busy": "2023-12-02T00:42:11.017360Z",
     "iopub.status.idle": "2023-12-02T00:42:11.318781Z",
     "shell.execute_reply": "2023-12-02T00:42:11.316908Z"
    },
    "papermill": {
     "duration": 0.320119,
     "end_time": "2023-12-02T00:42:11.321568",
     "exception": false,
     "start_time": "2023-12-02T00:42:11.001449",
     "status": "completed"
    },
    "tags": []
   },
   "outputs": [
    {
     "data": {
      "image/png": "[encoded data removed]",
      "text/plain": [
       "<Figure size 500x400 with 1 Axes>"
      ]
     },
     "metadata": {},
     "output_type": "display_data"
    }
   ],
   "source": [
    "plot_feature_freq(df, 'isFraud')"
   ]
  },
  {
   "cell_type": "markdown",
   "id": "23647dc1",
   "metadata": {
    "papermill": {
     "duration": 0.013819,
     "end_time": "2023-12-02T00:42:11.349435",
     "exception": false,
     "start_time": "2023-12-02T00:42:11.335616",
     "status": "completed"
    },
    "tags": []
   },
   "source": [
    "### 2.4.3) Variaveis Categoricas"
   ]
  },
  {
   "cell_type": "code",
   "execution_count": 20,
   "id": "fd0ed4da",
   "metadata": {
    "execution": {
     "iopub.execute_input": "2023-12-02T00:42:11.380441Z",
     "iopub.status.busy": "2023-12-02T00:42:11.380073Z",
     "iopub.status.idle": "2023-12-02T00:42:11.387946Z",
     "shell.execute_reply": "2023-12-02T00:42:11.386485Z"
    },
    "papermill": {
     "duration": 0.026127,
     "end_time": "2023-12-02T00:42:11.390162",
     "exception": false,
     "start_time": "2023-12-02T00:42:11.364035",
     "status": "completed"
    },
    "tags": []
   },
   "outputs": [
    {
     "name": "stdout",
     "output_type": "stream",
     "text": [
      "Categorical variables:  3\n",
      "['type', 'nameOrig', 'nameDest']\n"
     ]
    }
   ],
   "source": [
    "# Criando uma lista de variaveis categoricas\n",
    "s = (X.dtypes == 'object')\n",
    "object_cols = list(s[s].index)\n",
    "print(\"Categorical variables: \", len(object_cols))\n",
    "print(object_cols)"
   ]
  },
  {
   "cell_type": "markdown",
   "id": "0aa0fca6",
   "metadata": {
    "papermill": {
     "duration": 0.014961,
     "end_time": "2023-12-02T00:42:11.420351",
     "exception": false,
     "start_time": "2023-12-02T00:42:11.405390",
     "status": "completed"
    },
    "tags": []
   },
   "source": [
    "### 2.4.4) Variaveis Numéricas"
   ]
  },
  {
   "cell_type": "code",
   "execution_count": 21,
   "id": "72cda1d0",
   "metadata": {
    "execution": {
     "iopub.execute_input": "2023-12-02T00:42:11.451482Z",
     "iopub.status.busy": "2023-12-02T00:42:11.451096Z",
     "iopub.status.idle": "2023-12-02T00:42:11.459159Z",
     "shell.execute_reply": "2023-12-02T00:42:11.457448Z"
    },
    "papermill": {
     "duration": 0.026124,
     "end_time": "2023-12-02T00:42:11.461357",
     "exception": false,
     "start_time": "2023-12-02T00:42:11.435233",
     "status": "completed"
    },
    "tags": []
   },
   "outputs": [
    {
     "name": "stdout",
     "output_type": "stream",
     "text": [
      "Numerical variables:  6\n",
      "['step', 'amount', 'oldbalanceOrg', 'newbalanceOrig', 'oldbalanceDest', 'newbalanceDest']\n"
     ]
    }
   ],
   "source": [
    "# Criando uma lista de variaveis numéricas\n",
    "numerical_cols = [cname for cname in X.columns if X[cname].dtype in ['int64', 'float64']]\n",
    "print(\"Numerical variables: \", len(numerical_cols))\n",
    "print(numerical_cols)"
   ]
  },
  {
   "cell_type": "markdown",
   "id": "248f07f8",
   "metadata": {
    "papermill": {
     "duration": 0.0143,
     "end_time": "2023-12-02T00:42:11.490973",
     "exception": false,
     "start_time": "2023-12-02T00:42:11.476673",
     "status": "completed"
    },
    "tags": []
   },
   "source": [
    "***\n",
    "# 3) Modelagem dos dados"
   ]
  },
  {
   "cell_type": "markdown",
   "id": "54d6b42b",
   "metadata": {
    "papermill": {
     "duration": 0.013924,
     "end_time": "2023-12-02T00:42:11.519282",
     "exception": false,
     "start_time": "2023-12-02T00:42:11.505358",
     "status": "completed"
    },
    "tags": []
   },
   "source": [
    "## 3.1) Dividindo as features em dados de treino e validação"
   ]
  },
  {
   "cell_type": "markdown",
   "id": "af41936d",
   "metadata": {
    "papermill": {
     "duration": 0.014053,
     "end_time": "2023-12-02T00:42:11.547496",
     "exception": false,
     "start_time": "2023-12-02T00:42:11.533443",
     "status": "completed"
    },
    "tags": []
   },
   "source": [
    "stratify é útil para garantir que a distribuição das classes (ou características importantes) seja mantida em ambas as partes do conjunto de dados. Isso é especialmente importante quando se trabalha com conjuntos de dados desbalanceados, nos quais as classes têm números discrepantes de amostras."
   ]
  },
  {
   "cell_type": "code",
   "execution_count": 22,
   "id": "298ad5dd",
   "metadata": {
    "execution": {
     "iopub.execute_input": "2023-12-02T00:42:11.579571Z",
     "iopub.status.busy": "2023-12-02T00:42:11.579160Z",
     "iopub.status.idle": "2023-12-02T00:42:17.999570Z",
     "shell.execute_reply": "2023-12-02T00:42:17.998045Z"
    },
    "papermill": {
     "duration": 6.43904,
     "end_time": "2023-12-02T00:42:18.002005",
     "exception": false,
     "start_time": "2023-12-02T00:42:11.562965",
     "status": "completed"
    },
    "tags": []
   },
   "outputs": [],
   "source": [
    "# Dividindo as features em dados de treino e teste\n",
    "X_train, X_val, y_train, y_val = train_test_split(X, \n",
    "                                                  y, \n",
    "                                                  test_size=0.7, \n",
    "                                                  stratify=y, # garantir a distribuição das classes seja mantida no conjunto de dados\n",
    "                                                  random_state = 2048)"
   ]
  },
  {
   "cell_type": "markdown",
   "id": "f95bac9b",
   "metadata": {
    "papermill": {
     "duration": 0.014192,
     "end_time": "2023-12-02T00:42:18.031408",
     "exception": false,
     "start_time": "2023-12-02T00:42:18.017216",
     "status": "completed"
    },
    "tags": []
   },
   "source": [
    "## 3.2) Pipeline "
   ]
  },
  {
   "cell_type": "markdown",
   "id": "bbe96427",
   "metadata": {
    "papermill": {
     "duration": 0.014273,
     "end_time": "2023-12-02T00:42:18.061723",
     "exception": false,
     "start_time": "2023-12-02T00:42:18.047450",
     "status": "completed"
    },
    "tags": []
   },
   "source": [
    "### 3.1) Pré-processamento para Dados Numéricos\n",
    "\n",
    "StandardScaler resulta em uma distribuição com desvio padrão igual a 1. A variância também é igual a 1, porque variância = desvio padrão ao quadrado. E 1 ao quadrado = 1.\n",
    "\n",
    "StandardScaler torna a média da distribuição 0. Cerca de 68% dos valores estarão entre -1 e 1.\n",
    "\n",
    "Os algoritmos de aprendizado profundo geralmente exigem média zero e variação de unidade. Algoritmos do tipo regressão também se beneficiam de dados normalmente distribuídos com tamanhos de amostra pequenos."
   ]
  },
  {
   "cell_type": "code",
   "execution_count": 23,
   "id": "45fe6d55",
   "metadata": {
    "execution": {
     "iopub.execute_input": "2023-12-02T00:42:18.092481Z",
     "iopub.status.busy": "2023-12-02T00:42:18.091913Z",
     "iopub.status.idle": "2023-12-02T00:42:18.096072Z",
     "shell.execute_reply": "2023-12-02T00:42:18.094958Z"
    },
    "papermill": {
     "duration": 0.021757,
     "end_time": "2023-12-02T00:42:18.097889",
     "exception": false,
     "start_time": "2023-12-02T00:42:18.076132",
     "status": "completed"
    },
    "tags": []
   },
   "outputs": [],
   "source": [
    "# Pré-processamento para Dados Numéricos\n",
    "numerical_transformer = Pipeline([\n",
    "                                  ('scaler', StandardScaler())\n",
    "                                 ])"
   ]
  },
  {
   "cell_type": "markdown",
   "id": "9dd2faec",
   "metadata": {
    "papermill": {
     "duration": 0.013764,
     "end_time": "2023-12-02T00:42:18.126085",
     "exception": false,
     "start_time": "2023-12-02T00:42:18.112321",
     "status": "completed"
    },
    "tags": []
   },
   "source": [
    "### 3.2) Pré-processamento para Dados Categóricos"
   ]
  },
  {
   "cell_type": "code",
   "execution_count": 24,
   "id": "297e6510",
   "metadata": {
    "execution": {
     "iopub.execute_input": "2023-12-02T00:42:18.156774Z",
     "iopub.status.busy": "2023-12-02T00:42:18.156091Z",
     "iopub.status.idle": "2023-12-02T00:42:18.160935Z",
     "shell.execute_reply": "2023-12-02T00:42:18.159370Z"
    },
    "papermill": {
     "duration": 0.023714,
     "end_time": "2023-12-02T00:42:18.163501",
     "exception": false,
     "start_time": "2023-12-02T00:42:18.139787",
     "status": "completed"
    },
    "tags": []
   },
   "outputs": [],
   "source": [
    "# Pré-processamento para Dados Categóricos\n",
    "categorical_transformer = Pipeline([\n",
    "                                    ('onehot', OneHotEncoder(handle_unknown='ignore'))\n",
    "                                   ])"
   ]
  },
  {
   "cell_type": "markdown",
   "id": "388c814e",
   "metadata": {
    "papermill": {
     "duration": 0.015116,
     "end_time": "2023-12-02T00:42:18.193742",
     "exception": false,
     "start_time": "2023-12-02T00:42:18.178626",
     "status": "completed"
    },
    "tags": []
   },
   "source": [
    "### 3.3) Pré-processamento de pacote de dados numéricos e categóricos"
   ]
  },
  {
   "cell_type": "code",
   "execution_count": 25,
   "id": "7322bba3",
   "metadata": {
    "execution": {
     "iopub.execute_input": "2023-12-02T00:42:18.225275Z",
     "iopub.status.busy": "2023-12-02T00:42:18.224902Z",
     "iopub.status.idle": "2023-12-02T00:42:18.230014Z",
     "shell.execute_reply": "2023-12-02T00:42:18.228518Z"
    },
    "papermill": {
     "duration": 0.024207,
     "end_time": "2023-12-02T00:42:18.232486",
     "exception": false,
     "start_time": "2023-12-02T00:42:18.208279",
     "status": "completed"
    },
    "tags": []
   },
   "outputs": [],
   "source": [
    "# Pré-processamento de pacote de dados numéricos e categóricos\n",
    "preprocessor = ColumnTransformer(transformers=[\n",
    "                                                ('num', numerical_transformer, numerical_cols),\n",
    "                                                ('cat', categorical_transformer, object_cols)\n",
    "                                              ], n_jobs=-1)"
   ]
  },
  {
   "cell_type": "markdown",
   "id": "2f63f2c5",
   "metadata": {
    "papermill": {
     "duration": 0.013885,
     "end_time": "2023-12-02T00:42:18.260642",
     "exception": false,
     "start_time": "2023-12-02T00:42:18.246757",
     "status": "completed"
    },
    "tags": []
   },
   "source": [
    "### 3.4) Pipeline"
   ]
  },
  {
   "cell_type": "code",
   "execution_count": 26,
   "id": "d5484b83",
   "metadata": {
    "execution": {
     "iopub.execute_input": "2023-12-02T00:42:18.291610Z",
     "iopub.status.busy": "2023-12-02T00:42:18.291232Z",
     "iopub.status.idle": "2023-12-02T00:42:18.296413Z",
     "shell.execute_reply": "2023-12-02T00:42:18.295540Z"
    },
    "papermill": {
     "duration": 0.02335,
     "end_time": "2023-12-02T00:42:18.298311",
     "exception": false,
     "start_time": "2023-12-02T00:42:18.274961",
     "status": "completed"
    },
    "tags": []
   },
   "outputs": [],
   "source": [
    "pipeline = Pipeline(steps=[\n",
    "                            ('preprocessor', preprocessor),\n",
    "#                             ('imputation', KNNImputer()), # usaria esta função caso optasse em preencher os dados vazios com knn\n",
    "                            ('smote', SMOTE(random_state=42, n_jobs=-1)),\n",
    "                            ('model', XGBClassifier(random_state=2048, n_jobs=-1))\n",
    "                          ])"
   ]
  },
  {
   "cell_type": "markdown",
   "id": "422bbb4e",
   "metadata": {
    "papermill": {
     "duration": 0.016824,
     "end_time": "2023-12-02T00:42:18.329582",
     "exception": false,
     "start_time": "2023-12-02T00:42:18.312758",
     "status": "completed"
    },
    "tags": []
   },
   "source": [
    "### 3.5) Fit"
   ]
  },
  {
   "cell_type": "code",
   "execution_count": 27,
   "id": "46690dca",
   "metadata": {
    "execution": {
     "iopub.execute_input": "2023-12-02T00:42:18.363435Z",
     "iopub.status.busy": "2023-12-02T00:42:18.362815Z",
     "iopub.status.idle": "2023-12-02T00:45:43.305710Z",
     "shell.execute_reply": "2023-12-02T00:45:43.304169Z"
    },
    "papermill": {
     "duration": 204.973963,
     "end_time": "2023-12-02T00:45:43.320687",
     "exception": false,
     "start_time": "2023-12-02T00:42:18.346724",
     "status": "completed"
    },
    "tags": []
   },
   "outputs": [
    {
     "data": {
      "text/html": [
       "<style>#sk-container-id-1 {color: black;background-color: white;}#sk-container-id-1 pre{padding: 0;}#sk-container-id-1 div.sk-toggleable {background-color: white;}#sk-container-id-1 label.sk-toggleable__label {cursor: pointer;display: block;width: 100%;margin-bottom: 0;padding: 0.3em;box-sizing: border-box;text-align: center;}#sk-container-id-1 label.sk-toggleable__label-arrow:before {content: \"▸\";float: left;margin-right: 0.25em;color: #696969;}#sk-container-id-1 label.sk-toggleable__label-arrow:hover:before {color: black;}#sk-container-id-1 div.sk-estimator:hover label.sk-toggleable__label-arrow:before {color: black;}#sk-container-id-1 div.sk-toggleable__content {max-height: 0;max-width: 0;overflow: hidden;text-align: left;background-color: #f0f8ff;}#sk-container-id-1 div.sk-toggleable__content pre {margin: 0.2em;color: black;border-radius: 0.25em;background-color: #f0f8ff;}#sk-container-id-1 input.sk-toggleable__control:checked~div.sk-toggleable__content {max-height: 200px;max-width: 100%;overflow: auto;}#sk-container-id-1 input.sk-toggleable__control:checked~label.sk-toggleable__label-arrow:before {content: \"▾\";}#sk-container-id-1 div.sk-estimator input.sk-toggleable__control:checked~label.sk-toggleable__label {background-color: #d4ebff;}#sk-container-id-1 div.sk-label input.sk-toggleable__control:checked~label.sk-toggleable__label {background-color: #d4ebff;}#sk-container-id-1 input.sk-hidden--visually {border: 0;clip: rect(1px 1px 1px 1px);clip: rect(1px, 1px, 1px, 1px);height: 1px;margin: -1px;overflow: hidden;padding: 0;position: absolute;width: 1px;}#sk-container-id-1 div.sk-estimator {font-family: monospace;background-color: #f0f8ff;border: 1px dotted black;border-radius: 0.25em;box-sizing: border-box;margin-bottom: 0.5em;}#sk-container-id-1 div.sk-estimator:hover {background-color: #d4ebff;}#sk-container-id-1 div.sk-parallel-item::after {content: \"\";width: 100%;border-bottom: 1px solid gray;flex-grow: 1;}#sk-container-id-1 div.sk-label:hover label.sk-toggleable__label {background-color: #d4ebff;}#sk-container-id-1 div.sk-serial::before {content: \"\";position: absolute;border-left: 1px solid gray;box-sizing: border-box;top: 0;bottom: 0;left: 50%;z-index: 0;}#sk-container-id-1 div.sk-serial {display: flex;flex-direction: column;align-items: center;background-color: white;padding-right: 0.2em;padding-left: 0.2em;position: relative;}#sk-container-id-1 div.sk-item {position: relative;z-index: 1;}#sk-container-id-1 div.sk-parallel {display: flex;align-items: stretch;justify-content: center;background-color: white;position: relative;}#sk-container-id-1 div.sk-item::before, #sk-container-id-1 div.sk-parallel-item::before {content: \"\";position: absolute;border-left: 1px solid gray;box-sizing: border-box;top: 0;bottom: 0;left: 50%;z-index: -1;}#sk-container-id-1 div.sk-parallel-item {display: flex;flex-direction: column;z-index: 1;position: relative;background-color: white;}#sk-container-id-1 div.sk-parallel-item:first-child::after {align-self: flex-end;width: 50%;}#sk-container-id-1 div.sk-parallel-item:last-child::after {align-self: flex-start;width: 50%;}#sk-container-id-1 div.sk-parallel-item:only-child::after {width: 0;}#sk-container-id-1 div.sk-dashed-wrapped {border: 1px dashed gray;margin: 0 0.4em 0.5em 0.4em;box-sizing: border-box;padding-bottom: 0.4em;background-color: white;}#sk-container-id-1 div.sk-label label {font-family: monospace;font-weight: bold;display: inline-block;line-height: 1.2em;}#sk-container-id-1 div.sk-label-container {text-align: center;}#sk-container-id-1 div.sk-container {/* jupyter's `normalize.less` sets `[hidden] { display: none; }` but bootstrap.min.css set `[hidden] { display: none !important; }` so we also need the `!important` here to be able to override the default hidden behavior on the sphinx rendered scikit-learn.org. See: https://github.com/scikit-learn/scikit-learn/issues/21755 */display: inline-block !important;position: relative;}#sk-container-id-1 div.sk-text-repr-fallback {display: none;}</style><div id=\"sk-container-id-1\" class=\"sk-top-container\"><div class=\"sk-text-repr-fallback\"><pre>Pipeline(steps=[(&#x27;preprocessor&#x27;,\n",
       "                 ColumnTransformer(n_jobs=-1,\n",
       "                                   transformers=[(&#x27;num&#x27;,\n",
       "                                                  Pipeline(steps=[(&#x27;scaler&#x27;,\n",
       "                                                                   StandardScaler())]),\n",
       "                                                  [&#x27;step&#x27;, &#x27;amount&#x27;,\n",
       "                                                   &#x27;oldbalanceOrg&#x27;,\n",
       "                                                   &#x27;newbalanceOrig&#x27;,\n",
       "                                                   &#x27;oldbalanceDest&#x27;,\n",
       "                                                   &#x27;newbalanceDest&#x27;]),\n",
       "                                                 (&#x27;cat&#x27;,\n",
       "                                                  Pipeline(steps=[(&#x27;onehot&#x27;,\n",
       "                                                                   OneHotEncoder(handle_unknown=&#x27;ignore&#x27;))]),\n",
       "                                                  [&#x27;type&#x27;, &#x27;nameOrig&#x27;,\n",
       "                                                   &#x27;nameDest&#x27;])])),\n",
       "                (&#x27;smote&#x27;, SMOTE(n_jobs=-1, ra...\n",
       "                               feature_types=None, gamma=None, grow_policy=None,\n",
       "                               importance_type=None,\n",
       "                               interaction_constraints=None, learning_rate=None,\n",
       "                               max_bin=None, max_cat_threshold=None,\n",
       "                               max_cat_to_onehot=None, max_delta_step=None,\n",
       "                               max_depth=None, max_leaves=None,\n",
       "                               min_child_weight=None, missing=nan,\n",
       "                               monotone_constraints=None, multi_strategy=None,\n",
       "                               n_estimators=None, n_jobs=-1,\n",
       "                               num_parallel_tree=None, random_state=2048, ...))])</pre><b>In a Jupyter environment, please rerun this cell to show the HTML representation or trust the notebook. <br />On GitHub, the HTML representation is unable to render, please try loading this page with nbviewer.org.</b></div><div class=\"sk-container\" hidden><div class=\"sk-item sk-dashed-wrapped\"><div class=\"sk-label-container\"><div class=\"sk-label sk-toggleable\"><input class=\"sk-toggleable__control sk-hidden--visually\" id=\"sk-estimator-id-1\" type=\"checkbox\" ><label for=\"sk-estimator-id-1\" class=\"sk-toggleable__label sk-toggleable__label-arrow\">Pipeline</label><div class=\"sk-toggleable__content\"><pre>Pipeline(steps=[(&#x27;preprocessor&#x27;,\n",
       "                 ColumnTransformer(n_jobs=-1,\n",
       "                                   transformers=[(&#x27;num&#x27;,\n",
       "                                                  Pipeline(steps=[(&#x27;scaler&#x27;,\n",
       "                                                                   StandardScaler())]),\n",
       "                                                  [&#x27;step&#x27;, &#x27;amount&#x27;,\n",
       "                                                   &#x27;oldbalanceOrg&#x27;,\n",
       "                                                   &#x27;newbalanceOrig&#x27;,\n",
       "                                                   &#x27;oldbalanceDest&#x27;,\n",
       "                                                   &#x27;newbalanceDest&#x27;]),\n",
       "                                                 (&#x27;cat&#x27;,\n",
       "                                                  Pipeline(steps=[(&#x27;onehot&#x27;,\n",
       "                                                                   OneHotEncoder(handle_unknown=&#x27;ignore&#x27;))]),\n",
       "                                                  [&#x27;type&#x27;, &#x27;nameOrig&#x27;,\n",
       "                                                   &#x27;nameDest&#x27;])])),\n",
       "                (&#x27;smote&#x27;, SMOTE(n_jobs=-1, ra...\n",
       "                               feature_types=None, gamma=None, grow_policy=None,\n",
       "                               importance_type=None,\n",
       "                               interaction_constraints=None, learning_rate=None,\n",
       "                               max_bin=None, max_cat_threshold=None,\n",
       "                               max_cat_to_onehot=None, max_delta_step=None,\n",
       "                               max_depth=None, max_leaves=None,\n",
       "                               min_child_weight=None, missing=nan,\n",
       "                               monotone_constraints=None, multi_strategy=None,\n",
       "                               n_estimators=None, n_jobs=-1,\n",
       "                               num_parallel_tree=None, random_state=2048, ...))])</pre></div></div></div><div class=\"sk-serial\"><div class=\"sk-item sk-dashed-wrapped\"><div class=\"sk-label-container\"><div class=\"sk-label sk-toggleable\"><input class=\"sk-toggleable__control sk-hidden--visually\" id=\"sk-estimator-id-2\" type=\"checkbox\" ><label for=\"sk-estimator-id-2\" class=\"sk-toggleable__label sk-toggleable__label-arrow\">preprocessor: ColumnTransformer</label><div class=\"sk-toggleable__content\"><pre>ColumnTransformer(n_jobs=-1,\n",
       "                  transformers=[(&#x27;num&#x27;,\n",
       "                                 Pipeline(steps=[(&#x27;scaler&#x27;, StandardScaler())]),\n",
       "                                 [&#x27;step&#x27;, &#x27;amount&#x27;, &#x27;oldbalanceOrg&#x27;,\n",
       "                                  &#x27;newbalanceOrig&#x27;, &#x27;oldbalanceDest&#x27;,\n",
       "                                  &#x27;newbalanceDest&#x27;]),\n",
       "                                (&#x27;cat&#x27;,\n",
       "                                 Pipeline(steps=[(&#x27;onehot&#x27;,\n",
       "                                                  OneHotEncoder(handle_unknown=&#x27;ignore&#x27;))]),\n",
       "                                 [&#x27;type&#x27;, &#x27;nameOrig&#x27;, &#x27;nameDest&#x27;])])</pre></div></div></div><div class=\"sk-parallel\"><div class=\"sk-parallel-item\"><div class=\"sk-item\"><div class=\"sk-label-container\"><div class=\"sk-label sk-toggleable\"><input class=\"sk-toggleable__control sk-hidden--visually\" id=\"sk-estimator-id-3\" type=\"checkbox\" ><label for=\"sk-estimator-id-3\" class=\"sk-toggleable__label sk-toggleable__label-arrow\">num</label><div class=\"sk-toggleable__content\"><pre>[&#x27;step&#x27;, &#x27;amount&#x27;, &#x27;oldbalanceOrg&#x27;, &#x27;newbalanceOrig&#x27;, &#x27;oldbalanceDest&#x27;, &#x27;newbalanceDest&#x27;]</pre></div></div></div><div class=\"sk-serial\"><div class=\"sk-item\"><div class=\"sk-serial\"><div class=\"sk-item\"><div class=\"sk-estimator sk-toggleable\"><input class=\"sk-toggleable__control sk-hidden--visually\" id=\"sk-estimator-id-4\" type=\"checkbox\" ><label for=\"sk-estimator-id-4\" class=\"sk-toggleable__label sk-toggleable__label-arrow\">StandardScaler</label><div class=\"sk-toggleable__content\"><pre>StandardScaler()</pre></div></div></div></div></div></div></div></div><div class=\"sk-parallel-item\"><div class=\"sk-item\"><div class=\"sk-label-container\"><div class=\"sk-label sk-toggleable\"><input class=\"sk-toggleable__control sk-hidden--visually\" id=\"sk-estimator-id-5\" type=\"checkbox\" ><label for=\"sk-estimator-id-5\" class=\"sk-toggleable__label sk-toggleable__label-arrow\">cat</label><div class=\"sk-toggleable__content\"><pre>[&#x27;type&#x27;, &#x27;nameOrig&#x27;, &#x27;nameDest&#x27;]</pre></div></div></div><div class=\"sk-serial\"><div class=\"sk-item\"><div class=\"sk-serial\"><div class=\"sk-item\"><div class=\"sk-estimator sk-toggleable\"><input class=\"sk-toggleable__control sk-hidden--visually\" id=\"sk-estimator-id-6\" type=\"checkbox\" ><label for=\"sk-estimator-id-6\" class=\"sk-toggleable__label sk-toggleable__label-arrow\">OneHotEncoder</label><div class=\"sk-toggleable__content\"><pre>OneHotEncoder(handle_unknown=&#x27;ignore&#x27;)</pre></div></div></div></div></div></div></div></div></div></div><div class=\"sk-item\"><div class=\"sk-estimator sk-toggleable\"><input class=\"sk-toggleable__control sk-hidden--visually\" id=\"sk-estimator-id-7\" type=\"checkbox\" ><label for=\"sk-estimator-id-7\" class=\"sk-toggleable__label sk-toggleable__label-arrow\">SMOTE</label><div class=\"sk-toggleable__content\"><pre>SMOTE(n_jobs=-1, random_state=42)</pre></div></div></div><div class=\"sk-item\"><div class=\"sk-estimator sk-toggleable\"><input class=\"sk-toggleable__control sk-hidden--visually\" id=\"sk-estimator-id-8\" type=\"checkbox\" ><label for=\"sk-estimator-id-8\" class=\"sk-toggleable__label sk-toggleable__label-arrow\">XGBClassifier</label><div class=\"sk-toggleable__content\"><pre>XGBClassifier(base_score=None, booster=None, callbacks=None,\n",
       "              colsample_bylevel=None, colsample_bynode=None,\n",
       "              colsample_bytree=None, device=None, early_stopping_rounds=None,\n",
       "              enable_categorical=False, eval_metric=None, feature_types=None,\n",
       "              gamma=None, grow_policy=None, importance_type=None,\n",
       "              interaction_constraints=None, learning_rate=None, max_bin=None,\n",
       "              max_cat_threshold=None, max_cat_to_onehot=None,\n",
       "              max_delta_step=None, max_depth=None, max_leaves=None,\n",
       "              min_child_weight=None, missing=nan, monotone_constraints=None,\n",
       "              multi_strategy=None, n_estimators=None, n_jobs=-1,\n",
       "              num_parallel_tree=None, random_state=2048, ...)</pre></div></div></div></div></div></div></div>"
      ],
      "text/plain": [
       "Pipeline(steps=[('preprocessor',\n",
       "                 ColumnTransformer(n_jobs=-1,\n",
       "                                   transformers=[('num',\n",
       "                                                  Pipeline(steps=[('scaler',\n",
       "                                                                   StandardScaler())]),\n",
       "                                                  ['step', 'amount',\n",
       "                                                   'oldbalanceOrg',\n",
       "                                                   'newbalanceOrig',\n",
       "                                                   'oldbalanceDest',\n",
       "                                                   'newbalanceDest']),\n",
       "                                                 ('cat',\n",
       "                                                  Pipeline(steps=[('onehot',\n",
       "                                                                   OneHotEncoder(handle_unknown='ignore'))]),\n",
       "                                                  ['type', 'nameOrig',\n",
       "                                                   'nameDest'])])),\n",
       "                ('smote', SMOTE(n_jobs=-1, ra...\n",
       "                               feature_types=None, gamma=None, grow_policy=None,\n",
       "                               importance_type=None,\n",
       "                               interaction_constraints=None, learning_rate=None,\n",
       "                               max_bin=None, max_cat_threshold=None,\n",
       "                               max_cat_to_onehot=None, max_delta_step=None,\n",
       "                               max_depth=None, max_leaves=None,\n",
       "                               min_child_weight=None, missing=nan,\n",
       "                               monotone_constraints=None, multi_strategy=None,\n",
       "                               n_estimators=None, n_jobs=-1,\n",
       "                               num_parallel_tree=None, random_state=2048, ...))])"
      ]
     },
     "execution_count": 27,
     "metadata": {},
     "output_type": "execute_result"
    }
   ],
   "source": [
    "# Preprocessing of training data, fit model \n",
    "pipeline.fit(X_train, y_train)"
   ]
  },
  {
   "cell_type": "markdown",
   "id": "a6794c22",
   "metadata": {
    "papermill": {
     "duration": 0.01601,
     "end_time": "2023-12-02T00:45:43.351342",
     "exception": false,
     "start_time": "2023-12-02T00:45:43.335332",
     "status": "completed"
    },
    "tags": []
   },
   "source": [
    "### 3.6) Previsão"
   ]
  },
  {
   "cell_type": "code",
   "execution_count": 28,
   "id": "d27195fa",
   "metadata": {
    "execution": {
     "iopub.execute_input": "2023-12-02T00:45:43.383739Z",
     "iopub.status.busy": "2023-12-02T00:45:43.383344Z",
     "iopub.status.idle": "2023-12-02T01:03:29.937618Z",
     "shell.execute_reply": "2023-12-02T01:03:29.934529Z"
    },
    "papermill": {
     "duration": 1066.578255,
     "end_time": "2023-12-02T01:03:29.944643",
     "exception": false,
     "start_time": "2023-12-02T00:45:43.366388",
     "status": "completed"
    },
    "tags": []
   },
   "outputs": [],
   "source": [
    "preds = pipeline.predict(X_val)\n",
    "# preds"
   ]
  },
  {
   "cell_type": "code",
   "execution_count": 29,
   "id": "441804fc",
   "metadata": {
    "execution": {
     "iopub.execute_input": "2023-12-02T01:03:29.988661Z",
     "iopub.status.busy": "2023-12-02T01:03:29.988033Z",
     "iopub.status.idle": "2023-12-02T01:03:30.516863Z",
     "shell.execute_reply": "2023-12-02T01:03:30.516112Z"
    },
    "papermill": {
     "duration": 0.551623,
     "end_time": "2023-12-02T01:03:30.519046",
     "exception": false,
     "start_time": "2023-12-02T01:03:29.967423",
     "status": "completed"
    },
    "tags": []
   },
   "outputs": [
    {
     "data": {
      "text/plain": [
       "Counter({0: 4430149, 1: 23685})"
      ]
     },
     "execution_count": 29,
     "metadata": {},
     "output_type": "execute_result"
    }
   ],
   "source": [
    "# contagem de classes\n",
    "c_preds = Counter(preds)\n",
    "c_preds"
   ]
  },
  {
   "cell_type": "markdown",
   "id": "d06d7190",
   "metadata": {
    "papermill": {
     "duration": 0.015462,
     "end_time": "2023-12-02T01:03:30.549597",
     "exception": false,
     "start_time": "2023-12-02T01:03:30.534135",
     "status": "completed"
    },
    "tags": []
   },
   "source": [
    "***\n",
    "# 4) Avaliação do modelo"
   ]
  },
  {
   "cell_type": "markdown",
   "id": "89cc6c2f",
   "metadata": {
    "papermill": {
     "duration": 0.014845,
     "end_time": "2023-12-02T01:03:30.579875",
     "exception": false,
     "start_time": "2023-12-02T01:03:30.565030",
     "status": "completed"
    },
    "tags": []
   },
   "source": [
    "## 4.1) Métricas"
   ]
  },
  {
   "cell_type": "markdown",
   "id": "ff45b256",
   "metadata": {
    "papermill": {
     "duration": 0.01453,
     "end_time": "2023-12-02T01:03:30.609393",
     "exception": false,
     "start_time": "2023-12-02T01:03:30.594863",
     "status": "completed"
    },
    "tags": []
   },
   "source": [
    "### 4.1.1) 'Acurácia' é a quantidade de acertos do nosso modelo dividido pelo total da amostra\n",
    "\n",
    "A 'acurácia' não é uma medida muito boa para trabalhar com modelos de classificação pois ela pode nos induzir a achar que um modelo\n",
    "que prediz corretamente todos os zeros mas nenhum um é um modelo muito bom indica uma performance geral do modelo\n",
    "\n",
    "[VN + VP]/[VN + VP + FN + FP])"
   ]
  },
  {
   "cell_type": "code",
   "execution_count": 30,
   "id": "4aef764c",
   "metadata": {
    "execution": {
     "iopub.execute_input": "2023-12-02T01:03:30.641260Z",
     "iopub.status.busy": "2023-12-02T01:03:30.640824Z",
     "iopub.status.idle": "2023-12-02T01:03:30.648900Z",
     "shell.execute_reply": "2023-12-02T01:03:30.647350Z"
    },
    "papermill": {
     "duration": 0.027378,
     "end_time": "2023-12-02T01:03:30.651726",
     "exception": false,
     "start_time": "2023-12-02T01:03:30.624348",
     "status": "completed"
    },
    "tags": []
   },
   "outputs": [],
   "source": [
    "def aucur(y_test, preds):\n",
    "    # calculate AUC\n",
    "    aucur = roc_auc_score(y_test, preds)\n",
    "    print('AUC: %.3f' % aucur)\n",
    "\n",
    "    # calculate roc curve\n",
    "    fpr, tpr, thresholds = roc_curve(y_test, preds)\n",
    "\n",
    "    # plot no skill\n",
    "    plt.figure(figsize=(4, 3))\n",
    "    plt.plot([0, 1], [0, 1], linestyle='--')\n",
    "    # plot the roc curve for the model\n",
    "    plt.plot(fpr, tpr, marker='.')\n",
    "    # show the plot\n",
    "    plt.show()"
   ]
  },
  {
   "cell_type": "code",
   "execution_count": 31,
   "id": "4ddc702c",
   "metadata": {
    "execution": {
     "iopub.execute_input": "2023-12-02T01:03:30.684590Z",
     "iopub.status.busy": "2023-12-02T01:03:30.684210Z",
     "iopub.status.idle": "2023-12-02T01:03:31.675641Z",
     "shell.execute_reply": "2023-12-02T01:03:31.674864Z"
    },
    "papermill": {
     "duration": 1.00976,
     "end_time": "2023-12-02T01:03:31.677473",
     "exception": false,
     "start_time": "2023-12-02T01:03:30.667713",
     "status": "completed"
    },
    "tags": []
   },
   "outputs": [
    {
     "name": "stdout",
     "output_type": "stream",
     "text": [
      "AUC: 0.993\n"
     ]
    },
    {
     "data": {
      "image/png": "[encoded data removed]",
      "text/plain": [
       "<Figure size 400x300 with 1 Axes>"
      ]
     },
     "metadata": {},
     "output_type": "display_data"
    }
   ],
   "source": [
    "aucur(y_val, preds)"
   ]
  },
  {
   "cell_type": "markdown",
   "id": "85dd11c7",
   "metadata": {
    "papermill": {
     "duration": 0.014852,
     "end_time": "2023-12-02T01:03:31.709618",
     "exception": false,
     "start_time": "2023-12-02T01:03:31.694766",
     "status": "completed"
    },
    "tags": []
   },
   "source": [
    "### 4.1.2) Classification Report"
   ]
  },
  {
   "cell_type": "code",
   "execution_count": 32,
   "id": "5de6634d",
   "metadata": {
    "execution": {
     "iopub.execute_input": "2023-12-02T01:03:31.743404Z",
     "iopub.status.busy": "2023-12-02T01:03:31.742741Z",
     "iopub.status.idle": "2023-12-02T01:03:35.965963Z",
     "shell.execute_reply": "2023-12-02T01:03:35.964839Z"
    },
    "papermill": {
     "duration": 4.243951,
     "end_time": "2023-12-02T01:03:35.969114",
     "exception": false,
     "start_time": "2023-12-02T01:03:31.725163",
     "status": "completed"
    },
    "tags": []
   },
   "outputs": [
    {
     "name": "stdout",
     "output_type": "stream",
     "text": [
      "              precision    recall  f1-score   support\n",
      "\n",
      "           0       1.00      1.00      1.00   4448085\n",
      "           1       0.24      0.99      0.39      5749\n",
      "\n",
      "    accuracy                           1.00   4453834\n",
      "   macro avg       0.62      0.99      0.69   4453834\n",
      "weighted avg       1.00      1.00      1.00   4453834\n",
      "\n"
     ]
    }
   ],
   "source": [
    "print(classification_report(y_val, preds))"
   ]
  },
  {
   "cell_type": "markdown",
   "id": "db54f098",
   "metadata": {
    "papermill": {
     "duration": 0.015832,
     "end_time": "2023-12-02T01:03:36.001470",
     "exception": false,
     "start_time": "2023-12-02T01:03:35.985638",
     "status": "completed"
    },
    "tags": []
   },
   "source": [
    "### 4.1.3) Matriz de Confusão"
   ]
  },
  {
   "cell_type": "code",
   "execution_count": 33,
   "id": "c697539e",
   "metadata": {
    "execution": {
     "iopub.execute_input": "2023-12-02T01:03:36.037246Z",
     "iopub.status.busy": "2023-12-02T01:03:36.036145Z",
     "iopub.status.idle": "2023-12-02T01:03:37.574209Z",
     "shell.execute_reply": "2023-12-02T01:03:37.573399Z"
    },
    "papermill": {
     "duration": 1.558727,
     "end_time": "2023-12-02T01:03:37.576803",
     "exception": false,
     "start_time": "2023-12-02T01:03:36.018076",
     "status": "completed"
    },
    "tags": []
   },
   "outputs": [
    {
     "data": {
      "text/html": [
       "<div>\n",
       "<style scoped>\n",
       "    .dataframe tbody tr th:only-of-type {\n",
       "        vertical-align: middle;\n",
       "    }\n",
       "\n",
       "    .dataframe tbody tr th {\n",
       "        vertical-align: top;\n",
       "    }\n",
       "\n",
       "    .dataframe thead th {\n",
       "        text-align: right;\n",
       "    }\n",
       "</style>\n",
       "<table border=\"1\" class=\"dataframe\">\n",
       "  <thead>\n",
       "    <tr style=\"text-align: right;\">\n",
       "      <th></th>\n",
       "      <th>0</th>\n",
       "      <th>1</th>\n",
       "    </tr>\n",
       "  </thead>\n",
       "  <tbody>\n",
       "    <tr>\n",
       "      <th>0</th>\n",
       "      <td>4430097</td>\n",
       "      <td>17988</td>\n",
       "    </tr>\n",
       "    <tr>\n",
       "      <th>1</th>\n",
       "      <td>52</td>\n",
       "      <td>5697</td>\n",
       "    </tr>\n",
       "  </tbody>\n",
       "</table>\n",
       "</div>"
      ],
      "text/plain": [
       "         0      1\n",
       "0  4430097  17988\n",
       "1       52   5697"
      ]
     },
     "execution_count": 33,
     "metadata": {},
     "output_type": "execute_result"
    }
   ],
   "source": [
    "cm_df = pd.DataFrame(confusion_matrix(y_val, preds),\n",
    "                     index = sorted(Counter(y_val)),\n",
    "                     columns = sorted(Counter(preds)))\n",
    "cm_df"
   ]
  },
  {
   "cell_type": "code",
   "execution_count": 34,
   "id": "700da759",
   "metadata": {
    "execution": {
     "iopub.execute_input": "2023-12-02T01:03:37.612095Z",
     "iopub.status.busy": "2023-12-02T01:03:37.610960Z",
     "iopub.status.idle": "2023-12-02T01:34:02.431591Z",
     "shell.execute_reply": "2023-12-02T01:34:02.430228Z"
    },
    "papermill": {
     "duration": 1824.841589,
     "end_time": "2023-12-02T01:34:02.434692",
     "exception": false,
     "start_time": "2023-12-02T01:03:37.593103",
     "status": "completed"
    },
    "tags": []
   },
   "outputs": [
    {
     "name": "stdout",
     "output_type": "stream",
     "text": [
      "Confusion matrix, without normalization\n",
      "[[4430097   17988]\n",
      " [     52    5697]]\n",
      "Normalized confusion matrix\n",
      "[[0.99595601 0.00404399]\n",
      " [0.00904505 0.99095495]]\n"
     ]
    },
    {
     "data": {
      "image/png": "[encoded data removed]",
      "text/plain": [
       "<Figure size 1500x500 with 4 Axes>"
      ]
     },
     "metadata": {},
     "output_type": "display_data"
    }
   ],
   "source": [
    "titles_options = [\n",
    "    (\"Confusion matrix, without normalization\", None),\n",
    "    (\"Normalized confusion matrix\", \"true\"),\n",
    "]\n",
    "\n",
    "# Criando uma figura geral para as matrizes de confusão\n",
    "fig, axes = plt.subplots(1, len(titles_options), figsize=(15, 5))\n",
    "\n",
    "for ax, (title, normalize) in zip(axes, titles_options):\n",
    "    disp = ConfusionMatrixDisplay.from_estimator(\n",
    "        pipeline,\n",
    "        X_val,\n",
    "        y_val,\n",
    "        display_labels=['Not Fraud', 'Fraud'],\n",
    "        cmap=plt.cm.Blues,\n",
    "        normalize=normalize,\n",
    "        ax=ax  # Utilizando o eixo específico para cada matriz de confusão\n",
    "    )\n",
    "    disp.ax_.set_title(title)\n",
    "    print(title)\n",
    "    print(disp.confusion_matrix)\n",
    "\n",
    "plt.tight_layout()  # Ajuste de layout para melhor organização\n",
    "plt.show()"
   ]
  },
  {
   "cell_type": "code",
   "execution_count": 35,
   "id": "dd131acb",
   "metadata": {
    "execution": {
     "iopub.execute_input": "2023-12-02T01:34:02.470405Z",
     "iopub.status.busy": "2023-12-02T01:34:02.469931Z",
     "iopub.status.idle": "2023-12-02T01:34:02.476597Z",
     "shell.execute_reply": "2023-12-02T01:34:02.475081Z"
    },
    "papermill": {
     "duration": 0.027538,
     "end_time": "2023-12-02T01:34:02.479260",
     "exception": false,
     "start_time": "2023-12-02T01:34:02.451722",
     "status": "completed"
    },
    "tags": []
   },
   "outputs": [
    {
     "name": "stdout",
     "output_type": "stream",
     "text": [
      "0.0 dias 0.0 horas 52.0 minutos e 10.24 segundos\n"
     ]
    }
   ],
   "source": [
    "end=timeit.default_timer()\n",
    "\n",
    "check_time(start, end)"
   ]
  },
  {
   "cell_type": "markdown",
   "metadata": {},
   "source": [
    "### 5) Preparação para salvar os dados com a previsão num arquivo CSV"
   ]
  },
  {
   "cell_type": "code",
   "execution_count": 36,
   "id": "1daef6c8",
   "metadata": {
    "execution": {
     "iopub.execute_input": "2023-12-02T01:34:02.514215Z",
     "iopub.status.busy": "2023-12-02T01:34:02.513777Z",
     "iopub.status.idle": "2023-12-02T01:34:02.762546Z",
     "shell.execute_reply": "2023-12-02T01:34:02.761637Z"
    },
    "papermill": {
     "duration": 0.268337,
     "end_time": "2023-12-02T01:34:02.764308",
     "exception": false,
     "start_time": "2023-12-02T01:34:02.495971",
     "status": "completed"
    },
    "tags": []
   },
   "outputs": [
    {
     "data": {
      "text/html": [
       "<div>\n",
       "<style scoped>\n",
       "    .dataframe tbody tr th:only-of-type {\n",
       "        vertical-align: middle;\n",
       "    }\n",
       "\n",
       "    .dataframe tbody tr th {\n",
       "        vertical-align: top;\n",
       "    }\n",
       "\n",
       "    .dataframe thead th {\n",
       "        text-align: right;\n",
       "    }\n",
       "</style>\n",
       "<table border=\"1\" class=\"dataframe\">\n",
       "  <thead>\n",
       "    <tr style=\"text-align: right;\">\n",
       "      <th></th>\n",
       "      <th>step</th>\n",
       "      <th>type</th>\n",
       "      <th>amount</th>\n",
       "      <th>nameOrig</th>\n",
       "      <th>oldbalanceOrg</th>\n",
       "      <th>newbalanceOrig</th>\n",
       "      <th>nameDest</th>\n",
       "      <th>oldbalanceDest</th>\n",
       "      <th>newbalanceDest</th>\n",
       "    </tr>\n",
       "  </thead>\n",
       "  <tbody>\n",
       "    <tr>\n",
       "      <th>0</th>\n",
       "      <td>329</td>\n",
       "      <td>PAYMENT</td>\n",
       "      <td>30581.27</td>\n",
       "      <td>C304280890</td>\n",
       "      <td>0.00</td>\n",
       "      <td>0.00</td>\n",
       "      <td>M1794866928</td>\n",
       "      <td>0.00</td>\n",
       "      <td>0.00</td>\n",
       "    </tr>\n",
       "    <tr>\n",
       "      <th>1</th>\n",
       "      <td>398</td>\n",
       "      <td>PAYMENT</td>\n",
       "      <td>22495.13</td>\n",
       "      <td>C1506061797</td>\n",
       "      <td>134850.69</td>\n",
       "      <td>112355.56</td>\n",
       "      <td>M1388898462</td>\n",
       "      <td>0.00</td>\n",
       "      <td>0.00</td>\n",
       "    </tr>\n",
       "    <tr>\n",
       "      <th>2</th>\n",
       "      <td>163</td>\n",
       "      <td>PAYMENT</td>\n",
       "      <td>8656.01</td>\n",
       "      <td>C1123454499</td>\n",
       "      <td>0.00</td>\n",
       "      <td>0.00</td>\n",
       "      <td>M797125081</td>\n",
       "      <td>0.00</td>\n",
       "      <td>0.00</td>\n",
       "    </tr>\n",
       "    <tr>\n",
       "      <th>3</th>\n",
       "      <td>204</td>\n",
       "      <td>TRANSFER</td>\n",
       "      <td>129428.54</td>\n",
       "      <td>C1521052110</td>\n",
       "      <td>46621.00</td>\n",
       "      <td>0.00</td>\n",
       "      <td>C2057278308</td>\n",
       "      <td>2685396.72</td>\n",
       "      <td>2814825.26</td>\n",
       "    </tr>\n",
       "    <tr>\n",
       "      <th>4</th>\n",
       "      <td>35</td>\n",
       "      <td>PAYMENT</td>\n",
       "      <td>9187.37</td>\n",
       "      <td>C581384693</td>\n",
       "      <td>13236.00</td>\n",
       "      <td>4048.63</td>\n",
       "      <td>M990605534</td>\n",
       "      <td>0.00</td>\n",
       "      <td>0.00</td>\n",
       "    </tr>\n",
       "    <tr>\n",
       "      <th>...</th>\n",
       "      <td>...</td>\n",
       "      <td>...</td>\n",
       "      <td>...</td>\n",
       "      <td>...</td>\n",
       "      <td>...</td>\n",
       "      <td>...</td>\n",
       "      <td>...</td>\n",
       "      <td>...</td>\n",
       "      <td>...</td>\n",
       "    </tr>\n",
       "    <tr>\n",
       "      <th>4453829</th>\n",
       "      <td>180</td>\n",
       "      <td>PAYMENT</td>\n",
       "      <td>29224.87</td>\n",
       "      <td>C1489336574</td>\n",
       "      <td>0.00</td>\n",
       "      <td>0.00</td>\n",
       "      <td>M1253305449</td>\n",
       "      <td>0.00</td>\n",
       "      <td>0.00</td>\n",
       "    </tr>\n",
       "    <tr>\n",
       "      <th>4453830</th>\n",
       "      <td>303</td>\n",
       "      <td>PAYMENT</td>\n",
       "      <td>22603.18</td>\n",
       "      <td>C1066608766</td>\n",
       "      <td>0.00</td>\n",
       "      <td>0.00</td>\n",
       "      <td>M877885359</td>\n",
       "      <td>0.00</td>\n",
       "      <td>0.00</td>\n",
       "    </tr>\n",
       "    <tr>\n",
       "      <th>4453831</th>\n",
       "      <td>164</td>\n",
       "      <td>CASH_OUT</td>\n",
       "      <td>137925.46</td>\n",
       "      <td>C1997056748</td>\n",
       "      <td>0.00</td>\n",
       "      <td>0.00</td>\n",
       "      <td>C1312873996</td>\n",
       "      <td>4265435.00</td>\n",
       "      <td>4403360.46</td>\n",
       "    </tr>\n",
       "    <tr>\n",
       "      <th>4453832</th>\n",
       "      <td>10</td>\n",
       "      <td>CASH_OUT</td>\n",
       "      <td>153793.50</td>\n",
       "      <td>C128460661</td>\n",
       "      <td>0.00</td>\n",
       "      <td>0.00</td>\n",
       "      <td>C1023535667</td>\n",
       "      <td>2510648.09</td>\n",
       "      <td>2925852.96</td>\n",
       "    </tr>\n",
       "    <tr>\n",
       "      <th>4453833</th>\n",
       "      <td>299</td>\n",
       "      <td>TRANSFER</td>\n",
       "      <td>9404116.83</td>\n",
       "      <td>C1961944582</td>\n",
       "      <td>0.00</td>\n",
       "      <td>0.00</td>\n",
       "      <td>C2017694369</td>\n",
       "      <td>10867576.71</td>\n",
       "      <td>20271693.54</td>\n",
       "    </tr>\n",
       "  </tbody>\n",
       "</table>\n",
       "<p>4453834 rows × 9 columns</p>\n",
       "</div>"
      ],
      "text/plain": [
       "         step      type      amount     nameOrig  oldbalanceOrg  newbalanceOrig     nameDest  oldbalanceDest  newbalanceDest\n",
       "0         329   PAYMENT    30581.27   C304280890           0.00            0.00  M1794866928            0.00            0.00\n",
       "1         398   PAYMENT    22495.13  C1506061797      134850.69       112355.56  M1388898462            0.00            0.00\n",
       "2         163   PAYMENT     8656.01  C1123454499           0.00            0.00   M797125081            0.00            0.00\n",
       "3         204  TRANSFER   129428.54  C1521052110       46621.00            0.00  C2057278308      2685396.72      2814825.26\n",
       "4          35   PAYMENT     9187.37   C581384693       13236.00         4048.63   M990605534            0.00            0.00\n",
       "...       ...       ...         ...          ...            ...             ...          ...             ...             ...\n",
       "4453829   180   PAYMENT    29224.87  C1489336574           0.00            0.00  M1253305449            0.00            0.00\n",
       "4453830   303   PAYMENT    22603.18  C1066608766           0.00            0.00   M877885359            0.00            0.00\n",
       "4453831   164  CASH_OUT   137925.46  C1997056748           0.00            0.00  C1312873996      4265435.00      4403360.46\n",
       "4453832    10  CASH_OUT   153793.50   C128460661           0.00            0.00  C1023535667      2510648.09      2925852.96\n",
       "4453833   299  TRANSFER  9404116.83  C1961944582           0.00            0.00  C2017694369     10867576.71     20271693.54\n",
       "\n",
       "[4453834 rows x 9 columns]"
      ]
     },
     "execution_count": 36,
     "metadata": {},
     "output_type": "execute_result"
    }
   ],
   "source": [
    "X_valr = X_val.reset_index(drop=True)\n",
    "X_valr"
   ]
  },
  {
   "cell_type": "code",
   "execution_count": 37,
   "id": "28f3ce9b",
   "metadata": {
    "execution": {
     "iopub.execute_input": "2023-12-02T01:34:02.799060Z",
     "iopub.status.busy": "2023-12-02T01:34:02.798546Z",
     "iopub.status.idle": "2023-12-02T01:34:02.812697Z",
     "shell.execute_reply": "2023-12-02T01:34:02.811404Z"
    },
    "papermill": {
     "duration": 0.034192,
     "end_time": "2023-12-02T01:34:02.815224",
     "exception": false,
     "start_time": "2023-12-02T01:34:02.781032",
     "status": "completed"
    },
    "tags": []
   },
   "outputs": [
    {
     "data": {
      "text/plain": [
       "0          0\n",
       "1          0\n",
       "2          0\n",
       "3          0\n",
       "4          0\n",
       "          ..\n",
       "4453829    0\n",
       "4453830    0\n",
       "4453831    0\n",
       "4453832    0\n",
       "4453833    0\n",
       "Name: isFraud, Length: 4453834, dtype: int64"
      ]
     },
     "execution_count": 37,
     "metadata": {},
     "output_type": "execute_result"
    }
   ],
   "source": [
    "y_valr = y_val.reset_index(drop=True)\n",
    "y_valr"
   ]
  },
  {
   "cell_type": "code",
   "execution_count": 40,
   "id": "d32a24bd",
   "metadata": {
    "execution": {
     "iopub.execute_input": "2023-12-02T01:34:03.460938Z",
     "iopub.status.busy": "2023-12-02T01:34:03.460475Z",
     "iopub.status.idle": "2023-12-02T01:34:03.472553Z",
     "shell.execute_reply": "2023-12-02T01:34:03.470668Z"
    },
    "papermill": {
     "duration": 0.03409,
     "end_time": "2023-12-02T01:34:03.475564",
     "exception": false,
     "start_time": "2023-12-02T01:34:03.441474",
     "status": "completed"
    },
    "tags": []
   },
   "outputs": [
    {
     "data": {
      "text/html": [
       "<div>\n",
       "<style scoped>\n",
       "    .dataframe tbody tr th:only-of-type {\n",
       "        vertical-align: middle;\n",
       "    }\n",
       "\n",
       "    .dataframe tbody tr th {\n",
       "        vertical-align: top;\n",
       "    }\n",
       "\n",
       "    .dataframe thead th {\n",
       "        text-align: right;\n",
       "    }\n",
       "</style>\n",
       "<table border=\"1\" class=\"dataframe\">\n",
       "  <thead>\n",
       "    <tr style=\"text-align: right;\">\n",
       "      <th></th>\n",
       "      <th>preds</th>\n",
       "    </tr>\n",
       "  </thead>\n",
       "  <tbody>\n",
       "    <tr>\n",
       "      <th>0</th>\n",
       "      <td>0</td>\n",
       "    </tr>\n",
       "    <tr>\n",
       "      <th>1</th>\n",
       "      <td>0</td>\n",
       "    </tr>\n",
       "    <tr>\n",
       "      <th>2</th>\n",
       "      <td>0</td>\n",
       "    </tr>\n",
       "    <tr>\n",
       "      <th>3</th>\n",
       "      <td>0</td>\n",
       "    </tr>\n",
       "    <tr>\n",
       "      <th>4</th>\n",
       "      <td>0</td>\n",
       "    </tr>\n",
       "    <tr>\n",
       "      <th>...</th>\n",
       "      <td>...</td>\n",
       "    </tr>\n",
       "    <tr>\n",
       "      <th>4453829</th>\n",
       "      <td>0</td>\n",
       "    </tr>\n",
       "    <tr>\n",
       "      <th>4453830</th>\n",
       "      <td>0</td>\n",
       "    </tr>\n",
       "    <tr>\n",
       "      <th>4453831</th>\n",
       "      <td>0</td>\n",
       "    </tr>\n",
       "    <tr>\n",
       "      <th>4453832</th>\n",
       "      <td>0</td>\n",
       "    </tr>\n",
       "    <tr>\n",
       "      <th>4453833</th>\n",
       "      <td>0</td>\n",
       "    </tr>\n",
       "  </tbody>\n",
       "</table>\n",
       "<p>4453834 rows × 1 columns</p>\n",
       "</div>"
      ],
      "text/plain": [
       "         preds\n",
       "0            0\n",
       "1            0\n",
       "2            0\n",
       "3            0\n",
       "4            0\n",
       "...        ...\n",
       "4453829      0\n",
       "4453830      0\n",
       "4453831      0\n",
       "4453832      0\n",
       "4453833      0\n",
       "\n",
       "[4453834 rows x 1 columns]"
      ]
     },
     "execution_count": 40,
     "metadata": {},
     "output_type": "execute_result"
    }
   ],
   "source": [
    "df_preds = pd.DataFrame(preds, columns=['preds'])\n",
    "df_preds"
   ]
  },
  {
   "cell_type": "code",
   "execution_count": 41,
   "id": "13be506a",
   "metadata": {
    "execution": {
     "iopub.execute_input": "2023-12-02T01:34:03.513664Z",
     "iopub.status.busy": "2023-12-02T01:34:03.512947Z",
     "iopub.status.idle": "2023-12-02T01:34:04.143278Z",
     "shell.execute_reply": "2023-12-02T01:34:04.141670Z"
    },
    "papermill": {
     "duration": 0.651992,
     "end_time": "2023-12-02T01:34:04.145494",
     "exception": false,
     "start_time": "2023-12-02T01:34:03.493502",
     "status": "completed"
    },
    "tags": []
   },
   "outputs": [
    {
     "data": {
      "text/html": [
       "<div>\n",
       "<style scoped>\n",
       "    .dataframe tbody tr th:only-of-type {\n",
       "        vertical-align: middle;\n",
       "    }\n",
       "\n",
       "    .dataframe tbody tr th {\n",
       "        vertical-align: top;\n",
       "    }\n",
       "\n",
       "    .dataframe thead th {\n",
       "        text-align: right;\n",
       "    }\n",
       "</style>\n",
       "<table border=\"1\" class=\"dataframe\">\n",
       "  <thead>\n",
       "    <tr style=\"text-align: right;\">\n",
       "      <th></th>\n",
       "      <th>step</th>\n",
       "      <th>type</th>\n",
       "      <th>amount</th>\n",
       "      <th>nameOrig</th>\n",
       "      <th>oldbalanceOrg</th>\n",
       "      <th>newbalanceOrig</th>\n",
       "      <th>nameDest</th>\n",
       "      <th>oldbalanceDest</th>\n",
       "      <th>newbalanceDest</th>\n",
       "      <th>isFraud</th>\n",
       "      <th>preds</th>\n",
       "    </tr>\n",
       "  </thead>\n",
       "  <tbody>\n",
       "    <tr>\n",
       "      <th>0</th>\n",
       "      <td>329</td>\n",
       "      <td>PAYMENT</td>\n",
       "      <td>30581.27</td>\n",
       "      <td>C304280890</td>\n",
       "      <td>0.00</td>\n",
       "      <td>0.00</td>\n",
       "      <td>M1794866928</td>\n",
       "      <td>0.00</td>\n",
       "      <td>0.00</td>\n",
       "      <td>0</td>\n",
       "      <td>0</td>\n",
       "    </tr>\n",
       "    <tr>\n",
       "      <th>1</th>\n",
       "      <td>398</td>\n",
       "      <td>PAYMENT</td>\n",
       "      <td>22495.13</td>\n",
       "      <td>C1506061797</td>\n",
       "      <td>134850.69</td>\n",
       "      <td>112355.56</td>\n",
       "      <td>M1388898462</td>\n",
       "      <td>0.00</td>\n",
       "      <td>0.00</td>\n",
       "      <td>0</td>\n",
       "      <td>0</td>\n",
       "    </tr>\n",
       "    <tr>\n",
       "      <th>2</th>\n",
       "      <td>163</td>\n",
       "      <td>PAYMENT</td>\n",
       "      <td>8656.01</td>\n",
       "      <td>C1123454499</td>\n",
       "      <td>0.00</td>\n",
       "      <td>0.00</td>\n",
       "      <td>M797125081</td>\n",
       "      <td>0.00</td>\n",
       "      <td>0.00</td>\n",
       "      <td>0</td>\n",
       "      <td>0</td>\n",
       "    </tr>\n",
       "    <tr>\n",
       "      <th>3</th>\n",
       "      <td>204</td>\n",
       "      <td>TRANSFER</td>\n",
       "      <td>129428.54</td>\n",
       "      <td>C1521052110</td>\n",
       "      <td>46621.00</td>\n",
       "      <td>0.00</td>\n",
       "      <td>C2057278308</td>\n",
       "      <td>2685396.72</td>\n",
       "      <td>2814825.26</td>\n",
       "      <td>0</td>\n",
       "      <td>0</td>\n",
       "    </tr>\n",
       "    <tr>\n",
       "      <th>4</th>\n",
       "      <td>35</td>\n",
       "      <td>PAYMENT</td>\n",
       "      <td>9187.37</td>\n",
       "      <td>C581384693</td>\n",
       "      <td>13236.00</td>\n",
       "      <td>4048.63</td>\n",
       "      <td>M990605534</td>\n",
       "      <td>0.00</td>\n",
       "      <td>0.00</td>\n",
       "      <td>0</td>\n",
       "      <td>0</td>\n",
       "    </tr>\n",
       "    <tr>\n",
       "      <th>...</th>\n",
       "      <td>...</td>\n",
       "      <td>...</td>\n",
       "      <td>...</td>\n",
       "      <td>...</td>\n",
       "      <td>...</td>\n",
       "      <td>...</td>\n",
       "      <td>...</td>\n",
       "      <td>...</td>\n",
       "      <td>...</td>\n",
       "      <td>...</td>\n",
       "      <td>...</td>\n",
       "    </tr>\n",
       "    <tr>\n",
       "      <th>4453829</th>\n",
       "      <td>180</td>\n",
       "      <td>PAYMENT</td>\n",
       "      <td>29224.87</td>\n",
       "      <td>C1489336574</td>\n",
       "      <td>0.00</td>\n",
       "      <td>0.00</td>\n",
       "      <td>M1253305449</td>\n",
       "      <td>0.00</td>\n",
       "      <td>0.00</td>\n",
       "      <td>0</td>\n",
       "      <td>0</td>\n",
       "    </tr>\n",
       "    <tr>\n",
       "      <th>4453830</th>\n",
       "      <td>303</td>\n",
       "      <td>PAYMENT</td>\n",
       "      <td>22603.18</td>\n",
       "      <td>C1066608766</td>\n",
       "      <td>0.00</td>\n",
       "      <td>0.00</td>\n",
       "      <td>M877885359</td>\n",
       "      <td>0.00</td>\n",
       "      <td>0.00</td>\n",
       "      <td>0</td>\n",
       "      <td>0</td>\n",
       "    </tr>\n",
       "    <tr>\n",
       "      <th>4453831</th>\n",
       "      <td>164</td>\n",
       "      <td>CASH_OUT</td>\n",
       "      <td>137925.46</td>\n",
       "      <td>C1997056748</td>\n",
       "      <td>0.00</td>\n",
       "      <td>0.00</td>\n",
       "      <td>C1312873996</td>\n",
       "      <td>4265435.00</td>\n",
       "      <td>4403360.46</td>\n",
       "      <td>0</td>\n",
       "      <td>0</td>\n",
       "    </tr>\n",
       "    <tr>\n",
       "      <th>4453832</th>\n",
       "      <td>10</td>\n",
       "      <td>CASH_OUT</td>\n",
       "      <td>153793.50</td>\n",
       "      <td>C128460661</td>\n",
       "      <td>0.00</td>\n",
       "      <td>0.00</td>\n",
       "      <td>C1023535667</td>\n",
       "      <td>2510648.09</td>\n",
       "      <td>2925852.96</td>\n",
       "      <td>0</td>\n",
       "      <td>0</td>\n",
       "    </tr>\n",
       "    <tr>\n",
       "      <th>4453833</th>\n",
       "      <td>299</td>\n",
       "      <td>TRANSFER</td>\n",
       "      <td>9404116.83</td>\n",
       "      <td>C1961944582</td>\n",
       "      <td>0.00</td>\n",
       "      <td>0.00</td>\n",
       "      <td>C2017694369</td>\n",
       "      <td>10867576.71</td>\n",
       "      <td>20271693.54</td>\n",
       "      <td>0</td>\n",
       "      <td>0</td>\n",
       "    </tr>\n",
       "  </tbody>\n",
       "</table>\n",
       "<p>4453834 rows × 11 columns</p>\n",
       "</div>"
      ],
      "text/plain": [
       "         step      type      amount     nameOrig  oldbalanceOrg  newbalanceOrig     nameDest  oldbalanceDest  newbalanceDest  isFraud  preds\n",
       "0         329   PAYMENT    30581.27   C304280890           0.00            0.00  M1794866928            0.00            0.00        0      0\n",
       "1         398   PAYMENT    22495.13  C1506061797      134850.69       112355.56  M1388898462            0.00            0.00        0      0\n",
       "2         163   PAYMENT     8656.01  C1123454499           0.00            0.00   M797125081            0.00            0.00        0      0\n",
       "3         204  TRANSFER   129428.54  C1521052110       46621.00            0.00  C2057278308      2685396.72      2814825.26        0      0\n",
       "4          35   PAYMENT     9187.37   C581384693       13236.00         4048.63   M990605534            0.00            0.00        0      0\n",
       "...       ...       ...         ...          ...            ...             ...          ...             ...             ...      ...    ...\n",
       "4453829   180   PAYMENT    29224.87  C1489336574           0.00            0.00  M1253305449            0.00            0.00        0      0\n",
       "4453830   303   PAYMENT    22603.18  C1066608766           0.00            0.00   M877885359            0.00            0.00        0      0\n",
       "4453831   164  CASH_OUT   137925.46  C1997056748           0.00            0.00  C1312873996      4265435.00      4403360.46        0      0\n",
       "4453832    10  CASH_OUT   153793.50   C128460661           0.00            0.00  C1023535667      2510648.09      2925852.96        0      0\n",
       "4453833   299  TRANSFER  9404116.83  C1961944582           0.00            0.00  C2017694369     10867576.71     20271693.54        0      0\n",
       "\n",
       "[4453834 rows x 11 columns]"
      ]
     },
     "execution_count": 41,
     "metadata": {},
     "output_type": "execute_result"
    }
   ],
   "source": [
    "df_output = X_valr.join([y_valr, df_preds]).reset_index(drop=True)\n",
    "df_output"
   ]
  },
  {
   "cell_type": "code",
   "execution_count": 44,
   "id": "8f12717f",
   "metadata": {
    "execution": {
     "iopub.execute_input": "2023-12-02T01:34:04.346195Z",
     "iopub.status.busy": "2023-12-02T01:34:04.345011Z",
     "iopub.status.idle": "2023-12-02T01:34:29.070401Z",
     "shell.execute_reply": "2023-12-02T01:34:29.068928Z"
    },
    "papermill": {
     "duration": 24.747914,
     "end_time": "2023-12-02T01:34:29.072879",
     "exception": false,
     "start_time": "2023-12-02T01:34:04.324965",
     "status": "completed"
    },
    "tags": []
   },
   "outputs": [],
   "source": [
    "# Substitua 'meus_dados.csv' pelo nome que você deseja dar ao seu arquivo CSV\n",
    "df_output.to_csv('/kaggle/working/paysim_predicted.csv', index=False)"
   ]
  }
 ],
 "metadata": {
  "kaggle": {
   "accelerator": "none",
   "dataSources": [
    {
     "datasetId": 4079866,
     "sourceId": 7100572,
     "sourceType": "datasetVersion"
    }
   ],
   "dockerImageVersionId": 30587,
   "isGpuEnabled": false,
   "isInternetEnabled": true,
   "language": "python",
   "sourceType": "notebook"
  },
  "kernelspec": {
   "display_name": "Python 3",
   "language": "python",
   "name": "python3"
  },
  "language_info": {
   "codemirror_mode": {
    "name": "ipython",
    "version": 3
   },
   "file_extension": ".py",
   "mimetype": "text/x-python",
   "name": "python",
   "nbconvert_exporter": "python",
   "pygments_lexer": "ipython3",
   "version": "3.10.12"
  },
  "papermill": {
   "default_parameters": {},
   "duration": 3165.847924,
   "end_time": "2023-12-02T01:34:31.926810",
   "environment_variables": {},
   "exception": null,
   "input_path": "__notebook__.ipynb",
   "output_path": "__notebook__.ipynb",
   "parameters": {},
   "start_time": "2023-12-02T00:41:46.078886",
   "version": "2.4.0"
  }
 },
 "nbformat": 4,
 "nbformat_minor": 5
}
