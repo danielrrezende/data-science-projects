{
 "cells": [
  {
   "cell_type": "markdown",
   "metadata": {},
   "source": [
    "# Install necessary libs, if the computer don't have these (uncomment necessary lib)"
   ]
  },
  {
   "cell_type": "code",
   "execution_count": 4,
   "metadata": {},
   "outputs": [],
   "source": [
    "# !pip install paramiko\n",
    "# !pip install mysql-connector-python\n",
    "# !pip install sshtunnel\n",
    "# !pip install numpy\n",
    "# !pip install pandas"
   ]
  },
  {
   "cell_type": "markdown",
   "metadata": {},
   "source": [
    "# Load Libs"
   ]
  },
  {
   "cell_type": "code",
   "execution_count": 1,
   "metadata": {},
   "outputs": [
    {
     "ename": "ModuleNotFoundError",
     "evalue": "No module named 'paramiko'",
     "output_type": "error",
     "traceback": [
      "\u001b[1;31m---------------------------------------------------------------------------\u001b[0m",
      "\u001b[1;31mModuleNotFoundError\u001b[0m                       Traceback (most recent call last)",
      "Cell \u001b[1;32mIn[1], line 1\u001b[0m\n\u001b[1;32m----> 1\u001b[0m \u001b[39mimport\u001b[39;00m \u001b[39mparamiko\u001b[39;00m\n\u001b[0;32m      2\u001b[0m \u001b[39mimport\u001b[39;00m \u001b[39mmysql\u001b[39;00m\u001b[39m.\u001b[39;00m\u001b[39mconnector\u001b[39;00m\n\u001b[0;32m      3\u001b[0m \u001b[39mimport\u001b[39;00m \u001b[39msshtunnel\u001b[39;00m\n",
      "\u001b[1;31mModuleNotFoundError\u001b[0m: No module named 'paramiko'"
     ]
    }
   ],
   "source": [
    "import paramiko\n",
    "import mysql.connector\n",
    "import sshtunnel\n",
    "import numpy as np\n",
    "import pandas as pd\n",
    "import timeit"
   ]
  },
  {
   "cell_type": "markdown",
   "metadata": {},
   "source": [
    "***\n",
    "* Check for NaN function"
   ]
  },
  {
   "cell_type": "code",
   "execution_count": null,
   "metadata": {},
   "outputs": [],
   "source": [
    "def check_nan(df):\n",
    "    missing_val_count_by_column = (df.isna().sum())\n",
    "    columns_with_nan = missing_val_count_by_column[missing_val_count_by_column > 0]\n",
    "    print('Dados com NaN:')\n",
    "    print(columns_with_nan)\n",
    "    print('')\n",
    "    print('columns_with_nan.shape', columns_with_nan.shape)\n",
    "    print('')"
   ]
  },
  {
   "cell_type": "markdown",
   "metadata": {},
   "source": [
    "* chronometer"
   ]
  },
  {
   "cell_type": "code",
   "execution_count": null,
   "metadata": {},
   "outputs": [],
   "source": [
    "def check_time(start, end):\n",
    "    seg = end - start\n",
    "    dias = seg // 86400\n",
    "    Seg_Restantes_Após_Dias = seg % 86400\n",
    "    horas = Seg_Restantes_Após_Dias // 3600         # Divisão inteira\n",
    "    Seg_Restantes_Apos_Hora = seg % 3600            # Resto da divisão por 3600\n",
    "    minutos = Seg_Restantes_Apos_Hora // 60         # Divisão inteira dos segundos restantes\n",
    "    Seg_Restantes_Apos_Minutos = seg % 60\n",
    "    #print(minutos,'minutos','e', '%.2f' % Seg_Restantes_Apos_Minutos,'segundos')\n",
    "    print(dias,'dias', horas,'horas', minutos,'minutos','e', '%.2f' % Seg_Restantes_Apos_Minutos,'segundos')"
   ]
  },
  {
   "cell_type": "markdown",
   "metadata": {},
   "source": [
    "***\n",
    "* Read CSV"
   ]
  },
  {
   "cell_type": "code",
   "execution_count": null,
   "metadata": {},
   "outputs": [],
   "source": [
    "coord = pd.read_csv('../outputs/dutra_coords_querys.csv')"
   ]
  },
  {
   "cell_type": "code",
   "execution_count": null,
   "metadata": {},
   "outputs": [],
   "source": [
    "coord[['Latitude_min', 'Latitude_max', 'Longitude_min', 'Longitude_max']]"
   ]
  },
  {
   "cell_type": "markdown",
   "metadata": {},
   "source": [
    "***\n",
    "* MySQL connector"
   ]
  },
  {
   "cell_type": "code",
   "execution_count": null,
   "metadata": {},
   "outputs": [],
   "source": [
    "connection = mysql.connector.MySQLConnection(user=\"root\",\n",
    "                                             password=\"\",\n",
    "                                             host='127.0.0.1',\n",
    "                                             database='coldchain',\n",
    "                                             port=3306)"
   ]
  },
  {
   "cell_type": "markdown",
   "metadata": {},
   "source": [
    "***\n",
    "# Array to Dataframe\n",
    "\n",
    "**datapoint**' - Cada tupla da tabela representa uma (i) leitura de eHook/tag OU (ii) uma localização aferida pelo smartphone. Caso (i), a coluna `session_id` será diferente de nulo, caso (ii) `session_id` será nulo, indicando que não a tupla não tem relação com tag, apenas com o escanner/celular.\n",
    "\n",
    "features importantes:\n",
    "\n",
    "'id' = identificador;\n",
    "\n",
    "'datetime' = horario da leitura\n",
    "\n",
    "'latitude e longitude' = localização;\n",
    "\n",
    "'session_id' = se é ehook ou smartphone \n",
    "\n",
    "               ehook / tag != NULL \\\n",
    "               smartfone == NULL (se comporta como SLS);\n",
    "             \n",
    "'appinstance_id' = tabela appinstance - origem do dado\n"
   ]
  },
  {
   "cell_type": "raw",
   "metadata": {},
   "source": [
    "id\ttemperature\tdatetime\tindex\tcounter\tlatitude\tlongitude\tgeo_accuracy\tgeo_timestamp\trssi\tblock\tis_wanted\tactive\tsession_id\tappinstance_id"
   ]
  },
  {
   "cell_type": "code",
   "execution_count": null,
   "metadata": {},
   "outputs": [],
   "source": [
    "df_datapoint = pd.read_sql_query('''SELECT id, datetime, latitude, longitude, geo_accuracy, session_id, appinstance_id\n",
    "                                    FROM coldchain.datapoint\n",
    "                                    LIMIT 10;''', connection)\n",
    "df_datapoint"
   ]
  },
  {
   "cell_type": "markdown",
   "metadata": {},
   "source": [
    "=-=-=-=-=-=-=-=-=-=-=-=-=-=-=-=-=-=-=-=-=-=-=-=-=-=-=-=-=-=-=-=-=-=-=-=-=-=-=-=-=-=-=-=-=-=-=-=-=-=-=-=-=-=-=-=-=-=-=-=-=-=-=-=-=-=-=-=-=-=-=-=-=-=-=-=-=-=-=-=-=-=-=-=-=-=-=-=-=-=-=-=-=-=-=-=-=-=-=-=-=-=-=-=-=-=-=-=-=-=-=-=-=-=\n",
    "* **session** - Um tag/eHook/#tag pode ter múltiplas sessões. Cada sessão possui múltiplas leituras atreladas. É apenas uma organização das leituras em um dado contexto. No logger do coldchain é uma viagem que o logger faz, no eHook está em desuso, apesar da estrutura ser populada\n",
    "\n",
    "'id' = identificador;\n",
    "\n"
   ]
  },
  {
   "cell_type": "raw",
   "metadata": {},
   "source": [
    "id, identifier, threshold_min, threshold_max, temperature_min, temperature_max, count, begin, end, timestamp_base, timestamp_start, timestamp_stop, interval, last_datapoint_time, active, tag_id"
   ]
  },
  {
   "cell_type": "code",
   "execution_count": null,
   "metadata": {},
   "outputs": [],
   "source": [
    "df_session = pd.read_sql_query('''SELECT id, identifier, count, last_datapoint_time, tag_id\n",
    "                                  FROM coldchain.session \n",
    "                                  WHERE temperature_max IS NULL \n",
    "                                  LIMIT 10;''', connection)\n",
    "df_session"
   ]
  },
  {
   "cell_type": "markdown",
   "metadata": {},
   "source": [
    "* **tag** - Um tag pode ser um logger ColdCshapen, tag 915MHz PA, eHook, etc. Cada eHook também possui uma tupla na tabela **tag_ehook**, que permite determinar quais tuplas da tabela tag são referentes a eHooks"
   ]
  },
  {
   "cell_type": "raw",
   "metadata": {},
   "source": [
    "id, tid, epc, alias, last_datapoint_time, active, company_id, owner_id, place_tag_id "
   ]
  },
  {
   "cell_type": "code",
   "execution_count": null,
   "metadata": {},
   "outputs": [],
   "source": [
    "df_tag = pd.read_sql_query(\"\"\"SELECT id, tid, epc, alias, last_datapoint_time, company_id, owner_id, place_tag_id \n",
    "                              FROM coldchain.tag\n",
    "                              ORDER BY id;\"\"\", connection)\n",
    "df_tag"
   ]
  },
  {
   "cell_type": "markdown",
   "metadata": {},
   "source": [
    "* **tag_ehook**, que permite determinar quais tuplas da tabela tag são referentes a eHooks"
   ]
  },
  {
   "cell_type": "raw",
   "metadata": {},
   "source": [
    "id\ttimestamp_base\tactive\ttag_id\ttag_group_id\ttag_use_id"
   ]
  },
  {
   "cell_type": "code",
   "execution_count": null,
   "metadata": {},
   "outputs": [],
   "source": [
    "df_tag_ehook = pd.read_sql_query(\"\"\"SELECT id, timestamp_base, tag_id, tag_group_id, tag_use_id\n",
    "                                   FROM coldchain.tag_ehook    \n",
    "                                   ORDER BY id\n",
    "                                   LIMIT 10;\"\"\", connection)\n",
    "df_tag_ehook"
   ]
  },
  {
   "cell_type": "markdown",
   "metadata": {},
   "source": [
    "* Separar e extrair leituras dos eHooks por KM, por dia e período do dia\n",
    "\n",
    "'session_id' = se é ehook ou smartphone \n",
    "\n",
    "               ehook / tag != NULL"
   ]
  },
  {
   "cell_type": "code",
   "execution_count": null,
   "metadata": {},
   "outputs": [],
   "source": [
    "connection = mysql.connector.MySQLConnection(user=\"root\",\n",
    "                                             password=\"\",\n",
    "                                             host='127.0.0.1',\n",
    "                                             database='coldchain',\n",
    "                                             port=3306)"
   ]
  },
  {
   "cell_type": "code",
   "execution_count": null,
   "metadata": {},
   "outputs": [],
   "source": [
    "start=timeit.default_timer()\n",
    "\n",
    "df_ehook_km = pd.read_sql_query('''SELECT\n",
    "                                       #k.id, k.km, k.state, \n",
    "                                       #d.id AS datapoint_tab_id, datetime, geo_accuracy, temperature, session_id AS datapoint_tab_session_id,\n",
    "                                       #session.id AS session_tab_id, session.tag_id AS session_tab_tag_id,\n",
    "                                       #tag_ehook.tag_id AS tag_ehook_tab_tag_id,\n",
    "                                       #HOUR(d.datetime) BETWEEN 00 AND 05 AND MINUTE(d.datetime) BETWEEN 00 AND 59 AS esp_00h_06hs,\n",
    "                                       #HOUR(d.datetime) BETWEEN 06 AND 11 AND MINUTE(d.datetime) BETWEEN 00 AND 59 AS esp_06_12hs,\n",
    "                                       #HOUR(d.datetime) BETWEEN 12 AND 17 AND MINUTE(d.datetime) BETWEEN 00 AND 59 AS esp_12_18,\n",
    "                                       #HOUR(d.datetime) BETWEEN 18 AND 23 AND MINUTE(d.datetime) BETWEEN 00 AND 59 AS esp_18_24hs\n",
    "                                       CAST(sum(CASE WHEN HOUR(d.datetime) BETWEEN 00 AND 05 AND MINUTE(d.datetime) BETWEEN 00 AND 59 THEN 1 ELSE 0 END) AS SIGNED) AS esp_00h_06hs,\n",
    "                                       CAST(sum(CASE WHEN HOUR(d.datetime) BETWEEN 06 AND 11 AND MINUTE(d.datetime) BETWEEN 00 AND 59 THEN 1 ELSE 0 END) AS SIGNED) AS esp_06_12hs,\n",
    "                                       CAST(sum(CASE WHEN HOUR(d.datetime) BETWEEN 12 AND 17 AND MINUTE(d.datetime) BETWEEN 00 AND 59 THEN 1 ELSE 0 END) AS SIGNED) AS esp_12_18,\n",
    "                                       CAST(sum(CASE WHEN HOUR(d.datetime) BETWEEN 18 AND 23 AND MINUTE(d.datetime) BETWEEN 00 AND 59 THEN 1 ELSE 0 END) AS SIGNED) AS esp_18_24hs\n",
    "                                   FROM datapoint AS d\n",
    "                                       JOIN dutra_kms AS k\n",
    "                                       JOIN session\n",
    "                                           ON session.id = d.session_id\n",
    "                                       JOIN tag_ehook\n",
    "                                           ON tag_ehook.tag_id = session.tag_id\n",
    "                                   #WHERE (longitude BETWEEN -46.589 AND -46.587)\n",
    "                                       #AND (latitude BETWEEN -23.527 AND -23.525)\n",
    "                                   WHERE d.longitude > k.long_min AND d.longitude < k.long_max\n",
    "                                       AND d.latitude > k.lat_min AND d.latitude < k.lat_max\n",
    "                                       AND ((datetime > '2020-03-07' - interval 2 day) AND (datetime < '2020-03-07'))\n",
    "                                       AND (geo_accuracy <= 700)\n",
    "                                       AND (tag_ehook.tag_id IS NOT NULL)\n",
    "                                       AND (session_id IS NOT null)\n",
    "                                       AND (temperature IS NULL)\n",
    "                                       and k.id <= 10\n",
    "                                   #order by k.km\n",
    "                                   ORDER BY k.km DESC;''', connection)\n",
    "\n",
    "end=timeit.default_timer()\n",
    "\n",
    "check_time(start, end)\n",
    "\n",
    "df_ehook_km"
   ]
  },
  {
   "cell_type": "code",
   "execution_count": null,
   "metadata": {},
   "outputs": [],
   "source": [
    "# print(df_ehook_km.to_string())"
   ]
  },
  {
   "cell_type": "markdown",
   "metadata": {},
   "source": [
    "=-=-=-=-=-=-=-=-=-=-=-=-=-=-=-=-=-=-=-=-=-=-=-=-=-=-=-=-=-=-=-=-=-=-=-=-=-=-=-=-=-=-=-=-=-=-=-=-=-=-=-=-=-=-=-=-=-=-=-=-=-=-=-=-=-=-=-=-=-=-=-=-=-=-=-=-=-=-=-=-=-=-=-=-=-=-=-=-=-=-=-=-=-=-=-=-=-=-=-=-=-=-=-=-=-=-=-=-=-=-=-=-=-=\n",
    "* **appinstance** - representa a instalação de um App, integrado à lib Android/iOS eTracker, em um aparelho celular. Um aparelho pode ter múltiplos aplicativos que implementam a eTracker. Cada tupla da tabela datapoint necessariamente tem um appinstance associado, que é de onde veio o dado"
   ]
  },
  {
   "cell_type": "raw",
   "metadata": {},
   "source": [
    "id, position, company_id, reporter_id, sector_id, active, otacfg_id"
   ]
  },
  {
   "cell_type": "code",
   "execution_count": null,
   "metadata": {},
   "outputs": [],
   "source": [
    "start=timeit.default_timer()\n",
    "df_appinstance = pd.read_sql_query(\"\"\"SELECT id, position, company_id, sector_id, otacfg_id, reporter_id\n",
    "                                      FROM coldchain.appinstance\n",
    "                                      LIMIT 10;\"\"\", connection)\n",
    "end=timeit.default_timer()\n",
    "check_time(start, end)\n",
    "\n",
    "df_appinstance"
   ]
  },
  {
   "cell_type": "markdown",
   "metadata": {},
   "source": [
    "* **reporter** - o aparelho celular ou SLS que é dispositivo dedicado de leitura de eHooks / #tag"
   ]
  },
  {
   "cell_type": "raw",
   "metadata": {},
   "source": [
    "id, identifier, alias, user_agent, active, reporterdevice_id"
   ]
  },
  {
   "cell_type": "code",
   "execution_count": null,
   "metadata": {},
   "outputs": [],
   "source": [
    "df_reporter = pd.read_sql_query(\"\"\"SELECT id, identifier, alias, user_agent, reporterdevice_id \n",
    "                                   FROM coldchain.reporter\n",
    "                                   ORDER BY id\n",
    "                                   LIMIT 10;\"\"\", connection)\n",
    "df_reporter"
   ]
  },
  {
   "cell_type": "markdown",
   "metadata": {},
   "source": [
    "* reporterdevice"
   ]
  },
  {
   "cell_type": "raw",
   "metadata": {},
   "source": [
    "id\tactive\tdevicemodel_id\tdeviceosversion_id\tlibversion_id"
   ]
  },
  {
   "cell_type": "code",
   "execution_count": null,
   "metadata": {},
   "outputs": [],
   "source": [
    "df_reporterdevice = pd.read_sql_query(\"\"\"SELECT id, devicemodel_id, deviceosversion_id, libversion_id\n",
    "                                         FROM coldchain.reporterdevice    \n",
    "                                         ORDER BY id\n",
    "                                         LIMIT 10;\"\"\", connection)\n",
    "df_reporterdevice"
   ]
  },
  {
   "cell_type": "markdown",
   "metadata": {},
   "source": [
    "* deviceosversion"
   ]
  },
  {
   "cell_type": "raw",
   "metadata": {},
   "source": [
    "id\trelease\tsdk\tactive"
   ]
  },
  {
   "cell_type": "code",
   "execution_count": null,
   "metadata": {},
   "outputs": [],
   "source": [
    "df_deviceosversion = pd.read_sql_query(\"\"\"SELECT *\n",
    "                                         FROM coldchain.deviceosversion\n",
    "                                         ORDER BY id\n",
    "                                         LIMIT 10;\"\"\", connection)\n",
    "df_deviceosversion.drop(['create_by', 'create_time', 'update_by', 'update_time', 'active'], axis=1)"
   ]
  },
  {
   "cell_type": "markdown",
   "metadata": {},
   "source": [
    "* Separar e extrair leituras dos reporters por KM, por dia e período do dia\n",
    "\n",
    "'session_id' = se é ehook ou smartphone \n",
    "\n",
    "               smartfone == NULL (se comporta como SLS);"
   ]
  },
  {
   "cell_type": "raw",
   "metadata": {},
   "source": [
    "id, position, company_id, reporter_id, sector_id, active, otacfg_id"
   ]
  },
  {
   "cell_type": "code",
   "execution_count": null,
   "metadata": {},
   "outputs": [],
   "source": [
    "start=timeit.default_timer()\n",
    "\n",
    "df_rep_km = pd.read_sql_query('''SELECT \n",
    "                                       CAST(sum(HOUR(datapoint.datetime) BETWEEN 00 AND 05 AND MINUTE(datapoint.datetime) BETWEEN 00 AND 59) AS SIGNED) AS esp_00h_06hs,\n",
    "                                       CAST(sum(HOUR(datapoint.datetime) BETWEEN 06 AND 11 AND MINUTE(datapoint.datetime) BETWEEN 00 AND 59) AS SIGNED) AS esp_06_12hs,\n",
    "                                       CAST(sum(HOUR(datapoint.datetime) BETWEEN 12 AND 17 AND MINUTE(datapoint.datetime) BETWEEN 00 AND 59) AS SIGNED) AS esp_12_18,\n",
    "                                       CAST(sum(HOUR(datapoint.datetime) BETWEEN 18 AND 23 AND MINUTE(datapoint.datetime) BETWEEN 00 AND 59) AS SIGNED) AS esp_18_24hs\n",
    "                                FROM datapoint\n",
    "                                    JOIN appinstance\n",
    "                                        ON appinstance.id = datapoint.appinstance_id\n",
    "                                    JOIN reporter \n",
    "                                        ON reporter.id = appinstance.reporter_id\n",
    "                                    JOIN reporterdevice \n",
    "                                        ON reporterdevice.id = reporter.reporterdevice_id\n",
    "                                    JOIN deviceosversion \n",
    "                                        ON deviceosversion.id = reporterdevice.deviceosversion_id\n",
    "                                WHERE (latitude BETWEEN -23.527 AND -23.525)\n",
    "                                    AND (longitude BETWEEN -46.589 AND -46.587)\n",
    "                                    AND (datetime BETWEEN (last_day(datetime) - interval 3 day) AND last_day(datetime))\n",
    "                                    AND (geo_accuracy <= 700)\n",
    "                                    AND (session_id IS null)\n",
    "                                    AND (appinstance_id IS NOT NULL)\n",
    "                                    AND (temperature IS NULL)\n",
    "                                    AND appinstance.company_id = 14 \n",
    "                                    AND deviceosversion.release NOT LIKE 'iOS%' \n",
    "                                ORDER BY datetime DESC\n",
    "                                ;''', connection)\n",
    "\n",
    "end=timeit.default_timer()\n",
    "\n",
    "check_time(start, end)\n",
    "\n",
    "df_rep_km"
   ]
  },
  {
   "cell_type": "markdown",
   "metadata": {},
   "source": [
    "=-=-=-=-=-=-=-=-=-=-=-=-=-=-=-=-=-=-=-=-=-=-=-=-=-=-=-=-=-=-=-=-=-=-=-=-=-=-=-=-=-=-=-=-=-=-=-=-=-=-=-=-=-=-=-=-=-=-=-=-=-=-=-=-=-=-=-=-=-=-=-=-=-=-=-=-=-=-=-=-=-=-=-=-=-=-=-=-=-=-=-=-=-=-=-=-=-=-=-=-=-=-=-=-=-=-=-=-=-=-=-=-=-=\n",
    "* Close Connections"
   ]
  },
  {
   "cell_type": "code",
   "execution_count": null,
   "metadata": {},
   "outputs": [],
   "source": [
    "connection.close()\n",
    "\n",
    "print('FINISH!')"
   ]
  },
  {
   "cell_type": "code",
   "execution_count": null,
   "metadata": {},
   "outputs": [],
   "source": []
  }
 ],
 "metadata": {
  "kernelspec": {
   "display_name": "Python 3 (ipykernel)",
   "language": "python",
   "name": "python3"
  },
  "language_info": {
   "codemirror_mode": {
    "name": "ipython",
    "version": 3
   },
   "file_extension": ".py",
   "mimetype": "text/x-python",
   "name": "python",
   "nbconvert_exporter": "python",
   "pygments_lexer": "ipython3",
   "version": "3.8.10"
  }
 },
 "nbformat": 4,
 "nbformat_minor": 4
}
