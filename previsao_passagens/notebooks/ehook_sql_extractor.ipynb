{
 "cells": [
  {
   "cell_type": "markdown",
   "metadata": {},
   "source": [
    "# Install necessary libs, if the computer don't have these (uncomment necessary lib)\n"
   ]
  },
  {
   "cell_type": "code",
   "execution_count": 80,
   "metadata": {},
   "outputs": [],
   "source": [
    "# !pip install geocoder\n",
    "# !pip install geopy\n",
    "# !pip install folium\n",
    "# !pip install mysql"
   ]
  },
  {
   "cell_type": "code",
   "execution_count": 81,
   "metadata": {},
   "outputs": [],
   "source": [
    "from geopy.geocoders import Nominatim\n",
    "import pandas as pd\n",
    "import numpy as np\n",
    "import folium\n",
    "from folium.plugins import FastMarkerCluster\n",
    "import mysql.connector\n",
    "import timeit\n",
    "\n",
    "from functions.chronometer import check_time"
   ]
  },
  {
   "cell_type": "markdown",
   "metadata": {},
   "source": [
    "***\n",
    "# =-=-=-=-=-=-=-=-=-= SETAR DATA E RODOVIA =-=-=-=-=-=-=-=-=-="
   ]
  },
  {
   "cell_type": "code",
   "execution_count": 82,
   "metadata": {},
   "outputs": [],
   "source": [
    "data = '2020-01-07'\n",
    "rodovia = 'dutra'"
   ]
  },
  {
   "cell_type": "markdown",
   "metadata": {},
   "source": [
    "***\n",
    "* Arquivo gerado a partir do KML do google earth"
   ]
  },
  {
   "cell_type": "code",
   "execution_count": 83,
   "metadata": {},
   "outputs": [
    {
     "data": {
      "text/html": [
       "<div>\n",
       "<style scoped>\n",
       "    .dataframe tbody tr th:only-of-type {\n",
       "        vertical-align: middle;\n",
       "    }\n",
       "\n",
       "    .dataframe tbody tr th {\n",
       "        vertical-align: top;\n",
       "    }\n",
       "\n",
       "    .dataframe thead th {\n",
       "        text-align: right;\n",
       "    }\n",
       "</style>\n",
       "<table border=\"1\" class=\"dataframe\">\n",
       "  <thead>\n",
       "    <tr style=\"text-align: right;\">\n",
       "      <th></th>\n",
       "      <th>Latitude</th>\n",
       "      <th>Longitude</th>\n",
       "    </tr>\n",
       "  </thead>\n",
       "  <tbody>\n",
       "    <tr>\n",
       "      <th>0</th>\n",
       "      <td>-23.525513</td>\n",
       "      <td>-46.587819</td>\n",
       "    </tr>\n",
       "    <tr>\n",
       "      <th>1</th>\n",
       "      <td>-23.525083</td>\n",
       "      <td>-46.587481</td>\n",
       "    </tr>\n",
       "    <tr>\n",
       "      <th>2</th>\n",
       "      <td>-23.524845</td>\n",
       "      <td>-46.587295</td>\n",
       "    </tr>\n",
       "    <tr>\n",
       "      <th>3</th>\n",
       "      <td>-23.524453</td>\n",
       "      <td>-46.586983</td>\n",
       "    </tr>\n",
       "    <tr>\n",
       "      <th>4</th>\n",
       "      <td>-23.524057</td>\n",
       "      <td>-46.586675</td>\n",
       "    </tr>\n",
       "    <tr>\n",
       "      <th>...</th>\n",
       "      <td>...</td>\n",
       "      <td>...</td>\n",
       "    </tr>\n",
       "    <tr>\n",
       "      <th>9061</th>\n",
       "      <td>-22.816855</td>\n",
       "      <td>-43.323532</td>\n",
       "    </tr>\n",
       "    <tr>\n",
       "      <th>9062</th>\n",
       "      <td>-22.816929</td>\n",
       "      <td>-43.323396</td>\n",
       "    </tr>\n",
       "    <tr>\n",
       "      <th>9063</th>\n",
       "      <td>-22.817023</td>\n",
       "      <td>-43.323227</td>\n",
       "    </tr>\n",
       "    <tr>\n",
       "      <th>9064</th>\n",
       "      <td>-22.817088</td>\n",
       "      <td>-43.323105</td>\n",
       "    </tr>\n",
       "    <tr>\n",
       "      <th>9065</th>\n",
       "      <td>-22.817153</td>\n",
       "      <td>-43.322989</td>\n",
       "    </tr>\n",
       "  </tbody>\n",
       "</table>\n",
       "<p>9066 rows × 2 columns</p>\n",
       "</div>"
      ],
      "text/plain": [
       "       Latitude  Longitude\n",
       "0    -23.525513 -46.587819\n",
       "1    -23.525083 -46.587481\n",
       "2    -23.524845 -46.587295\n",
       "3    -23.524453 -46.586983\n",
       "4    -23.524057 -46.586675\n",
       "...         ...        ...\n",
       "9061 -22.816855 -43.323532\n",
       "9062 -22.816929 -43.323396\n",
       "9063 -22.817023 -43.323227\n",
       "9064 -22.817088 -43.323105\n",
       "9065 -22.817153 -43.322989\n",
       "\n",
       "[9066 rows x 2 columns]"
      ]
     },
     "execution_count": 83,
     "metadata": {},
     "output_type": "execute_result"
    }
   ],
   "source": [
    "coord = pd.read_csv('../inputs/coordenadas/' + rodovia + '/' + rodovia + '_coord.csv')\n",
    "coord"
   ]
  },
  {
   "cell_type": "code",
   "execution_count": 84,
   "metadata": {},
   "outputs": [
    {
     "data": {
      "text/html": [
       "<div>\n",
       "<style scoped>\n",
       "    .dataframe tbody tr th:only-of-type {\n",
       "        vertical-align: middle;\n",
       "    }\n",
       "\n",
       "    .dataframe tbody tr th {\n",
       "        vertical-align: top;\n",
       "    }\n",
       "\n",
       "    .dataframe thead th {\n",
       "        text-align: right;\n",
       "    }\n",
       "</style>\n",
       "<table border=\"1\" class=\"dataframe\">\n",
       "  <thead>\n",
       "    <tr style=\"text-align: right;\">\n",
       "      <th></th>\n",
       "      <th>Rodovia</th>\n",
       "      <th>KM</th>\n",
       "      <th>State</th>\n",
       "    </tr>\n",
       "  </thead>\n",
       "  <tbody>\n",
       "    <tr>\n",
       "      <th>0</th>\n",
       "      <td>Presidente Dutra</td>\n",
       "      <td>232</td>\n",
       "      <td>SP</td>\n",
       "    </tr>\n",
       "    <tr>\n",
       "      <th>1</th>\n",
       "      <td>Presidente Dutra</td>\n",
       "      <td>231</td>\n",
       "      <td>SP</td>\n",
       "    </tr>\n",
       "    <tr>\n",
       "      <th>2</th>\n",
       "      <td>Presidente Dutra</td>\n",
       "      <td>230</td>\n",
       "      <td>SP</td>\n",
       "    </tr>\n",
       "    <tr>\n",
       "      <th>3</th>\n",
       "      <td>Presidente Dutra</td>\n",
       "      <td>229</td>\n",
       "      <td>SP</td>\n",
       "    </tr>\n",
       "    <tr>\n",
       "      <th>4</th>\n",
       "      <td>Presidente Dutra</td>\n",
       "      <td>228</td>\n",
       "      <td>SP</td>\n",
       "    </tr>\n",
       "    <tr>\n",
       "      <th>...</th>\n",
       "      <td>...</td>\n",
       "      <td>...</td>\n",
       "      <td>...</td>\n",
       "    </tr>\n",
       "    <tr>\n",
       "      <th>398</th>\n",
       "      <td>Presidente Dutra</td>\n",
       "      <td>168</td>\n",
       "      <td>RJ</td>\n",
       "    </tr>\n",
       "    <tr>\n",
       "      <th>399</th>\n",
       "      <td>Presidente Dutra</td>\n",
       "      <td>167</td>\n",
       "      <td>RJ</td>\n",
       "    </tr>\n",
       "    <tr>\n",
       "      <th>400</th>\n",
       "      <td>Presidente Dutra</td>\n",
       "      <td>166</td>\n",
       "      <td>RJ</td>\n",
       "    </tr>\n",
       "    <tr>\n",
       "      <th>401</th>\n",
       "      <td>Presidente Dutra</td>\n",
       "      <td>165</td>\n",
       "      <td>RJ</td>\n",
       "    </tr>\n",
       "    <tr>\n",
       "      <th>402</th>\n",
       "      <td>Presidente Dutra</td>\n",
       "      <td>164</td>\n",
       "      <td>RJ</td>\n",
       "    </tr>\n",
       "  </tbody>\n",
       "</table>\n",
       "<p>403 rows × 3 columns</p>\n",
       "</div>"
      ],
      "text/plain": [
       "              Rodovia   KM State\n",
       "0    Presidente Dutra  232    SP\n",
       "1    Presidente Dutra  231    SP\n",
       "2    Presidente Dutra  230    SP\n",
       "3    Presidente Dutra  229    SP\n",
       "4    Presidente Dutra  228    SP\n",
       "..                ...  ...   ...\n",
       "398  Presidente Dutra  168    RJ\n",
       "399  Presidente Dutra  167    RJ\n",
       "400  Presidente Dutra  166    RJ\n",
       "401  Presidente Dutra  165    RJ\n",
       "402  Presidente Dutra  164    RJ\n",
       "\n",
       "[403 rows x 3 columns]"
      ]
     },
     "execution_count": 84,
     "metadata": {},
     "output_type": "execute_result"
    }
   ],
   "source": [
    "addresses = pd.read_csv('../inputs/dados_rodovia/' + rodovia + '/' + rodovia + '_names.csv', delimiter=';')\n",
    "addresses"
   ]
  },
  {
   "cell_type": "markdown",
   "metadata": {},
   "source": [
    "***\n",
    "# Divisor de kms\n",
    "\n",
    "Gera as coordenadas que o arquivo KML gerou pela quantidade de KMs da rodovia. Caso o resultado da divisão não seja exata, é feito o \"arredondamento\" para que no final cada KM receba as coordenadas de forma correta."
   ]
  },
  {
   "cell_type": "code",
   "execution_count": 85,
   "metadata": {},
   "outputs": [],
   "source": [
    "km_total = len(addresses)                             # qual kms total da rodovia (inserir manualmente)\n",
    "points_total = coord.shape[0]                         # total de pontos de coordenadas vindos do arquivo kml\n",
    "\n",
    "if points_total % km_total == 0:                      # se a divião for exata\n",
    "    div_fact = points_total // km_total               # fator de divisão\n",
    "    print(div_fact)\n",
    "else:\n",
    "    div_fact_exato = km_total * (points_total // km_total)   # arredonda a divisor\n",
    "    remove_n = points_total - div_fact_exato          # linhas a serem removidas\n",
    "    drop_rows = np.random.choice(coord.index, remove_n, replace=False)  # linhas escolhidas aleatoriamente para serem removidas, a fim de arredondar a diferença\n",
    "    coord = coord.drop(drop_rows)                     # remoção das linhas escolhidas\n",
    "    coord = coord.reset_index(drop=True)              # reseta o index\n",
    "    points_total_changed = coord.shape[0]             # pega o tamanho do dataframe\n",
    "    div_fact = points_total_changed / km_total        # fator de divisão\n",
    "    div_fact = int(div_fact)                          # transforma em inteiro\n"
   ]
  },
  {
   "cell_type": "code",
   "execution_count": 86,
   "metadata": {},
   "outputs": [],
   "source": [
    "list_lat = pd.DataFrame(['%06.3f' % (coord.loc[i][0]) for i in range(0, len(coord), div_fact)], columns=['Latitude'])"
   ]
  },
  {
   "cell_type": "code",
   "execution_count": 87,
   "metadata": {},
   "outputs": [],
   "source": [
    "list_lon = pd.DataFrame(['%06.3f' % (coord.loc[i][1]) for i in range(0, len(coord), div_fact)], columns=['Longitude'])"
   ]
  },
  {
   "cell_type": "code",
   "execution_count": 88,
   "metadata": {},
   "outputs": [
    {
     "data": {
      "text/html": [
       "<div>\n",
       "<style scoped>\n",
       "    .dataframe tbody tr th:only-of-type {\n",
       "        vertical-align: middle;\n",
       "    }\n",
       "\n",
       "    .dataframe tbody tr th {\n",
       "        vertical-align: top;\n",
       "    }\n",
       "\n",
       "    .dataframe thead th {\n",
       "        text-align: right;\n",
       "    }\n",
       "</style>\n",
       "<table border=\"1\" class=\"dataframe\">\n",
       "  <thead>\n",
       "    <tr style=\"text-align: right;\">\n",
       "      <th></th>\n",
       "      <th>Latitude</th>\n",
       "      <th>Longitude</th>\n",
       "    </tr>\n",
       "  </thead>\n",
       "  <tbody>\n",
       "    <tr>\n",
       "      <th>0</th>\n",
       "      <td>-23.526</td>\n",
       "      <td>-46.588</td>\n",
       "    </tr>\n",
       "    <tr>\n",
       "      <th>1</th>\n",
       "      <td>-23.518</td>\n",
       "      <td>-46.581</td>\n",
       "    </tr>\n",
       "    <tr>\n",
       "      <th>2</th>\n",
       "      <td>-23.510</td>\n",
       "      <td>-46.574</td>\n",
       "    </tr>\n",
       "    <tr>\n",
       "      <th>3</th>\n",
       "      <td>-23.502</td>\n",
       "      <td>-46.565</td>\n",
       "    </tr>\n",
       "    <tr>\n",
       "      <th>4</th>\n",
       "      <td>-23.497</td>\n",
       "      <td>-46.558</td>\n",
       "    </tr>\n",
       "    <tr>\n",
       "      <th>...</th>\n",
       "      <td>...</td>\n",
       "      <td>...</td>\n",
       "    </tr>\n",
       "    <tr>\n",
       "      <th>398</th>\n",
       "      <td>-22.798</td>\n",
       "      <td>-43.359</td>\n",
       "    </tr>\n",
       "    <tr>\n",
       "      <th>399</th>\n",
       "      <td>-22.802</td>\n",
       "      <td>-43.351</td>\n",
       "    </tr>\n",
       "    <tr>\n",
       "      <th>400</th>\n",
       "      <td>-22.806</td>\n",
       "      <td>-43.343</td>\n",
       "    </tr>\n",
       "    <tr>\n",
       "      <th>401</th>\n",
       "      <td>-22.809</td>\n",
       "      <td>-43.338</td>\n",
       "    </tr>\n",
       "    <tr>\n",
       "      <th>402</th>\n",
       "      <td>-22.815</td>\n",
       "      <td>-43.327</td>\n",
       "    </tr>\n",
       "  </tbody>\n",
       "</table>\n",
       "<p>403 rows × 2 columns</p>\n",
       "</div>"
      ],
      "text/plain": [
       "    Latitude Longitude\n",
       "0    -23.526   -46.588\n",
       "1    -23.518   -46.581\n",
       "2    -23.510   -46.574\n",
       "3    -23.502   -46.565\n",
       "4    -23.497   -46.558\n",
       "..       ...       ...\n",
       "398  -22.798   -43.359\n",
       "399  -22.802   -43.351\n",
       "400  -22.806   -43.343\n",
       "401  -22.809   -43.338\n",
       "402  -22.815   -43.327\n",
       "\n",
       "[403 rows x 2 columns]"
      ]
     },
     "execution_count": 88,
     "metadata": {},
     "output_type": "execute_result"
    }
   ],
   "source": [
    "coord = pd.concat([list_lat, list_lon], axis=1)\n",
    "coord"
   ]
  },
  {
   "cell_type": "markdown",
   "metadata": {},
   "source": [
    "***\n",
    "# Map\n",
    "\n",
    "Plota no mapa as coordenadas geradas"
   ]
  },
  {
   "cell_type": "code",
   "execution_count": 89,
   "metadata": {},
   "outputs": [],
   "source": [
    "map1 = folium.Map(location=[-22.8923, -45.2887],\n",
    "                  tiles='cartodbpositron',\n",
    "                  zoom_start=9,\n",
    "                  )"
   ]
  },
  {
   "cell_type": "code",
   "execution_count": 90,
   "metadata": {},
   "outputs": [
    {
     "data": {
      "text/plain": [
       "0      <folium.vector_layers.CircleMarker object at 0...\n",
       "1      <folium.vector_layers.CircleMarker object at 0...\n",
       "2      <folium.vector_layers.CircleMarker object at 0...\n",
       "3      <folium.vector_layers.CircleMarker object at 0...\n",
       "4      <folium.vector_layers.CircleMarker object at 0...\n",
       "                             ...                        \n",
       "398    <folium.vector_layers.CircleMarker object at 0...\n",
       "399    <folium.vector_layers.CircleMarker object at 0...\n",
       "400    <folium.vector_layers.CircleMarker object at 0...\n",
       "401    <folium.vector_layers.CircleMarker object at 0...\n",
       "402    <folium.vector_layers.CircleMarker object at 0...\n",
       "Length: 403, dtype: object"
      ]
     },
     "execution_count": 90,
     "metadata": {},
     "output_type": "execute_result"
    }
   ],
   "source": [
    "coord.apply(lambda row:folium.CircleMarker(location=[row[\"Latitude\"], row[\"Longitude\"]]).add_to(map1), axis=1)"
   ]
  },
  {
   "cell_type": "code",
   "execution_count": 149,
   "metadata": {},
   "outputs": [],
   "source": [
    "# map1"
   ]
  },
  {
   "cell_type": "markdown",
   "metadata": {},
   "source": [
    "***"
   ]
  },
  {
   "cell_type": "markdown",
   "metadata": {},
   "source": [
    "* Addresses\n",
    "\n",
    "Para cada coordenada é feita a junção da descrição do KM correspondente"
   ]
  },
  {
   "cell_type": "code",
   "execution_count": 92,
   "metadata": {},
   "outputs": [],
   "source": [
    "addresses['Latitude'] = \"\"\n",
    "addresses['Longitude'] = \"\""
   ]
  },
  {
   "cell_type": "code",
   "execution_count": 93,
   "metadata": {},
   "outputs": [
    {
     "data": {
      "text/html": [
       "<div>\n",
       "<style scoped>\n",
       "    .dataframe tbody tr th:only-of-type {\n",
       "        vertical-align: middle;\n",
       "    }\n",
       "\n",
       "    .dataframe tbody tr th {\n",
       "        vertical-align: top;\n",
       "    }\n",
       "\n",
       "    .dataframe thead th {\n",
       "        text-align: right;\n",
       "    }\n",
       "</style>\n",
       "<table border=\"1\" class=\"dataframe\">\n",
       "  <thead>\n",
       "    <tr style=\"text-align: right;\">\n",
       "      <th></th>\n",
       "      <th>Rodovia</th>\n",
       "      <th>KM</th>\n",
       "      <th>State</th>\n",
       "      <th>Latitude</th>\n",
       "      <th>Longitude</th>\n",
       "    </tr>\n",
       "  </thead>\n",
       "  <tbody>\n",
       "    <tr>\n",
       "      <th>0</th>\n",
       "      <td>Presidente Dutra</td>\n",
       "      <td>232</td>\n",
       "      <td>SP</td>\n",
       "      <td>-23.526</td>\n",
       "      <td>-46.588</td>\n",
       "    </tr>\n",
       "    <tr>\n",
       "      <th>1</th>\n",
       "      <td>Presidente Dutra</td>\n",
       "      <td>231</td>\n",
       "      <td>SP</td>\n",
       "      <td>-23.518</td>\n",
       "      <td>-46.581</td>\n",
       "    </tr>\n",
       "    <tr>\n",
       "      <th>2</th>\n",
       "      <td>Presidente Dutra</td>\n",
       "      <td>230</td>\n",
       "      <td>SP</td>\n",
       "      <td>-23.510</td>\n",
       "      <td>-46.574</td>\n",
       "    </tr>\n",
       "    <tr>\n",
       "      <th>3</th>\n",
       "      <td>Presidente Dutra</td>\n",
       "      <td>229</td>\n",
       "      <td>SP</td>\n",
       "      <td>-23.502</td>\n",
       "      <td>-46.565</td>\n",
       "    </tr>\n",
       "    <tr>\n",
       "      <th>4</th>\n",
       "      <td>Presidente Dutra</td>\n",
       "      <td>228</td>\n",
       "      <td>SP</td>\n",
       "      <td>-23.497</td>\n",
       "      <td>-46.558</td>\n",
       "    </tr>\n",
       "    <tr>\n",
       "      <th>...</th>\n",
       "      <td>...</td>\n",
       "      <td>...</td>\n",
       "      <td>...</td>\n",
       "      <td>...</td>\n",
       "      <td>...</td>\n",
       "    </tr>\n",
       "    <tr>\n",
       "      <th>398</th>\n",
       "      <td>Presidente Dutra</td>\n",
       "      <td>168</td>\n",
       "      <td>RJ</td>\n",
       "      <td>-22.798</td>\n",
       "      <td>-43.359</td>\n",
       "    </tr>\n",
       "    <tr>\n",
       "      <th>399</th>\n",
       "      <td>Presidente Dutra</td>\n",
       "      <td>167</td>\n",
       "      <td>RJ</td>\n",
       "      <td>-22.802</td>\n",
       "      <td>-43.351</td>\n",
       "    </tr>\n",
       "    <tr>\n",
       "      <th>400</th>\n",
       "      <td>Presidente Dutra</td>\n",
       "      <td>166</td>\n",
       "      <td>RJ</td>\n",
       "      <td>-22.806</td>\n",
       "      <td>-43.343</td>\n",
       "    </tr>\n",
       "    <tr>\n",
       "      <th>401</th>\n",
       "      <td>Presidente Dutra</td>\n",
       "      <td>165</td>\n",
       "      <td>RJ</td>\n",
       "      <td>-22.809</td>\n",
       "      <td>-43.338</td>\n",
       "    </tr>\n",
       "    <tr>\n",
       "      <th>402</th>\n",
       "      <td>Presidente Dutra</td>\n",
       "      <td>164</td>\n",
       "      <td>RJ</td>\n",
       "      <td>-22.815</td>\n",
       "      <td>-43.327</td>\n",
       "    </tr>\n",
       "  </tbody>\n",
       "</table>\n",
       "<p>403 rows × 5 columns</p>\n",
       "</div>"
      ],
      "text/plain": [
       "              Rodovia   KM State Latitude Longitude\n",
       "0    Presidente Dutra  232    SP  -23.526   -46.588\n",
       "1    Presidente Dutra  231    SP  -23.518   -46.581\n",
       "2    Presidente Dutra  230    SP  -23.510   -46.574\n",
       "3    Presidente Dutra  229    SP  -23.502   -46.565\n",
       "4    Presidente Dutra  228    SP  -23.497   -46.558\n",
       "..                ...  ...   ...      ...       ...\n",
       "398  Presidente Dutra  168    RJ  -22.798   -43.359\n",
       "399  Presidente Dutra  167    RJ  -22.802   -43.351\n",
       "400  Presidente Dutra  166    RJ  -22.806   -43.343\n",
       "401  Presidente Dutra  165    RJ  -22.809   -43.338\n",
       "402  Presidente Dutra  164    RJ  -22.815   -43.327\n",
       "\n",
       "[403 rows x 5 columns]"
      ]
     },
     "execution_count": 93,
     "metadata": {},
     "output_type": "execute_result"
    }
   ],
   "source": [
    "for x in range(len(addresses)):\n",
    "    addresses.loc[x, 'Latitude'] = coord.loc[x, 'Latitude']\n",
    "    addresses.loc[x, 'Longitude'] = coord.loc[x, 'Longitude']\n",
    "\n",
    "# print(addresses.to_string())\n",
    "addresses"
   ]
  },
  {
   "cell_type": "markdown",
   "metadata": {},
   "source": [
    "***\n",
    "* Save to CSV"
   ]
  },
  {
   "cell_type": "code",
   "execution_count": 94,
   "metadata": {},
   "outputs": [
    {
     "data": {
      "text/html": [
       "<div>\n",
       "<style scoped>\n",
       "    .dataframe tbody tr th:only-of-type {\n",
       "        vertical-align: middle;\n",
       "    }\n",
       "\n",
       "    .dataframe tbody tr th {\n",
       "        vertical-align: top;\n",
       "    }\n",
       "\n",
       "    .dataframe thead th {\n",
       "        text-align: right;\n",
       "    }\n",
       "</style>\n",
       "<table border=\"1\" class=\"dataframe\">\n",
       "  <thead>\n",
       "    <tr style=\"text-align: right;\">\n",
       "      <th></th>\n",
       "      <th>Rodovia</th>\n",
       "      <th>KM</th>\n",
       "      <th>State</th>\n",
       "      <th>Latitude</th>\n",
       "      <th>Longitude</th>\n",
       "    </tr>\n",
       "  </thead>\n",
       "  <tbody>\n",
       "    <tr>\n",
       "      <th>0</th>\n",
       "      <td>Presidente Dutra</td>\n",
       "      <td>232</td>\n",
       "      <td>SP</td>\n",
       "      <td>-23.526</td>\n",
       "      <td>-46.588</td>\n",
       "    </tr>\n",
       "    <tr>\n",
       "      <th>1</th>\n",
       "      <td>Presidente Dutra</td>\n",
       "      <td>231</td>\n",
       "      <td>SP</td>\n",
       "      <td>-23.518</td>\n",
       "      <td>-46.581</td>\n",
       "    </tr>\n",
       "    <tr>\n",
       "      <th>2</th>\n",
       "      <td>Presidente Dutra</td>\n",
       "      <td>230</td>\n",
       "      <td>SP</td>\n",
       "      <td>-23.510</td>\n",
       "      <td>-46.574</td>\n",
       "    </tr>\n",
       "    <tr>\n",
       "      <th>3</th>\n",
       "      <td>Presidente Dutra</td>\n",
       "      <td>229</td>\n",
       "      <td>SP</td>\n",
       "      <td>-23.502</td>\n",
       "      <td>-46.565</td>\n",
       "    </tr>\n",
       "    <tr>\n",
       "      <th>4</th>\n",
       "      <td>Presidente Dutra</td>\n",
       "      <td>228</td>\n",
       "      <td>SP</td>\n",
       "      <td>-23.497</td>\n",
       "      <td>-46.558</td>\n",
       "    </tr>\n",
       "    <tr>\n",
       "      <th>...</th>\n",
       "      <td>...</td>\n",
       "      <td>...</td>\n",
       "      <td>...</td>\n",
       "      <td>...</td>\n",
       "      <td>...</td>\n",
       "    </tr>\n",
       "    <tr>\n",
       "      <th>398</th>\n",
       "      <td>Presidente Dutra</td>\n",
       "      <td>168</td>\n",
       "      <td>RJ</td>\n",
       "      <td>-22.798</td>\n",
       "      <td>-43.359</td>\n",
       "    </tr>\n",
       "    <tr>\n",
       "      <th>399</th>\n",
       "      <td>Presidente Dutra</td>\n",
       "      <td>167</td>\n",
       "      <td>RJ</td>\n",
       "      <td>-22.802</td>\n",
       "      <td>-43.351</td>\n",
       "    </tr>\n",
       "    <tr>\n",
       "      <th>400</th>\n",
       "      <td>Presidente Dutra</td>\n",
       "      <td>166</td>\n",
       "      <td>RJ</td>\n",
       "      <td>-22.806</td>\n",
       "      <td>-43.343</td>\n",
       "    </tr>\n",
       "    <tr>\n",
       "      <th>401</th>\n",
       "      <td>Presidente Dutra</td>\n",
       "      <td>165</td>\n",
       "      <td>RJ</td>\n",
       "      <td>-22.809</td>\n",
       "      <td>-43.338</td>\n",
       "    </tr>\n",
       "    <tr>\n",
       "      <th>402</th>\n",
       "      <td>Presidente Dutra</td>\n",
       "      <td>164</td>\n",
       "      <td>RJ</td>\n",
       "      <td>-22.815</td>\n",
       "      <td>-43.327</td>\n",
       "    </tr>\n",
       "  </tbody>\n",
       "</table>\n",
       "<p>403 rows × 5 columns</p>\n",
       "</div>"
      ],
      "text/plain": [
       "              Rodovia   KM State Latitude Longitude\n",
       "0    Presidente Dutra  232    SP  -23.526   -46.588\n",
       "1    Presidente Dutra  231    SP  -23.518   -46.581\n",
       "2    Presidente Dutra  230    SP  -23.510   -46.574\n",
       "3    Presidente Dutra  229    SP  -23.502   -46.565\n",
       "4    Presidente Dutra  228    SP  -23.497   -46.558\n",
       "..                ...  ...   ...      ...       ...\n",
       "398  Presidente Dutra  168    RJ  -22.798   -43.359\n",
       "399  Presidente Dutra  167    RJ  -22.802   -43.351\n",
       "400  Presidente Dutra  166    RJ  -22.806   -43.343\n",
       "401  Presidente Dutra  165    RJ  -22.809   -43.338\n",
       "402  Presidente Dutra  164    RJ  -22.815   -43.327\n",
       "\n",
       "[403 rows x 5 columns]"
      ]
     },
     "execution_count": 94,
     "metadata": {},
     "output_type": "execute_result"
    }
   ],
   "source": [
    "addresses_to_csv = pd.DataFrame({\n",
    "                                 'Rodovia'   : addresses['Rodovia'].astype(str),\n",
    "                                 'KM'        : addresses['KM'],\n",
    "                                 'State'     : addresses['State'].astype(str),\n",
    "                                 'Latitude'  : addresses['Latitude'].astype(str),\n",
    "                                 'Longitude' : addresses['Longitude'].astype(str),\n",
    "                                })\n",
    "addresses_to_csv.to_csv('../inputs/addresses/' + rodovia + '/addresses.csv', index=False)\n",
    "addresses_to_csv"
   ]
  },
  {
   "cell_type": "markdown",
   "metadata": {},
   "source": [
    "***\n",
    "* Load CSV"
   ]
  },
  {
   "cell_type": "code",
   "execution_count": 95,
   "metadata": {},
   "outputs": [
    {
     "data": {
      "text/html": [
       "<div>\n",
       "<style scoped>\n",
       "    .dataframe tbody tr th:only-of-type {\n",
       "        vertical-align: middle;\n",
       "    }\n",
       "\n",
       "    .dataframe tbody tr th {\n",
       "        vertical-align: top;\n",
       "    }\n",
       "\n",
       "    .dataframe thead th {\n",
       "        text-align: right;\n",
       "    }\n",
       "</style>\n",
       "<table border=\"1\" class=\"dataframe\">\n",
       "  <thead>\n",
       "    <tr style=\"text-align: right;\">\n",
       "      <th></th>\n",
       "      <th>Rodovia</th>\n",
       "      <th>KM</th>\n",
       "      <th>State</th>\n",
       "      <th>Latitude</th>\n",
       "      <th>Longitude</th>\n",
       "    </tr>\n",
       "  </thead>\n",
       "  <tbody>\n",
       "    <tr>\n",
       "      <th>0</th>\n",
       "      <td>Presidente Dutra</td>\n",
       "      <td>232</td>\n",
       "      <td>SP</td>\n",
       "      <td>-23.526</td>\n",
       "      <td>-46.588</td>\n",
       "    </tr>\n",
       "    <tr>\n",
       "      <th>1</th>\n",
       "      <td>Presidente Dutra</td>\n",
       "      <td>231</td>\n",
       "      <td>SP</td>\n",
       "      <td>-23.518</td>\n",
       "      <td>-46.581</td>\n",
       "    </tr>\n",
       "    <tr>\n",
       "      <th>2</th>\n",
       "      <td>Presidente Dutra</td>\n",
       "      <td>230</td>\n",
       "      <td>SP</td>\n",
       "      <td>-23.510</td>\n",
       "      <td>-46.574</td>\n",
       "    </tr>\n",
       "    <tr>\n",
       "      <th>3</th>\n",
       "      <td>Presidente Dutra</td>\n",
       "      <td>229</td>\n",
       "      <td>SP</td>\n",
       "      <td>-23.502</td>\n",
       "      <td>-46.565</td>\n",
       "    </tr>\n",
       "    <tr>\n",
       "      <th>4</th>\n",
       "      <td>Presidente Dutra</td>\n",
       "      <td>228</td>\n",
       "      <td>SP</td>\n",
       "      <td>-23.497</td>\n",
       "      <td>-46.558</td>\n",
       "    </tr>\n",
       "    <tr>\n",
       "      <th>...</th>\n",
       "      <td>...</td>\n",
       "      <td>...</td>\n",
       "      <td>...</td>\n",
       "      <td>...</td>\n",
       "      <td>...</td>\n",
       "    </tr>\n",
       "    <tr>\n",
       "      <th>398</th>\n",
       "      <td>Presidente Dutra</td>\n",
       "      <td>168</td>\n",
       "      <td>RJ</td>\n",
       "      <td>-22.798</td>\n",
       "      <td>-43.359</td>\n",
       "    </tr>\n",
       "    <tr>\n",
       "      <th>399</th>\n",
       "      <td>Presidente Dutra</td>\n",
       "      <td>167</td>\n",
       "      <td>RJ</td>\n",
       "      <td>-22.802</td>\n",
       "      <td>-43.351</td>\n",
       "    </tr>\n",
       "    <tr>\n",
       "      <th>400</th>\n",
       "      <td>Presidente Dutra</td>\n",
       "      <td>166</td>\n",
       "      <td>RJ</td>\n",
       "      <td>-22.806</td>\n",
       "      <td>-43.343</td>\n",
       "    </tr>\n",
       "    <tr>\n",
       "      <th>401</th>\n",
       "      <td>Presidente Dutra</td>\n",
       "      <td>165</td>\n",
       "      <td>RJ</td>\n",
       "      <td>-22.809</td>\n",
       "      <td>-43.338</td>\n",
       "    </tr>\n",
       "    <tr>\n",
       "      <th>402</th>\n",
       "      <td>Presidente Dutra</td>\n",
       "      <td>164</td>\n",
       "      <td>RJ</td>\n",
       "      <td>-22.815</td>\n",
       "      <td>-43.327</td>\n",
       "    </tr>\n",
       "  </tbody>\n",
       "</table>\n",
       "<p>403 rows × 5 columns</p>\n",
       "</div>"
      ],
      "text/plain": [
       "              Rodovia   KM State  Latitude  Longitude\n",
       "0    Presidente Dutra  232    SP   -23.526    -46.588\n",
       "1    Presidente Dutra  231    SP   -23.518    -46.581\n",
       "2    Presidente Dutra  230    SP   -23.510    -46.574\n",
       "3    Presidente Dutra  229    SP   -23.502    -46.565\n",
       "4    Presidente Dutra  228    SP   -23.497    -46.558\n",
       "..                ...  ...   ...       ...        ...\n",
       "398  Presidente Dutra  168    RJ   -22.798    -43.359\n",
       "399  Presidente Dutra  167    RJ   -22.802    -43.351\n",
       "400  Presidente Dutra  166    RJ   -22.806    -43.343\n",
       "401  Presidente Dutra  165    RJ   -22.809    -43.338\n",
       "402  Presidente Dutra  164    RJ   -22.815    -43.327\n",
       "\n",
       "[403 rows x 5 columns]"
      ]
     },
     "execution_count": 95,
     "metadata": {},
     "output_type": "execute_result"
    }
   ],
   "source": [
    "addresses = pd.read_csv('../inputs/addresses/' + rodovia + '/addresses.csv', delimiter=',')\n",
    "addresses"
   ]
  },
  {
   "cell_type": "markdown",
   "metadata": {},
   "source": [
    "***\n",
    "# Gerador de TABLE usando INSERT - ATIVAR MODULOS APENAS QUANDO FOR CRIAR TABLE NA BASE DE DADOS"
   ]
  },
  {
   "cell_type": "markdown",
   "metadata": {},
   "source": [
    "* MySQL connector"
   ]
  },
  {
   "cell_type": "raw",
   "metadata": {},
   "source": [
    "connection = mysql.connector.MySQLConnection(user=\"root\",\n",
    "                                             password=\"\",\n",
    "                                             host='127.0.0.1',\n",
    "                                             database='coldchain',\n",
    "                                             port=3306)\n",
    "cursor = connection.cursor()"
   ]
  },
  {
   "cell_type": "markdown",
   "metadata": {},
   "source": [
    "* Delete Table"
   ]
  },
  {
   "cell_type": "raw",
   "metadata": {},
   "source": [
    "# delete all table\n",
    "cursor.execute('''DROP TABLE %s_kms_teste;''' %rodovia, connection)"
   ]
  },
  {
   "cell_type": "markdown",
   "metadata": {},
   "source": [
    "* Create Table"
   ]
  },
  {
   "cell_type": "raw",
   "metadata": {},
   "source": [
    "cursor.execute('''CREATE TABLE %s_kms_teste(id int NOT NULL AUTO_INCREMENT UNIQUE key, \n",
    "                                            km int NOT NULL,\n",
    "                                            state char(2) NOT NULL,\n",
    "                                            lat_min decimal(10,3) NOT NULL,\n",
    "                                            lat_max decimal(10,3) NOT NULL,\n",
    "                                            long_min decimal(10,3) NOT NULL,\n",
    "                                            long_max decimal(10,3) NOT NULL);''' %rodovia, connection)"
   ]
  },
  {
   "cell_type": "markdown",
   "metadata": {},
   "source": [
    "***"
   ]
  },
  {
   "cell_type": "markdown",
   "metadata": {},
   "source": [
    "* Insert values into Table"
   ]
  },
  {
   "cell_type": "raw",
   "metadata": {},
   "source": [
    "sql = 'INSERT INTO ' + rodovia + '_kms_teste (km, state, lat_min, lat_max, long_min, long_max) values (%s, %s, %s, %s, %s, %s)'\n",
    "\n",
    "val = []\n",
    "\n",
    "for i in range(len(addresses)):\n",
    "    val.append((str(addresses['KM'][i]),\n",
    "               str(addresses['State'][i]),\n",
    "               str('%06.3f'%(float(addresses['Latitude'][i]) - 0.001)),\n",
    "               str('%06.3f'%(float(addresses['Latitude'][i]) + 0.001)),\n",
    "               str('%06.3f'%(float(addresses['Longitude'][i]) - 0.001)),\n",
    "               str('%06.3f'%(float(addresses['Longitude'][i]) + 0.001))))\n",
    "\n",
    "df_val = pd.DataFrame(val, columns=['KM', 'State', 'Latitude_min', 'Latitude_max', 'Longitude_min', 'Longitude_max'])"
   ]
  },
  {
   "cell_type": "raw",
   "metadata": {},
   "source": [
    "cursor.executemany(sql, val)\n",
    "\n",
    "connection.commit()\n",
    "\n",
    "print(cursor.rowcount, \"was inserted.\")"
   ]
  },
  {
   "cell_type": "markdown",
   "metadata": {},
   "source": [
    "* Criar Index"
   ]
  },
  {
   "cell_type": "raw",
   "metadata": {},
   "source": [
    "cursor.execute('''CREATE INDEX kms_teste_index ON %s_kms_teste(id, km, state, lat_min, lat_max, long_min, long_max);''' %rodovia, connection)\n",
    "cursor.execute('''CREATE INDEX kms_teste_id ON %s_kms_teste(id);''' %rodovia, connection)\n",
    "cursor.execute('''CREATE INDEX kms_teste_km ON %s_kms_teste(km);''' %rodovia, connection)\n",
    "cursor.execute('''CREATE INDEX kms_teste_state ON %s_kms_teste(state);''' %rodovia, connection)\n",
    "cursor.execute('''CREATE INDEX kms_teste_lat_min ON %s_kms_teste(lat_min);''' %rodovia, connection)\n",
    "cursor.execute('''CREATE INDEX kms_teste_lat_max ON %s_kms_teste(lat_max);''' %rodovia, connection)\n",
    "cursor.execute('''CREATE INDEX kms_teste_long_min ON %s_kms_teste(long_min);''' %rodovia, connection)\n",
    "cursor.execute('''CREATE INDEX kms_teste_long_max ON %s_kms_teste(long_max);''' %rodovia, connection)"
   ]
  },
  {
   "cell_type": "markdown",
   "metadata": {},
   "source": [
    "* Close Connections"
   ]
  },
  {
   "cell_type": "raw",
   "metadata": {},
   "source": [
    "connection.close()\n",
    "\n",
    "print('FINISH!')"
   ]
  },
  {
   "cell_type": "markdown",
   "metadata": {},
   "source": [
    "***\n",
    "# Query, extrair leituras por KM"
   ]
  },
  {
   "cell_type": "markdown",
   "metadata": {},
   "source": [
    "* MySQL connector"
   ]
  },
  {
   "cell_type": "code",
   "execution_count": 57,
   "metadata": {},
   "outputs": [],
   "source": [
    "connection = mysql.connector.MySQLConnection(user=\"root\",\n",
    "                                             password=\"\",\n",
    "                                             host='127.0.0.1',\n",
    "                                             database='coldchain',\n",
    "                                             port=3306)"
   ]
  },
  {
   "cell_type": "markdown",
   "metadata": {},
   "source": [
    "* 7 dias"
   ]
  },
  {
   "cell_type": "raw",
   "metadata": {},
   "source": [
    "Reports feito de leituras celulares feitas por celulares, por isso session_id null, não terá tag_ehook.tag_id e excluindo os dados de leituras vindas do SLS reporterdevice_id IS NOT NULL\n",
    "\n",
    "A -> número de STATUS reportados no KM 30 (datapoint com session_id == null; com geolocalização daquele KM; enviados por celulares)\n",
    "session_id IS NULL garante q vai pegar apenas o status dos celulares."
   ]
  },
  {
   "cell_type": "code",
   "execution_count": null,
   "metadata": {},
   "outputs": [],
   "source": [
    "start=timeit.default_timer()\n",
    "\n",
    "df_rodovia_kms_7_days = pd.read_sql_query('''SELECT\n",
    "                                                 k.id, k.km, k.state,\n",
    "                                                 count(d.id) AS 7_days_nro_smartphones\n",
    "                                             FROM datapoint AS d\n",
    "                                                 JOIN %s_kms AS k\n",
    "                                                 JOIN status\n",
    "                                                     ON status.datapoint_id = d.id\n",
    "                                             WHERE d.longitude > k.long_min AND d.longitude < k.long_max\n",
    "                                                 AND d.latitude > k.lat_min AND d.latitude < k.lat_max\n",
    "                                                 AND ((d.datetime > '2020-01-07' - interval 7 day) AND (d.datetime < '2020-01-07' - interval 6 day))\n",
    "                                                 AND (d.geo_accuracy <= 700)\n",
    "                                                 AND (d.session_id IS NULL)\n",
    "                                                 AND (d.temperature IS NULL)\n",
    "                                                 AND (status.bluetooth = 1)\n",
    "                                             GROUP BY k.km\n",
    "                                             ORDER BY k.id\n",
    "                                             ;''' %rodovia , connection)\n",
    "\n",
    "end=timeit.default_timer()\n",
    "\n",
    "check_time(start, end)\n",
    "\n",
    "df_rodovia_kms_7_days"
   ]
  },
  {
   "cell_type": "raw",
   "metadata": {},
   "source": [
    "Reports feito de leituras de ehooks SLSs feitas por celulares, por isso session_id preenchido, por isso tem tag_ehook.tag_id e excluindo os dados de leituras vindas do SLS reporterdevice_id IS NOT NULL\n",
    "B-> número de leitura que o eHook do SLS XPTO teve no período (session_id preenchido, que leva ao tag_id do tag do eHook do SLS XPTO; enviados apenas por celulares)\n",
    "Um dos fatores: qtd status de celulares enviados em dado período, em dada localização, com o Bluetooth ligado (statis.bluetooth = 1, status.datapoint_id = datapoint.id, datapoint.session_id = null)\n",
    "\n",
    "Para pegar nro de leitura de eHook:\n",
    "datapoint.session_id is not null, datapoint.latitude, datapoint.longitude, datapoint.datetime"
   ]
  },
  {
   "cell_type": "code",
   "execution_count": null,
   "metadata": {},
   "outputs": [],
   "source": [
    "start=timeit.default_timer()\n",
    "\n",
    "df_rodovia_kms_7_days_B = pd.read_sql_query('''SELECT\n",
    "                                               k.id, k.km, k.state,\n",
    "                                               CAST(sum(CASE WHEN HOUR(d.datetime) BETWEEN 00 AND 05 AND MINUTE(d.datetime) BETWEEN 00 AND 59 THEN 1 ELSE 0 END) AS SIGNED) AS 7_days_esp_00h_06hs,\n",
    "                                               CAST(sum(CASE WHEN HOUR(d.datetime) BETWEEN 06 AND 11 AND MINUTE(d.datetime) BETWEEN 00 AND 59 THEN 1 ELSE 0 END) AS SIGNED) AS 7_days_esp_06_12hs,\n",
    "                                               CAST(sum(CASE WHEN HOUR(d.datetime) BETWEEN 12 AND 17 AND MINUTE(d.datetime) BETWEEN 00 AND 59 THEN 1 ELSE 0 END) AS SIGNED) AS 7_days_esp_12_18,\n",
    "                                               CAST(sum(CASE WHEN HOUR(d.datetime) BETWEEN 18 AND 23 AND MINUTE(d.datetime) BETWEEN 00 AND 59 THEN 1 ELSE 0 END) AS SIGNED) AS 7_days_esp_18_24hs,\n",
    "                                               CAST(sum(CASE WHEN HOUR(d.datetime) BETWEEN 00 AND 23 AND MINUTE(d.datetime) BETWEEN 00 AND 59 THEN 1 ELSE 0 END) AS SIGNED) AS 7_days_total\n",
    "                                             FROM datapoint AS d\n",
    "                                               JOIN dutra_kms AS k\n",
    "                                             WHERE d.longitude > k.long_min AND d.longitude < k.long_max\n",
    "                                               AND d.latitude > k.lat_min AND d.latitude < k.lat_max\n",
    "                                               AND ((d.datetime > '2020-01-07' - interval 7 day) AND (d.datetime < '2020-01-07' - interval 6 day))\n",
    "                                               AND (d.geo_accuracy <= 700)\n",
    "                                               AND (d.session_id IS NOT NULL)\n",
    "                                               AND (d.temperature IS NULL)\n",
    "                                             GROUP BY k.km\n",
    "                                             ORDER BY k.id\n",
    "                                           ;''', connection)\n",
    "\n",
    "end=timeit.default_timer()\n",
    "\n",
    "check_time(start, end)\n",
    "\n",
    "df_rodovia_kms_7_days_B"
   ]
  },
  {
   "cell_type": "markdown",
   "metadata": {},
   "source": [
    "* 6 dias"
   ]
  },
  {
   "cell_type": "code",
   "execution_count": null,
   "metadata": {},
   "outputs": [],
   "source": [
    "start=timeit.default_timer()\n",
    "\n",
    "df_rodovia_kms_6_days = pd.read_sql_query('''SELECT\n",
    "                                              k.id, k.km, k.state,\n",
    "                                              count(d.id) AS 6_days_nro_smartphones\n",
    "                                           FROM datapoint AS d\n",
    "                                              JOIN dutra_kms AS k\n",
    "                                              JOIN status\n",
    "                                                  ON status.datapoint_id = d.id\n",
    "                                           WHERE d.longitude > k.long_min AND d.longitude < k.long_max\n",
    "                                              AND d.latitude > k.lat_min AND d.latitude < k.lat_max\n",
    "                                              AND ((d.datetime > '2020-01-07' - interval 6 day) AND (d.datetime < '2020-01-07' - interval 5 day))\n",
    "                                              AND (d.geo_accuracy <= 700)\n",
    "                                              AND (d.session_id IS NULL)\n",
    "                                              AND (d.temperature IS NULL)\n",
    "                                              AND (status.bluetooth = 1)\n",
    "                                           GROUP BY k.km\n",
    "                                           ORDER BY k.id\n",
    "                                           ;''', connection)\n",
    "\n",
    "end=timeit.default_timer()\n",
    "\n",
    "check_time(start, end)\n",
    "\n",
    "df_rodovia_kms_6_days"
   ]
  },
  {
   "cell_type": "code",
   "execution_count": null,
   "metadata": {},
   "outputs": [],
   "source": [
    "start=timeit.default_timer()\n",
    "\n",
    "df_rodovia_kms_6_days_B = pd.read_sql_query('''SELECT\n",
    "                                               k.id, k.km, k.state,\n",
    "                                               CAST(sum(CASE WHEN HOUR(d.datetime) BETWEEN 00 AND 05 AND MINUTE(d.datetime) BETWEEN 00 AND 59 THEN 1 ELSE 0 END) AS SIGNED) AS 6_days_esp_00h_06hs,\n",
    "                                               CAST(sum(CASE WHEN HOUR(d.datetime) BETWEEN 06 AND 11 AND MINUTE(d.datetime) BETWEEN 00 AND 59 THEN 1 ELSE 0 END) AS SIGNED) AS 6_days_esp_06_12hs,\n",
    "                                               CAST(sum(CASE WHEN HOUR(d.datetime) BETWEEN 12 AND 17 AND MINUTE(d.datetime) BETWEEN 00 AND 59 THEN 1 ELSE 0 END) AS SIGNED) AS 6_days_esp_12_18,\n",
    "                                               CAST(sum(CASE WHEN HOUR(d.datetime) BETWEEN 18 AND 23 AND MINUTE(d.datetime) BETWEEN 00 AND 59 THEN 1 ELSE 0 END) AS SIGNED) AS 6_days_esp_18_24hs,\n",
    "                                               CAST(sum(CASE WHEN HOUR(d.datetime) BETWEEN 00 AND 23 AND MINUTE(d.datetime) BETWEEN 00 AND 59 THEN 1 ELSE 0 END) AS SIGNED) AS 6_days_total\n",
    "                                             FROM datapoint AS d\n",
    "                                               JOIN dutra_kms AS k\n",
    "                                             WHERE d.longitude > k.long_min AND d.longitude < k.long_max\n",
    "                                               AND d.latitude > k.lat_min AND d.latitude < k.lat_max\n",
    "                                               AND ((d.datetime > '2020-01-07' - interval 6 day) AND (d.datetime < '2020-01-07' - interval 5 day))\n",
    "                                               AND (d.geo_accuracy <= 700)\n",
    "                                               AND (d.session_id IS NOT NULL)\n",
    "                                               AND (d.temperature IS NULL)\n",
    "                                             GROUP BY k.km\n",
    "                                             ORDER BY k.id\n",
    "                                           ;''', connection)\n",
    "\n",
    "end=timeit.default_timer()\n",
    "\n",
    "check_time(start, end)\n",
    "\n",
    "df_rodovia_kms_6_days_B"
   ]
  },
  {
   "cell_type": "markdown",
   "metadata": {},
   "source": [
    "* 5 dias"
   ]
  },
  {
   "cell_type": "code",
   "execution_count": null,
   "metadata": {},
   "outputs": [],
   "source": [
    "start=timeit.default_timer()\n",
    "\n",
    "df_rodovia_kms_5_days = pd.read_sql_query('''SELECT\n",
    "                                              k.id, k.km, k.state,\n",
    "                                              count(d.id) AS 5_days_nro_smartphones\n",
    "                                           FROM datapoint AS d\n",
    "                                              JOIN dutra_kms AS k\n",
    "                                              JOIN status\n",
    "                                                  ON status.datapoint_id = d.id\n",
    "                                           WHERE d.longitude > k.long_min AND d.longitude < k.long_max\n",
    "                                              AND d.latitude > k.lat_min AND d.latitude < k.lat_max\n",
    "                                              AND ((d.datetime > '2020-01-07' - interval 6 day) AND (d.datetime < '2020-01-07' - interval 5 day))\n",
    "                                              AND (d.geo_accuracy <= 700)\n",
    "                                              AND (d.session_id IS NULL)\n",
    "                                              AND (d.temperature IS NULL)\n",
    "                                              AND (status.bluetooth = 1)\n",
    "                                           GROUP BY k.km\n",
    "                                           ORDER BY k.id\n",
    "                                           ;''', connection)\n",
    "\n",
    "end=timeit.default_timer()\n",
    "\n",
    "check_time(start, end)\n",
    "\n",
    "df_rodovia_kms_5_days"
   ]
  },
  {
   "cell_type": "code",
   "execution_count": null,
   "metadata": {},
   "outputs": [],
   "source": [
    "start=timeit.default_timer()\n",
    "\n",
    "df_rodovia_kms_5_days_B = pd.read_sql_query('''SELECT\n",
    "                                               k.id, k.km, k.state,\n",
    "                                               CAST(sum(CASE WHEN HOUR(d.datetime) BETWEEN 00 AND 05 AND MINUTE(d.datetime) BETWEEN 00 AND 59 THEN 1 ELSE 0 END) AS SIGNED) AS 5_days_esp_00h_06hs,\n",
    "                                               CAST(sum(CASE WHEN HOUR(d.datetime) BETWEEN 06 AND 11 AND MINUTE(d.datetime) BETWEEN 00 AND 59 THEN 1 ELSE 0 END) AS SIGNED) AS 5_days_esp_06_12hs,\n",
    "                                               CAST(sum(CASE WHEN HOUR(d.datetime) BETWEEN 12 AND 17 AND MINUTE(d.datetime) BETWEEN 00 AND 59 THEN 1 ELSE 0 END) AS SIGNED) AS 5_days_esp_12_18,\n",
    "                                               CAST(sum(CASE WHEN HOUR(d.datetime) BETWEEN 18 AND 23 AND MINUTE(d.datetime) BETWEEN 00 AND 59 THEN 1 ELSE 0 END) AS SIGNED) AS 5_days_esp_18_24hs,\n",
    "                                               CAST(sum(CASE WHEN HOUR(d.datetime) BETWEEN 00 AND 23 AND MINUTE(d.datetime) BETWEEN 00 AND 59 THEN 1 ELSE 0 END) AS SIGNED) AS 5_days_total\n",
    "                                             FROM datapoint AS d\n",
    "                                               JOIN dutra_kms AS k\n",
    "                                             WHERE d.longitude > k.long_min AND d.longitude < k.long_max\n",
    "                                               AND d.latitude > k.lat_min AND d.latitude < k.lat_max\n",
    "                                               AND ((d.datetime > '2020-01-07' - interval 5 day) AND (d.datetime < '2020-01-07' - interval 4 day))\n",
    "                                               AND (d.geo_accuracy <= 700)\n",
    "                                               AND (d.session_id IS NOT NULL)\n",
    "                                               AND (d.temperature IS NULL)\n",
    "                                             GROUP BY k.km\n",
    "                                             ORDER BY k.id\n",
    "                                           ;''', connection)\n",
    "\n",
    "end=timeit.default_timer()\n",
    "\n",
    "check_time(start, end)\n",
    "\n",
    "df_rodovia_kms_5_days_B"
   ]
  },
  {
   "cell_type": "markdown",
   "metadata": {},
   "source": [
    "* 4 dias"
   ]
  },
  {
   "cell_type": "code",
   "execution_count": null,
   "metadata": {},
   "outputs": [],
   "source": [
    "start=timeit.default_timer()\n",
    "\n",
    "df_rodovia_kms_4_days = pd.read_sql_query('''SELECT\n",
    "                                              k.id, k.km, k.state,\n",
    "                                              count(d.id) AS 4_days_nro_smartphones\n",
    "                                           FROM datapoint AS d\n",
    "                                              JOIN dutra_kms AS k\n",
    "                                              JOIN status\n",
    "                                                  ON status.datapoint_id = d.id\n",
    "                                           WHERE d.longitude > k.long_min AND d.longitude < k.long_max\n",
    "                                              AND d.latitude > k.lat_min AND d.latitude < k.lat_max\n",
    "                                              AND ((d.datetime > '2020-01-07' - interval 4 day) AND (d.datetime < '2020-01-07' - interval 3 day))\n",
    "                                              AND (d.geo_accuracy <= 700)\n",
    "                                              AND (d.session_id IS NULL)\n",
    "                                              AND (d.temperature IS NULL)\n",
    "                                              AND (status.bluetooth = 1)\n",
    "                                           GROUP BY k.km\n",
    "                                           ORDER BY k.id\n",
    "                                           ;''', connection)\n",
    "\n",
    "end=timeit.default_timer()\n",
    "\n",
    "check_time(start, end)\n",
    "\n",
    "df_rodovia_kms_4_days"
   ]
  },
  {
   "cell_type": "code",
   "execution_count": null,
   "metadata": {},
   "outputs": [],
   "source": [
    "start=timeit.default_timer()\n",
    "\n",
    "df_rodovia_kms_4_days_B = pd.read_sql_query('''SELECT\n",
    "                                               k.id, k.km, k.state,\n",
    "                                               CAST(sum(CASE WHEN HOUR(d.datetime) BETWEEN 00 AND 05 AND MINUTE(d.datetime) BETWEEN 00 AND 59 THEN 1 ELSE 0 END) AS SIGNED) AS 4_days_esp_00h_06hs,\n",
    "                                               CAST(sum(CASE WHEN HOUR(d.datetime) BETWEEN 06 AND 11 AND MINUTE(d.datetime) BETWEEN 00 AND 59 THEN 1 ELSE 0 END) AS SIGNED) AS 4_days_esp_06_12hs,\n",
    "                                               CAST(sum(CASE WHEN HOUR(d.datetime) BETWEEN 12 AND 17 AND MINUTE(d.datetime) BETWEEN 00 AND 59 THEN 1 ELSE 0 END) AS SIGNED) AS 4_days_esp_12_18,\n",
    "                                               CAST(sum(CASE WHEN HOUR(d.datetime) BETWEEN 18 AND 23 AND MINUTE(d.datetime) BETWEEN 00 AND 59 THEN 1 ELSE 0 END) AS SIGNED) AS 4_days_esp_18_24hs,\n",
    "                                               CAST(sum(CASE WHEN HOUR(d.datetime) BETWEEN 00 AND 23 AND MINUTE(d.datetime) BETWEEN 00 AND 59 THEN 1 ELSE 0 END) AS SIGNED) AS 4_days_total\n",
    "                                             FROM datapoint AS d\n",
    "                                               JOIN dutra_kms AS k\n",
    "                                             WHERE d.longitude > k.long_min AND d.longitude < k.long_max\n",
    "                                               AND d.latitude > k.lat_min AND d.latitude < k.lat_max\n",
    "                                               AND ((d.datetime > '2020-01-07' - interval 4 day) AND (d.datetime < '2020-01-07' - interval 3 day))\n",
    "                                               AND (d.geo_accuracy <= 700)\n",
    "                                               AND (d.session_id IS NOT NULL)\n",
    "                                               AND (d.temperature IS NULL)\n",
    "                                             GROUP BY k.km\n",
    "                                             ORDER BY k.id\n",
    "                                           ;''', connection)\n",
    "\n",
    "end=timeit.default_timer()\n",
    "\n",
    "check_time(start, end)\n",
    "\n",
    "df_rodovia_kms_4_days_B"
   ]
  },
  {
   "cell_type": "markdown",
   "metadata": {},
   "source": [
    "* 3 dias"
   ]
  },
  {
   "cell_type": "code",
   "execution_count": null,
   "metadata": {},
   "outputs": [],
   "source": [
    "start=timeit.default_timer()\n",
    "\n",
    "df_rodovia_kms_3_days = pd.read_sql_query('''SELECT\n",
    "                                              k.id, k.km, k.state,\n",
    "                                              count(d.id) AS 3_days_nro_smartphones\n",
    "                                           FROM datapoint AS d\n",
    "                                              JOIN dutra_kms AS k\n",
    "                                              JOIN status\n",
    "                                                  ON status.datapoint_id = d.id\n",
    "                                           WHERE d.longitude > k.long_min AND d.longitude < k.long_max\n",
    "                                              AND d.latitude > k.lat_min AND d.latitude < k.lat_max\n",
    "                                              AND ((d.datetime > '2020-01-07' - interval 3 day) AND (d.datetime < '2020-01-07' - interval 2 day))\n",
    "                                              AND (d.geo_accuracy <= 700)\n",
    "                                              AND (d.session_id IS NULL)\n",
    "                                              AND (d.temperature IS NULL)\n",
    "                                              AND (status.bluetooth = 1)\n",
    "                                           GROUP BY k.km\n",
    "                                           ORDER BY k.id\n",
    "                                           ;''', connection)\n",
    "\n",
    "end=timeit.default_timer()\n",
    "\n",
    "check_time(start, end)\n",
    "\n",
    "df_rodovia_kms_3_days"
   ]
  },
  {
   "cell_type": "code",
   "execution_count": null,
   "metadata": {},
   "outputs": [],
   "source": [
    "start=timeit.default_timer()\n",
    "\n",
    "df_rodovia_kms_3_days_B = pd.read_sql_query('''SELECT\n",
    "                                               k.id, k.km, k.state,\n",
    "                                               CAST(sum(CASE WHEN HOUR(d.datetime) BETWEEN 00 AND 05 AND MINUTE(d.datetime) BETWEEN 00 AND 59 THEN 1 ELSE 0 END) AS SIGNED) AS 3_days_esp_00h_06hs,\n",
    "                                               CAST(sum(CASE WHEN HOUR(d.datetime) BETWEEN 06 AND 11 AND MINUTE(d.datetime) BETWEEN 00 AND 59 THEN 1 ELSE 0 END) AS SIGNED) AS 3_days_esp_06_12hs,\n",
    "                                               CAST(sum(CASE WHEN HOUR(d.datetime) BETWEEN 12 AND 17 AND MINUTE(d.datetime) BETWEEN 00 AND 59 THEN 1 ELSE 0 END) AS SIGNED) AS 3_days_esp_12_18,\n",
    "                                               CAST(sum(CASE WHEN HOUR(d.datetime) BETWEEN 18 AND 23 AND MINUTE(d.datetime) BETWEEN 00 AND 59 THEN 1 ELSE 0 END) AS SIGNED) AS 3_days_esp_18_24hs,\n",
    "                                               CAST(sum(CASE WHEN HOUR(d.datetime) BETWEEN 00 AND 23 AND MINUTE(d.datetime) BETWEEN 00 AND 59 THEN 1 ELSE 0 END) AS SIGNED) AS 3_days_total\n",
    "                                             FROM datapoint AS d\n",
    "                                               JOIN dutra_kms AS k\n",
    "                                             WHERE d.longitude > k.long_min AND d.longitude < k.long_max\n",
    "                                               AND d.latitude > k.lat_min AND d.latitude < k.lat_max\n",
    "                                               AND ((d.datetime > '2020-01-07' - interval 3 day) AND (d.datetime < '2020-01-07' - interval 2 day))\n",
    "                                               AND (d.geo_accuracy <= 700)\n",
    "                                               AND (d.session_id IS NOT NULL)\n",
    "                                               AND (d.temperature IS NULL)\n",
    "                                             GROUP BY k.km\n",
    "                                             ORDER BY k.id\n",
    "                                           ;''', connection)\n",
    "\n",
    "end=timeit.default_timer()\n",
    "\n",
    "check_time(start, end)\n",
    "\n",
    "df_rodovia_kms_3_days_B"
   ]
  },
  {
   "cell_type": "markdown",
   "metadata": {},
   "source": [
    "* 2 dias"
   ]
  },
  {
   "cell_type": "code",
   "execution_count": null,
   "metadata": {},
   "outputs": [],
   "source": [
    "start=timeit.default_timer()\n",
    "\n",
    "df_rodovia_kms_2_days = pd.read_sql_query('''SELECT\n",
    "                                              k.id, k.km, k.state,\n",
    "                                              count(d.id) AS 2_days_nro_smartphones\n",
    "                                           FROM datapoint AS d\n",
    "                                              JOIN dutra_kms AS k\n",
    "                                              JOIN status\n",
    "                                                  ON status.datapoint_id = d.id\n",
    "                                           WHERE d.longitude > k.long_min AND d.longitude < k.long_max\n",
    "                                              AND d.latitude > k.lat_min AND d.latitude < k.lat_max\n",
    "                                              AND ((d.datetime > '2020-01-07' - interval 2 day) AND (d.datetime < '2020-01-07' - interval 1 day))\n",
    "                                              AND (d.geo_accuracy <= 700)\n",
    "                                              AND (d.session_id IS NULL)\n",
    "                                              AND (d.temperature IS NULL)\n",
    "                                              AND (status.bluetooth = 1)\n",
    "                                           GROUP BY k.km\n",
    "                                           ORDER BY k.id\n",
    "                                           ;''', connection)\n",
    "\n",
    "end=timeit.default_timer()\n",
    "\n",
    "check_time(start, end)\n",
    "\n",
    "df_rodovia_kms_2_days"
   ]
  },
  {
   "cell_type": "code",
   "execution_count": null,
   "metadata": {},
   "outputs": [],
   "source": [
    "start=timeit.default_timer()\n",
    "\n",
    "df_rodovia_kms_2_days_B = pd.read_sql_query('''SELECT\n",
    "                                               k.id, k.km, k.state,\n",
    "                                               CAST(sum(CASE WHEN HOUR(d.datetime) BETWEEN 00 AND 05 AND MINUTE(d.datetime) BETWEEN 00 AND 59 THEN 1 ELSE 0 END) AS SIGNED) AS 2_days_esp_00h_06hs,\n",
    "                                               CAST(sum(CASE WHEN HOUR(d.datetime) BETWEEN 06 AND 11 AND MINUTE(d.datetime) BETWEEN 00 AND 59 THEN 1 ELSE 0 END) AS SIGNED) AS 2_days_esp_06_12hs,\n",
    "                                               CAST(sum(CASE WHEN HOUR(d.datetime) BETWEEN 12 AND 17 AND MINUTE(d.datetime) BETWEEN 00 AND 59 THEN 1 ELSE 0 END) AS SIGNED) AS 2_days_esp_12_18,\n",
    "                                               CAST(sum(CASE WHEN HOUR(d.datetime) BETWEEN 18 AND 23 AND MINUTE(d.datetime) BETWEEN 00 AND 59 THEN 1 ELSE 0 END) AS SIGNED) AS 2_days_esp_18_24hs,\n",
    "                                               CAST(sum(CASE WHEN HOUR(d.datetime) BETWEEN 00 AND 23 AND MINUTE(d.datetime) BETWEEN 00 AND 59 THEN 1 ELSE 0 END) AS SIGNED) AS 2_days_total\n",
    "                                             FROM datapoint AS d\n",
    "                                               JOIN dutra_kms AS k\n",
    "                                             WHERE d.longitude > k.long_min AND d.longitude < k.long_max\n",
    "                                               AND d.latitude > k.lat_min AND d.latitude < k.lat_max\n",
    "                                               AND ((d.datetime > '2020-01-07' - interval 2 day) AND (d.datetime < '2020-01-07' - interval 1 day))\n",
    "                                               AND (d.geo_accuracy <= 700)\n",
    "                                               AND (d.session_id IS NOT NULL)\n",
    "                                               AND (d.temperature IS NULL)\n",
    "                                             GROUP BY k.km\n",
    "                                             ORDER BY k.id\n",
    "                                           ;''', connection)\n",
    "\n",
    "end=timeit.default_timer()\n",
    "\n",
    "check_time(start, end)\n",
    "\n",
    "df_rodovia_kms_2_days_B"
   ]
  },
  {
   "cell_type": "markdown",
   "metadata": {},
   "source": [
    "* 1 dia"
   ]
  },
  {
   "cell_type": "code",
   "execution_count": null,
   "metadata": {},
   "outputs": [],
   "source": [
    "start=timeit.default_timer()\n",
    "\n",
    "df_rodovia_kms_1_day = pd.read_sql_query('''SELECT\n",
    "                                              k.id, k.km, k.state,\n",
    "                                              count(d.id) AS 1_day_nro_smartphones\n",
    "                                           FROM datapoint AS d\n",
    "                                              JOIN dutra_kms AS k\n",
    "                                              JOIN status\n",
    "                                                  ON status.datapoint_id = d.id\n",
    "                                           WHERE d.longitude > k.long_min AND d.longitude < k.long_max\n",
    "                                              AND d.latitude > k.lat_min AND d.latitude < k.lat_max\n",
    "                                              AND ((d.datetime > '2020-01-07' - interval 1 day) AND (d.datetime < '2020-01-07'))\n",
    "                                              AND (d.geo_accuracy <= 700)\n",
    "                                              AND (d.session_id IS NULL)\n",
    "                                              AND (d.temperature IS NULL)\n",
    "                                              AND (status.bluetooth = 1)\n",
    "                                           GROUP BY k.km\n",
    "                                           ORDER BY k.id\n",
    "                                           ;''', connection)\n",
    "\n",
    "end=timeit.default_timer()\n",
    "\n",
    "check_time(start, end)\n",
    "\n",
    "df_rodovia_kms_1_day"
   ]
  },
  {
   "cell_type": "code",
   "execution_count": null,
   "metadata": {},
   "outputs": [],
   "source": [
    "start=timeit.default_timer()\n",
    "\n",
    "df_rodovia_kms_1_day_B = pd.read_sql_query('''SELECT\n",
    "                                               k.id, k.km, k.state,\n",
    "                                               CAST(sum(CASE WHEN HOUR(d.datetime) BETWEEN 00 AND 05 AND MINUTE(d.datetime) BETWEEN 00 AND 59 THEN 1 ELSE 0 END) AS SIGNED) AS 1_day_esp_00h_06hs,\n",
    "                                               CAST(sum(CASE WHEN HOUR(d.datetime) BETWEEN 06 AND 11 AND MINUTE(d.datetime) BETWEEN 00 AND 59 THEN 1 ELSE 0 END) AS SIGNED) AS 1_day_esp_06_12hs,\n",
    "                                               CAST(sum(CASE WHEN HOUR(d.datetime) BETWEEN 12 AND 17 AND MINUTE(d.datetime) BETWEEN 00 AND 59 THEN 1 ELSE 0 END) AS SIGNED) AS 1_day_esp_12_18,\n",
    "                                               CAST(sum(CASE WHEN HOUR(d.datetime) BETWEEN 18 AND 23 AND MINUTE(d.datetime) BETWEEN 00 AND 59 THEN 1 ELSE 0 END) AS SIGNED) AS 1_day_esp_18_24hs,\n",
    "                                               CAST(sum(CASE WHEN HOUR(d.datetime) BETWEEN 00 AND 23 AND MINUTE(d.datetime) BETWEEN 00 AND 59 THEN 1 ELSE 0 END) AS SIGNED) AS 1_day_total\n",
    "                                             FROM datapoint AS d\n",
    "                                               JOIN dutra_kms AS k\n",
    "                                             WHERE d.longitude > k.long_min AND d.longitude < k.long_max\n",
    "                                               AND d.latitude > k.lat_min AND d.latitude < k.lat_max\n",
    "                                               AND ((d.datetime > '2020-01-07' - interval 1 day) AND (d.datetime < '2020-01-07'))\n",
    "                                               AND (d.geo_accuracy <= 700)\n",
    "                                               AND (d.session_id IS NOT NULL)\n",
    "                                               AND (d.temperature IS NULL)\n",
    "                                             GROUP BY k.km\n",
    "                                             ORDER BY k.id\n",
    "                                           ;''', connection)\n",
    "\n",
    "end=timeit.default_timer()\n",
    "\n",
    "check_time(start, end)\n",
    "\n",
    "df_rodovia_kms_1_day_B"
   ]
  },
  {
   "cell_type": "markdown",
   "metadata": {},
   "source": [
    "* dia atual, target"
   ]
  },
  {
   "cell_type": "code",
   "execution_count": null,
   "metadata": {},
   "outputs": [],
   "source": [
    "start=timeit.default_timer()\n",
    "\n",
    "df_rodovia_kms_day = pd.read_sql_query('''SELECT\n",
    "                                              k.id, k.km, k.state,\n",
    "                                              count(d.id) AS day_nro_smartphones\n",
    "                                           FROM datapoint AS d\n",
    "                                              JOIN dutra_kms AS k\n",
    "                                              JOIN status\n",
    "                                                  ON status.datapoint_id = d.id\n",
    "                                           WHERE d.longitude > k.long_min AND d.longitude < k.long_max\n",
    "                                              AND d.latitude > k.lat_min AND d.latitude < k.lat_max\n",
    "                                              AND ((d.datetime > '2020-01-07') AND (d.datetime < '2020-01-07' + interval 1 day))\n",
    "                                              AND (d.geo_accuracy <= 700)\n",
    "                                              AND (d.session_id IS NULL)\n",
    "                                              AND (d.temperature IS NULL)\n",
    "                                              AND (status.bluetooth = 1)\n",
    "                                           GROUP BY k.km\n",
    "                                           ORDER BY k.id\n",
    "                                           ;''', connection)\n",
    "\n",
    "end=timeit.default_timer()\n",
    "\n",
    "check_time(start, end)\n",
    "\n",
    "df_rodovia_kms_day"
   ]
  },
  {
   "cell_type": "code",
   "execution_count": null,
   "metadata": {},
   "outputs": [],
   "source": [
    "start=timeit.default_timer()\n",
    "\n",
    "df_rodovia_kms_day_B = pd.read_sql_query('''SELECT\n",
    "                                               k.id, k.km, k.state,\n",
    "                                               CAST(sum(CASE WHEN HOUR(d.datetime) BETWEEN 00 AND 05 AND MINUTE(d.datetime) BETWEEN 00 AND 59 THEN 1 ELSE 0 END) AS SIGNED) AS esp_00h_06hs,\n",
    "                                               CAST(sum(CASE WHEN HOUR(d.datetime) BETWEEN 06 AND 11 AND MINUTE(d.datetime) BETWEEN 00 AND 59 THEN 1 ELSE 0 END) AS SIGNED) AS esp_06_12hs,\n",
    "                                               CAST(sum(CASE WHEN HOUR(d.datetime) BETWEEN 12 AND 17 AND MINUTE(d.datetime) BETWEEN 00 AND 59 THEN 1 ELSE 0 END) AS SIGNED) AS esp_12_18,\n",
    "                                               CAST(sum(CASE WHEN HOUR(d.datetime) BETWEEN 18 AND 23 AND MINUTE(d.datetime) BETWEEN 00 AND 59 THEN 1 ELSE 0 END) AS SIGNED) AS esp_18_24hs,\n",
    "                                               CAST(sum(CASE WHEN HOUR(d.datetime) BETWEEN 00 AND 23 AND MINUTE(d.datetime) BETWEEN 00 AND 59 THEN 1 ELSE 0 END) AS SIGNED) AS day_total\n",
    "                                             FROM datapoint AS d\n",
    "                                               JOIN dutra_kms AS k\n",
    "                                             WHERE d.longitude > k.long_min AND d.longitude < k.long_max\n",
    "                                               AND d.latitude > k.lat_min AND d.latitude < k.lat_max\n",
    "                                               AND ((d.datetime > '2020-01-07') AND (d.datetime < '2020-01-07' + interval 1 day))\n",
    "                                               AND (d.geo_accuracy <= 700)\n",
    "                                               AND (d.session_id IS NOT NULL)\n",
    "                                               AND (d.temperature IS NULL)\n",
    "                                             GROUP BY k.km\n",
    "                                             ORDER BY k.id\n",
    "                                           ;''', connection)\n",
    "\n",
    "end=timeit.default_timer()\n",
    "\n",
    "check_time(start, end)\n",
    "\n",
    "df_rodovia_kms_day_B"
   ]
  },
  {
   "cell_type": "markdown",
   "metadata": {},
   "source": [
    "* Close Connections"
   ]
  },
  {
   "cell_type": "code",
   "execution_count": null,
   "metadata": {},
   "outputs": [],
   "source": [
    "connection.close()\n",
    "\n",
    "print('FINISH!')"
   ]
  },
  {
   "cell_type": "markdown",
   "metadata": {},
   "source": [
    "***"
   ]
  },
  {
   "cell_type": "markdown",
   "metadata": {},
   "source": [
    "* Export to CSV"
   ]
  },
  {
   "cell_type": "code",
   "execution_count": null,
   "metadata": {},
   "outputs": [],
   "source": [
    "df_leituras_7_days_rodovia_kms = pd.DataFrame({\n",
    "                                               'Id'                       : df_rodovia_kms_7_days['id'].astype(str),\n",
    "                                               'state'                    : df_rodovia_kms_7_days['state'],\n",
    "                                               'km'                       : df_rodovia_kms_7_days['km'].astype(str),\n",
    "                                               '7_days_nro_smartphones'   : df_rodovia_kms_7_days['7_days_nro_smartphones'].astype(str),\n",
    "                                              })\n",
    "df_leituras_7_days_rodovia_kms.to_csv('../outputs_' + data + '/' + rodovia + '/leituras_7_days_' + rodovia + '.csv', index=False)\n",
    "df_leituras_7_days_rodovia_kms"
   ]
  },
  {
   "cell_type": "code",
   "execution_count": null,
   "metadata": {},
   "outputs": [],
   "source": [
    "df_leituras_7_days_rodovia_kms_B = pd.DataFrame({\n",
    "                                                 'Id'                     : df_rodovia_kms_7_days_B['id'].astype(str),\n",
    "                                                 'state'                  : df_rodovia_kms_7_days_B['state'],\n",
    "                                                 'km'                     : df_rodovia_kms_7_days_B['km'].astype(str),\n",
    "                                                 '7_days_esp_00h_06hs'    : df_rodovia_kms_7_days_B['7_days_esp_00h_06hs'].astype(str),\n",
    "                                                 '7_days_esp_06_12hs'     : df_rodovia_kms_7_days_B['7_days_esp_06_12hs'].astype(str),\n",
    "                                                 '7_days_esp_12_18'       : df_rodovia_kms_7_days_B['7_days_esp_12_18'].astype(str),\n",
    "                                                 '7_days_esp_18_24hs'     : df_rodovia_kms_7_days_B['7_days_esp_18_24hs'].astype(str),\n",
    "                                                 '7_days_total'           : df_rodovia_kms_7_days_B['7_days_total'].astype(str),\n",
    "                                                })\n",
    "df_leituras_7_days_rodovia_kms_B.to_csv('../outputs_' + data + '/' + rodovia + '/leituras_7_days_' + rodovia + '_B.csv', index=False)\n",
    "df_leituras_7_days_rodovia_kms_B"
   ]
  },
  {
   "cell_type": "code",
   "execution_count": null,
   "metadata": {},
   "outputs": [],
   "source": [
    "df_leituras_6_days_rodovia_kms = pd.DataFrame({\n",
    "                                               'Id'                       : df_rodovia_kms_6_days['id'].astype(str),\n",
    "                                               'state'                    : df_rodovia_kms_6_days['state'],\n",
    "                                               'km'                       : df_rodovia_kms_6_days['km'].astype(str),\n",
    "                                               '6_days_nro_smartphones'   : df_rodovia_kms_6_days['6_days_nro_smartphones'].astype(str),\n",
    "                                              })\n",
    "df_leituras_6_days_rodovia_kms.to_csv('../outputs_' + data + '/' + rodovia + '/leituras_6_days_' + rodovia + '.csv', index=False)\n",
    "df_leituras_6_days_rodovia_kms"
   ]
  },
  {
   "cell_type": "code",
   "execution_count": null,
   "metadata": {},
   "outputs": [],
   "source": [
    "df_leituras_6_days_rodovia_kms_B = pd.DataFrame({\n",
    "                                                 'Id'                     : df_rodovia_kms_6_days_B['id'].astype(str),\n",
    "                                                 'state'                  : df_rodovia_kms_6_days_B['state'],\n",
    "                                                 'km'                     : df_rodovia_kms_6_days_B['km'].astype(str),\n",
    "                                                 '6_days_esp_00h_06hs'    : df_rodovia_kms_6_days_B['6_days_esp_00h_06hs'].astype(str),\n",
    "                                                 '6_days_esp_06_12hs'     : df_rodovia_kms_6_days_B['6_days_esp_06_12hs'].astype(str),\n",
    "                                                 '6_days_esp_12_18'       : df_rodovia_kms_6_days_B['6_days_esp_12_18'].astype(str),\n",
    "                                                 '6_days_esp_18_24hs'     : df_rodovia_kms_6_days_B['6_days_esp_18_24hs'].astype(str),\n",
    "                                                 '6_days_total'           : df_rodovia_kms_6_days_B['6_days_total'].astype(str),\n",
    "                                                })\n",
    "df_leituras_6_days_rodovia_kms_B.to_csv('../outputs_' + data + '/' + rodovia + '/leituras_6_days_' + rodovia + '_B.csv', index=False)\n",
    "df_leituras_6_days_rodovia_kms_B"
   ]
  },
  {
   "cell_type": "code",
   "execution_count": null,
   "metadata": {},
   "outputs": [],
   "source": [
    "df_leituras_5_days_rodovia_kms = pd.DataFrame({\n",
    "                                               'Id'                       : df_rodovia_kms_5_days['id'].astype(str),\n",
    "                                               'state'                    : df_rodovia_kms_5_days['state'],\n",
    "                                               'km'                       : df_rodovia_kms_5_days['km'].astype(str),\n",
    "                                               '5_days_nro_smartphones'   : df_rodovia_kms_5_days['5_days_nro_smartphones'].astype(str),\n",
    "                                              })\n",
    "df_leituras_5_days_rodovia_kms.to_csv('../outputs_' + data + '/' + rodovia + '/leituras_5_days_' + rodovia + '.csv', index=False)\n",
    "df_leituras_5_days_rodovia_kms"
   ]
  },
  {
   "cell_type": "code",
   "execution_count": null,
   "metadata": {},
   "outputs": [],
   "source": [
    "df_leituras_5_days_rodovia_kms_B = pd.DataFrame({\n",
    "                                                 'Id'                     : df_rodovia_kms_5_days_B['id'].astype(str),\n",
    "                                                 'state'                  : df_rodovia_kms_5_days_B['state'],\n",
    "                                                 'km'                     : df_rodovia_kms_5_days_B['km'].astype(str),\n",
    "                                                 '5_days_esp_00h_06hs'    : df_rodovia_kms_5_days_B['5_days_esp_00h_06hs'].astype(str),\n",
    "                                                 '5_days_esp_06_12hs'     : df_rodovia_kms_5_days_B['5_days_esp_06_12hs'].astype(str),\n",
    "                                                 '5_days_esp_12_18'       : df_rodovia_kms_5_days_B['5_days_esp_12_18'].astype(str),\n",
    "                                                 '5_days_esp_18_24hs'     : df_rodovia_kms_5_days_B['5_days_esp_18_24hs'].astype(str),\n",
    "                                                 '5_days_total'           : df_rodovia_kms_5_days_B['5_days_total'].astype(str),\n",
    "                                                })\n",
    "df_leituras_5_days_rodovia_kms_B.to_csv('../outputs_' + data + '/' + rodovia + '/leituras_5_days_' + rodovia + '_B.csv', index=False)\n",
    "df_leituras_5_days_rodovia_kms_B"
   ]
  },
  {
   "cell_type": "code",
   "execution_count": null,
   "metadata": {},
   "outputs": [],
   "source": [
    "df_leituras_4_days_rodovia_kms = pd.DataFrame({\n",
    "                                               'Id'                       : df_rodovia_kms_4_days['id'].astype(str),\n",
    "                                               'state'                    : df_rodovia_kms_4_days['state'],\n",
    "                                               'km'                       : df_rodovia_kms_4_days['km'].astype(str),\n",
    "                                               '4_days_nro_smartphones'   : df_rodovia_kms_4_days['4_days_nro_smartphones'].astype(str),\n",
    "                                              })\n",
    "df_leituras_4_days_rodovia_kms.to_csv('../outputs_' + data + '/' + rodovia + '/leituras_4_days_' + rodovia + '.csv', index=False)\n",
    "df_leituras_4_days_rodovia_kms"
   ]
  },
  {
   "cell_type": "code",
   "execution_count": null,
   "metadata": {},
   "outputs": [],
   "source": [
    "df_leituras_4_days_rodovia_kms_B = pd.DataFrame({\n",
    "                                                 'Id'                     : df_rodovia_kms_4_days_B['id'].astype(str),\n",
    "                                                 'state'                  : df_rodovia_kms_4_days_B['state'],\n",
    "                                                 'km'                     : df_rodovia_kms_4_days_B['km'].astype(str),\n",
    "                                                 '4_days_esp_00h_06hs'    : df_rodovia_kms_4_days_B['4_days_esp_00h_06hs'].astype(str),\n",
    "                                                 '4_days_esp_06_12hs'     : df_rodovia_kms_4_days_B['4_days_esp_06_12hs'].astype(str),\n",
    "                                                 '4_days_esp_12_18'       : df_rodovia_kms_4_days_B['4_days_esp_12_18'].astype(str),\n",
    "                                                 '4_days_esp_18_24hs'     : df_rodovia_kms_4_days_B['4_days_esp_18_24hs'].astype(str),\n",
    "                                                 '4_days_total'           : df_rodovia_kms_4_days_B['4_days_total'].astype(str),\n",
    "                                                })\n",
    "df_leituras_4_days_rodovia_kms_B.to_csv('../outputs_' + data + '/' + rodovia + '/leituras_4_days_' + rodovia + '_B.csv', index=False)\n",
    "df_leituras_4_days_rodovia_kms_B"
   ]
  },
  {
   "cell_type": "code",
   "execution_count": null,
   "metadata": {},
   "outputs": [],
   "source": [
    "df_leituras_3_days_rodovia_kms = pd.DataFrame({\n",
    "                                               'Id'                       : df_rodovia_kms_3_days['id'].astype(str),\n",
    "                                               'state'                    : df_rodovia_kms_3_days['state'],\n",
    "                                               'km'                       : df_rodovia_kms_3_days['km'].astype(str),\n",
    "                                               '3_days_nro_smartphones'   : df_rodovia_kms_3_days['3_days_nro_smartphones'].astype(str),\n",
    "                                              })\n",
    "df_leituras_3_days_rodovia_kms.to_csv('../outputs_' + data + '/' + rodovia + '/leituras_3_days_' + rodovia + '.csv', index=False)\n",
    "df_leituras_3_days_rodovia_kms"
   ]
  },
  {
   "cell_type": "code",
   "execution_count": null,
   "metadata": {},
   "outputs": [],
   "source": [
    "df_leituras_3_days_rodovia_kms_B = pd.DataFrame({\n",
    "                                                 'Id'                     : df_rodovia_kms_3_days_B['id'].astype(str),\n",
    "                                                 'state'                  : df_rodovia_kms_3_days_B['state'],\n",
    "                                                 'km'                     : df_rodovia_kms_3_days_B['km'].astype(str),\n",
    "                                                 '3_days_esp_00h_06hs'    : df_rodovia_kms_3_days_B['3_days_esp_00h_06hs'].astype(str),\n",
    "                                                 '3_days_esp_06_12hs'     : df_rodovia_kms_3_days_B['3_days_esp_06_12hs'].astype(str),\n",
    "                                                 '3_days_esp_12_18'       : df_rodovia_kms_3_days_B['3_days_esp_12_18'].astype(str),\n",
    "                                                 '3_days_esp_18_24hs'     : df_rodovia_kms_3_days_B['3_days_esp_18_24hs'].astype(str),\n",
    "                                                 '3_days_total'           : df_rodovia_kms_3_days_B['3_days_total'].astype(str),\n",
    "                                                })\n",
    "df_leituras_3_days_rodovia_kms_B.to_csv('../outputs_' + data + '/' + rodovia + '/leituras_3_days_' + rodovia + '_B.csv', index=False)\n",
    "df_leituras_3_days_rodovia_kms_B"
   ]
  },
  {
   "cell_type": "code",
   "execution_count": null,
   "metadata": {},
   "outputs": [],
   "source": [
    "df_leituras_2_days_rodovia_kms = pd.DataFrame({\n",
    "                                               'Id'                       : df_rodovia_kms_2_days['id'].astype(str),\n",
    "                                               'state'                    : df_rodovia_kms_2_days['state'],\n",
    "                                               'km'                       : df_rodovia_kms_2_days['km'].astype(str),\n",
    "                                               '2_days_nro_smartphones'   : df_rodovia_kms_2_days['2_days_nro_smartphones'].astype(str),\n",
    "                                              })\n",
    "df_leituras_2_days_rodovia_kms.to_csv('../outputs_' + data + '/' + rodovia + '/leituras_2_days_' + rodovia + '.csv', index=False)\n",
    "df_leituras_2_days_rodovia_kms"
   ]
  },
  {
   "cell_type": "code",
   "execution_count": null,
   "metadata": {},
   "outputs": [],
   "source": [
    "df_leituras_2_days_rodovia_kms_B = pd.DataFrame({\n",
    "                                                 'Id'                     : df_rodovia_kms_2_days_B['id'].astype(str),\n",
    "                                                 'state'                  : df_rodovia_kms_2_days_B['state'],\n",
    "                                                 'km'                     : df_rodovia_kms_2_days_B['km'].astype(str),\n",
    "                                                 '2_days_esp_00h_06hs'    : df_rodovia_kms_2_days_B['2_days_esp_00h_06hs'].astype(str),\n",
    "                                                 '2_days_esp_06_12hs'     : df_rodovia_kms_2_days_B['2_days_esp_06_12hs'].astype(str),\n",
    "                                                 '2_days_esp_12_18'       : df_rodovia_kms_2_days_B['2_days_esp_12_18'].astype(str),\n",
    "                                                 '2_days_esp_18_24hs'     : df_rodovia_kms_2_days_B['2_days_esp_18_24hs'].astype(str),\n",
    "                                                 '2_days_total'           : df_rodovia_kms_2_days_B['2_days_total'].astype(str),\n",
    "                                                })\n",
    "df_leituras_2_days_rodovia_kms_B.to_csv('../outputs_' + data + '/' + rodovia + '/leituras_2_days_' + rodovia + '_B.csv', index=False)\n",
    "df_leituras_2_days_rodovia_kms_B"
   ]
  },
  {
   "cell_type": "code",
   "execution_count": null,
   "metadata": {},
   "outputs": [],
   "source": [
    "df_leituras_1_day_rodovia_kms = pd.DataFrame({\n",
    "                                              'Id'                      : df_rodovia_kms_1_day['id'].astype(str),\n",
    "                                              'state'                   : df_rodovia_kms_1_day['state'],\n",
    "                                              'km'                      : df_rodovia_kms_1_day['km'].astype(str),\n",
    "                                              '1_day_nro_smartphones'   : df_rodovia_kms_1_day['1_day_nro_smartphones'].astype(str),\n",
    "                                             })\n",
    "df_leituras_1_day_rodovia_kms.to_csv('../outputs_' + data + '/' + rodovia + '/leituras_1_day_' + rodovia + '.csv', index=False)\n",
    "df_leituras_1_day_rodovia_kms"
   ]
  },
  {
   "cell_type": "code",
   "execution_count": null,
   "metadata": {},
   "outputs": [],
   "source": [
    "df_leituras_1_day_rodovia_kms_B = pd.DataFrame({\n",
    "                                                 'Id'                    : df_rodovia_kms_1_day_B['id'].astype(str),\n",
    "                                                 'state'                 : df_rodovia_kms_1_day_B['state'],\n",
    "                                                 'km'                    : df_rodovia_kms_1_day_B['km'].astype(str),\n",
    "                                                 '1_day_esp_00h_06hs'    : df_rodovia_kms_1_day_B['1_day_esp_00h_06hs'].astype(str),\n",
    "                                                 '1_day_esp_06_12hs'     : df_rodovia_kms_1_day_B['1_day_esp_06_12hs'].astype(str),\n",
    "                                                 '1_day_esp_12_18'       : df_rodovia_kms_1_day_B['1_day_esp_12_18'].astype(str),\n",
    "                                                 '1_day_esp_18_24hs'     : df_rodovia_kms_1_day_B['1_day_esp_18_24hs'].astype(str),\n",
    "                                                 '1_day_total'           : df_rodovia_kms_1_day_B['1_day_total'].astype(str),\n",
    "                                               })\n",
    "df_leituras_1_day_rodovia_kms_B.to_csv('../outputs_' + data + '/' + rodovia + '/leituras_1_day_' + rodovia + '_B.csv', index=False)\n",
    "df_leituras_1_day_rodovia_kms_B"
   ]
  },
  {
   "cell_type": "code",
   "execution_count": null,
   "metadata": {},
   "outputs": [],
   "source": [
    "df_leituras_day_rodovia_kms = pd.DataFrame({\n",
    "                                            'Id'                    : df_rodovia_kms_day['id'].astype(str),\n",
    "                                            'state'                 : df_rodovia_kms_day['state'],\n",
    "                                            'km'                    : df_rodovia_kms_day['km'].astype(str),\n",
    "                                            'day_nro_smartphones'   : df_rodovia_kms_day['day_nro_smartphones'].astype(str),\n",
    "                                           })\n",
    "df_leituras_day_rodovia_kms.to_csv('../outputs_' + data + '/' + rodovia + '/leituras_day_' + rodovia + '.csv', index=False)\n",
    "df_leituras_day_rodovia_kms"
   ]
  },
  {
   "cell_type": "code",
   "execution_count": null,
   "metadata": {},
   "outputs": [],
   "source": [
    "df_leituras_day_rodovia_kms_B = pd.DataFrame({\n",
    "                                              'Id'              : df_rodovia_kms_day_B['id'].astype(str),\n",
    "                                              'state'           : df_rodovia_kms_day_B['state'],\n",
    "                                              'km'              : df_rodovia_kms_day_B['km'].astype(str),\n",
    "                                              'esp_00h_06hs'    : df_rodovia_kms_day_B['esp_00h_06hs'].astype(str),\n",
    "                                              'esp_06_12hs'     : df_rodovia_kms_day_B['esp_06_12hs'].astype(str),\n",
    "                                              'esp_12_18'       : df_rodovia_kms_day_B['esp_12_18'].astype(str),\n",
    "                                              'esp_18_24hs'     : df_rodovia_kms_day_B['esp_18_24hs'].astype(str),\n",
    "                                              'day_total'       : df_rodovia_kms_day_B['day_total'].astype(str),\n",
    "                                             })\n",
    "df_leituras_day_rodovia_kms_B.to_csv('../outputs_' + data + '/' + rodovia + '/leituras_day_' + rodovia + '_B.csv', index=False)\n",
    "df_leituras_day_rodovia_kms_B"
   ]
  },
  {
   "cell_type": "code",
   "execution_count": null,
   "metadata": {},
   "outputs": [],
   "source": []
  }
 ],
 "metadata": {
  "kernelspec": {
   "display_name": "Python 3",
   "language": "python",
   "name": "python3"
  },
  "language_info": {
   "codemirror_mode": {
    "name": "ipython",
    "version": 3
   },
   "file_extension": ".py",
   "mimetype": "text/x-python",
   "name": "python",
   "nbconvert_exporter": "python",
   "pygments_lexer": "ipython3",
   "version": "3.8.2"
  }
 },
 "nbformat": 4,
 "nbformat_minor": 4
}
