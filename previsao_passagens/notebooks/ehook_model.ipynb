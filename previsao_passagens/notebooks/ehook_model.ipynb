{
 "cells": [
  {
   "cell_type": "code",
   "execution_count": 27,
   "metadata": {},
   "outputs": [],
   "source": [
    "# !pip install xgboost\n",
    "# !pip install matplotlib\n",
    "# !pip install sklearn\n",
    "# !pip install tensorflow\n",
    "# !pip install keras"
   ]
  },
  {
   "cell_type": "code",
   "execution_count": 28,
   "metadata": {},
   "outputs": [],
   "source": [
    "import pandas as pd\n",
    "import numpy as np\n",
    "from sklearn.model_selection import train_test_split\n",
    "from sklearn.model_selection import cross_val_score\n",
    "from sklearn.metrics import mean_absolute_error\n",
    "\n",
    "from sklearn.ensemble import RandomForestClassifier\n",
    "from sklearn.tree import DecisionTreeClassifier\n",
    "from sklearn.tree import ExtraTreeClassifier\n",
    "from sklearn.ensemble import ExtraTreesClassifier\n",
    "from sklearn.neighbors import KNeighborsClassifier\n",
    "\n",
    "from functions.plot_learning_curve import plot_learned\n",
    "from functions.chronometer import check_time\n",
    "from functions.grid_search import grid_search"
   ]
  },
  {
   "cell_type": "markdown",
   "metadata": {},
   "source": [
    "***\n",
    "# =-=-=-=-=-=-=-=-=-= SETAR DATA E RODOVIA =-=-=-=-=-=-=-=-=-="
   ]
  },
  {
   "cell_type": "code",
   "execution_count": 29,
   "metadata": {},
   "outputs": [],
   "source": [
    "train_data = '2020-01-07'\n",
    "eval_data  = '2020-01-07'\n",
    "rodovia = 'dutra'"
   ]
  },
  {
   "cell_type": "markdown",
   "metadata": {},
   "source": [
    "***\n",
    "* Functions \n",
    "\n",
    "* scores_model"
   ]
  },
  {
   "cell_type": "code",
   "execution_count": 30,
   "metadata": {},
   "outputs": [],
   "source": [
    "def scores_model(model, X, y, y_test, preds):\n",
    "    # Multiply by -1 since sklearn calculates *negative* MAE\n",
    "    scores = -1 * cross_val_score(model, X, y,\n",
    "                                  cv=5,\n",
    "                                  scoring='neg_mean_absolute_error')\n",
    "\n",
    "    print(\"Scores:\\n\", scores)\n",
    "    print()\n",
    "    print(\"Average score (across experiments):\")\n",
    "    print(scores.mean())\n",
    "    print()\n",
    "    print('MAE:', mean_absolute_error(y_test, preds))\n",
    "    print()\n",
    "    plot_learned(model)"
   ]
  },
  {
   "cell_type": "markdown",
   "metadata": {},
   "source": [
    "***\n",
    "* Leituras geradas a partir da base de dados"
   ]
  },
  {
   "cell_type": "code",
   "execution_count": 31,
   "metadata": {},
   "outputs": [],
   "source": [
    "df_train = pd.read_csv('../outputs_' + train_data + '/' + rodovia + '/leituras_' + rodovia + '_all_days.csv', delimiter=',')\n",
    "# df_train"
   ]
  },
  {
   "cell_type": "markdown",
   "metadata": {},
   "source": [
    "***\n",
    "# Definição de Features e Target"
   ]
  },
  {
   "cell_type": "markdown",
   "metadata": {},
   "source": [
    "* Features\n",
    "\n",
    "Os dados dos ultimos 7 dias"
   ]
  },
  {
   "cell_type": "code",
   "execution_count": 32,
   "metadata": {},
   "outputs": [],
   "source": [
    "features = ['7_days_esp_00h_06hs'  , '7_days_esp_06_12hs'  , '7_days_esp_12_18'  , '7_days_esp_18_24hs',   \\\n",
    "            '6_days_esp_00h_06hs'  , '6_days_esp_06_12hs'  , '6_days_esp_12_18'  , '6_days_esp_18_24hs',   \\\n",
    "            '5_days_esp_00h_06hs'  , '5_days_esp_06_12hs'  , '5_days_esp_12_18'  , '5_days_esp_18_24hs',   \\\n",
    "            '4_days_esp_00h_06hs'  , '4_days_esp_06_12hs'  , '4_days_esp_12_18'  , '4_days_esp_18_24hs',   \\\n",
    "            '3_days_esp_00h_06hs'  , '3_days_esp_06_12hs'  , '3_days_esp_12_18'  , '3_days_esp_18_24hs',   \\\n",
    "            '2_days_esp_00h_06hs'  , '2_days_esp_06_12hs'  , '2_days_esp_12_18'  , '2_days_esp_18_24hs',   \\\n",
    "            '1_day_esp_00h_06hs'   , '1_day_esp_06_12hs'   , '1_day_esp_12_18'   , '1_day_esp_18_24hs']\n",
    "\n",
    "X = df_train[features]\n",
    "# X"
   ]
  },
  {
   "cell_type": "markdown",
   "metadata": {},
   "source": [
    "* Target"
   ]
  },
  {
   "cell_type": "code",
   "execution_count": 33,
   "metadata": {},
   "outputs": [],
   "source": [
    "target = ['esp_00h_06hs', 'esp_06_12hs', 'esp_12_18', 'esp_18_24hs']\n",
    "\n",
    "y = df_train[target]"
   ]
  },
  {
   "cell_type": "markdown",
   "metadata": {},
   "source": [
    "* train_test_split"
   ]
  },
  {
   "cell_type": "code",
   "execution_count": 34,
   "metadata": {},
   "outputs": [],
   "source": [
    "X_train, X_test, y_train, y_test = train_test_split(X, \n",
    "                                                    y, \n",
    "                                                    test_size=0.4,\n",
    "                                                    random_state=42)"
   ]
  },
  {
   "cell_type": "markdown",
   "metadata": {},
   "source": [
    "***"
   ]
  },
  {
   "cell_type": "markdown",
   "metadata": {},
   "source": [
    "* Set Model"
   ]
  },
  {
   "cell_type": "code",
   "execution_count": 35,
   "metadata": {},
   "outputs": [],
   "source": [
    "# model = DecisionTreeClassifier(random_state=42)\n",
    "model = RandomForestClassifier()\n",
    "# model = ExtraTreeClassifier()\n",
    "# model = ExtraTreesClassifier()\n",
    "# model = KNeighborsClassifier()"
   ]
  },
  {
   "cell_type": "markdown",
   "metadata": {},
   "source": [
    "* Fit"
   ]
  },
  {
   "cell_type": "code",
   "execution_count": 36,
   "metadata": {},
   "outputs": [
    {
     "data": {
      "text/plain": [
       "RandomForestClassifier()"
      ]
     },
     "execution_count": 36,
     "metadata": {},
     "output_type": "execute_result"
    }
   ],
   "source": [
    "model.fit(X_train, y_train)"
   ]
  },
  {
   "cell_type": "markdown",
   "metadata": {},
   "source": [
    "* Grid Search"
   ]
  },
  {
   "cell_type": "code",
   "execution_count": 37,
   "metadata": {},
   "outputs": [],
   "source": [
    "# grid_search(X_train, X_test, y_train, y_test, model_rf)"
   ]
  },
  {
   "cell_type": "markdown",
   "metadata": {},
   "source": [
    "* Predict"
   ]
  },
  {
   "cell_type": "code",
   "execution_count": 38,
   "metadata": {},
   "outputs": [],
   "source": [
    "preds = model.predict(X_test)"
   ]
  },
  {
   "cell_type": "markdown",
   "metadata": {},
   "source": [
    "***\n",
    "# Multioutput-multiclass classification (also known as multitask classification)\n",
    "https://scikit-learn.org/stable/modules/multiclass.html\n",
    "\n",
    "\n",
    "* Metrics DecisionTreeClassifier"
   ]
  },
  {
   "cell_type": "code",
   "execution_count": 39,
   "metadata": {},
   "outputs": [
    {
     "name": "stdout",
     "output_type": "stream",
     "text": [
      "Scores:\n",
      " [0.24691358 0.0462963  0.03703704 0.040625   0.15625   ]\n",
      "\n",
      "Average score (across experiments):\n",
      "0.1054243827160494\n",
      "\n",
      "MAE: 0.16975308641975306\n",
      "\n"
     ]
    },
    {
     "data": {
      "image/png": "[encoded data removed]",
      "text/plain": [
       "<Figure size 432x288 with 1 Axes>"
      ]
     },
     "metadata": {
      "needs_background": "light"
     },
     "output_type": "display_data"
    }
   ],
   "source": [
    "scores_model(model, X, y, y_test, preds)"
   ]
  },
  {
   "cell_type": "markdown",
   "metadata": {},
   "source": [
    "***\n",
    "# Make predictions"
   ]
  },
  {
   "cell_type": "code",
   "execution_count": 40,
   "metadata": {},
   "outputs": [],
   "source": [
    "df_eval = pd.read_csv('../outputs_' + eval_data + '/' + rodovia + '/leituras_' + rodovia + '_all_days.csv', delimiter=',')\n",
    "# test"
   ]
  },
  {
   "cell_type": "code",
   "execution_count": 41,
   "metadata": {},
   "outputs": [],
   "source": [
    "X_eval = df_eval[features]\n",
    "\n",
    "y_eval = df_eval[target]"
   ]
  },
  {
   "cell_type": "code",
   "execution_count": 42,
   "metadata": {},
   "outputs": [],
   "source": [
    "eval_preds = model.predict(X_eval)"
   ]
  },
  {
   "cell_type": "code",
   "execution_count": 43,
   "metadata": {},
   "outputs": [
    {
     "data": {
      "text/plain": [
       "array([0, 2, 3, 1], dtype=int64)"
      ]
     },
     "execution_count": 43,
     "metadata": {},
     "output_type": "execute_result"
    }
   ],
   "source": [
    "eval_preds[9]"
   ]
  },
  {
   "cell_type": "code",
   "execution_count": 44,
   "metadata": {},
   "outputs": [
    {
     "data": {
      "text/plain": [
       "array([0, 2, 3, 1], dtype=int64)"
      ]
     },
     "execution_count": 44,
     "metadata": {},
     "output_type": "execute_result"
    }
   ],
   "source": [
    "eval_preds[392]"
   ]
  },
  {
   "cell_type": "markdown",
   "metadata": {},
   "source": [
    "* Metrics for predictions"
   ]
  },
  {
   "cell_type": "code",
   "execution_count": 45,
   "metadata": {},
   "outputs": [
    {
     "name": "stdout",
     "output_type": "stream",
     "text": [
      "Scores:\n",
      " [0.22530864 0.0462963  0.04012346 0.040625   0.159375  ]\n",
      "\n",
      "Average score (across experiments):\n",
      "0.10234567901234567\n",
      "\n",
      "MAE: 0.07320099255583126\n",
      "\n"
     ]
    },
    {
     "data": {
      "image/png": "[encoded data removed]",
      "text/plain": [
       "<Figure size 432x288 with 1 Axes>"
      ]
     },
     "metadata": {
      "needs_background": "light"
     },
     "output_type": "display_data"
    }
   ],
   "source": [
    "scores_model(model, X_eval, y_eval, y_eval, eval_preds)"
   ]
  },
  {
   "cell_type": "markdown",
   "metadata": {},
   "source": [
    "***\n",
    "# Output predicted CSV"
   ]
  },
  {
   "cell_type": "code",
   "execution_count": 46,
   "metadata": {},
   "outputs": [
    {
     "name": "stdout",
     "output_type": "stream",
     "text": [
      "      Id state   km  esp_00h_06hs  esp_06_12hs  esp_12_18  esp_18_24hs\n",
      "0      1    SP  232             0            0          0            0\n",
      "1      2    SP  231             0            0          0            0\n",
      "2      3    SP  230             0            0          2            0\n",
      "3      4    SP  229             0            0          0            0\n",
      "4      5    SP  228             0            1          2            0\n",
      "5      6    SP  227             0            0          0            0\n",
      "6      7    SP  226             0            0          0            0\n",
      "7      8    SP  225             0            0          0            0\n",
      "8      9    SP  224             0            0          0            0\n",
      "9     10    SP  223             0            2          3            1\n",
      "10    11    SP  222             0            0          0            0\n",
      "11    12    SP  221             0            0          0            0\n",
      "12    13    SP  220             0            0          0            0\n",
      "13    14    SP  219             0            0          0            0\n",
      "14    15    SP  218             0            0          0            0\n",
      "15    16    SP  217             0            0          0            0\n",
      "16    17    SP  216             0            0          0            0\n",
      "17    18    SP  215             0            0          0            0\n",
      "18    19    SP  214             0            0          0            0\n",
      "19    20    SP  213             0            0          0            0\n",
      "20    21    SP  212             0            0          0            0\n",
      "21    22    SP  211             0            0          0            0\n",
      "22    23    SP  210             0            0          0            0\n",
      "23    24    SP  209             0            0          0            0\n",
      "24    25    SP  208             0            0          0            0\n",
      "25    26    SP  207             0            0          0            0\n",
      "26    27    SP  206             0            0          0            0\n",
      "27    28    SP  205             0            0          0            0\n",
      "28    29    SP  204             0            0          0            0\n",
      "29    30    SP  203             0            0          0            0\n",
      "30    31    SP  202             0            0          0            0\n",
      "31    32    SP  201             0            0          0            0\n",
      "32    33    SP  200             0            0          0            0\n",
      "33    34    SP  199             0            0          0            0\n",
      "34    35    SP  198             0            0          0            0\n",
      "35    36    SP  197             0            0          0            0\n",
      "36    37    SP  196             0            0          0            0\n",
      "37    38    SP  195             0            0          0            0\n",
      "38    39    SP  194             0            0          0            0\n",
      "39    40    SP  193             0            0          0            0\n",
      "40    41    SP  192             0            0          0            0\n",
      "41    42    SP  191             0            0          0            0\n",
      "42    43    SP  190             0            0          0            0\n",
      "43    44    SP  189             0            2          0            1\n",
      "44    45    SP  188             0            2          3            1\n",
      "45    46    SP  187             0            0          0            0\n",
      "46    47    SP  186             0            0          0            0\n",
      "47    48    SP  185             0            0          0            0\n",
      "48    49    SP  184             0            0          0            0\n",
      "49    50    SP  183             0            0          0            0\n",
      "50    51    SP  182             0            0          0            0\n",
      "51    52    SP  181             0            0          0            0\n",
      "52    53    SP  180             0            0          0            0\n",
      "53    54    SP  179             0            0          0            0\n",
      "54    55    SP  178             0            0          0            0\n",
      "55    56    SP  177             0            0          1            0\n",
      "56    57    SP  176             0            0          1            0\n",
      "57    58    SP  175             0            0          0            0\n",
      "58    59    SP  174             0            0          0            0\n",
      "59    60    SP  173             0            0          0            0\n",
      "60    61    SP  172             0            0          0            0\n",
      "61    62    SP  171             0            0          0            0\n",
      "62    63    SP  170             0            0          0            0\n",
      "63    64    SP  169             0            0          0            0\n",
      "64    65    SP  168             0            0          0            0\n",
      "65    66    SP  167             0            0          0            0\n",
      "66    67    SP  166             0            0          0            0\n",
      "67    68    SP  165             0            0          0            0\n",
      "68    69    SP  164             0            0          0            0\n",
      "69    70    SP  163             0            0          0            0\n",
      "70    71    SP  162             0            0          0            0\n",
      "71    72    SP  161             0            0          0            0\n",
      "72    73    SP  160             0            0          0            0\n",
      "73    74    SP  159             0            0          0            0\n",
      "74    75    SP  158             0            1          0            0\n",
      "75    76    SP  157             1            0          3            1\n",
      "76    77    SP  156             0            0          0            0\n",
      "77    78    SP  155             0            0          0            0\n",
      "78    79    SP  154             0            0          0            0\n",
      "79    80    SP  153             0            0          0            0\n",
      "80    81    SP  152             0            0          0            0\n",
      "81    82    SP  151             0            0          1            1\n",
      "82    83    SP  150             0            0          0            0\n",
      "83    84    SP  149             0            0          0            0\n",
      "84    85    SP  148             0            0          0            0\n",
      "85    86    SP  147             0            0          0            0\n",
      "86    87    SP  146             0            0          0            0\n",
      "87    88    SP  145             0            0          0            0\n",
      "88    89    SP  144             0            0          0            0\n",
      "89    90    SP  143             0            0          0            0\n",
      "90    91    SP  142             0            0          0            0\n",
      "91    92    SP  141             0            0          0            0\n",
      "92    93    SP  140             0            0          0            0\n",
      "93    94    SP  139             0            0          0            0\n",
      "94    95    SP  138             0            0          0            0\n",
      "95    96    SP  137             0            0          0            0\n",
      "96    97    SP  136             0            0          0            0\n",
      "97    98    SP  135             0            0          0            0\n",
      "98    99    SP  134             0            0          0            0\n",
      "99   100    SP  133             0            0          0            0\n",
      "100  101    SP  132             0            0          0            0\n",
      "101  102    SP  131             0            0          0            0\n",
      "102  103    SP  130             0            0          0            0\n",
      "103  104    SP  129             0            0          0            0\n",
      "104  105    SP  128             0            0          0            0\n",
      "105  106    SP  127             0            0          0            0\n",
      "106  107    SP  126             0            0          0            0\n",
      "107  108    SP  125             0            0          0            0\n",
      "108  109    SP  124             0            0          0            0\n",
      "109  110    SP  123             0            0          0            0\n",
      "110  111    SP  122             0            0          0            0\n",
      "111  112    SP  121             0            0          0            0\n",
      "112  113    SP  120             0            0          0            0\n",
      "113  114    SP  119             0            0          0            0\n",
      "114  115    SP  118             0            0          0            0\n",
      "115  116    SP  117             0            0          0            0\n",
      "116  117    SP  116             0            0          0            0\n",
      "117  118    SP  115             0            0          0            0\n",
      "118  119    SP  114             0            0          0            0\n",
      "119  120    SP  113             0            0          0            0\n",
      "120  121    SP  112             0            0          0            0\n",
      "121  122    SP  111             0            0          0            0\n",
      "122  123    SP  110             0            0          0            0\n",
      "123  124    SP  109             0            0          0            0\n",
      "124  125    SP  108             0            0          0            0\n",
      "125  126    SP  107             0            2          7            1\n",
      "126  127    SP  106             0            0          0            0\n",
      "127  128    SP  105             0            0          0            0\n",
      "128  129    SP  104             0            0          0            0\n",
      "129  130    SP  103             0            0          0            0\n",
      "130  131    SP  102             0            0          0            0\n",
      "131  132    SP  101             0            0          0            0\n",
      "132  133    SP  100             0            0          0            0\n",
      "133  134    SP   99             0            0          0            0\n",
      "134  135    SP   98             0            0          0            0\n",
      "135  136    SP   97             0            0          0            0\n",
      "136  137    SP   96             0            0          0            0\n",
      "137  138    SP   95             0            0          0            0\n",
      "138  139    SP   94             0            0          0            0\n",
      "139  140    SP   93             0            0          0            0\n",
      "140  141    SP   92             0            0          0            0\n",
      "141  142    SP   91             0            0          0            0\n",
      "142  143    SP   90             0            0          0            0\n",
      "143  144    SP   89             0            0          0            0\n",
      "144  145    SP   88             0            0          0            0\n",
      "145  146    SP   87             0            0          0            0\n",
      "146  147    SP   86             0            0          0            0\n",
      "147  148    SP   85             0            0          0            0\n",
      "148  149    SP   84             0            0          0            0\n",
      "149  150    SP   83             0            0          0            0\n",
      "150  151    SP   82             0            0          0            0\n",
      "151  152    SP   81             0            0          0            0\n",
      "152  153    SP   80             0            0          0            0\n",
      "153  154    SP   79             0            0          0            0\n",
      "154  155    SP   78             0            0          0            0\n",
      "155  156    SP   77             0            0          0            0\n",
      "156  157    SP   76             0            0          0            0\n",
      "157  158    SP   75             0            0          0            0\n",
      "158  159    SP   74             0            0          0            0\n",
      "159  160    SP   73             0            0          0            0\n",
      "160  161    SP   72             0            0          0            0\n",
      "161  162    SP   71             0            0          0            0\n",
      "162  163    SP   70             0            0          0            0\n",
      "163  164    SP   69             0            0          0            0\n",
      "164  165    SP   68             0            0          0            0\n",
      "165  166    SP   67             0            0          0            0\n",
      "166  167    SP   66             0            0          0            0\n",
      "167  168    SP   65             0            0          0            0\n",
      "168  169    SP   64             0            0          0            0\n",
      "169  170    SP   63             0            0          0            0\n",
      "170  171    SP   62             0            0          0            0\n",
      "171  172    SP   61             0            0          0            0\n",
      "172  173    SP   60             0            0          0            0\n",
      "173  174    SP   59             0            0          0            0\n",
      "174  175    SP   58             0            0          0            0\n",
      "175  176    SP   57             0            0          0            0\n",
      "176  177    SP   56             0            0          0            0\n",
      "177  178    SP   55             0            0          0            0\n",
      "178  179    SP   54             0            0          0            0\n",
      "179  180    SP   53             0            0          0            0\n",
      "180  181    SP   52             0            0          0            0\n",
      "181  182    SP   51             0            0          0            0\n",
      "182  183    SP   50             0            0          0            0\n",
      "183  184    SP   49             0            0          0            0\n",
      "184  185    SP   48             0            1          1            4\n",
      "185  186    SP   47             0            0          0            0\n",
      "186  187    SP   46             0            0          0            0\n",
      "187  188    SP   45             0            0          0            0\n",
      "188  189    SP   44             0            0          0            0\n",
      "189  190    SP   43             0            0          0            0\n",
      "190  191    SP   42             0            0          0            0\n",
      "191  192    SP   41             0            0          0            0\n",
      "192  193    SP   40             0            0          0            0\n",
      "193  194    SP   39             0            0          0            0\n",
      "194  195    SP   38             0            0          0            0\n",
      "195  196    SP   37             0            0          0            0\n",
      "196  197    SP   36             0            0          0            0\n",
      "197  198    SP   35             0            0          0            0\n",
      "198  199    SP   34             0            0          0            0\n",
      "199  200    SP   33             0            0          0            0\n",
      "200  201    SP   32             0            0          0            0\n",
      "201  202    SP   31             0            0          0            0\n",
      "202  203    SP   30             0            0          0            0\n",
      "203  204    SP   29             0            0          0            0\n",
      "204  205    SP   28             0            0          0            0\n",
      "205  206    SP   27             0            0          0            0\n",
      "206  207    SP   26             0            0          0            0\n",
      "207  208    SP   25             0            0          0            0\n",
      "208  209    SP   24             0            0          0            0\n",
      "209  210    SP   23             0            0          0            0\n",
      "210  211    SP   22             0            0          0            0\n",
      "211  212    SP   21             0            0          0            0\n",
      "212  213    SP   20             0            0          0            0\n",
      "213  214    SP   19             0            0          0            0\n",
      "214  215    SP   18             0            0          0            0\n",
      "215  216    SP   17             0            0          0            0\n",
      "216  217    SP   16             0            0          0            0\n",
      "217  218    SP   15             0            0          0            0\n",
      "218  219    SP   14             0            0          0            0\n",
      "219  220    SP   13             0            0          0            0\n",
      "220  221    SP   12             0            0          0            0\n",
      "221  222    SP   11             1            0          5            2\n",
      "222  223    SP   10             0            0          0            0\n",
      "223  224    SP    9             0            0          0            0\n",
      "224  225    SP    8             0            0          0            0\n",
      "225  226    SP    7             0            0          0            0\n",
      "226  227    SP    6             0            0          0            0\n",
      "227  228    SP    5             0            0          0            0\n",
      "228  229    SP    4             0            0          0            0\n",
      "229  230    SP    3             0            0          0            0\n",
      "230  231    SP    2             0            0          0            0\n",
      "231  232    SP    1             0            0          0            0\n",
      "232  233    SP    0             0            0          0            0\n",
      "233  234    RJ  333             0            0          1            0\n",
      "234  235    RJ  332             0            0          0            0\n",
      "235  236    RJ  331             0            0          0            0\n",
      "236  237    RJ  330             0            0          0            0\n",
      "237  238    RJ  329             0            0          0            0\n",
      "238  239    RJ  328             0            0          0            0\n",
      "239  240    RJ  327             0            0          0            0\n",
      "240  241    RJ  326             0            0          0            0\n",
      "241  242    RJ  325             0            0          0            0\n",
      "242  243    RJ  324             0            0          0            0\n",
      "243  244    RJ  323             0            0          0            0\n",
      "244  245    RJ  322             0            0          0            0\n",
      "245  246    RJ  321             0            0          0            0\n",
      "246  247    RJ  320             0            0          0            0\n",
      "247  248    RJ  319             0            0          0            0\n",
      "248  249    RJ  318             0            0          0            0\n",
      "249  250    RJ  317             0            0          0            0\n",
      "250  251    RJ  316             0            0          0            0\n",
      "251  252    RJ  315             0            0          0            0\n",
      "252  253    RJ  314             0            0          0            0\n",
      "253  254    RJ  313             0            0          0            0\n",
      "254  255    RJ  312             0            0          0            0\n",
      "255  256    RJ  311             0            0          0            0\n",
      "256  257    RJ  310             0            0          0            0\n",
      "257  258    RJ  309             0            0          0            0\n",
      "258  259    RJ  308             0            0          0            0\n",
      "259  260    RJ  307             0            0          0            0\n",
      "260  261    RJ  306             0            0          0            0\n",
      "261  262    RJ  305             0            0          0            0\n",
      "262  263    RJ  304             0            0          0            0\n",
      "263  264    RJ  303             0            0          0            0\n",
      "264  265    RJ  302             0            0          0            0\n",
      "265  266    RJ  301             0            0          0            0\n",
      "266  267    RJ  300             0            0          0            0\n",
      "267  268    RJ  299             0            0          0            0\n",
      "268  269    RJ  298             0            0          0            0\n",
      "269  270    RJ  297             0            0          0            0\n",
      "270  271    RJ  296             0            0          0            0\n",
      "271  272    RJ  295             0            0          0            0\n",
      "272  273    RJ  294             0            0          0            0\n",
      "273  274    RJ  293             0            0          0            0\n",
      "274  275    RJ  292             0            0          0            0\n",
      "275  276    RJ  291             0            0          0            0\n",
      "276  277    RJ  290             0            0          0            0\n",
      "277  278    RJ  289             0            0          0            0\n",
      "278  279    RJ  288             0            0          0            0\n",
      "279  280    RJ  287             0            0          0            0\n",
      "280  281    RJ  286             0            0          0            0\n",
      "281  282    RJ  285             0            0          0            0\n",
      "282  283    RJ  284             0            0          0            0\n",
      "283  284    RJ  283             0            0          0            0\n",
      "284  285    RJ  282             0            0          0            0\n",
      "285  286    RJ  281             0            0          0            0\n",
      "286  287    RJ  280             0            0          0            0\n",
      "287  288    RJ  279             0            0          0            0\n",
      "288  289    RJ  278             0            0          0            0\n",
      "289  290    RJ  277             0            0          0            0\n",
      "290  291    RJ  276             0            0          0            0\n",
      "291  292    RJ  275             0            0          0            0\n",
      "292  293    RJ  274             0            0          0            0\n",
      "293  294    RJ  273             0            0          0            0\n",
      "294  295    RJ  272             0            0          0            0\n",
      "295  296    RJ  271             0            0          0            0\n",
      "296  297    RJ  270             0            0          0            0\n",
      "297  298    RJ  269             0            0          0            0\n",
      "298  299    RJ  268             0            0          0            0\n",
      "299  300    RJ  267             0            0          1            0\n",
      "300  301    RJ  266             1            0          1            0\n",
      "301  302    RJ  265             0            0          0            0\n",
      "302  303    RJ  264             0            0          0            0\n",
      "303  304    RJ  263             0            0          0            0\n",
      "304  305    RJ  262             0            0          0            0\n",
      "305  306    RJ  261             0            0          0            0\n",
      "306  307    RJ  260             0            0          0            0\n",
      "307  308    RJ  259             0            0          0            0\n",
      "308  309    RJ  258             0            0          0            0\n",
      "309  310    RJ  257             0            0          0            0\n",
      "310  311    RJ  256             0            0          0            0\n",
      "311  312    RJ  255             0            0          0            0\n",
      "312  313    RJ  254             0            0          0            0\n",
      "313  314    RJ  253             0            0          0            0\n",
      "314  315    RJ  252             0            0          0            0\n",
      "315  316    RJ  251             0            0          0            0\n",
      "316  317    RJ  250             0            0          0            0\n",
      "317  318    RJ  249             0            0          0            0\n",
      "318  319    RJ  248             0            0          0            0\n",
      "319  320    RJ  247             0            0          0            0\n",
      "320  321    RJ  246             0            0          0            0\n",
      "321  322    RJ  245             0            0          0            0\n",
      "322  323    RJ  244             0            0          3            1\n",
      "323  324    RJ  243             0            0          1            0\n",
      "324  325    RJ  242             0            0          0            0\n",
      "325  326    RJ  241             0            0          0            0\n",
      "326  327    RJ  240             0            0          0            0\n",
      "327  328    RJ  239             0            0          0            0\n",
      "328  329    RJ  238             0            0          0            0\n",
      "329  330    RJ  237             0            0          0            0\n",
      "330  331    RJ  236             0            0          0            0\n",
      "331  332    RJ  235             0            0          0            0\n",
      "332  333    RJ  234             0            0          0            0\n",
      "333  334    RJ  233             0            0          0            0\n",
      "334  335    RJ  232             0            0          0            0\n",
      "335  336    RJ  231             0            0          0            0\n",
      "336  337    RJ  230             0            0          0            0\n",
      "337  338    RJ  229             0            0          0            0\n",
      "338  339    RJ  228             0            0          0            0\n",
      "339  340    RJ  227             0            0          0            0\n",
      "340  341    RJ  226             0            0          0            0\n",
      "341  342    RJ  225             0            0          0            0\n",
      "342  343    RJ  224             0            0          0            0\n",
      "343  344    RJ  223             0            0          0            0\n",
      "344  345    RJ  222             0            0          0            0\n",
      "345  346    RJ  221             0            0          0            0\n",
      "346  347    RJ  220             0            0          0            0\n",
      "347  348    RJ  219             0            0          0            0\n",
      "348  349    RJ  218             0            0          0            0\n",
      "349  350    RJ  217             0            0          0            0\n",
      "350  351    RJ  216             0            0          0            0\n",
      "351  352    RJ  215             0            0          0            0\n",
      "352  353    RJ  214             0            0          0            0\n",
      "353  354    RJ  213             0            0          0            0\n",
      "354  355    RJ  212             0            0          0            0\n",
      "355  356    RJ  211             0            0          0            0\n",
      "356  357    RJ  210             0            0          0            0\n",
      "357  358    RJ  209             0            0          0            0\n",
      "358  359    RJ  208             0            0          0            0\n",
      "359  360    RJ  207             0            0          0            0\n",
      "360  361    RJ  206             0            0          0            0\n",
      "361  362    RJ  205             0            0          0            0\n",
      "362  363    RJ  204             0            0          0            0\n",
      "363  364    RJ  203             0            0          0            0\n",
      "364  365    RJ  202             0            0          0            0\n",
      "365  366    RJ  201             0            0          0            0\n",
      "366  367    RJ  200             0            0          0            0\n",
      "367  368    RJ  199             0            0          0            0\n",
      "368  369    RJ  198             0            0          1            1\n",
      "369  370    RJ  197             0            2          0            0\n",
      "370  371    RJ  196             0            1          0            0\n",
      "371  372    RJ  195             0            0          0            0\n",
      "372  373    RJ  194             0            0          1            0\n",
      "373  374    RJ  193             0            0          0            0\n",
      "374  375    RJ  192             0            0          0            0\n",
      "375  376    RJ  191             0            0          0            0\n",
      "376  377    RJ  190             0            0          0            0\n",
      "377  378    RJ  189             0            0          0            0\n",
      "378  379    RJ  188             0            0          0            0\n",
      "379  380    RJ  187             0            0          0            0\n",
      "380  381    RJ  186             0            0          0            0\n",
      "381  382    RJ  185             0            0          0            0\n",
      "382  383    RJ  184             0            0          0            0\n",
      "383  384    RJ  183             1            1          3            4\n",
      "384  385    RJ  182             0            0          0            0\n",
      "385  386    RJ  181             0            0          0            0\n",
      "386  387    RJ  180             0            0          0            0\n",
      "387  388    RJ  179             0            0          0            0\n",
      "388  389    RJ  178             0            0          0            0\n",
      "389  390    RJ  177             0            0          0            0\n",
      "390  391    RJ  176             0            0          0            0\n",
      "391  392    RJ  175             0            0          0            0\n",
      "392  393    RJ  174             0            2          3            1\n",
      "393  394    RJ  173             1            3          0            2\n",
      "394  395    RJ  172             0            0          0            0\n",
      "395  396    RJ  171             0            0          0            0\n",
      "396  397    RJ  170             0            0          0            0\n",
      "397  398    RJ  169             0            0          0            0\n",
      "398  399    RJ  168             0            0          2            0\n",
      "399  400    RJ  167             0            0          0            0\n",
      "400  401    RJ  166             1            0          2            1\n",
      "401  402    RJ  165             0            0          1            0\n",
      "402  403    RJ  164             0            0          0            0\n"
     ]
    }
   ],
   "source": [
    "predicted_reads = pd.DataFrame({\n",
    "                                 'Id'           : df_eval['Id'].astype(str),\n",
    "                                 'state'        : df_eval['State'],\n",
    "                                 'km'           : df_eval['KM'].astype(str),\n",
    "                                 'esp_00h_06hs' : eval_preds[:, 0],\n",
    "                                 'esp_06_12hs'  : eval_preds[:, 1],\n",
    "                                 'esp_12_18'    : eval_preds[:, 2],\n",
    "                                 'esp_18_24hs'  : eval_preds[:, 3]\n",
    "                               })\n",
    "predicted_reads.to_csv('../outputs_' + eval_data + '/' + rodovia + '/predicted_' + rodovia + '_ml.csv', index=False)\n",
    "print(predicted_reads.to_string())\n",
    "# predicted_reads"
   ]
  },
  {
   "cell_type": "code",
   "execution_count": 47,
   "metadata": {},
   "outputs": [],
   "source": [
    "# print(predicted_reads.to_string())"
   ]
  },
  {
   "cell_type": "code",
   "execution_count": 48,
   "metadata": {},
   "outputs": [
    {
     "data": {
      "text/html": [
       "<div>\n",
       "<style scoped>\n",
       "    .dataframe tbody tr th:only-of-type {\n",
       "        vertical-align: middle;\n",
       "    }\n",
       "\n",
       "    .dataframe tbody tr th {\n",
       "        vertical-align: top;\n",
       "    }\n",
       "\n",
       "    .dataframe thead th {\n",
       "        text-align: right;\n",
       "    }\n",
       "</style>\n",
       "<table border=\"1\" class=\"dataframe\">\n",
       "  <thead>\n",
       "    <tr style=\"text-align: right;\">\n",
       "      <th></th>\n",
       "      <th>esp_00h_06hs</th>\n",
       "      <th>esp_06_12hs</th>\n",
       "      <th>esp_12_18</th>\n",
       "      <th>esp_18_24hs</th>\n",
       "    </tr>\n",
       "  </thead>\n",
       "  <tbody>\n",
       "    <tr>\n",
       "      <th>count</th>\n",
       "      <td>403.000000</td>\n",
       "      <td>403.000000</td>\n",
       "      <td>403.000000</td>\n",
       "      <td>403.000000</td>\n",
       "    </tr>\n",
       "    <tr>\n",
       "      <th>mean</th>\n",
       "      <td>0.014888</td>\n",
       "      <td>0.049628</td>\n",
       "      <td>0.121588</td>\n",
       "      <td>0.054591</td>\n",
       "    </tr>\n",
       "    <tr>\n",
       "      <th>std</th>\n",
       "      <td>0.121257</td>\n",
       "      <td>0.303411</td>\n",
       "      <td>0.608894</td>\n",
       "      <td>0.348411</td>\n",
       "    </tr>\n",
       "    <tr>\n",
       "      <th>min</th>\n",
       "      <td>0.000000</td>\n",
       "      <td>0.000000</td>\n",
       "      <td>0.000000</td>\n",
       "      <td>0.000000</td>\n",
       "    </tr>\n",
       "    <tr>\n",
       "      <th>25%</th>\n",
       "      <td>0.000000</td>\n",
       "      <td>0.000000</td>\n",
       "      <td>0.000000</td>\n",
       "      <td>0.000000</td>\n",
       "    </tr>\n",
       "    <tr>\n",
       "      <th>50%</th>\n",
       "      <td>0.000000</td>\n",
       "      <td>0.000000</td>\n",
       "      <td>0.000000</td>\n",
       "      <td>0.000000</td>\n",
       "    </tr>\n",
       "    <tr>\n",
       "      <th>75%</th>\n",
       "      <td>0.000000</td>\n",
       "      <td>0.000000</td>\n",
       "      <td>0.000000</td>\n",
       "      <td>0.000000</td>\n",
       "    </tr>\n",
       "    <tr>\n",
       "      <th>max</th>\n",
       "      <td>1.000000</td>\n",
       "      <td>3.000000</td>\n",
       "      <td>7.000000</td>\n",
       "      <td>4.000000</td>\n",
       "    </tr>\n",
       "  </tbody>\n",
       "</table>\n",
       "</div>"
      ],
      "text/plain": [
       "       esp_00h_06hs  esp_06_12hs   esp_12_18  esp_18_24hs\n",
       "count    403.000000   403.000000  403.000000   403.000000\n",
       "mean       0.014888     0.049628    0.121588     0.054591\n",
       "std        0.121257     0.303411    0.608894     0.348411\n",
       "min        0.000000     0.000000    0.000000     0.000000\n",
       "25%        0.000000     0.000000    0.000000     0.000000\n",
       "50%        0.000000     0.000000    0.000000     0.000000\n",
       "75%        0.000000     0.000000    0.000000     0.000000\n",
       "max        1.000000     3.000000    7.000000     4.000000"
      ]
     },
     "execution_count": 48,
     "metadata": {},
     "output_type": "execute_result"
    }
   ],
   "source": [
    "predicted_reads.describe()"
   ]
  },
  {
   "cell_type": "code",
   "execution_count": 49,
   "metadata": {},
   "outputs": [
    {
     "data": {
      "text/plain": [
       "Id               10\n",
       "state            SP\n",
       "km              223\n",
       "esp_00h_06hs      0\n",
       "esp_06_12hs       2\n",
       "esp_12_18         3\n",
       "esp_18_24hs       1\n",
       "Name: 9, dtype: object"
      ]
     },
     "execution_count": 49,
     "metadata": {},
     "output_type": "execute_result"
    }
   ],
   "source": [
    "predicted_reads.iloc[9]"
   ]
  },
  {
   "cell_type": "code",
   "execution_count": 50,
   "metadata": {},
   "outputs": [
    {
     "data": {
      "text/plain": [
       "esp_12_18      15\n",
       "esp_18_24hs    23\n",
       "day_total      66\n",
       "Fator_X         3\n",
       "Name: 9, dtype: object"
      ]
     },
     "execution_count": 50,
     "metadata": {},
     "output_type": "execute_result"
    }
   ],
   "source": [
    "df_train.iloc[9][-4:]"
   ]
  },
  {
   "cell_type": "code",
   "execution_count": 51,
   "metadata": {},
   "outputs": [
    {
     "data": {
      "text/plain": [
       "esp_12_18      15\n",
       "esp_18_24hs    23\n",
       "day_total      66\n",
       "Fator_X         3\n",
       "Name: 9, dtype: object"
      ]
     },
     "execution_count": 51,
     "metadata": {},
     "output_type": "execute_result"
    }
   ],
   "source": [
    "df_eval.iloc[9][-4:]"
   ]
  },
  {
   "cell_type": "markdown",
   "metadata": {},
   "source": [
    "***"
   ]
  },
  {
   "cell_type": "code",
   "execution_count": 52,
   "metadata": {},
   "outputs": [
    {
     "data": {
      "text/plain": [
       "Id              393\n",
       "state            RJ\n",
       "km              174\n",
       "esp_00h_06hs      0\n",
       "esp_06_12hs       2\n",
       "esp_12_18         3\n",
       "esp_18_24hs       1\n",
       "Name: 392, dtype: object"
      ]
     },
     "execution_count": 52,
     "metadata": {},
     "output_type": "execute_result"
    }
   ],
   "source": [
    "predicted_reads.iloc[392]"
   ]
  },
  {
   "cell_type": "code",
   "execution_count": 53,
   "metadata": {},
   "outputs": [
    {
     "data": {
      "text/plain": [
       "esp_12_18       6\n",
       "esp_18_24hs     7\n",
       "day_total      21\n",
       "Fator_X         3\n",
       "Name: 392, dtype: object"
      ]
     },
     "execution_count": 53,
     "metadata": {},
     "output_type": "execute_result"
    }
   ],
   "source": [
    "df_train.iloc[392][-4:]"
   ]
  },
  {
   "cell_type": "code",
   "execution_count": 54,
   "metadata": {},
   "outputs": [
    {
     "data": {
      "text/plain": [
       "esp_12_18       6\n",
       "esp_18_24hs     7\n",
       "day_total      21\n",
       "Fator_X         3\n",
       "Name: 392, dtype: object"
      ]
     },
     "execution_count": 54,
     "metadata": {},
     "output_type": "execute_result"
    }
   ],
   "source": [
    "df_eval.iloc[392][-4:]"
   ]
  },
  {
   "cell_type": "code",
   "execution_count": null,
   "metadata": {},
   "outputs": [],
   "source": []
  }
 ],
 "metadata": {
  "kernelspec": {
   "display_name": "Python 3",
   "language": "python",
   "name": "python3"
  },
  "language_info": {
   "codemirror_mode": {
    "name": "ipython",
    "version": 3
   },
   "file_extension": ".py",
   "mimetype": "text/x-python",
   "name": "python",
   "nbconvert_exporter": "python",
   "pygments_lexer": "ipython3",
   "version": "3.8.2"
  }
 },
 "nbformat": 4,
 "nbformat_minor": 4
}
