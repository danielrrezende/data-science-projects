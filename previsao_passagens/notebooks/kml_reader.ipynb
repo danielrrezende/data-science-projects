{
 "cells": [
  {
   "cell_type": "code",
   "execution_count": 1,
   "metadata": {},
   "outputs": [],
   "source": [
    "# !pip install pykml\n",
    "# !pip install bs4"
   ]
  },
  {
   "cell_type": "code",
   "execution_count": 2,
   "metadata": {},
   "outputs": [],
   "source": [
    "from bs4 import BeautifulSoup\n",
    "import csv\n",
    "import numpy as np\n",
    "import pandas as pd"
   ]
  },
  {
   "cell_type": "markdown",
   "metadata": {},
   "source": [
    "***\n",
    "# =-=-=-=-=-=-=-=-=-= SETAR DATA E RODOVIA =-=-=-=-=-=-=-=-=-="
   ]
  },
  {
   "cell_type": "code",
   "execution_count": 3,
   "metadata": {},
   "outputs": [],
   "source": [
    "data = '2020-01-07'\n",
    "rodovia = 'dutra'"
   ]
  },
  {
   "cell_type": "markdown",
   "metadata": {},
   "source": [
    "***\n",
    "# Leitor de arquivo KML"
   ]
  },
  {
   "attachments": {
    "bd48d02a-9944-45d6-b637-29a90378e329.png": {
     "image/png": "[encoded data removed]"
    },
    "d0998ce1-c5bd-442b-b0db-ad6b9d7baa4e.png": {
     "image/png": "[encoded data removed]"
    }
   },
   "cell_type": "markdown",
   "metadata": {},
   "source": [
    "ATENÇÃO, é necessário mudar no arquivo KML, NAS COORDENADAS que se deseja extrair, o nome ![image.png](attachment:bd48d02a-9944-45d6-b637-29a90378e329.png) para ![image.png](attachment:d0998ce1-c5bd-442b-b0db-ad6b9d7baa4e.png) \n",
    "\n",
    "Isso foi feito para que o algoritmo identifique e somente as coordenadas que se deseja extrair"
   ]
  },
  {
   "cell_type": "code",
   "execution_count": 4,
   "metadata": {},
   "outputs": [],
   "source": [
    "def process_coordinate_string(str):\n",
    "    ret = []\n",
    "    comma_split = str.split(' ')\n",
    "    return comma_split\n",
    "\n",
    "with open('../inputs/KML/' + rodovia + '/dutra_coord.kml', 'r') as f:\n",
    "    s = BeautifulSoup(f, 'xml')\n",
    "\n",
    "with open('../inputs/coordenadas/' + rodovia + '/dutra_coord_temp.csv', 'w', newline='') as csvfile:\n",
    "    writer = csv.writer(csvfile)\n",
    "    for coords in s.find_all('Coordinates'):\n",
    "        writer.writerow(process_coordinate_string(coords.string))"
   ]
  },
  {
   "cell_type": "markdown",
   "metadata": {},
   "source": [
    "* Read CSV"
   ]
  },
  {
   "cell_type": "code",
   "execution_count": 5,
   "metadata": {},
   "outputs": [
    {
     "data": {
      "text/html": [
       "<div>\n",
       "<style scoped>\n",
       "    .dataframe tbody tr th:only-of-type {\n",
       "        vertical-align: middle;\n",
       "    }\n",
       "\n",
       "    .dataframe tbody tr th {\n",
       "        vertical-align: top;\n",
       "    }\n",
       "\n",
       "    .dataframe thead th {\n",
       "        text-align: right;\n",
       "    }\n",
       "</style>\n",
       "<table border=\"1\" class=\"dataframe\">\n",
       "  <thead>\n",
       "    <tr style=\"text-align: right;\">\n",
       "      <th></th>\n",
       "      <th>\\n\\t\\t\\t\\t\\t-46.5878189,-23.5255132,0</th>\n",
       "      <th>-46.5878189,-23.5255132,0</th>\n",
       "      <th>-46.5874814,-23.5250834,0</th>\n",
       "      <th>-46.5872953,-23.5248451,0</th>\n",
       "      <th>-46.5869829,-23.5244533,0</th>\n",
       "      <th>-46.58667470000001,-23.524057,0</th>\n",
       "      <th>-46.5862479,-23.5235146,0</th>\n",
       "      <th>-46.58587980000001,-23.523054,0</th>\n",
       "      <th>-46.5854955,-23.5225945,0</th>\n",
       "      <th>-46.5852425,-23.52229760000001,0</th>\n",
       "      <th>...</th>\n",
       "      <th>-43.3244954,-22.8163231,0</th>\n",
       "      <th>-43.32408,-22.8165516,0</th>\n",
       "      <th>-43.3238075,-22.8167021,0</th>\n",
       "      <th>-43.3236706,-22.8167782,0</th>\n",
       "      <th>-43.3235317,-22.8168546,0</th>\n",
       "      <th>-43.3233963,-22.8169287,0</th>\n",
       "      <th>-43.3232269,-22.8170228,0</th>\n",
       "      <th>-43.3231048,-22.8170881,0</th>\n",
       "      <th>-43.3229891,-22.817153,0</th>\n",
       "      <th>\\n\\t\\t\\t\\t</th>\n",
       "    </tr>\n",
       "  </thead>\n",
       "  <tbody>\n",
       "  </tbody>\n",
       "</table>\n",
       "<p>0 rows × 9068 columns</p>\n",
       "</div>"
      ],
      "text/plain": [
       "Empty DataFrame\n",
       "Columns: [\n",
       "\t\t\t\t\t-46.5878189,-23.5255132,0, -46.5878189,-23.5255132,0, -46.5874814,-23.5250834,0, -46.5872953,-23.5248451,0, -46.5869829,-23.5244533,0, -46.58667470000001,-23.524057,0, -46.5862479,-23.5235146,0, -46.58587980000001,-23.523054,0, -46.5854955,-23.5225945,0, -46.5852425,-23.52229760000001,0, -46.58512180000001,-23.5221559,0, -46.58510329999999,-23.5221342,0, -46.5846796,-23.5216505,0, -46.5842911,-23.5212296,0, -46.5842225,-23.52114690000001,0, -46.5838439,-23.5207457,0, -46.5833904,-23.5202703,0, -46.58310089999999,-23.5199666,0, -46.582484,-23.5193234,0, -46.5819284,-23.5187442,0, -46.58186260000001,-23.5186763,0, -46.5818273,-23.5186397,0, -46.5817678,-23.5185796,0, -46.5816571,-23.5184669,0, -46.5812693,-23.5180657,0, -46.58103830000001,-23.517816,0, -46.5806814,-23.5174451,0, -46.580431,-23.5171866,0, -46.58024870000001,-23.5169883,0, -46.5799708,-23.5166968,0, -46.5798277,-23.51654600000001,0, -46.57944,-23.5161439,0, -46.5786847,-23.5153506,0, -46.5781596,-23.5148062,0, -46.5779508,-23.5145886,0, -46.57775470000001,-23.5143788,0, -46.57771569999999,-23.5143394,0, -46.57762499999999,-23.5142447,0, -46.5768732,-23.5134594,0, -46.576433,-23.5130075,0, -46.5759875,-23.5125416,0, -46.5755259,-23.512061,0, -46.5753225,-23.511849,0, -46.57505050000001,-23.5115568,0, -46.5748881,-23.5113831,0, -46.5743359,-23.5108029,0, -46.5737225,-23.51015840000001,0, -46.57271160000001,-23.5090981,0, -46.5714536,-23.507778,0, -46.57129340000001,-23.5076142,0, -46.5710152,-23.5073322,0, -46.5709401,-23.5072526,0, -46.5703679,-23.5066566,0, -46.5703323,-23.5066195,0, -46.570062,-23.5063381,0, -46.56995409999999,-23.5062254,0, -46.5696654,-23.5059227,0, -46.5695574,-23.5058187,0, -46.5690999,-23.5053587,0, -46.5690568,-23.5053191,0, -46.5689184,-23.50519170000001,0, -46.5682727,-23.5045976,0, -46.567829,-23.504218,0, -46.5673294,-23.5038057,0, -46.5669608,-23.5035429,0, -46.5666664,-23.5033193,0, -46.5665361,-23.5032281,0, -46.5661754,-23.5029786,0, -46.5653419,-23.5023948,0, -46.56450830000001,-23.5017898,0, -46.5637217,-23.5012576,0, -46.5632668,-23.5009498,0, -46.5627341,-23.5006116,0, -46.5624375,-23.5004313,0, -46.562251,-23.500318,0, -46.5620699,-23.5001929,0, -46.5618387,-23.5000222,0, -46.5616636,-23.4998807,0, -46.5616152,-23.4998416,0, -46.56145889999999,-23.4997194,0, -46.56082140000001,-23.4992804,0, -46.56054970000001,-23.4990919,0, -46.5600879,-23.4987751,0, -46.5597206,-23.4985218,0, -46.5596352,-23.4984648,0, -46.55938939999999,-23.4982947,0, -46.559179,-23.4981492,0, -46.5589109,-23.4979651,0, -46.5585625,-23.49772430000001,0, -46.55817960000001,-23.4974591,0, -46.5578268,-23.497217,0, -46.5576428,-23.4970878,0, -46.5574892,-23.4969816,0, -46.5571149,-23.4967239,0, -46.55672210000001,-23.49645170000001,0, -46.5564345,-23.4962528,0, -46.5561647,-23.4960666,0, -46.555801,-23.4958147,0, -46.5555511,-23.4956418,0, -46.55532440000001,-23.4954846,0, ...]\n",
       "Index: []\n",
       "\n",
       "[0 rows x 9068 columns]"
      ]
     },
     "execution_count": 5,
     "metadata": {},
     "output_type": "execute_result"
    }
   ],
   "source": [
    "coord = pd.read_csv('../inputs/coordenadas/' + rodovia + '/dutra_coord_temp.csv', delimiter=',')\n",
    "coord"
   ]
  },
  {
   "cell_type": "markdown",
   "metadata": {},
   "source": [
    "* Transposte"
   ]
  },
  {
   "cell_type": "code",
   "execution_count": 6,
   "metadata": {},
   "outputs": [
    {
     "data": {
      "text/html": [
       "<div>\n",
       "<style scoped>\n",
       "    .dataframe tbody tr th:only-of-type {\n",
       "        vertical-align: middle;\n",
       "    }\n",
       "\n",
       "    .dataframe tbody tr th {\n",
       "        vertical-align: top;\n",
       "    }\n",
       "\n",
       "    .dataframe thead th {\n",
       "        text-align: right;\n",
       "    }\n",
       "</style>\n",
       "<table border=\"1\" class=\"dataframe\">\n",
       "  <thead>\n",
       "    <tr style=\"text-align: right;\">\n",
       "      <th></th>\n",
       "    </tr>\n",
       "  </thead>\n",
       "  <tbody>\n",
       "    <tr>\n",
       "      <th>\\n\\t\\t\\t\\t\\t-46.5878189,-23.5255132,0</th>\n",
       "    </tr>\n",
       "    <tr>\n",
       "      <th>-46.5878189,-23.5255132,0</th>\n",
       "    </tr>\n",
       "    <tr>\n",
       "      <th>-46.5874814,-23.5250834,0</th>\n",
       "    </tr>\n",
       "    <tr>\n",
       "      <th>-46.5872953,-23.5248451,0</th>\n",
       "    </tr>\n",
       "    <tr>\n",
       "      <th>-46.5869829,-23.5244533,0</th>\n",
       "    </tr>\n",
       "    <tr>\n",
       "      <th>...</th>\n",
       "    </tr>\n",
       "    <tr>\n",
       "      <th>-43.3233963,-22.8169287,0</th>\n",
       "    </tr>\n",
       "    <tr>\n",
       "      <th>-43.3232269,-22.8170228,0</th>\n",
       "    </tr>\n",
       "    <tr>\n",
       "      <th>-43.3231048,-22.8170881,0</th>\n",
       "    </tr>\n",
       "    <tr>\n",
       "      <th>-43.3229891,-22.817153,0</th>\n",
       "    </tr>\n",
       "    <tr>\n",
       "      <th>\\n\\t\\t\\t\\t</th>\n",
       "    </tr>\n",
       "  </tbody>\n",
       "</table>\n",
       "<p>9068 rows × 0 columns</p>\n",
       "</div>"
      ],
      "text/plain": [
       "Empty DataFrame\n",
       "Columns: []\n",
       "Index: [\n",
       "\t\t\t\t\t-46.5878189,-23.5255132,0, -46.5878189,-23.5255132,0, -46.5874814,-23.5250834,0, -46.5872953,-23.5248451,0, -46.5869829,-23.5244533,0, -46.58667470000001,-23.524057,0, -46.5862479,-23.5235146,0, -46.58587980000001,-23.523054,0, -46.5854955,-23.5225945,0, -46.5852425,-23.52229760000001,0, -46.58512180000001,-23.5221559,0, -46.58510329999999,-23.5221342,0, -46.5846796,-23.5216505,0, -46.5842911,-23.5212296,0, -46.5842225,-23.52114690000001,0, -46.5838439,-23.5207457,0, -46.5833904,-23.5202703,0, -46.58310089999999,-23.5199666,0, -46.582484,-23.5193234,0, -46.5819284,-23.5187442,0, -46.58186260000001,-23.5186763,0, -46.5818273,-23.5186397,0, -46.5817678,-23.5185796,0, -46.5816571,-23.5184669,0, -46.5812693,-23.5180657,0, -46.58103830000001,-23.517816,0, -46.5806814,-23.5174451,0, -46.580431,-23.5171866,0, -46.58024870000001,-23.5169883,0, -46.5799708,-23.5166968,0, -46.5798277,-23.51654600000001,0, -46.57944,-23.5161439,0, -46.5786847,-23.5153506,0, -46.5781596,-23.5148062,0, -46.5779508,-23.5145886,0, -46.57775470000001,-23.5143788,0, -46.57771569999999,-23.5143394,0, -46.57762499999999,-23.5142447,0, -46.5768732,-23.5134594,0, -46.576433,-23.5130075,0, -46.5759875,-23.5125416,0, -46.5755259,-23.512061,0, -46.5753225,-23.511849,0, -46.57505050000001,-23.5115568,0, -46.5748881,-23.5113831,0, -46.5743359,-23.5108029,0, -46.5737225,-23.51015840000001,0, -46.57271160000001,-23.5090981,0, -46.5714536,-23.507778,0, -46.57129340000001,-23.5076142,0, -46.5710152,-23.5073322,0, -46.5709401,-23.5072526,0, -46.5703679,-23.5066566,0, -46.5703323,-23.5066195,0, -46.570062,-23.5063381,0, -46.56995409999999,-23.5062254,0, -46.5696654,-23.5059227,0, -46.5695574,-23.5058187,0, -46.5690999,-23.5053587,0, -46.5690568,-23.5053191,0, -46.5689184,-23.50519170000001,0, -46.5682727,-23.5045976,0, -46.567829,-23.504218,0, -46.5673294,-23.5038057,0, -46.5669608,-23.5035429,0, -46.5666664,-23.5033193,0, -46.5665361,-23.5032281,0, -46.5661754,-23.5029786,0, -46.5653419,-23.5023948,0, -46.56450830000001,-23.5017898,0, -46.5637217,-23.5012576,0, -46.5632668,-23.5009498,0, -46.5627341,-23.5006116,0, -46.5624375,-23.5004313,0, -46.562251,-23.500318,0, -46.5620699,-23.5001929,0, -46.5618387,-23.5000222,0, -46.5616636,-23.4998807,0, -46.5616152,-23.4998416,0, -46.56145889999999,-23.4997194,0, -46.56082140000001,-23.4992804,0, -46.56054970000001,-23.4990919,0, -46.5600879,-23.4987751,0, -46.5597206,-23.4985218,0, -46.5596352,-23.4984648,0, -46.55938939999999,-23.4982947,0, -46.559179,-23.4981492,0, -46.5589109,-23.4979651,0, -46.5585625,-23.49772430000001,0, -46.55817960000001,-23.4974591,0, -46.5578268,-23.497217,0, -46.5576428,-23.4970878,0, -46.5574892,-23.4969816,0, -46.5571149,-23.4967239,0, -46.55672210000001,-23.49645170000001,0, -46.5564345,-23.4962528,0, -46.5561647,-23.4960666,0, -46.555801,-23.4958147,0, -46.5555511,-23.4956418,0, -46.55532440000001,-23.4954846,0, ...]\n",
       "\n",
       "[9068 rows x 0 columns]"
      ]
     },
     "execution_count": 6,
     "metadata": {},
     "output_type": "execute_result"
    }
   ],
   "source": [
    "coord_vertical = coord.T\n",
    "coord_vertical"
   ]
  },
  {
   "cell_type": "markdown",
   "metadata": {},
   "source": [
    "* Delete rows"
   ]
  },
  {
   "cell_type": "code",
   "execution_count": 7,
   "metadata": {},
   "outputs": [
    {
     "data": {
      "text/html": [
       "<div>\n",
       "<style scoped>\n",
       "    .dataframe tbody tr th:only-of-type {\n",
       "        vertical-align: middle;\n",
       "    }\n",
       "\n",
       "    .dataframe tbody tr th {\n",
       "        vertical-align: top;\n",
       "    }\n",
       "\n",
       "    .dataframe thead th {\n",
       "        text-align: right;\n",
       "    }\n",
       "</style>\n",
       "<table border=\"1\" class=\"dataframe\">\n",
       "  <thead>\n",
       "    <tr style=\"text-align: right;\">\n",
       "      <th></th>\n",
       "    </tr>\n",
       "  </thead>\n",
       "  <tbody>\n",
       "    <tr>\n",
       "      <th>-46.5878189,-23.5255132,0</th>\n",
       "    </tr>\n",
       "    <tr>\n",
       "      <th>-46.5874814,-23.5250834,0</th>\n",
       "    </tr>\n",
       "    <tr>\n",
       "      <th>-46.5872953,-23.5248451,0</th>\n",
       "    </tr>\n",
       "    <tr>\n",
       "      <th>-46.5869829,-23.5244533,0</th>\n",
       "    </tr>\n",
       "    <tr>\n",
       "      <th>-46.58667470000001,-23.524057,0</th>\n",
       "    </tr>\n",
       "    <tr>\n",
       "      <th>...</th>\n",
       "    </tr>\n",
       "    <tr>\n",
       "      <th>-43.3235317,-22.8168546,0</th>\n",
       "    </tr>\n",
       "    <tr>\n",
       "      <th>-43.3233963,-22.8169287,0</th>\n",
       "    </tr>\n",
       "    <tr>\n",
       "      <th>-43.3232269,-22.8170228,0</th>\n",
       "    </tr>\n",
       "    <tr>\n",
       "      <th>-43.3231048,-22.8170881,0</th>\n",
       "    </tr>\n",
       "    <tr>\n",
       "      <th>-43.3229891,-22.817153,0</th>\n",
       "    </tr>\n",
       "  </tbody>\n",
       "</table>\n",
       "<p>9066 rows × 0 columns</p>\n",
       "</div>"
      ],
      "text/plain": [
       "Empty DataFrame\n",
       "Columns: []\n",
       "Index: [-46.5878189,-23.5255132,0, -46.5874814,-23.5250834,0, -46.5872953,-23.5248451,0, -46.5869829,-23.5244533,0, -46.58667470000001,-23.524057,0, -46.5862479,-23.5235146,0, -46.58587980000001,-23.523054,0, -46.5854955,-23.5225945,0, -46.5852425,-23.52229760000001,0, -46.58512180000001,-23.5221559,0, -46.58510329999999,-23.5221342,0, -46.5846796,-23.5216505,0, -46.5842911,-23.5212296,0, -46.5842225,-23.52114690000001,0, -46.5838439,-23.5207457,0, -46.5833904,-23.5202703,0, -46.58310089999999,-23.5199666,0, -46.582484,-23.5193234,0, -46.5819284,-23.5187442,0, -46.58186260000001,-23.5186763,0, -46.5818273,-23.5186397,0, -46.5817678,-23.5185796,0, -46.5816571,-23.5184669,0, -46.5812693,-23.5180657,0, -46.58103830000001,-23.517816,0, -46.5806814,-23.5174451,0, -46.580431,-23.5171866,0, -46.58024870000001,-23.5169883,0, -46.5799708,-23.5166968,0, -46.5798277,-23.51654600000001,0, -46.57944,-23.5161439,0, -46.5786847,-23.5153506,0, -46.5781596,-23.5148062,0, -46.5779508,-23.5145886,0, -46.57775470000001,-23.5143788,0, -46.57771569999999,-23.5143394,0, -46.57762499999999,-23.5142447,0, -46.5768732,-23.5134594,0, -46.576433,-23.5130075,0, -46.5759875,-23.5125416,0, -46.5755259,-23.512061,0, -46.5753225,-23.511849,0, -46.57505050000001,-23.5115568,0, -46.5748881,-23.5113831,0, -46.5743359,-23.5108029,0, -46.5737225,-23.51015840000001,0, -46.57271160000001,-23.5090981,0, -46.5714536,-23.507778,0, -46.57129340000001,-23.5076142,0, -46.5710152,-23.5073322,0, -46.5709401,-23.5072526,0, -46.5703679,-23.5066566,0, -46.5703323,-23.5066195,0, -46.570062,-23.5063381,0, -46.56995409999999,-23.5062254,0, -46.5696654,-23.5059227,0, -46.5695574,-23.5058187,0, -46.5690999,-23.5053587,0, -46.5690568,-23.5053191,0, -46.5689184,-23.50519170000001,0, -46.5682727,-23.5045976,0, -46.567829,-23.504218,0, -46.5673294,-23.5038057,0, -46.5669608,-23.5035429,0, -46.5666664,-23.5033193,0, -46.5665361,-23.5032281,0, -46.5661754,-23.5029786,0, -46.5653419,-23.5023948,0, -46.56450830000001,-23.5017898,0, -46.5637217,-23.5012576,0, -46.5632668,-23.5009498,0, -46.5627341,-23.5006116,0, -46.5624375,-23.5004313,0, -46.562251,-23.500318,0, -46.5620699,-23.5001929,0, -46.5618387,-23.5000222,0, -46.5616636,-23.4998807,0, -46.5616152,-23.4998416,0, -46.56145889999999,-23.4997194,0, -46.56082140000001,-23.4992804,0, -46.56054970000001,-23.4990919,0, -46.5600879,-23.4987751,0, -46.5597206,-23.4985218,0, -46.5596352,-23.4984648,0, -46.55938939999999,-23.4982947,0, -46.559179,-23.4981492,0, -46.5589109,-23.4979651,0, -46.5585625,-23.49772430000001,0, -46.55817960000001,-23.4974591,0, -46.5578268,-23.497217,0, -46.5576428,-23.4970878,0, -46.5574892,-23.4969816,0, -46.5571149,-23.4967239,0, -46.55672210000001,-23.49645170000001,0, -46.5564345,-23.4962528,0, -46.5561647,-23.4960666,0, -46.555801,-23.4958147,0, -46.5555511,-23.4956418,0, -46.55532440000001,-23.4954846,0, -46.5550649,-23.4953033,0, ...]\n",
       "\n",
       "[9066 rows x 0 columns]"
      ]
     },
     "execution_count": 7,
     "metadata": {},
     "output_type": "execute_result"
    }
   ],
   "source": [
    "coord_vertical = coord_vertical.drop(coord_vertical.index[0])\n",
    "coord_vertical = coord_vertical.drop(coord_vertical.index[-1])\n",
    "coord_vertical"
   ]
  },
  {
   "cell_type": "markdown",
   "metadata": {},
   "source": [
    "* Copy index to a new column"
   ]
  },
  {
   "cell_type": "code",
   "execution_count": 8,
   "metadata": {},
   "outputs": [
    {
     "data": {
      "text/html": [
       "<div>\n",
       "<style scoped>\n",
       "    .dataframe tbody tr th:only-of-type {\n",
       "        vertical-align: middle;\n",
       "    }\n",
       "\n",
       "    .dataframe tbody tr th {\n",
       "        vertical-align: top;\n",
       "    }\n",
       "\n",
       "    .dataframe thead th {\n",
       "        text-align: right;\n",
       "    }\n",
       "</style>\n",
       "<table border=\"1\" class=\"dataframe\">\n",
       "  <thead>\n",
       "    <tr style=\"text-align: right;\">\n",
       "      <th></th>\n",
       "      <th>Latitude</th>\n",
       "    </tr>\n",
       "  </thead>\n",
       "  <tbody>\n",
       "    <tr>\n",
       "      <th>-46.5878189,-23.5255132,0</th>\n",
       "      <td>-46.5878189,-23.5255132,0</td>\n",
       "    </tr>\n",
       "    <tr>\n",
       "      <th>-46.5874814,-23.5250834,0</th>\n",
       "      <td>-46.5874814,-23.5250834,0</td>\n",
       "    </tr>\n",
       "    <tr>\n",
       "      <th>-46.5872953,-23.5248451,0</th>\n",
       "      <td>-46.5872953,-23.5248451,0</td>\n",
       "    </tr>\n",
       "    <tr>\n",
       "      <th>-46.5869829,-23.5244533,0</th>\n",
       "      <td>-46.5869829,-23.5244533,0</td>\n",
       "    </tr>\n",
       "    <tr>\n",
       "      <th>-46.58667470000001,-23.524057,0</th>\n",
       "      <td>-46.58667470000001,-23.524057,0</td>\n",
       "    </tr>\n",
       "    <tr>\n",
       "      <th>...</th>\n",
       "      <td>...</td>\n",
       "    </tr>\n",
       "    <tr>\n",
       "      <th>-43.3235317,-22.8168546,0</th>\n",
       "      <td>-43.3235317,-22.8168546,0</td>\n",
       "    </tr>\n",
       "    <tr>\n",
       "      <th>-43.3233963,-22.8169287,0</th>\n",
       "      <td>-43.3233963,-22.8169287,0</td>\n",
       "    </tr>\n",
       "    <tr>\n",
       "      <th>-43.3232269,-22.8170228,0</th>\n",
       "      <td>-43.3232269,-22.8170228,0</td>\n",
       "    </tr>\n",
       "    <tr>\n",
       "      <th>-43.3231048,-22.8170881,0</th>\n",
       "      <td>-43.3231048,-22.8170881,0</td>\n",
       "    </tr>\n",
       "    <tr>\n",
       "      <th>-43.3229891,-22.817153,0</th>\n",
       "      <td>-43.3229891,-22.817153,0</td>\n",
       "    </tr>\n",
       "  </tbody>\n",
       "</table>\n",
       "<p>9066 rows × 1 columns</p>\n",
       "</div>"
      ],
      "text/plain": [
       "                                                        Latitude\n",
       "-46.5878189,-23.5255132,0              -46.5878189,-23.5255132,0\n",
       "-46.5874814,-23.5250834,0              -46.5874814,-23.5250834,0\n",
       "-46.5872953,-23.5248451,0              -46.5872953,-23.5248451,0\n",
       "-46.5869829,-23.5244533,0              -46.5869829,-23.5244533,0\n",
       "-46.58667470000001,-23.524057,0  -46.58667470000001,-23.524057,0\n",
       "...                                                          ...\n",
       "-43.3235317,-22.8168546,0              -43.3235317,-22.8168546,0\n",
       "-43.3233963,-22.8169287,0              -43.3233963,-22.8169287,0\n",
       "-43.3232269,-22.8170228,0              -43.3232269,-22.8170228,0\n",
       "-43.3231048,-22.8170881,0              -43.3231048,-22.8170881,0\n",
       "-43.3229891,-22.817153,0                -43.3229891,-22.817153,0\n",
       "\n",
       "[9066 rows x 1 columns]"
      ]
     },
     "execution_count": 8,
     "metadata": {},
     "output_type": "execute_result"
    }
   ],
   "source": [
    "coord_vertical['Latitude'] = coord_vertical.index\n",
    "coord_vertical"
   ]
  },
  {
   "cell_type": "markdown",
   "metadata": {},
   "source": [
    "* Droping index"
   ]
  },
  {
   "cell_type": "code",
   "execution_count": 9,
   "metadata": {},
   "outputs": [
    {
     "data": {
      "text/html": [
       "<div>\n",
       "<style scoped>\n",
       "    .dataframe tbody tr th:only-of-type {\n",
       "        vertical-align: middle;\n",
       "    }\n",
       "\n",
       "    .dataframe tbody tr th {\n",
       "        vertical-align: top;\n",
       "    }\n",
       "\n",
       "    .dataframe thead th {\n",
       "        text-align: right;\n",
       "    }\n",
       "</style>\n",
       "<table border=\"1\" class=\"dataframe\">\n",
       "  <thead>\n",
       "    <tr style=\"text-align: right;\">\n",
       "      <th></th>\n",
       "      <th>Latitude</th>\n",
       "    </tr>\n",
       "  </thead>\n",
       "  <tbody>\n",
       "    <tr>\n",
       "      <th>0</th>\n",
       "      <td>-46.5878189,-23.5255132,0</td>\n",
       "    </tr>\n",
       "    <tr>\n",
       "      <th>1</th>\n",
       "      <td>-46.5874814,-23.5250834,0</td>\n",
       "    </tr>\n",
       "    <tr>\n",
       "      <th>2</th>\n",
       "      <td>-46.5872953,-23.5248451,0</td>\n",
       "    </tr>\n",
       "    <tr>\n",
       "      <th>3</th>\n",
       "      <td>-46.5869829,-23.5244533,0</td>\n",
       "    </tr>\n",
       "    <tr>\n",
       "      <th>4</th>\n",
       "      <td>-46.58667470000001,-23.524057,0</td>\n",
       "    </tr>\n",
       "    <tr>\n",
       "      <th>...</th>\n",
       "      <td>...</td>\n",
       "    </tr>\n",
       "    <tr>\n",
       "      <th>9061</th>\n",
       "      <td>-43.3235317,-22.8168546,0</td>\n",
       "    </tr>\n",
       "    <tr>\n",
       "      <th>9062</th>\n",
       "      <td>-43.3233963,-22.8169287,0</td>\n",
       "    </tr>\n",
       "    <tr>\n",
       "      <th>9063</th>\n",
       "      <td>-43.3232269,-22.8170228,0</td>\n",
       "    </tr>\n",
       "    <tr>\n",
       "      <th>9064</th>\n",
       "      <td>-43.3231048,-22.8170881,0</td>\n",
       "    </tr>\n",
       "    <tr>\n",
       "      <th>9065</th>\n",
       "      <td>-43.3229891,-22.817153,0</td>\n",
       "    </tr>\n",
       "  </tbody>\n",
       "</table>\n",
       "<p>9066 rows × 1 columns</p>\n",
       "</div>"
      ],
      "text/plain": [
       "                             Latitude\n",
       "0           -46.5878189,-23.5255132,0\n",
       "1           -46.5874814,-23.5250834,0\n",
       "2           -46.5872953,-23.5248451,0\n",
       "3           -46.5869829,-23.5244533,0\n",
       "4     -46.58667470000001,-23.524057,0\n",
       "...                               ...\n",
       "9061        -43.3235317,-22.8168546,0\n",
       "9062        -43.3233963,-22.8169287,0\n",
       "9063        -43.3232269,-22.8170228,0\n",
       "9064        -43.3231048,-22.8170881,0\n",
       "9065         -43.3229891,-22.817153,0\n",
       "\n",
       "[9066 rows x 1 columns]"
      ]
     },
     "execution_count": 9,
     "metadata": {},
     "output_type": "execute_result"
    }
   ],
   "source": [
    "coord_vertical.reset_index(drop=True, inplace=True)\n",
    "coord_vertical"
   ]
  },
  {
   "cell_type": "markdown",
   "metadata": {},
   "source": [
    "* Dividing rows with comma to 2 columns"
   ]
  },
  {
   "cell_type": "code",
   "execution_count": 10,
   "metadata": {},
   "outputs": [
    {
     "name": "stderr",
     "output_type": "stream",
     "text": [
      "<ipython-input-10-670857a71b2a>:1: FutureWarning: Columnar iteration over characters will be deprecated in future releases.\n",
      "  coord_vertical['Longitude'], coord_vertical['Latitude'], coord_vertical['unused'] = coord_vertical['Latitude'].str.split(',', 3).str\n"
     ]
    }
   ],
   "source": [
    "coord_vertical['Longitude'], coord_vertical['Latitude'], coord_vertical['unused'] = coord_vertical['Latitude'].str.split(',', 3).str"
   ]
  },
  {
   "cell_type": "code",
   "execution_count": 11,
   "metadata": {},
   "outputs": [
    {
     "data": {
      "text/html": [
       "<div>\n",
       "<style scoped>\n",
       "    .dataframe tbody tr th:only-of-type {\n",
       "        vertical-align: middle;\n",
       "    }\n",
       "\n",
       "    .dataframe tbody tr th {\n",
       "        vertical-align: top;\n",
       "    }\n",
       "\n",
       "    .dataframe thead th {\n",
       "        text-align: right;\n",
       "    }\n",
       "</style>\n",
       "<table border=\"1\" class=\"dataframe\">\n",
       "  <thead>\n",
       "    <tr style=\"text-align: right;\">\n",
       "      <th></th>\n",
       "      <th>Latitude</th>\n",
       "      <th>Longitude</th>\n",
       "    </tr>\n",
       "  </thead>\n",
       "  <tbody>\n",
       "    <tr>\n",
       "      <th>0</th>\n",
       "      <td>-23.5255132</td>\n",
       "      <td>-46.5878189</td>\n",
       "    </tr>\n",
       "    <tr>\n",
       "      <th>1</th>\n",
       "      <td>-23.5250834</td>\n",
       "      <td>-46.5874814</td>\n",
       "    </tr>\n",
       "    <tr>\n",
       "      <th>2</th>\n",
       "      <td>-23.5248451</td>\n",
       "      <td>-46.5872953</td>\n",
       "    </tr>\n",
       "    <tr>\n",
       "      <th>3</th>\n",
       "      <td>-23.5244533</td>\n",
       "      <td>-46.5869829</td>\n",
       "    </tr>\n",
       "    <tr>\n",
       "      <th>4</th>\n",
       "      <td>-23.524057</td>\n",
       "      <td>-46.58667470000001</td>\n",
       "    </tr>\n",
       "    <tr>\n",
       "      <th>...</th>\n",
       "      <td>...</td>\n",
       "      <td>...</td>\n",
       "    </tr>\n",
       "    <tr>\n",
       "      <th>9061</th>\n",
       "      <td>-22.8168546</td>\n",
       "      <td>-43.3235317</td>\n",
       "    </tr>\n",
       "    <tr>\n",
       "      <th>9062</th>\n",
       "      <td>-22.8169287</td>\n",
       "      <td>-43.3233963</td>\n",
       "    </tr>\n",
       "    <tr>\n",
       "      <th>9063</th>\n",
       "      <td>-22.8170228</td>\n",
       "      <td>-43.3232269</td>\n",
       "    </tr>\n",
       "    <tr>\n",
       "      <th>9064</th>\n",
       "      <td>-22.8170881</td>\n",
       "      <td>-43.3231048</td>\n",
       "    </tr>\n",
       "    <tr>\n",
       "      <th>9065</th>\n",
       "      <td>-22.817153</td>\n",
       "      <td>-43.3229891</td>\n",
       "    </tr>\n",
       "  </tbody>\n",
       "</table>\n",
       "<p>9066 rows × 2 columns</p>\n",
       "</div>"
      ],
      "text/plain": [
       "         Latitude           Longitude\n",
       "0     -23.5255132         -46.5878189\n",
       "1     -23.5250834         -46.5874814\n",
       "2     -23.5248451         -46.5872953\n",
       "3     -23.5244533         -46.5869829\n",
       "4      -23.524057  -46.58667470000001\n",
       "...           ...                 ...\n",
       "9061  -22.8168546         -43.3235317\n",
       "9062  -22.8169287         -43.3233963\n",
       "9063  -22.8170228         -43.3232269\n",
       "9064  -22.8170881         -43.3231048\n",
       "9065   -22.817153         -43.3229891\n",
       "\n",
       "[9066 rows x 2 columns]"
      ]
     },
     "execution_count": 11,
     "metadata": {},
     "output_type": "execute_result"
    }
   ],
   "source": [
    "coord_vertical = coord_vertical.drop(['unused'], axis=1)\n",
    "coord_vertical"
   ]
  },
  {
   "cell_type": "markdown",
   "metadata": {},
   "source": [
    "***\n",
    "\n",
    "* Save CSV"
   ]
  },
  {
   "cell_type": "code",
   "execution_count": 14,
   "metadata": {},
   "outputs": [
    {
     "data": {
      "text/html": [
       "<div>\n",
       "<style scoped>\n",
       "    .dataframe tbody tr th:only-of-type {\n",
       "        vertical-align: middle;\n",
       "    }\n",
       "\n",
       "    .dataframe tbody tr th {\n",
       "        vertical-align: top;\n",
       "    }\n",
       "\n",
       "    .dataframe thead th {\n",
       "        text-align: right;\n",
       "    }\n",
       "</style>\n",
       "<table border=\"1\" class=\"dataframe\">\n",
       "  <thead>\n",
       "    <tr style=\"text-align: right;\">\n",
       "      <th></th>\n",
       "      <th>Latitude</th>\n",
       "      <th>Longitude</th>\n",
       "    </tr>\n",
       "  </thead>\n",
       "  <tbody>\n",
       "    <tr>\n",
       "      <th>0</th>\n",
       "      <td>-23.5255132</td>\n",
       "      <td>-46.5878189</td>\n",
       "    </tr>\n",
       "    <tr>\n",
       "      <th>1</th>\n",
       "      <td>-23.5250834</td>\n",
       "      <td>-46.5874814</td>\n",
       "    </tr>\n",
       "    <tr>\n",
       "      <th>2</th>\n",
       "      <td>-23.5248451</td>\n",
       "      <td>-46.5872953</td>\n",
       "    </tr>\n",
       "    <tr>\n",
       "      <th>3</th>\n",
       "      <td>-23.5244533</td>\n",
       "      <td>-46.5869829</td>\n",
       "    </tr>\n",
       "    <tr>\n",
       "      <th>4</th>\n",
       "      <td>-23.524057</td>\n",
       "      <td>-46.58667470000001</td>\n",
       "    </tr>\n",
       "    <tr>\n",
       "      <th>...</th>\n",
       "      <td>...</td>\n",
       "      <td>...</td>\n",
       "    </tr>\n",
       "    <tr>\n",
       "      <th>9061</th>\n",
       "      <td>-22.8168546</td>\n",
       "      <td>-43.3235317</td>\n",
       "    </tr>\n",
       "    <tr>\n",
       "      <th>9062</th>\n",
       "      <td>-22.8169287</td>\n",
       "      <td>-43.3233963</td>\n",
       "    </tr>\n",
       "    <tr>\n",
       "      <th>9063</th>\n",
       "      <td>-22.8170228</td>\n",
       "      <td>-43.3232269</td>\n",
       "    </tr>\n",
       "    <tr>\n",
       "      <th>9064</th>\n",
       "      <td>-22.8170881</td>\n",
       "      <td>-43.3231048</td>\n",
       "    </tr>\n",
       "    <tr>\n",
       "      <th>9065</th>\n",
       "      <td>-22.817153</td>\n",
       "      <td>-43.3229891</td>\n",
       "    </tr>\n",
       "  </tbody>\n",
       "</table>\n",
       "<p>9066 rows × 2 columns</p>\n",
       "</div>"
      ],
      "text/plain": [
       "         Latitude           Longitude\n",
       "0     -23.5255132         -46.5878189\n",
       "1     -23.5250834         -46.5874814\n",
       "2     -23.5248451         -46.5872953\n",
       "3     -23.5244533         -46.5869829\n",
       "4      -23.524057  -46.58667470000001\n",
       "...           ...                 ...\n",
       "9061  -22.8168546         -43.3235317\n",
       "9062  -22.8169287         -43.3233963\n",
       "9063  -22.8170228         -43.3232269\n",
       "9064  -22.8170881         -43.3231048\n",
       "9065   -22.817153         -43.3229891\n",
       "\n",
       "[9066 rows x 2 columns]"
      ]
     },
     "execution_count": 14,
     "metadata": {},
     "output_type": "execute_result"
    }
   ],
   "source": [
    "df_coord_vertical = pd.DataFrame({\n",
    "                                  'Latitude'  : coord_vertical['Latitude'],\n",
    "                                  'Longitude' : coord_vertical['Longitude'],\n",
    "                                 })\n",
    "df_coord_vertical.to_csv('../inputs/coordenadas/' + rodovia + '/' + rodovia + '_coord.csv', index=False)\n",
    "df_coord_vertical"
   ]
  },
  {
   "cell_type": "code",
   "execution_count": null,
   "metadata": {},
   "outputs": [],
   "source": []
  }
 ],
 "metadata": {
  "kernelspec": {
   "display_name": "Python 3",
   "language": "python",
   "name": "python3"
  },
  "language_info": {
   "codemirror_mode": {
    "name": "ipython",
    "version": 3
   },
   "file_extension": ".py",
   "mimetype": "text/x-python",
   "name": "python",
   "nbconvert_exporter": "python",
   "pygments_lexer": "ipython3",
   "version": "3.8.2"
  }
 },
 "nbformat": 4,
 "nbformat_minor": 4
}
