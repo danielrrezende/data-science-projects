{
 "cells": [
  {
   "cell_type": "code",
   "execution_count": 1,
   "metadata": {},
   "outputs": [
    {
     "name": "stderr",
     "output_type": "stream",
     "text": [
      "Using TensorFlow backend.\n"
     ]
    },
    {
     "name": "stdout",
     "output_type": "stream",
     "text": [
      "LOCAL DE DATABASES\n",
      "\n",
      "D:\\Meus documentos\\Trabalhos\\python\\exercicios\\exemplaria\\turma-2019-1\\data\\raw\n",
      "\n",
      "LISTA DE DATABASES \n",
      "\n",
      " -amostra_benchmark_20170930.csv\n",
      " -anatel_exemplaria.csv\n",
      " -anatel_utf8.csv\n",
      " -benchmark_20170930_exemplaria.csv\n",
      " -benchmark_20171105_exemplaria.csv\n",
      " -cliente_cobranca_multas_fidelizacao_201709_201801_encrypted.csv\n",
      " -cliente_ebill_201709_201801_encrypted.csv\n",
      " -consumidor_gov_exemplaria.csv\n",
      " -count_plot.png\n",
      " -jec_exemplaria.csv\n",
      " -nextel_test.csv\n",
      " -premissas_base_fidelizados_201709_201801_encrypted.csv\n",
      " -PREMISSAS_BASE_FRANQUIA_20170701_20181231.csv\n",
      " -PREMISSAS_BASE_REDE_VIVO_20170901_20171231.csv\n",
      " -premissas_customer_exemplaria.csv\n",
      " -procon_exemplaria.csv\n",
      " -procon_exemplaria_v2.csv\n",
      " -ricardo_jec_processo_v2_csv_encrypted.csv\n",
      " -sample.csv\n"
     ]
    }
   ],
   "source": [
    "import numpy as np # linear algebra\n",
    "import pandas as pd # data processing, CSV file I/O (e.g. pd.read_csv)\n",
    "import matplotlib.pyplot as plt\n",
    "\n",
    "from collections import Counter\n",
    "\n",
    "# sklearn #from sklearn import metrics\n",
    "from sklearn.model_selection import train_test_split, ParameterGrid, cross_val_score, learning_curve, ShuffleSplit\n",
    "from sklearn.metrics import average_precision_score, mean_absolute_error, roc_curve, auc, roc_auc_score\n",
    "from sklearn.metrics import classification_report, confusion_matrix, precision_recall_curve\n",
    "\n",
    "import seaborn as sns\n",
    "\n",
    "# inspect\n",
    "from inspect import signature\n",
    "\n",
    "# internal modules\n",
    "from functions.filter_complainers import filter_complainers\n",
    "from functions.read_data import benchmark_reader\n",
    "from functions.features import define_features, edit_features\n",
    "from functions.check_nan import just_check_nan, fix_nan\n",
    "from functions.target import y_target\n",
    "from functions.var_type import var_cat, var_num, cat_less_three, cat_more_three\n",
    "from functions.pipeline import f_pipeline\n",
    "from functions.grid_search import grid_search\n",
    "from functions.plot_learning_curve import plot_learning_curve, plot_learned\n",
    "from functions.model import tunning\n",
    "from functions.feature_select import recursive_feature_elimination, select_from_model\n",
    "from functions.metrics import conf_matrix, aucur, precision_recall_curve, roc_curves\n",
    "\n",
    "from scikitplot.metrics import plot_confusion_matrix, plot_roc\n",
    "from scikitplot.estimators import plot_feature_importances\n",
    "\n",
    "import warnings\n",
    "warnings.filterwarnings(\"ignore\", category=FutureWarning)\n",
    "\n",
    "import os\n",
    "\n",
    "os.chdir('D:/Meus documentos/Trabalhos/python/exercicios/exemplaria/turma-2019-1/data/raw/')\n",
    "print('LOCAL DE DATABASES')\n",
    "print()\n",
    "print(os.getcwd())\n",
    "print()\n",
    "print('LISTA DE DATABASES \\n\\n -', end ='')\n",
    "print(*os.listdir(), sep = '\\n -')"
   ]
  },
  {
   "cell_type": "markdown",
   "metadata": {},
   "source": [
    "***\n",
    "# 1) Filtrar os usuários reclamantes por cpf e cnpj\n",
    "\n",
    "\n",
    "- **Extração de dados das planilhas**"
   ]
  },
  {
   "cell_type": "code",
   "execution_count": 2,
   "metadata": {},
   "outputs": [],
   "source": [
    "# path\n",
    "jec_exemplaria = 'jec_exemplaria.csv'\n",
    "anatel_exemplaria = 'anatel_utf8.csv'\n",
    "consumidor_gov_exemplaria = 'consumidor_gov_exemplaria.csv'\n",
    "procon_exemplaria = 'procon_exemplaria_v2.csv'\n",
    "\n",
    "benchmark = 'benchmark_20171105_exemplaria.csv'\n",
    "benchmark2 = 'benchmark_20170930_exemplaria.csv'"
   ]
  },
  {
   "cell_type": "markdown",
   "metadata": {},
   "source": [
    "* **Reunião dos databases**"
   ]
  },
  {
   "cell_type": "code",
   "execution_count": 3,
   "metadata": {},
   "outputs": [],
   "source": [
    "df_complainers = filter_complainers(jec_exemplaria, \n",
    "                                    anatel_exemplaria, \n",
    "                                    consumidor_gov_exemplaria, \n",
    "                                    procon_exemplaria)                # filter_complainers"
   ]
  },
  {
   "cell_type": "markdown",
   "metadata": {},
   "source": [
    "***\n",
    "# 2) Linkar os databases com o benchmark com as features"
   ]
  },
  {
   "cell_type": "markdown",
   "metadata": {},
   "source": [
    "* **Amostra de dados da base benchmark usando benchmark_reader function**"
   ]
  },
  {
   "cell_type": "code",
   "execution_count": 4,
   "metadata": {},
   "outputs": [],
   "source": [
    "#Da base de 126303 clientes, 1371 deles são reclamantes, ou seja, 1.0855%\n",
    "#clients = benchmark_reader([benchmark])  # read_data.py\n",
    "\n",
    "# Da base de 250513 clientes, 2723 deles são reclamantes, ou seja, 1.0870%\n",
    "#clients = benchmark_reader([benchmark, benchmark2])  # read_data.py\n",
    "#clients"
   ]
  },
  {
   "cell_type": "markdown",
   "metadata": {},
   "source": [
    "* **Salvar no arquivo checkpoint #1**"
   ]
  },
  {
   "cell_type": "code",
   "execution_count": 5,
   "metadata": {},
   "outputs": [
    {
     "name": "stdout",
     "output_type": "stream",
     "text": [
      "Saved file: ../intermediate/sample.csv\n"
     ]
    }
   ],
   "source": [
    "# save in the file\n",
    "filename = '../intermediate/sample.csv'\n",
    "#clients.to_csv(filename, index=False)\n",
    "print('Saved file: ' + filename)"
   ]
  },
  {
   "cell_type": "markdown",
   "metadata": {},
   "source": [
    "* **Carregar arquivo**"
   ]
  },
  {
   "cell_type": "code",
   "execution_count": 6,
   "metadata": {},
   "outputs": [],
   "source": [
    "# reading file\n",
    "clients_sample = pd.read_csv(filename, low_memory=False)"
   ]
  },
  {
   "cell_type": "markdown",
   "metadata": {},
   "source": [
    "* **Definir as features usando define_features function**\n",
    "\n",
    "\n",
    "https://docs.google.com/spreadsheets/d/1BFJUHenj_vQC8yS_Vhzoj9hkORohLEPJ/edit#gid=768356393"
   ]
  },
  {
   "cell_type": "code",
   "execution_count": 7,
   "metadata": {},
   "outputs": [],
   "source": [
    "clients_sample = define_features(clients_sample) # features.py"
   ]
  },
  {
   "cell_type": "markdown",
   "metadata": {},
   "source": [
    "* **Checar dados com Nan usando just_check_nan function**"
   ]
  },
  {
   "cell_type": "code",
   "execution_count": 8,
   "metadata": {},
   "outputs": [
    {
     "name": "stdout",
     "output_type": "stream",
     "text": [
      "Dados com NaN:\n",
      "Series([], dtype: int64)\n",
      "\n",
      "columns_with_nan.shape (0,)\n",
      "\n"
     ]
    }
   ],
   "source": [
    "just_check_nan(clients_sample) # check_nan.py"
   ]
  },
  {
   "cell_type": "markdown",
   "metadata": {},
   "source": [
    "***\n",
    "# 3) Corrigir dados faltantes NaN com fix_nan function\n",
    "\n",
    "Para trabalhar com valores nulos usar o isna, muito util para determinar quantidade de NaN, e fillna para preencher valores faltantes"
   ]
  },
  {
   "cell_type": "code",
   "execution_count": 9,
   "metadata": {},
   "outputs": [],
   "source": [
    "#clients_sample = fix_nan(clients_sample) # check_nan.py"
   ]
  },
  {
   "cell_type": "markdown",
   "metadata": {},
   "source": [
    "* **Salvar no arquivo checkpoint #2**"
   ]
  },
  {
   "cell_type": "code",
   "execution_count": 10,
   "metadata": {},
   "outputs": [
    {
     "name": "stdout",
     "output_type": "stream",
     "text": [
      "Saved file: ../intermediate/sample_without_nan.csv\n"
     ]
    }
   ],
   "source": [
    "# save in the file\n",
    "filename_without_nan = '../intermediate/sample_without_nan.csv'\n",
    "#clients_sample.to_csv(filename_without_nan, index=False)\n",
    "print('Saved file: ' + filename_without_nan)"
   ]
  },
  {
   "cell_type": "markdown",
   "metadata": {},
   "source": [
    "* **Carregar arquivo**"
   ]
  },
  {
   "cell_type": "code",
   "execution_count": 11,
   "metadata": {},
   "outputs": [],
   "source": [
    "# reading file\n",
    "clients_sample = pd.read_csv(filename_without_nan, low_memory=False)"
   ]
  },
  {
   "cell_type": "code",
   "execution_count": 12,
   "metadata": {},
   "outputs": [
    {
     "name": "stdout",
     "output_type": "stream",
     "text": [
      "Dados com NaN:\n",
      "Series([], dtype: int64)\n",
      "\n",
      "columns_with_nan.shape (0,)\n",
      "\n"
     ]
    }
   ],
   "source": [
    "just_check_nan(clients_sample) # check_nan.py"
   ]
  },
  {
   "cell_type": "markdown",
   "metadata": {},
   "source": [
    "***\n",
    "# 4) Definição de target e features\n",
    "\n",
    "https://towardsdatascience.com/building-a-logistic-regression-in-python-step-by-step-becd4d56c9c8"
   ]
  },
  {
   "cell_type": "markdown",
   "metadata": {},
   "source": [
    "* **Target y function**"
   ]
  },
  {
   "cell_type": "code",
   "execution_count": 13,
   "metadata": {},
   "outputs": [],
   "source": [
    "#y = y_target(clients_sample, df_complainers)  # target.py"
   ]
  },
  {
   "cell_type": "markdown",
   "metadata": {},
   "source": [
    "* **Salvar no arquivo checkpoint #3**"
   ]
  },
  {
   "cell_type": "code",
   "execution_count": 14,
   "metadata": {},
   "outputs": [
    {
     "name": "stdout",
     "output_type": "stream",
     "text": [
      "Saved file: ../intermediate/target.csv\n"
     ]
    }
   ],
   "source": [
    "# save in the file\n",
    "target = '../intermediate/target.csv'\n",
    "#np.savetxt(target, y, delimiter=\",\", fmt='%s')\n",
    "print('Saved file: ' + target)"
   ]
  },
  {
   "cell_type": "markdown",
   "metadata": {},
   "source": [
    "* **Carregar arquivo**"
   ]
  },
  {
   "cell_type": "code",
   "execution_count": 15,
   "metadata": {},
   "outputs": [
    {
     "name": "stdout",
     "output_type": "stream",
     "text": [
      "Da base de 126303 clientes, 1371 deles são reclamantes, ou seja, 1.0855%\n"
     ]
    }
   ],
   "source": [
    "# reading file Da base de 126303 clientes, 1371 deles são reclamantes, ou seja, 1.0855%\n",
    "y = np.loadtxt(target, dtype=int).tolist()\n",
    "\n",
    "print('Da base de ' + str(len(clients_sample)) + ' clientes, ' + str(Counter(y)[1]) + \n",
    "      ' deles são reclamantes, ou seja, %.4f' %float((Counter(y)[1]/len(clients_sample))*100) + '%')"
   ]
  },
  {
   "cell_type": "code",
   "execution_count": 16,
   "metadata": {},
   "outputs": [
    {
     "data": {
      "text/plain": [
       "Counter({0: 124932, 1: 1371})"
      ]
     },
     "execution_count": 16,
     "metadata": {},
     "output_type": "execute_result"
    }
   ],
   "source": [
    "Counter(y)"
   ]
  },
  {
   "cell_type": "code",
   "execution_count": 17,
   "metadata": {},
   "outputs": [
    {
     "data": {
      "image/png": "[encoded data removed]",
      "text/plain": [
       "<Figure size 432x288 with 1 Axes>"
      ]
     },
     "metadata": {
      "needs_background": "light"
     },
     "output_type": "display_data"
    },
    {
     "data": {
      "text/plain": [
       "<Figure size 432x288 with 0 Axes>"
      ]
     },
     "metadata": {},
     "output_type": "display_data"
    }
   ],
   "source": [
    "sns.countplot(x=y, data=clients_sample)\n",
    "plt.show()\n",
    "plt.savefig('count_plot')"
   ]
  },
  {
   "cell_type": "markdown",
   "metadata": {},
   "source": [
    "* **Features X**"
   ]
  },
  {
   "cell_type": "code",
   "execution_count": 18,
   "metadata": {
    "scrolled": true
   },
   "outputs": [],
   "source": [
    "X = clients_sample.drop(['cssocialsecno_encrypted'], axis=1)"
   ]
  },
  {
   "cell_type": "code",
   "execution_count": 19,
   "metadata": {},
   "outputs": [
    {
     "data": {
      "text/html": [
       "<div>\n",
       "<style scoped>\n",
       "    .dataframe tbody tr th:only-of-type {\n",
       "        vertical-align: middle;\n",
       "    }\n",
       "\n",
       "    .dataframe tbody tr th {\n",
       "        vertical-align: top;\n",
       "    }\n",
       "\n",
       "    .dataframe thead th {\n",
       "        text-align: right;\n",
       "    }\n",
       "</style>\n",
       "<table border=\"1\" class=\"dataframe\">\n",
       "  <thead>\n",
       "    <tr style=\"text-align: right;\">\n",
       "      <th></th>\n",
       "      <th>customer_tenure</th>\n",
       "      <th>port_in_flag</th>\n",
       "      <th>rate_plan_code</th>\n",
       "      <th>rateplan_fee</th>\n",
       "      <th>rateplan_discount_fee</th>\n",
       "      <th>rateplan_discount_qty</th>\n",
       "      <th>services_fee</th>\n",
       "      <th>services_discount_fee</th>\n",
       "      <th>services_discount_qty</th>\n",
       "      <th>m0_qt_involuntary_suspension</th>\n",
       "      <th>m0_qt_voluntary_suspension</th>\n",
       "      <th>nxt_3g_traffic_volume_m0</th>\n",
       "      <th>nxt_4g_traffic_volume_m0</th>\n",
       "      <th>vivo_traffic_volume_m0</th>\n",
       "      <th>m0_call_term_err</th>\n",
       "      <th>prop_legal_complaint_ticket_m0</th>\n",
       "      <th>billing_ticket_m0</th>\n",
       "      <th>contract_loyalty_flag</th>\n",
       "    </tr>\n",
       "  </thead>\n",
       "  <tbody>\n",
       "    <tr>\n",
       "      <td>0</td>\n",
       "      <td>45.258385</td>\n",
       "      <td>0.240147</td>\n",
       "      <td>2261.642662</td>\n",
       "      <td>106.729041</td>\n",
       "      <td>32.980230</td>\n",
       "      <td>7.255435</td>\n",
       "      <td>17.550722</td>\n",
       "      <td>15.236981</td>\n",
       "      <td>4.723249</td>\n",
       "      <td>0.014520</td>\n",
       "      <td>0.000208</td>\n",
       "      <td>1.842274e+09</td>\n",
       "      <td>8.212733e+08</td>\n",
       "      <td>8.460852e+07</td>\n",
       "      <td>276.618472</td>\n",
       "      <td>0.000088</td>\n",
       "      <td>0.036860</td>\n",
       "      <td>0.588256</td>\n",
       "    </tr>\n",
       "    <tr>\n",
       "      <td>1</td>\n",
       "      <td>59.726780</td>\n",
       "      <td>0.213713</td>\n",
       "      <td>2276.082422</td>\n",
       "      <td>98.483027</td>\n",
       "      <td>31.670686</td>\n",
       "      <td>7.896426</td>\n",
       "      <td>19.507644</td>\n",
       "      <td>15.185828</td>\n",
       "      <td>4.419402</td>\n",
       "      <td>0.021152</td>\n",
       "      <td>0.001459</td>\n",
       "      <td>1.579244e+09</td>\n",
       "      <td>7.491833e+08</td>\n",
       "      <td>7.998123e+07</td>\n",
       "      <td>264.803063</td>\n",
       "      <td>0.017505</td>\n",
       "      <td>0.364697</td>\n",
       "      <td>0.571845</td>\n",
       "    </tr>\n",
       "  </tbody>\n",
       "</table>\n",
       "</div>"
      ],
      "text/plain": [
       "   customer_tenure  port_in_flag  rate_plan_code  rateplan_fee  \\\n",
       "0        45.258385      0.240147     2261.642662    106.729041   \n",
       "1        59.726780      0.213713     2276.082422     98.483027   \n",
       "\n",
       "   rateplan_discount_fee  rateplan_discount_qty  services_fee  \\\n",
       "0              32.980230               7.255435     17.550722   \n",
       "1              31.670686               7.896426     19.507644   \n",
       "\n",
       "   services_discount_fee  services_discount_qty  m0_qt_involuntary_suspension  \\\n",
       "0              15.236981               4.723249                      0.014520   \n",
       "1              15.185828               4.419402                      0.021152   \n",
       "\n",
       "   m0_qt_voluntary_suspension  nxt_3g_traffic_volume_m0  \\\n",
       "0                    0.000208              1.842274e+09   \n",
       "1                    0.001459              1.579244e+09   \n",
       "\n",
       "   nxt_4g_traffic_volume_m0  vivo_traffic_volume_m0  m0_call_term_err  \\\n",
       "0              8.212733e+08            8.460852e+07        276.618472   \n",
       "1              7.491833e+08            7.998123e+07        264.803063   \n",
       "\n",
       "   prop_legal_complaint_ticket_m0  billing_ticket_m0  contract_loyalty_flag  \n",
       "0                        0.000088           0.036860               0.588256  \n",
       "1                        0.017505           0.364697               0.571845  "
      ]
     },
     "execution_count": 19,
     "metadata": {},
     "output_type": "execute_result"
    }
   ],
   "source": [
    "X.groupby(y).mean()"
   ]
  },
  {
   "cell_type": "markdown",
   "metadata": {},
   "source": [
    "# 5) Variaveis categóricas - montar por categorias"
   ]
  },
  {
   "cell_type": "markdown",
   "metadata": {},
   "source": [
    "* **Criando uma lista de variaveis categoricas**"
   ]
  },
  {
   "cell_type": "code",
   "execution_count": 20,
   "metadata": {},
   "outputs": [
    {
     "name": "stdout",
     "output_type": "stream",
     "text": [
      "Categorical variables:  6\n"
     ]
    }
   ],
   "source": [
    "object_cols = var_cat(X) # var_type.py"
   ]
  },
  {
   "cell_type": "markdown",
   "metadata": {},
   "source": [
    "* Descrição das variáveis categoricas com no **máximo** 3 colunas. Nestas serão feitos one hot encoder diretamente"
   ]
  },
  {
   "cell_type": "code",
   "execution_count": 21,
   "metadata": {},
   "outputs": [
    {
     "name": "stdout",
     "output_type": "stream",
     "text": [
      "Name:  person_type\n",
      "Possui 2 categorias\n",
      "['PF' 'PJ']\n",
      "\n",
      "Name:  payment_method\n",
      "Possui 2 categorias\n",
      "['Boleto' 'Debito Automatico']\n",
      "\n",
      "Name:  inar_rate_plan\n",
      "Possui 2 categorias\n",
      "['Y' 'N']\n",
      "\n",
      "Name:  contract_status\n",
      "Possui 2 categorias\n",
      "['a' 's']\n",
      "\n"
     ]
    }
   ],
   "source": [
    "cat_less_three(object_cols, X) # var_type.py"
   ]
  },
  {
   "cell_type": "markdown",
   "metadata": {},
   "source": [
    "* Descrição das variáveis categoricas **acima** de 3 colunas. Nestas serão feitos uma reunião de categorias."
   ]
  },
  {
   "cell_type": "code",
   "execution_count": 22,
   "metadata": {},
   "outputs": [
    {
     "name": "stdout",
     "output_type": "stream",
     "text": [
      "Name:  contract_status_reason\n",
      "Possui 29 categorias\n",
      "['ativando' 'reativando' 'IN-Suspensão Parcial' 'Aparelho Localizado'\n",
      " 'TAKEOVER' 'IN-Não Pagamento ' 'VO-Suspensao Roubo/Furto'\n",
      " 'IN-Reativação 15 dias' 'VO-Suspensao Perda' 'VO-Suspensao 120 dias'\n",
      " 'VO-Suspensão 30 dias' 'VO-Processando Cancelamento'\n",
      " 'VO-Problemas financeiros/estrutural ' 'VO-Suspensao 90 dias'\n",
      " 'FC-Regularização de Usuario' 'IN-Reativação 15 dias A'\n",
      " 'FC-Fulfil/Trans Comodato/Locação ' 'Reativação Port-in' 'IN-Fraude '\n",
      " 'Targys aguardando' 'VO-Suspensão Parcial Sem Cobrança'\n",
      " 'VO-Falta orientação sobre serv/prod ' 'VO-Suspensao 60 dias'\n",
      " 'Suspensao Port-in' 'RV-Devolução entrega/Recusa entrega '\n",
      " 'VO-Planos de Serv/Prod da concor ' 'Should not display'\n",
      " 'IN-Suspensão para Regularização' 'VO-Neces. novas áreas de cobertura ']\n",
      "\n",
      "Name:  device_type_m0\n",
      "Possui 11 categorias\n",
      "['Smartphone' 'Handheld' 'Other' 'Portable(include PDA)' 'Tablet'\n",
      " 'Mobile Phone/Feature phone' 'WLAN Router' 'Dongle' 'Modem' 'Vehicle'\n",
      " 'Module']\n",
      "\n"
     ]
    }
   ],
   "source": [
    "cat_more_three(object_cols, X) # var_type.py"
   ]
  },
  {
   "cell_type": "markdown",
   "metadata": {},
   "source": [
    "* Filtrando as 31 categorias de 'contract_status_reason' em 3 no total.\n",
    "* Substituição das 31 categorias em 3 no total."
   ]
  },
  {
   "cell_type": "code",
   "execution_count": 23,
   "metadata": {},
   "outputs": [],
   "source": [
    "edit_features(X) # features.py"
   ]
  },
  {
   "cell_type": "markdown",
   "metadata": {},
   "source": [
    "* Nova checagem"
   ]
  },
  {
   "cell_type": "code",
   "execution_count": 24,
   "metadata": {},
   "outputs": [
    {
     "name": "stdout",
     "output_type": "stream",
     "text": [
      "Name:  device_type_m0\n",
      "Possui 11 categorias\n",
      "['Smartphone' 'Handheld' 'Other' 'Portable(include PDA)' 'Tablet'\n",
      " 'Mobile Phone/Feature phone' 'WLAN Router' 'Dongle' 'Modem' 'Vehicle'\n",
      " 'Module']\n",
      "\n"
     ]
    }
   ],
   "source": [
    "cat_more_three(object_cols, X) # var_type.py"
   ]
  },
  {
   "cell_type": "markdown",
   "metadata": {},
   "source": [
    "# temp"
   ]
  },
  {
   "cell_type": "raw",
   "metadata": {},
   "source": [
    "for objects in object_cols:\n",
    "        if X[objects].describe()[1]:\n",
    "            print('Name: ', objects)\n",
    "            print('Possui ' + str(X[objects].describe()[1]) + ' categorias')\n",
    "            print(X[objects].unique()) #criar lista de categorias\n",
    "            print()"
   ]
  },
  {
   "cell_type": "raw",
   "metadata": {},
   "source": [
    "X = clients_sample.drop(['cssocialsecno_encrypted',\n",
    "                         'person_type',\n",
    "                         'payment_method',\n",
    "                         'inar_rate_plan',\n",
    "                         'contract_status',\n",
    "                         'contract_status_reason',\n",
    "                         'device_type_m0'\n",
    "#                          'device_type_m1',\n",
    "#                          'device_type_m2',\n",
    "#                          'device_type_m3',\n",
    "#                          'device_type_m4',\n",
    "#                          'device_type_m5',\n",
    "                         ], axis=1)"
   ]
  },
  {
   "cell_type": "raw",
   "metadata": {},
   "source": [
    "X = clients_sample.drop([\n",
    "                         'cssocialsecno_encrypted',\n",
    "                         'customer_tenure',\n",
    "                         'port_in_flag',\n",
    "                         'rate_plan_code',\n",
    "                         'rateplan_fee',\n",
    "                         'rateplan_discount_fee',\n",
    "                         'rateplan_discount_qty',\n",
    "                         'services_fee',\n",
    "                         'services_discount_fee',\n",
    "                         'services_discount_qty',\n",
    "                         'm0_qt_involuntary_suspension',\n",
    "                         'm0_qt_voluntary_suspension',\n",
    "                         'nxt_3g_traffic_volume_m0',\n",
    "                         'nxt_4g_traffic_volume_m0',\n",
    "                         'vivo_traffic_volume_m0',\n",
    "                         'm0_call_term_err',\n",
    "                         'prop_legal_complaint_ticket_m0',\n",
    "                         'billing_ticket_m0',\n",
    "                         'contract_loyalty_flag',\n",
    "                         'person_type',\n",
    "                         'payment_method',\n",
    "                         'inar_rate_plan',\n",
    "                         'contract_status',\n",
    "                         'contract_status_reason',\n",
    "                         'device_type_m0'\n",
    "                         ], axis=1)"
   ]
  },
  {
   "cell_type": "markdown",
   "metadata": {},
   "source": [
    "# 6) train_test_split"
   ]
  },
  {
   "cell_type": "code",
   "execution_count": 25,
   "metadata": {},
   "outputs": [],
   "source": [
    "# 70% for train data and 30% for test data SMOTE\n",
    "X_train, X_test, y_train, y_test = train_test_split(X, \n",
    "                                                    y, \n",
    "                                                    test_size=0.4,\n",
    "                                                    random_state=42)"
   ]
  },
  {
   "cell_type": "markdown",
   "metadata": {},
   "source": [
    "# 7) Pipeline"
   ]
  },
  {
   "cell_type": "markdown",
   "metadata": {},
   "source": [
    "* **Criando uma lista de variaveis categoricas**"
   ]
  },
  {
   "cell_type": "code",
   "execution_count": 26,
   "metadata": {},
   "outputs": [
    {
     "name": "stdout",
     "output_type": "stream",
     "text": [
      "Categorical variables:  6\n"
     ]
    }
   ],
   "source": [
    "object_cols = var_cat(X_train)"
   ]
  },
  {
   "cell_type": "markdown",
   "metadata": {},
   "source": [
    "* **Criando uma lista de variaveis numéricas**"
   ]
  },
  {
   "cell_type": "code",
   "execution_count": 27,
   "metadata": {},
   "outputs": [
    {
     "name": "stdout",
     "output_type": "stream",
     "text": [
      "Numerical variables:  18\n"
     ]
    }
   ],
   "source": [
    "numerical_cols = var_num(X_train)"
   ]
  },
  {
   "cell_type": "markdown",
   "metadata": {},
   "source": [
    "* **Define Preprocessing Steps**, **Define the model** and **Create and Evaluate the Pipeline**"
   ]
  },
  {
   "cell_type": "code",
   "execution_count": 28,
   "metadata": {},
   "outputs": [
    {
     "data": {
      "text/plain": [
       "Pipeline(memory=None,\n",
       "         steps=[('preprocessor',\n",
       "                 ColumnTransformer(n_jobs=-1, remainder='drop',\n",
       "                                   sparse_threshold=0.3,\n",
       "                                   transformer_weights=None,\n",
       "                                   transformers=[('num',\n",
       "                                                  Pipeline(memory=None,\n",
       "                                                           steps=[('imputer',\n",
       "                                                                   SimpleImputer(add_indicator=False,\n",
       "                                                                                 copy=True,\n",
       "                                                                                 fill_value=None,\n",
       "                                                                                 missing_values=nan,\n",
       "                                                                                 strategy='constant',\n",
       "                                                                                 verbose=0)),\n",
       "                                                                  ('scaler',\n",
       "                                                                   StandardScaler(copy=True,\n",
       "                                                                                  with_mean...\n",
       "                 PCA(copy=True, iterated_power='auto', n_components=1,\n",
       "                     random_state=None, svd_solver='auto', tol=0.0,\n",
       "                     whiten=False)),\n",
       "                ('model',\n",
       "                 LogisticRegression(C=1.0, class_weight=None, dual=False,\n",
       "                                    fit_intercept=True, intercept_scaling=1,\n",
       "                                    l1_ratio=None, max_iter=100,\n",
       "                                    multi_class='warn', n_jobs=None,\n",
       "                                    penalty='l2', random_state=None,\n",
       "                                    solver='warn', tol=0.0001, verbose=0,\n",
       "                                    warm_start=False))],\n",
       "         verbose=False)"
      ]
     },
     "execution_count": 28,
     "metadata": {},
     "output_type": "execute_result"
    }
   ],
   "source": [
    "pipeline_all = f_pipeline(numerical_cols, object_cols)\n",
    "pipeline = pipeline_all[0]\n",
    "\n",
    "pipeline"
   ]
  },
  {
   "cell_type": "markdown",
   "metadata": {},
   "source": [
    "* **Model**"
   ]
  },
  {
   "cell_type": "code",
   "execution_count": 29,
   "metadata": {},
   "outputs": [
    {
     "data": {
      "text/plain": [
       "LogisticRegression(C=1.0, class_weight=None, dual=False, fit_intercept=True,\n",
       "                   intercept_scaling=1, l1_ratio=None, max_iter=100,\n",
       "                   multi_class='warn', n_jobs=None, penalty='l2',\n",
       "                   random_state=None, solver='warn', tol=0.0001, verbose=0,\n",
       "                   warm_start=False)"
      ]
     },
     "execution_count": 29,
     "metadata": {},
     "output_type": "execute_result"
    }
   ],
   "source": [
    "model = pipeline_all[1]\n",
    "model"
   ]
  },
  {
   "cell_type": "markdown",
   "metadata": {},
   "source": [
    "# Fit"
   ]
  },
  {
   "cell_type": "code",
   "execution_count": 30,
   "metadata": {},
   "outputs": [
    {
     "data": {
      "text/plain": [
       "Pipeline(memory=None,\n",
       "         steps=[('preprocessor',\n",
       "                 ColumnTransformer(n_jobs=-1, remainder='drop',\n",
       "                                   sparse_threshold=0.3,\n",
       "                                   transformer_weights=None,\n",
       "                                   transformers=[('num',\n",
       "                                                  Pipeline(memory=None,\n",
       "                                                           steps=[('imputer',\n",
       "                                                                   SimpleImputer(add_indicator=False,\n",
       "                                                                                 copy=True,\n",
       "                                                                                 fill_value=None,\n",
       "                                                                                 missing_values=nan,\n",
       "                                                                                 strategy='constant',\n",
       "                                                                                 verbose=0)),\n",
       "                                                                  ('scaler',\n",
       "                                                                   StandardScaler(copy=True,\n",
       "                                                                                  with_mean...\n",
       "                 PCA(copy=True, iterated_power='auto', n_components=1,\n",
       "                     random_state=None, svd_solver='auto', tol=0.0,\n",
       "                     whiten=False)),\n",
       "                ('model',\n",
       "                 LogisticRegression(C=1.0, class_weight=None, dual=False,\n",
       "                                    fit_intercept=True, intercept_scaling=1,\n",
       "                                    l1_ratio=None, max_iter=100,\n",
       "                                    multi_class='warn', n_jobs=None,\n",
       "                                    penalty='l2', random_state=None,\n",
       "                                    solver='warn', tol=0.0001, verbose=0,\n",
       "                                    warm_start=False))],\n",
       "         verbose=False)"
      ]
     },
     "execution_count": 30,
     "metadata": {},
     "output_type": "execute_result"
    }
   ],
   "source": [
    "# Preprocessing of training data, fit model \n",
    "pipeline.fit(X_train, y_train)"
   ]
  },
  {
   "cell_type": "markdown",
   "metadata": {},
   "source": [
    "* **Recursive Feature Elimination - RFE**\n",
    "\n",
    "* RFE é um método de seleção de recurso que se ajusta a um modelo e remove o (s) recurso (s) mais fraco (s) até que o número especificado de recursos seja atingido"
   ]
  },
  {
   "cell_type": "code",
   "execution_count": 31,
   "metadata": {},
   "outputs": [],
   "source": [
    "#recursive_feature_elimination(X_train, y_train, model)"
   ]
  },
  {
   "cell_type": "markdown",
   "metadata": {},
   "source": [
    "* **SelectFromModel**"
   ]
  },
  {
   "cell_type": "code",
   "execution_count": 32,
   "metadata": {},
   "outputs": [],
   "source": [
    "#select_from_model(X_train, y_train, model)"
   ]
  },
  {
   "cell_type": "markdown",
   "metadata": {},
   "source": [
    "# **Predict**"
   ]
  },
  {
   "cell_type": "code",
   "execution_count": 33,
   "metadata": {},
   "outputs": [
    {
     "data": {
      "text/plain": [
       "array([0, 0, 0, ..., 0, 0, 0])"
      ]
     },
     "execution_count": 33,
     "metadata": {},
     "output_type": "execute_result"
    }
   ],
   "source": [
    "# Preprocessing of validation data, get predictions\n",
    "preds = pipeline.predict(X_test)\n",
    "preds"
   ]
  },
  {
   "cell_type": "code",
   "execution_count": 34,
   "metadata": {},
   "outputs": [
    {
     "name": "stdout",
     "output_type": "stream",
     "text": [
      "X_train.shape:  (75781, 24)\n",
      "X_test.shape:  (50522, 24)\n",
      "y_train.shape:  75781\n",
      "y_test.shape:  50522\n",
      "\n",
      "y_train:  Counter({0: 74956, 1: 825})\n",
      "y_test:  Counter({0: 49976, 1: 546})\n",
      "\n",
      "preds:  Counter({0: 48904, 1: 1618})\n"
     ]
    }
   ],
   "source": [
    "print('X_train.shape: ', X_train.shape)\n",
    "print('X_test.shape: ', X_test.shape)\n",
    "print('y_train.shape: ', len(y_train))\n",
    "print('y_test.shape: ', len(y_test))\n",
    "print()\n",
    "print('y_train: ', Counter(y_train))\n",
    "print('y_test: ', Counter(y_test))\n",
    "print()\n",
    "print('preds: ', Counter(preds))\n",
    "# sem SMOTE preds:  Counter({0: 37866, 1: 25})\n",
    "# com SMOTE preds:  Counter({0: 31246, 1: 6645})\n",
    "# com NearMiss preds: Counter({1: 31986, 0: 5905})"
   ]
  },
  {
   "cell_type": "markdown",
   "metadata": {},
   "source": [
    "# 8) Metricas"
   ]
  },
  {
   "cell_type": "markdown",
   "metadata": {},
   "source": [
    "* **Cross validation**\n",
    "\n",
    "\n",
    "* options\n",
    "http://scikit-learn.org/stable/modules/model_evaluation.html"
   ]
  },
  {
   "cell_type": "code",
   "execution_count": 35,
   "metadata": {},
   "outputs": [
    {
     "name": "stdout",
     "output_type": "stream",
     "text": [
      "train score =  0.9624839999472163\n",
      "test score  =  0.9621946874628875\n",
      "\n"
     ]
    }
   ],
   "source": [
    "# Check the score on train and test\n",
    "print('train score = ', pipeline.score(X_train, y_train))\n",
    "print('test score  = ', pipeline.score(X_test, y_test))\n",
    "print()"
   ]
  },
  {
   "cell_type": "markdown",
   "metadata": {},
   "source": [
    "* Plotting Learning Curves\n",
    "\n",
    "https://scikit-learn.org/stable/auto_examples/model_selection/plot_learning_curve.html"
   ]
  },
  {
   "cell_type": "code",
   "execution_count": 36,
   "metadata": {},
   "outputs": [],
   "source": [
    "#plot_learned(model)"
   ]
  },
  {
   "cell_type": "markdown",
   "metadata": {},
   "source": [
    "# mean_absolute_error - The best value is 0.0"
   ]
  },
  {
   "cell_type": "code",
   "execution_count": 37,
   "metadata": {},
   "outputs": [
    {
     "name": "stdout",
     "output_type": "stream",
     "text": [
      "MAE: 0.03780531253711254\n"
     ]
    }
   ],
   "source": [
    "# Evaluate the model\n",
    "maer = mean_absolute_error(y_test, preds)\n",
    "print('MAE:', maer)"
   ]
  },
  {
   "cell_type": "markdown",
   "metadata": {},
   "source": [
    "# Confusion matrix\n",
    "\n",
    "https://towardsdatascience.com/understanding-confusion-matrix-a9ad42dcfd62"
   ]
  },
  {
   "cell_type": "code",
   "execution_count": 38,
   "metadata": {},
   "outputs": [
    {
     "name": "stdout",
     "output_type": "stream",
     "text": [
      "preds:  Counter({0: 48904, 1: 1618})\n",
      "\n",
      "               Actual Values\n",
      "           +--------+--------+\n",
      "           | Neg(0) | Pos(1) |\n",
      "p +--------+--------+--------+\n",
      "r | Neg(0) | 48485  | 1491   |\n",
      "e +--------+--------+--------+\n",
      "d | Pos(1) | 419    | 127    |\n",
      "s +--------+--------+--------+\n"
     ]
    }
   ],
   "source": [
    "conf_matrix(y_test, preds)"
   ]
  },
  {
   "cell_type": "markdown",
   "metadata": {},
   "source": [
    "# Curva AUC-ROC - Diz quanto modelo é capaz de distinguir entre classes\n",
    "\n",
    "https://towardsdatascience.com/understanding-auc-roc-curve-68b2303cc9c5"
   ]
  },
  {
   "cell_type": "code",
   "execution_count": 39,
   "metadata": {},
   "outputs": [
    {
     "name": "stdout",
     "output_type": "stream",
     "text": [
      "AUC: 0.601\n"
     ]
    },
    {
     "data": {
      "image/png": "[encoded data removed]",
      "text/plain": [
       "<Figure size 432x288 with 1 Axes>"
      ]
     },
     "metadata": {
      "needs_background": "light"
     },
     "output_type": "display_data"
    }
   ],
   "source": [
    "aucur(y_test, preds)"
   ]
  },
  {
   "cell_type": "markdown",
   "metadata": {},
   "source": [
    "# Precision recall - é uma medida do sucesso da previsão quando as classes estão muito desequilibradas"
   ]
  },
  {
   "cell_type": "markdown",
   "metadata": {},
   "source": [
    "* acurácia ((TP+TN)/(TP+FP+TN+FN))\n",
    "\n",
    "\n",
    "* especificidade (TN/(TN+FP))"
   ]
  },
  {
   "cell_type": "raw",
   "metadata": {},
   "source": [
    "precision_recall_curve(y_test, preds)"
   ]
  },
  {
   "cell_type": "code",
   "execution_count": 40,
   "metadata": {},
   "outputs": [
    {
     "data": {
      "image/png": "[encoded data removed]",
      "text/plain": [
       "<Figure size 576x576 with 1 Axes>"
      ]
     },
     "metadata": {
      "needs_background": "light"
     },
     "output_type": "display_data"
    }
   ],
   "source": [
    "roc_curves(X_test, y_test, pipeline)"
   ]
  },
  {
   "cell_type": "markdown",
   "metadata": {},
   "source": [
    "# Classification report\n",
    "\n",
    "https://docs.google.com/document/d/1pjpX9xQPdVgeJjKakVSYuqRReEyrZesD3-aD61Z-0wQ/edit"
   ]
  },
  {
   "cell_type": "code",
   "execution_count": 41,
   "metadata": {
    "scrolled": false
   },
   "outputs": [
    {
     "name": "stdout",
     "output_type": "stream",
     "text": [
      "              precision    recall  f1-score   support\n",
      "\n",
      "           0       0.99      0.97      0.98     49976\n",
      "           1       0.08      0.23      0.12       546\n",
      "\n",
      "    accuracy                           0.96     50522\n",
      "   macro avg       0.53      0.60      0.55     50522\n",
      "weighted avg       0.98      0.96      0.97     50522\n",
      "\n"
     ]
    }
   ],
   "source": [
    "# classification_report\n",
    "print(classification_report(y_test, preds))"
   ]
  },
  {
   "cell_type": "markdown",
   "metadata": {},
   "source": [
    "# plot_feature_importances"
   ]
  },
  {
   "cell_type": "raw",
   "metadata": {},
   "source": [
    "plot_feature_importances(model.steps[1][1])"
   ]
  },
  {
   "cell_type": "raw",
   "metadata": {},
   "source": [
    "ts = TreeExplainer(model.steps[1][1])"
   ]
  },
  {
   "cell_type": "raw",
   "metadata": {},
   "source": [
    "shap_values = ts.shap_values(X_test)\n",
    "summary_plot(shap_values)"
   ]
  }
 ],
 "metadata": {
  "kernelspec": {
   "display_name": "Python 3",
   "language": "python",
   "name": "python3"
  },
  "language_info": {
   "codemirror_mode": {
    "name": "ipython",
    "version": 3
   },
   "file_extension": ".py",
   "mimetype": "text/x-python",
   "name": "python",
   "nbconvert_exporter": "python",
   "pygments_lexer": "ipython3",
   "version": "3.6.9"
  }
 },
 "nbformat": 4,
 "nbformat_minor": 2
}
