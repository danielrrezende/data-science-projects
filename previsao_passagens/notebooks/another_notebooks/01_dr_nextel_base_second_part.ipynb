{
 "cells": [
  {
   "cell_type": "code",
   "execution_count": 1,
   "metadata": {},
   "outputs": [
    {
     "name": "stderr",
     "output_type": "stream",
     "text": [
      "Using TensorFlow backend.\n"
     ]
    },
    {
     "name": "stdout",
     "output_type": "stream",
     "text": [
      "LOCAL DE DATABASES\n",
      "\n",
      "D:\\Meus documentos\\Trabalhos\\python\\exercicios\\exemplaria\\turma-2019-1\\data\\intermediate\n",
      "\n",
      "LISTA DE DATABASES \n",
      "\n",
      " -.gitignore\n",
      " -count_plot.png\n",
      " -df_complainers.csv\n",
      " -sample.csv\n",
      " -sample_without_nan.csv\n",
      " -target.csv\n"
     ]
    }
   ],
   "source": [
    "import numpy as np # linear algebra\n",
    "import pandas as pd # data processing, CSV file I/O (e.g. pd.read_csv)\n",
    "import matplotlib.pyplot as plt\n",
    "\n",
    "from collections import Counter\n",
    "\n",
    "from sklearn.model_selection import train_test_split\n",
    "from sklearn.metrics import mean_absolute_error\n",
    "from sklearn.metrics import classification_report\n",
    "from sklearn.feature_selection import RFE, RFECV\n",
    "from sklearn.feature_selection import SelectFromModel\n",
    "\n",
    "import seaborn as sns\n",
    "\n",
    "# internal modules\n",
    "from functions.features import edit_features\n",
    "from functions.check_nan import just_check_nan\n",
    "from functions.target import y_target\n",
    "from functions.var_type import var_cat, var_num\n",
    "from functions.pipeline import f_pipeline\n",
    "from functions.plot_learning_curve import plot_learned\n",
    "from functions.metrics import conf_matrix, aucur, roc_curves\n",
    "from functions.feature_select import recursive_feature_elimination, select_from_model, recursive_feature_elimination_cv\n",
    "\n",
    "import warnings\n",
    "warnings.filterwarnings(\"ignore\", category=FutureWarning)\n",
    "\n",
    "import os\n",
    "\n",
    "os.chdir('D:/Meus documentos/Trabalhos/python/exercicios/exemplaria/turma-2019-1/data/intermediate/')\n",
    "print('LOCAL DE DATABASES')\n",
    "print()\n",
    "print(os.getcwd())\n",
    "print()\n",
    "print('LISTA DE DATABASES \\n\\n -', end ='')\n",
    "print(*os.listdir(), sep = '\\n -')"
   ]
  },
  {
   "cell_type": "markdown",
   "metadata": {},
   "source": [
    "* **reading df_complainers file**"
   ]
  },
  {
   "cell_type": "code",
   "execution_count": 2,
   "metadata": {},
   "outputs": [
    {
     "name": "stdout",
     "output_type": "stream",
     "text": [
      "Loaded file: ../intermediate/df_complainers.csv\n"
     ]
    }
   ],
   "source": [
    "# reading df_complainers file\n",
    "df_complainers_filename = '../intermediate/df_complainers.csv'\n",
    "#df_complainers = pd.read_csv(df_complainers_filename, low_memory=False)\n",
    "print('Loaded file: ' + df_complainers_filename)"
   ]
  },
  {
   "cell_type": "markdown",
   "metadata": {},
   "source": [
    "* **reading clients_sample file**"
   ]
  },
  {
   "cell_type": "code",
   "execution_count": 3,
   "metadata": {},
   "outputs": [
    {
     "name": "stdout",
     "output_type": "stream",
     "text": [
      "Loaded file: ../intermediate/sample_without_nan.csv\n"
     ]
    }
   ],
   "source": [
    "# reading clients_sample file\n",
    "filename_without_nan = '../intermediate/sample_without_nan.csv'\n",
    "clients_sample = pd.read_csv(filename_without_nan, low_memory=False)\n",
    "print('Loaded file: ' + filename_without_nan)"
   ]
  },
  {
   "cell_type": "markdown",
   "metadata": {},
   "source": [
    "* **check_nan**"
   ]
  },
  {
   "cell_type": "code",
   "execution_count": 4,
   "metadata": {},
   "outputs": [
    {
     "name": "stdout",
     "output_type": "stream",
     "text": [
      "Dados com NaN:\n",
      "Series([], dtype: int64)\n",
      "\n",
      "columns_with_nan.shape (0,)\n",
      "\n"
     ]
    }
   ],
   "source": [
    "just_check_nan(clients_sample) # check_nan.py"
   ]
  },
  {
   "cell_type": "markdown",
   "metadata": {},
   "source": [
    "***\n",
    "# 4) Definição de target e features\n",
    "\n",
    "https://towardsdatascience.com/building-a-logistic-regression-in-python-step-by-step-becd4d56c9c8"
   ]
  },
  {
   "cell_type": "markdown",
   "metadata": {},
   "source": [
    "* **Target y function**"
   ]
  },
  {
   "cell_type": "code",
   "execution_count": 5,
   "metadata": {},
   "outputs": [],
   "source": [
    "#y = y_target(clients_sample, df_complainers)  # target.py"
   ]
  },
  {
   "cell_type": "markdown",
   "metadata": {},
   "source": [
    "* **Salvar no arquivo checkpoint #4**"
   ]
  },
  {
   "cell_type": "code",
   "execution_count": 6,
   "metadata": {},
   "outputs": [
    {
     "name": "stdout",
     "output_type": "stream",
     "text": [
      "Saved file: ../intermediate/target.csv\n"
     ]
    }
   ],
   "source": [
    "# save in the file\n",
    "target = '../intermediate/target.csv'\n",
    "#np.savetxt(target, y, delimiter=\",\", fmt='%s')\n",
    "print('Saved file: ' + target)"
   ]
  },
  {
   "cell_type": "markdown",
   "metadata": {},
   "source": [
    "* **Carregar arquivo**"
   ]
  },
  {
   "cell_type": "code",
   "execution_count": 7,
   "metadata": {},
   "outputs": [
    {
     "name": "stdout",
     "output_type": "stream",
     "text": [
      "Da base de 126303 clientes, 1371 deles são reclamantes, ou seja, 1.0855%\n"
     ]
    }
   ],
   "source": [
    "# reading file Da base de 126303 clientes, 1371 deles são reclamantes, ou seja, 1.0855%\n",
    "y = np.loadtxt(target, dtype=int).tolist()\n",
    "\n",
    "print('Da base de ' + str(len(clients_sample)) + ' clientes, ' + str(Counter(y)[1]) + \n",
    "      ' deles são reclamantes, ou seja, %.4f' %float((Counter(y)[1]/len(clients_sample))*100) + '%')"
   ]
  },
  {
   "cell_type": "code",
   "execution_count": 8,
   "metadata": {},
   "outputs": [
    {
     "data": {
      "image/png": "[encoded data removed]",
      "text/plain": [
       "<Figure size 432x288 with 1 Axes>"
      ]
     },
     "metadata": {
      "needs_background": "light"
     },
     "output_type": "display_data"
    },
    {
     "data": {
      "text/plain": [
       "<Figure size 432x288 with 0 Axes>"
      ]
     },
     "metadata": {},
     "output_type": "display_data"
    }
   ],
   "source": [
    "sns.countplot(x=y, data=clients_sample)\n",
    "plt.show()\n",
    "plt.savefig('count_plot')"
   ]
  },
  {
   "cell_type": "markdown",
   "metadata": {},
   "source": [
    "* **Features X**"
   ]
  },
  {
   "cell_type": "code",
   "execution_count": 9,
   "metadata": {
    "scrolled": true
   },
   "outputs": [],
   "source": [
    "# X = clients_sample.drop(['cssocialsecno_encrypted'], axis=1)\n",
    "X = clients_sample"
   ]
  },
  {
   "cell_type": "markdown",
   "metadata": {},
   "source": [
    "# 5) Variaveis categóricas - montar por categorias"
   ]
  },
  {
   "cell_type": "markdown",
   "metadata": {},
   "source": [
    "* Filtrando as 31 categorias de 'contract_status_reason' em 3 no total.\n",
    "* Substituição das 31 categorias em 3 no total."
   ]
  },
  {
   "cell_type": "code",
   "execution_count": 10,
   "metadata": {},
   "outputs": [],
   "source": [
    "edit_features(X) # features.py"
   ]
  },
  {
   "cell_type": "code",
   "execution_count": 11,
   "metadata": {},
   "outputs": [],
   "source": [
    "X = clients_sample.drop(['cssocialsecno_encrypted'], axis=1)"
   ]
  },
  {
   "cell_type": "markdown",
   "metadata": {},
   "source": [
    "**billing_ticket_m0** é a feature mais importante\n",
    "\n",
    "seguido de **customer_tenure**\n",
    "\n",
    "depois **m0_call_term_err**"
   ]
  },
  {
   "cell_type": "code",
   "execution_count": 12,
   "metadata": {},
   "outputs": [
    {
     "data": {
      "text/html": [
       "<div>\n",
       "<style scoped>\n",
       "    .dataframe tbody tr th:only-of-type {\n",
       "        vertical-align: middle;\n",
       "    }\n",
       "\n",
       "    .dataframe tbody tr th {\n",
       "        vertical-align: top;\n",
       "    }\n",
       "\n",
       "    .dataframe thead th {\n",
       "        text-align: right;\n",
       "    }\n",
       "</style>\n",
       "<table border=\"1\" class=\"dataframe\">\n",
       "  <thead>\n",
       "    <tr style=\"text-align: right;\">\n",
       "      <th></th>\n",
       "      <th>customer_tenure</th>\n",
       "      <th>m0_qt_involuntary_suspension</th>\n",
       "      <th>m0_qt_voluntary_suspension</th>\n",
       "      <th>nxt_3g_traffic_volume_m0</th>\n",
       "      <th>nxt_4g_traffic_volume_m0</th>\n",
       "      <th>vivo_traffic_volume_m0</th>\n",
       "      <th>contract_loyalty_flag</th>\n",
       "      <th>m0_call_term_err</th>\n",
       "      <th>billing_ticket_m0</th>\n",
       "      <th>billing_ticket_m1</th>\n",
       "      <th>billing_ticket_m2</th>\n",
       "      <th>billing_ticket_m3</th>\n",
       "      <th>billing_ticket_m4</th>\n",
       "      <th>billing_ticket_m5</th>\n",
       "    </tr>\n",
       "  </thead>\n",
       "  <tbody>\n",
       "    <tr>\n",
       "      <td>0</td>\n",
       "      <td>45.258385</td>\n",
       "      <td>0.014520</td>\n",
       "      <td>0.000208</td>\n",
       "      <td>1.842274e+09</td>\n",
       "      <td>8.212733e+08</td>\n",
       "      <td>8.460852e+07</td>\n",
       "      <td>0.588256</td>\n",
       "      <td>276.618472</td>\n",
       "      <td>0.036860</td>\n",
       "      <td>0.038093</td>\n",
       "      <td>0.046954</td>\n",
       "      <td>0.046745</td>\n",
       "      <td>0.041719</td>\n",
       "      <td>0.052308</td>\n",
       "    </tr>\n",
       "    <tr>\n",
       "      <td>1</td>\n",
       "      <td>59.726780</td>\n",
       "      <td>0.021152</td>\n",
       "      <td>0.001459</td>\n",
       "      <td>1.579244e+09</td>\n",
       "      <td>7.491833e+08</td>\n",
       "      <td>7.998123e+07</td>\n",
       "      <td>0.571845</td>\n",
       "      <td>264.803063</td>\n",
       "      <td>0.364697</td>\n",
       "      <td>0.384391</td>\n",
       "      <td>0.277899</td>\n",
       "      <td>0.189643</td>\n",
       "      <td>0.164843</td>\n",
       "      <td>0.211524</td>\n",
       "    </tr>\n",
       "  </tbody>\n",
       "</table>\n",
       "</div>"
      ],
      "text/plain": [
       "   customer_tenure  m0_qt_involuntary_suspension  m0_qt_voluntary_suspension  \\\n",
       "0        45.258385                      0.014520                    0.000208   \n",
       "1        59.726780                      0.021152                    0.001459   \n",
       "\n",
       "   nxt_3g_traffic_volume_m0  nxt_4g_traffic_volume_m0  vivo_traffic_volume_m0  \\\n",
       "0              1.842274e+09              8.212733e+08            8.460852e+07   \n",
       "1              1.579244e+09              7.491833e+08            7.998123e+07   \n",
       "\n",
       "   contract_loyalty_flag  m0_call_term_err  billing_ticket_m0  \\\n",
       "0               0.588256        276.618472           0.036860   \n",
       "1               0.571845        264.803063           0.364697   \n",
       "\n",
       "   billing_ticket_m1  billing_ticket_m2  billing_ticket_m3  billing_ticket_m4  \\\n",
       "0           0.038093           0.046954           0.046745           0.041719   \n",
       "1           0.384391           0.277899           0.189643           0.164843   \n",
       "\n",
       "   billing_ticket_m5  \n",
       "0           0.052308  \n",
       "1           0.211524  "
      ]
     },
     "execution_count": 12,
     "metadata": {},
     "output_type": "execute_result"
    }
   ],
   "source": [
    "X.groupby(y).mean()"
   ]
  },
  {
   "cell_type": "code",
   "execution_count": 13,
   "metadata": {},
   "outputs": [],
   "source": [
    "# X['m2_call_term_err'].unique()"
   ]
  },
  {
   "cell_type": "markdown",
   "metadata": {},
   "source": [
    "# 6) train_test_split"
   ]
  },
  {
   "cell_type": "code",
   "execution_count": 14,
   "metadata": {},
   "outputs": [],
   "source": [
    "# 70% for train data and 30% for test data SMOTE\n",
    "X_train, X_test, y_train, y_test = train_test_split(X, \n",
    "                                                    y, \n",
    "                                                    test_size=0.4,\n",
    "                                                    random_state=42)"
   ]
  },
  {
   "cell_type": "markdown",
   "metadata": {},
   "source": [
    "# 7) Pipeline"
   ]
  },
  {
   "cell_type": "markdown",
   "metadata": {},
   "source": [
    "* **Criando uma lista de variaveis categoricas**"
   ]
  },
  {
   "cell_type": "code",
   "execution_count": 15,
   "metadata": {},
   "outputs": [
    {
     "name": "stdout",
     "output_type": "stream",
     "text": [
      "Categorical variables:  6\n",
      "['person_type', 'payment_method', 'inar_rate_plan', 'contract_status', 'contract_status_reason', 'device_type_m0']\n"
     ]
    }
   ],
   "source": [
    "object_cols = var_cat(X_train)"
   ]
  },
  {
   "cell_type": "markdown",
   "metadata": {},
   "source": [
    "* **Criando uma lista de variaveis numéricas**"
   ]
  },
  {
   "cell_type": "code",
   "execution_count": 16,
   "metadata": {},
   "outputs": [
    {
     "name": "stdout",
     "output_type": "stream",
     "text": [
      "Numerical variables:  14\n",
      "['customer_tenure', 'm0_qt_involuntary_suspension', 'm0_qt_voluntary_suspension', 'nxt_3g_traffic_volume_m0', 'nxt_4g_traffic_volume_m0', 'vivo_traffic_volume_m0', 'contract_loyalty_flag', 'm0_call_term_err', 'billing_ticket_m0', 'billing_ticket_m1', 'billing_ticket_m2', 'billing_ticket_m3', 'billing_ticket_m4', 'billing_ticket_m5']\n"
     ]
    }
   ],
   "source": [
    "numerical_cols = var_num(X_train)"
   ]
  },
  {
   "cell_type": "markdown",
   "metadata": {},
   "source": [
    "* **Define Preprocessing Steps**, **Define the model** and **Create and Evaluate the Pipeline**"
   ]
  },
  {
   "cell_type": "code",
   "execution_count": 17,
   "metadata": {},
   "outputs": [],
   "source": [
    "pipeline_all = f_pipeline(numerical_cols, object_cols)\n",
    "pipeline = pipeline_all[0]"
   ]
  },
  {
   "cell_type": "markdown",
   "metadata": {},
   "source": [
    "* **Model**"
   ]
  },
  {
   "cell_type": "code",
   "execution_count": 18,
   "metadata": {},
   "outputs": [],
   "source": [
    "model = pipeline_all[1]"
   ]
  },
  {
   "cell_type": "markdown",
   "metadata": {},
   "source": [
    "* **Fit**"
   ]
  },
  {
   "cell_type": "code",
   "execution_count": 19,
   "metadata": {},
   "outputs": [
    {
     "data": {
      "text/plain": [
       "Pipeline(memory=None,\n",
       "         steps=[('preprocessor',\n",
       "                 ColumnTransformer(n_jobs=-1, remainder='drop',\n",
       "                                   sparse_threshold=0.3,\n",
       "                                   transformer_weights=None,\n",
       "                                   transformers=[('num',\n",
       "                                                  Pipeline(memory=None,\n",
       "                                                           steps=[('imputer',\n",
       "                                                                   SimpleImputer(add_indicator=False,\n",
       "                                                                                 copy=True,\n",
       "                                                                                 fill_value=None,\n",
       "                                                                                 missing_values=nan,\n",
       "                                                                                 strategy='constant',\n",
       "                                                                                 verbose=0)),\n",
       "                                                                  ('scaler',\n",
       "                                                                   StandardScaler(copy=True,\n",
       "                                                                                  with_mean...\n",
       "                 PCA(copy=True, iterated_power='auto', n_components=1,\n",
       "                     random_state=None, svd_solver='auto', tol=0.0,\n",
       "                     whiten=False)),\n",
       "                ('model',\n",
       "                 LogisticRegression(C=1.0, class_weight=None, dual=False,\n",
       "                                    fit_intercept=True, intercept_scaling=1,\n",
       "                                    l1_ratio=None, max_iter=100,\n",
       "                                    multi_class='warn', n_jobs=None,\n",
       "                                    penalty='l2', random_state=None,\n",
       "                                    solver='warn', tol=0.0001, verbose=0,\n",
       "                                    warm_start=False))],\n",
       "         verbose=False)"
      ]
     },
     "execution_count": 19,
     "metadata": {},
     "output_type": "execute_result"
    }
   ],
   "source": [
    "# Preprocessing of training data, fit model \n",
    "pipeline.fit(X_train, y_train)"
   ]
  },
  {
   "cell_type": "markdown",
   "metadata": {},
   "source": [
    "* **Predict**"
   ]
  },
  {
   "cell_type": "code",
   "execution_count": 20,
   "metadata": {},
   "outputs": [
    {
     "name": "stdout",
     "output_type": "stream",
     "text": [
      "preds:  Counter({0: 45346, 1: 5176})\n"
     ]
    }
   ],
   "source": [
    "# Preprocessing of validation data, get predictions\n",
    "preds = pipeline.predict(X_test)\n",
    "print('preds: ', Counter(preds))"
   ]
  },
  {
   "cell_type": "markdown",
   "metadata": {},
   "source": [
    "# 8) Metricas"
   ]
  },
  {
   "cell_type": "code",
   "execution_count": 21,
   "metadata": {},
   "outputs": [],
   "source": [
    "# recursive_feature_elimination(X_train, y_train, model)"
   ]
  },
  {
   "cell_type": "code",
   "execution_count": 22,
   "metadata": {},
   "outputs": [],
   "source": [
    "# recursive_feature_elimination_cv(X_train, y_train, model)"
   ]
  },
  {
   "cell_type": "markdown",
   "metadata": {},
   "source": [
    "* **Plotting Learning Curves**"
   ]
  },
  {
   "cell_type": "code",
   "execution_count": 23,
   "metadata": {},
   "outputs": [
    {
     "data": {
      "image/png": "[encoded data removed]",
      "text/plain": [
       "<Figure size 432x288 with 1 Axes>"
      ]
     },
     "metadata": {
      "needs_background": "light"
     },
     "output_type": "display_data"
    }
   ],
   "source": [
    "plot_learned(model)"
   ]
  },
  {
   "cell_type": "markdown",
   "metadata": {},
   "source": [
    "* options\n",
    "http://scikit-learn.org/stable/modules/model_evaluation.html"
   ]
  },
  {
   "cell_type": "markdown",
   "metadata": {},
   "source": [
    "* **mean_absolute_error - The best value is 0.0**"
   ]
  },
  {
   "cell_type": "code",
   "execution_count": 24,
   "metadata": {},
   "outputs": [
    {
     "name": "stdout",
     "output_type": "stream",
     "text": [
      "MAE: 0.1018962036340604\n"
     ]
    }
   ],
   "source": [
    "# Evaluate the model\n",
    "print('MAE:', mean_absolute_error(y_test, preds))"
   ]
  },
  {
   "cell_type": "markdown",
   "metadata": {},
   "source": [
    "* **Confusion matrix**\n",
    "\n",
    "https://towardsdatascience.com/understanding-confusion-matrix-a9ad42dcfd62"
   ]
  },
  {
   "cell_type": "code",
   "execution_count": 25,
   "metadata": {},
   "outputs": [
    {
     "name": "stdout",
     "output_type": "stream",
     "text": [
      "X_train.shape:  (75781, 20)\n",
      "X_test.shape:  (50522, 20)\n",
      "y_train.shape:  75781\n",
      "y_test.shape:  50522\n",
      "\n",
      "y_train:  Counter({0: 74956, 1: 825})\n",
      "\n",
      "y_test:  Counter({0: 49976, 1: 546})\n",
      "preds:  Counter({0: 45346, 1: 5176})\n"
     ]
    }
   ],
   "source": [
    "print('X_train.shape: ', X_train.shape)\n",
    "print('X_test.shape: ', X_test.shape)\n",
    "print('y_train.shape: ', len(y_train))\n",
    "print('y_test.shape: ', len(y_test))\n",
    "print()\n",
    "print('y_train: ', Counter(y_train))\n",
    "print()\n",
    "print('y_test: ', Counter(y_test))\n",
    "print('preds: ', Counter(preds))"
   ]
  },
  {
   "cell_type": "code",
   "execution_count": 26,
   "metadata": {},
   "outputs": [
    {
     "name": "stdout",
     "output_type": "stream",
     "text": [
      "               Actual Values\n",
      "           +--------+--------+\n",
      "           | Neg(0) | Pos(1) |\n",
      "p +--------+--------+--------+\n",
      "r | Neg(0) | 45087  | 259    |\n",
      "e +--------+--------+--------+\n",
      "d | Pos(1) | 4889   | 287    |\n",
      "s +--------+--------+--------+\n"
     ]
    }
   ],
   "source": [
    "conf_matrix(preds, y_test)"
   ]
  },
  {
   "cell_type": "markdown",
   "metadata": {},
   "source": [
    "* **Curva AUC-ROC - Diz quanto modelo é capaz de distinguir entre classes**\n",
    "\n",
    "https://towardsdatascience.com/understanding-auc-roc-curve-68b2303cc9c5\n"
   ]
  },
  {
   "cell_type": "code",
   "execution_count": 27,
   "metadata": {},
   "outputs": [
    {
     "name": "stdout",
     "output_type": "stream",
     "text": [
      "AUC: 0.714\n"
     ]
    },
    {
     "data": {
      "image/png": "[encoded data removed]",
      "text/plain": [
       "<Figure size 432x288 with 1 Axes>"
      ]
     },
     "metadata": {
      "needs_background": "light"
     },
     "output_type": "display_data"
    }
   ],
   "source": [
    "aucur(y_test, preds)"
   ]
  },
  {
   "cell_type": "markdown",
   "metadata": {},
   "source": [
    "* **Precision recall - é uma medida do sucesso da previsão quando as classes estão muito desequilibradas**"
   ]
  },
  {
   "cell_type": "markdown",
   "metadata": {},
   "source": [
    "* accuracy ((TP+TN)/(TP+FP+TN+FN))\n",
    "\n",
    "\n",
    "* precision (TN/(TN+FP))\n",
    "\n",
    "\n",
    "* recall (TN/(TN+FN))"
   ]
  },
  {
   "cell_type": "code",
   "execution_count": 28,
   "metadata": {},
   "outputs": [
    {
     "data": {
      "image/png": "[encoded data removed]",
      "text/plain": [
       "<Figure size 576x576 with 1 Axes>"
      ]
     },
     "metadata": {
      "needs_background": "light"
     },
     "output_type": "display_data"
    }
   ],
   "source": [
    "roc_curves(X_test, y_test, pipeline)"
   ]
  },
  {
   "cell_type": "markdown",
   "metadata": {},
   "source": [
    "* **Classification report**\n",
    "\n",
    "https://docs.google.com/document/d/1pjpX9xQPdVgeJjKakVSYuqRReEyrZesD3-aD61Z-0wQ/edit"
   ]
  },
  {
   "cell_type": "markdown",
   "metadata": {},
   "source": [
    "**precision** é a capacidade de um classificador de não rotular uma instância de positiva como realmente negativa. Para cada classe, é definida como a razão entre os verdadeiros positivos e a soma dos verdadeiros positivos e falsos **positivos**. Dito de outra maneira, \"para todos os casos classificados como positivos, qual porcentagem estava correta?\"\n",
    "**Caso: O modelo previu 5176 reclamantes, acertou 287, precisão de 6%**\n",
    "\n",
    "**recall** é capacidade de um classificador encontrar todas as instâncias positivas. Para cada classe, é definida como a razão entre os verdadeiros positivos e a soma dos verdadeiros positivos e falsos **negativos**. Dito de outra maneira, \"para todas as instâncias que foram realmente positivas, qual porcentagem foi classificada corretamente?\"\n",
    "**Caso: Dos 546 casos reais de reclamantes, ele acertou 287, que é 53%**\n",
    "\n",
    "**F1 score** é uma média harmônica ponderada de **precision** e **recall**, de modo que a melhor pontuação seja 1,0 e a pior seja 0,0. De um modo geral, os valores de F1 score são mais baixas do que as medidas de **precision** como eles incorporam **precision** e **recall** em seu cálculo.\n",
    "\n",
    "**support** é o número de ocorrências reais da classe no conjunto de dados especificado. O suporte desequilibrado nos dados de treinamento pode indicar fragilidades estruturais nas pontuações relatadas do classificador e pode indicar a necessidade de amostragem estratificada ou reequilíbrio. O suporte não muda entre os modelos, mas sim diagnostica o processo de avaliação."
   ]
  },
  {
   "cell_type": "code",
   "execution_count": 29,
   "metadata": {},
   "outputs": [
    {
     "name": "stdout",
     "output_type": "stream",
     "text": [
      "              precision    recall  f1-score   support\n",
      "\n",
      "           0       0.99      0.90      0.95     49976\n",
      "           1       0.06      0.53      0.10       546\n",
      "\n",
      "    accuracy                           0.90     50522\n",
      "   macro avg       0.52      0.71      0.52     50522\n",
      "weighted avg       0.98      0.90      0.94     50522\n",
      "\n"
     ]
    }
   ],
   "source": [
    "# classification_report\n",
    "print(classification_report(y_test, preds))"
   ]
  },
  {
   "cell_type": "code",
   "execution_count": null,
   "metadata": {},
   "outputs": [],
   "source": []
  }
 ],
 "metadata": {
  "kernelspec": {
   "display_name": "Python 3",
   "language": "python",
   "name": "python3"
  },
  "language_info": {
   "codemirror_mode": {
    "name": "ipython",
    "version": 3
   },
   "file_extension": ".py",
   "mimetype": "text/x-python",
   "name": "python",
   "nbconvert_exporter": "python",
   "pygments_lexer": "ipython3",
   "version": "3.8.1"
  }
 },
 "nbformat": 4,
 "nbformat_minor": 4
}
