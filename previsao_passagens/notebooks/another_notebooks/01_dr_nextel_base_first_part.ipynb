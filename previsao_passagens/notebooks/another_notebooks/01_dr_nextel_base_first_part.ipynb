{
 "cells": [
  {
   "cell_type": "code",
   "execution_count": 1,
   "metadata": {},
   "outputs": [
    {
     "name": "stdout",
     "output_type": "stream",
     "text": [
      "LOCAL DE DATABASES\n",
      "\n",
      "D:\\Meus documentos\\Trabalhos\\python\\exercicios\\exemplaria\\turma-2019-1\\data\\raw\n",
      "\n",
      "LISTA DE DATABASES \n",
      "\n",
      " -anatel_exemplaria.csv\n",
      " -anatel_utf8.csv\n",
      " -benchmark_20170930_exemplaria.csv\n",
      " -benchmark_20171105_exemplaria.csv\n",
      " -cliente_cobranca_multas_fidelizacao_201709_201801_encrypted.csv\n",
      " -cliente_ebill_201709_201801_encrypted.csv\n",
      " -consumidor_gov_exemplaria.csv\n",
      " -jec_exemplaria.csv\n",
      " -premissas_base_fidelizados_201709_201801_encrypted.csv\n",
      " -PREMISSAS_BASE_FRANQUIA_20170701_20181231.csv\n",
      " -PREMISSAS_BASE_REDE_VIVO_20170901_20171231.csv\n",
      " -premissas_customer_exemplaria.csv\n",
      " -procon_exemplaria.csv\n",
      " -procon_exemplaria_v2.csv\n",
      " -ricardo_jec_processo_v2_csv_encrypted.csv\n"
     ]
    }
   ],
   "source": [
    "import pandas as pd # data processing, CSV file I/O (e.g. pd.read_csv)\n",
    "\n",
    "# internal modules\n",
    "from functions.filter_complainers import filter_complainers\n",
    "from functions.read_data import benchmark_reader\n",
    "from functions.features import define_features\n",
    "from functions.check_nan import just_check_nan, fix_nan\n",
    "\n",
    "import warnings\n",
    "warnings.filterwarnings(\"ignore\", category=FutureWarning)\n",
    "\n",
    "import os\n",
    "\n",
    "os.chdir('D:/Meus documentos/Trabalhos/python/exercicios/exemplaria/turma-2019-1/data/raw/')\n",
    "print('LOCAL DE DATABASES')\n",
    "print()\n",
    "print(os.getcwd())\n",
    "print()\n",
    "print('LISTA DE DATABASES \\n\\n -', end ='')\n",
    "print(*os.listdir(), sep = '\\n -')"
   ]
  },
  {
   "cell_type": "markdown",
   "metadata": {},
   "source": [
    "***\n",
    "# 1) Filtrar os usuários reclamantes por cpf e cnpj\n",
    "\n",
    "\n",
    "- **Extração de dados das planilhas**"
   ]
  },
  {
   "cell_type": "code",
   "execution_count": 2,
   "metadata": {},
   "outputs": [],
   "source": [
    "# path\n",
    "jec_exemplaria = 'jec_exemplaria.csv'\n",
    "anatel_exemplaria = 'anatel_utf8.csv'\n",
    "consumidor_gov_exemplaria = 'consumidor_gov_exemplaria.csv'\n",
    "procon_exemplaria = 'procon_exemplaria_v2.csv'\n",
    "\n",
    "benchmark = 'benchmark_20171105_exemplaria.csv'\n",
    "benchmark2 = 'benchmark_20170930_exemplaria.csv'"
   ]
  },
  {
   "cell_type": "markdown",
   "metadata": {},
   "source": [
    "* **Reunião dos databases**"
   ]
  },
  {
   "cell_type": "code",
   "execution_count": 3,
   "metadata": {},
   "outputs": [],
   "source": [
    "# filter_complainers\n",
    "#df_complainers = filter_complainers(jec_exemplaria, anatel_exemplaria, consumidor_gov_exemplaria, procon_exemplaria)"
   ]
  },
  {
   "cell_type": "markdown",
   "metadata": {},
   "source": [
    "* **Salvar no arquivo checkpoint #1**"
   ]
  },
  {
   "cell_type": "code",
   "execution_count": 4,
   "metadata": {},
   "outputs": [
    {
     "name": "stdout",
     "output_type": "stream",
     "text": [
      "Saved file: ../intermediate/df_complainers.csv\n"
     ]
    }
   ],
   "source": [
    "# save in the file\n",
    "df_complainers_filename = '../intermediate/df_complainers.csv'\n",
    "#df_complainers.to_csv(df_complainers_filename, index=False)\n",
    "print('Saved file: ' + df_complainers_filename) "
   ]
  },
  {
   "cell_type": "markdown",
   "metadata": {},
   "source": [
    "***\n",
    "# 2) Linkar os databases com o benchmark com as features"
   ]
  },
  {
   "cell_type": "markdown",
   "metadata": {},
   "source": [
    "* **Amostra de dados da base benchmark usando benchmark_reader function**"
   ]
  },
  {
   "cell_type": "code",
   "execution_count": 5,
   "metadata": {},
   "outputs": [],
   "source": [
    "#Da base de 126303 clientes, 1371 deles são reclamantes, ou seja, 1.0855%\n",
    "#clients = benchmark_reader([benchmark])  # read_data.py"
   ]
  },
  {
   "cell_type": "markdown",
   "metadata": {},
   "source": [
    "* **Salvar no arquivo checkpoint #2**"
   ]
  },
  {
   "cell_type": "code",
   "execution_count": 6,
   "metadata": {},
   "outputs": [
    {
     "name": "stdout",
     "output_type": "stream",
     "text": [
      "Saved file: ../intermediate/sample.csv\n"
     ]
    }
   ],
   "source": [
    "# save in the file\n",
    "filename = '../intermediate/sample.csv'\n",
    "#clients.to_csv(filename, index=False)\n",
    "print('Saved file: ' + filename)"
   ]
  },
  {
   "cell_type": "markdown",
   "metadata": {},
   "source": [
    "* **Carregar arquivo**"
   ]
  },
  {
   "cell_type": "code",
   "execution_count": 7,
   "metadata": {},
   "outputs": [],
   "source": [
    "# reading file\n",
    "clients_sample = pd.read_csv(filename, low_memory=False)"
   ]
  },
  {
   "cell_type": "markdown",
   "metadata": {},
   "source": [
    "* **Definir as features usando define_features function**\n",
    "\n",
    "\n",
    "https://docs.google.com/spreadsheets/d/1BFJUHenj_vQC8yS_Vhzoj9hkORohLEPJ/edit#gid=768356393"
   ]
  },
  {
   "cell_type": "code",
   "execution_count": 8,
   "metadata": {},
   "outputs": [],
   "source": [
    "clients_sample = define_features(clients_sample) # features.py"
   ]
  },
  {
   "cell_type": "markdown",
   "metadata": {},
   "source": [
    "* **Checar dados com Nan usando just_check_nan function**"
   ]
  },
  {
   "cell_type": "code",
   "execution_count": 9,
   "metadata": {},
   "outputs": [
    {
     "name": "stdout",
     "output_type": "stream",
     "text": [
      "Dados com NaN:\n",
      "Series([], dtype: int64)\n",
      "\n",
      "columns_with_nan.shape (0,)\n",
      "\n"
     ]
    }
   ],
   "source": [
    "just_check_nan(clients_sample) # check_nan.py"
   ]
  },
  {
   "cell_type": "markdown",
   "metadata": {},
   "source": [
    "***\n",
    "# 3) Corrigir dados faltantes NaN com fix_nan function\n",
    "\n",
    "Para trabalhar com valores nulos usar o isna, muito util para determinar quantidade de NaN, e fillna para preencher valores faltantes"
   ]
  },
  {
   "cell_type": "code",
   "execution_count": 10,
   "metadata": {},
   "outputs": [
    {
     "name": "stdout",
     "output_type": "stream",
     "text": [
      "Dados com NaN:\n",
      "Series([], dtype: int64)\n",
      "\n",
      "columns_with_nan.shape (0,)\n",
      "\n",
      "================= DataFrame SEM NaN =================\n",
      "\n"
     ]
    }
   ],
   "source": [
    "clients_sample = fix_nan(clients_sample) # check_nan.py"
   ]
  },
  {
   "cell_type": "markdown",
   "metadata": {},
   "source": [
    "* **Salvar no arquivo checkpoint #3**"
   ]
  },
  {
   "cell_type": "code",
   "execution_count": 11,
   "metadata": {},
   "outputs": [
    {
     "name": "stdout",
     "output_type": "stream",
     "text": [
      "Saved file: ../intermediate/sample_without_nan.csv\n"
     ]
    }
   ],
   "source": [
    "# save in the file\n",
    "filename_without_nan = '../intermediate/sample_without_nan.csv'\n",
    "clients_sample.to_csv(filename_without_nan, index=False)\n",
    "print('Saved file: ' + filename_without_nan)"
   ]
  }
 ],
 "metadata": {
  "kernelspec": {
   "display_name": "Python 3",
   "language": "python",
   "name": "python3"
  },
  "language_info": {
   "codemirror_mode": {
    "name": "ipython",
    "version": 3
   },
   "file_extension": ".py",
   "mimetype": "text/x-python",
   "name": "python",
   "nbconvert_exporter": "python",
   "pygments_lexer": "ipython3",
   "version": "3.6.9"
  }
 },
 "nbformat": 4,
 "nbformat_minor": 2
}
