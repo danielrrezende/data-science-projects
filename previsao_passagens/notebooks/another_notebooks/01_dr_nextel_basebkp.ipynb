{
 "cells": [
  {
   "cell_type": "code",
   "execution_count": 1,
   "metadata": {},
   "outputs": [
    {
     "name": "stderr",
     "output_type": "stream",
     "text": [
      "Using TensorFlow backend.\n"
     ]
    },
    {
     "name": "stdout",
     "output_type": "stream",
     "text": [
      "LOCAL DE DATABASES\n",
      "\n",
      "D:\\Meus documentos\\Trabalhos\\python\\exercicios\\exemplaria\\turma-2019-1\\data\\raw\n",
      "\n",
      "LISTA DE DATABASES \n",
      "\n",
      " -amostra_benchmark_20170930.csv\n",
      " -anatel_exemplaria.csv\n",
      " -anatel_utf8.csv\n",
      " -benchmark_20170930_exemplaria.csv\n",
      " -benchmark_20171105_exemplaria.csv\n",
      " -cliente_cobranca_multas_fidelizacao_201709_201801_encrypted.csv\n",
      " -cliente_ebill_201709_201801_encrypted.csv\n",
      " -consumidor_gov_exemplaria.csv\n",
      " -count_plot.png\n",
      " -jec_exemplaria.csv\n",
      " -nextel_test.csv\n",
      " -premissas_base_fidelizados_201709_201801_encrypted.csv\n",
      " -PREMISSAS_BASE_FRANQUIA_20170701_20181231.csv\n",
      " -PREMISSAS_BASE_REDE_VIVO_20170901_20171231.csv\n",
      " -premissas_customer_exemplaria.csv\n",
      " -procon_exemplaria.csv\n",
      " -procon_exemplaria_v2.csv\n",
      " -ricardo_jec_processo_v2_csv_encrypted.csv\n",
      " -sample.csv\n"
     ]
    }
   ],
   "source": [
    "import numpy as np # linear algebra\n",
    "import pandas as pd # data processing, CSV file I/O (e.g. pd.read_csv)\n",
    "import matplotlib.pyplot as plt\n",
    "\n",
    "from collections import Counter\n",
    "\n",
    "# sklearn #from sklearn import metrics\n",
    "from sklearn.model_selection import train_test_split\n",
    "from sklearn.ensemble import RandomForestRegressor\n",
    "from sklearn.ensemble import RandomForestClassifier\n",
    "from sklearn.ensemble import GradientBoostingRegressor\n",
    "from sklearn.ensemble import GradientBoostingClassifier\n",
    "from sklearn.preprocessing import OneHotEncoder\n",
    "from sklearn.compose import ColumnTransformer\n",
    "from sklearn.impute import SimpleImputer\n",
    "from sklearn.decomposition import PCA\n",
    "from sklearn.model_selection import ParameterGrid\n",
    "from sklearn.naive_bayes import GaussianNB\n",
    "from sklearn.svm import SVC\n",
    "from sklearn.datasets import load_digits\n",
    "from sklearn.model_selection import learning_curve\n",
    "from sklearn.model_selection import ShuffleSplit\n",
    "\n",
    "# sklearn metrics\n",
    "from sklearn.metrics import average_precision_score\n",
    "from sklearn.metrics import mean_absolute_error\n",
    "from sklearn.metrics import roc_curve\n",
    "from sklearn.metrics import auc\n",
    "from sklearn.metrics import roc_auc_score\n",
    "from sklearn.metrics import accuracy_score\n",
    "from sklearn.metrics import classification_report\n",
    "from sklearn.metrics import confusion_matrix\n",
    "from sklearn.metrics import precision_recall_curve\n",
    "\n",
    "from xgboost import XGBClassifier\n",
    "\n",
    "# eli5\n",
    "from eli5.sklearn import PermutationImportance\n",
    "from matplotlib.legend_handler import HandlerLine2D\n",
    "\n",
    "# imblearn\n",
    "from imblearn.over_sampling import SMOTE\n",
    "from imblearn.under_sampling import NearMiss\n",
    "from imblearn.pipeline import Pipeline\n",
    "\n",
    "from inspect import signature\n",
    "\n",
    "\n",
    "\n",
    "\n",
    "import os\n",
    "\n",
    "os.chdir('D:/Meus documentos/Trabalhos/python/exercicios/exemplaria/turma-2019-1/data/raw/')\n",
    "print('LOCAL DE DATABASES')\n",
    "print()\n",
    "print(os.getcwd())\n",
    "print()\n",
    "print('LISTA DE DATABASES \\n\\n -', end ='')\n",
    "print(*os.listdir(), sep = '\\n -')"
   ]
  },
  {
   "cell_type": "markdown",
   "metadata": {},
   "source": [
    "# 1) Filtrar os usuários reclamantes por cpf e cnpj\n",
    "\n",
    "\n",
    "- Extração de dados das planilhas\n",
    "\n",
    "-- filtrar os usuários por número de **contrato** ao invés de cpf e cnpj"
   ]
  },
  {
   "cell_type": "code",
   "execution_count": 2,
   "metadata": {},
   "outputs": [],
   "source": [
    "#ricardo_jec_processo_v2_csv_encrypted\n",
    "#cliente_cobranca_multas_fidelizacao_201709_201801_encrypted\n",
    "#cliente_ebill_201709_201801_encrypted\n",
    "#premissas_customer_exemplaria\n",
    "#premissas_base_fidelizados_201709_201801_encrypted\n",
    "#PREMISSAS_BASE_FRANQUIA_20170701_20181231\n",
    "#PREMISSAS_BASE_REDE_VIVO_20170901_20171231\n",
    "\n",
    "# path\n",
    "jec_exemplaria = 'jec_exemplaria.csv'\n",
    "anatel_exemplaria = 'anatel_utf8.csv'\n",
    "consumidor_gov_exemplaria = 'consumidor_gov_exemplaria.csv'\n",
    "procon_exemplaria = 'procon_exemplaria_v2.csv'\n",
    "\n",
    "benchmark = 'benchmark_20171105_exemplaria.csv'\n",
    "benchmark2 = 'benchmark_20170930_exemplaria.csv'"
   ]
  },
  {
   "cell_type": "markdown",
   "metadata": {},
   "source": [
    "* **Usuarios jec_exemplaria**"
   ]
  },
  {
   "cell_type": "code",
   "execution_count": 3,
   "metadata": {},
   "outputs": [
    {
     "data": {
      "text/html": [
       "<div>\n",
       "<style scoped>\n",
       "    .dataframe tbody tr th:only-of-type {\n",
       "        vertical-align: middle;\n",
       "    }\n",
       "\n",
       "    .dataframe tbody tr th {\n",
       "        vertical-align: top;\n",
       "    }\n",
       "\n",
       "    .dataframe thead th {\n",
       "        text-align: right;\n",
       "    }\n",
       "</style>\n",
       "<table border=\"1\" class=\"dataframe\">\n",
       "  <thead>\n",
       "    <tr style=\"text-align: right;\">\n",
       "      <th></th>\n",
       "      <th>cpf_cnpj_autor_encrypted</th>\n",
       "    </tr>\n",
       "  </thead>\n",
       "  <tbody>\n",
       "    <tr>\n",
       "      <td>0</td>\n",
       "      <td>-8278895064444567583</td>\n",
       "    </tr>\n",
       "    <tr>\n",
       "      <td>1</td>\n",
       "      <td>-8278895064444567583</td>\n",
       "    </tr>\n",
       "    <tr>\n",
       "      <td>2</td>\n",
       "      <td>-7103211938884760171</td>\n",
       "    </tr>\n",
       "    <tr>\n",
       "      <td>3</td>\n",
       "      <td>-7103211938884760171</td>\n",
       "    </tr>\n",
       "    <tr>\n",
       "      <td>4</td>\n",
       "      <td>2584592307964668520</td>\n",
       "    </tr>\n",
       "    <tr>\n",
       "      <td>...</td>\n",
       "      <td>...</td>\n",
       "    </tr>\n",
       "    <tr>\n",
       "      <td>58790</td>\n",
       "      <td>-5768500093829343439</td>\n",
       "    </tr>\n",
       "    <tr>\n",
       "      <td>58791</td>\n",
       "      <td>-8802084936976741040</td>\n",
       "    </tr>\n",
       "    <tr>\n",
       "      <td>58792</td>\n",
       "      <td>-8802084936976741040</td>\n",
       "    </tr>\n",
       "    <tr>\n",
       "      <td>58793</td>\n",
       "      <td>-7588558702187685792</td>\n",
       "    </tr>\n",
       "    <tr>\n",
       "      <td>58794</td>\n",
       "      <td>-4310664577226446933</td>\n",
       "    </tr>\n",
       "  </tbody>\n",
       "</table>\n",
       "<p>58795 rows × 1 columns</p>\n",
       "</div>"
      ],
      "text/plain": [
       "       cpf_cnpj_autor_encrypted\n",
       "0          -8278895064444567583\n",
       "1          -8278895064444567583\n",
       "2          -7103211938884760171\n",
       "3          -7103211938884760171\n",
       "4           2584592307964668520\n",
       "...                         ...\n",
       "58790      -5768500093829343439\n",
       "58791      -8802084936976741040\n",
       "58792      -8802084936976741040\n",
       "58793      -7588558702187685792\n",
       "58794      -4310664577226446933\n",
       "\n",
       "[58795 rows x 1 columns]"
      ]
     },
     "execution_count": 3,
     "metadata": {},
     "output_type": "execute_result"
    }
   ],
   "source": [
    "# set df\n",
    "df_jec_exemplaria = pd.read_csv(jec_exemplaria, sep=';', low_memory=False)\n",
    "\n",
    "# separate columns\n",
    "df_jec_exemplaria = df_jec_exemplaria[['cpf_cnpj_autor_encrypted']]\n",
    "\n",
    "#print(df_jec_exemplaria.to_string())\n",
    "df_jec_exemplaria"
   ]
  },
  {
   "cell_type": "markdown",
   "metadata": {},
   "source": [
    "* **Usuarios df_anatel_exemplaria**\n",
    "\n",
    "Este DF usuarios cadastrados como **cpf** e **cnpj** em colunas separadas, sendo assim juntei eles em apenas uma coluna e no final padronizei as colunas como **'cpf_cnpj_autor_encrypted'** e **'data_abertura'**"
   ]
  },
  {
   "cell_type": "code",
   "execution_count": 4,
   "metadata": {},
   "outputs": [
    {
     "data": {
      "text/html": [
       "<div>\n",
       "<style scoped>\n",
       "    .dataframe tbody tr th:only-of-type {\n",
       "        vertical-align: middle;\n",
       "    }\n",
       "\n",
       "    .dataframe tbody tr th {\n",
       "        vertical-align: top;\n",
       "    }\n",
       "\n",
       "    .dataframe thead th {\n",
       "        text-align: right;\n",
       "    }\n",
       "</style>\n",
       "<table border=\"1\" class=\"dataframe\">\n",
       "  <thead>\n",
       "    <tr style=\"text-align: right;\">\n",
       "      <th></th>\n",
       "      <th>cpf_cnpj_autor_encrypted</th>\n",
       "    </tr>\n",
       "  </thead>\n",
       "  <tbody>\n",
       "    <tr>\n",
       "      <td>0</td>\n",
       "      <td>-5441657587252619963</td>\n",
       "    </tr>\n",
       "    <tr>\n",
       "      <td>1</td>\n",
       "      <td>-3134406927080996569</td>\n",
       "    </tr>\n",
       "    <tr>\n",
       "      <td>2</td>\n",
       "      <td>-8474775423441576983</td>\n",
       "    </tr>\n",
       "    <tr>\n",
       "      <td>3</td>\n",
       "      <td>4878597757205818211</td>\n",
       "    </tr>\n",
       "    <tr>\n",
       "      <td>4</td>\n",
       "      <td>-4148533849307574754</td>\n",
       "    </tr>\n",
       "    <tr>\n",
       "      <td>...</td>\n",
       "      <td>...</td>\n",
       "    </tr>\n",
       "    <tr>\n",
       "      <td>26650</td>\n",
       "      <td>-8841887153794893028</td>\n",
       "    </tr>\n",
       "    <tr>\n",
       "      <td>26651</td>\n",
       "      <td>1373809106627248313</td>\n",
       "    </tr>\n",
       "    <tr>\n",
       "      <td>26652</td>\n",
       "      <td>8381582281825252345</td>\n",
       "    </tr>\n",
       "    <tr>\n",
       "      <td>26653</td>\n",
       "      <td>777835583064737189</td>\n",
       "    </tr>\n",
       "    <tr>\n",
       "      <td>26654</td>\n",
       "      <td>-3210215769811835131</td>\n",
       "    </tr>\n",
       "  </tbody>\n",
       "</table>\n",
       "<p>26655 rows × 1 columns</p>\n",
       "</div>"
      ],
      "text/plain": [
       "       cpf_cnpj_autor_encrypted\n",
       "0          -5441657587252619963\n",
       "1          -3134406927080996569\n",
       "2          -8474775423441576983\n",
       "3           4878597757205818211\n",
       "4          -4148533849307574754\n",
       "...                         ...\n",
       "26650      -8841887153794893028\n",
       "26651       1373809106627248313\n",
       "26652       8381582281825252345\n",
       "26653        777835583064737189\n",
       "26654      -3210215769811835131\n",
       "\n",
       "[26655 rows x 1 columns]"
      ]
     },
     "execution_count": 4,
     "metadata": {},
     "output_type": "execute_result"
    }
   ],
   "source": [
    "# set df\n",
    "df_anatel_exemplaria = pd.read_csv(anatel_exemplaria, low_memory=False)\n",
    "\n",
    "# separate columns\n",
    "df_anatel_exemplaria = df_anatel_exemplaria[['cpfusuario_encrypted', \n",
    "                                             'cnpjusuario_encrypted']]\n",
    "\n",
    "\n",
    "# merge cpf and cnpj unsing ***replace***\n",
    "df_anatel_exemplaria['cpfusuario_encrypted'] = df_anatel_exemplaria['cpfusuario_encrypted'].\\\n",
    "                                               replace(717768040883963444, \n",
    "                                                       df_anatel_exemplaria['cnpjusuario_encrypted'])\n",
    "\n",
    "# removing cnpjusuario_encrypted column\n",
    "df_anatel_exemplaria = df_anatel_exemplaria.drop(['cnpjusuario_encrypted'], axis=1)\n",
    "\n",
    "# rename columns\n",
    "df_anatel_exemplaria  = df_anatel_exemplaria.rename(columns={'cpfusuario_encrypted' : 'cpf_cnpj_autor_encrypted'})\n",
    "\n",
    "# head\n",
    "df_anatel_exemplaria\n",
    "#df_anatel_exemplaria.iloc[10:16]"
   ]
  },
  {
   "cell_type": "markdown",
   "metadata": {},
   "source": [
    "* **Usuarios df_consumidor_gov_exemplaria**\n",
    "\n",
    "Padronizei as colunas como 'cpf_cnpj_autor_encrypted' e 'data_abertura'"
   ]
  },
  {
   "cell_type": "code",
   "execution_count": 5,
   "metadata": {},
   "outputs": [
    {
     "data": {
      "text/html": [
       "<div>\n",
       "<style scoped>\n",
       "    .dataframe tbody tr th:only-of-type {\n",
       "        vertical-align: middle;\n",
       "    }\n",
       "\n",
       "    .dataframe tbody tr th {\n",
       "        vertical-align: top;\n",
       "    }\n",
       "\n",
       "    .dataframe thead th {\n",
       "        text-align: right;\n",
       "    }\n",
       "</style>\n",
       "<table border=\"1\" class=\"dataframe\">\n",
       "  <thead>\n",
       "    <tr style=\"text-align: right;\">\n",
       "      <th></th>\n",
       "      <th>cpf_cnpj_autor_encrypted</th>\n",
       "    </tr>\n",
       "  </thead>\n",
       "  <tbody>\n",
       "    <tr>\n",
       "      <td>0</td>\n",
       "      <td>-4794237001834406403</td>\n",
       "    </tr>\n",
       "    <tr>\n",
       "      <td>1</td>\n",
       "      <td>1325398072190658566</td>\n",
       "    </tr>\n",
       "    <tr>\n",
       "      <td>2</td>\n",
       "      <td>8058470283630806326</td>\n",
       "    </tr>\n",
       "    <tr>\n",
       "      <td>3</td>\n",
       "      <td>749007811995129604</td>\n",
       "    </tr>\n",
       "    <tr>\n",
       "      <td>4</td>\n",
       "      <td>1506815736802147118</td>\n",
       "    </tr>\n",
       "    <tr>\n",
       "      <td>...</td>\n",
       "      <td>...</td>\n",
       "    </tr>\n",
       "    <tr>\n",
       "      <td>1350</td>\n",
       "      <td>-364624387379906309</td>\n",
       "    </tr>\n",
       "    <tr>\n",
       "      <td>1351</td>\n",
       "      <td>-3609852661136971045</td>\n",
       "    </tr>\n",
       "    <tr>\n",
       "      <td>1352</td>\n",
       "      <td>2443212810582077002</td>\n",
       "    </tr>\n",
       "    <tr>\n",
       "      <td>1353</td>\n",
       "      <td>-1828705113066783334</td>\n",
       "    </tr>\n",
       "    <tr>\n",
       "      <td>1354</td>\n",
       "      <td>7753487017995743299</td>\n",
       "    </tr>\n",
       "  </tbody>\n",
       "</table>\n",
       "<p>1355 rows × 1 columns</p>\n",
       "</div>"
      ],
      "text/plain": [
       "      cpf_cnpj_autor_encrypted\n",
       "0         -4794237001834406403\n",
       "1          1325398072190658566\n",
       "2          8058470283630806326\n",
       "3           749007811995129604\n",
       "4          1506815736802147118\n",
       "...                        ...\n",
       "1350       -364624387379906309\n",
       "1351      -3609852661136971045\n",
       "1352       2443212810582077002\n",
       "1353      -1828705113066783334\n",
       "1354       7753487017995743299\n",
       "\n",
       "[1355 rows x 1 columns]"
      ]
     },
     "execution_count": 5,
     "metadata": {},
     "output_type": "execute_result"
    }
   ],
   "source": [
    "# set df\n",
    "df_consumidor_gov_exemplaria = pd.read_csv(consumidor_gov_exemplaria, sep=';', header=0)\n",
    "\n",
    "# separate columns\n",
    "df_consumidor_gov_exemplaria = df_consumidor_gov_exemplaria[['consumidor_encrypted']]\n",
    "\n",
    "# rename columns\n",
    "df_consumidor_gov_exemplaria = df_consumidor_gov_exemplaria.\\\n",
    "                               rename(columns={'consumidor_encrypted' : 'cpf_cnpj_autor_encrypted'})\n",
    "\n",
    "# head\n",
    "df_consumidor_gov_exemplaria"
   ]
  },
  {
   "cell_type": "markdown",
   "metadata": {},
   "source": [
    "* **Usuarios df_procon_exemplaria**\n",
    "\n",
    "Neste DF eu retirei a informação de horas da coluna 'data_cadastro' e no final padronizei as colunas como 'cpf_cnpj_autor_encrypted' e 'data_abertura'"
   ]
  },
  {
   "cell_type": "code",
   "execution_count": 6,
   "metadata": {},
   "outputs": [
    {
     "data": {
      "text/html": [
       "<div>\n",
       "<style scoped>\n",
       "    .dataframe tbody tr th:only-of-type {\n",
       "        vertical-align: middle;\n",
       "    }\n",
       "\n",
       "    .dataframe tbody tr th {\n",
       "        vertical-align: top;\n",
       "    }\n",
       "\n",
       "    .dataframe thead th {\n",
       "        text-align: right;\n",
       "    }\n",
       "</style>\n",
       "<table border=\"1\" class=\"dataframe\">\n",
       "  <thead>\n",
       "    <tr style=\"text-align: right;\">\n",
       "      <th></th>\n",
       "      <th>cpf_cnpj_autor_encrypted</th>\n",
       "    </tr>\n",
       "  </thead>\n",
       "  <tbody>\n",
       "    <tr>\n",
       "      <td>0</td>\n",
       "      <td>3595612307182592274</td>\n",
       "    </tr>\n",
       "    <tr>\n",
       "      <td>1</td>\n",
       "      <td>6780540249508724678</td>\n",
       "    </tr>\n",
       "    <tr>\n",
       "      <td>2</td>\n",
       "      <td>6650217391022818086</td>\n",
       "    </tr>\n",
       "    <tr>\n",
       "      <td>3</td>\n",
       "      <td>-5414531453164723086</td>\n",
       "    </tr>\n",
       "    <tr>\n",
       "      <td>4</td>\n",
       "      <td>8178896068058127343</td>\n",
       "    </tr>\n",
       "    <tr>\n",
       "      <td>...</td>\n",
       "      <td>...</td>\n",
       "    </tr>\n",
       "    <tr>\n",
       "      <td>2176</td>\n",
       "      <td>3244676038436254291</td>\n",
       "    </tr>\n",
       "    <tr>\n",
       "      <td>2177</td>\n",
       "      <td>6059362184047295199</td>\n",
       "    </tr>\n",
       "    <tr>\n",
       "      <td>2178</td>\n",
       "      <td>8871408721049412240</td>\n",
       "    </tr>\n",
       "    <tr>\n",
       "      <td>2179</td>\n",
       "      <td>-1171559400676203392</td>\n",
       "    </tr>\n",
       "    <tr>\n",
       "      <td>2180</td>\n",
       "      <td>-6646460513063743081</td>\n",
       "    </tr>\n",
       "  </tbody>\n",
       "</table>\n",
       "<p>2181 rows × 1 columns</p>\n",
       "</div>"
      ],
      "text/plain": [
       "      cpf_cnpj_autor_encrypted\n",
       "0          3595612307182592274\n",
       "1          6780540249508724678\n",
       "2          6650217391022818086\n",
       "3         -5414531453164723086\n",
       "4          8178896068058127343\n",
       "...                        ...\n",
       "2176       3244676038436254291\n",
       "2177       6059362184047295199\n",
       "2178       8871408721049412240\n",
       "2179      -1171559400676203392\n",
       "2180      -6646460513063743081\n",
       "\n",
       "[2181 rows x 1 columns]"
      ]
     },
     "execution_count": 6,
     "metadata": {},
     "output_type": "execute_result"
    }
   ],
   "source": [
    "# set df\n",
    "df_procon_exemplaria = pd.read_csv(procon_exemplaria, sep=';', header=0)\n",
    "\n",
    "# separate columns\n",
    "df_procon_exemplaria = df_procon_exemplaria[['cpf_cnpj_autor_encrypted']]\n",
    "    \n",
    "# rename columns\n",
    "df_procon_exemplaria = df_procon_exemplaria.rename(columns={'cpf_cnpj_autor_encrypted' : 'cpf_cnpj_autor_encrypted'})\n",
    "\n",
    "# head\n",
    "df_procon_exemplaria"
   ]
  },
  {
   "cell_type": "markdown",
   "metadata": {},
   "source": [
    "* **Reunião dos databases**"
   ]
  },
  {
   "cell_type": "code",
   "execution_count": 7,
   "metadata": {},
   "outputs": [
    {
     "data": {
      "text/html": [
       "<div>\n",
       "<style scoped>\n",
       "    .dataframe tbody tr th:only-of-type {\n",
       "        vertical-align: middle;\n",
       "    }\n",
       "\n",
       "    .dataframe tbody tr th {\n",
       "        vertical-align: top;\n",
       "    }\n",
       "\n",
       "    .dataframe thead th {\n",
       "        text-align: right;\n",
       "    }\n",
       "</style>\n",
       "<table border=\"1\" class=\"dataframe\">\n",
       "  <thead>\n",
       "    <tr style=\"text-align: right;\">\n",
       "      <th></th>\n",
       "      <th>cpf_cnpj_autor_encrypted</th>\n",
       "    </tr>\n",
       "  </thead>\n",
       "  <tbody>\n",
       "    <tr>\n",
       "      <td>0</td>\n",
       "      <td>-8278895064444567583</td>\n",
       "    </tr>\n",
       "    <tr>\n",
       "      <td>1</td>\n",
       "      <td>-7103211938884760171</td>\n",
       "    </tr>\n",
       "    <tr>\n",
       "      <td>2</td>\n",
       "      <td>2584592307964668520</td>\n",
       "    </tr>\n",
       "    <tr>\n",
       "      <td>3</td>\n",
       "      <td>-683452522137655996</td>\n",
       "    </tr>\n",
       "    <tr>\n",
       "      <td>4</td>\n",
       "      <td>-155693771024153410</td>\n",
       "    </tr>\n",
       "    <tr>\n",
       "      <td>...</td>\n",
       "      <td>...</td>\n",
       "    </tr>\n",
       "    <tr>\n",
       "      <td>29796</td>\n",
       "      <td>3244676038436254291</td>\n",
       "    </tr>\n",
       "    <tr>\n",
       "      <td>29797</td>\n",
       "      <td>6059362184047295199</td>\n",
       "    </tr>\n",
       "    <tr>\n",
       "      <td>29798</td>\n",
       "      <td>8871408721049412240</td>\n",
       "    </tr>\n",
       "    <tr>\n",
       "      <td>29799</td>\n",
       "      <td>-1171559400676203392</td>\n",
       "    </tr>\n",
       "    <tr>\n",
       "      <td>29800</td>\n",
       "      <td>-6646460513063743081</td>\n",
       "    </tr>\n",
       "  </tbody>\n",
       "</table>\n",
       "<p>29801 rows × 1 columns</p>\n",
       "</div>"
      ],
      "text/plain": [
       "       cpf_cnpj_autor_encrypted\n",
       "0          -8278895064444567583\n",
       "1          -7103211938884760171\n",
       "2           2584592307964668520\n",
       "3           -683452522137655996\n",
       "4           -155693771024153410\n",
       "...                         ...\n",
       "29796       3244676038436254291\n",
       "29797       6059362184047295199\n",
       "29798       8871408721049412240\n",
       "29799      -1171559400676203392\n",
       "29800      -6646460513063743081\n",
       "\n",
       "[29801 rows x 1 columns]"
      ]
     },
     "execution_count": 7,
     "metadata": {},
     "output_type": "execute_result"
    }
   ],
   "source": [
    "df_list = [df_jec_exemplaria, df_anatel_exemplaria, df_consumidor_gov_exemplaria, df_procon_exemplaria]\n",
    "df_complainers = pd.concat(df_list, ignore_index=True)\n",
    "\n",
    "# drop the duplicate rows\n",
    "df_complainers = df_complainers.drop_duplicates()\n",
    "df_complainers = df_complainers.reset_index()\n",
    "df_complainers = df_complainers.drop(['index'], axis=1)\n",
    "\n",
    "df_complainers"
   ]
  },
  {
   "cell_type": "markdown",
   "metadata": {},
   "source": [
    "# 2) Linkar os databases com o benchmark com as features"
   ]
  },
  {
   "cell_type": "markdown",
   "metadata": {},
   "source": [
    "# Amostra de dados da base benchmark"
   ]
  },
  {
   "cell_type": "markdown",
   "metadata": {},
   "source": [
    "chunk:\n",
    "\n",
    "https://hakin9.org/why-and-how-to-use-pandas-with-large-data-by-admond-lee/\n",
    "\n",
    "https://wiki.mylesb.ca/programming/python/pandas.html#snippets"
   ]
  },
  {
   "cell_type": "code",
   "execution_count": 8,
   "metadata": {},
   "outputs": [],
   "source": [
    "#list_clients = [[benchmark, benchmark2]]\n",
    "list_clients = [benchmark]"
   ]
  },
  {
   "cell_type": "code",
   "execution_count": 9,
   "metadata": {},
   "outputs": [],
   "source": [
    "client_chunks = []\n",
    "\n",
    "def benchmark_reader(list_clients, client_chunks):\n",
    "    for file in list_clients:\n",
    "\n",
    "            df_clients = pd.read_csv(file, sep = \";\", \n",
    "                                     header = 0, \n",
    "                                     index_col = False, \n",
    "                                     names = None, \n",
    "                                     low_memory = False, \n",
    "                                     chunksize = 10**5) \n",
    "\n",
    "            for chunk in df_clients:\n",
    "\n",
    "                new_clients = pd.DataFrame(chunk)\n",
    "\n",
    "                # filter data chunk with frac percentage\n",
    "                new_clients = new_clients.sample(frac = 0.045)\n",
    "\n",
    "                # saves to list\n",
    "                client_chunks.append(new_clients)\n",
    "\n",
    "    clients = pd.concat(client_chunks).reset_index(drop = True)\n",
    "\n",
    "    return clients"
   ]
  },
  {
   "cell_type": "code",
   "execution_count": 10,
   "metadata": {},
   "outputs": [],
   "source": [
    "#clients = benchmark_reader(list_clients, client_chunks)"
   ]
  },
  {
   "cell_type": "code",
   "execution_count": 11,
   "metadata": {},
   "outputs": [],
   "source": [
    "#clients"
   ]
  },
  {
   "cell_type": "markdown",
   "metadata": {},
   "source": [
    "# Salvar no arquivo checkpoint #1\n",
    "\n",
    "Precisa salvar apenas uma vez, depois comentar o codigo abaixo para não processar tudo de novo"
   ]
  },
  {
   "cell_type": "code",
   "execution_count": 12,
   "metadata": {},
   "outputs": [
    {
     "name": "stdout",
     "output_type": "stream",
     "text": [
      "Saved file: ../intermediate/sample.csv\n"
     ]
    }
   ],
   "source": [
    "# save in the file\n",
    "filename = '../intermediate/sample.csv'\n",
    "#clients.to_csv(filename, index=False)\n",
    "print('Saved file: ' + filename)"
   ]
  },
  {
   "cell_type": "markdown",
   "metadata": {},
   "source": [
    "# Carregar arquivo"
   ]
  },
  {
   "cell_type": "code",
   "execution_count": 13,
   "metadata": {},
   "outputs": [],
   "source": [
    "# reading file\n",
    "clients_sample = pd.read_csv(filename, low_memory=False)"
   ]
  },
  {
   "cell_type": "code",
   "execution_count": 14,
   "metadata": {},
   "outputs": [
    {
     "data": {
      "text/html": [
       "<div>\n",
       "<style scoped>\n",
       "    .dataframe tbody tr th:only-of-type {\n",
       "        vertical-align: middle;\n",
       "    }\n",
       "\n",
       "    .dataframe tbody tr th {\n",
       "        vertical-align: top;\n",
       "    }\n",
       "\n",
       "    .dataframe thead th {\n",
       "        text-align: right;\n",
       "    }\n",
       "</style>\n",
       "<table border=\"1\" class=\"dataframe\">\n",
       "  <thead>\n",
       "    <tr style=\"text-align: right;\">\n",
       "      <th></th>\n",
       "      <th>contract_code</th>\n",
       "      <th>cssocialsecno_encrypted</th>\n",
       "      <th>customer_tenure</th>\n",
       "      <th>port_in_flag</th>\n",
       "      <th>person_type</th>\n",
       "      <th>payment_method</th>\n",
       "      <th>rate_plan_code</th>\n",
       "      <th>rate_plan</th>\n",
       "      <th>inar_rate_plan</th>\n",
       "      <th>rateplan_fee</th>\n",
       "      <th>...</th>\n",
       "      <th>bytes_used_m2</th>\n",
       "      <th>bytes_used_m1</th>\n",
       "      <th>bytes_used_m0</th>\n",
       "      <th>bytes_exceeded_m5</th>\n",
       "      <th>bytes_exceeded_m4</th>\n",
       "      <th>bytes_exceeded_m3</th>\n",
       "      <th>bytes_exceeded_m2</th>\n",
       "      <th>bytes_exceeded_m1</th>\n",
       "      <th>bytes_exceeded_m0</th>\n",
       "      <th>contract_loyalty_flag</th>\n",
       "    </tr>\n",
       "  </thead>\n",
       "  <tbody>\n",
       "    <tr>\n",
       "      <td>0</td>\n",
       "      <td>18738726</td>\n",
       "      <td>-3.990137e+18</td>\n",
       "      <td>28.0</td>\n",
       "      <td>NaN</td>\n",
       "      <td>PF</td>\n",
       "      <td>Boleto</td>\n",
       "      <td>2222</td>\n",
       "      <td>Familia Voz+Dados 180/Pós/SMP</td>\n",
       "      <td>Y</td>\n",
       "      <td>33.84</td>\n",
       "      <td>...</td>\n",
       "      <td>NaN</td>\n",
       "      <td>NaN</td>\n",
       "      <td>NaN</td>\n",
       "      <td>NaN</td>\n",
       "      <td>NaN</td>\n",
       "      <td>NaN</td>\n",
       "      <td>NaN</td>\n",
       "      <td>NaN</td>\n",
       "      <td>NaN</td>\n",
       "      <td>0</td>\n",
       "    </tr>\n",
       "    <tr>\n",
       "      <td>1</td>\n",
       "      <td>17636679</td>\n",
       "      <td>-7.579518e+18</td>\n",
       "      <td>31.0</td>\n",
       "      <td>1.0</td>\n",
       "      <td>PF</td>\n",
       "      <td>Boleto</td>\n",
       "      <td>2276</td>\n",
       "      <td>CTR 1GB+100min 189/Pós/SMP</td>\n",
       "      <td>Y</td>\n",
       "      <td>86.09</td>\n",
       "      <td>...</td>\n",
       "      <td>NaN</td>\n",
       "      <td>NaN</td>\n",
       "      <td>NaN</td>\n",
       "      <td>NaN</td>\n",
       "      <td>NaN</td>\n",
       "      <td>NaN</td>\n",
       "      <td>NaN</td>\n",
       "      <td>NaN</td>\n",
       "      <td>NaN</td>\n",
       "      <td>1</td>\n",
       "    </tr>\n",
       "    <tr>\n",
       "      <td>2</td>\n",
       "      <td>19315156</td>\n",
       "      <td>7.493019e+18</td>\n",
       "      <td>13.0</td>\n",
       "      <td>1.0</td>\n",
       "      <td>PF</td>\n",
       "      <td>Boleto</td>\n",
       "      <td>2213</td>\n",
       "      <td>Smart 5GB+500min 178/Pós/SMP</td>\n",
       "      <td>Y</td>\n",
       "      <td>168.86</td>\n",
       "      <td>...</td>\n",
       "      <td>NaN</td>\n",
       "      <td>NaN</td>\n",
       "      <td>NaN</td>\n",
       "      <td>NaN</td>\n",
       "      <td>NaN</td>\n",
       "      <td>NaN</td>\n",
       "      <td>NaN</td>\n",
       "      <td>NaN</td>\n",
       "      <td>NaN</td>\n",
       "      <td>1</td>\n",
       "    </tr>\n",
       "    <tr>\n",
       "      <td>3</td>\n",
       "      <td>20323491</td>\n",
       "      <td>-6.766898e+18</td>\n",
       "      <td>31.0</td>\n",
       "      <td>NaN</td>\n",
       "      <td>PF</td>\n",
       "      <td>Boleto</td>\n",
       "      <td>2286</td>\n",
       "      <td>SMART5GB+Ilimitado193/Pós/SMP</td>\n",
       "      <td>Y</td>\n",
       "      <td>129.99</td>\n",
       "      <td>...</td>\n",
       "      <td>NaN</td>\n",
       "      <td>NaN</td>\n",
       "      <td>NaN</td>\n",
       "      <td>NaN</td>\n",
       "      <td>NaN</td>\n",
       "      <td>NaN</td>\n",
       "      <td>NaN</td>\n",
       "      <td>NaN</td>\n",
       "      <td>NaN</td>\n",
       "      <td>1</td>\n",
       "    </tr>\n",
       "    <tr>\n",
       "      <td>4</td>\n",
       "      <td>13319432</td>\n",
       "      <td>8.152916e+18</td>\n",
       "      <td>73.0</td>\n",
       "      <td>NaN</td>\n",
       "      <td>PF</td>\n",
       "      <td>Boleto</td>\n",
       "      <td>2250</td>\n",
       "      <td>CTR 2GB+ilimitado 194/PÓS/SMP</td>\n",
       "      <td>Y</td>\n",
       "      <td>89.99</td>\n",
       "      <td>...</td>\n",
       "      <td>NaN</td>\n",
       "      <td>NaN</td>\n",
       "      <td>NaN</td>\n",
       "      <td>NaN</td>\n",
       "      <td>NaN</td>\n",
       "      <td>NaN</td>\n",
       "      <td>NaN</td>\n",
       "      <td>NaN</td>\n",
       "      <td>NaN</td>\n",
       "      <td>0</td>\n",
       "    </tr>\n",
       "    <tr>\n",
       "      <td>...</td>\n",
       "      <td>...</td>\n",
       "      <td>...</td>\n",
       "      <td>...</td>\n",
       "      <td>...</td>\n",
       "      <td>...</td>\n",
       "      <td>...</td>\n",
       "      <td>...</td>\n",
       "      <td>...</td>\n",
       "      <td>...</td>\n",
       "      <td>...</td>\n",
       "      <td>...</td>\n",
       "      <td>...</td>\n",
       "      <td>...</td>\n",
       "      <td>...</td>\n",
       "      <td>...</td>\n",
       "      <td>...</td>\n",
       "      <td>...</td>\n",
       "      <td>...</td>\n",
       "      <td>...</td>\n",
       "      <td>...</td>\n",
       "      <td>...</td>\n",
       "    </tr>\n",
       "    <tr>\n",
       "      <td>126330</td>\n",
       "      <td>16838107</td>\n",
       "      <td>-7.545327e+18</td>\n",
       "      <td>41.0</td>\n",
       "      <td>NaN</td>\n",
       "      <td>PF</td>\n",
       "      <td>Boleto</td>\n",
       "      <td>2124</td>\n",
       "      <td>3G Smart 300P - 027/PÓS/SMP</td>\n",
       "      <td>Y</td>\n",
       "      <td>145.18</td>\n",
       "      <td>...</td>\n",
       "      <td>NaN</td>\n",
       "      <td>NaN</td>\n",
       "      <td>NaN</td>\n",
       "      <td>NaN</td>\n",
       "      <td>NaN</td>\n",
       "      <td>NaN</td>\n",
       "      <td>NaN</td>\n",
       "      <td>NaN</td>\n",
       "      <td>NaN</td>\n",
       "      <td>0</td>\n",
       "    </tr>\n",
       "    <tr>\n",
       "      <td>126331</td>\n",
       "      <td>18228912</td>\n",
       "      <td>6.684081e+18</td>\n",
       "      <td>20.0</td>\n",
       "      <td>1.0</td>\n",
       "      <td>PF</td>\n",
       "      <td>Debito Automatico</td>\n",
       "      <td>2213</td>\n",
       "      <td>Smart 5GB+500min 178/Pós/SMP</td>\n",
       "      <td>Y</td>\n",
       "      <td>168.86</td>\n",
       "      <td>...</td>\n",
       "      <td>NaN</td>\n",
       "      <td>NaN</td>\n",
       "      <td>NaN</td>\n",
       "      <td>NaN</td>\n",
       "      <td>NaN</td>\n",
       "      <td>NaN</td>\n",
       "      <td>NaN</td>\n",
       "      <td>NaN</td>\n",
       "      <td>NaN</td>\n",
       "      <td>1</td>\n",
       "    </tr>\n",
       "    <tr>\n",
       "      <td>126332</td>\n",
       "      <td>18908315</td>\n",
       "      <td>-5.391399e+18</td>\n",
       "      <td>15.0</td>\n",
       "      <td>NaN</td>\n",
       "      <td>PF</td>\n",
       "      <td>Debito Automatico</td>\n",
       "      <td>2286</td>\n",
       "      <td>SMART5GB+Ilimitado193/Pós/SMP</td>\n",
       "      <td>Y</td>\n",
       "      <td>129.99</td>\n",
       "      <td>...</td>\n",
       "      <td>NaN</td>\n",
       "      <td>NaN</td>\n",
       "      <td>NaN</td>\n",
       "      <td>NaN</td>\n",
       "      <td>NaN</td>\n",
       "      <td>NaN</td>\n",
       "      <td>NaN</td>\n",
       "      <td>NaN</td>\n",
       "      <td>NaN</td>\n",
       "      <td>1</td>\n",
       "    </tr>\n",
       "    <tr>\n",
       "      <td>126333</td>\n",
       "      <td>21401066</td>\n",
       "      <td>2.432392e+18</td>\n",
       "      <td>3.0</td>\n",
       "      <td>1.0</td>\n",
       "      <td>PF</td>\n",
       "      <td>Boleto</td>\n",
       "      <td>2250</td>\n",
       "      <td>CTR 2GB+ilimitado 194/PÓS/SMP</td>\n",
       "      <td>Y</td>\n",
       "      <td>89.99</td>\n",
       "      <td>...</td>\n",
       "      <td>NaN</td>\n",
       "      <td>NaN</td>\n",
       "      <td>NaN</td>\n",
       "      <td>NaN</td>\n",
       "      <td>NaN</td>\n",
       "      <td>NaN</td>\n",
       "      <td>NaN</td>\n",
       "      <td>NaN</td>\n",
       "      <td>NaN</td>\n",
       "      <td>0</td>\n",
       "    </tr>\n",
       "    <tr>\n",
       "      <td>126334</td>\n",
       "      <td>14668179</td>\n",
       "      <td>-7.937577e+18</td>\n",
       "      <td>101.0</td>\n",
       "      <td>NaN</td>\n",
       "      <td>PJ</td>\n",
       "      <td>Boleto</td>\n",
       "      <td>2068</td>\n",
       "      <td>Intern iRock G PJ 012/PÓS/SMP</td>\n",
       "      <td>Y</td>\n",
       "      <td>114.98</td>\n",
       "      <td>...</td>\n",
       "      <td>NaN</td>\n",
       "      <td>NaN</td>\n",
       "      <td>NaN</td>\n",
       "      <td>NaN</td>\n",
       "      <td>NaN</td>\n",
       "      <td>NaN</td>\n",
       "      <td>NaN</td>\n",
       "      <td>NaN</td>\n",
       "      <td>NaN</td>\n",
       "      <td>0</td>\n",
       "    </tr>\n",
       "  </tbody>\n",
       "</table>\n",
       "<p>126335 rows × 373 columns</p>\n",
       "</div>"
      ],
      "text/plain": [
       "        contract_code  cssocialsecno_encrypted  customer_tenure  port_in_flag  \\\n",
       "0            18738726            -3.990137e+18             28.0           NaN   \n",
       "1            17636679            -7.579518e+18             31.0           1.0   \n",
       "2            19315156             7.493019e+18             13.0           1.0   \n",
       "3            20323491            -6.766898e+18             31.0           NaN   \n",
       "4            13319432             8.152916e+18             73.0           NaN   \n",
       "...               ...                      ...              ...           ...   \n",
       "126330       16838107            -7.545327e+18             41.0           NaN   \n",
       "126331       18228912             6.684081e+18             20.0           1.0   \n",
       "126332       18908315            -5.391399e+18             15.0           NaN   \n",
       "126333       21401066             2.432392e+18              3.0           1.0   \n",
       "126334       14668179            -7.937577e+18            101.0           NaN   \n",
       "\n",
       "       person_type     payment_method  rate_plan_code  \\\n",
       "0               PF             Boleto            2222   \n",
       "1               PF             Boleto            2276   \n",
       "2               PF             Boleto            2213   \n",
       "3               PF             Boleto            2286   \n",
       "4               PF             Boleto            2250   \n",
       "...            ...                ...             ...   \n",
       "126330          PF             Boleto            2124   \n",
       "126331          PF  Debito Automatico            2213   \n",
       "126332          PF  Debito Automatico            2286   \n",
       "126333          PF             Boleto            2250   \n",
       "126334          PJ             Boleto            2068   \n",
       "\n",
       "                            rate_plan inar_rate_plan  rateplan_fee  ...  \\\n",
       "0       Familia Voz+Dados 180/Pós/SMP              Y         33.84  ...   \n",
       "1          CTR 1GB+100min 189/Pós/SMP              Y         86.09  ...   \n",
       "2        Smart 5GB+500min 178/Pós/SMP              Y        168.86  ...   \n",
       "3       SMART5GB+Ilimitado193/Pós/SMP              Y        129.99  ...   \n",
       "4       CTR 2GB+ilimitado 194/PÓS/SMP              Y         89.99  ...   \n",
       "...                               ...            ...           ...  ...   \n",
       "126330    3G Smart 300P - 027/PÓS/SMP              Y        145.18  ...   \n",
       "126331   Smart 5GB+500min 178/Pós/SMP              Y        168.86  ...   \n",
       "126332  SMART5GB+Ilimitado193/Pós/SMP              Y        129.99  ...   \n",
       "126333  CTR 2GB+ilimitado 194/PÓS/SMP              Y         89.99  ...   \n",
       "126334  Intern iRock G PJ 012/PÓS/SMP              Y        114.98  ...   \n",
       "\n",
       "        bytes_used_m2  bytes_used_m1  bytes_used_m0  bytes_exceeded_m5  \\\n",
       "0                 NaN            NaN            NaN                NaN   \n",
       "1                 NaN            NaN            NaN                NaN   \n",
       "2                 NaN            NaN            NaN                NaN   \n",
       "3                 NaN            NaN            NaN                NaN   \n",
       "4                 NaN            NaN            NaN                NaN   \n",
       "...               ...            ...            ...                ...   \n",
       "126330            NaN            NaN            NaN                NaN   \n",
       "126331            NaN            NaN            NaN                NaN   \n",
       "126332            NaN            NaN            NaN                NaN   \n",
       "126333            NaN            NaN            NaN                NaN   \n",
       "126334            NaN            NaN            NaN                NaN   \n",
       "\n",
       "        bytes_exceeded_m4 bytes_exceeded_m3 bytes_exceeded_m2  \\\n",
       "0                     NaN               NaN               NaN   \n",
       "1                     NaN               NaN               NaN   \n",
       "2                     NaN               NaN               NaN   \n",
       "3                     NaN               NaN               NaN   \n",
       "4                     NaN               NaN               NaN   \n",
       "...                   ...               ...               ...   \n",
       "126330                NaN               NaN               NaN   \n",
       "126331                NaN               NaN               NaN   \n",
       "126332                NaN               NaN               NaN   \n",
       "126333                NaN               NaN               NaN   \n",
       "126334                NaN               NaN               NaN   \n",
       "\n",
       "       bytes_exceeded_m1  bytes_exceeded_m0  contract_loyalty_flag  \n",
       "0                    NaN                NaN                      0  \n",
       "1                    NaN                NaN                      1  \n",
       "2                    NaN                NaN                      1  \n",
       "3                    NaN                NaN                      1  \n",
       "4                    NaN                NaN                      0  \n",
       "...                  ...                ...                    ...  \n",
       "126330               NaN                NaN                      0  \n",
       "126331               NaN                NaN                      1  \n",
       "126332               NaN                NaN                      1  \n",
       "126333               NaN                NaN                      0  \n",
       "126334               NaN                NaN                      0  \n",
       "\n",
       "[126335 rows x 373 columns]"
      ]
     },
     "execution_count": 14,
     "metadata": {},
     "output_type": "execute_result"
    }
   ],
   "source": [
    "clients_sample"
   ]
  },
  {
   "cell_type": "markdown",
   "metadata": {},
   "source": [
    "* Link com as features do benchmark\n",
    "\n",
    "https://docs.google.com/spreadsheets/d/1BFJUHenj_vQC8yS_Vhzoj9hkORohLEPJ/edit#gid=768356393"
   ]
  },
  {
   "cell_type": "code",
   "execution_count": 15,
   "metadata": {},
   "outputs": [],
   "source": [
    "# features\n",
    "features = ['contract_code', 'cssocialsecno_encrypted', 'customer_tenure', 'port_in_flag', 'person_type', \n",
    "            'payment_method', 'rate_plan_code', 'inar_rate_plan', 'rateplan_fee', 'rateplan_discount_fee', \n",
    "            'rateplan_discount_qty', 'services_fee', 'services_discount_fee', 'services_discount_qty', \n",
    "            'contract_status', 'contract_status_reason', 'm0_qt_involuntary_suspension', \n",
    "            'm1_qt_involuntary_suspension', 'm2_qt_involuntary_suspension', 'm3_qt_involuntary_suspension', \n",
    "            'm4_qt_involuntary_suspension', 'm5_qt_involuntary_suspension', 'm0_qt_voluntary_suspension', \n",
    "            'm1_qt_voluntary_suspension', 'm2_qt_voluntary_suspension', 'm3_qt_voluntary_suspension', \n",
    "            'm4_qt_voluntary_suspension', 'm5_qt_voluntary_suspension', 'm0_rate_plan_amt', 'm0_service_amt', \n",
    "            'm1_rate_plan_amt', 'm1_service_amt', 'm2_rate_plan_amt', 'm2_service_amt', 'm3_rate_plan_amt', \n",
    "            'm3_service_amt', 'm4_rate_plan_amt', 'm4_service_amt', 'm5_rate_plan_amt', 'm5_service_amt', \n",
    "            'nxt_3g_traffic_volume_m0', \n",
    "            'nxt_4g_traffic_volume_m0', 'vivo_traffic_volume_m0']\n",
    "\n",
    "# set features in dataframe\n",
    "clients_sample = clients_sample[features]\n",
    "\n",
    "# drop cssocialsecno_encrypted rows that have nan\n",
    "clients_sample = clients_sample.dropna(subset=['cssocialsecno_encrypted'])\n",
    "\n",
    "# fill some features that cannot receive fillna mean\n",
    "clients_sample[\"port_in_flag\"] = clients_sample[\"port_in_flag\"].fillna(0)"
   ]
  },
  {
   "cell_type": "code",
   "execution_count": 16,
   "metadata": {},
   "outputs": [],
   "source": [
    "def just_check_nan(df):\n",
    "    # Check NaN Pandas and Numpy\n",
    "    missing_val_count_by_column = (df.isna().sum())\n",
    "\n",
    "    columns_with_nan = missing_val_count_by_column[missing_val_count_by_column > 0]\n",
    "    print('Dados com NaN:')\n",
    "    print(columns_with_nan)\n",
    "    print('')\n",
    "    print('columns_with_nan.shape', columns_with_nan.shape)\n",
    "    print('')"
   ]
  },
  {
   "cell_type": "code",
   "execution_count": 17,
   "metadata": {},
   "outputs": [
    {
     "name": "stdout",
     "output_type": "stream",
     "text": [
      "Dados com NaN:\n",
      "customer_tenure                  1136\n",
      "rateplan_discount_qty           19283\n",
      "services_discount_qty           75437\n",
      "m0_qt_involuntary_suspension    64400\n",
      "m1_qt_involuntary_suspension    64400\n",
      "m2_qt_involuntary_suspension    64400\n",
      "m3_qt_involuntary_suspension    64400\n",
      "m4_qt_involuntary_suspension    64400\n",
      "m5_qt_involuntary_suspension    64400\n",
      "m0_qt_voluntary_suspension      64400\n",
      "m1_qt_voluntary_suspension      64400\n",
      "m2_qt_voluntary_suspension      64400\n",
      "m3_qt_voluntary_suspension      64400\n",
      "m4_qt_voluntary_suspension      64400\n",
      "m5_qt_voluntary_suspension      64400\n",
      "m0_rate_plan_amt                 2532\n",
      "m0_service_amt                   2532\n",
      "m1_rate_plan_amt                 2532\n",
      "m1_service_amt                   2532\n",
      "m2_rate_plan_amt                 2532\n",
      "m2_service_amt                   2532\n",
      "m3_rate_plan_amt                 2532\n",
      "m3_service_amt                   2532\n",
      "m4_rate_plan_amt                 2532\n",
      "m4_service_amt                   2532\n",
      "m5_rate_plan_amt                 2532\n",
      "m5_service_amt                   2532\n",
      "nxt_3g_traffic_volume_m0        11283\n",
      "nxt_4g_traffic_volume_m0        11279\n",
      "vivo_traffic_volume_m0          11279\n",
      "dtype: int64\n",
      "\n",
      "columns_with_nan.shape (30,)\n",
      "\n"
     ]
    }
   ],
   "source": [
    "just_check_nan(clients_sample)"
   ]
  },
  {
   "cell_type": "markdown",
   "metadata": {},
   "source": [
    "# 3) Verificar dados faltantes NaN\n",
    "\n",
    "Para trabalhar com valores nulos usar o isna, muito util para determinar quantidade de NaN, e fillna para preencher valores faltantes"
   ]
  },
  {
   "cell_type": "code",
   "execution_count": 18,
   "metadata": {},
   "outputs": [],
   "source": [
    "def fix_nan(df):\n",
    "    # Check NaN Pandas and Numpy\n",
    "    missing_val_count_by_column = (df.isna().sum())\n",
    "\n",
    "    columns_with_nan = missing_val_count_by_column[missing_val_count_by_column > 0]\n",
    "    print('Dados com NaN:')\n",
    "    print(columns_with_nan)\n",
    "    print('')\n",
    "    print('columns_with_nan.shape', columns_with_nan.shape)\n",
    "    print('')\n",
    "\n",
    "    # if database have some NA column, fillna this\n",
    "    if (columns_with_nan.any() == 1):\n",
    "        print('df.shape antes de retirar NaN', df.shape)\n",
    "        print('')\n",
    "        print('================= DataFrame COM NaN =================')\n",
    "        print('')\n",
    "        #df[column] = df[column].fillna('Other')\n",
    "        df = df.fillna(df.mean())\n",
    "        print('df.shape depois de retirar NaN', df.shape)\n",
    "        print('')\n",
    "    else:\n",
    "        print('================= DataFrame SEM NaN =================')\n",
    "        print('')\n",
    "    \n",
    "    return df"
   ]
  },
  {
   "cell_type": "code",
   "execution_count": 19,
   "metadata": {},
   "outputs": [],
   "source": [
    "#clients_sample = fix_nan(clients_sample)"
   ]
  },
  {
   "cell_type": "markdown",
   "metadata": {},
   "source": [
    "# Salvar no arquivo checkpoint #2\n",
    "\n",
    "Precisa salvar apenas uma vez, depois comentar o codigo abaixo para não processar tudo de novo"
   ]
  },
  {
   "cell_type": "code",
   "execution_count": 20,
   "metadata": {},
   "outputs": [
    {
     "name": "stdout",
     "output_type": "stream",
     "text": [
      "Saved file: ../intermediate/sample_without_nan.csv\n"
     ]
    }
   ],
   "source": [
    "# save in the file\n",
    "filename_without_nan = '../intermediate/sample_without_nan.csv'\n",
    "#clients_sample.to_csv(filename_without_nan, index=False)\n",
    "print('Saved file: ' + filename_without_nan)"
   ]
  },
  {
   "cell_type": "markdown",
   "metadata": {},
   "source": [
    "# Carregar arquivo"
   ]
  },
  {
   "cell_type": "code",
   "execution_count": 21,
   "metadata": {},
   "outputs": [],
   "source": [
    "# reading file\n",
    "clients_sample = pd.read_csv(filename_without_nan, low_memory=False)"
   ]
  },
  {
   "cell_type": "code",
   "execution_count": 22,
   "metadata": {},
   "outputs": [
    {
     "name": "stdout",
     "output_type": "stream",
     "text": [
      "Dados com NaN:\n",
      "Series([], dtype: int64)\n",
      "\n",
      "columns_with_nan.shape (0,)\n",
      "\n"
     ]
    }
   ],
   "source": [
    "just_check_nan(clients_sample)"
   ]
  },
  {
   "cell_type": "markdown",
   "metadata": {},
   "source": [
    "# 4) Definição de target e features"
   ]
  },
  {
   "cell_type": "markdown",
   "metadata": {},
   "source": [
    "# Target y"
   ]
  },
  {
   "cell_type": "code",
   "execution_count": 23,
   "metadata": {},
   "outputs": [],
   "source": [
    "def y_target(clients_sample, df_complainers):\n",
    "    y = [0 for i in range(len(clients_sample))]\n",
    "\n",
    "    for index, row in clients_sample.iterrows():\n",
    "        # compara pra cada linha de df_complainers['cpf_cnpj_autor_encrypted'] com todas de clients_sample['cssocialsecno_encrypted']\n",
    "        check = (df_complainers.cpf_cnpj_autor_encrypted == row.cssocialsecno_encrypted)\n",
    "\n",
    "        if check.any(): \n",
    "            y[index] = 1\n",
    "\n",
    "    print('Da base de ' + str(len(clients_sample)) + ' clientes, ' + str(y.count(1)) + \n",
    "    ' deles são reclamantes, ou seja, %.4f' %float((Counter(y)[1]/len(clients_sample))*100) + '%')\n",
    "            \n",
    "    return y"
   ]
  },
  {
   "cell_type": "code",
   "execution_count": 24,
   "metadata": {},
   "outputs": [
    {
     "name": "stdout",
     "output_type": "stream",
     "text": [
      "Da base de 126303 clientes, 1371 deles são reclamantes, ou seja, 1.0855%\n"
     ]
    }
   ],
   "source": [
    "y = y_target(clients_sample, df_complainers)"
   ]
  },
  {
   "cell_type": "markdown",
   "metadata": {},
   "source": [
    "# Salvar no arquivo checkpoint #3"
   ]
  },
  {
   "cell_type": "code",
   "execution_count": 25,
   "metadata": {},
   "outputs": [
    {
     "name": "stdout",
     "output_type": "stream",
     "text": [
      "Saved file: ../intermediate/target.csv\n"
     ]
    }
   ],
   "source": [
    "# save in the file\n",
    "target = '../intermediate/target.csv'\n",
    "#np.savetxt(target, y, delimiter=\",\", fmt='%s')\n",
    "print('Saved file: ' + target)"
   ]
  },
  {
   "cell_type": "markdown",
   "metadata": {},
   "source": [
    "# Carregar arquivo"
   ]
  },
  {
   "cell_type": "code",
   "execution_count": 26,
   "metadata": {},
   "outputs": [
    {
     "name": "stdout",
     "output_type": "stream",
     "text": [
      "Da base de 126303 clientes, 1371 deles são reclamantes, ou seja, 1.0855%\n"
     ]
    }
   ],
   "source": [
    "# reading file\n",
    "y = np.loadtxt(target, dtype=int).tolist()\n",
    "\n",
    "print('Da base de ' + str(len(clients_sample)) + ' clientes, ' + str(Counter(y)[1]) + \n",
    "      ' deles são reclamantes, ou seja, %.4f' %float((Counter(y)[1]/len(clients_sample))*100) + '%')"
   ]
  },
  {
   "cell_type": "code",
   "execution_count": 27,
   "metadata": {},
   "outputs": [
    {
     "data": {
      "text/plain": [
       "Counter({0: 124932, 1: 1371})"
      ]
     },
     "execution_count": 27,
     "metadata": {},
     "output_type": "execute_result"
    }
   ],
   "source": [
    "Counter(y)"
   ]
  },
  {
   "cell_type": "markdown",
   "metadata": {},
   "source": [
    "# Features X"
   ]
  },
  {
   "cell_type": "code",
   "execution_count": 28,
   "metadata": {},
   "outputs": [
    {
     "data": {
      "text/html": [
       "<div>\n",
       "<style scoped>\n",
       "    .dataframe tbody tr th:only-of-type {\n",
       "        vertical-align: middle;\n",
       "    }\n",
       "\n",
       "    .dataframe tbody tr th {\n",
       "        vertical-align: top;\n",
       "    }\n",
       "\n",
       "    .dataframe thead th {\n",
       "        text-align: right;\n",
       "    }\n",
       "</style>\n",
       "<table border=\"1\" class=\"dataframe\">\n",
       "  <thead>\n",
       "    <tr style=\"text-align: right;\">\n",
       "      <th></th>\n",
       "      <th>cssocialsecno_encrypted</th>\n",
       "      <th>customer_tenure</th>\n",
       "      <th>port_in_flag</th>\n",
       "      <th>rate_plan_code</th>\n",
       "      <th>rateplan_fee</th>\n",
       "      <th>rateplan_discount_fee</th>\n",
       "      <th>rateplan_discount_qty</th>\n",
       "      <th>services_fee</th>\n",
       "      <th>services_discount_fee</th>\n",
       "      <th>services_discount_qty</th>\n",
       "      <th>...</th>\n",
       "      <th>billing_ticket_m1</th>\n",
       "      <th>billing_ticket_m2</th>\n",
       "      <th>billing_ticket_m3</th>\n",
       "      <th>billing_ticket_m4</th>\n",
       "      <th>billing_ticket_m5</th>\n",
       "      <th>m1_call_term_err</th>\n",
       "      <th>m2_call_term_err</th>\n",
       "      <th>m3_call_term_err</th>\n",
       "      <th>m4_call_term_err</th>\n",
       "      <th>m5_call_term_err</th>\n",
       "    </tr>\n",
       "  </thead>\n",
       "  <tbody>\n",
       "    <tr>\n",
       "      <td>0</td>\n",
       "      <td>-3.990137e+18</td>\n",
       "      <td>28.0</td>\n",
       "      <td>0.0</td>\n",
       "      <td>2222</td>\n",
       "      <td>33.84</td>\n",
       "      <td>13.01</td>\n",
       "      <td>2.0</td>\n",
       "      <td>0.00</td>\n",
       "      <td>0.00</td>\n",
       "      <td>0.0</td>\n",
       "      <td>...</td>\n",
       "      <td>0.0</td>\n",
       "      <td>0.0</td>\n",
       "      <td>0.0</td>\n",
       "      <td>0.0</td>\n",
       "      <td>0.0</td>\n",
       "      <td>321.0</td>\n",
       "      <td>324.0</td>\n",
       "      <td>325.0</td>\n",
       "      <td>325.0</td>\n",
       "      <td>318.0</td>\n",
       "    </tr>\n",
       "    <tr>\n",
       "      <td>1</td>\n",
       "      <td>-7.579518e+18</td>\n",
       "      <td>31.0</td>\n",
       "      <td>1.0</td>\n",
       "      <td>2276</td>\n",
       "      <td>86.09</td>\n",
       "      <td>30.13</td>\n",
       "      <td>5.0</td>\n",
       "      <td>0.00</td>\n",
       "      <td>0.00</td>\n",
       "      <td>0.0</td>\n",
       "      <td>...</td>\n",
       "      <td>0.0</td>\n",
       "      <td>0.0</td>\n",
       "      <td>0.0</td>\n",
       "      <td>0.0</td>\n",
       "      <td>0.0</td>\n",
       "      <td>156.0</td>\n",
       "      <td>165.0</td>\n",
       "      <td>162.0</td>\n",
       "      <td>152.0</td>\n",
       "      <td>153.0</td>\n",
       "    </tr>\n",
       "    <tr>\n",
       "      <td>2</td>\n",
       "      <td>7.493019e+18</td>\n",
       "      <td>13.0</td>\n",
       "      <td>1.0</td>\n",
       "      <td>2213</td>\n",
       "      <td>168.86</td>\n",
       "      <td>91.43</td>\n",
       "      <td>3.0</td>\n",
       "      <td>0.00</td>\n",
       "      <td>0.00</td>\n",
       "      <td>0.0</td>\n",
       "      <td>...</td>\n",
       "      <td>0.0</td>\n",
       "      <td>0.0</td>\n",
       "      <td>0.0</td>\n",
       "      <td>0.0</td>\n",
       "      <td>0.0</td>\n",
       "      <td>252.0</td>\n",
       "      <td>246.0</td>\n",
       "      <td>257.0</td>\n",
       "      <td>261.0</td>\n",
       "      <td>239.0</td>\n",
       "    </tr>\n",
       "    <tr>\n",
       "      <td>3</td>\n",
       "      <td>-6.766898e+18</td>\n",
       "      <td>31.0</td>\n",
       "      <td>0.0</td>\n",
       "      <td>2286</td>\n",
       "      <td>129.99</td>\n",
       "      <td>30.00</td>\n",
       "      <td>5.0</td>\n",
       "      <td>34.99</td>\n",
       "      <td>34.99</td>\n",
       "      <td>12.0</td>\n",
       "      <td>...</td>\n",
       "      <td>0.0</td>\n",
       "      <td>1.0</td>\n",
       "      <td>0.0</td>\n",
       "      <td>0.0</td>\n",
       "      <td>0.0</td>\n",
       "      <td>447.0</td>\n",
       "      <td>454.0</td>\n",
       "      <td>454.0</td>\n",
       "      <td>456.0</td>\n",
       "      <td>452.0</td>\n",
       "    </tr>\n",
       "    <tr>\n",
       "      <td>4</td>\n",
       "      <td>8.152916e+18</td>\n",
       "      <td>73.0</td>\n",
       "      <td>0.0</td>\n",
       "      <td>2250</td>\n",
       "      <td>89.99</td>\n",
       "      <td>30.00</td>\n",
       "      <td>12.0</td>\n",
       "      <td>24.99</td>\n",
       "      <td>24.99</td>\n",
       "      <td>12.0</td>\n",
       "      <td>...</td>\n",
       "      <td>0.0</td>\n",
       "      <td>1.0</td>\n",
       "      <td>0.0</td>\n",
       "      <td>0.0</td>\n",
       "      <td>0.0</td>\n",
       "      <td>439.0</td>\n",
       "      <td>447.0</td>\n",
       "      <td>438.0</td>\n",
       "      <td>441.0</td>\n",
       "      <td>443.0</td>\n",
       "    </tr>\n",
       "    <tr>\n",
       "      <td>...</td>\n",
       "      <td>...</td>\n",
       "      <td>...</td>\n",
       "      <td>...</td>\n",
       "      <td>...</td>\n",
       "      <td>...</td>\n",
       "      <td>...</td>\n",
       "      <td>...</td>\n",
       "      <td>...</td>\n",
       "      <td>...</td>\n",
       "      <td>...</td>\n",
       "      <td>...</td>\n",
       "      <td>...</td>\n",
       "      <td>...</td>\n",
       "      <td>...</td>\n",
       "      <td>...</td>\n",
       "      <td>...</td>\n",
       "      <td>...</td>\n",
       "      <td>...</td>\n",
       "      <td>...</td>\n",
       "      <td>...</td>\n",
       "      <td>...</td>\n",
       "    </tr>\n",
       "    <tr>\n",
       "      <td>126298</td>\n",
       "      <td>-7.545327e+18</td>\n",
       "      <td>41.0</td>\n",
       "      <td>0.0</td>\n",
       "      <td>2124</td>\n",
       "      <td>145.18</td>\n",
       "      <td>0.00</td>\n",
       "      <td>0.0</td>\n",
       "      <td>0.00</td>\n",
       "      <td>0.00</td>\n",
       "      <td>0.0</td>\n",
       "      <td>...</td>\n",
       "      <td>0.0</td>\n",
       "      <td>0.0</td>\n",
       "      <td>0.0</td>\n",
       "      <td>0.0</td>\n",
       "      <td>0.0</td>\n",
       "      <td>377.0</td>\n",
       "      <td>367.0</td>\n",
       "      <td>366.0</td>\n",
       "      <td>353.0</td>\n",
       "      <td>373.0</td>\n",
       "    </tr>\n",
       "    <tr>\n",
       "      <td>126299</td>\n",
       "      <td>6.684081e+18</td>\n",
       "      <td>20.0</td>\n",
       "      <td>1.0</td>\n",
       "      <td>2213</td>\n",
       "      <td>168.86</td>\n",
       "      <td>36.26</td>\n",
       "      <td>5.0</td>\n",
       "      <td>44.98</td>\n",
       "      <td>44.98</td>\n",
       "      <td>9.0</td>\n",
       "      <td>...</td>\n",
       "      <td>0.0</td>\n",
       "      <td>0.0</td>\n",
       "      <td>0.0</td>\n",
       "      <td>0.0</td>\n",
       "      <td>0.0</td>\n",
       "      <td>422.0</td>\n",
       "      <td>433.0</td>\n",
       "      <td>428.0</td>\n",
       "      <td>423.0</td>\n",
       "      <td>450.0</td>\n",
       "    </tr>\n",
       "    <tr>\n",
       "      <td>126300</td>\n",
       "      <td>-5.391399e+18</td>\n",
       "      <td>15.0</td>\n",
       "      <td>0.0</td>\n",
       "      <td>2286</td>\n",
       "      <td>129.99</td>\n",
       "      <td>30.00</td>\n",
       "      <td>10.0</td>\n",
       "      <td>34.99</td>\n",
       "      <td>34.99</td>\n",
       "      <td>11.0</td>\n",
       "      <td>...</td>\n",
       "      <td>0.0</td>\n",
       "      <td>0.0</td>\n",
       "      <td>0.0</td>\n",
       "      <td>0.0</td>\n",
       "      <td>0.0</td>\n",
       "      <td>603.0</td>\n",
       "      <td>619.0</td>\n",
       "      <td>623.0</td>\n",
       "      <td>634.0</td>\n",
       "      <td>621.0</td>\n",
       "    </tr>\n",
       "    <tr>\n",
       "      <td>126301</td>\n",
       "      <td>2.432392e+18</td>\n",
       "      <td>3.0</td>\n",
       "      <td>1.0</td>\n",
       "      <td>2250</td>\n",
       "      <td>89.99</td>\n",
       "      <td>30.00</td>\n",
       "      <td>12.0</td>\n",
       "      <td>24.99</td>\n",
       "      <td>24.99</td>\n",
       "      <td>12.0</td>\n",
       "      <td>...</td>\n",
       "      <td>0.0</td>\n",
       "      <td>0.0</td>\n",
       "      <td>0.0</td>\n",
       "      <td>0.0</td>\n",
       "      <td>0.0</td>\n",
       "      <td>66.0</td>\n",
       "      <td>71.0</td>\n",
       "      <td>71.0</td>\n",
       "      <td>71.0</td>\n",
       "      <td>71.0</td>\n",
       "    </tr>\n",
       "    <tr>\n",
       "      <td>126302</td>\n",
       "      <td>-7.937577e+18</td>\n",
       "      <td>101.0</td>\n",
       "      <td>0.0</td>\n",
       "      <td>2068</td>\n",
       "      <td>114.98</td>\n",
       "      <td>66.57</td>\n",
       "      <td>-1.0</td>\n",
       "      <td>0.00</td>\n",
       "      <td>0.00</td>\n",
       "      <td>0.0</td>\n",
       "      <td>...</td>\n",
       "      <td>0.0</td>\n",
       "      <td>0.0</td>\n",
       "      <td>0.0</td>\n",
       "      <td>0.0</td>\n",
       "      <td>0.0</td>\n",
       "      <td>0.0</td>\n",
       "      <td>0.0</td>\n",
       "      <td>0.0</td>\n",
       "      <td>0.0</td>\n",
       "      <td>0.0</td>\n",
       "    </tr>\n",
       "  </tbody>\n",
       "</table>\n",
       "<p>126303 rows × 35 columns</p>\n",
       "</div>"
      ],
      "text/plain": [
       "        cssocialsecno_encrypted  customer_tenure  port_in_flag  \\\n",
       "0                 -3.990137e+18             28.0           0.0   \n",
       "1                 -7.579518e+18             31.0           1.0   \n",
       "2                  7.493019e+18             13.0           1.0   \n",
       "3                 -6.766898e+18             31.0           0.0   \n",
       "4                  8.152916e+18             73.0           0.0   \n",
       "...                         ...              ...           ...   \n",
       "126298            -7.545327e+18             41.0           0.0   \n",
       "126299             6.684081e+18             20.0           1.0   \n",
       "126300            -5.391399e+18             15.0           0.0   \n",
       "126301             2.432392e+18              3.0           1.0   \n",
       "126302            -7.937577e+18            101.0           0.0   \n",
       "\n",
       "        rate_plan_code  rateplan_fee  rateplan_discount_fee  \\\n",
       "0                 2222         33.84                  13.01   \n",
       "1                 2276         86.09                  30.13   \n",
       "2                 2213        168.86                  91.43   \n",
       "3                 2286        129.99                  30.00   \n",
       "4                 2250         89.99                  30.00   \n",
       "...                ...           ...                    ...   \n",
       "126298            2124        145.18                   0.00   \n",
       "126299            2213        168.86                  36.26   \n",
       "126300            2286        129.99                  30.00   \n",
       "126301            2250         89.99                  30.00   \n",
       "126302            2068        114.98                  66.57   \n",
       "\n",
       "        rateplan_discount_qty  services_fee  services_discount_fee  \\\n",
       "0                         2.0          0.00                   0.00   \n",
       "1                         5.0          0.00                   0.00   \n",
       "2                         3.0          0.00                   0.00   \n",
       "3                         5.0         34.99                  34.99   \n",
       "4                        12.0         24.99                  24.99   \n",
       "...                       ...           ...                    ...   \n",
       "126298                    0.0          0.00                   0.00   \n",
       "126299                    5.0         44.98                  44.98   \n",
       "126300                   10.0         34.99                  34.99   \n",
       "126301                   12.0         24.99                  24.99   \n",
       "126302                   -1.0          0.00                   0.00   \n",
       "\n",
       "        services_discount_qty  ...  billing_ticket_m1  billing_ticket_m2  \\\n",
       "0                         0.0  ...                0.0                0.0   \n",
       "1                         0.0  ...                0.0                0.0   \n",
       "2                         0.0  ...                0.0                0.0   \n",
       "3                        12.0  ...                0.0                1.0   \n",
       "4                        12.0  ...                0.0                1.0   \n",
       "...                       ...  ...                ...                ...   \n",
       "126298                    0.0  ...                0.0                0.0   \n",
       "126299                    9.0  ...                0.0                0.0   \n",
       "126300                   11.0  ...                0.0                0.0   \n",
       "126301                   12.0  ...                0.0                0.0   \n",
       "126302                    0.0  ...                0.0                0.0   \n",
       "\n",
       "        billing_ticket_m3  billing_ticket_m4  billing_ticket_m5  \\\n",
       "0                     0.0                0.0                0.0   \n",
       "1                     0.0                0.0                0.0   \n",
       "2                     0.0                0.0                0.0   \n",
       "3                     0.0                0.0                0.0   \n",
       "4                     0.0                0.0                0.0   \n",
       "...                   ...                ...                ...   \n",
       "126298                0.0                0.0                0.0   \n",
       "126299                0.0                0.0                0.0   \n",
       "126300                0.0                0.0                0.0   \n",
       "126301                0.0                0.0                0.0   \n",
       "126302                0.0                0.0                0.0   \n",
       "\n",
       "        m1_call_term_err  m2_call_term_err  m3_call_term_err  \\\n",
       "0                  321.0             324.0             325.0   \n",
       "1                  156.0             165.0             162.0   \n",
       "2                  252.0             246.0             257.0   \n",
       "3                  447.0             454.0             454.0   \n",
       "4                  439.0             447.0             438.0   \n",
       "...                  ...               ...               ...   \n",
       "126298             377.0             367.0             366.0   \n",
       "126299             422.0             433.0             428.0   \n",
       "126300             603.0             619.0             623.0   \n",
       "126301              66.0              71.0              71.0   \n",
       "126302               0.0               0.0               0.0   \n",
       "\n",
       "        m4_call_term_err m5_call_term_err  \n",
       "0                  325.0            318.0  \n",
       "1                  152.0            153.0  \n",
       "2                  261.0            239.0  \n",
       "3                  456.0            452.0  \n",
       "4                  441.0            443.0  \n",
       "...                  ...              ...  \n",
       "126298             353.0            373.0  \n",
       "126299             423.0            450.0  \n",
       "126300             634.0            621.0  \n",
       "126301              71.0             71.0  \n",
       "126302               0.0              0.0  \n",
       "\n",
       "[126303 rows x 35 columns]"
      ]
     },
     "execution_count": 28,
     "metadata": {},
     "output_type": "execute_result"
    }
   ],
   "source": [
    "X = clients_sample\n",
    "X"
   ]
  },
  {
   "cell_type": "markdown",
   "metadata": {},
   "source": [
    "# 5) Variaveis categóricas - montar por categorias"
   ]
  },
  {
   "cell_type": "markdown",
   "metadata": {},
   "source": [
    "* **Criando uma lista de variaveis categoricas**"
   ]
  },
  {
   "cell_type": "code",
   "execution_count": 29,
   "metadata": {},
   "outputs": [
    {
     "name": "stdout",
     "output_type": "stream",
     "text": [
      "Categorical variables:\n",
      "['person_type', 'payment_method', 'inar_rate_plan', 'contract_status', 'contract_status_reason', 'device_type_m0']\n"
     ]
    }
   ],
   "source": [
    "# Get list of categorical variables\n",
    "s = (X.dtypes == 'object')\n",
    "object_cols = list(s[s].index)\n",
    "\n",
    "print(\"Categorical variables:\")\n",
    "print(object_cols)"
   ]
  },
  {
   "cell_type": "markdown",
   "metadata": {},
   "source": [
    "* Descrição das variáveis categoricas com no **máximo** 3 colunas. Nestas serão feitos one hot encoder diretamente"
   ]
  },
  {
   "cell_type": "code",
   "execution_count": 30,
   "metadata": {},
   "outputs": [
    {
     "name": "stdout",
     "output_type": "stream",
     "text": [
      "Name:  person_type\n",
      "Possui 2 categorias\n",
      "['PF' 'PJ']\n",
      "\n",
      "Name:  payment_method\n",
      "Possui 2 categorias\n",
      "['Boleto' 'Debito Automatico']\n",
      "\n",
      "Name:  inar_rate_plan\n",
      "Possui 2 categorias\n",
      "['Y' 'N']\n",
      "\n",
      "Name:  contract_status\n",
      "Possui 2 categorias\n",
      "['a' 's']\n",
      "\n"
     ]
    }
   ],
   "source": [
    "for objects in object_cols:\n",
    "        if X[objects].describe()[1] <= 3:\n",
    "            print('Name: ', objects)\n",
    "            print('Possui ' + str(X[objects].describe()[1]) + ' categorias')\n",
    "            print(X[objects].unique()) #criar lista de categorias\n",
    "            print()"
   ]
  },
  {
   "cell_type": "markdown",
   "metadata": {},
   "source": [
    "* Descrição das variáveis categoricas **acima** de 3 colunas. Nestas serão feitos uma reunião de categorias."
   ]
  },
  {
   "cell_type": "code",
   "execution_count": 31,
   "metadata": {},
   "outputs": [
    {
     "name": "stdout",
     "output_type": "stream",
     "text": [
      "Name:  contract_status_reason\n",
      "Possui 29 categorias\n",
      "['ativando' 'reativando' 'IN-Suspensão Parcial' 'Aparelho Localizado'\n",
      " 'TAKEOVER' 'IN-Não Pagamento ' 'VO-Suspensao Roubo/Furto'\n",
      " 'IN-Reativação 15 dias' 'VO-Suspensao Perda' 'VO-Suspensao 120 dias'\n",
      " 'VO-Suspensão 30 dias' 'VO-Processando Cancelamento'\n",
      " 'VO-Problemas financeiros/estrutural ' 'VO-Suspensao 90 dias'\n",
      " 'FC-Regularização de Usuario' 'IN-Reativação 15 dias A'\n",
      " 'FC-Fulfil/Trans Comodato/Locação ' 'Reativação Port-in' 'IN-Fraude '\n",
      " 'Targys aguardando' 'VO-Suspensão Parcial Sem Cobrança'\n",
      " 'VO-Falta orientação sobre serv/prod ' 'VO-Suspensao 60 dias'\n",
      " 'Suspensao Port-in' 'RV-Devolução entrega/Recusa entrega '\n",
      " 'VO-Planos de Serv/Prod da concor ' 'Should not display'\n",
      " 'IN-Suspensão para Regularização' 'VO-Neces. novas áreas de cobertura ']\n",
      "\n",
      "Name:  device_type_m0\n",
      "Possui 11 categorias\n",
      "['Smartphone' 'Handheld' 'Other' 'Portable(include PDA)' 'Tablet'\n",
      " 'Mobile Phone/Feature phone' 'WLAN Router' 'Dongle' 'Modem' 'Vehicle'\n",
      " 'Module']\n",
      "\n"
     ]
    }
   ],
   "source": [
    "for objects in object_cols:\n",
    "        if X[objects].describe()[1] > 3:\n",
    "            print('Name: ', objects)\n",
    "            print('Possui ' + str(X[objects].describe()[1]) + ' categorias')\n",
    "            print(X[objects].unique()) #criar lista de categorias\n",
    "            print()"
   ]
  },
  {
   "cell_type": "markdown",
   "metadata": {},
   "source": [
    "* Diminuindo as 31 categorias de 'contract_status_reason' em 3 no total."
   ]
  },
  {
   "cell_type": "code",
   "execution_count": 32,
   "metadata": {},
   "outputs": [],
   "source": [
    "#df['contract_status_reason'] = df[column].fillna('Other')\n",
    "column_IN = ['ativando', 'reativando', 'Reativação Port-in', 'Suspensao Port-in', 'Desativacao Port-in', \n",
    "             'IN-Suspensão Parcial', 'IN-Não Pagamento', 'IN-Reativação 15 dias', \n",
    "             'IN-Reativação 15 dias A', 'IN-Fraude', 'IN-Fraude ', 'IN-Não Pagamento', 'IN-Não Pagamento ', \n",
    "             'IN-Suspensão para Regularização']\n",
    "\n",
    "column_VO = ['VO', 'VO-Suspensao Roubo/Furto', 'VO-Suspensao Perda', 'VO-Suspensao 120 dias', 'VO-Suspensão 30 dias', \n",
    "             'VO-Processando Cancelamento', 'VO-Custo equip/conserto equip', 'VO-Custo equip/conserto equip ',\n",
    "             'VO-Problemas financeiros/estrutural', 'VO-Problemas financeiros/estrutural ', \n",
    "             'VO-Falta orientação sobre serv/prod', 'VO-Suspensao 60 dias', 'VO-Suspensão Perda / Roubo', \n",
    "             'VO-Planos de Serv/Prod da concor', 'VO-Suspensao 90 dias', 'VO-Suspensão Parcial Sem Cobrança',\n",
    "             'VO-Falta orientação sobre serv/prod ', 'VO-Planos de Serv/Prod da concor ']\n",
    "\n",
    "column_FC = ['FC-Fulfil/Trans Comodato/Locação', 'FC-Fulfil/Trans Comodato/Locação ', 'FC-Regularização de Usuario', \n",
    "             'TAKEOVER', 'Aparelho Localizado', 'Targys aguardando', 'RV-Devolução entrega/Recusa entrega', \n",
    "             'RV-Devolução entrega/Recusa entrega ']"
   ]
  },
  {
   "cell_type": "markdown",
   "metadata": {},
   "source": [
    "* Substituição das 31 categorias em 3 no total."
   ]
  },
  {
   "cell_type": "code",
   "execution_count": 33,
   "metadata": {},
   "outputs": [],
   "source": [
    "X['contract_status_reason'] = X['contract_status_reason'].replace([column_IN], 'IN')\n",
    "X['contract_status_reason'] = X['contract_status_reason'].replace([column_VO], 'VO')\n",
    "X['contract_status_reason'] = X['contract_status_reason'].replace([column_FC], 'FC')"
   ]
  },
  {
   "cell_type": "markdown",
   "metadata": {},
   "source": [
    "* Nova checagem"
   ]
  },
  {
   "cell_type": "code",
   "execution_count": 34,
   "metadata": {},
   "outputs": [
    {
     "name": "stdout",
     "output_type": "stream",
     "text": [
      "Name:  person_type\n",
      "Possui 2 categorias\n",
      "['PF' 'PJ']\n",
      "\n",
      "Name:  payment_method\n",
      "Possui 2 categorias\n",
      "['Boleto' 'Debito Automatico']\n",
      "\n",
      "Name:  inar_rate_plan\n",
      "Possui 2 categorias\n",
      "['Y' 'N']\n",
      "\n",
      "Name:  contract_status\n",
      "Possui 2 categorias\n",
      "['a' 's']\n",
      "\n",
      "Name:  contract_status_reason\n",
      "Possui 5 categorias\n",
      "['IN' 'FC' 'VO' 'Should not display' 'VO-Neces. novas áreas de cobertura ']\n",
      "\n",
      "Name:  device_type_m0\n",
      "Possui 11 categorias\n",
      "['Smartphone' 'Handheld' 'Other' 'Portable(include PDA)' 'Tablet'\n",
      " 'Mobile Phone/Feature phone' 'WLAN Router' 'Dongle' 'Modem' 'Vehicle'\n",
      " 'Module']\n",
      "\n"
     ]
    }
   ],
   "source": [
    "for objects in object_cols:\n",
    "    print('Name: ', objects)\n",
    "    print('Possui ' + str(X[objects].describe()[1]) + ' categorias')\n",
    "    print(X[objects].unique()) #criar lista de categorias\n",
    "    print()"
   ]
  },
  {
   "cell_type": "markdown",
   "metadata": {},
   "source": [
    "# 6) train_test_split"
   ]
  },
  {
   "cell_type": "code",
   "execution_count": 35,
   "metadata": {},
   "outputs": [],
   "source": [
    "# 70% for train data and 30% for test data SMOTE\n",
    "X_train, X_test, y_train, y_test = train_test_split(X, \n",
    "                                                    y, \n",
    "                                                    test_size=0.30,\n",
    "                                                    random_state=1)"
   ]
  },
  {
   "cell_type": "code",
   "execution_count": 36,
   "metadata": {},
   "outputs": [
    {
     "name": "stdout",
     "output_type": "stream",
     "text": [
      "X_train.shape:  (88412, 35)\n",
      "X_test.shape:  (37891, 35)\n",
      "y_train.shape:  88412\n",
      "y_test.shape:  37891\n",
      "y_train:  Counter({0: 87450, 1: 962})\n",
      "y_test:  Counter({0: 37482, 1: 409})\n"
     ]
    }
   ],
   "source": [
    "print('X_train.shape: ', X_train.shape)\n",
    "print('X_test.shape: ', X_test.shape)\n",
    "print('y_train.shape: ', len(y_train))\n",
    "print('y_test.shape: ', len(y_test))\n",
    "print('y_train: ', Counter(y_train))\n",
    "print('y_test: ', Counter(y_test))"
   ]
  },
  {
   "cell_type": "markdown",
   "metadata": {},
   "source": [
    "# 7) Pipeline"
   ]
  },
  {
   "cell_type": "markdown",
   "metadata": {},
   "source": [
    "* **Criando uma lista de variaveis categoricas**"
   ]
  },
  {
   "cell_type": "code",
   "execution_count": 37,
   "metadata": {},
   "outputs": [
    {
     "name": "stdout",
     "output_type": "stream",
     "text": [
      "Categorical variables:  6\n",
      "['person_type', 'payment_method', 'inar_rate_plan', 'contract_status', 'contract_status_reason', 'device_type_m0']\n"
     ]
    }
   ],
   "source": [
    "# Get list of categorical variables\n",
    "s = (X_train.dtypes == 'object')\n",
    "object_cols = list(s[s].index)\n",
    "print(\"Categorical variables: \", len(object_cols))\n",
    "print(object_cols)"
   ]
  },
  {
   "cell_type": "markdown",
   "metadata": {},
   "source": [
    "* **Criando uma lista de variaveis numéricas**"
   ]
  },
  {
   "cell_type": "code",
   "execution_count": 38,
   "metadata": {},
   "outputs": [
    {
     "name": "stdout",
     "output_type": "stream",
     "text": [
      "Numerical variables:  29\n",
      "['cssocialsecno_encrypted', 'customer_tenure', 'port_in_flag', 'rate_plan_code', 'rateplan_fee', 'rateplan_discount_fee', 'rateplan_discount_qty', 'services_fee', 'services_discount_fee', 'services_discount_qty', 'm0_qt_involuntary_suspension', 'm0_qt_voluntary_suspension', 'nxt_3g_traffic_volume_m0', 'nxt_4g_traffic_volume_m0', 'vivo_traffic_volume_m0', 'm0_call_term_err', 'prop_legal_complaint_ticket_m0', 'billing_ticket_m0', 'contract_loyalty_flag', 'billing_ticket_m1', 'billing_ticket_m2', 'billing_ticket_m3', 'billing_ticket_m4', 'billing_ticket_m5', 'm1_call_term_err', 'm2_call_term_err', 'm3_call_term_err', 'm4_call_term_err', 'm5_call_term_err']\n"
     ]
    }
   ],
   "source": [
    "# Criando uma lista de variaveis numéricas\n",
    "numerical_cols = [cname for cname in X_train.columns if X_train[cname].dtype in ['int64', 'float64']]\n",
    "print(\"Numerical variables: \", len(numerical_cols))\n",
    "print(numerical_cols)"
   ]
  },
  {
   "cell_type": "markdown",
   "metadata": {},
   "source": [
    "* **Define Preprocessing Steps**"
   ]
  },
  {
   "cell_type": "code",
   "execution_count": 39,
   "metadata": {},
   "outputs": [
    {
     "data": {
      "text/plain": [
       "SimpleImputer(add_indicator=False, copy=True, fill_value=None,\n",
       "              missing_values=nan, strategy='constant', verbose=0)"
      ]
     },
     "execution_count": 39,
     "metadata": {},
     "output_type": "execute_result"
    }
   ],
   "source": [
    "# Pré-processamento para Dados Numéricos\n",
    "numerical_transformer = SimpleImputer(strategy='constant')\n",
    "numerical_transformer"
   ]
  },
  {
   "cell_type": "code",
   "execution_count": 40,
   "metadata": {},
   "outputs": [
    {
     "data": {
      "text/plain": [
       "Pipeline(memory=None,\n",
       "         steps=[('imputer',\n",
       "                 SimpleImputer(add_indicator=False, copy=True, fill_value=None,\n",
       "                               missing_values=nan, strategy='most_frequent',\n",
       "                               verbose=0)),\n",
       "                ('onehot',\n",
       "                 OneHotEncoder(categorical_features=None, categories=None,\n",
       "                               drop=None, dtype=<class 'numpy.float64'>,\n",
       "                               handle_unknown='ignore', n_values=None,\n",
       "                               sparse=False))],\n",
       "         verbose=False)"
      ]
     },
     "execution_count": 40,
     "metadata": {},
     "output_type": "execute_result"
    }
   ],
   "source": [
    "# Pré-processamento para Dados Categóricos\n",
    "categorical_transformer = Pipeline([\n",
    "                                    ('imputer', SimpleImputer(strategy='most_frequent')),\n",
    "                                    ('onehot', OneHotEncoder(handle_unknown='ignore', sparse=False))\n",
    "                                   ])\n",
    "categorical_transformer"
   ]
  },
  {
   "cell_type": "code",
   "execution_count": 41,
   "metadata": {},
   "outputs": [
    {
     "data": {
      "text/plain": [
       "ColumnTransformer(n_jobs=-1, remainder='drop', sparse_threshold=0.3,\n",
       "                  transformer_weights=None,\n",
       "                  transformers=[('num',\n",
       "                                 SimpleImputer(add_indicator=False, copy=True,\n",
       "                                               fill_value=None,\n",
       "                                               missing_values=nan,\n",
       "                                               strategy='constant', verbose=0),\n",
       "                                 ['cssocialsecno_encrypted', 'customer_tenure',\n",
       "                                  'port_in_flag', 'rate_plan_code',\n",
       "                                  'rateplan_fee', 'rateplan_discount_fee',\n",
       "                                  'rateplan_di...\n",
       "                                                                missing_values=nan,\n",
       "                                                                strategy='most_frequent',\n",
       "                                                                verbose=0)),\n",
       "                                                 ('onehot',\n",
       "                                                  OneHotEncoder(categorical_features=None,\n",
       "                                                                categories=None,\n",
       "                                                                drop=None,\n",
       "                                                                dtype=<class 'numpy.float64'>,\n",
       "                                                                handle_unknown='ignore',\n",
       "                                                                n_values=None,\n",
       "                                                                sparse=False))],\n",
       "                                          verbose=False),\n",
       "                                 ['person_type', 'payment_method',\n",
       "                                  'inar_rate_plan', 'contract_status',\n",
       "                                  'contract_status_reason',\n",
       "                                  'device_type_m0'])],\n",
       "                  verbose=False)"
      ]
     },
     "execution_count": 41,
     "metadata": {},
     "output_type": "execute_result"
    }
   ],
   "source": [
    "# Pré-processamento de pacote de dados numéricos e categóricos\n",
    "preprocessor = ColumnTransformer(transformers=[\n",
    "                                               ('num', numerical_transformer, numerical_cols),\n",
    "                                               ('cat', categorical_transformer, object_cols)\n",
    "                                              ], n_jobs=-1)\n",
    "preprocessor"
   ]
  },
  {
   "cell_type": "markdown",
   "metadata": {},
   "source": [
    "* **Define the model**"
   ]
  },
  {
   "cell_type": "code",
   "execution_count": 42,
   "metadata": {},
   "outputs": [
    {
     "data": {
      "text/plain": [
       "GradientBoostingClassifier(criterion='friedman_mse', init=None,\n",
       "                           learning_rate=0.1, loss='deviance', max_depth=3,\n",
       "                           max_features=None, max_leaf_nodes=None,\n",
       "                           min_impurity_decrease=0.0, min_impurity_split=None,\n",
       "                           min_samples_leaf=0.3, min_samples_split=2,\n",
       "                           min_weight_fraction_leaf=0.0, n_estimators=100,\n",
       "                           n_iter_no_change=None, presort='auto',\n",
       "                           random_state=42, subsample=1.0, tol=0.0001,\n",
       "                           validation_fraction=0.1, verbose=0,\n",
       "                           warm_start=False)"
      ]
     },
     "execution_count": 42,
     "metadata": {},
     "output_type": "execute_result"
    }
   ],
   "source": [
    "# Use the best hyperparameters from before to fit a random forest model\n",
    "\n",
    "#RandomForestClassifier\n",
    "#model = RandomForestClassifier(n_jobs=-1) #AUC: 0.970 Mean Absolute Error: 0.027363077973042143\n",
    "\n",
    "#GradientBoostingClassifier\n",
    "# standard -> learning_rates=0.1, n_estimators=100, max_depths=3, min_samples_splits=2, min_samples_leafs=1\n",
    "#{'subsample': 1, 'random_state': 42, 'n_estimators': 150, 'min_samples_leaf': 1, 'max_features': 0.25, 'max_depth': 4}\n",
    "\n",
    "#model = GradientBoostingClassifier()   #AUC: 0.979 Mean Absolute Error: 0.00804043678553148\n",
    "\n",
    "model = GradientBoostingClassifier(\n",
    "                                   #subsample=1\n",
    "                                   random_state=42,\n",
    "                                   #n_estimators=150\n",
    "                                   min_samples_leaf=0.3\n",
    "                                   #max_features=0.25\n",
    "                                   #max_depth=4\n",
    "                                  )      \n",
    "\n",
    "#XGBClassifier\n",
    "#model = XGBClassifier() #AUC: 0.979 Mean Absolute Error: 0.00804043678553148\n",
    "\n",
    "model"
   ]
  },
  {
   "cell_type": "markdown",
   "metadata": {},
   "source": [
    "* **Create and Evaluate the Pipeline**"
   ]
  },
  {
   "cell_type": "code",
   "execution_count": 43,
   "metadata": {},
   "outputs": [
    {
     "data": {
      "text/plain": [
       "Pipeline(memory=None,\n",
       "         steps=[('preprocessor ',\n",
       "                 ColumnTransformer(n_jobs=-1, remainder='drop',\n",
       "                                   sparse_threshold=0.3,\n",
       "                                   transformer_weights=None,\n",
       "                                   transformers=[('num',\n",
       "                                                  SimpleImputer(add_indicator=False,\n",
       "                                                                copy=True,\n",
       "                                                                fill_value=None,\n",
       "                                                                missing_values=nan,\n",
       "                                                                strategy='constant',\n",
       "                                                                verbose=0),\n",
       "                                                  ['cssocialsecno_encrypted',\n",
       "                                                   'customer_tenure',\n",
       "                                                   'port_in_flag',\n",
       "                                                   'rate_plan_code',\n",
       "                                                   'ratepl...\n",
       "                                            learning_rate=0.1, loss='deviance',\n",
       "                                            max_depth=3, max_features=None,\n",
       "                                            max_leaf_nodes=None,\n",
       "                                            min_impurity_decrease=0.0,\n",
       "                                            min_impurity_split=None,\n",
       "                                            min_samples_leaf=0.3,\n",
       "                                            min_samples_split=2,\n",
       "                                            min_weight_fraction_leaf=0.0,\n",
       "                                            n_estimators=100,\n",
       "                                            n_iter_no_change=None,\n",
       "                                            presort='auto', random_state=42,\n",
       "                                            subsample=1.0, tol=0.0001,\n",
       "                                            validation_fraction=0.1, verbose=0,\n",
       "                                            warm_start=False))],\n",
       "         verbose=False)"
      ]
     },
     "execution_count": 43,
     "metadata": {},
     "output_type": "execute_result"
    }
   ],
   "source": [
    "## Bundle preprocessing and modeling code in a pipeline\n",
    "pipeline = Pipeline(steps=[\n",
    "                           ('preprocessor ', preprocessor),\n",
    "                           ('smote', SMOTE(random_state=42, n_jobs=-1)),   # equilibrar\n",
    "                           ('pca', PCA(n_components = 2)),                 # reduzir numero de features\n",
    "                           ('model', model)\n",
    "                          ])\n",
    "pipeline"
   ]
  },
  {
   "cell_type": "markdown",
   "metadata": {},
   "source": [
    "# Looking for overfitting\n",
    "\n",
    "https://medium.com/all-things-ai/in-depth-parameter-tuning-for-gradient-boosting-3363992e9bae"
   ]
  },
  {
   "cell_type": "raw",
   "metadata": {},
   "source": [
    "learning_rates = [1, 0.5, 0.25, 0.1, 0.05, 0.01]              # 0.1  ok\n",
    "n_estimators = [1, 2, 4, 8, 16, 32, 64, 100, 200]             # 100  ok\n",
    "max_depths = np.linspace(1, 32, 32, endpoint=True)            # 3    ok\n",
    "min_samples_splits = np.linspace(0.1, 1.0, 10, endpoint=True) # 2\n",
    "min_samples_leafs = np.linspace(0.1, 0.5, 5, endpoint=True)   # 1\n",
    "max_features = list(range(1,X_train.shape[1]))                # None\n",
    "\n",
    "train_results = []\n",
    "test_results = []\n",
    "\n",
    "#for eta in learning_rates:\n",
    "#for estimator in n_estimators:\n",
    "#for max_depth in max_depths:\n",
    "#for min_samples_split in min_samples_splits:\n",
    "for min_samples_leaf in min_samples_leafs:\n",
    "#for max_feature in max_features:\n",
    "\n",
    "#    model = GradientBoostingClassifier(learning_rate=eta)\n",
    "#    model = GradientBoostingClassifier(n_estimators=estimator)\n",
    "#    model = GradientBoostingClassifier(max_depth=max_depth)\n",
    "#    model = GradientBoostingClassifier(min_samples_split=min_samples_split)\n",
    "    model = GradientBoostingClassifier(min_samples_leaf=min_samples_leaf)\n",
    "#    model = GradientBoostingClassifier(max_features=max_feature)\n",
    "\n",
    "    pipeline.fit(X_train, y_train)\n",
    "    \n",
    "    train_pred = pipeline.predict(X_train)\n",
    "    false_positive_rate, true_positive_rate, thresholds = roc_curve(y_train, train_pred)\n",
    "    roc_auc = auc(false_positive_rate, true_positive_rate)\n",
    "    train_results.append(roc_auc)\n",
    "\n",
    "    y_pred = pipeline.predict(X_test)\n",
    "    false_positive_rate, true_positive_rate, thresholds = roc_curve(y_test, y_pred)\n",
    "    roc_auc = auc(false_positive_rate, true_positive_rate)\n",
    "    test_results.append(roc_auc)\n",
    "\n",
    "# line1, = plt.plot(learning_rates, train_results, 'b', label='Train AUC')\n",
    "# line2, = plt.plot(learning_rates, test_results, 'r', label='Test AUC')\n",
    "\n",
    "# line1, = plt.plot(n_estimators, train_results, 'b', label='Train AUC')\n",
    "# line2, = plt.plot(n_estimators, test_results, 'r', label='Test AUC')\n",
    "\n",
    "# line1, = plt.plot(max_depths, train_results, 'b', label='Train AUC')\n",
    "# line2, = plt.plot(max_depths, test_results, 'r', label='Test AUC')\n",
    "\n",
    "# line1, = plt.plot(min_samples_splits, train_results, 'b', label='Train AUC')\n",
    "# line2, = plt.plot(min_samples_splits, test_results, 'r', label='Test AUC')\n",
    "\n",
    "line1, = plt.plot(min_samples_leafs, train_results, 'b', label='Train AUC')\n",
    "line2, = plt.plot(min_samples_leafs, test_results, 'r', label='Test AUC')\n",
    "\n",
    "# line1, = plt.plot(max_features, train_results, 'b', label='Train AUC')\n",
    "# line2, = plt.plot(max_features, test_results, 'r', label='Test AUC')\n",
    "\n",
    "\n",
    "plt.legend(handler_map={line1: HandlerLine2D(numpoints=2)})\n",
    "plt.ylabel('AUC score')\n",
    "plt.xlabel('min_samples_leafs')\n",
    "plt.show()"
   ]
  },
  {
   "cell_type": "markdown",
   "metadata": {},
   "source": [
    "# Tune hyperparameters with GridSearchCV\n",
    "\n",
    "* Como em todos os modelos, queremos otimizar o desempenho ajustando os hiperparâmetros.\n",
    "\n",
    "\n",
    "* Temos muitos hiperparâmetros para florestas aleatórias, mas o mais importante é geralmente o número de recursos que usamos em cada divisão ou **max_features** em **RandomForestRegressor** da biblioteca sklearn.\n",
    "\n",
    "\n",
    "* Para modelos como random forest que possuem aleatoriedade embutida, também queremos definir o **random_state**. Isso está definido para nossos resultados serem reproduzíveis.\n",
    "\n",
    "\n",
    "* Normalmente, podemos usar o método **GridSearchCV ()** do sklearn para pesquisar parâmetros de hipertexto, queremos adequar nossos modelos aos dados mais antigos e avaliar os dados mais recentes.\n",
    "\n",
    "\n",
    "* Então, usaremos o **ParameterGrid** do sklearn para criar combinações de hiperparâmetros para pesquisar."
   ]
  },
  {
   "cell_type": "raw",
   "metadata": {},
   "source": [
    "# Create a dictionary of hyperparameters to search\n",
    "#RandomForestClassifier 14:11 14:19\n",
    "# grid = {'n_estimators': [200, 500], \n",
    "#         'max_depth': [20,21,22,23,24]}\n",
    "\n",
    "# # standard -> GradientBoostingClassifier(criterion='friedman_mse', init=None,\n",
    "#                            learning_rate=0.1, loss='deviance', max_depth=3,\n",
    "#                            max_features=None, max_leaf_nodes=None,\n",
    "#                            min_impurity_decrease=0.0, min_impurity_split=None,\n",
    "#                            min_samples_leaf=1, min_samples_split=2,\n",
    "#                            min_weight_fraction_leaf=0.0, n_estimators=100,\n",
    "#                            n_iter_no_change=None, presort='auto',\n",
    "#                            random_state=None, subsample=1.0, tol=0.0001,\n",
    "#                            validation_fraction=0.1, verbose=0,\n",
    "#                            warm_start=False)\n",
    "#GradientBoostingClassifier # 13:43 14:51\n",
    "grid = {'n_estimators'     : [50, 100, 150],\n",
    "        'max_depth'        : [2,3,4], \n",
    "        'max_features'     : [0.25, 0.50, 0.75],\n",
    "        'min_samples_leaf' : [0.1, 0.3, 1],\n",
    "        'subsample'        : [0.3, 0.6, 1],\n",
    "        'random_state'     : [42]}\n",
    "\n",
    "#XGB\n",
    "# grid = {'objective'    : ['binary:logistic'], \n",
    "#         'max_depth'    : [2,3,4], \n",
    "#         'max_features' : [0.25, 0.50, 0.75],\n",
    "#         'learning_rate': [0.1, 0.01],\n",
    "#         'subsample'    : [0.3, 0.6],\n",
    "#         'random_state' : [42]}\n",
    "\n",
    "\n",
    "test_scores = []\n",
    "\n",
    "# Loop through the parameter grid, set the hyperparameters, and save the scores\n",
    "for g in ParameterGrid(grid):\n",
    "    model.set_params(**g)  # ** is \"unpacking\" the dictionary\n",
    "    pipeline.fit(X_train, y_train)\n",
    "    test_scores.append(pipeline.score(X_test, y_test))\n",
    "\n",
    "# Find best hyperparameters from the test score and print\n",
    "best_idx = np.argmax(test_scores)\n",
    "print(test_scores[best_idx], ParameterGrid(grid)[best_idx])"
   ]
  },
  {
   "cell_type": "markdown",
   "metadata": {},
   "source": [
    "# Plotting Learning Curves\n",
    "\n",
    "https://scikit-learn.org/stable/auto_examples/model_selection/plot_learning_curve.html"
   ]
  },
  {
   "cell_type": "code",
   "execution_count": 44,
   "metadata": {},
   "outputs": [],
   "source": [
    "def plot_learning_curve(estimator, title, X, y, ylim=None, cv=None,\n",
    "                        n_jobs=None, train_sizes=np.linspace(.1, 1.0, 5)):\n",
    "    plt.figure()\n",
    "    plt.title(title)\n",
    "    if ylim is not None:\n",
    "        plt.ylim(*ylim)\n",
    "    plt.xlabel(\"Training examples\")\n",
    "    plt.ylabel(\"Score\")\n",
    "    train_sizes, train_scores, test_scores = learning_curve(estimator, \n",
    "                                                            X, \n",
    "                                                            y, \n",
    "                                                            cv=cv, \n",
    "                                                            n_jobs=n_jobs, \n",
    "                                                            train_sizes=train_sizes)\n",
    "    train_scores_mean = np.mean(train_scores, axis=1)\n",
    "    train_scores_std = np.std(train_scores, axis=1)\n",
    "    test_scores_mean = np.mean(test_scores, axis=1)\n",
    "    test_scores_std = np.std(test_scores, axis=1)\n",
    "    \n",
    "    plt.grid()\n",
    "\n",
    "    plt.fill_between(train_sizes, \n",
    "                     train_scores_mean - train_scores_std,\n",
    "                     train_scores_mean + train_scores_std, \n",
    "                     alpha=0.1,\n",
    "                     color=\"r\")\n",
    "    \n",
    "    plt.fill_between(train_sizes, \n",
    "                     test_scores_mean - test_scores_std,\n",
    "                     test_scores_mean + test_scores_std, \n",
    "                     alpha=0.1, \n",
    "                     color=\"g\")\n",
    "    \n",
    "    plt.plot(train_sizes, \n",
    "             train_scores_mean, \n",
    "             'o-', \n",
    "             color=\"r\",\n",
    "             label=\"Training score\")\n",
    "    \n",
    "    plt.plot(train_sizes, \n",
    "             test_scores_mean, \n",
    "             'o-', \n",
    "             color=\"g\",\n",
    "             label=\"Cross-validation score\")\n",
    "\n",
    "    plt.legend(loc=\"best\")\n",
    "    return plt"
   ]
  },
  {
   "cell_type": "code",
   "execution_count": 45,
   "metadata": {},
   "outputs": [
    {
     "data": {
      "image/png": "[encoded data removed]",
      "text/plain": [
       "<Figure size 432x288 with 1 Axes>"
      ]
     },
     "metadata": {
      "needs_background": "light"
     },
     "output_type": "display_data"
    }
   ],
   "source": [
    "digits = load_digits()\n",
    "X, y = digits.data, digits.target\n",
    "\n",
    "####################################################################\n",
    "\n",
    "title = \"RandomForestClassifier\"\n",
    "\n",
    "cv = ShuffleSplit(n_splits=10, \n",
    "                  test_size=0.2, \n",
    "                  random_state=0)\n",
    "\n",
    "estimator = model\n",
    "\n",
    "plot_learning_curve(estimator, \n",
    "                    title, \n",
    "                    X, \n",
    "                    y, \n",
    "                    ylim=(0.7, 1.01), \n",
    "                    cv=cv)\n",
    "plt.show()"
   ]
  },
  {
   "cell_type": "markdown",
   "metadata": {},
   "source": [
    "# Fit"
   ]
  },
  {
   "cell_type": "code",
   "execution_count": 46,
   "metadata": {},
   "outputs": [
    {
     "data": {
      "text/plain": [
       "Pipeline(memory=None,\n",
       "         steps=[('preprocessor ',\n",
       "                 ColumnTransformer(n_jobs=-1, remainder='drop',\n",
       "                                   sparse_threshold=0.3,\n",
       "                                   transformer_weights=None,\n",
       "                                   transformers=[('num',\n",
       "                                                  SimpleImputer(add_indicator=False,\n",
       "                                                                copy=True,\n",
       "                                                                fill_value=None,\n",
       "                                                                missing_values=nan,\n",
       "                                                                strategy='constant',\n",
       "                                                                verbose=0),\n",
       "                                                  ['cssocialsecno_encrypted',\n",
       "                                                   'customer_tenure',\n",
       "                                                   'port_in_flag',\n",
       "                                                   'rate_plan_code',\n",
       "                                                   'ratepl...\n",
       "                                            learning_rate=0.1, loss='deviance',\n",
       "                                            max_depth=3, max_features=None,\n",
       "                                            max_leaf_nodes=None,\n",
       "                                            min_impurity_decrease=0.0,\n",
       "                                            min_impurity_split=None,\n",
       "                                            min_samples_leaf=0.3,\n",
       "                                            min_samples_split=2,\n",
       "                                            min_weight_fraction_leaf=0.0,\n",
       "                                            n_estimators=100,\n",
       "                                            n_iter_no_change=None,\n",
       "                                            presort='auto', random_state=42,\n",
       "                                            subsample=1.0, tol=0.0001,\n",
       "                                            validation_fraction=0.1, verbose=0,\n",
       "                                            warm_start=False))],\n",
       "         verbose=False)"
      ]
     },
     "execution_count": 46,
     "metadata": {},
     "output_type": "execute_result"
    }
   ],
   "source": [
    "# Preprocessing of training data, fit model \n",
    "pipeline.fit(X_train, y_train)"
   ]
  },
  {
   "cell_type": "code",
   "execution_count": 47,
   "metadata": {},
   "outputs": [
    {
     "data": {
      "text/plain": [
       "array([0, 0, 1, ..., 0, 1, 1])"
      ]
     },
     "execution_count": 47,
     "metadata": {},
     "output_type": "execute_result"
    }
   ],
   "source": [
    "# Preprocessing of validation data, get predictions\n",
    "preds = pipeline.predict(X_test)\n",
    "preds"
   ]
  },
  {
   "cell_type": "code",
   "execution_count": 48,
   "metadata": {},
   "outputs": [
    {
     "name": "stdout",
     "output_type": "stream",
     "text": [
      "X_train.shape:  (88412, 35)\n",
      "X_test.shape:  (37891, 35)\n",
      "y_train.shape:  88412\n",
      "y_test.shape:  37891\n",
      "\n",
      "y_train:  Counter({0: 87450, 1: 962})\n",
      "y_test:  Counter({0: 37482, 1: 409})\n",
      "\n",
      "preds:  Counter({0: 22209, 1: 15682})\n"
     ]
    }
   ],
   "source": [
    "print('X_train.shape: ', X_train.shape)\n",
    "print('X_test.shape: ', X_test.shape)\n",
    "print('y_train.shape: ', len(y_train))\n",
    "print('y_test.shape: ', len(y_test))\n",
    "print()\n",
    "print('y_train: ', Counter(y_train))\n",
    "print('y_test: ', Counter(y_test))\n",
    "print()\n",
    "print('preds: ', Counter(preds))"
   ]
  },
  {
   "cell_type": "markdown",
   "metadata": {},
   "source": [
    "# 8) Metricas"
   ]
  },
  {
   "cell_type": "markdown",
   "metadata": {},
   "source": [
    "# Cross validation\n",
    "\n",
    "* cross validation options\n",
    "http://scikit-learn.org/stable/modules/model_evaluation.html"
   ]
  },
  {
   "cell_type": "code",
   "execution_count": 49,
   "metadata": {},
   "outputs": [
    {
     "ename": "KeyboardInterrupt",
     "evalue": "",
     "output_type": "error",
     "traceback": [
      "\u001b[1;31m---------------------------------------------------------------------------\u001b[0m",
      "\u001b[1;31mKeyboardInterrupt\u001b[0m                         Traceback (most recent call last)",
      "\u001b[1;32m<ipython-input-49-d9e8066a6924>\u001b[0m in \u001b[0;36m<module>\u001b[1;34m\u001b[0m\n\u001b[0;32m     10\u001b[0m                          \u001b[0mcv\u001b[0m\u001b[1;33m=\u001b[0m\u001b[1;36m5\u001b[0m\u001b[1;33m,\u001b[0m\u001b[1;33m\u001b[0m\u001b[1;33m\u001b[0m\u001b[0m\n\u001b[0;32m     11\u001b[0m                          \u001b[0mscoring\u001b[0m\u001b[1;33m=\u001b[0m\u001b[1;34m'roc_auc'\u001b[0m\u001b[1;33m,\u001b[0m\u001b[1;33m\u001b[0m\u001b[1;33m\u001b[0m\u001b[0m\n\u001b[1;32m---> 12\u001b[1;33m                          n_jobs=-1)\n\u001b[0m\u001b[0;32m     13\u001b[0m \u001b[1;33m\u001b[0m\u001b[0m\n\u001b[0;32m     14\u001b[0m \u001b[0mprint\u001b[0m\u001b[1;33m(\u001b[0m\u001b[0mscores\u001b[0m\u001b[1;33m)\u001b[0m\u001b[1;33m\u001b[0m\u001b[1;33m\u001b[0m\u001b[0m\n",
      "\u001b[1;32m~\\Miniconda3\\envs\\tensorflow\\lib\\site-packages\\sklearn\\model_selection\\_validation.py\u001b[0m in \u001b[0;36mcross_val_score\u001b[1;34m(estimator, X, y, groups, scoring, cv, n_jobs, verbose, fit_params, pre_dispatch, error_score)\u001b[0m\n\u001b[0;32m    389\u001b[0m                                 \u001b[0mfit_params\u001b[0m\u001b[1;33m=\u001b[0m\u001b[0mfit_params\u001b[0m\u001b[1;33m,\u001b[0m\u001b[1;33m\u001b[0m\u001b[1;33m\u001b[0m\u001b[0m\n\u001b[0;32m    390\u001b[0m                                 \u001b[0mpre_dispatch\u001b[0m\u001b[1;33m=\u001b[0m\u001b[0mpre_dispatch\u001b[0m\u001b[1;33m,\u001b[0m\u001b[1;33m\u001b[0m\u001b[1;33m\u001b[0m\u001b[0m\n\u001b[1;32m--> 391\u001b[1;33m                                 error_score=error_score)\n\u001b[0m\u001b[0;32m    392\u001b[0m     \u001b[1;32mreturn\u001b[0m \u001b[0mcv_results\u001b[0m\u001b[1;33m[\u001b[0m\u001b[1;34m'test_score'\u001b[0m\u001b[1;33m]\u001b[0m\u001b[1;33m\u001b[0m\u001b[1;33m\u001b[0m\u001b[0m\n\u001b[0;32m    393\u001b[0m \u001b[1;33m\u001b[0m\u001b[0m\n",
      "\u001b[1;32m~\\Miniconda3\\envs\\tensorflow\\lib\\site-packages\\sklearn\\model_selection\\_validation.py\u001b[0m in \u001b[0;36mcross_validate\u001b[1;34m(estimator, X, y, groups, scoring, cv, n_jobs, verbose, fit_params, pre_dispatch, return_train_score, return_estimator, error_score)\u001b[0m\n\u001b[0;32m    230\u001b[0m             \u001b[0mreturn_times\u001b[0m\u001b[1;33m=\u001b[0m\u001b[1;32mTrue\u001b[0m\u001b[1;33m,\u001b[0m \u001b[0mreturn_estimator\u001b[0m\u001b[1;33m=\u001b[0m\u001b[0mreturn_estimator\u001b[0m\u001b[1;33m,\u001b[0m\u001b[1;33m\u001b[0m\u001b[1;33m\u001b[0m\u001b[0m\n\u001b[0;32m    231\u001b[0m             error_score=error_score)\n\u001b[1;32m--> 232\u001b[1;33m         for train, test in cv.split(X, y, groups))\n\u001b[0m\u001b[0;32m    233\u001b[0m \u001b[1;33m\u001b[0m\u001b[0m\n\u001b[0;32m    234\u001b[0m     \u001b[0mzipped_scores\u001b[0m \u001b[1;33m=\u001b[0m \u001b[0mlist\u001b[0m\u001b[1;33m(\u001b[0m\u001b[0mzip\u001b[0m\u001b[1;33m(\u001b[0m\u001b[1;33m*\u001b[0m\u001b[0mscores\u001b[0m\u001b[1;33m)\u001b[0m\u001b[1;33m)\u001b[0m\u001b[1;33m\u001b[0m\u001b[1;33m\u001b[0m\u001b[0m\n",
      "\u001b[1;32m~\\Miniconda3\\envs\\tensorflow\\lib\\site-packages\\joblib\\parallel.py\u001b[0m in \u001b[0;36m__call__\u001b[1;34m(self, iterable)\u001b[0m\n\u001b[0;32m    932\u001b[0m \u001b[1;33m\u001b[0m\u001b[0m\n\u001b[0;32m    933\u001b[0m             \u001b[1;32mwith\u001b[0m \u001b[0mself\u001b[0m\u001b[1;33m.\u001b[0m\u001b[0m_backend\u001b[0m\u001b[1;33m.\u001b[0m\u001b[0mretrieval_context\u001b[0m\u001b[1;33m(\u001b[0m\u001b[1;33m)\u001b[0m\u001b[1;33m:\u001b[0m\u001b[1;33m\u001b[0m\u001b[1;33m\u001b[0m\u001b[0m\n\u001b[1;32m--> 934\u001b[1;33m                 \u001b[0mself\u001b[0m\u001b[1;33m.\u001b[0m\u001b[0mretrieve\u001b[0m\u001b[1;33m(\u001b[0m\u001b[1;33m)\u001b[0m\u001b[1;33m\u001b[0m\u001b[1;33m\u001b[0m\u001b[0m\n\u001b[0m\u001b[0;32m    935\u001b[0m             \u001b[1;31m# Make sure that we get a last message telling us we are done\u001b[0m\u001b[1;33m\u001b[0m\u001b[1;33m\u001b[0m\u001b[1;33m\u001b[0m\u001b[0m\n\u001b[0;32m    936\u001b[0m             \u001b[0melapsed_time\u001b[0m \u001b[1;33m=\u001b[0m \u001b[0mtime\u001b[0m\u001b[1;33m.\u001b[0m\u001b[0mtime\u001b[0m\u001b[1;33m(\u001b[0m\u001b[1;33m)\u001b[0m \u001b[1;33m-\u001b[0m \u001b[0mself\u001b[0m\u001b[1;33m.\u001b[0m\u001b[0m_start_time\u001b[0m\u001b[1;33m\u001b[0m\u001b[1;33m\u001b[0m\u001b[0m\n",
      "\u001b[1;32m~\\Miniconda3\\envs\\tensorflow\\lib\\site-packages\\joblib\\parallel.py\u001b[0m in \u001b[0;36mretrieve\u001b[1;34m(self)\u001b[0m\n\u001b[0;32m    831\u001b[0m             \u001b[1;32mtry\u001b[0m\u001b[1;33m:\u001b[0m\u001b[1;33m\u001b[0m\u001b[1;33m\u001b[0m\u001b[0m\n\u001b[0;32m    832\u001b[0m                 \u001b[1;32mif\u001b[0m \u001b[0mgetattr\u001b[0m\u001b[1;33m(\u001b[0m\u001b[0mself\u001b[0m\u001b[1;33m.\u001b[0m\u001b[0m_backend\u001b[0m\u001b[1;33m,\u001b[0m \u001b[1;34m'supports_timeout'\u001b[0m\u001b[1;33m,\u001b[0m \u001b[1;32mFalse\u001b[0m\u001b[1;33m)\u001b[0m\u001b[1;33m:\u001b[0m\u001b[1;33m\u001b[0m\u001b[1;33m\u001b[0m\u001b[0m\n\u001b[1;32m--> 833\u001b[1;33m                     \u001b[0mself\u001b[0m\u001b[1;33m.\u001b[0m\u001b[0m_output\u001b[0m\u001b[1;33m.\u001b[0m\u001b[0mextend\u001b[0m\u001b[1;33m(\u001b[0m\u001b[0mjob\u001b[0m\u001b[1;33m.\u001b[0m\u001b[0mget\u001b[0m\u001b[1;33m(\u001b[0m\u001b[0mtimeout\u001b[0m\u001b[1;33m=\u001b[0m\u001b[0mself\u001b[0m\u001b[1;33m.\u001b[0m\u001b[0mtimeout\u001b[0m\u001b[1;33m)\u001b[0m\u001b[1;33m)\u001b[0m\u001b[1;33m\u001b[0m\u001b[1;33m\u001b[0m\u001b[0m\n\u001b[0m\u001b[0;32m    834\u001b[0m                 \u001b[1;32melse\u001b[0m\u001b[1;33m:\u001b[0m\u001b[1;33m\u001b[0m\u001b[1;33m\u001b[0m\u001b[0m\n\u001b[0;32m    835\u001b[0m                     \u001b[0mself\u001b[0m\u001b[1;33m.\u001b[0m\u001b[0m_output\u001b[0m\u001b[1;33m.\u001b[0m\u001b[0mextend\u001b[0m\u001b[1;33m(\u001b[0m\u001b[0mjob\u001b[0m\u001b[1;33m.\u001b[0m\u001b[0mget\u001b[0m\u001b[1;33m(\u001b[0m\u001b[1;33m)\u001b[0m\u001b[1;33m)\u001b[0m\u001b[1;33m\u001b[0m\u001b[1;33m\u001b[0m\u001b[0m\n",
      "\u001b[1;32m~\\Miniconda3\\envs\\tensorflow\\lib\\site-packages\\joblib\\_parallel_backends.py\u001b[0m in \u001b[0;36mwrap_future_result\u001b[1;34m(future, timeout)\u001b[0m\n\u001b[0;32m    519\u001b[0m         AsyncResults.get from multiprocessing.\"\"\"\n\u001b[0;32m    520\u001b[0m         \u001b[1;32mtry\u001b[0m\u001b[1;33m:\u001b[0m\u001b[1;33m\u001b[0m\u001b[1;33m\u001b[0m\u001b[0m\n\u001b[1;32m--> 521\u001b[1;33m             \u001b[1;32mreturn\u001b[0m \u001b[0mfuture\u001b[0m\u001b[1;33m.\u001b[0m\u001b[0mresult\u001b[0m\u001b[1;33m(\u001b[0m\u001b[0mtimeout\u001b[0m\u001b[1;33m=\u001b[0m\u001b[0mtimeout\u001b[0m\u001b[1;33m)\u001b[0m\u001b[1;33m\u001b[0m\u001b[1;33m\u001b[0m\u001b[0m\n\u001b[0m\u001b[0;32m    522\u001b[0m         \u001b[1;32mexcept\u001b[0m \u001b[0mLokyTimeoutError\u001b[0m\u001b[1;33m:\u001b[0m\u001b[1;33m\u001b[0m\u001b[1;33m\u001b[0m\u001b[0m\n\u001b[0;32m    523\u001b[0m             \u001b[1;32mraise\u001b[0m \u001b[0mTimeoutError\u001b[0m\u001b[1;33m(\u001b[0m\u001b[1;33m)\u001b[0m\u001b[1;33m\u001b[0m\u001b[1;33m\u001b[0m\u001b[0m\n",
      "\u001b[1;32m~\\Miniconda3\\envs\\tensorflow\\lib\\concurrent\\futures\\_base.py\u001b[0m in \u001b[0;36mresult\u001b[1;34m(self, timeout)\u001b[0m\n\u001b[0;32m    425\u001b[0m                 \u001b[1;32mreturn\u001b[0m \u001b[0mself\u001b[0m\u001b[1;33m.\u001b[0m\u001b[0m__get_result\u001b[0m\u001b[1;33m(\u001b[0m\u001b[1;33m)\u001b[0m\u001b[1;33m\u001b[0m\u001b[1;33m\u001b[0m\u001b[0m\n\u001b[0;32m    426\u001b[0m \u001b[1;33m\u001b[0m\u001b[0m\n\u001b[1;32m--> 427\u001b[1;33m             \u001b[0mself\u001b[0m\u001b[1;33m.\u001b[0m\u001b[0m_condition\u001b[0m\u001b[1;33m.\u001b[0m\u001b[0mwait\u001b[0m\u001b[1;33m(\u001b[0m\u001b[0mtimeout\u001b[0m\u001b[1;33m)\u001b[0m\u001b[1;33m\u001b[0m\u001b[1;33m\u001b[0m\u001b[0m\n\u001b[0m\u001b[0;32m    428\u001b[0m \u001b[1;33m\u001b[0m\u001b[0m\n\u001b[0;32m    429\u001b[0m             \u001b[1;32mif\u001b[0m \u001b[0mself\u001b[0m\u001b[1;33m.\u001b[0m\u001b[0m_state\u001b[0m \u001b[1;32min\u001b[0m \u001b[1;33m[\u001b[0m\u001b[0mCANCELLED\u001b[0m\u001b[1;33m,\u001b[0m \u001b[0mCANCELLED_AND_NOTIFIED\u001b[0m\u001b[1;33m]\u001b[0m\u001b[1;33m:\u001b[0m\u001b[1;33m\u001b[0m\u001b[1;33m\u001b[0m\u001b[0m\n",
      "\u001b[1;32m~\\Miniconda3\\envs\\tensorflow\\lib\\threading.py\u001b[0m in \u001b[0;36mwait\u001b[1;34m(self, timeout)\u001b[0m\n\u001b[0;32m    293\u001b[0m         \u001b[1;32mtry\u001b[0m\u001b[1;33m:\u001b[0m    \u001b[1;31m# restore state no matter what (e.g., KeyboardInterrupt)\u001b[0m\u001b[1;33m\u001b[0m\u001b[1;33m\u001b[0m\u001b[0m\n\u001b[0;32m    294\u001b[0m             \u001b[1;32mif\u001b[0m \u001b[0mtimeout\u001b[0m \u001b[1;32mis\u001b[0m \u001b[1;32mNone\u001b[0m\u001b[1;33m:\u001b[0m\u001b[1;33m\u001b[0m\u001b[1;33m\u001b[0m\u001b[0m\n\u001b[1;32m--> 295\u001b[1;33m                 \u001b[0mwaiter\u001b[0m\u001b[1;33m.\u001b[0m\u001b[0macquire\u001b[0m\u001b[1;33m(\u001b[0m\u001b[1;33m)\u001b[0m\u001b[1;33m\u001b[0m\u001b[1;33m\u001b[0m\u001b[0m\n\u001b[0m\u001b[0;32m    296\u001b[0m                 \u001b[0mgotit\u001b[0m \u001b[1;33m=\u001b[0m \u001b[1;32mTrue\u001b[0m\u001b[1;33m\u001b[0m\u001b[1;33m\u001b[0m\u001b[0m\n\u001b[0;32m    297\u001b[0m             \u001b[1;32melse\u001b[0m\u001b[1;33m:\u001b[0m\u001b[1;33m\u001b[0m\u001b[1;33m\u001b[0m\u001b[0m\n",
      "\u001b[1;31mKeyboardInterrupt\u001b[0m: "
     ]
    }
   ],
   "source": [
    "from sklearn.model_selection import cross_val_score\n",
    "\n",
    "# RandomForestClassifier Mean 0.981308\n",
    "# gradient boosting Mean 0.981513\n",
    "\n",
    "#mae using cross validation\n",
    "scores = cross_val_score(pipeline, \n",
    "                         X_train, \n",
    "                         y_train, \n",
    "                         cv=5, \n",
    "                         scoring='roc_auc', \n",
    "                         n_jobs=-1)\n",
    "\n",
    "print(scores)\n",
    "print('Mean %2f' %(scores.mean()))"
   ]
  },
  {
   "cell_type": "markdown",
   "metadata": {},
   "source": [
    "# mean_absolute_error - The best value is 0.0"
   ]
  },
  {
   "cell_type": "code",
   "execution_count": 50,
   "metadata": {},
   "outputs": [
    {
     "name": "stdout",
     "output_type": "stream",
     "text": [
      "MAE: 0.41442558919004513\n"
     ]
    }
   ],
   "source": [
    "# Evaluate the model\n",
    "maer = mean_absolute_error(y_test, preds)\n",
    "print('MAE:', maer)"
   ]
  },
  {
   "cell_type": "markdown",
   "metadata": {},
   "source": [
    "# Confusion matrix\n",
    "\n",
    "https://towardsdatascience.com/understanding-confusion-matrix-a9ad42dcfd62\n",
    "\n",
    "* é uma medida de desempenho para o problema de classificação de aprendizado de máquina em que a saída pode ser de duas ou mais classes. É uma tabela com 4 combinações diferentes de valores previstos e reais.\n",
    "\n",
    "* É extremamente útil para medir Recall, Precisão, Especificidade, Precisão e, o mais importante, Curva AUC-ROC.\n",
    "\n",
    "* **Verdadeiro positivo**: Você previu positivo e é verdade.\n",
    "\n",
    "* **Verdadeiro Negativo**: Você previu negativo e é verdade.\n",
    "\n",
    "* **Falso positivo**: Você previu positivo e é falso.\n",
    "\n",
    "* **Falso negativo**: Você previu negativo e é falso.\n",
    "\n"
   ]
  },
  {
   "attachments": {
    "image.png": {
     "image/png": "[encoded data removed]"
    }
   },
   "cell_type": "markdown",
   "metadata": {},
   "source": [
    "![image.png](attachment:image.png)"
   ]
  },
  {
   "cell_type": "code",
   "execution_count": 51,
   "metadata": {},
   "outputs": [
    {
     "name": "stdout",
     "output_type": "stream",
     "text": [
      "preds:  Counter({0: 22209, 1: 15682})\n",
      "\n",
      "               Actual Values\n",
      "           +--------+--------+\n",
      "           | Neg(0) | Pos(1) |\n",
      "p +--------+--------+--------+\n",
      "r | Neg(0) | 21994  | 15488      |\n",
      "e +--------+--------+--------+\n",
      "d | Pos(1) | 215    | 194   |\n",
      "s +--------+--------+--------+\n"
     ]
    }
   ],
   "source": [
    "print('preds: ', Counter(preds))\n",
    "print()\n",
    "\n",
    "# confusion matrix\n",
    "conf_matrix = confusion_matrix(y_test, preds)\n",
    "#print(conf_matrix)\n",
    "\n",
    "print('               Actual Values')\n",
    "print('           +--------+--------+')\n",
    "print('           | Neg(0) | Pos(1) |')\n",
    "print('p +--------+--------+--------+')\n",
    "print('r | Neg(0) | ' + str(conf_matrix[0][0]) + '  | ' + str(conf_matrix[0][1]) + '      |')\n",
    "print('e +--------+--------+--------+')\n",
    "print('d | Pos(1) | ' + str(conf_matrix[1][0]) + '    | ' + str(conf_matrix[1][1]) + '   |')\n",
    "print('s +--------+--------+--------+')"
   ]
  },
  {
   "attachments": {
    "image.png": {
     "image/png": "[encoded data removed]"
    }
   },
   "cell_type": "markdown",
   "metadata": {},
   "source": [
    "# Curva AUC-ROC - Diz quanto modelo é capaz de distinguir entre classes\n",
    "\n",
    "https://towardsdatascience.com/understanding-auc-roc-curve-68b2303cc9c5\n",
    "\n",
    "* Quando precisamos verificar ou visualizar o desempenho do problema de classificação de várias classes, usamos a curva ROC ( Área sob a curva ) AUC ( Características Operacionais do Receptor ).\n",
    "* **ROC** é uma curva de probabilidade e **AUC** representa grau ou medida de separabilidade.\n",
    "* Quanto maior a **AUC**, melhor o modelo em prever 0s como 0s e 1s como 1s\n",
    "\n",
    "\n",
    "* Um **modelo excelente tem AUC perto do 1**, o que significa que ele tem uma boa medida de separabilidade. \n",
    "* Um **modelo que tem AUC é 0,7** significa que há 70% de chance de que o modelo seja capaz de distinguir entre classe positiva e classe negativa.\n",
    "* Um **modelo não tem capacidade de separação de classes tem AUC é 0,5**\n",
    "* Um **modelo ruim tem AUC perto do 0**, o que significa que ele tem a pior medida de separabilidade. \n",
    "![image.png](attachment:image.png)"
   ]
  },
  {
   "cell_type": "code",
   "execution_count": 52,
   "metadata": {},
   "outputs": [
    {
     "name": "stdout",
     "output_type": "stream",
     "text": [
      "AUC: 0.531\n"
     ]
    },
    {
     "ename": "NameError",
     "evalue": "name 'pyplot' is not defined",
     "output_type": "error",
     "traceback": [
      "\u001b[1;31m---------------------------------------------------------------------------\u001b[0m",
      "\u001b[1;31mNameError\u001b[0m                                 Traceback (most recent call last)",
      "\u001b[1;32m<ipython-input-52-c3addf3d539a>\u001b[0m in \u001b[0;36m<module>\u001b[1;34m\u001b[0m\n\u001b[0;32m      7\u001b[0m \u001b[1;33m\u001b[0m\u001b[0m\n\u001b[0;32m      8\u001b[0m \u001b[1;31m# plot no skill\u001b[0m\u001b[1;33m\u001b[0m\u001b[1;33m\u001b[0m\u001b[1;33m\u001b[0m\u001b[0m\n\u001b[1;32m----> 9\u001b[1;33m \u001b[0mpyplot\u001b[0m\u001b[1;33m.\u001b[0m\u001b[0mplot\u001b[0m\u001b[1;33m(\u001b[0m\u001b[1;33m[\u001b[0m\u001b[1;36m0\u001b[0m\u001b[1;33m,\u001b[0m \u001b[1;36m1\u001b[0m\u001b[1;33m]\u001b[0m\u001b[1;33m,\u001b[0m \u001b[1;33m[\u001b[0m\u001b[1;36m0\u001b[0m\u001b[1;33m,\u001b[0m \u001b[1;36m1\u001b[0m\u001b[1;33m]\u001b[0m\u001b[1;33m,\u001b[0m \u001b[0mlinestyle\u001b[0m\u001b[1;33m=\u001b[0m\u001b[1;34m'--'\u001b[0m\u001b[1;33m)\u001b[0m\u001b[1;33m\u001b[0m\u001b[1;33m\u001b[0m\u001b[0m\n\u001b[0m\u001b[0;32m     10\u001b[0m \u001b[1;31m# plot the roc curve for the model\u001b[0m\u001b[1;33m\u001b[0m\u001b[1;33m\u001b[0m\u001b[1;33m\u001b[0m\u001b[0m\n\u001b[0;32m     11\u001b[0m \u001b[0mpyplot\u001b[0m\u001b[1;33m.\u001b[0m\u001b[0mplot\u001b[0m\u001b[1;33m(\u001b[0m\u001b[0mfpr\u001b[0m\u001b[1;33m,\u001b[0m \u001b[0mtpr\u001b[0m\u001b[1;33m,\u001b[0m \u001b[0mmarker\u001b[0m\u001b[1;33m=\u001b[0m\u001b[1;34m'.'\u001b[0m\u001b[1;33m)\u001b[0m\u001b[1;33m\u001b[0m\u001b[1;33m\u001b[0m\u001b[0m\n",
      "\u001b[1;31mNameError\u001b[0m: name 'pyplot' is not defined"
     ]
    }
   ],
   "source": [
    "# calculate AUC\n",
    "aucur = roc_auc_score(y_test, preds)\n",
    "print('AUC: %.3f' % aucur)\n",
    "\n",
    "# calculate roc curve\n",
    "fpr, tpr, thresholds = roc_curve(y_test, preds)\n",
    "\n",
    "# plot no skill\n",
    "pyplot.plot([0, 1], [0, 1], linestyle='--')\n",
    "# plot the roc curve for the model\n",
    "pyplot.plot(fpr, tpr, marker='.')\n",
    "# show the plot\n",
    "pyplot.show()"
   ]
  },
  {
   "attachments": {
    "image.png": {
     "image/png": "[encoded data removed]"
    }
   },
   "cell_type": "markdown",
   "metadata": {},
   "source": [
    "# Precision recall - é uma medida do sucesso da previsão quando as classes estão muito desequilibradas\n",
    "![image.png](attachment:image.png)"
   ]
  },
  {
   "attachments": {
    "image.png": {
     "image/png": "[encoded data removed]"
    }
   },
   "cell_type": "markdown",
   "metadata": {},
   "source": [
    "* **Precision** é uma medida da relevância dos resultados, ou seja, **porcentagem de seus resultados que são relevantes**\n",
    "![image.png](attachment:image.png)"
   ]
  },
  {
   "attachments": {
    "image.png": {
     "image/png": "[encoded data removed]"
    }
   },
   "cell_type": "markdown",
   "metadata": {},
   "source": [
    "* **Recall** é uma medida de quantos resultados verdadeiramente relevantes são retornados, ou seja, **porcentagem do total de resultados relevantes classificados corretamente pelo seu algoritmo**\n",
    "![image.png](attachment:image.png)"
   ]
  },
  {
   "cell_type": "markdown",
   "metadata": {},
   "source": [
    "* Um sistema com **alto recall**, mas **baixa Precision** retorna muitos resultados, mas a maioria de seus rótulos previstos está incorreta quando comparada aos rótulos de treinamento. \n",
    "* Um sistema com **alta Precision**, mas com **baixa Recall**, é exatamente o oposto, retornando muito poucos resultados, mas a maioria de seus rótulos previstos está correta quando comparada aos rótulos de treinamento. \n",
    "* Um sistema ideal com **alta Precision** e **alta Recall** retornará muitos resultados, com todos os resultados rotulados corretamente."
   ]
  },
  {
   "cell_type": "code",
   "execution_count": 53,
   "metadata": {},
   "outputs": [
    {
     "name": "stdout",
     "output_type": "stream",
     "text": [
      "Average precision-recall score: 0.01\n"
     ]
    }
   ],
   "source": [
    "average_precision = average_precision_score(y_test, preds)\n",
    "\n",
    "print('Average precision-recall score: {0:0.2f}'.format(average_precision))"
   ]
  },
  {
   "cell_type": "code",
   "execution_count": 54,
   "metadata": {},
   "outputs": [
    {
     "data": {
      "text/plain": [
       "Text(0.5, 1.0, '2-class Precision-Recall curve: AP=0.01')"
      ]
     },
     "execution_count": 54,
     "metadata": {},
     "output_type": "execute_result"
    },
    {
     "data": {
      "image/png": "[encoded data removed]",
      "text/plain": [
       "<Figure size 432x288 with 1 Axes>"
      ]
     },
     "metadata": {
      "needs_background": "light"
     },
     "output_type": "display_data"
    }
   ],
   "source": [
    "precision, recall, _ = precision_recall_curve(y_test, preds)\n",
    "\n",
    "# In matplotlib < 1.5, plt.fill_between does not have a 'step' argument\n",
    "step_kwargs = ({'step': 'post'} if 'step' in signature(plt.fill_between).parameters\n",
    "                                else {})\n",
    "plt.step(recall, precision, color='b', alpha=0.2, where='post')\n",
    "plt.fill_between(recall, precision, alpha=0.2, color='b', **step_kwargs)\n",
    "\n",
    "plt.xlabel('Recall')\n",
    "plt.ylabel('Precision')\n",
    "\n",
    "plt.ylim([0.0, 1.0])\n",
    "plt.xlim([0.0, 1.0])\n",
    "\n",
    "plt.title('2-class Precision-Recall curve: AP={0:0.2f}'.format(average_precision))"
   ]
  },
  {
   "cell_type": "markdown",
   "metadata": {},
   "source": [
    "# Classification report"
   ]
  },
  {
   "cell_type": "code",
   "execution_count": null,
   "metadata": {},
   "outputs": [],
   "source": [
    "# classification_report\n",
    "print(classification_report(y_test, preds))"
   ]
  },
  {
   "cell_type": "code",
   "execution_count": null,
   "metadata": {},
   "outputs": [],
   "source": [
    "print('AUC: %.3f' % aucur)\n",
    "print('Mean Absolute Error:', maer)"
   ]
  },
  {
   "cell_type": "code",
   "execution_count": null,
   "metadata": {},
   "outputs": [],
   "source": []
  }
 ],
 "metadata": {
  "kernelspec": {
   "display_name": "Python 3",
   "language": "python",
   "name": "python3"
  },
  "language_info": {
   "codemirror_mode": {
    "name": "ipython",
    "version": 3
   },
   "file_extension": ".py",
   "mimetype": "text/x-python",
   "name": "python",
   "nbconvert_exporter": "python",
   "pygments_lexer": "ipython3",
   "version": "3.8.2"
  }
 },
 "nbformat": 4,
 "nbformat_minor": 4
}
