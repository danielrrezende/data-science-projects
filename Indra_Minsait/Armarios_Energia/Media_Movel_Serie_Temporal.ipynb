{
 "cells": [
  {
   "cell_type": "code",
   "execution_count": 1,
   "id": "53ce3b4b",
   "metadata": {},
   "outputs": [],
   "source": [
    "import pandas as pd\n",
    "import numpy as np\n",
    "import matplotlib.pyplot as plt\n",
    "import sys\n",
    "import seaborn as sns"
   ]
  },
  {
   "cell_type": "code",
   "execution_count": 2,
   "id": "6d203d6a",
   "metadata": {},
   "outputs": [],
   "source": [
    "PATH = \"../Dados/Armarios/\""
   ]
  },
  {
   "cell_type": "code",
   "execution_count": 3,
   "id": "e4b4c02f",
   "metadata": {},
   "outputs": [
    {
     "data": {
      "text/plain": [
       "contagem         int64\n",
       "custo          float64\n",
       "consumo        float64\n",
       "mes             string\n",
       "macroregiao     object\n",
       "dtype: object"
      ]
     },
     "execution_count": 3,
     "metadata": {},
     "output_type": "execute_result"
    }
   ],
   "source": [
    "consumo_macroregioes = pd.read_csv(PATH + 'consumo_macroregioes.txt', sep = '\\t')\n",
    "consumo_macroregioes['mes'] = consumo_macroregioes['mes'].astype('string')\n",
    "consumo_macroregioes.dtypes"
   ]
  },
  {
   "cell_type": "code",
   "execution_count": null,
   "id": "762b8549",
   "metadata": {},
   "outputs": [],
   "source": [
    "estados_armarios['consumo'].loc[estados_armarios['macroregiao'] == 'NE'].sum()"
   ]
  },
  {
   "cell_type": "code",
   "execution_count": 4,
   "id": "6d0f6225",
   "metadata": {},
   "outputs": [
    {
     "data": {
      "text/html": [
       "<div>\n",
       "<style scoped>\n",
       "    .dataframe tbody tr th:only-of-type {\n",
       "        vertical-align: middle;\n",
       "    }\n",
       "\n",
       "    .dataframe tbody tr th {\n",
       "        vertical-align: top;\n",
       "    }\n",
       "\n",
       "    .dataframe thead th {\n",
       "        text-align: right;\n",
       "    }\n",
       "</style>\n",
       "<table border=\"1\" class=\"dataframe\">\n",
       "  <thead>\n",
       "    <tr style=\"text-align: right;\">\n",
       "      <th></th>\n",
       "      <th>contagem</th>\n",
       "      <th>custo</th>\n",
       "      <th>consumo</th>\n",
       "      <th>mes</th>\n",
       "      <th>macroregiao</th>\n",
       "    </tr>\n",
       "  </thead>\n",
       "  <tbody>\n",
       "    <tr>\n",
       "      <th>0</th>\n",
       "      <td>442</td>\n",
       "      <td>480234.46</td>\n",
       "      <td>651819.30</td>\n",
       "      <td>2017-01-01</td>\n",
       "      <td>NE</td>\n",
       "    </tr>\n",
       "    <tr>\n",
       "      <th>1</th>\n",
       "      <td>1621</td>\n",
       "      <td>1736961.80</td>\n",
       "      <td>2578865.00</td>\n",
       "      <td>2017-01-01</td>\n",
       "      <td>S</td>\n",
       "    </tr>\n",
       "    <tr>\n",
       "      <th>2</th>\n",
       "      <td>717</td>\n",
       "      <td>679924.46</td>\n",
       "      <td>979926.39</td>\n",
       "      <td>2017-01-01</td>\n",
       "      <td>CO</td>\n",
       "    </tr>\n",
       "    <tr>\n",
       "      <th>3</th>\n",
       "      <td>1534</td>\n",
       "      <td>1370699.86</td>\n",
       "      <td>1975685.45</td>\n",
       "      <td>2017-01-01</td>\n",
       "      <td>SE</td>\n",
       "    </tr>\n",
       "    <tr>\n",
       "      <th>4</th>\n",
       "      <td>726</td>\n",
       "      <td>652974.70</td>\n",
       "      <td>933461.28</td>\n",
       "      <td>2017-02-01</td>\n",
       "      <td>CO</td>\n",
       "    </tr>\n",
       "    <tr>\n",
       "      <th>...</th>\n",
       "      <td>...</td>\n",
       "      <td>...</td>\n",
       "      <td>...</td>\n",
       "      <td>...</td>\n",
       "      <td>...</td>\n",
       "    </tr>\n",
       "    <tr>\n",
       "      <th>318</th>\n",
       "      <td>375</td>\n",
       "      <td>204373.67</td>\n",
       "      <td>241066.03</td>\n",
       "      <td>2022-05-01</td>\n",
       "      <td>CO</td>\n",
       "    </tr>\n",
       "    <tr>\n",
       "      <th>319</th>\n",
       "      <td>1</td>\n",
       "      <td>2063.19</td>\n",
       "      <td>1776.00</td>\n",
       "      <td>2022-05-01</td>\n",
       "      <td>N</td>\n",
       "    </tr>\n",
       "    <tr>\n",
       "      <th>320</th>\n",
       "      <td>497</td>\n",
       "      <td>656417.78</td>\n",
       "      <td>571878.00</td>\n",
       "      <td>2022-05-01</td>\n",
       "      <td>NE</td>\n",
       "    </tr>\n",
       "    <tr>\n",
       "      <th>321</th>\n",
       "      <td>1563</td>\n",
       "      <td>1322533.63</td>\n",
       "      <td>1542652.84</td>\n",
       "      <td>2022-05-01</td>\n",
       "      <td>S</td>\n",
       "    </tr>\n",
       "    <tr>\n",
       "      <th>322</th>\n",
       "      <td>1391</td>\n",
       "      <td>925971.45</td>\n",
       "      <td>1352877.60</td>\n",
       "      <td>2022-05-01</td>\n",
       "      <td>SE</td>\n",
       "    </tr>\n",
       "  </tbody>\n",
       "</table>\n",
       "<p>323 rows × 5 columns</p>\n",
       "</div>"
      ],
      "text/plain": [
       "     contagem       custo     consumo        mes macroregiao\n",
       "0         442   480234.46   651819.30 2017-01-01          NE\n",
       "1        1621  1736961.80  2578865.00 2017-01-01           S\n",
       "2         717   679924.46   979926.39 2017-01-01          CO\n",
       "3        1534  1370699.86  1975685.45 2017-01-01          SE\n",
       "4         726   652974.70   933461.28 2017-02-01          CO\n",
       "..        ...         ...         ...        ...         ...\n",
       "318       375   204373.67   241066.03 2022-05-01          CO\n",
       "319         1     2063.19     1776.00 2022-05-01           N\n",
       "320       497   656417.78   571878.00 2022-05-01          NE\n",
       "321      1563  1322533.63  1542652.84 2022-05-01           S\n",
       "322      1391   925971.45  1352877.60 2022-05-01          SE\n",
       "\n",
       "[323 rows x 5 columns]"
      ]
     },
     "execution_count": 4,
     "metadata": {},
     "output_type": "execute_result"
    }
   ],
   "source": [
    "consumo_macroregioes['mes'] = consumo_macroregioes['mes'].apply(lambda x: pd.to_datetime(str(x) + '01'))\n",
    "consumo_macroregioes"
   ]
  },
  {
   "cell_type": "code",
   "execution_count": null,
   "id": "0eb5a4e9",
   "metadata": {},
   "outputs": [],
   "source": [
    "optimal_n = None\n",
    "\n",
    "best_mse = None\n",
    "\n",
    "db = consumo_macroregioes[['consumo']].loc[consumo_macroregioes['macroregiao']=='SE'].values.astype('float32')\n",
    "\n",
    "mean_results_for_all_possible_n_values = np.zeros(int(len(db) / 2 - 2))\n",
    "\n",
    "\n",
    "for n in range(3, int(len(db) / 2 + 1)):\n",
    "    mean_for_n = np.zeros(len(db) - n)\n",
    "    for i in range(0, len(db) - n):\n",
    "        mean_for_n[i] = np.power(np.mean(db[:, 0][i:i+n]) - db[i + n][0], 2)\n",
    "    mean_results_for_all_possible_n_values[n - 3] = np.mean(mean_for_n)\n",
    "optimal_n = np.argmin(mean_results_for_all_possible_n_values) + 3\n",
    "best_mse = np.min(mean_results_for_all_possible_n_values)\n",
    "\n",
    "\n",
    "print(\"MSE = %s\" % mean_results_for_all_possible_n_values)\n",
    "print(\"Melhor MSE = %s\" % best_mse)\n",
    "print(\"Otimo n = %s\" % optimal_n)"
   ]
  },
  {
   "cell_type": "code",
   "execution_count": null,
   "id": "ede074bc",
   "metadata": {},
   "outputs": [],
   "source": [
    "print('MA = %s' % np.mean(db[:, 0][len(db) - optimal_n:len(db)]))"
   ]
  },
  {
   "cell_type": "code",
   "execution_count": null,
   "id": "67e1165f",
   "metadata": {},
   "outputs": [],
   "source": [
    "fig = plt.figure(figsize=(10,5))\n",
    "forecast = np.zeros(len(db) + 1)\n",
    "for i in range(0, optimal_n):\n",
    "    forecast[i] = db[i][0]\n",
    "for i in range(0, len(db) - optimal_n + 1):\n",
    "        forecast[i+optimal_n] = np.mean(db[:, 0][i:i+optimal_n])\n",
    "plt.plot(db[:, 0],label = 'Dados Originais')\n",
    "plt.plot(forecast, label = 'Previsão')\n",
    "plt.legend()\n",
    "plt.show()"
   ]
  },
  {
   "cell_type": "code",
   "execution_count": 4,
   "id": "b9e89555",
   "metadata": {},
   "outputs": [
    {
     "data": {
      "text/html": [
       "<div>\n",
       "<style scoped>\n",
       "    .dataframe tbody tr th:only-of-type {\n",
       "        vertical-align: middle;\n",
       "    }\n",
       "\n",
       "    .dataframe tbody tr th {\n",
       "        vertical-align: top;\n",
       "    }\n",
       "\n",
       "    .dataframe thead th {\n",
       "        text-align: right;\n",
       "    }\n",
       "</style>\n",
       "<table border=\"1\" class=\"dataframe\">\n",
       "  <thead>\n",
       "    <tr style=\"text-align: right;\">\n",
       "      <th></th>\n",
       "      <th>consumo</th>\n",
       "      <th>mes</th>\n",
       "    </tr>\n",
       "  </thead>\n",
       "  <tbody>\n",
       "    <tr>\n",
       "      <th>3</th>\n",
       "      <td>1975685.45</td>\n",
       "      <td>201701</td>\n",
       "    </tr>\n",
       "    <tr>\n",
       "      <th>8</th>\n",
       "      <td>1918435.64</td>\n",
       "      <td>201702</td>\n",
       "    </tr>\n",
       "    <tr>\n",
       "      <th>13</th>\n",
       "      <td>2095963.00</td>\n",
       "      <td>201703</td>\n",
       "    </tr>\n",
       "    <tr>\n",
       "      <th>18</th>\n",
       "      <td>1793219.74</td>\n",
       "      <td>201704</td>\n",
       "    </tr>\n",
       "    <tr>\n",
       "      <th>23</th>\n",
       "      <td>2133632.30</td>\n",
       "      <td>201705</td>\n",
       "    </tr>\n",
       "    <tr>\n",
       "      <th>...</th>\n",
       "      <td>...</td>\n",
       "      <td>...</td>\n",
       "    </tr>\n",
       "    <tr>\n",
       "      <th>302</th>\n",
       "      <td>1445668.92</td>\n",
       "      <td>202201</td>\n",
       "    </tr>\n",
       "    <tr>\n",
       "      <th>307</th>\n",
       "      <td>1389495.49</td>\n",
       "      <td>202202</td>\n",
       "    </tr>\n",
       "    <tr>\n",
       "      <th>312</th>\n",
       "      <td>1464993.20</td>\n",
       "      <td>202203</td>\n",
       "    </tr>\n",
       "    <tr>\n",
       "      <th>317</th>\n",
       "      <td>1371781.80</td>\n",
       "      <td>202204</td>\n",
       "    </tr>\n",
       "    <tr>\n",
       "      <th>322</th>\n",
       "      <td>1352877.60</td>\n",
       "      <td>202205</td>\n",
       "    </tr>\n",
       "  </tbody>\n",
       "</table>\n",
       "<p>65 rows × 2 columns</p>\n",
       "</div>"
      ],
      "text/plain": [
       "        consumo     mes\n",
       "3    1975685.45  201701\n",
       "8    1918435.64  201702\n",
       "13   2095963.00  201703\n",
       "18   1793219.74  201704\n",
       "23   2133632.30  201705\n",
       "..          ...     ...\n",
       "302  1445668.92  202201\n",
       "307  1389495.49  202202\n",
       "312  1464993.20  202203\n",
       "317  1371781.80  202204\n",
       "322  1352877.60  202205\n",
       "\n",
       "[65 rows x 2 columns]"
      ]
     },
     "execution_count": 4,
     "metadata": {},
     "output_type": "execute_result"
    }
   ],
   "source": [
    "data = consumo_macroregioes[['consumo', 'mes']].loc[consumo_macroregioes['macroregiao']=='SE']\n",
    "#data = pd.DataFrame(consumo_macroregioes.groupby('mes')['consumo'].sum())\n",
    "#data.reset_index(inplace=True)\n",
    "data"
   ]
  },
  {
   "cell_type": "code",
   "execution_count": null,
   "id": "adc5cf1c",
   "metadata": {},
   "outputs": [],
   "source": [
    "dados_2017['mes'].dt.strftime('%m')"
   ]
  },
  {
   "cell_type": "code",
   "execution_count": null,
   "id": "0ec95dc7",
   "metadata": {},
   "outputs": [],
   "source": [
    "fig = plt.figure(figsize=(10,5))\n",
    "plt.plot(dados_2017['mes'], dados_2017['consumo'], color = 'blue')\n",
    "plt.plot(dados_2018['mes'], dados_2018['consumo'], color = 'green')\n",
    "plt.plot(dados_2019['mes'], dados_2019['consumo'], color = 'orange')\n",
    "plt.plot(dados_2020['mes'], dados_2020['consumo'], color = 'black')\n",
    "plt.plot(dados_2021['mes'], dados_2021['consumo'], color = 'pink')\n",
    "plt.title(\"consumo\", fontsize = 24)\n",
    "plt.ylabel(\"Consumo\")\n",
    "plt.xlabel(\"Data\")\n",
    "plt.show()"
   ]
  },
  {
   "cell_type": "code",
   "execution_count": null,
   "id": "82aef476",
   "metadata": {},
   "outputs": [],
   "source": [
    "from statsmodels.tsa.stattools import adfuller"
   ]
  },
  {
   "cell_type": "code",
   "execution_count": null,
   "id": "30b7b9aa",
   "metadata": {},
   "outputs": [],
   "source": [
    "X = data['consumo']\n",
    "result = adfuller(X)\n",
    "result\n",
    "print('ADF Estatíticas: %f' % result[0])\n",
    "print('Valor de P: %f' % result[1])\n",
    "print('Valores Críticos:')\n",
    "for key, value in result[4].items():\n",
    "    print('\\t%s: %.3f' % (key, value))"
   ]
  },
  {
   "cell_type": "code",
   "execution_count": null,
   "id": "84f52b4b",
   "metadata": {},
   "outputs": [],
   "source": [
    "data.set_index('mes', inplace=True)\n",
    "d_log=np.log(data)"
   ]
  },
  {
   "cell_type": "code",
   "execution_count": null,
   "id": "f10430f9",
   "metadata": {},
   "outputs": [],
   "source": [
    "plt.plot(d_log)"
   ]
  },
  {
   "cell_type": "code",
   "execution_count": null,
   "id": "4c4cb497",
   "metadata": {},
   "outputs": [],
   "source": [
    "plt.plot(data)"
   ]
  },
  {
   "cell_type": "code",
   "execution_count": null,
   "id": "8dc3174c",
   "metadata": {},
   "outputs": [],
   "source": [
    "y = data['consumo']\n",
    "\n",
    "def adf_test(y):\n",
    "    # perform Augmented Dickey Fuller test\n",
    "    print('Resutaldo do Teste Dickey-Fuller:')\n",
    "    dftest = adfuller(y, autolag='AIC')\n",
    "    dfoutput = pd.Series(dftest[0:4], index=['Teste', 'Valor p', '# de lags', '# de observações'])\n",
    "    for key, value in dftest[4].items():\n",
    "        dfoutput['Valores Críticos ({})'.format(key)] = value\n",
    "    print(dfoutput)"
   ]
  },
  {
   "cell_type": "code",
   "execution_count": null,
   "id": "de80b845",
   "metadata": {},
   "outputs": [],
   "source": [
    "def kpss_test(y):\n",
    "    print(\"Results of KPSS Test:\")\n",
    "    kpsstest = kpss(y, regression=\"c\", nlags=\"auto\")\n",
    "    kpss_output = pd.Series(\n",
    "        kpsstest[0:3], index=[\"Test Statistic\", \"p-value\", \"Lags Used\"]\n",
    "    )\n",
    "    for key, value in kpsstest[3].items():\n",
    "        kpss_output[\"Critical Value (%s)\" % key] = value\n",
    "    print(kpss_output)"
   ]
  },
  {
   "cell_type": "code",
   "execution_count": null,
   "id": "01bca59f",
   "metadata": {},
   "outputs": [],
   "source": [
    "adf_test(y)"
   ]
  },
  {
   "cell_type": "code",
   "execution_count": null,
   "id": "cce0ffa5",
   "metadata": {},
   "outputs": [],
   "source": [
    "y_diff = np.diff(y)"
   ]
  },
  {
   "cell_type": "code",
   "execution_count": null,
   "id": "c22c13b9",
   "metadata": {},
   "outputs": [],
   "source": [
    "y_diff"
   ]
  },
  {
   "cell_type": "code",
   "execution_count": null,
   "id": "1aa5f550",
   "metadata": {},
   "outputs": [],
   "source": [
    "fig = plt.figure(figsize=(15,8))\n",
    "plt.plot(y_diff)"
   ]
  },
  {
   "cell_type": "code",
   "execution_count": null,
   "id": "c9d0b8bd",
   "metadata": {},
   "outputs": [],
   "source": [
    "adf_test(y_diff)"
   ]
  },
  {
   "cell_type": "code",
   "execution_count": null,
   "id": "5064f37f",
   "metadata": {},
   "outputs": [],
   "source": [
    "from statsmodels.tsa.stattools import kpss\n",
    "kpss_test(y)"
   ]
  },
  {
   "cell_type": "code",
   "execution_count": null,
   "id": "00a46934",
   "metadata": {},
   "outputs": [],
   "source": [
    "rolmean  = data.rolling(window=12).mean() #12 meses\n",
    "rolstd = data.rolling(window=12).std()\n",
    "print(rolmean)"
   ]
  },
  {
   "cell_type": "code",
   "execution_count": null,
   "id": "8e17ccd8",
   "metadata": {},
   "outputs": [],
   "source": [
    "rolstd"
   ]
  },
  {
   "cell_type": "code",
   "execution_count": null,
   "id": "8988a3d3",
   "metadata": {},
   "outputs": [],
   "source": [
    "data = data[['consumo', 'mes']]\n",
    "data.set_index('mes', inplace=True)"
   ]
  },
  {
   "cell_type": "code",
   "execution_count": null,
   "id": "e067f722",
   "metadata": {},
   "outputs": [],
   "source": [
    "indexedDataset_logScale = np.log(data)\n",
    "plt.plot(indexedDataset_logScale)"
   ]
  },
  {
   "cell_type": "code",
   "execution_count": null,
   "id": "b4525821",
   "metadata": {},
   "outputs": [],
   "source": [
    "movingAverage = indexedDataset_logScale.rolling(window=12).mean()\n",
    "movingSTD = indexedDataset_logScale.rolling(window=12).std()\n",
    "plt.plot(indexedDataset_logScale)\n",
    "plt.plot(movingAverage, color='red')"
   ]
  },
  {
   "cell_type": "code",
   "execution_count": null,
   "id": "6f6eb5f5",
   "metadata": {},
   "outputs": [],
   "source": [
    "datasetLogScaleMinusMovingAverage = indexedDataset_logScale - movingAverage\n",
    "datasetLogScaleMinusMovingAverage.head(12)"
   ]
  },
  {
   "cell_type": "code",
   "execution_count": null,
   "id": "6ae406c7",
   "metadata": {},
   "outputs": [],
   "source": [
    "datasetLogScaleMinusMovingAverage.dropna(inplace=True)\n",
    "datasetLogScaleMinusMovingAverage.head(10)"
   ]
  },
  {
   "cell_type": "code",
   "execution_count": null,
   "id": "40c3ca72",
   "metadata": {},
   "outputs": [],
   "source": [
    "#teste de estacionariedade, este é diferente porque vai plotar os resultados\n",
    "def test_stationarity(timeseries):\n",
    "    #estatisticas moveis\n",
    "    movingAverage = timeseries.rolling(window=12).mean()\n",
    "    movingSTD = timeseries.rolling(window=12).std()\n",
    "    \n",
    "    #imprime estatisticas moveis\n",
    "    orig = plt.plot(timeseries, color='blue', label='Original')\n",
    "    mean = plt.plot(movingAverage, color='red', label='Média Móvel')\n",
    "    std = plt.plot(movingSTD, color='black', label = 'Desvio Padrão ')\n",
    "    plt.legend(loc='best')\n",
    "    plt.title('Média Movei e Desvio Padrão')\n",
    "    plt.show(block=False)\n",
    "    \n",
    "    #teste de Dickey-Fuller\n",
    "    print('Resultados do Teste de Dickey-Fuller:')\n",
    "    dftest = adfuller(timeseries['consumo'], autolag='AIC')\n",
    "    dfoutput = pd.Series(dftest[0:4], index=['Estatística de Teste', 'valor de p', '# de intervalos', '# de observações'])\n",
    "    for key, value in dftest[4].items():\n",
    "        dfoutput['Valor crítico ({})'.format(key)] = value\n",
    "    print(dfoutput)     "
   ]
  },
  {
   "cell_type": "code",
   "execution_count": null,
   "id": "da0e26be",
   "metadata": {},
   "outputs": [],
   "source": [
    "test_stationarity(datasetLogScaleMinusMovingAverage)"
   ]
  },
  {
   "cell_type": "code",
   "execution_count": null,
   "id": "1bc731fd",
   "metadata": {},
   "outputs": [],
   "source": [
    "X = [i for i in range(0,len(data))]\n",
    "X = np.reshape( X, (len(X),1))\n",
    "y = data.values"
   ]
  },
  {
   "cell_type": "code",
   "execution_count": null,
   "id": "2e7f2ca5",
   "metadata": {},
   "outputs": [],
   "source": [
    "from sklearn.linear_model import LinearRegression"
   ]
  },
  {
   "cell_type": "code",
   "execution_count": null,
   "id": "9d1309c7",
   "metadata": {},
   "outputs": [],
   "source": [
    "model = LinearRegression()\n",
    "model.fit(X, y)"
   ]
  },
  {
   "cell_type": "code",
   "execution_count": null,
   "id": "2942ffbc",
   "metadata": {},
   "outputs": [],
   "source": [
    "trend = model.predict(X)"
   ]
  },
  {
   "cell_type": "code",
   "execution_count": null,
   "id": "636a87d2",
   "metadata": {},
   "outputs": [],
   "source": [
    "plt.plot(y)\n",
    "plt.plot(trend)\n",
    "plt.show()"
   ]
  },
  {
   "cell_type": "code",
   "execution_count": null,
   "id": "09732440",
   "metadata": {},
   "outputs": [],
   "source": [
    "detrended = [y[i]-trend[i] for i in range(0, len(data))]"
   ]
  },
  {
   "cell_type": "code",
   "execution_count": null,
   "id": "b0ba1b7d",
   "metadata": {},
   "outputs": [],
   "source": [
    "# plot detrended\n",
    "plt.plot(detrended)\n",
    "plt.plot(y)\n",
    "plt.plot(trend)\n",
    "plt.show()"
   ]
  },
  {
   "cell_type": "code",
   "execution_count": null,
   "id": "263d8380",
   "metadata": {},
   "outputs": [],
   "source": [
    "fig = plt.figure(figsize=(10,5))\n",
    "plt.plot(data)\n",
    "plt.title(\"consumo\", fontsize = 24)\n",
    "plt.ylabel(\"Consumo\")\n",
    "plt.xlabel(\"Data\")\n",
    "plt.show()"
   ]
  },
  {
   "cell_type": "code",
   "execution_count": null,
   "id": "d1fc4bd1",
   "metadata": {},
   "outputs": [],
   "source": [
    "from statsmodels.tsa.seasonal import seasonal_decompose"
   ]
  },
  {
   "cell_type": "code",
   "execution_count": null,
   "id": "1d85d70f",
   "metadata": {},
   "outputs": [],
   "source": [
    "result = seasonal_decompose(data, model='multiplicative')"
   ]
  },
  {
   "cell_type": "code",
   "execution_count": null,
   "id": "51e6ee11",
   "metadata": {},
   "outputs": [],
   "source": [
    "result.plot()\n",
    "plt.show()"
   ]
  },
  {
   "cell_type": "code",
   "execution_count": null,
   "id": "1b705e17",
   "metadata": {},
   "outputs": [],
   "source": [
    "result2 = seasonal_decompose(data, model='aditive')\n",
    "result2.plot()\n",
    "plt.show()"
   ]
  },
  {
   "cell_type": "code",
   "execution_count": null,
   "id": "729e4e23",
   "metadata": {},
   "outputs": [],
   "source": [
    "fig = plt.figure(figsize=(20, 6))\n",
    "\n",
    "\n",
    "\n",
    "x = consumo_macroregioes['mes'].loc[consumo_macroregioes['macroregiao']=='NE']\n",
    "y = consumo_macroregioes['consumo'].loc[consumo_macroregioes['macroregiao']=='NE']\n",
    "mm3 = consumo_macroregioes['consumo'].loc[consumo_macroregioes['macroregiao']=='NE'].rolling(12).mean()\n",
    "plt.plot(x, y, label='Real', color='#3CADF2')\n",
    "plt.plot(x, mm3, label='Média Móvel de 3', color='red')\n",
    "\n",
    "\n",
    "\n",
    "plt.legend()\n",
    "#plt.gca().xaxis.set_major_locator(mdates.MonthLocator(interval=2))\n",
    "#plt.gcf().autofmt_xdate()"
   ]
  },
  {
   "cell_type": "code",
   "execution_count": null,
   "id": "ae4654ea",
   "metadata": {},
   "outputs": [],
   "source": [
    "fig = plt.figure(figsize=(20, 6))\n",
    "\n",
    "\n",
    "\n",
    "x = consumo_macroregioes['mes'].loc[consumo_macroregioes['macroregiao']=='SE']\n",
    "y = consumo_macroregioes['consumo'].loc[consumo_macroregioes['macroregiao']=='SE']\n",
    "mm3 = consumo_macroregioes['consumo'].loc[consumo_macroregioes['macroregiao']=='SE'].rolling(12).mean()\n",
    "plt.plot(x, y, label='Real', color='#3CADF2')\n",
    "plt.plot(x, mm3, label='Média Móvel de 3', color='red')\n",
    "\n",
    "\n",
    "\n",
    "plt.legend()\n",
    "#plt.gca().xaxis.set_major_locator(mdates.MonthLocator(interval=2))\n",
    "#plt.gcf().autofmt_xdate()"
   ]
  },
  {
   "cell_type": "code",
   "execution_count": null,
   "id": "59347326",
   "metadata": {},
   "outputs": [],
   "source": [
    "fig = plt.figure(figsize=(20, 6))\n",
    "\n",
    "\n",
    "\n",
    "x = consumo_macroregioes['mes'].loc[consumo_macroregioes['macroregiao']=='S']\n",
    "y = consumo_macroregioes['consumo'].loc[consumo_macroregioes['macroregiao']=='S']\n",
    "mm3 = consumo_macroregioes['consumo'].loc[consumo_macroregioes['macroregiao']=='S'].rolling(12).mean()\n",
    "plt.plot(x, y, label='Real', color='#3CADF2')\n",
    "plt.plot(x, mm3, label='Média Móvel de 3', color='red')\n",
    "\n",
    "\n",
    "\n",
    "plt.legend()\n",
    "#plt.gca().xaxis.set_major_locator(mdates.MonthLocator(interval=2))\n",
    "#plt.gcf().autofmt_xdate()"
   ]
  },
  {
   "cell_type": "code",
   "execution_count": null,
   "id": "3567bfba",
   "metadata": {},
   "outputs": [],
   "source": [
    "fig = plt.figure(figsize=(20, 6))\n",
    "\n",
    "\n",
    "\n",
    "x = consumo_macroregioes['mes'].loc[consumo_macroregioes['macroregiao']=='CO']\n",
    "y = consumo_macroregioes['consumo'].loc[consumo_macroregioes['macroregiao']=='CO']\n",
    "mm3 = consumo_macroregioes['consumo'].loc[consumo_macroregioes['macroregiao']=='CO'].rolling(5).median()\n",
    "plt.plot(x, y, label='Real', color='#3CADF2')\n",
    "plt.plot(x, mm3, label='Média Móvel de 3', color='red')\n",
    "\n",
    "\n",
    "\n",
    "plt.legend()\n",
    "#plt.gca().xaxis.set_major_locator(mdates.MonthLocator(interval=2))\n",
    "#plt.gcf().autofmt_xdate()"
   ]
  },
  {
   "cell_type": "code",
   "execution_count": null,
   "id": "da51d0d1",
   "metadata": {},
   "outputs": [],
   "source": [
    "fig = plt.figure(figsize=(20, 6))\n",
    "\n",
    "\n",
    "\n",
    "x = consumo_macroregioes['mes'].loc[consumo_macroregioes['macroregiao']=='CO']\n",
    "y = consumo_macroregioes['consumo'].loc[consumo_macroregioes['macroregiao']=='CO']\n",
    "mm3 = consumo_macroregioes['consumo'].loc[consumo_macroregioes['macroregiao']=='CO'].rolling(5).mean()\n",
    "plt.plot(x, y, label='Real', color='#3CADF2')\n",
    "plt.plot(x, mm3, label='Média Móvel de 3', color='red')\n",
    "\n",
    "\n",
    "\n",
    "plt.legend()\n",
    "#plt.gca().xaxis.set_major_locator(mdates.MonthLocator(interval=2))\n",
    "#plt.gcf().autofmt_xdate()"
   ]
  },
  {
   "cell_type": "code",
   "execution_count": 6,
   "id": "4ad2d694",
   "metadata": {},
   "outputs": [
    {
     "data": {
      "text/html": [
       "<div>\n",
       "<style scoped>\n",
       "    .dataframe tbody tr th:only-of-type {\n",
       "        vertical-align: middle;\n",
       "    }\n",
       "\n",
       "    .dataframe tbody tr th {\n",
       "        vertical-align: top;\n",
       "    }\n",
       "\n",
       "    .dataframe thead th {\n",
       "        text-align: right;\n",
       "    }\n",
       "</style>\n",
       "<table border=\"1\" class=\"dataframe\">\n",
       "  <thead>\n",
       "    <tr style=\"text-align: right;\">\n",
       "      <th></th>\n",
       "      <th>contagem</th>\n",
       "      <th>custo</th>\n",
       "      <th>consumo</th>\n",
       "      <th>mes</th>\n",
       "      <th>macroregiao</th>\n",
       "    </tr>\n",
       "  </thead>\n",
       "  <tbody>\n",
       "    <tr>\n",
       "      <th>0</th>\n",
       "      <td>442</td>\n",
       "      <td>480234.46</td>\n",
       "      <td>651819.30</td>\n",
       "      <td>201701</td>\n",
       "      <td>NE</td>\n",
       "    </tr>\n",
       "    <tr>\n",
       "      <th>1</th>\n",
       "      <td>1621</td>\n",
       "      <td>1736961.80</td>\n",
       "      <td>2578865.00</td>\n",
       "      <td>201701</td>\n",
       "      <td>S</td>\n",
       "    </tr>\n",
       "    <tr>\n",
       "      <th>2</th>\n",
       "      <td>717</td>\n",
       "      <td>679924.46</td>\n",
       "      <td>979926.39</td>\n",
       "      <td>201701</td>\n",
       "      <td>CO</td>\n",
       "    </tr>\n",
       "    <tr>\n",
       "      <th>3</th>\n",
       "      <td>1534</td>\n",
       "      <td>1370699.86</td>\n",
       "      <td>1975685.45</td>\n",
       "      <td>201701</td>\n",
       "      <td>SE</td>\n",
       "    </tr>\n",
       "    <tr>\n",
       "      <th>4</th>\n",
       "      <td>726</td>\n",
       "      <td>652974.70</td>\n",
       "      <td>933461.28</td>\n",
       "      <td>201702</td>\n",
       "      <td>CO</td>\n",
       "    </tr>\n",
       "    <tr>\n",
       "      <th>...</th>\n",
       "      <td>...</td>\n",
       "      <td>...</td>\n",
       "      <td>...</td>\n",
       "      <td>...</td>\n",
       "      <td>...</td>\n",
       "    </tr>\n",
       "    <tr>\n",
       "      <th>318</th>\n",
       "      <td>375</td>\n",
       "      <td>204373.67</td>\n",
       "      <td>241066.03</td>\n",
       "      <td>202205</td>\n",
       "      <td>CO</td>\n",
       "    </tr>\n",
       "    <tr>\n",
       "      <th>319</th>\n",
       "      <td>1</td>\n",
       "      <td>2063.19</td>\n",
       "      <td>1776.00</td>\n",
       "      <td>202205</td>\n",
       "      <td>N</td>\n",
       "    </tr>\n",
       "    <tr>\n",
       "      <th>320</th>\n",
       "      <td>497</td>\n",
       "      <td>656417.78</td>\n",
       "      <td>571878.00</td>\n",
       "      <td>202205</td>\n",
       "      <td>NE</td>\n",
       "    </tr>\n",
       "    <tr>\n",
       "      <th>321</th>\n",
       "      <td>1563</td>\n",
       "      <td>1322533.63</td>\n",
       "      <td>1542652.84</td>\n",
       "      <td>202205</td>\n",
       "      <td>S</td>\n",
       "    </tr>\n",
       "    <tr>\n",
       "      <th>322</th>\n",
       "      <td>1391</td>\n",
       "      <td>925971.45</td>\n",
       "      <td>1352877.60</td>\n",
       "      <td>202205</td>\n",
       "      <td>SE</td>\n",
       "    </tr>\n",
       "  </tbody>\n",
       "</table>\n",
       "<p>323 rows × 5 columns</p>\n",
       "</div>"
      ],
      "text/plain": [
       "     contagem       custo     consumo     mes macroregiao\n",
       "0         442   480234.46   651819.30  201701          NE\n",
       "1        1621  1736961.80  2578865.00  201701           S\n",
       "2         717   679924.46   979926.39  201701          CO\n",
       "3        1534  1370699.86  1975685.45  201701          SE\n",
       "4         726   652974.70   933461.28  201702          CO\n",
       "..        ...         ...         ...     ...         ...\n",
       "318       375   204373.67   241066.03  202205          CO\n",
       "319         1     2063.19     1776.00  202205           N\n",
       "320       497   656417.78   571878.00  202205          NE\n",
       "321      1563  1322533.63  1542652.84  202205           S\n",
       "322      1391   925971.45  1352877.60  202205          SE\n",
       "\n",
       "[323 rows x 5 columns]"
      ]
     },
     "execution_count": 6,
     "metadata": {},
     "output_type": "execute_result"
    }
   ],
   "source": [
    "consumo_macroregioes"
   ]
  },
  {
   "cell_type": "code",
   "execution_count": 7,
   "id": "eacf18d5",
   "metadata": {},
   "outputs": [
    {
     "data": {
      "text/html": [
       "<div>\n",
       "<style scoped>\n",
       "    .dataframe tbody tr th:only-of-type {\n",
       "        vertical-align: middle;\n",
       "    }\n",
       "\n",
       "    .dataframe tbody tr th {\n",
       "        vertical-align: top;\n",
       "    }\n",
       "\n",
       "    .dataframe thead th {\n",
       "        text-align: right;\n",
       "    }\n",
       "</style>\n",
       "<table border=\"1\" class=\"dataframe\">\n",
       "  <thead>\n",
       "    <tr style=\"text-align: right;\">\n",
       "      <th></th>\n",
       "      <th>contagem</th>\n",
       "      <th>custo</th>\n",
       "      <th>consumo</th>\n",
       "      <th>mes</th>\n",
       "      <th>macroregiao</th>\n",
       "      <th>Ticks</th>\n",
       "    </tr>\n",
       "  </thead>\n",
       "  <tbody>\n",
       "    <tr>\n",
       "      <th>0</th>\n",
       "      <td>442</td>\n",
       "      <td>480234.46</td>\n",
       "      <td>651819.30</td>\n",
       "      <td>201701</td>\n",
       "      <td>NE</td>\n",
       "      <td>0</td>\n",
       "    </tr>\n",
       "    <tr>\n",
       "      <th>1</th>\n",
       "      <td>1621</td>\n",
       "      <td>1736961.80</td>\n",
       "      <td>2578865.00</td>\n",
       "      <td>201701</td>\n",
       "      <td>S</td>\n",
       "      <td>1</td>\n",
       "    </tr>\n",
       "    <tr>\n",
       "      <th>2</th>\n",
       "      <td>717</td>\n",
       "      <td>679924.46</td>\n",
       "      <td>979926.39</td>\n",
       "      <td>201701</td>\n",
       "      <td>CO</td>\n",
       "      <td>2</td>\n",
       "    </tr>\n",
       "    <tr>\n",
       "      <th>3</th>\n",
       "      <td>1534</td>\n",
       "      <td>1370699.86</td>\n",
       "      <td>1975685.45</td>\n",
       "      <td>201701</td>\n",
       "      <td>SE</td>\n",
       "      <td>3</td>\n",
       "    </tr>\n",
       "    <tr>\n",
       "      <th>4</th>\n",
       "      <td>726</td>\n",
       "      <td>652974.70</td>\n",
       "      <td>933461.28</td>\n",
       "      <td>201702</td>\n",
       "      <td>CO</td>\n",
       "      <td>4</td>\n",
       "    </tr>\n",
       "    <tr>\n",
       "      <th>...</th>\n",
       "      <td>...</td>\n",
       "      <td>...</td>\n",
       "      <td>...</td>\n",
       "      <td>...</td>\n",
       "      <td>...</td>\n",
       "      <td>...</td>\n",
       "    </tr>\n",
       "    <tr>\n",
       "      <th>318</th>\n",
       "      <td>375</td>\n",
       "      <td>204373.67</td>\n",
       "      <td>241066.03</td>\n",
       "      <td>202205</td>\n",
       "      <td>CO</td>\n",
       "      <td>318</td>\n",
       "    </tr>\n",
       "    <tr>\n",
       "      <th>319</th>\n",
       "      <td>1</td>\n",
       "      <td>2063.19</td>\n",
       "      <td>1776.00</td>\n",
       "      <td>202205</td>\n",
       "      <td>N</td>\n",
       "      <td>319</td>\n",
       "    </tr>\n",
       "    <tr>\n",
       "      <th>320</th>\n",
       "      <td>497</td>\n",
       "      <td>656417.78</td>\n",
       "      <td>571878.00</td>\n",
       "      <td>202205</td>\n",
       "      <td>NE</td>\n",
       "      <td>320</td>\n",
       "    </tr>\n",
       "    <tr>\n",
       "      <th>321</th>\n",
       "      <td>1563</td>\n",
       "      <td>1322533.63</td>\n",
       "      <td>1542652.84</td>\n",
       "      <td>202205</td>\n",
       "      <td>S</td>\n",
       "      <td>321</td>\n",
       "    </tr>\n",
       "    <tr>\n",
       "      <th>322</th>\n",
       "      <td>1391</td>\n",
       "      <td>925971.45</td>\n",
       "      <td>1352877.60</td>\n",
       "      <td>202205</td>\n",
       "      <td>SE</td>\n",
       "      <td>322</td>\n",
       "    </tr>\n",
       "  </tbody>\n",
       "</table>\n",
       "<p>323 rows × 6 columns</p>\n",
       "</div>"
      ],
      "text/plain": [
       "     contagem       custo     consumo     mes macroregiao  Ticks\n",
       "0         442   480234.46   651819.30  201701          NE      0\n",
       "1        1621  1736961.80  2578865.00  201701           S      1\n",
       "2         717   679924.46   979926.39  201701          CO      2\n",
       "3        1534  1370699.86  1975685.45  201701          SE      3\n",
       "4         726   652974.70   933461.28  201702          CO      4\n",
       "..        ...         ...         ...     ...         ...    ...\n",
       "318       375   204373.67   241066.03  202205          CO    318\n",
       "319         1     2063.19     1776.00  202205           N    319\n",
       "320       497   656417.78   571878.00  202205          NE    320\n",
       "321      1563  1322533.63  1542652.84  202205           S    321\n",
       "322      1391   925971.45  1352877.60  202205          SE    322\n",
       "\n",
       "[323 rows x 6 columns]"
      ]
     },
     "execution_count": 7,
     "metadata": {},
     "output_type": "execute_result"
    }
   ],
   "source": [
    "consumo_macroregioes['Ticks'] = range(0,len(consumo_macroregioes.index.values))\n",
    "consumo_macroregioes"
   ]
  },
  {
   "cell_type": "code",
   "execution_count": 9,
   "id": "d156b488",
   "metadata": {},
   "outputs": [
    {
     "data": {
      "text/plain": [
       "contagem         int64\n",
       "custo          float64\n",
       "consumo        float64\n",
       "mes             string\n",
       "macroregiao     object\n",
       "Ticks            int64\n",
       "dtype: object"
      ]
     },
     "execution_count": 9,
     "metadata": {},
     "output_type": "execute_result"
    }
   ],
   "source": [
    "consumo_macroregioes.dtypes"
   ]
  },
  {
   "cell_type": "code",
   "execution_count": 12,
   "id": "e5b82909",
   "metadata": {},
   "outputs": [
    {
     "data": {
      "image/png": "[encoded data removed]",
      "text/plain": [
       "<Figure size 1080x360 with 1 Axes>"
      ]
     },
     "metadata": {
      "needs_background": "light"
     },
     "output_type": "display_data"
    }
   ],
   "source": [
    "fig = plt.figure(figsize=(15,5))\n",
    "ax1 = fig.add_subplot(111)\n",
    "ax1.set_xlabel('Ticks')\n",
    "ax1.set_ylabel('Consumo')\n",
    "ax1.set_title('Gráfico Original')\n",
    "ax1.plot('Ticks', 'consumo', data = consumo_macroregioes);"
   ]
  },
  {
   "cell_type": "code",
   "execution_count": 13,
   "id": "ae858e2c",
   "metadata": {},
   "outputs": [
    {
     "data": {
      "image/png": "[encoded data removed]",
      "text/plain": [
       "<Figure size 1080x360 with 1 Axes>"
      ]
     },
     "metadata": {
      "needs_background": "light"
     },
     "output_type": "display_data"
    }
   ],
   "source": [
    "fig = plt.figure(figsize=(15,5))\n",
    "ax1 = fig.add_subplot(111)\n",
    "ax1.set_xlabel('Ticks')\n",
    "ax1.set_ylabel('Consumo')\n",
    "ax1.set_title('Gráfico Original')\n",
    "ax1.plot('Ticks', 'consumo', data = consumo_macroregioes.loc[consumo_macroregioes['macroregiao']=='SE']);"
   ]
  },
  {
   "cell_type": "code",
   "execution_count": 18,
   "id": "195b291b",
   "metadata": {},
   "outputs": [
    {
     "name": "stderr",
     "output_type": "stream",
     "text": [
      "C:\\Users\\TALMEI~1\\AppData\\Local\\Temp/ipykernel_11616/3514279077.py:2: SettingWithCopyWarning: \n",
      "A value is trying to be set on a copy of a slice from a DataFrame.\n",
      "Try using .loc[row_indexer,col_indexer] = value instead\n",
      "\n",
      "See the caveats in the documentation: https://pandas.pydata.org/pandas-docs/stable/user_guide/indexing.html#returning-a-view-versus-a-copy\n",
      "  consumo_se['Ticks'] = range(0,len(consumo_se.index.values))\n",
      "C:\\Users\\TALMEI~1\\AppData\\Local\\Temp/ipykernel_11616/3514279077.py:4: SettingWithCopyWarning: \n",
      "A value is trying to be set on a copy of a slice from a DataFrame.\n",
      "Try using .loc[row_indexer,col_indexer] = value instead\n",
      "\n",
      "See the caveats in the documentation: https://pandas.pydata.org/pandas-docs/stable/user_guide/indexing.html#returning-a-view-versus-a-copy\n",
      "  consumo_se['Rolling_Mean'] = consumo_se['consumo'].rolling(window = 6).mean()\n"
     ]
    },
    {
     "data": {
      "text/html": [
       "<div>\n",
       "<style scoped>\n",
       "    .dataframe tbody tr th:only-of-type {\n",
       "        vertical-align: middle;\n",
       "    }\n",
       "\n",
       "    .dataframe tbody tr th {\n",
       "        vertical-align: top;\n",
       "    }\n",
       "\n",
       "    .dataframe thead th {\n",
       "        text-align: right;\n",
       "    }\n",
       "</style>\n",
       "<table border=\"1\" class=\"dataframe\">\n",
       "  <thead>\n",
       "    <tr style=\"text-align: right;\">\n",
       "      <th></th>\n",
       "      <th>contagem</th>\n",
       "      <th>custo</th>\n",
       "      <th>consumo</th>\n",
       "      <th>mes</th>\n",
       "      <th>macroregiao</th>\n",
       "      <th>Ticks</th>\n",
       "      <th>Rolling_Mean</th>\n",
       "    </tr>\n",
       "  </thead>\n",
       "  <tbody>\n",
       "    <tr>\n",
       "      <th>3</th>\n",
       "      <td>1534</td>\n",
       "      <td>1370699.86</td>\n",
       "      <td>1975685.45</td>\n",
       "      <td>201701</td>\n",
       "      <td>SE</td>\n",
       "      <td>0</td>\n",
       "      <td>NaN</td>\n",
       "    </tr>\n",
       "    <tr>\n",
       "      <th>8</th>\n",
       "      <td>1542</td>\n",
       "      <td>1344390.51</td>\n",
       "      <td>1918435.64</td>\n",
       "      <td>201702</td>\n",
       "      <td>SE</td>\n",
       "      <td>1</td>\n",
       "      <td>NaN</td>\n",
       "    </tr>\n",
       "    <tr>\n",
       "      <th>13</th>\n",
       "      <td>1576</td>\n",
       "      <td>1489638.15</td>\n",
       "      <td>2095963.00</td>\n",
       "      <td>201703</td>\n",
       "      <td>SE</td>\n",
       "      <td>2</td>\n",
       "      <td>NaN</td>\n",
       "    </tr>\n",
       "    <tr>\n",
       "      <th>18</th>\n",
       "      <td>1479</td>\n",
       "      <td>1280237.19</td>\n",
       "      <td>1793219.74</td>\n",
       "      <td>201704</td>\n",
       "      <td>SE</td>\n",
       "      <td>3</td>\n",
       "      <td>NaN</td>\n",
       "    </tr>\n",
       "    <tr>\n",
       "      <th>23</th>\n",
       "      <td>1597</td>\n",
       "      <td>1470436.65</td>\n",
       "      <td>2133632.30</td>\n",
       "      <td>201705</td>\n",
       "      <td>SE</td>\n",
       "      <td>4</td>\n",
       "      <td>NaN</td>\n",
       "    </tr>\n",
       "    <tr>\n",
       "      <th>27</th>\n",
       "      <td>1550</td>\n",
       "      <td>1393526.94</td>\n",
       "      <td>1980589.30</td>\n",
       "      <td>201706</td>\n",
       "      <td>SE</td>\n",
       "      <td>5</td>\n",
       "      <td>1982920.905</td>\n",
       "    </tr>\n",
       "    <tr>\n",
       "      <th>32</th>\n",
       "      <td>1576</td>\n",
       "      <td>1386597.99</td>\n",
       "      <td>2000941.40</td>\n",
       "      <td>201707</td>\n",
       "      <td>SE</td>\n",
       "      <td>6</td>\n",
       "      <td>1987130.230</td>\n",
       "    </tr>\n",
       "    <tr>\n",
       "      <th>37</th>\n",
       "      <td>1625</td>\n",
       "      <td>1450305.20</td>\n",
       "      <td>2066683.40</td>\n",
       "      <td>201708</td>\n",
       "      <td>SE</td>\n",
       "      <td>7</td>\n",
       "      <td>2011838.190</td>\n",
       "    </tr>\n",
       "    <tr>\n",
       "      <th>42</th>\n",
       "      <td>1620</td>\n",
       "      <td>1526589.93</td>\n",
       "      <td>2135728.90</td>\n",
       "      <td>201709</td>\n",
       "      <td>SE</td>\n",
       "      <td>8</td>\n",
       "      <td>2018465.840</td>\n",
       "    </tr>\n",
       "    <tr>\n",
       "      <th>47</th>\n",
       "      <td>1625</td>\n",
       "      <td>1464329.31</td>\n",
       "      <td>2034511.00</td>\n",
       "      <td>201710</td>\n",
       "      <td>SE</td>\n",
       "      <td>9</td>\n",
       "      <td>2058681.050</td>\n",
       "    </tr>\n",
       "  </tbody>\n",
       "</table>\n",
       "</div>"
      ],
      "text/plain": [
       "    contagem       custo     consumo     mes macroregiao  Ticks  Rolling_Mean\n",
       "3       1534  1370699.86  1975685.45  201701          SE      0           NaN\n",
       "8       1542  1344390.51  1918435.64  201702          SE      1           NaN\n",
       "13      1576  1489638.15  2095963.00  201703          SE      2           NaN\n",
       "18      1479  1280237.19  1793219.74  201704          SE      3           NaN\n",
       "23      1597  1470436.65  2133632.30  201705          SE      4           NaN\n",
       "27      1550  1393526.94  1980589.30  201706          SE      5   1982920.905\n",
       "32      1576  1386597.99  2000941.40  201707          SE      6   1987130.230\n",
       "37      1625  1450305.20  2066683.40  201708          SE      7   2011838.190\n",
       "42      1620  1526589.93  2135728.90  201709          SE      8   2018465.840\n",
       "47      1625  1464329.31  2034511.00  201710          SE      9   2058681.050"
      ]
     },
     "execution_count": 18,
     "metadata": {},
     "output_type": "execute_result"
    }
   ],
   "source": [
    "consumo_se = consumo_macroregioes.loc[consumo_macroregioes['macroregiao']=='SE']\n",
    "consumo_se['Ticks'] = range(0,len(consumo_se.index.values))\n",
    "\n",
    "consumo_se['Rolling_Mean'] = consumo_se['consumo'].rolling(window = 6).mean()\n",
    "consumo_se.head(10)"
   ]
  },
  {
   "cell_type": "code",
   "execution_count": 19,
   "id": "46274cab",
   "metadata": {},
   "outputs": [
    {
     "data": {
      "text/plain": [
       "65"
      ]
     },
     "execution_count": 19,
     "metadata": {},
     "output_type": "execute_result"
    }
   ],
   "source": [
    "len(consumo_se)"
   ]
  },
  {
   "cell_type": "code",
   "execution_count": 20,
   "id": "5df9831b",
   "metadata": {},
   "outputs": [
    {
     "data": {
      "text/html": [
       "<div>\n",
       "<style scoped>\n",
       "    .dataframe tbody tr th:only-of-type {\n",
       "        vertical-align: middle;\n",
       "    }\n",
       "\n",
       "    .dataframe tbody tr th {\n",
       "        vertical-align: top;\n",
       "    }\n",
       "\n",
       "    .dataframe thead th {\n",
       "        text-align: right;\n",
       "    }\n",
       "</style>\n",
       "<table border=\"1\" class=\"dataframe\">\n",
       "  <thead>\n",
       "    <tr style=\"text-align: right;\">\n",
       "      <th></th>\n",
       "      <th>contagem</th>\n",
       "      <th>custo</th>\n",
       "      <th>consumo</th>\n",
       "      <th>mes</th>\n",
       "      <th>macroregiao</th>\n",
       "      <th>Ticks</th>\n",
       "      <th>Rolling_Mean</th>\n",
       "    </tr>\n",
       "  </thead>\n",
       "  <tbody>\n",
       "    <tr>\n",
       "      <th>52</th>\n",
       "      <td>1624</td>\n",
       "      <td>1625595.03</td>\n",
       "      <td>2138837.52</td>\n",
       "      <td>201711</td>\n",
       "      <td>SE</td>\n",
       "      <td>10</td>\n",
       "      <td>2.059549e+06</td>\n",
       "    </tr>\n",
       "    <tr>\n",
       "      <th>57</th>\n",
       "      <td>1635</td>\n",
       "      <td>1596927.57</td>\n",
       "      <td>2095294.80</td>\n",
       "      <td>201712</td>\n",
       "      <td>SE</td>\n",
       "      <td>11</td>\n",
       "      <td>2.078666e+06</td>\n",
       "    </tr>\n",
       "    <tr>\n",
       "      <th>62</th>\n",
       "      <td>1619</td>\n",
       "      <td>1526200.01</td>\n",
       "      <td>2094520.20</td>\n",
       "      <td>201801</td>\n",
       "      <td>SE</td>\n",
       "      <td>12</td>\n",
       "      <td>2.094263e+06</td>\n",
       "    </tr>\n",
       "    <tr>\n",
       "      <th>67</th>\n",
       "      <td>1652</td>\n",
       "      <td>1475020.69</td>\n",
       "      <td>2090324.00</td>\n",
       "      <td>201802</td>\n",
       "      <td>SE</td>\n",
       "      <td>13</td>\n",
       "      <td>2.098203e+06</td>\n",
       "    </tr>\n",
       "    <tr>\n",
       "      <th>72</th>\n",
       "      <td>1651</td>\n",
       "      <td>1485597.91</td>\n",
       "      <td>2106138.00</td>\n",
       "      <td>201803</td>\n",
       "      <td>SE</td>\n",
       "      <td>14</td>\n",
       "      <td>2.093271e+06</td>\n",
       "    </tr>\n",
       "  </tbody>\n",
       "</table>\n",
       "</div>"
      ],
      "text/plain": [
       "    contagem       custo     consumo     mes macroregiao  Ticks  Rolling_Mean\n",
       "52      1624  1625595.03  2138837.52  201711          SE     10  2.059549e+06\n",
       "57      1635  1596927.57  2095294.80  201712          SE     11  2.078666e+06\n",
       "62      1619  1526200.01  2094520.20  201801          SE     12  2.094263e+06\n",
       "67      1652  1475020.69  2090324.00  201802          SE     13  2.098203e+06\n",
       "72      1651  1485597.91  2106138.00  201803          SE     14  2.093271e+06"
      ]
     },
     "execution_count": 20,
     "metadata": {},
     "output_type": "execute_result"
    }
   ],
   "source": [
    "filt_g = consumo_se[(consumo_se['Ticks'] >= 10) & (consumo_se['Ticks'] <= 60)]\n",
    "filt_g.head()"
   ]
  },
  {
   "cell_type": "code",
   "execution_count": 22,
   "id": "33b9bab1",
   "metadata": {},
   "outputs": [
    {
     "data": {
      "image/png": "[encoded data removed]",
      "text/plain": [
       "<Figure size 1080x360 with 2 Axes>"
      ]
     },
     "metadata": {
      "needs_background": "light"
     },
     "output_type": "display_data"
    }
   ],
   "source": [
    "fig, axes = plt.subplots(nrows = 1, ncols = 2, figsize = (15,5));\n",
    "axes[0].plot('Ticks', 'consumo', data = consumo_se);\n",
    "axes[0].set_title('Original');\n",
    "\n",
    "axes[1].plot('Ticks', 'Rolling_Mean', data = consumo_se);\n",
    "axes[1].set_title('Média Móvel');"
   ]
  },
  {
   "cell_type": "code",
   "execution_count": 28,
   "id": "d2f09d28",
   "metadata": {},
   "outputs": [
    {
     "data": {
      "text/html": [
       "<div>\n",
       "<style scoped>\n",
       "    .dataframe tbody tr th:only-of-type {\n",
       "        vertical-align: middle;\n",
       "    }\n",
       "\n",
       "    .dataframe tbody tr th {\n",
       "        vertical-align: top;\n",
       "    }\n",
       "\n",
       "    .dataframe thead th {\n",
       "        text-align: right;\n",
       "    }\n",
       "</style>\n",
       "<table border=\"1\" class=\"dataframe\">\n",
       "  <thead>\n",
       "    <tr style=\"text-align: right;\">\n",
       "      <th></th>\n",
       "      <th>contagem</th>\n",
       "      <th>custo</th>\n",
       "      <th>consumo</th>\n",
       "      <th>mes</th>\n",
       "      <th>macroregiao</th>\n",
       "      <th>Ticks</th>\n",
       "      <th>Rolling_Mean</th>\n",
       "    </tr>\n",
       "  </thead>\n",
       "  <tbody>\n",
       "    <tr>\n",
       "      <th>182</th>\n",
       "      <td>1679</td>\n",
       "      <td>1418193.61</td>\n",
       "      <td>2067242.02</td>\n",
       "      <td>202001</td>\n",
       "      <td>SE</td>\n",
       "      <td>36</td>\n",
       "      <td>2.071775e+06</td>\n",
       "    </tr>\n",
       "    <tr>\n",
       "      <th>187</th>\n",
       "      <td>1655</td>\n",
       "      <td>1343397.19</td>\n",
       "      <td>1954905.24</td>\n",
       "      <td>202002</td>\n",
       "      <td>SE</td>\n",
       "      <td>37</td>\n",
       "      <td>2.053133e+06</td>\n",
       "    </tr>\n",
       "    <tr>\n",
       "      <th>192</th>\n",
       "      <td>1639</td>\n",
       "      <td>1375250.40</td>\n",
       "      <td>2023947.80</td>\n",
       "      <td>202003</td>\n",
       "      <td>SE</td>\n",
       "      <td>38</td>\n",
       "      <td>2.047279e+06</td>\n",
       "    </tr>\n",
       "    <tr>\n",
       "      <th>197</th>\n",
       "      <td>1640</td>\n",
       "      <td>1390148.15</td>\n",
       "      <td>1968684.81</td>\n",
       "      <td>202004</td>\n",
       "      <td>SE</td>\n",
       "      <td>39</td>\n",
       "      <td>2.018340e+06</td>\n",
       "    </tr>\n",
       "    <tr>\n",
       "      <th>202</th>\n",
       "      <td>1582</td>\n",
       "      <td>1294527.17</td>\n",
       "      <td>1887280.48</td>\n",
       "      <td>202005</td>\n",
       "      <td>SE</td>\n",
       "      <td>40</td>\n",
       "      <td>1.983672e+06</td>\n",
       "    </tr>\n",
       "    <tr>\n",
       "      <th>207</th>\n",
       "      <td>1399</td>\n",
       "      <td>1105343.68</td>\n",
       "      <td>1617839.95</td>\n",
       "      <td>202006</td>\n",
       "      <td>SE</td>\n",
       "      <td>41</td>\n",
       "      <td>1.919983e+06</td>\n",
       "    </tr>\n",
       "    <tr>\n",
       "      <th>212</th>\n",
       "      <td>1607</td>\n",
       "      <td>1326067.34</td>\n",
       "      <td>1892651.52</td>\n",
       "      <td>202007</td>\n",
       "      <td>SE</td>\n",
       "      <td>42</td>\n",
       "      <td>1.890885e+06</td>\n",
       "    </tr>\n",
       "    <tr>\n",
       "      <th>217</th>\n",
       "      <td>1588</td>\n",
       "      <td>1372011.87</td>\n",
       "      <td>1912654.55</td>\n",
       "      <td>202008</td>\n",
       "      <td>SE</td>\n",
       "      <td>43</td>\n",
       "      <td>1.883843e+06</td>\n",
       "    </tr>\n",
       "    <tr>\n",
       "      <th>222</th>\n",
       "      <td>1568</td>\n",
       "      <td>1336934.85</td>\n",
       "      <td>1788913.39</td>\n",
       "      <td>202009</td>\n",
       "      <td>SE</td>\n",
       "      <td>44</td>\n",
       "      <td>1.844671e+06</td>\n",
       "    </tr>\n",
       "    <tr>\n",
       "      <th>227</th>\n",
       "      <td>1557</td>\n",
       "      <td>1393079.00</td>\n",
       "      <td>1881139.45</td>\n",
       "      <td>202010</td>\n",
       "      <td>SE</td>\n",
       "      <td>45</td>\n",
       "      <td>1.830080e+06</td>\n",
       "    </tr>\n",
       "    <tr>\n",
       "      <th>232</th>\n",
       "      <td>1551</td>\n",
       "      <td>1348262.28</td>\n",
       "      <td>1871563.67</td>\n",
       "      <td>202011</td>\n",
       "      <td>SE</td>\n",
       "      <td>46</td>\n",
       "      <td>1.827460e+06</td>\n",
       "    </tr>\n",
       "    <tr>\n",
       "      <th>237</th>\n",
       "      <td>1482</td>\n",
       "      <td>1311318.24</td>\n",
       "      <td>1766627.32</td>\n",
       "      <td>202012</td>\n",
       "      <td>SE</td>\n",
       "      <td>47</td>\n",
       "      <td>1.852258e+06</td>\n",
       "    </tr>\n",
       "    <tr>\n",
       "      <th>242</th>\n",
       "      <td>1536</td>\n",
       "      <td>1239120.59</td>\n",
       "      <td>1838587.26</td>\n",
       "      <td>202101</td>\n",
       "      <td>SE</td>\n",
       "      <td>48</td>\n",
       "      <td>1.843248e+06</td>\n",
       "    </tr>\n",
       "    <tr>\n",
       "      <th>247</th>\n",
       "      <td>1535</td>\n",
       "      <td>1133548.96</td>\n",
       "      <td>1707161.98</td>\n",
       "      <td>202102</td>\n",
       "      <td>SE</td>\n",
       "      <td>49</td>\n",
       "      <td>1.808999e+06</td>\n",
       "    </tr>\n",
       "    <tr>\n",
       "      <th>252</th>\n",
       "      <td>1529</td>\n",
       "      <td>1182377.40</td>\n",
       "      <td>1782589.90</td>\n",
       "      <td>202103</td>\n",
       "      <td>SE</td>\n",
       "      <td>50</td>\n",
       "      <td>1.807945e+06</td>\n",
       "    </tr>\n",
       "    <tr>\n",
       "      <th>257</th>\n",
       "      <td>1506</td>\n",
       "      <td>1142870.65</td>\n",
       "      <td>1750228.07</td>\n",
       "      <td>202104</td>\n",
       "      <td>SE</td>\n",
       "      <td>51</td>\n",
       "      <td>1.786126e+06</td>\n",
       "    </tr>\n",
       "    <tr>\n",
       "      <th>262</th>\n",
       "      <td>1511</td>\n",
       "      <td>1168270.56</td>\n",
       "      <td>1671195.83</td>\n",
       "      <td>202105</td>\n",
       "      <td>SE</td>\n",
       "      <td>52</td>\n",
       "      <td>1.752732e+06</td>\n",
       "    </tr>\n",
       "    <tr>\n",
       "      <th>267</th>\n",
       "      <td>1512</td>\n",
       "      <td>1217841.52</td>\n",
       "      <td>1653892.25</td>\n",
       "      <td>202106</td>\n",
       "      <td>SE</td>\n",
       "      <td>53</td>\n",
       "      <td>1.733943e+06</td>\n",
       "    </tr>\n",
       "    <tr>\n",
       "      <th>272</th>\n",
       "      <td>1480</td>\n",
       "      <td>1264156.27</td>\n",
       "      <td>1575439.89</td>\n",
       "      <td>202107</td>\n",
       "      <td>SE</td>\n",
       "      <td>54</td>\n",
       "      <td>1.690085e+06</td>\n",
       "    </tr>\n",
       "    <tr>\n",
       "      <th>277</th>\n",
       "      <td>1477</td>\n",
       "      <td>1355732.22</td>\n",
       "      <td>1366632.80</td>\n",
       "      <td>202108</td>\n",
       "      <td>SE</td>\n",
       "      <td>55</td>\n",
       "      <td>1.633330e+06</td>\n",
       "    </tr>\n",
       "    <tr>\n",
       "      <th>282</th>\n",
       "      <td>1501</td>\n",
       "      <td>1496331.98</td>\n",
       "      <td>1631197.01</td>\n",
       "      <td>202109</td>\n",
       "      <td>SE</td>\n",
       "      <td>56</td>\n",
       "      <td>1.608098e+06</td>\n",
       "    </tr>\n",
       "    <tr>\n",
       "      <th>287</th>\n",
       "      <td>1489</td>\n",
       "      <td>1506342.86</td>\n",
       "      <td>1406610.76</td>\n",
       "      <td>202110</td>\n",
       "      <td>SE</td>\n",
       "      <td>57</td>\n",
       "      <td>1.550828e+06</td>\n",
       "    </tr>\n",
       "    <tr>\n",
       "      <th>292</th>\n",
       "      <td>1479</td>\n",
       "      <td>1376891.74</td>\n",
       "      <td>1514368.06</td>\n",
       "      <td>202111</td>\n",
       "      <td>SE</td>\n",
       "      <td>58</td>\n",
       "      <td>1.524690e+06</td>\n",
       "    </tr>\n",
       "    <tr>\n",
       "      <th>297</th>\n",
       "      <td>1443</td>\n",
       "      <td>1340586.69</td>\n",
       "      <td>1485231.04</td>\n",
       "      <td>202112</td>\n",
       "      <td>SE</td>\n",
       "      <td>59</td>\n",
       "      <td>1.496580e+06</td>\n",
       "    </tr>\n",
       "    <tr>\n",
       "      <th>302</th>\n",
       "      <td>1419</td>\n",
       "      <td>946691.02</td>\n",
       "      <td>1445668.92</td>\n",
       "      <td>202201</td>\n",
       "      <td>SE</td>\n",
       "      <td>60</td>\n",
       "      <td>1.474951e+06</td>\n",
       "    </tr>\n",
       "    <tr>\n",
       "      <th>307</th>\n",
       "      <td>1422</td>\n",
       "      <td>1171187.63</td>\n",
       "      <td>1389495.49</td>\n",
       "      <td>202202</td>\n",
       "      <td>SE</td>\n",
       "      <td>61</td>\n",
       "      <td>1.478762e+06</td>\n",
       "    </tr>\n",
       "    <tr>\n",
       "      <th>312</th>\n",
       "      <td>1424</td>\n",
       "      <td>1255115.17</td>\n",
       "      <td>1464993.20</td>\n",
       "      <td>202203</td>\n",
       "      <td>SE</td>\n",
       "      <td>62</td>\n",
       "      <td>1.451061e+06</td>\n",
       "    </tr>\n",
       "    <tr>\n",
       "      <th>317</th>\n",
       "      <td>1411</td>\n",
       "      <td>1192642.10</td>\n",
       "      <td>1371781.80</td>\n",
       "      <td>202204</td>\n",
       "      <td>SE</td>\n",
       "      <td>63</td>\n",
       "      <td>1.445256e+06</td>\n",
       "    </tr>\n",
       "    <tr>\n",
       "      <th>322</th>\n",
       "      <td>1391</td>\n",
       "      <td>925971.45</td>\n",
       "      <td>1352877.60</td>\n",
       "      <td>202205</td>\n",
       "      <td>SE</td>\n",
       "      <td>64</td>\n",
       "      <td>1.418341e+06</td>\n",
       "    </tr>\n",
       "  </tbody>\n",
       "</table>\n",
       "</div>"
      ],
      "text/plain": [
       "     contagem       custo     consumo     mes macroregiao  Ticks  Rolling_Mean\n",
       "182      1679  1418193.61  2067242.02  202001          SE     36  2.071775e+06\n",
       "187      1655  1343397.19  1954905.24  202002          SE     37  2.053133e+06\n",
       "192      1639  1375250.40  2023947.80  202003          SE     38  2.047279e+06\n",
       "197      1640  1390148.15  1968684.81  202004          SE     39  2.018340e+06\n",
       "202      1582  1294527.17  1887280.48  202005          SE     40  1.983672e+06\n",
       "207      1399  1105343.68  1617839.95  202006          SE     41  1.919983e+06\n",
       "212      1607  1326067.34  1892651.52  202007          SE     42  1.890885e+06\n",
       "217      1588  1372011.87  1912654.55  202008          SE     43  1.883843e+06\n",
       "222      1568  1336934.85  1788913.39  202009          SE     44  1.844671e+06\n",
       "227      1557  1393079.00  1881139.45  202010          SE     45  1.830080e+06\n",
       "232      1551  1348262.28  1871563.67  202011          SE     46  1.827460e+06\n",
       "237      1482  1311318.24  1766627.32  202012          SE     47  1.852258e+06\n",
       "242      1536  1239120.59  1838587.26  202101          SE     48  1.843248e+06\n",
       "247      1535  1133548.96  1707161.98  202102          SE     49  1.808999e+06\n",
       "252      1529  1182377.40  1782589.90  202103          SE     50  1.807945e+06\n",
       "257      1506  1142870.65  1750228.07  202104          SE     51  1.786126e+06\n",
       "262      1511  1168270.56  1671195.83  202105          SE     52  1.752732e+06\n",
       "267      1512  1217841.52  1653892.25  202106          SE     53  1.733943e+06\n",
       "272      1480  1264156.27  1575439.89  202107          SE     54  1.690085e+06\n",
       "277      1477  1355732.22  1366632.80  202108          SE     55  1.633330e+06\n",
       "282      1501  1496331.98  1631197.01  202109          SE     56  1.608098e+06\n",
       "287      1489  1506342.86  1406610.76  202110          SE     57  1.550828e+06\n",
       "292      1479  1376891.74  1514368.06  202111          SE     58  1.524690e+06\n",
       "297      1443  1340586.69  1485231.04  202112          SE     59  1.496580e+06\n",
       "302      1419   946691.02  1445668.92  202201          SE     60  1.474951e+06\n",
       "307      1422  1171187.63  1389495.49  202202          SE     61  1.478762e+06\n",
       "312      1424  1255115.17  1464993.20  202203          SE     62  1.451061e+06\n",
       "317      1411  1192642.10  1371781.80  202204          SE     63  1.445256e+06\n",
       "322      1391   925971.45  1352877.60  202205          SE     64  1.418341e+06"
      ]
     },
     "execution_count": 28,
     "metadata": {},
     "output_type": "execute_result"
    }
   ],
   "source": [
    "consumo_se_filtrado = consumo_se.loc[(consumo_se['mes'].str.startswith('2020')) | (consumo_se['mes'].str.startswith('2021')) | (consumo_se['mes'].str.startswith('2022')) ]\n",
    "consumo_se_filtrado"
   ]
  },
  {
   "cell_type": "code",
   "execution_count": 31,
   "id": "e025be52",
   "metadata": {},
   "outputs": [
    {
     "name": "stderr",
     "output_type": "stream",
     "text": [
      "C:\\Users\\TALMEI~1\\AppData\\Local\\Temp/ipykernel_11616/3717799595.py:1: SettingWithCopyWarning: \n",
      "A value is trying to be set on a copy of a slice from a DataFrame.\n",
      "Try using .loc[row_indexer,col_indexer] = value instead\n",
      "\n",
      "See the caveats in the documentation: https://pandas.pydata.org/pandas-docs/stable/user_guide/indexing.html#returning-a-view-versus-a-copy\n",
      "  consumo_se_filtrado['Ticks'] = range(0,len(consumo_se_filtrado.index.values))\n",
      "C:\\Users\\TALMEI~1\\AppData\\Local\\Temp/ipykernel_11616/3717799595.py:3: SettingWithCopyWarning: \n",
      "A value is trying to be set on a copy of a slice from a DataFrame.\n",
      "Try using .loc[row_indexer,col_indexer] = value instead\n",
      "\n",
      "See the caveats in the documentation: https://pandas.pydata.org/pandas-docs/stable/user_guide/indexing.html#returning-a-view-versus-a-copy\n",
      "  consumo_se_filtrado['Rolling_Mean'] = consumo_se_filtrado['consumo'].rolling(window = 3).mean()\n"
     ]
    },
    {
     "data": {
      "text/html": [
       "<div>\n",
       "<style scoped>\n",
       "    .dataframe tbody tr th:only-of-type {\n",
       "        vertical-align: middle;\n",
       "    }\n",
       "\n",
       "    .dataframe tbody tr th {\n",
       "        vertical-align: top;\n",
       "    }\n",
       "\n",
       "    .dataframe thead th {\n",
       "        text-align: right;\n",
       "    }\n",
       "</style>\n",
       "<table border=\"1\" class=\"dataframe\">\n",
       "  <thead>\n",
       "    <tr style=\"text-align: right;\">\n",
       "      <th></th>\n",
       "      <th>contagem</th>\n",
       "      <th>custo</th>\n",
       "      <th>consumo</th>\n",
       "      <th>mes</th>\n",
       "      <th>macroregiao</th>\n",
       "      <th>Ticks</th>\n",
       "      <th>Rolling_Mean</th>\n",
       "    </tr>\n",
       "  </thead>\n",
       "  <tbody>\n",
       "    <tr>\n",
       "      <th>182</th>\n",
       "      <td>1679</td>\n",
       "      <td>1418193.61</td>\n",
       "      <td>2067242.02</td>\n",
       "      <td>202001</td>\n",
       "      <td>SE</td>\n",
       "      <td>0</td>\n",
       "      <td>NaN</td>\n",
       "    </tr>\n",
       "    <tr>\n",
       "      <th>187</th>\n",
       "      <td>1655</td>\n",
       "      <td>1343397.19</td>\n",
       "      <td>1954905.24</td>\n",
       "      <td>202002</td>\n",
       "      <td>SE</td>\n",
       "      <td>1</td>\n",
       "      <td>NaN</td>\n",
       "    </tr>\n",
       "    <tr>\n",
       "      <th>192</th>\n",
       "      <td>1639</td>\n",
       "      <td>1375250.40</td>\n",
       "      <td>2023947.80</td>\n",
       "      <td>202003</td>\n",
       "      <td>SE</td>\n",
       "      <td>2</td>\n",
       "      <td>2.015365e+06</td>\n",
       "    </tr>\n",
       "    <tr>\n",
       "      <th>197</th>\n",
       "      <td>1640</td>\n",
       "      <td>1390148.15</td>\n",
       "      <td>1968684.81</td>\n",
       "      <td>202004</td>\n",
       "      <td>SE</td>\n",
       "      <td>3</td>\n",
       "      <td>1.982513e+06</td>\n",
       "    </tr>\n",
       "    <tr>\n",
       "      <th>202</th>\n",
       "      <td>1582</td>\n",
       "      <td>1294527.17</td>\n",
       "      <td>1887280.48</td>\n",
       "      <td>202005</td>\n",
       "      <td>SE</td>\n",
       "      <td>4</td>\n",
       "      <td>1.959971e+06</td>\n",
       "    </tr>\n",
       "    <tr>\n",
       "      <th>207</th>\n",
       "      <td>1399</td>\n",
       "      <td>1105343.68</td>\n",
       "      <td>1617839.95</td>\n",
       "      <td>202006</td>\n",
       "      <td>SE</td>\n",
       "      <td>5</td>\n",
       "      <td>1.824602e+06</td>\n",
       "    </tr>\n",
       "    <tr>\n",
       "      <th>212</th>\n",
       "      <td>1607</td>\n",
       "      <td>1326067.34</td>\n",
       "      <td>1892651.52</td>\n",
       "      <td>202007</td>\n",
       "      <td>SE</td>\n",
       "      <td>6</td>\n",
       "      <td>1.799257e+06</td>\n",
       "    </tr>\n",
       "    <tr>\n",
       "      <th>217</th>\n",
       "      <td>1588</td>\n",
       "      <td>1372011.87</td>\n",
       "      <td>1912654.55</td>\n",
       "      <td>202008</td>\n",
       "      <td>SE</td>\n",
       "      <td>7</td>\n",
       "      <td>1.807715e+06</td>\n",
       "    </tr>\n",
       "    <tr>\n",
       "      <th>222</th>\n",
       "      <td>1568</td>\n",
       "      <td>1336934.85</td>\n",
       "      <td>1788913.39</td>\n",
       "      <td>202009</td>\n",
       "      <td>SE</td>\n",
       "      <td>8</td>\n",
       "      <td>1.864740e+06</td>\n",
       "    </tr>\n",
       "    <tr>\n",
       "      <th>227</th>\n",
       "      <td>1557</td>\n",
       "      <td>1393079.00</td>\n",
       "      <td>1881139.45</td>\n",
       "      <td>202010</td>\n",
       "      <td>SE</td>\n",
       "      <td>9</td>\n",
       "      <td>1.860902e+06</td>\n",
       "    </tr>\n",
       "    <tr>\n",
       "      <th>232</th>\n",
       "      <td>1551</td>\n",
       "      <td>1348262.28</td>\n",
       "      <td>1871563.67</td>\n",
       "      <td>202011</td>\n",
       "      <td>SE</td>\n",
       "      <td>10</td>\n",
       "      <td>1.847206e+06</td>\n",
       "    </tr>\n",
       "    <tr>\n",
       "      <th>237</th>\n",
       "      <td>1482</td>\n",
       "      <td>1311318.24</td>\n",
       "      <td>1766627.32</td>\n",
       "      <td>202012</td>\n",
       "      <td>SE</td>\n",
       "      <td>11</td>\n",
       "      <td>1.839777e+06</td>\n",
       "    </tr>\n",
       "    <tr>\n",
       "      <th>242</th>\n",
       "      <td>1536</td>\n",
       "      <td>1239120.59</td>\n",
       "      <td>1838587.26</td>\n",
       "      <td>202101</td>\n",
       "      <td>SE</td>\n",
       "      <td>12</td>\n",
       "      <td>1.825593e+06</td>\n",
       "    </tr>\n",
       "    <tr>\n",
       "      <th>247</th>\n",
       "      <td>1535</td>\n",
       "      <td>1133548.96</td>\n",
       "      <td>1707161.98</td>\n",
       "      <td>202102</td>\n",
       "      <td>SE</td>\n",
       "      <td>13</td>\n",
       "      <td>1.770792e+06</td>\n",
       "    </tr>\n",
       "    <tr>\n",
       "      <th>252</th>\n",
       "      <td>1529</td>\n",
       "      <td>1182377.40</td>\n",
       "      <td>1782589.90</td>\n",
       "      <td>202103</td>\n",
       "      <td>SE</td>\n",
       "      <td>14</td>\n",
       "      <td>1.776113e+06</td>\n",
       "    </tr>\n",
       "    <tr>\n",
       "      <th>257</th>\n",
       "      <td>1506</td>\n",
       "      <td>1142870.65</td>\n",
       "      <td>1750228.07</td>\n",
       "      <td>202104</td>\n",
       "      <td>SE</td>\n",
       "      <td>15</td>\n",
       "      <td>1.746660e+06</td>\n",
       "    </tr>\n",
       "    <tr>\n",
       "      <th>262</th>\n",
       "      <td>1511</td>\n",
       "      <td>1168270.56</td>\n",
       "      <td>1671195.83</td>\n",
       "      <td>202105</td>\n",
       "      <td>SE</td>\n",
       "      <td>16</td>\n",
       "      <td>1.734671e+06</td>\n",
       "    </tr>\n",
       "    <tr>\n",
       "      <th>267</th>\n",
       "      <td>1512</td>\n",
       "      <td>1217841.52</td>\n",
       "      <td>1653892.25</td>\n",
       "      <td>202106</td>\n",
       "      <td>SE</td>\n",
       "      <td>17</td>\n",
       "      <td>1.691772e+06</td>\n",
       "    </tr>\n",
       "    <tr>\n",
       "      <th>272</th>\n",
       "      <td>1480</td>\n",
       "      <td>1264156.27</td>\n",
       "      <td>1575439.89</td>\n",
       "      <td>202107</td>\n",
       "      <td>SE</td>\n",
       "      <td>18</td>\n",
       "      <td>1.633509e+06</td>\n",
       "    </tr>\n",
       "    <tr>\n",
       "      <th>277</th>\n",
       "      <td>1477</td>\n",
       "      <td>1355732.22</td>\n",
       "      <td>1366632.80</td>\n",
       "      <td>202108</td>\n",
       "      <td>SE</td>\n",
       "      <td>19</td>\n",
       "      <td>1.531988e+06</td>\n",
       "    </tr>\n",
       "    <tr>\n",
       "      <th>282</th>\n",
       "      <td>1501</td>\n",
       "      <td>1496331.98</td>\n",
       "      <td>1631197.01</td>\n",
       "      <td>202109</td>\n",
       "      <td>SE</td>\n",
       "      <td>20</td>\n",
       "      <td>1.524423e+06</td>\n",
       "    </tr>\n",
       "    <tr>\n",
       "      <th>287</th>\n",
       "      <td>1489</td>\n",
       "      <td>1506342.86</td>\n",
       "      <td>1406610.76</td>\n",
       "      <td>202110</td>\n",
       "      <td>SE</td>\n",
       "      <td>21</td>\n",
       "      <td>1.468147e+06</td>\n",
       "    </tr>\n",
       "    <tr>\n",
       "      <th>292</th>\n",
       "      <td>1479</td>\n",
       "      <td>1376891.74</td>\n",
       "      <td>1514368.06</td>\n",
       "      <td>202111</td>\n",
       "      <td>SE</td>\n",
       "      <td>22</td>\n",
       "      <td>1.517392e+06</td>\n",
       "    </tr>\n",
       "    <tr>\n",
       "      <th>297</th>\n",
       "      <td>1443</td>\n",
       "      <td>1340586.69</td>\n",
       "      <td>1485231.04</td>\n",
       "      <td>202112</td>\n",
       "      <td>SE</td>\n",
       "      <td>23</td>\n",
       "      <td>1.468737e+06</td>\n",
       "    </tr>\n",
       "    <tr>\n",
       "      <th>302</th>\n",
       "      <td>1419</td>\n",
       "      <td>946691.02</td>\n",
       "      <td>1445668.92</td>\n",
       "      <td>202201</td>\n",
       "      <td>SE</td>\n",
       "      <td>24</td>\n",
       "      <td>1.481756e+06</td>\n",
       "    </tr>\n",
       "    <tr>\n",
       "      <th>307</th>\n",
       "      <td>1422</td>\n",
       "      <td>1171187.63</td>\n",
       "      <td>1389495.49</td>\n",
       "      <td>202202</td>\n",
       "      <td>SE</td>\n",
       "      <td>25</td>\n",
       "      <td>1.440132e+06</td>\n",
       "    </tr>\n",
       "    <tr>\n",
       "      <th>312</th>\n",
       "      <td>1424</td>\n",
       "      <td>1255115.17</td>\n",
       "      <td>1464993.20</td>\n",
       "      <td>202203</td>\n",
       "      <td>SE</td>\n",
       "      <td>26</td>\n",
       "      <td>1.433386e+06</td>\n",
       "    </tr>\n",
       "    <tr>\n",
       "      <th>317</th>\n",
       "      <td>1411</td>\n",
       "      <td>1192642.10</td>\n",
       "      <td>1371781.80</td>\n",
       "      <td>202204</td>\n",
       "      <td>SE</td>\n",
       "      <td>27</td>\n",
       "      <td>1.408757e+06</td>\n",
       "    </tr>\n",
       "    <tr>\n",
       "      <th>322</th>\n",
       "      <td>1391</td>\n",
       "      <td>925971.45</td>\n",
       "      <td>1352877.60</td>\n",
       "      <td>202205</td>\n",
       "      <td>SE</td>\n",
       "      <td>28</td>\n",
       "      <td>1.396551e+06</td>\n",
       "    </tr>\n",
       "  </tbody>\n",
       "</table>\n",
       "</div>"
      ],
      "text/plain": [
       "     contagem       custo     consumo     mes macroregiao  Ticks  Rolling_Mean\n",
       "182      1679  1418193.61  2067242.02  202001          SE      0           NaN\n",
       "187      1655  1343397.19  1954905.24  202002          SE      1           NaN\n",
       "192      1639  1375250.40  2023947.80  202003          SE      2  2.015365e+06\n",
       "197      1640  1390148.15  1968684.81  202004          SE      3  1.982513e+06\n",
       "202      1582  1294527.17  1887280.48  202005          SE      4  1.959971e+06\n",
       "207      1399  1105343.68  1617839.95  202006          SE      5  1.824602e+06\n",
       "212      1607  1326067.34  1892651.52  202007          SE      6  1.799257e+06\n",
       "217      1588  1372011.87  1912654.55  202008          SE      7  1.807715e+06\n",
       "222      1568  1336934.85  1788913.39  202009          SE      8  1.864740e+06\n",
       "227      1557  1393079.00  1881139.45  202010          SE      9  1.860902e+06\n",
       "232      1551  1348262.28  1871563.67  202011          SE     10  1.847206e+06\n",
       "237      1482  1311318.24  1766627.32  202012          SE     11  1.839777e+06\n",
       "242      1536  1239120.59  1838587.26  202101          SE     12  1.825593e+06\n",
       "247      1535  1133548.96  1707161.98  202102          SE     13  1.770792e+06\n",
       "252      1529  1182377.40  1782589.90  202103          SE     14  1.776113e+06\n",
       "257      1506  1142870.65  1750228.07  202104          SE     15  1.746660e+06\n",
       "262      1511  1168270.56  1671195.83  202105          SE     16  1.734671e+06\n",
       "267      1512  1217841.52  1653892.25  202106          SE     17  1.691772e+06\n",
       "272      1480  1264156.27  1575439.89  202107          SE     18  1.633509e+06\n",
       "277      1477  1355732.22  1366632.80  202108          SE     19  1.531988e+06\n",
       "282      1501  1496331.98  1631197.01  202109          SE     20  1.524423e+06\n",
       "287      1489  1506342.86  1406610.76  202110          SE     21  1.468147e+06\n",
       "292      1479  1376891.74  1514368.06  202111          SE     22  1.517392e+06\n",
       "297      1443  1340586.69  1485231.04  202112          SE     23  1.468737e+06\n",
       "302      1419   946691.02  1445668.92  202201          SE     24  1.481756e+06\n",
       "307      1422  1171187.63  1389495.49  202202          SE     25  1.440132e+06\n",
       "312      1424  1255115.17  1464993.20  202203          SE     26  1.433386e+06\n",
       "317      1411  1192642.10  1371781.80  202204          SE     27  1.408757e+06\n",
       "322      1391   925971.45  1352877.60  202205          SE     28  1.396551e+06"
      ]
     },
     "execution_count": 31,
     "metadata": {},
     "output_type": "execute_result"
    }
   ],
   "source": [
    "consumo_se_filtrado['Ticks'] = range(0,len(consumo_se_filtrado.index.values))\n",
    "\n",
    "consumo_se_filtrado['Rolling_Mean'] = consumo_se_filtrado['consumo'].rolling(window = 3).mean()\n",
    "consumo_se_filtrado"
   ]
  },
  {
   "cell_type": "code",
   "execution_count": 32,
   "id": "3adf9472",
   "metadata": {},
   "outputs": [
    {
     "data": {
      "image/png": "[encoded data removed]",
      "text/plain": [
       "<Figure size 1080x360 with 2 Axes>"
      ]
     },
     "metadata": {
      "needs_background": "light"
     },
     "output_type": "display_data"
    }
   ],
   "source": [
    "fig, axes = plt.subplots(nrows = 1, ncols = 2, figsize = (15,5));\n",
    "axes[0].plot('Ticks', 'consumo', data = consumo_se_filtrado);\n",
    "axes[0].set_title('Original');\n",
    "\n",
    "axes[1].plot('Ticks', 'Rolling_Mean', data = consumo_se_filtrado);\n",
    "axes[1].set_title('Média Móvel');"
   ]
  },
  {
   "cell_type": "code",
   "execution_count": 33,
   "id": "153f179c",
   "metadata": {},
   "outputs": [],
   "source": [
    "from statsmodels.tsa.api import ExponentialSmoothing, SimpleExpSmoothing, Holt"
   ]
  },
  {
   "cell_type": "code",
   "execution_count": 37,
   "id": "52e9af75",
   "metadata": {},
   "outputs": [
    {
     "name": "stderr",
     "output_type": "stream",
     "text": [
      "C:\\Users\\TALMEI~1\\AppData\\Local\\Temp/ipykernel_11616/1040726899.py:2: SettingWithCopyWarning: \n",
      "A value is trying to be set on a copy of a slice from a DataFrame.\n",
      "Try using .loc[row_indexer,col_indexer] = value instead\n",
      "\n",
      "See the caveats in the documentation: https://pandas.pydata.org/pandas-docs/stable/user_guide/indexing.html#returning-a-view-versus-a-copy\n",
      "  data['mes'] = data['mes'].apply(lambda x: pd.to_datetime(str(x) + '01'))\n"
     ]
    },
    {
     "data": {
      "text/html": [
       "<div>\n",
       "<style scoped>\n",
       "    .dataframe tbody tr th:only-of-type {\n",
       "        vertical-align: middle;\n",
       "    }\n",
       "\n",
       "    .dataframe tbody tr th {\n",
       "        vertical-align: top;\n",
       "    }\n",
       "\n",
       "    .dataframe thead th {\n",
       "        text-align: right;\n",
       "    }\n",
       "</style>\n",
       "<table border=\"1\" class=\"dataframe\">\n",
       "  <thead>\n",
       "    <tr style=\"text-align: right;\">\n",
       "      <th></th>\n",
       "      <th>consumo</th>\n",
       "    </tr>\n",
       "    <tr>\n",
       "      <th>mes</th>\n",
       "      <th></th>\n",
       "    </tr>\n",
       "  </thead>\n",
       "  <tbody>\n",
       "    <tr>\n",
       "      <th>2017-01-01</th>\n",
       "      <td>1975685.45</td>\n",
       "    </tr>\n",
       "    <tr>\n",
       "      <th>2017-02-01</th>\n",
       "      <td>1918435.64</td>\n",
       "    </tr>\n",
       "    <tr>\n",
       "      <th>2017-03-01</th>\n",
       "      <td>2095963.00</td>\n",
       "    </tr>\n",
       "    <tr>\n",
       "      <th>2017-04-01</th>\n",
       "      <td>1793219.74</td>\n",
       "    </tr>\n",
       "    <tr>\n",
       "      <th>2017-05-01</th>\n",
       "      <td>2133632.30</td>\n",
       "    </tr>\n",
       "    <tr>\n",
       "      <th>...</th>\n",
       "      <td>...</td>\n",
       "    </tr>\n",
       "    <tr>\n",
       "      <th>2022-01-01</th>\n",
       "      <td>1445668.92</td>\n",
       "    </tr>\n",
       "    <tr>\n",
       "      <th>2022-02-01</th>\n",
       "      <td>1389495.49</td>\n",
       "    </tr>\n",
       "    <tr>\n",
       "      <th>2022-03-01</th>\n",
       "      <td>1464993.20</td>\n",
       "    </tr>\n",
       "    <tr>\n",
       "      <th>2022-04-01</th>\n",
       "      <td>1371781.80</td>\n",
       "    </tr>\n",
       "    <tr>\n",
       "      <th>2022-05-01</th>\n",
       "      <td>1352877.60</td>\n",
       "    </tr>\n",
       "  </tbody>\n",
       "</table>\n",
       "<p>65 rows × 1 columns</p>\n",
       "</div>"
      ],
      "text/plain": [
       "               consumo\n",
       "mes                   \n",
       "2017-01-01  1975685.45\n",
       "2017-02-01  1918435.64\n",
       "2017-03-01  2095963.00\n",
       "2017-04-01  1793219.74\n",
       "2017-05-01  2133632.30\n",
       "...                ...\n",
       "2022-01-01  1445668.92\n",
       "2022-02-01  1389495.49\n",
       "2022-03-01  1464993.20\n",
       "2022-04-01  1371781.80\n",
       "2022-05-01  1352877.60\n",
       "\n",
       "[65 rows x 1 columns]"
      ]
     },
     "execution_count": 37,
     "metadata": {},
     "output_type": "execute_result"
    }
   ],
   "source": [
    "data = consumo_se[['mes', 'consumo']]\n",
    "data['mes'] = data['mes'].apply(lambda x: pd.to_datetime(str(x) + '01'))\n",
    "data.set_index('mes', inplace=True)\n",
    "data"
   ]
  },
  {
   "cell_type": "code",
   "execution_count": 38,
   "id": "22d28e65",
   "metadata": {},
   "outputs": [
    {
     "name": "stderr",
     "output_type": "stream",
     "text": [
      "C:\\Users\\talmeidar\\Anaconda3\\lib\\site-packages\\statsmodels\\tsa\\base\\tsa_model.py:524: ValueWarning: No frequency information was provided, so inferred frequency MS will be used.\n",
      "  warnings.warn('No frequency information was'\n",
      "C:\\Users\\talmeidar\\Anaconda3\\lib\\site-packages\\statsmodels\\tsa\\holtwinters\\model.py:427: FutureWarning: After 0.13 initialization must be handled at model creation\n",
      "  warnings.warn(\n",
      "C:\\Users\\talmeidar\\Anaconda3\\lib\\site-packages\\statsmodels\\tsa\\base\\tsa_model.py:132: FutureWarning: The 'freq' argument in Timestamp is deprecated and will be removed in a future version.\n",
      "  date_key = Timestamp(key, freq=base_index.freq)\n"
     ]
    }
   ],
   "source": [
    "fit1 = SimpleExpSmoothing(data).fit(smoothing_level=0.2,optimized=False)\n",
    "fcast1 = fit1.forecast(12).rename(r'$\\alpha=0.2$')"
   ]
  },
  {
   "cell_type": "code",
   "execution_count": 41,
   "id": "0ffc60f1",
   "metadata": {},
   "outputs": [
    {
     "data": {
      "image/png": "[encoded data removed]",
      "text/plain": [
       "<Figure size 1080x360 with 1 Axes>"
      ]
     },
     "metadata": {
      "needs_background": "light"
     },
     "output_type": "display_data"
    }
   ],
   "source": [
    "fig = plt.figure(figsize=(15,5))\n",
    "fcast1.plot(marker='.', color='blue', legend=True)\n",
    "fit1.fittedvalues.plot(marker='.',  color='red')\n",
    "plt.show()"
   ]
  },
  {
   "cell_type": "code",
   "execution_count": 42,
   "id": "0273222b",
   "metadata": {},
   "outputs": [
    {
     "name": "stderr",
     "output_type": "stream",
     "text": [
      "C:\\Users\\talmeidar\\Anaconda3\\lib\\site-packages\\statsmodels\\tsa\\base\\tsa_model.py:524: ValueWarning: No frequency information was provided, so inferred frequency MS will be used.\n",
      "  warnings.warn('No frequency information was'\n",
      "C:\\Users\\talmeidar\\Anaconda3\\lib\\site-packages\\statsmodels\\tsa\\holtwinters\\model.py:427: FutureWarning: After 0.13 initialization must be handled at model creation\n",
      "  warnings.warn(\n",
      "C:\\Users\\talmeidar\\Anaconda3\\lib\\site-packages\\statsmodels\\tsa\\holtwinters\\model.py:920: ConvergenceWarning: Optimization failed to converge. Check mle_retvals.\n",
      "  warnings.warn(\n",
      "C:\\Users\\talmeidar\\Anaconda3\\lib\\site-packages\\statsmodels\\tsa\\base\\tsa_model.py:132: FutureWarning: The 'freq' argument in Timestamp is deprecated and will be removed in a future version.\n",
      "  date_key = Timestamp(key, freq=base_index.freq)\n"
     ]
    },
    {
     "data": {
      "text/plain": [
       "<AxesSubplot:xlabel='mes'>"
      ]
     },
     "execution_count": 42,
     "metadata": {},
     "output_type": "execute_result"
    },
    {
     "data": {
      "image/png": "[encoded data removed]",
      "text/plain": [
       "<Figure size 1080x360 with 1 Axes>"
      ]
     },
     "metadata": {
      "needs_background": "light"
     },
     "output_type": "display_data"
    }
   ],
   "source": [
    "fig = plt.figure(figsize=(15,5))\n",
    "fit3 = SimpleExpSmoothing(data).fit()\n",
    "fcast3 = fit3.forecast(12).rename(r'$\\alpha=%s$'%fit3.model.params['smoothing_level'])\n",
    "# plot\n",
    "fcast3.plot(marker='o', color='green', legend=True)\n",
    "fit3.fittedvalues.plot(marker='o', color='red')"
   ]
  },
  {
   "cell_type": "code",
   "execution_count": 5,
   "id": "3852d2de",
   "metadata": {},
   "outputs": [],
   "source": [
    "from statsmodels.tsa.api import ExponentialSmoothing, SimpleExpSmoothing, Holt"
   ]
  },
  {
   "cell_type": "code",
   "execution_count": 13,
   "id": "252590ca",
   "metadata": {},
   "outputs": [
    {
     "data": {
      "text/html": [
       "<div>\n",
       "<style scoped>\n",
       "    .dataframe tbody tr th:only-of-type {\n",
       "        vertical-align: middle;\n",
       "    }\n",
       "\n",
       "    .dataframe tbody tr th {\n",
       "        vertical-align: top;\n",
       "    }\n",
       "\n",
       "    .dataframe thead th {\n",
       "        text-align: right;\n",
       "    }\n",
       "</style>\n",
       "<table border=\"1\" class=\"dataframe\">\n",
       "  <thead>\n",
       "    <tr style=\"text-align: right;\">\n",
       "      <th></th>\n",
       "      <th>consumo</th>\n",
       "    </tr>\n",
       "    <tr>\n",
       "      <th>mes</th>\n",
       "      <th></th>\n",
       "    </tr>\n",
       "  </thead>\n",
       "  <tbody>\n",
       "    <tr>\n",
       "      <th>2017-01-01</th>\n",
       "      <td>1975685.45</td>\n",
       "    </tr>\n",
       "    <tr>\n",
       "      <th>2017-02-01</th>\n",
       "      <td>1918435.64</td>\n",
       "    </tr>\n",
       "    <tr>\n",
       "      <th>2017-03-01</th>\n",
       "      <td>2095963.00</td>\n",
       "    </tr>\n",
       "    <tr>\n",
       "      <th>2017-04-01</th>\n",
       "      <td>1793219.74</td>\n",
       "    </tr>\n",
       "    <tr>\n",
       "      <th>2017-05-01</th>\n",
       "      <td>2133632.30</td>\n",
       "    </tr>\n",
       "    <tr>\n",
       "      <th>...</th>\n",
       "      <td>...</td>\n",
       "    </tr>\n",
       "    <tr>\n",
       "      <th>2022-01-01</th>\n",
       "      <td>1445668.92</td>\n",
       "    </tr>\n",
       "    <tr>\n",
       "      <th>2022-02-01</th>\n",
       "      <td>1389495.49</td>\n",
       "    </tr>\n",
       "    <tr>\n",
       "      <th>2022-03-01</th>\n",
       "      <td>1464993.20</td>\n",
       "    </tr>\n",
       "    <tr>\n",
       "      <th>2022-04-01</th>\n",
       "      <td>1371781.80</td>\n",
       "    </tr>\n",
       "    <tr>\n",
       "      <th>2022-05-01</th>\n",
       "      <td>1352877.60</td>\n",
       "    </tr>\n",
       "  </tbody>\n",
       "</table>\n",
       "<p>65 rows × 1 columns</p>\n",
       "</div>"
      ],
      "text/plain": [
       "               consumo\n",
       "mes                   \n",
       "2017-01-01  1975685.45\n",
       "2017-02-01  1918435.64\n",
       "2017-03-01  2095963.00\n",
       "2017-04-01  1793219.74\n",
       "2017-05-01  2133632.30\n",
       "...                ...\n",
       "2022-01-01  1445668.92\n",
       "2022-02-01  1389495.49\n",
       "2022-03-01  1464993.20\n",
       "2022-04-01  1371781.80\n",
       "2022-05-01  1352877.60\n",
       "\n",
       "[65 rows x 1 columns]"
      ]
     },
     "execution_count": 13,
     "metadata": {},
     "output_type": "execute_result"
    }
   ],
   "source": [
    "data = consumo_macroregioes[['mes', 'consumo']].loc[consumo_macroregioes['macroregiao']=='SE']\n",
    "data.set_index('mes', inplace=True)\n",
    "data"
   ]
  },
  {
   "cell_type": "code",
   "execution_count": 14,
   "id": "663b58d4",
   "metadata": {},
   "outputs": [
    {
     "name": "stderr",
     "output_type": "stream",
     "text": [
      "C:\\Users\\talmeidar\\Anaconda3\\lib\\site-packages\\statsmodels\\tsa\\base\\tsa_model.py:524: ValueWarning: No frequency information was provided, so inferred frequency MS will be used.\n",
      "  warnings.warn('No frequency information was'\n",
      "C:\\Users\\talmeidar\\Anaconda3\\lib\\site-packages\\statsmodels\\tsa\\holtwinters\\model.py:427: FutureWarning: After 0.13 initialization must be handled at model creation\n",
      "  warnings.warn(\n",
      "C:\\Users\\TALMEI~1\\AppData\\Local\\Temp/ipykernel_3456/2797378057.py:1: FutureWarning: the 'smoothing_slope'' keyword is deprecated, use 'smoothing_trend' instead\n",
      "  fit1 = Holt(data).fit(smoothing_level=0.8, smoothing_slope=0.2, optimized=False)\n",
      "C:\\Users\\talmeidar\\Anaconda3\\lib\\site-packages\\statsmodels\\tsa\\base\\tsa_model.py:132: FutureWarning: The 'freq' argument in Timestamp is deprecated and will be removed in a future version.\n",
      "  date_key = Timestamp(key, freq=base_index.freq)\n"
     ]
    }
   ],
   "source": [
    "fit1 = Holt(data).fit(smoothing_level=0.8, smoothing_slope=0.2, optimized=False)\n",
    "fcast1 = fit1.forecast(12).rename(\"Holt's linear trend\")#for next 12 months"
   ]
  },
  {
   "cell_type": "code",
   "execution_count": 15,
   "id": "ba10cd4e",
   "metadata": {},
   "outputs": [
    {
     "data": {
      "text/plain": [
       "<AxesSubplot:xlabel='mes'>"
      ]
     },
     "execution_count": 15,
     "metadata": {},
     "output_type": "execute_result"
    },
    {
     "data": {
      "image/png": "[encoded data removed]",
      "text/plain": [
       "<Figure size 432x288 with 1 Axes>"
      ]
     },
     "metadata": {
      "needs_background": "light"
     },
     "output_type": "display_data"
    }
   ],
   "source": [
    "fit1.fittedvalues.plot(marker=\"o\", color='blue')\n",
    "fcast1.plot(color='red', marker=\"o\", legend=True)"
   ]
  },
  {
   "cell_type": "code",
   "execution_count": 16,
   "id": "f57f9054",
   "metadata": {},
   "outputs": [
    {
     "name": "stderr",
     "output_type": "stream",
     "text": [
      "C:\\Users\\TALMEI~1\\AppData\\Local\\Temp/ipykernel_3456/3004654563.py:1: FutureWarning: the 'damped'' keyword is deprecated, use 'damped_trend' instead\n",
      "  fit3 = Holt(data, damped=True).fit(smoothing_level=0.8, smoothing_slope=0.2)\n",
      "C:\\Users\\talmeidar\\Anaconda3\\lib\\site-packages\\statsmodels\\tsa\\base\\tsa_model.py:524: ValueWarning: No frequency information was provided, so inferred frequency MS will be used.\n",
      "  warnings.warn('No frequency information was'\n",
      "C:\\Users\\talmeidar\\Anaconda3\\lib\\site-packages\\statsmodels\\tsa\\holtwinters\\model.py:427: FutureWarning: After 0.13 initialization must be handled at model creation\n",
      "  warnings.warn(\n",
      "C:\\Users\\TALMEI~1\\AppData\\Local\\Temp/ipykernel_3456/3004654563.py:1: FutureWarning: the 'smoothing_slope'' keyword is deprecated, use 'smoothing_trend' instead\n",
      "  fit3 = Holt(data, damped=True).fit(smoothing_level=0.8, smoothing_slope=0.2)\n",
      "C:\\Users\\talmeidar\\Anaconda3\\lib\\site-packages\\statsmodels\\tsa\\holtwinters\\model.py:920: ConvergenceWarning: Optimization failed to converge. Check mle_retvals.\n",
      "  warnings.warn(\n",
      "C:\\Users\\talmeidar\\Anaconda3\\lib\\site-packages\\statsmodels\\tsa\\base\\tsa_model.py:132: FutureWarning: The 'freq' argument in Timestamp is deprecated and will be removed in a future version.\n",
      "  date_key = Timestamp(key, freq=base_index.freq)\n"
     ]
    }
   ],
   "source": [
    "fit3 = Holt(data, damped=True).fit(smoothing_level=0.8, smoothing_slope=0.2)\n",
    "fcast3 = fit3.forecast(12).rename(\"Additive damped trend\")"
   ]
  },
  {
   "cell_type": "code",
   "execution_count": 17,
   "id": "bb134122",
   "metadata": {},
   "outputs": [
    {
     "data": {
      "text/plain": [
       "<AxesSubplot:xlabel='mes'>"
      ]
     },
     "execution_count": 17,
     "metadata": {},
     "output_type": "execute_result"
    },
    {
     "data": {
      "image/png": "[encoded data removed]",
      "text/plain": [
       "<Figure size 432x288 with 1 Axes>"
      ]
     },
     "metadata": {
      "needs_background": "light"
     },
     "output_type": "display_data"
    }
   ],
   "source": [
    "fit3.fittedvalues.plot(marker=\"o\", color='green')\n",
    "fcast3.plot(color='red', marker=\"o\", legend=True)"
   ]
  },
  {
   "cell_type": "code",
   "execution_count": 35,
   "id": "8d85e26a",
   "metadata": {},
   "outputs": [
    {
     "data": {
      "text/html": [
       "<div>\n",
       "<style scoped>\n",
       "    .dataframe tbody tr th:only-of-type {\n",
       "        vertical-align: middle;\n",
       "    }\n",
       "\n",
       "    .dataframe tbody tr th {\n",
       "        vertical-align: top;\n",
       "    }\n",
       "\n",
       "    .dataframe thead th {\n",
       "        text-align: right;\n",
       "    }\n",
       "</style>\n",
       "<table border=\"1\" class=\"dataframe\">\n",
       "  <thead>\n",
       "    <tr style=\"text-align: right;\">\n",
       "      <th></th>\n",
       "      <th>consumo</th>\n",
       "    </tr>\n",
       "    <tr>\n",
       "      <th>mes</th>\n",
       "      <th></th>\n",
       "    </tr>\n",
       "  </thead>\n",
       "  <tbody>\n",
       "    <tr>\n",
       "      <th>2020-01-01</th>\n",
       "      <td>2373871.65</td>\n",
       "    </tr>\n",
       "    <tr>\n",
       "      <th>2020-02-01</th>\n",
       "      <td>2330485.21</td>\n",
       "    </tr>\n",
       "    <tr>\n",
       "      <th>2020-03-01</th>\n",
       "      <td>2293227.25</td>\n",
       "    </tr>\n",
       "    <tr>\n",
       "      <th>2020-04-01</th>\n",
       "      <td>2307155.05</td>\n",
       "    </tr>\n",
       "    <tr>\n",
       "      <th>2020-05-01</th>\n",
       "      <td>2232839.16</td>\n",
       "    </tr>\n",
       "    <tr>\n",
       "      <th>2020-06-01</th>\n",
       "      <td>2002953.06</td>\n",
       "    </tr>\n",
       "    <tr>\n",
       "      <th>2020-07-01</th>\n",
       "      <td>2136532.31</td>\n",
       "    </tr>\n",
       "    <tr>\n",
       "      <th>2020-08-01</th>\n",
       "      <td>2153156.95</td>\n",
       "    </tr>\n",
       "    <tr>\n",
       "      <th>2020-09-01</th>\n",
       "      <td>2156872.24</td>\n",
       "    </tr>\n",
       "    <tr>\n",
       "      <th>2020-10-01</th>\n",
       "      <td>2151907.35</td>\n",
       "    </tr>\n",
       "    <tr>\n",
       "      <th>2020-11-01</th>\n",
       "      <td>2154075.44</td>\n",
       "    </tr>\n",
       "    <tr>\n",
       "      <th>2020-12-01</th>\n",
       "      <td>2130846.65</td>\n",
       "    </tr>\n",
       "    <tr>\n",
       "      <th>2021-01-01</th>\n",
       "      <td>2121784.45</td>\n",
       "    </tr>\n",
       "    <tr>\n",
       "      <th>2021-02-01</th>\n",
       "      <td>2012577.34</td>\n",
       "    </tr>\n",
       "    <tr>\n",
       "      <th>2021-03-01</th>\n",
       "      <td>2036067.82</td>\n",
       "    </tr>\n",
       "    <tr>\n",
       "      <th>2021-04-01</th>\n",
       "      <td>2057453.62</td>\n",
       "    </tr>\n",
       "    <tr>\n",
       "      <th>2021-05-01</th>\n",
       "      <td>1960787.77</td>\n",
       "    </tr>\n",
       "    <tr>\n",
       "      <th>2021-06-01</th>\n",
       "      <td>1898290.67</td>\n",
       "    </tr>\n",
       "    <tr>\n",
       "      <th>2021-07-01</th>\n",
       "      <td>1811788.08</td>\n",
       "    </tr>\n",
       "    <tr>\n",
       "      <th>2021-08-01</th>\n",
       "      <td>1741147.02</td>\n",
       "    </tr>\n",
       "    <tr>\n",
       "      <th>2021-09-01</th>\n",
       "      <td>1804804.02</td>\n",
       "    </tr>\n",
       "    <tr>\n",
       "      <th>2021-10-01</th>\n",
       "      <td>1805777.82</td>\n",
       "    </tr>\n",
       "    <tr>\n",
       "      <th>2021-11-01</th>\n",
       "      <td>1802212.13</td>\n",
       "    </tr>\n",
       "    <tr>\n",
       "      <th>2021-12-01</th>\n",
       "      <td>1769657.20</td>\n",
       "    </tr>\n",
       "    <tr>\n",
       "      <th>2022-01-01</th>\n",
       "      <td>1777283.24</td>\n",
       "    </tr>\n",
       "    <tr>\n",
       "      <th>2022-02-01</th>\n",
       "      <td>1684174.12</td>\n",
       "    </tr>\n",
       "    <tr>\n",
       "      <th>2022-03-01</th>\n",
       "      <td>1739446.51</td>\n",
       "    </tr>\n",
       "    <tr>\n",
       "      <th>2022-04-01</th>\n",
       "      <td>1607744.69</td>\n",
       "    </tr>\n",
       "    <tr>\n",
       "      <th>2022-05-01</th>\n",
       "      <td>1542652.84</td>\n",
       "    </tr>\n",
       "  </tbody>\n",
       "</table>\n",
       "</div>"
      ],
      "text/plain": [
       "               consumo\n",
       "mes                   \n",
       "2020-01-01  2373871.65\n",
       "2020-02-01  2330485.21\n",
       "2020-03-01  2293227.25\n",
       "2020-04-01  2307155.05\n",
       "2020-05-01  2232839.16\n",
       "2020-06-01  2002953.06\n",
       "2020-07-01  2136532.31\n",
       "2020-08-01  2153156.95\n",
       "2020-09-01  2156872.24\n",
       "2020-10-01  2151907.35\n",
       "2020-11-01  2154075.44\n",
       "2020-12-01  2130846.65\n",
       "2021-01-01  2121784.45\n",
       "2021-02-01  2012577.34\n",
       "2021-03-01  2036067.82\n",
       "2021-04-01  2057453.62\n",
       "2021-05-01  1960787.77\n",
       "2021-06-01  1898290.67\n",
       "2021-07-01  1811788.08\n",
       "2021-08-01  1741147.02\n",
       "2021-09-01  1804804.02\n",
       "2021-10-01  1805777.82\n",
       "2021-11-01  1802212.13\n",
       "2021-12-01  1769657.20\n",
       "2022-01-01  1777283.24\n",
       "2022-02-01  1684174.12\n",
       "2022-03-01  1739446.51\n",
       "2022-04-01  1607744.69\n",
       "2022-05-01  1542652.84"
      ]
     },
     "execution_count": 35,
     "metadata": {},
     "output_type": "execute_result"
    }
   ],
   "source": [
    "data = consumo_macroregioes[['mes', 'consumo']].loc[consumo_macroregioes['macroregiao']=='S']\n",
    "data.set_index('mes', inplace=True)\n",
    "data.iloc[36:,]"
   ]
  },
  {
   "cell_type": "code",
   "execution_count": 36,
   "id": "9ac2701e",
   "metadata": {},
   "outputs": [
    {
     "name": "stderr",
     "output_type": "stream",
     "text": [
      "C:\\Users\\talmeidar\\Anaconda3\\lib\\site-packages\\statsmodels\\tsa\\base\\tsa_model.py:524: ValueWarning: No frequency information was provided, so inferred frequency MS will be used.\n",
      "  warnings.warn('No frequency information was'\n",
      "C:\\Users\\talmeidar\\Anaconda3\\lib\\site-packages\\statsmodels\\tsa\\holtwinters\\model.py:427: FutureWarning: After 0.13 initialization must be handled at model creation\n",
      "  warnings.warn(\n",
      "C:\\Users\\talmeidar\\Anaconda3\\lib\\site-packages\\statsmodels\\tsa\\holtwinters\\model.py:1112: FutureWarning: Setting use_boxcox during fit has been deprecated and will be removed after 0.13. It must be set during model initialization.\n",
      "  warnings.warn(\n",
      "C:\\Users\\talmeidar\\Anaconda3\\lib\\site-packages\\statsmodels\\tsa\\holtwinters\\model.py:920: ConvergenceWarning: Optimization failed to converge. Check mle_retvals.\n",
      "  warnings.warn(\n"
     ]
    }
   ],
   "source": [
    "fit1 = ExponentialSmoothing(data.iloc[36:,], seasonal_periods=12, trend='additive', seasonal='additive').fit(use_boxcox=True)"
   ]
  },
  {
   "cell_type": "code",
   "execution_count": 37,
   "id": "a7c7219d",
   "metadata": {},
   "outputs": [
    {
     "data": {
      "text/plain": [
       "<AxesSubplot:xlabel='mes'>"
      ]
     },
     "execution_count": 37,
     "metadata": {},
     "output_type": "execute_result"
    },
    {
     "data": {
      "image/png": "[encoded data removed]",
      "text/plain": [
       "<Figure size 432x288 with 1 Axes>"
      ]
     },
     "metadata": {
      "needs_background": "light"
     },
     "output_type": "display_data"
    }
   ],
   "source": [
    "fit1.fittedvalues.plot(style='--', color='red')"
   ]
  },
  {
   "cell_type": "code",
   "execution_count": 38,
   "id": "a2af36fe",
   "metadata": {},
   "outputs": [
    {
     "name": "stderr",
     "output_type": "stream",
     "text": [
      "C:\\Users\\talmeidar\\Anaconda3\\lib\\site-packages\\statsmodels\\tsa\\base\\tsa_model.py:132: FutureWarning: The 'freq' argument in Timestamp is deprecated and will be removed in a future version.\n",
      "  date_key = Timestamp(key, freq=base_index.freq)\n"
     ]
    },
    {
     "data": {
      "text/plain": [
       "<AxesSubplot:>"
      ]
     },
     "execution_count": 38,
     "metadata": {},
     "output_type": "execute_result"
    },
    {
     "data": {
      "image/png": "[encoded data removed]",
      "text/plain": [
       "<Figure size 432x288 with 1 Axes>"
      ]
     },
     "metadata": {
      "needs_background": "light"
     },
     "output_type": "display_data"
    }
   ],
   "source": [
    "fit1.forecast(24).plot(style='--', marker='o', color='black', legend=True)"
   ]
  },
  {
   "cell_type": "code",
   "execution_count": 39,
   "id": "aefd7c92",
   "metadata": {},
   "outputs": [
    {
     "name": "stderr",
     "output_type": "stream",
     "text": [
      "C:\\Users\\talmeidar\\Anaconda3\\lib\\site-packages\\statsmodels\\tsa\\base\\tsa_model.py:132: FutureWarning: The 'freq' argument in Timestamp is deprecated and will be removed in a future version.\n",
      "  date_key = Timestamp(key, freq=base_index.freq)\n"
     ]
    },
    {
     "data": {
      "text/plain": [
       "<AxesSubplot:xlabel='mes'>"
      ]
     },
     "execution_count": 39,
     "metadata": {},
     "output_type": "execute_result"
    },
    {
     "data": {
      "image/png": "[encoded data removed]",
      "text/plain": [
       "<Figure size 432x288 with 1 Axes>"
      ]
     },
     "metadata": {
      "needs_background": "light"
     },
     "output_type": "display_data"
    }
   ],
   "source": [
    "fit1.fittedvalues.plot(style='--', color='red')\n",
    "fit1.forecast(24).plot(style='--', marker='o', color='black', legend=True)"
   ]
  },
  {
   "cell_type": "code",
   "execution_count": 40,
   "id": "3756b82e",
   "metadata": {},
   "outputs": [
    {
     "data": {
      "image/png": "[encoded data removed]",
      "text/plain": [
       "<Figure size 432x288 with 1 Axes>"
      ]
     },
     "metadata": {
      "needs_background": "light"
     },
     "output_type": "display_data"
    }
   ],
   "source": [
    "from statsmodels.graphics.tsaplots import plot_acf, plot_pacf\n",
    "plot_acf(data)\n",
    "plt.show()"
   ]
  },
  {
   "cell_type": "code",
   "execution_count": 41,
   "id": "8fbbc2dd",
   "metadata": {},
   "outputs": [
    {
     "data": {
      "image/png": "[encoded data removed]",
      "text/plain": [
       "<Figure size 432x288 with 1 Axes>"
      ]
     },
     "metadata": {
      "needs_background": "light"
     },
     "output_type": "display_data"
    }
   ],
   "source": [
    "plot_pacf(data)\n",
    "plt.show()"
   ]
  },
  {
   "cell_type": "code",
   "execution_count": 42,
   "id": "cab2ff79",
   "metadata": {},
   "outputs": [],
   "source": [
    "from statsmodels.tsa.arima_model import ARIMA"
   ]
  },
  {
   "cell_type": "code",
   "execution_count": 43,
   "id": "d916fcb7",
   "metadata": {},
   "outputs": [
    {
     "name": "stdout",
     "output_type": "stream",
     "text": [
      "                             ARIMA Model Results                              \n",
      "==============================================================================\n",
      "Dep. Variable:              D.consumo   No. Observations:                   64\n",
      "Model:                 ARIMA(5, 1, 0)   Log Likelihood                -798.934\n",
      "Method:                       css-mle   S.D. of innovations          63727.586\n",
      "Date:                Tue, 16 Aug 2022   AIC                           1611.868\n",
      "Time:                        15:07:08   BIC                           1626.981\n",
      "Sample:                    02-01-2017   HQIC                          1617.822\n",
      "                         - 05-01-2022                                         \n",
      "===================================================================================\n",
      "                      coef    std err          z      P>|z|      [0.025      0.975]\n",
      "-----------------------------------------------------------------------------------\n",
      "const           -1.619e+04   5643.977     -2.869      0.004   -2.73e+04   -5128.824\n",
      "ar.L1.D.consumo    -0.3585      0.126     -2.854      0.004      -0.605      -0.112\n",
      "ar.L2.D.consumo    -0.0662      0.136     -0.486      0.627      -0.333       0.201\n",
      "ar.L3.D.consumo     0.0434      0.136      0.318      0.750      -0.223       0.310\n",
      "ar.L4.D.consumo     0.0633      0.136      0.466      0.641      -0.203       0.330\n",
      "ar.L5.D.consumo    -0.1210      0.128     -0.947      0.344      -0.371       0.129\n",
      "                                    Roots                                    \n",
      "=============================================================================\n",
      "                  Real          Imaginary           Modulus         Frequency\n",
      "-----------------------------------------------------------------------------\n",
      "AR.1           -1.3462           -0.0000j            1.3462           -0.5000\n",
      "AR.2           -0.5101           -1.2945j            1.3914           -0.3097\n",
      "AR.3           -0.5101           +1.2945j            1.3914            0.3097\n",
      "AR.4            1.4449           -1.0408j            1.7807           -0.0994\n",
      "AR.5            1.4449           +1.0408j            1.7807            0.0994\n",
      "-----------------------------------------------------------------------------\n"
     ]
    },
    {
     "name": "stderr",
     "output_type": "stream",
     "text": [
      "C:\\Users\\talmeidar\\Anaconda3\\lib\\site-packages\\statsmodels\\tsa\\arima_model.py:472: FutureWarning: \n",
      "statsmodels.tsa.arima_model.ARMA and statsmodels.tsa.arima_model.ARIMA have\n",
      "been deprecated in favor of statsmodels.tsa.arima.model.ARIMA (note the .\n",
      "between arima and model) and\n",
      "statsmodels.tsa.SARIMAX. These will be removed after the 0.12 release.\n",
      "\n",
      "statsmodels.tsa.arima.model.ARIMA makes use of the statespace framework and\n",
      "is both well tested and maintained.\n",
      "\n",
      "To silence this warning and continue using ARMA and ARIMA until they are\n",
      "removed, use:\n",
      "\n",
      "import warnings\n",
      "warnings.filterwarnings('ignore', 'statsmodels.tsa.arima_model.ARMA',\n",
      "                        FutureWarning)\n",
      "warnings.filterwarnings('ignore', 'statsmodels.tsa.arima_model.ARIMA',\n",
      "                        FutureWarning)\n",
      "\n",
      "  warnings.warn(ARIMA_DEPRECATION_WARN, FutureWarning)\n",
      "C:\\Users\\talmeidar\\Anaconda3\\lib\\site-packages\\statsmodels\\tsa\\base\\tsa_model.py:524: ValueWarning: No frequency information was provided, so inferred frequency MS will be used.\n",
      "  warnings.warn('No frequency information was'\n",
      "C:\\Users\\talmeidar\\Anaconda3\\lib\\site-packages\\statsmodels\\tsa\\base\\tsa_model.py:524: ValueWarning: No frequency information was provided, so inferred frequency MS will be used.\n",
      "  warnings.warn('No frequency information was'\n"
     ]
    }
   ],
   "source": [
    "model = ARIMA(data, order=(5,1,0))\n",
    "model_fit = model.fit(disp=0)\n",
    "print(model_fit.summary())"
   ]
  },
  {
   "cell_type": "code",
   "execution_count": 45,
   "id": "2f9e62cd",
   "metadata": {},
   "outputs": [
    {
     "name": "stdout",
     "output_type": "stream",
     "text": [
      "                             ARIMA Model Results                              \n",
      "==============================================================================\n",
      "Dep. Variable:              D.consumo   No. Observations:                   64\n",
      "Model:                 ARIMA(2, 1, 1)   Log Likelihood                -799.723\n",
      "Method:                       css-mle   S.D. of innovations          64577.628\n",
      "Date:                Tue, 16 Aug 2022   AIC                           1609.446\n",
      "Time:                        15:09:26   BIC                           1620.241\n",
      "Sample:                    02-01-2017   HQIC                          1613.699\n",
      "                         - 05-01-2022                                         \n",
      "===================================================================================\n",
      "                      coef    std err          z      P>|z|      [0.025      0.975]\n",
      "-----------------------------------------------------------------------------------\n",
      "const           -1.567e+04   5583.189     -2.807      0.005   -2.66e+04   -4727.542\n",
      "ar.L1.D.consumo    -0.4156      0.774     -0.537      0.592      -1.934       1.102\n",
      "ar.L2.D.consumo    -0.0983      0.292     -0.336      0.737      -0.671       0.475\n",
      "ma.L1.D.consumo     0.0399      0.770      0.052      0.959      -1.469       1.549\n",
      "                                    Roots                                    \n",
      "=============================================================================\n",
      "                  Real          Imaginary           Modulus         Frequency\n",
      "-----------------------------------------------------------------------------\n",
      "AR.1           -2.1148           -2.3883j            3.1900           -0.3653\n",
      "AR.2           -2.1148           +2.3883j            3.1900            0.3653\n",
      "MA.1          -25.0706           +0.0000j           25.0706            0.5000\n",
      "-----------------------------------------------------------------------------\n"
     ]
    },
    {
     "name": "stderr",
     "output_type": "stream",
     "text": [
      "C:\\Users\\talmeidar\\Anaconda3\\lib\\site-packages\\statsmodels\\tsa\\arima_model.py:472: FutureWarning: \n",
      "statsmodels.tsa.arima_model.ARMA and statsmodels.tsa.arima_model.ARIMA have\n",
      "been deprecated in favor of statsmodels.tsa.arima.model.ARIMA (note the .\n",
      "between arima and model) and\n",
      "statsmodels.tsa.SARIMAX. These will be removed after the 0.12 release.\n",
      "\n",
      "statsmodels.tsa.arima.model.ARIMA makes use of the statespace framework and\n",
      "is both well tested and maintained.\n",
      "\n",
      "To silence this warning and continue using ARMA and ARIMA until they are\n",
      "removed, use:\n",
      "\n",
      "import warnings\n",
      "warnings.filterwarnings('ignore', 'statsmodels.tsa.arima_model.ARMA',\n",
      "                        FutureWarning)\n",
      "warnings.filterwarnings('ignore', 'statsmodels.tsa.arima_model.ARIMA',\n",
      "                        FutureWarning)\n",
      "\n",
      "  warnings.warn(ARIMA_DEPRECATION_WARN, FutureWarning)\n",
      "C:\\Users\\talmeidar\\Anaconda3\\lib\\site-packages\\statsmodels\\tsa\\base\\tsa_model.py:524: ValueWarning: No frequency information was provided, so inferred frequency MS will be used.\n",
      "  warnings.warn('No frequency information was'\n",
      "C:\\Users\\talmeidar\\Anaconda3\\lib\\site-packages\\statsmodels\\tsa\\base\\tsa_model.py:524: ValueWarning: No frequency information was provided, so inferred frequency MS will be used.\n",
      "  warnings.warn('No frequency information was'\n"
     ]
    }
   ],
   "source": [
    "model = ARIMA(data, order=(2,1,1))\n",
    "model_fit = model.fit(disp=0)\n",
    "print(model_fit.summary())"
   ]
  },
  {
   "cell_type": "code",
   "execution_count": 46,
   "id": "7a8ffd50",
   "metadata": {},
   "outputs": [],
   "source": [
    "from pandas import DataFrame"
   ]
  },
  {
   "cell_type": "code",
   "execution_count": 47,
   "id": "5dded2c6",
   "metadata": {},
   "outputs": [
    {
     "data": {
      "image/png": "[encoded data removed]",
      "text/plain": [
       "<Figure size 432x288 with 1 Axes>"
      ]
     },
     "metadata": {
      "needs_background": "light"
     },
     "output_type": "display_data"
    }
   ],
   "source": [
    "residuals = DataFrame(model_fit.resid)\n",
    "residuals.plot()\n",
    "plt.show()"
   ]
  },
  {
   "cell_type": "code",
   "execution_count": 48,
   "id": "d8a7e65b",
   "metadata": {},
   "outputs": [
    {
     "data": {
      "image/png": "[encoded data removed]",
      "text/plain": [
       "<Figure size 432x288 with 1 Axes>"
      ]
     },
     "metadata": {
      "needs_background": "light"
     },
     "output_type": "display_data"
    },
    {
     "name": "stdout",
     "output_type": "stream",
     "text": [
      "                   0\n",
      "count      64.000000\n",
      "mean     -228.618936\n",
      "std     65152.781647\n",
      "min   -233718.782422\n",
      "25%    -50053.815174\n",
      "50%      4906.541289\n",
      "75%     44124.023510\n",
      "max    189279.877168\n"
     ]
    }
   ],
   "source": [
    "residuals.plot(kind='kde')\n",
    "plt.show()\n",
    "print(residuals.describe())"
   ]
  },
  {
   "cell_type": "code",
   "execution_count": 49,
   "id": "c5fc199b",
   "metadata": {},
   "outputs": [],
   "source": [
    "X = data.values"
   ]
  },
  {
   "cell_type": "code",
   "execution_count": 50,
   "id": "19fca8a1",
   "metadata": {},
   "outputs": [
    {
     "name": "stderr",
     "output_type": "stream",
     "text": [
      "C:\\Users\\talmeidar\\Anaconda3\\lib\\site-packages\\statsmodels\\tsa\\arima_model.py:472: FutureWarning: \n",
      "statsmodels.tsa.arima_model.ARMA and statsmodels.tsa.arima_model.ARIMA have\n",
      "been deprecated in favor of statsmodels.tsa.arima.model.ARIMA (note the .\n",
      "between arima and model) and\n",
      "statsmodels.tsa.SARIMAX. These will be removed after the 0.12 release.\n",
      "\n",
      "statsmodels.tsa.arima.model.ARIMA makes use of the statespace framework and\n",
      "is both well tested and maintained.\n",
      "\n",
      "To silence this warning and continue using ARMA and ARIMA until they are\n",
      "removed, use:\n",
      "\n",
      "import warnings\n",
      "warnings.filterwarnings('ignore', 'statsmodels.tsa.arima_model.ARMA',\n",
      "                        FutureWarning)\n",
      "warnings.filterwarnings('ignore', 'statsmodels.tsa.arima_model.ARIMA',\n",
      "                        FutureWarning)\n",
      "\n",
      "  warnings.warn(ARIMA_DEPRECATION_WARN, FutureWarning)\n"
     ]
    },
    {
     "name": "stdout",
     "output_type": "stream",
     "text": [
      "predicted=2124203.423825, expected=2121784.450000\n",
      "predicted=2113014.351217, expected=2012577.340000\n",
      "predicted=2046158.603914, expected=2036067.820000\n",
      "predicted=2019614.863519, expected=2057453.620000\n",
      "predicted=2029035.708019, expected=1960787.770000\n",
      "predicted=1977269.610222, expected=1898290.670000\n",
      "predicted=1937077.160144, expected=1811788.080000\n",
      "predicted=1827878.070963, expected=1741147.020000\n",
      "predicted=1729968.540412, expected=1804804.020000\n",
      "predicted=1765218.820283, expected=1805777.820000\n",
      "predicted=1778319.551911, expected=1802212.130000\n",
      "predicted=1791422.927080, expected=1769657.200000\n",
      "predicted=1773957.333009, expected=1777283.240000\n",
      "predicted=1750780.458569, expected=1684174.120000\n",
      "predicted=1695176.384854, expected=1739446.510000\n",
      "predicted=1705000.752828, expected=1607744.690000\n",
      "predicted=1636324.353532, expected=1542652.840000\n"
     ]
    },
    {
     "data": {
      "image/png": "[encoded data removed]",
      "text/plain": [
       "<Figure size 432x288 with 1 Axes>"
      ]
     },
     "metadata": {
      "needs_background": "light"
     },
     "output_type": "display_data"
    }
   ],
   "source": [
    "size = int(len(X) * 0.75)\n",
    "train, test = X[0:size], X[size:len(X)]\n",
    "history = [x for x in train]\n",
    "predictions = list()\n",
    "for t in range(len(test)):\n",
    "    model = ARIMA(history, order=(5,1,0))\n",
    "    model_fit = model.fit(disp=0)\n",
    "    output = model_fit.forecast()\n",
    "    yhat = output[0]\n",
    "    predictions.append(yhat)\n",
    "    obs = test[t]\n",
    "    history.append(obs)\n",
    "    print('predicted=%f, expected=%f' % (yhat, obs))\n",
    "plt.plot(test)\n",
    "plt.plot(predictions, color='red')\n",
    "plt.show()"
   ]
  },
  {
   "cell_type": "code",
   "execution_count": 53,
   "id": "44d6269c",
   "metadata": {},
   "outputs": [],
   "source": [
    "from pmdarima.arima import auto_arima"
   ]
  },
  {
   "cell_type": "code",
   "execution_count": 54,
   "id": "4aa2ea00",
   "metadata": {},
   "outputs": [
    {
     "name": "stdout",
     "output_type": "stream",
     "text": [
      "Performing stepwise search to minimize aic\n",
      " ARIMA(1,1,1)(0,1,1)[12]             : AIC=1336.554, Time=0.14 sec\n",
      " ARIMA(0,1,0)(0,1,0)[12]             : AIC=1333.555, Time=0.01 sec\n",
      " ARIMA(1,1,0)(1,1,0)[12]             : AIC=1334.409, Time=0.05 sec\n",
      " ARIMA(0,1,1)(0,1,1)[12]             : AIC=1334.458, Time=0.06 sec\n",
      " ARIMA(0,1,0)(1,1,0)[12]             : AIC=1334.443, Time=0.03 sec\n",
      " ARIMA(0,1,0)(0,1,1)[12]             : AIC=1333.305, Time=0.04 sec\n",
      " ARIMA(0,1,0)(1,1,1)[12]             : AIC=1335.810, Time=0.19 sec\n",
      " ARIMA(0,1,0)(0,1,2)[12]             : AIC=1335.232, Time=0.09 sec\n",
      " ARIMA(0,1,0)(1,1,2)[12]             : AIC=1337.178, Time=0.55 sec\n",
      " ARIMA(1,1,0)(0,1,1)[12]             : AIC=1334.414, Time=0.05 sec\n",
      " ARIMA(0,1,0)(0,1,1)[12] intercept   : AIC=1334.942, Time=0.05 sec\n",
      "\n",
      "Best model:  ARIMA(0,1,0)(0,1,1)[12]          \n",
      "Total fit time: 1.271 seconds\n"
     ]
    }
   ],
   "source": [
    "stepwise_model = auto_arima(data, start_p=1, start_q=1,max_p=6, max_q=6, m=12, start_P=0, seasonal=True, d=1, D=1, trace=True, error_action='ignore',\n",
    "                            suppress_warnings=True, stepwise=True)"
   ]
  },
  {
   "cell_type": "code",
   "execution_count": 55,
   "id": "b8134b75",
   "metadata": {},
   "outputs": [
    {
     "name": "stdout",
     "output_type": "stream",
     "text": [
      "1333.3045680505609\n"
     ]
    }
   ],
   "source": [
    "print(stepwise_model.aic())"
   ]
  },
  {
   "cell_type": "code",
   "execution_count": 56,
   "id": "e8b33664",
   "metadata": {},
   "outputs": [
    {
     "name": "stdout",
     "output_type": "stream",
     "text": [
      " ARIMA(0,1,0)(0,1,0)[12]             : AIC=1333.555, Time=0.01 sec\n",
      " ARIMA(0,1,0)(0,1,1)[12]             : AIC=1333.305, Time=0.04 sec\n",
      " ARIMA(0,1,0)(0,1,2)[12]             : AIC=1335.232, Time=0.08 sec\n",
      " ARIMA(0,1,0)(1,1,0)[12]             : AIC=1334.443, Time=0.03 sec\n",
      " ARIMA(0,1,0)(1,1,1)[12]             : AIC=1335.810, Time=0.17 sec\n",
      " ARIMA(0,1,0)(1,1,2)[12]             : AIC=1337.178, Time=0.43 sec\n",
      " ARIMA(0,1,0)(2,1,0)[12]             : AIC=1337.108, Time=0.11 sec\n",
      " ARIMA(0,1,0)(2,1,1)[12]             : AIC=inf, Time=0.13 sec\n",
      " ARIMA(0,1,0)(2,1,2)[12]             : AIC=inf, Time=0.79 sec\n",
      " ARIMA(0,1,1)(0,1,0)[12]             : AIC=1333.384, Time=0.02 sec\n",
      " ARIMA(0,1,1)(0,1,1)[12]             : AIC=1334.458, Time=0.05 sec\n",
      " ARIMA(0,1,1)(0,1,2)[12]             : AIC=1336.450, Time=0.13 sec\n",
      " ARIMA(0,1,1)(1,1,0)[12]             : AIC=1334.452, Time=0.09 sec\n",
      " ARIMA(0,1,1)(1,1,1)[12]             : AIC=1336.406, Time=0.17 sec\n",
      " ARIMA(0,1,1)(1,1,2)[12]             : AIC=1338.398, Time=0.51 sec\n",
      " ARIMA(0,1,1)(2,1,0)[12]             : AIC=1336.441, Time=0.23 sec\n",
      " ARIMA(0,1,1)(2,1,1)[12]             : AIC=inf, Time=0.35 sec\n",
      " ARIMA(0,1,1)(2,1,2)[12]             : AIC=inf, Time=1.00 sec\n",
      " ARIMA(0,1,2)(0,1,0)[12]             : AIC=1336.495, Time=0.04 sec\n",
      " ARIMA(0,1,2)(0,1,1)[12]             : AIC=1337.396, Time=0.08 sec\n",
      " ARIMA(0,1,2)(0,1,2)[12]             : AIC=1339.386, Time=0.18 sec\n",
      " ARIMA(0,1,2)(1,1,0)[12]             : AIC=1337.389, Time=0.07 sec\n",
      " ARIMA(0,1,2)(1,1,1)[12]             : AIC=1339.334, Time=0.27 sec\n",
      " ARIMA(0,1,2)(1,1,2)[12]             : AIC=1341.325, Time=0.73 sec\n",
      " ARIMA(0,1,2)(2,1,0)[12]             : AIC=1339.376, Time=0.19 sec\n",
      " ARIMA(0,1,2)(2,1,1)[12]             : AIC=inf, Time=0.26 sec\n",
      " ARIMA(0,1,3)(0,1,0)[12]             : AIC=1337.460, Time=0.10 sec\n",
      " ARIMA(0,1,3)(0,1,1)[12]             : AIC=1338.460, Time=0.14 sec\n",
      " ARIMA(0,1,3)(0,1,2)[12]             : AIC=1340.451, Time=0.39 sec\n",
      " ARIMA(0,1,3)(1,1,0)[12]             : AIC=1338.454, Time=0.08 sec\n",
      " ARIMA(0,1,3)(1,1,1)[12]             : AIC=1340.406, Time=0.31 sec\n",
      " ARIMA(0,1,3)(2,1,0)[12]             : AIC=1340.443, Time=0.17 sec\n",
      " ARIMA(0,1,4)(0,1,0)[12]             : AIC=1336.877, Time=0.04 sec\n",
      " ARIMA(0,1,4)(0,1,1)[12]             : AIC=1337.968, Time=0.11 sec\n",
      " ARIMA(0,1,4)(1,1,0)[12]             : AIC=1337.950, Time=0.10 sec\n",
      " ARIMA(0,1,5)(0,1,0)[12]             : AIC=1337.894, Time=0.06 sec\n",
      " ARIMA(1,1,0)(0,1,0)[12]             : AIC=1333.325, Time=0.02 sec\n",
      " ARIMA(1,1,0)(0,1,1)[12]             : AIC=1334.414, Time=0.05 sec\n",
      " ARIMA(1,1,0)(0,1,2)[12]             : AIC=1336.406, Time=0.12 sec\n",
      " ARIMA(1,1,0)(1,1,0)[12]             : AIC=1334.409, Time=0.05 sec\n",
      " ARIMA(1,1,0)(1,1,1)[12]             : AIC=1336.364, Time=0.19 sec\n",
      " ARIMA(1,1,0)(1,1,2)[12]             : AIC=1338.355, Time=0.51 sec\n",
      " ARIMA(1,1,0)(2,1,0)[12]             : AIC=1336.398, Time=0.13 sec\n",
      " ARIMA(1,1,0)(2,1,1)[12]             : AIC=inf, Time=0.18 sec\n",
      " ARIMA(1,1,0)(2,1,2)[12]             : AIC=inf, Time=0.44 sec\n",
      " ARIMA(1,1,1)(0,1,0)[12]             : AIC=1335.478, Time=0.02 sec\n",
      " ARIMA(1,1,1)(0,1,1)[12]             : AIC=1336.554, Time=0.07 sec\n",
      " ARIMA(1,1,1)(0,1,2)[12]             : AIC=1338.546, Time=0.14 sec\n",
      " ARIMA(1,1,1)(1,1,0)[12]             : AIC=1336.548, Time=0.07 sec\n",
      " ARIMA(1,1,1)(1,1,1)[12]             : AIC=1337.774, Time=0.39 sec\n",
      " ARIMA(1,1,1)(1,1,2)[12]             : AIC=1339.772, Time=0.88 sec\n",
      " ARIMA(1,1,1)(2,1,0)[12]             : AIC=1338.538, Time=0.15 sec\n",
      " ARIMA(1,1,1)(2,1,1)[12]             : AIC=inf, Time=0.37 sec\n",
      " ARIMA(1,1,2)(0,1,0)[12]             : AIC=1337.902, Time=0.08 sec\n",
      " ARIMA(1,1,2)(0,1,1)[12]             : AIC=1339.000, Time=0.17 sec\n",
      " ARIMA(1,1,2)(0,1,2)[12]             : AIC=1340.975, Time=0.39 sec\n",
      " ARIMA(1,1,2)(1,1,0)[12]             : AIC=1338.991, Time=0.18 sec\n",
      " ARIMA(1,1,2)(1,1,1)[12]             : AIC=1340.908, Time=0.47 sec\n",
      " ARIMA(1,1,2)(2,1,0)[12]             : AIC=1340.963, Time=0.35 sec\n",
      " ARIMA(1,1,3)(0,1,0)[12]             : AIC=1337.734, Time=0.09 sec\n",
      " ARIMA(1,1,3)(0,1,1)[12]             : AIC=1338.931, Time=0.22 sec\n",
      " ARIMA(1,1,3)(1,1,0)[12]             : AIC=1338.920, Time=0.22 sec\n",
      " ARIMA(1,1,4)(0,1,0)[12]             : AIC=1334.681, Time=0.13 sec\n",
      " ARIMA(2,1,0)(0,1,0)[12]             : AIC=1335.435, Time=0.04 sec\n",
      " ARIMA(2,1,0)(0,1,1)[12]             : AIC=1336.465, Time=0.06 sec\n",
      " ARIMA(2,1,0)(0,1,2)[12]             : AIC=1338.455, Time=0.14 sec\n",
      " ARIMA(2,1,0)(1,1,0)[12]             : AIC=1336.458, Time=0.06 sec\n",
      " ARIMA(2,1,0)(1,1,1)[12]             : AIC=1338.410, Time=0.18 sec\n",
      " ARIMA(2,1,0)(1,1,2)[12]             : AIC=1340.401, Time=0.44 sec\n",
      " ARIMA(2,1,0)(2,1,0)[12]             : AIC=1338.446, Time=0.15 sec\n",
      " ARIMA(2,1,0)(2,1,1)[12]             : AIC=inf, Time=0.25 sec\n",
      " ARIMA(2,1,1)(0,1,0)[12]             : AIC=1337.480, Time=0.11 sec\n",
      " ARIMA(2,1,1)(0,1,1)[12]             : AIC=1338.500, Time=0.20 sec\n",
      " ARIMA(2,1,1)(0,1,2)[12]             : AIC=1340.491, Time=0.29 sec\n",
      " ARIMA(2,1,1)(1,1,0)[12]             : AIC=1338.494, Time=0.25 sec\n",
      " ARIMA(2,1,1)(1,1,1)[12]             : AIC=1340.445, Time=0.31 sec\n",
      " ARIMA(2,1,1)(2,1,0)[12]             : AIC=1340.482, Time=0.51 sec\n",
      " ARIMA(2,1,2)(0,1,0)[12]             : AIC=inf, Time=0.27 sec\n",
      " ARIMA(2,1,2)(0,1,1)[12]             : AIC=1331.107, Time=0.45 sec\n",
      " ARIMA(2,1,2)(1,1,0)[12]             : AIC=1330.413, Time=0.54 sec\n",
      " ARIMA(2,1,3)(0,1,0)[12]             : AIC=1339.930, Time=0.30 sec\n",
      " ARIMA(3,1,0)(0,1,0)[12]             : AIC=1337.256, Time=0.03 sec\n",
      " ARIMA(3,1,0)(0,1,1)[12]             : AIC=1338.312, Time=0.07 sec\n",
      " ARIMA(3,1,0)(0,1,2)[12]             : AIC=1340.304, Time=0.16 sec\n",
      " ARIMA(3,1,0)(1,1,0)[12]             : AIC=1338.306, Time=0.09 sec\n",
      " ARIMA(3,1,0)(1,1,1)[12]             : AIC=1340.261, Time=0.35 sec\n",
      " ARIMA(3,1,0)(2,1,0)[12]             : AIC=1340.296, Time=0.18 sec\n",
      " ARIMA(3,1,1)(0,1,0)[12]             : AIC=1337.594, Time=0.10 sec\n",
      " ARIMA(3,1,1)(0,1,1)[12]             : AIC=1338.828, Time=0.20 sec\n",
      " ARIMA(3,1,1)(1,1,0)[12]             : AIC=1338.817, Time=0.33 sec\n",
      " ARIMA(3,1,2)(0,1,0)[12]             : AIC=1334.541, Time=0.28 sec\n",
      " ARIMA(4,1,0)(0,1,0)[12]             : AIC=1336.696, Time=0.04 sec\n",
      " ARIMA(4,1,0)(0,1,1)[12]             : AIC=1337.736, Time=0.09 sec\n",
      " ARIMA(4,1,0)(1,1,0)[12]             : AIC=1337.716, Time=0.11 sec\n",
      " ARIMA(4,1,1)(0,1,0)[12]             : AIC=1334.388, Time=0.15 sec\n",
      " ARIMA(5,1,0)(0,1,0)[12]             : AIC=1336.913, Time=0.05 sec\n",
      "\n",
      "Best model:  ARIMA(2,1,2)(1,1,0)[12]          \n",
      "Total fit time: 20.601 seconds\n"
     ]
    }
   ],
   "source": [
    "stepwise_model = auto_arima(data, start_p=1, start_q=1,max_p=6, max_q=6, m=12, start_P=0, seasonal=True, d=1, D=1, trace=True, error_action='ignore',\n",
    "                            suppress_warnings=True, stepwise=False)"
   ]
  },
  {
   "cell_type": "code",
   "execution_count": 57,
   "id": "c1d64243",
   "metadata": {},
   "outputs": [
    {
     "name": "stdout",
     "output_type": "stream",
     "text": [
      "1330.4133839268613\n"
     ]
    }
   ],
   "source": [
    "print(stepwise_model.aic())"
   ]
  },
  {
   "cell_type": "code",
   "execution_count": 66,
   "id": "806247d6",
   "metadata": {},
   "outputs": [],
   "source": [
    "train = data.loc['2017-01-01':'2020-12-01']\n",
    "test = data.loc['2021-01-01':]"
   ]
  },
  {
   "cell_type": "code",
   "execution_count": 67,
   "id": "ab5a8e55",
   "metadata": {},
   "outputs": [
    {
     "data": {
      "text/plain": [
       "ARIMA(order=(2, 1, 2), scoring_args={}, seasonal_order=(1, 1, 0, 12),\n",
       "      suppress_warnings=True, with_intercept=False)"
      ]
     },
     "execution_count": 67,
     "metadata": {},
     "output_type": "execute_result"
    }
   ],
   "source": [
    "stepwise_model.fit(train)"
   ]
  },
  {
   "cell_type": "code",
   "execution_count": 75,
   "id": "89abd742",
   "metadata": {},
   "outputs": [],
   "source": [
    "future_forecast = stepwise_model.predict(n_periods=17)"
   ]
  },
  {
   "cell_type": "code",
   "execution_count": 76,
   "id": "4820e0ae",
   "metadata": {},
   "outputs": [],
   "source": [
    "future_forecast = pd.DataFrame(future_forecast,index = test.index,columns=[\"consumo\"])"
   ]
  },
  {
   "cell_type": "code",
   "execution_count": 77,
   "id": "07d0d314",
   "metadata": {},
   "outputs": [
    {
     "data": {
      "text/plain": [
       "<AxesSubplot:xlabel='mes'>"
      ]
     },
     "execution_count": 77,
     "metadata": {},
     "output_type": "execute_result"
    },
    {
     "data": {
      "image/png": "[encoded data removed]",
      "text/plain": [
       "<Figure size 432x288 with 1 Axes>"
      ]
     },
     "metadata": {
      "needs_background": "light"
     },
     "output_type": "display_data"
    }
   ],
   "source": [
    "pd.concat([test,future_forecast],axis=1).plot()"
   ]
  },
  {
   "cell_type": "code",
   "execution_count": 78,
   "id": "f375cd03",
   "metadata": {},
   "outputs": [
    {
     "data": {
      "text/plain": [
       "<AxesSubplot:xlabel='mes'>"
      ]
     },
     "execution_count": 78,
     "metadata": {},
     "output_type": "execute_result"
    },
    {
     "data": {
      "image/png": "[encoded data removed]",
      "text/plain": [
       "<Figure size 432x288 with 1 Axes>"
      ]
     },
     "metadata": {
      "needs_background": "light"
     },
     "output_type": "display_data"
    }
   ],
   "source": [
    "pd.concat([data,future_forecast],axis=1).plot(linewidth=3)"
   ]
  },
  {
   "cell_type": "code",
   "execution_count": 14,
   "id": "fbb1f846",
   "metadata": {},
   "outputs": [
    {
     "data": {
      "text/html": [
       "<div>\n",
       "<style scoped>\n",
       "    .dataframe tbody tr th:only-of-type {\n",
       "        vertical-align: middle;\n",
       "    }\n",
       "\n",
       "    .dataframe tbody tr th {\n",
       "        vertical-align: top;\n",
       "    }\n",
       "\n",
       "    .dataframe thead th {\n",
       "        text-align: right;\n",
       "    }\n",
       "</style>\n",
       "<table border=\"1\" class=\"dataframe\">\n",
       "  <thead>\n",
       "    <tr style=\"text-align: right;\">\n",
       "      <th></th>\n",
       "      <th>consumo</th>\n",
       "    </tr>\n",
       "    <tr>\n",
       "      <th>mes</th>\n",
       "      <th></th>\n",
       "    </tr>\n",
       "  </thead>\n",
       "  <tbody>\n",
       "    <tr>\n",
       "      <th>2017-01-01</th>\n",
       "      <td>1975685.45</td>\n",
       "    </tr>\n",
       "    <tr>\n",
       "      <th>2017-02-01</th>\n",
       "      <td>1918435.64</td>\n",
       "    </tr>\n",
       "    <tr>\n",
       "      <th>2017-03-01</th>\n",
       "      <td>2095963.00</td>\n",
       "    </tr>\n",
       "    <tr>\n",
       "      <th>2017-04-01</th>\n",
       "      <td>1793219.74</td>\n",
       "    </tr>\n",
       "    <tr>\n",
       "      <th>2017-05-01</th>\n",
       "      <td>2133632.30</td>\n",
       "    </tr>\n",
       "    <tr>\n",
       "      <th>...</th>\n",
       "      <td>...</td>\n",
       "    </tr>\n",
       "    <tr>\n",
       "      <th>2022-01-01</th>\n",
       "      <td>1445668.92</td>\n",
       "    </tr>\n",
       "    <tr>\n",
       "      <th>2022-02-01</th>\n",
       "      <td>1389495.49</td>\n",
       "    </tr>\n",
       "    <tr>\n",
       "      <th>2022-03-01</th>\n",
       "      <td>1464993.20</td>\n",
       "    </tr>\n",
       "    <tr>\n",
       "      <th>2022-04-01</th>\n",
       "      <td>1371781.80</td>\n",
       "    </tr>\n",
       "    <tr>\n",
       "      <th>2022-05-01</th>\n",
       "      <td>1352877.60</td>\n",
       "    </tr>\n",
       "  </tbody>\n",
       "</table>\n",
       "<p>65 rows × 1 columns</p>\n",
       "</div>"
      ],
      "text/plain": [
       "               consumo\n",
       "mes                   \n",
       "2017-01-01  1975685.45\n",
       "2017-02-01  1918435.64\n",
       "2017-03-01  2095963.00\n",
       "2017-04-01  1793219.74\n",
       "2017-05-01  2133632.30\n",
       "...                ...\n",
       "2022-01-01  1445668.92\n",
       "2022-02-01  1389495.49\n",
       "2022-03-01  1464993.20\n",
       "2022-04-01  1371781.80\n",
       "2022-05-01  1352877.60\n",
       "\n",
       "[65 rows x 1 columns]"
      ]
     },
     "execution_count": 14,
     "metadata": {},
     "output_type": "execute_result"
    }
   ],
   "source": [
    "data = consumo_macroregioes[['mes', 'consumo']].loc[consumo_macroregioes['macroregiao']=='SE']\n",
    "data['mes'] = data['mes'].apply(lambda x: pd.to_datetime(str(x) + '01'))\n",
    "data.set_index('mes', inplace = True)\n",
    "data"
   ]
  },
  {
   "cell_type": "code",
   "execution_count": 15,
   "id": "fcdbc260",
   "metadata": {},
   "outputs": [
    {
     "data": {
      "text/html": [
       "<div>\n",
       "<style scoped>\n",
       "    .dataframe tbody tr th:only-of-type {\n",
       "        vertical-align: middle;\n",
       "    }\n",
       "\n",
       "    .dataframe tbody tr th {\n",
       "        vertical-align: top;\n",
       "    }\n",
       "\n",
       "    .dataframe thead th {\n",
       "        text-align: right;\n",
       "    }\n",
       "</style>\n",
       "<table border=\"1\" class=\"dataframe\">\n",
       "  <thead>\n",
       "    <tr style=\"text-align: right;\">\n",
       "      <th></th>\n",
       "      <th>consumo</th>\n",
       "    </tr>\n",
       "    <tr>\n",
       "      <th>mes</th>\n",
       "      <th></th>\n",
       "    </tr>\n",
       "  </thead>\n",
       "  <tbody>\n",
       "    <tr>\n",
       "      <th>2017-01-01</th>\n",
       "      <td>NaN</td>\n",
       "    </tr>\n",
       "    <tr>\n",
       "      <th>2017-02-01</th>\n",
       "      <td>NaN</td>\n",
       "    </tr>\n",
       "    <tr>\n",
       "      <th>2017-03-01</th>\n",
       "      <td>NaN</td>\n",
       "    </tr>\n",
       "    <tr>\n",
       "      <th>2017-04-01</th>\n",
       "      <td>NaN</td>\n",
       "    </tr>\n",
       "    <tr>\n",
       "      <th>2017-05-01</th>\n",
       "      <td>NaN</td>\n",
       "    </tr>\n",
       "    <tr>\n",
       "      <th>2017-06-01</th>\n",
       "      <td>NaN</td>\n",
       "    </tr>\n",
       "    <tr>\n",
       "      <th>2017-07-01</th>\n",
       "      <td>NaN</td>\n",
       "    </tr>\n",
       "    <tr>\n",
       "      <th>2017-08-01</th>\n",
       "      <td>NaN</td>\n",
       "    </tr>\n",
       "    <tr>\n",
       "      <th>2017-09-01</th>\n",
       "      <td>NaN</td>\n",
       "    </tr>\n",
       "    <tr>\n",
       "      <th>2017-10-01</th>\n",
       "      <td>NaN</td>\n",
       "    </tr>\n",
       "    <tr>\n",
       "      <th>2017-11-01</th>\n",
       "      <td>NaN</td>\n",
       "    </tr>\n",
       "    <tr>\n",
       "      <th>2017-12-01</th>\n",
       "      <td>NaN</td>\n",
       "    </tr>\n",
       "    <tr>\n",
       "      <th>2018-01-01</th>\n",
       "      <td>118834.75</td>\n",
       "    </tr>\n",
       "  </tbody>\n",
       "</table>\n",
       "</div>"
      ],
      "text/plain": [
       "              consumo\n",
       "mes                  \n",
       "2017-01-01        NaN\n",
       "2017-02-01        NaN\n",
       "2017-03-01        NaN\n",
       "2017-04-01        NaN\n",
       "2017-05-01        NaN\n",
       "2017-06-01        NaN\n",
       "2017-07-01        NaN\n",
       "2017-08-01        NaN\n",
       "2017-09-01        NaN\n",
       "2017-10-01        NaN\n",
       "2017-11-01        NaN\n",
       "2017-12-01        NaN\n",
       "2018-01-01  118834.75"
      ]
     },
     "execution_count": 15,
     "metadata": {},
     "output_type": "execute_result"
    }
   ],
   "source": [
    "differenced = data.diff(12)\n",
    "differenced.head(n=13)"
   ]
  },
  {
   "cell_type": "code",
   "execution_count": 16,
   "id": "2772aeda",
   "metadata": {},
   "outputs": [
    {
     "data": {
      "image/png": "[encoded data removed]",
      "text/plain": [
       "<Figure size 432x288 with 1 Axes>"
      ]
     },
     "metadata": {
      "needs_background": "light"
     },
     "output_type": "display_data"
    }
   ],
   "source": [
    "from matplotlib import pyplot\n",
    "from pandas import Series\n",
    "differenced.plot()\n",
    "pyplot.show()"
   ]
  },
  {
   "cell_type": "code",
   "execution_count": 17,
   "id": "71a2000d",
   "metadata": {},
   "outputs": [],
   "source": [
    "differenced = differenced[12:]"
   ]
  },
  {
   "cell_type": "code",
   "execution_count": 18,
   "id": "7895e202",
   "metadata": {},
   "outputs": [
    {
     "data": {
      "text/html": [
       "<div>\n",
       "<style scoped>\n",
       "    .dataframe tbody tr th:only-of-type {\n",
       "        vertical-align: middle;\n",
       "    }\n",
       "\n",
       "    .dataframe tbody tr th {\n",
       "        vertical-align: top;\n",
       "    }\n",
       "\n",
       "    .dataframe thead th {\n",
       "        text-align: right;\n",
       "    }\n",
       "</style>\n",
       "<table border=\"1\" class=\"dataframe\">\n",
       "  <thead>\n",
       "    <tr style=\"text-align: right;\">\n",
       "      <th></th>\n",
       "      <th>consumo</th>\n",
       "    </tr>\n",
       "    <tr>\n",
       "      <th>mes</th>\n",
       "      <th></th>\n",
       "    </tr>\n",
       "  </thead>\n",
       "  <tbody>\n",
       "    <tr>\n",
       "      <th>2018-01-01</th>\n",
       "      <td>118834.75</td>\n",
       "    </tr>\n",
       "    <tr>\n",
       "      <th>2018-02-01</th>\n",
       "      <td>171888.36</td>\n",
       "    </tr>\n",
       "    <tr>\n",
       "      <th>2018-03-01</th>\n",
       "      <td>10175.00</td>\n",
       "    </tr>\n",
       "    <tr>\n",
       "      <th>2018-04-01</th>\n",
       "      <td>330731.96</td>\n",
       "    </tr>\n",
       "    <tr>\n",
       "      <th>2018-05-01</th>\n",
       "      <td>19910.70</td>\n",
       "    </tr>\n",
       "    <tr>\n",
       "      <th>2018-06-01</th>\n",
       "      <td>151919.10</td>\n",
       "    </tr>\n",
       "    <tr>\n",
       "      <th>2018-07-01</th>\n",
       "      <td>70179.20</td>\n",
       "    </tr>\n",
       "    <tr>\n",
       "      <th>2018-08-01</th>\n",
       "      <td>61108.80</td>\n",
       "    </tr>\n",
       "    <tr>\n",
       "      <th>2018-09-01</th>\n",
       "      <td>38536.90</td>\n",
       "    </tr>\n",
       "    <tr>\n",
       "      <th>2018-10-01</th>\n",
       "      <td>145723.40</td>\n",
       "    </tr>\n",
       "    <tr>\n",
       "      <th>2018-11-01</th>\n",
       "      <td>-22061.42</td>\n",
       "    </tr>\n",
       "    <tr>\n",
       "      <th>2018-12-01</th>\n",
       "      <td>-9299.60</td>\n",
       "    </tr>\n",
       "    <tr>\n",
       "      <th>2019-01-01</th>\n",
       "      <td>88412.19</td>\n",
       "    </tr>\n",
       "  </tbody>\n",
       "</table>\n",
       "</div>"
      ],
      "text/plain": [
       "              consumo\n",
       "mes                  \n",
       "2018-01-01  118834.75\n",
       "2018-02-01  171888.36\n",
       "2018-03-01   10175.00\n",
       "2018-04-01  330731.96\n",
       "2018-05-01   19910.70\n",
       "2018-06-01  151919.10\n",
       "2018-07-01   70179.20\n",
       "2018-08-01   61108.80\n",
       "2018-09-01   38536.90\n",
       "2018-10-01  145723.40\n",
       "2018-11-01  -22061.42\n",
       "2018-12-01   -9299.60\n",
       "2019-01-01   88412.19"
      ]
     },
     "execution_count": 18,
     "metadata": {},
     "output_type": "execute_result"
    }
   ],
   "source": [
    "differenced.head(n=13)"
   ]
  },
  {
   "cell_type": "code",
   "execution_count": 19,
   "id": "1bda5024",
   "metadata": {},
   "outputs": [
    {
     "data": {
      "image/png": "[encoded data removed]",
      "text/plain": [
       "<Figure size 432x288 with 1 Axes>"
      ]
     },
     "metadata": {
      "needs_background": "light"
     },
     "output_type": "display_data"
    }
   ],
   "source": [
    "differenced.plot()\n",
    "pyplot.show()"
   ]
  },
  {
   "cell_type": "code",
   "execution_count": 20,
   "id": "e6f3dee1",
   "metadata": {},
   "outputs": [
    {
     "name": "stdout",
     "output_type": "stream",
     "text": [
      "                 t-12          t       t-11       t-10        t-9        t-8  \\\n",
      "mes                                                                            \n",
      "2018-01-01        NaN  118834.75        NaN        NaN        NaN        NaN   \n",
      "2018-02-01        NaN  171888.36        NaN        NaN        NaN        NaN   \n",
      "2018-03-01        NaN   10175.00        NaN        NaN        NaN        NaN   \n",
      "2018-04-01        NaN  330731.96        NaN        NaN        NaN        NaN   \n",
      "2018-05-01        NaN   19910.70        NaN        NaN        NaN        NaN   \n",
      "2018-06-01        NaN  151919.10        NaN        NaN        NaN        NaN   \n",
      "2018-07-01        NaN   70179.20        NaN        NaN        NaN        NaN   \n",
      "2018-08-01        NaN   61108.80        NaN        NaN        NaN        NaN   \n",
      "2018-09-01        NaN   38536.90        NaN        NaN        NaN  118834.75   \n",
      "2018-10-01        NaN  145723.40        NaN        NaN  118834.75  171888.36   \n",
      "2018-11-01        NaN  -22061.42        NaN  118834.75  171888.36   10175.00   \n",
      "2018-12-01        NaN   -9299.60  118834.75  171888.36   10175.00  330731.96   \n",
      "2019-01-01  118834.75   88412.19  171888.36   10175.00  330731.96   19910.70   \n",
      "\n",
      "                  t-7        t-6        t-5        t-4        t-3        t-2  \\\n",
      "mes                                                                            \n",
      "2018-01-01        NaN        NaN        NaN        NaN        NaN        NaN   \n",
      "2018-02-01        NaN        NaN        NaN        NaN        NaN        NaN   \n",
      "2018-03-01        NaN        NaN        NaN        NaN        NaN  118834.75   \n",
      "2018-04-01        NaN        NaN        NaN        NaN  118834.75  171888.36   \n",
      "2018-05-01        NaN        NaN        NaN  118834.75  171888.36   10175.00   \n",
      "2018-06-01        NaN        NaN  118834.75  171888.36   10175.00  330731.96   \n",
      "2018-07-01        NaN  118834.75  171888.36   10175.00  330731.96   19910.70   \n",
      "2018-08-01  118834.75  171888.36   10175.00  330731.96   19910.70  151919.10   \n",
      "2018-09-01  171888.36   10175.00  330731.96   19910.70  151919.10   70179.20   \n",
      "2018-10-01   10175.00  330731.96   19910.70  151919.10   70179.20   61108.80   \n",
      "2018-11-01  330731.96   19910.70  151919.10   70179.20   61108.80   38536.90   \n",
      "2018-12-01   19910.70  151919.10   70179.20   61108.80   38536.90  145723.40   \n",
      "2019-01-01  151919.10   70179.20   61108.80   38536.90  145723.40  -22061.42   \n",
      "\n",
      "                  t-1  \n",
      "mes                    \n",
      "2018-01-01        NaN  \n",
      "2018-02-01  118834.75  \n",
      "2018-03-01  171888.36  \n",
      "2018-04-01   10175.00  \n",
      "2018-05-01  330731.96  \n",
      "2018-06-01   19910.70  \n",
      "2018-07-01  151919.10  \n",
      "2018-08-01   70179.20  \n",
      "2018-09-01   61108.80  \n",
      "2018-10-01   38536.90  \n",
      "2018-11-01  145723.40  \n",
      "2018-12-01  -22061.42  \n",
      "2019-01-01   -9299.60  \n"
     ]
    }
   ],
   "source": [
    "dataframe = pd.DataFrame()\n",
    "for i in range(12,0,-1):\n",
    "    dataframe['t-'+str(i)] = differenced.shift(i)\n",
    "    dataframe['t'] = differenced.values\n",
    "print(dataframe.head(13))\n",
    "dataframe = dataframe[13:]"
   ]
  },
  {
   "cell_type": "code",
   "execution_count": 21,
   "id": "5db27588",
   "metadata": {},
   "outputs": [],
   "source": [
    "from sklearn.ensemble import RandomForestRegressor"
   ]
  },
  {
   "cell_type": "code",
   "execution_count": 22,
   "id": "293c720b",
   "metadata": {},
   "outputs": [],
   "source": [
    "array = dataframe.values\n",
    "# split into input and output\n",
    "X = array[:,0:-1]\n",
    "y = array[:,-1]"
   ]
  },
  {
   "cell_type": "code",
   "execution_count": 25,
   "id": "b17ceed1",
   "metadata": {},
   "outputs": [
    {
     "data": {
      "text/plain": [
       "RandomForestRegressor(n_estimators=500, random_state=1)"
      ]
     },
     "execution_count": 25,
     "metadata": {},
     "output_type": "execute_result"
    }
   ],
   "source": [
    "model = RandomForestRegressor(n_estimators=500, random_state=1)\n",
    "model.fit(X, y)"
   ]
  },
  {
   "cell_type": "code",
   "execution_count": 26,
   "id": "24e018d4",
   "metadata": {},
   "outputs": [
    {
     "name": "stdout",
     "output_type": "stream",
     "text": [
      "[0.10038351 0.06699455 0.06424123 0.08521431 0.02854305 0.03082025\n",
      " 0.00863032 0.05200365 0.15815606 0.18673052 0.05417785 0.1641047 ]\n"
     ]
    }
   ],
   "source": [
    "print(model.feature_importances_)"
   ]
  },
  {
   "cell_type": "code",
   "execution_count": 27,
   "id": "f2d3d6aa",
   "metadata": {},
   "outputs": [
    {
     "data": {
      "image/png": "[encoded data removed]",
      "text/plain": [
       "<Figure size 432x288 with 1 Axes>"
      ]
     },
     "metadata": {
      "needs_background": "light"
     },
     "output_type": "display_data"
    }
   ],
   "source": [
    "names = dataframe.columns.values[0:-1]\n",
    "ticks = [i for i in range(len(names))]\n",
    "pyplot.bar(ticks, model.feature_importances_)\n",
    "pyplot.xticks(ticks, names)\n",
    "pyplot.show()"
   ]
  },
  {
   "cell_type": "code",
   "execution_count": 28,
   "id": "f5940e35",
   "metadata": {},
   "outputs": [],
   "source": [
    "from sklearn.feature_selection import RFE"
   ]
  },
  {
   "cell_type": "code",
   "execution_count": 29,
   "id": "e326660d",
   "metadata": {},
   "outputs": [
    {
     "name": "stderr",
     "output_type": "stream",
     "text": [
      "C:\\Users\\talmeidar\\Anaconda3\\lib\\site-packages\\sklearn\\utils\\validation.py:70: FutureWarning: Pass n_features_to_select=4 as keyword args. From version 1.0 (renaming of 0.25) passing these as positional arguments will result in an error\n",
      "  warnings.warn(f\"Pass {args_msg} as keyword args. From version \"\n"
     ]
    }
   ],
   "source": [
    "rfe = RFE(RandomForestRegressor(n_estimators=500, random_state=1), 4)\n",
    "fit = rfe.fit(X, y)"
   ]
  },
  {
   "cell_type": "code",
   "execution_count": 30,
   "id": "33aaf8ec",
   "metadata": {},
   "outputs": [
    {
     "name": "stdout",
     "output_type": "stream",
     "text": [
      "t-12\n",
      "t-5\n",
      "t-4\n",
      "t-2\n"
     ]
    }
   ],
   "source": [
    "names = dataframe.columns.values[0:-1]\n",
    "for i in range(len(fit.support_)):\n",
    "    if fit.support_[i]:\n",
    "        print(names[i])"
   ]
  },
  {
   "cell_type": "code",
   "execution_count": null,
   "id": "4495022c",
   "metadata": {},
   "outputs": [],
   "source": []
  }
 ],
 "metadata": {
  "kernelspec": {
   "display_name": "Python 3 (ipykernel)",
   "language": "python",
   "name": "python3"
  },
  "language_info": {
   "codemirror_mode": {
    "name": "ipython",
    "version": 3
   },
   "file_extension": ".py",
   "mimetype": "text/x-python",
   "name": "python",
   "nbconvert_exporter": "python",
   "pygments_lexer": "ipython3",
   "version": "3.9.7"
  }
 },
 "nbformat": 4,
 "nbformat_minor": 5
}
