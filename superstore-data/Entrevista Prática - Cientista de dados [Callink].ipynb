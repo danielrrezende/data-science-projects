{
 "cells": [
  {
   "cell_type": "markdown",
   "id": "94ff52cc",
   "metadata": {
    "id": "94ff52cc"
   },
  },
  {
   "cell_type": "markdown",
   "id": "44X-A7IMPeR6",
   "metadata": {
    "id": "44X-A7IMPeR6"
   },
   "source": [
    "# Ciência de Dados:"
   ]
  },
  {
   "cell_type": "markdown",
   "id": "tasWk7wyPeR7",
   "metadata": {
    "id": "tasWk7wyPeR7"
   },
   "source": [
    "<h3>Instuções:</h3>\n",
    "\n",
    "1. Todas as questões deverão ser respondidas usando a linguagem de programação `Python`.\n",
    "\n",
    "2. Será disponibilizado os respectivos arquivos necessários para a execução da prova dentro de `arquivos.zip`.\n",
    "\n",
    "3. Para facilitar a boa execução da prova, crie um diretório em seu computador no disco `C:` chamado `AvaiacaoCientistadeDados` e, extraia os arquivos para dentro deste diretório.\n",
    "\n",
    "<h3>Conexão com banco de Dados:</h3>\n",
    "\n",
    "Servidor: `srvclkdb.database.windows.net` <br/>\n",
    "Usuário: `usr_exame_bi` <br/>\n",
    "Senha: `GjtNfM4HWJVv34fQ` <br/>\n",
    "Banco: `DB_PROVA` <br/>\n",
    "Schema: `prova2`\n",
    "\n",
    "\n",
   ]
  },
  {
   "cell_type": "code",
   "execution_count": 1,
   "id": "a52e9699",
   "metadata": {
    "id": "a52e9699"
   },
   "outputs": [],
   "source": [
    "import os\n",
    "import pandas as pd\n",
    "import numpy as np\n",
    "import seaborn as sns\n",
    "import matplotlib.pyplot as plt\n",
    "\n",
    "import warnings\n",
    "warnings.filterwarnings(\"ignore\", category=FutureWarning)"
   ]
  },
  {
   "cell_type": "markdown",
   "id": "de9d520d",
   "metadata": {
    "id": "de9d520d"
   },
   "source": [
    "***\n",
    "**1ª questão** - Imprima as primeiras linhas de `tb_resultado_pessoa.csv`:"
   ]
  },
  {
   "cell_type": "code",
   "execution_count": 2,
   "id": "cS9z6PjiQGMf",
   "metadata": {
    "id": "cS9z6PjiQGMf"
   },
   "outputs": [],
   "source": [
    "dt_resultado_pessoa = pd.read_csv(\"tb_resultado_pessoa.csv\", sep=\";\")"
   ]
  },
  {
   "cell_type": "code",
   "execution_count": 3,
   "id": "Mw4nU-fwTJHj",
   "metadata": {
    "colab": {
     "base_uri": "https://localhost:8080/",
     "height": 204
    },
    "executionInfo": {
     "elapsed": 254,
     "status": "ok",
     "timestamp": 1636488233083,
     "user": {
      "displayName": "Daniel Rezende",
      "photoUrl": "https://lh3.googleusercontent.com/a/default-user=s64",
      "userId": "01387235247656097550"
     },
     "user_tz": 180
    },
    "id": "Mw4nU-fwTJHj",
    "outputId": "793152dd-e989-49b2-8e1c-d3da55a511b0"
   },
   "outputs": [
    {
     "data": {
      "text/html": [
       "<div>\n",
       "<style scoped>\n",
       "    .dataframe tbody tr th:only-of-type {\n",
       "        vertical-align: middle;\n",
       "    }\n",
       "\n",
       "    .dataframe tbody tr th {\n",
       "        vertical-align: top;\n",
       "    }\n",
       "\n",
       "    .dataframe thead th {\n",
       "        text-align: right;\n",
       "    }\n",
       "</style>\n",
       "<table border=\"1\" class=\"dataframe\">\n",
       "  <thead>\n",
       "    <tr style=\"text-align: right;\">\n",
       "      <th></th>\n",
       "      <th>data</th>\n",
       "      <th>cod_pessoa</th>\n",
       "      <th>qtd_chamadas_atendidas</th>\n",
       "      <th>qtd_vendas</th>\n",
       "      <th>qtd_recusas</th>\n",
       "    </tr>\n",
       "  </thead>\n",
       "  <tbody>\n",
       "    <tr>\n",
       "      <th>0</th>\n",
       "      <td>02/09/2021</td>\n",
       "      <td>2</td>\n",
       "      <td>2</td>\n",
       "      <td>2</td>\n",
       "      <td>0</td>\n",
       "    </tr>\n",
       "    <tr>\n",
       "      <th>1</th>\n",
       "      <td>03/09/2021</td>\n",
       "      <td>2</td>\n",
       "      <td>3</td>\n",
       "      <td>3</td>\n",
       "      <td>0</td>\n",
       "    </tr>\n",
       "    <tr>\n",
       "      <th>2</th>\n",
       "      <td>06/09/2021</td>\n",
       "      <td>2</td>\n",
       "      <td>2</td>\n",
       "      <td>2</td>\n",
       "      <td>0</td>\n",
       "    </tr>\n",
       "    <tr>\n",
       "      <th>3</th>\n",
       "      <td>08/09/2021</td>\n",
       "      <td>2</td>\n",
       "      <td>2</td>\n",
       "      <td>2</td>\n",
       "      <td>0</td>\n",
       "    </tr>\n",
       "    <tr>\n",
       "      <th>4</th>\n",
       "      <td>09/09/2021</td>\n",
       "      <td>2</td>\n",
       "      <td>1</td>\n",
       "      <td>1</td>\n",
       "      <td>0</td>\n",
       "    </tr>\n",
       "  </tbody>\n",
       "</table>\n",
       "</div>"
      ],
      "text/plain": [
       "         data  cod_pessoa  qtd_chamadas_atendidas  qtd_vendas  qtd_recusas\n",
       "0  02/09/2021           2                       2           2            0\n",
       "1  03/09/2021           2                       3           3            0\n",
       "2  06/09/2021           2                       2           2            0\n",
       "3  08/09/2021           2                       2           2            0\n",
       "4  09/09/2021           2                       1           1            0"
      ]
     },
     "execution_count": 3,
     "metadata": {},
     "output_type": "execute_result"
    }
   ],
   "source": [
    "# primeiras linhas do dataset\n",
    "dt_resultado_pessoa.head()"
   ]
  },
  {
   "cell_type": "markdown",
   "id": "f86dbcda",
   "metadata": {
    "id": "f86dbcda"
   },
   "source": [
    "***\n",
    "**2ª questão** - Imprima as últimas linhas da `tb_resultado_pessoa.csv` ordenando a coluna `qtd_vendas` de forma descendente:"
   ]
  },
  {
   "cell_type": "code",
   "execution_count": 4,
   "id": "84fcb219",
   "metadata": {
    "colab": {
     "base_uri": "https://localhost:8080/",
     "height": 204
    },
    "executionInfo": {
     "elapsed": 267,
     "status": "ok",
     "timestamp": 1636488072588,
     "user": {
      "displayName": "Daniel Rezende",
      "photoUrl": "https://lh3.googleusercontent.com/a/default-user=s64",
      "userId": "01387235247656097550"
     },
     "user_tz": 180
    },
    "id": "84fcb219",
    "outputId": "e103f140-1233-4c9d-f366-3c86542a4469"
   },
   "outputs": [
    {
     "data": {
      "text/html": [
       "<div>\n",
       "<style scoped>\n",
       "    .dataframe tbody tr th:only-of-type {\n",
       "        vertical-align: middle;\n",
       "    }\n",
       "\n",
       "    .dataframe tbody tr th {\n",
       "        vertical-align: top;\n",
       "    }\n",
       "\n",
       "    .dataframe thead th {\n",
       "        text-align: right;\n",
       "    }\n",
       "</style>\n",
       "<table border=\"1\" class=\"dataframe\">\n",
       "  <thead>\n",
       "    <tr style=\"text-align: right;\">\n",
       "      <th></th>\n",
       "      <th>data</th>\n",
       "      <th>cod_pessoa</th>\n",
       "      <th>qtd_chamadas_atendidas</th>\n",
       "      <th>qtd_vendas</th>\n",
       "      <th>qtd_recusas</th>\n",
       "    </tr>\n",
       "  </thead>\n",
       "  <tbody>\n",
       "    <tr>\n",
       "      <th>217</th>\n",
       "      <td>13/10/2021</td>\n",
       "      <td>8</td>\n",
       "      <td>95</td>\n",
       "      <td>56</td>\n",
       "      <td>11</td>\n",
       "    </tr>\n",
       "    <tr>\n",
       "      <th>212</th>\n",
       "      <td>04/10/2021</td>\n",
       "      <td>8</td>\n",
       "      <td>103</td>\n",
       "      <td>57</td>\n",
       "      <td>15</td>\n",
       "    </tr>\n",
       "    <tr>\n",
       "      <th>129</th>\n",
       "      <td>28/09/2021</td>\n",
       "      <td>5</td>\n",
       "      <td>290</td>\n",
       "      <td>58</td>\n",
       "      <td>9</td>\n",
       "    </tr>\n",
       "    <tr>\n",
       "      <th>214</th>\n",
       "      <td>06/10/2021</td>\n",
       "      <td>8</td>\n",
       "      <td>102</td>\n",
       "      <td>64</td>\n",
       "      <td>12</td>\n",
       "    </tr>\n",
       "    <tr>\n",
       "      <th>216</th>\n",
       "      <td>08/10/2021</td>\n",
       "      <td>8</td>\n",
       "      <td>124</td>\n",
       "      <td>65</td>\n",
       "      <td>13</td>\n",
       "    </tr>\n",
       "  </tbody>\n",
       "</table>\n",
       "</div>"
      ],
      "text/plain": [
       "           data  cod_pessoa  qtd_chamadas_atendidas  qtd_vendas  qtd_recusas\n",
       "217  13/10/2021           8                      95          56           11\n",
       "212  04/10/2021           8                     103          57           15\n",
       "129  28/09/2021           5                     290          58            9\n",
       "214  06/10/2021           8                     102          64           12\n",
       "216  08/10/2021           8                     124          65           13"
      ]
     },
     "execution_count": 4,
     "metadata": {},
     "output_type": "execute_result"
    }
   ],
   "source": [
    "dt_resultado_pessoa.sort_values(by='qtd_vendas').tail()"
   ]
  },
  {
   "cell_type": "markdown",
   "id": "e148f795",
   "metadata": {
    "id": "e148f795"
   },
   "source": [
    "***\n",
    "**3ª questão** - Importando o arquivo `tb_datas.csv`, faça um código que percorra todos os meses entre as datas de `2021-10-01` até o dia de hoje e, mostre cada mês percorrido:"
   ]
  },
  {
   "cell_type": "code",
   "execution_count": 5,
   "id": "61eddc6f",
   "metadata": {
    "colab": {
     "base_uri": "https://localhost:8080/",
     "height": 419
    },
    "executionInfo": {
     "elapsed": 249,
     "status": "ok",
     "timestamp": 1636488255092,
     "user": {
      "displayName": "Daniel Rezende",
      "photoUrl": "https://lh3.googleusercontent.com/a/default-user=s64",
      "userId": "01387235247656097550"
     },
     "user_tz": 180
    },
    "id": "61eddc6f",
    "outputId": "008ea932-6438-4c38-caf8-b5c85ec4e62a"
   },
   "outputs": [],
   "source": [
    "dt_datas = pd.read_csv('tb_datas.csv', sep=\";\", encoding= 'unicode_escape')"
   ]
  },
  {
   "cell_type": "code",
   "execution_count": 6,
   "id": "EeBhGNGnTN8Z",
   "metadata": {
    "colab": {
     "base_uri": "https://localhost:8080/",
     "height": 129
    },
    "executionInfo": {
     "elapsed": 729,
     "status": "error",
     "timestamp": 1636491164545,
     "user": {
      "displayName": "Daniel Rezende",
      "photoUrl": "https://lh3.googleusercontent.com/a/default-user=s64",
      "userId": "01387235247656097550"
     },
     "user_tz": 180
    },
    "id": "EeBhGNGnTN8Z",
    "outputId": "38fcc1a3-1ba6-4040-aaef-e62c180eec2f"
   },
   "outputs": [
    {
     "name": "stdout",
     "output_type": "stream",
     "text": [
      "Mês: 11\n",
      "Mês: 10\n"
     ]
    }
   ],
   "source": [
    "dt_datas_3q = pd.read_csv('tb_datas.csv', sep=\";\", encoding= 'unicode_escape')\n",
    "\n",
    "# converte feature data para datetime type\n",
    "dt_datas_3q.data = pd.to_datetime(dt_datas_3q.data)\n",
    "\n",
    "# filtra intervalo ate o dia de hoje 10/11/2021\n",
    "df_filterd = dt_datas_3q[(dt_datas_3q.data>'2021-10-01') & (dt_datas_3q.data<'2021-11-10')]\n",
    "\n",
    "# monsta uma lista de meses unicos\n",
    "months = list(pd.DatetimeIndex(df_filterd.data).month.unique())\n",
    "\n",
    "# imprime os meses do intervalo\n",
    "for i in months:\n",
    "    print('Mês: ' + str(i))"
   ]
  },
  {
   "cell_type": "markdown",
   "id": "d7b5d636",
   "metadata": {
    "id": "d7b5d636"
   },
   "source": [
    "***\n",
    "**4ª questão** - Cruze os dois arquivos usando a chave que achar adequada e, exiba as primeiras linhas:"
   ]
  },
  {
   "cell_type": "code",
   "execution_count": 7,
   "id": "C6BcUX15PeSC",
   "metadata": {
    "colab": {
     "base_uri": "https://localhost:8080/",
     "height": 204
    },
    "executionInfo": {
     "elapsed": 261,
     "status": "ok",
     "timestamp": 1636489996079,
     "user": {
      "displayName": "Daniel Rezende",
      "photoUrl": "https://lh3.googleusercontent.com/a/default-user=s64",
      "userId": "01387235247656097550"
     },
     "user_tz": 180
    },
    "id": "C6BcUX15PeSC",
    "outputId": "86bc2c96-465c-4332-be50-85c59a6f4c53"
   },
   "outputs": [
    {
     "data": {
      "text/html": [
       "<div>\n",
       "<style scoped>\n",
       "    .dataframe tbody tr th:only-of-type {\n",
       "        vertical-align: middle;\n",
       "    }\n",
       "\n",
       "    .dataframe tbody tr th {\n",
       "        vertical-align: top;\n",
       "    }\n",
       "\n",
       "    .dataframe thead th {\n",
       "        text-align: right;\n",
       "    }\n",
       "</style>\n",
       "<table border=\"1\" class=\"dataframe\">\n",
       "  <thead>\n",
       "    <tr style=\"text-align: right;\">\n",
       "      <th></th>\n",
       "      <th>data</th>\n",
       "      <th>cod_pessoa</th>\n",
       "      <th>qtd_chamadas_atendidas</th>\n",
       "      <th>qtd_vendas</th>\n",
       "      <th>qtd_recusas</th>\n",
       "      <th>num_dia_semana</th>\n",
       "      <th>nome_dia_semana</th>\n",
       "      <th>num_mes_ano</th>\n",
       "      <th>nome_mes_ano</th>\n",
       "    </tr>\n",
       "  </thead>\n",
       "  <tbody>\n",
       "    <tr>\n",
       "      <th>0</th>\n",
       "      <td>02/09/2021</td>\n",
       "      <td>2</td>\n",
       "      <td>2</td>\n",
       "      <td>2</td>\n",
       "      <td>0</td>\n",
       "      <td>5</td>\n",
       "      <td>QUINTA-FEIRA</td>\n",
       "      <td>9</td>\n",
       "      <td>SETEMBRO</td>\n",
       "    </tr>\n",
       "    <tr>\n",
       "      <th>1</th>\n",
       "      <td>02/09/2021</td>\n",
       "      <td>3</td>\n",
       "      <td>241</td>\n",
       "      <td>8</td>\n",
       "      <td>13</td>\n",
       "      <td>5</td>\n",
       "      <td>QUINTA-FEIRA</td>\n",
       "      <td>9</td>\n",
       "      <td>SETEMBRO</td>\n",
       "    </tr>\n",
       "    <tr>\n",
       "      <th>2</th>\n",
       "      <td>02/09/2021</td>\n",
       "      <td>4</td>\n",
       "      <td>132</td>\n",
       "      <td>2</td>\n",
       "      <td>11</td>\n",
       "      <td>5</td>\n",
       "      <td>QUINTA-FEIRA</td>\n",
       "      <td>9</td>\n",
       "      <td>SETEMBRO</td>\n",
       "    </tr>\n",
       "    <tr>\n",
       "      <th>3</th>\n",
       "      <td>02/09/2021</td>\n",
       "      <td>7</td>\n",
       "      <td>125</td>\n",
       "      <td>1</td>\n",
       "      <td>44</td>\n",
       "      <td>5</td>\n",
       "      <td>QUINTA-FEIRA</td>\n",
       "      <td>9</td>\n",
       "      <td>SETEMBRO</td>\n",
       "    </tr>\n",
       "    <tr>\n",
       "      <th>4</th>\n",
       "      <td>02/09/2021</td>\n",
       "      <td>8</td>\n",
       "      <td>54</td>\n",
       "      <td>25</td>\n",
       "      <td>11</td>\n",
       "      <td>5</td>\n",
       "      <td>QUINTA-FEIRA</td>\n",
       "      <td>9</td>\n",
       "      <td>SETEMBRO</td>\n",
       "    </tr>\n",
       "  </tbody>\n",
       "</table>\n",
       "</div>"
      ],
      "text/plain": [
       "         data  cod_pessoa  qtd_chamadas_atendidas  qtd_vendas  qtd_recusas  \\\n",
       "0  02/09/2021           2                       2           2            0   \n",
       "1  02/09/2021           3                     241           8           13   \n",
       "2  02/09/2021           4                     132           2           11   \n",
       "3  02/09/2021           7                     125           1           44   \n",
       "4  02/09/2021           8                      54          25           11   \n",
       "\n",
       "   num_dia_semana nome_dia_semana  num_mes_ano nome_mes_ano  \n",
       "0               5    QUINTA-FEIRA            9     SETEMBRO  \n",
       "1               5    QUINTA-FEIRA            9     SETEMBRO  \n",
       "2               5    QUINTA-FEIRA            9     SETEMBRO  \n",
       "3               5    QUINTA-FEIRA            9     SETEMBRO  \n",
       "4               5    QUINTA-FEIRA            9     SETEMBRO  "
      ]
     },
     "execution_count": 7,
     "metadata": {},
     "output_type": "execute_result"
    }
   ],
   "source": [
    "dt_merge = pd.merge(dt_resultado_pessoa, dt_datas, how = 'inner') # poderia ter usado how com 'outer', porém geraria dados a mais\n",
    "\n",
    "dt_merge.head()"
   ]
  },
  {
   "cell_type": "markdown",
   "id": "6c4daeb4",
   "metadata": {
    "id": "6c4daeb4"
   },
   "source": [
    "***\n",
    "**5ª questão** - Mostre a quatidade total de vendas e a média de ligações atendidas:"
   ]
  },
  {
   "cell_type": "code",
   "execution_count": 8,
   "id": "8CrRMEy1PeSD",
   "metadata": {
    "colab": {
     "base_uri": "https://localhost:8080/"
    },
    "executionInfo": {
     "elapsed": 240,
     "status": "ok",
     "timestamp": 1636491172225,
     "user": {
      "displayName": "Daniel Rezende",
      "photoUrl": "https://lh3.googleusercontent.com/a/default-user=s64",
      "userId": "01387235247656097550"
     },
     "user_tz": 180
    },
    "id": "8CrRMEy1PeSD",
    "outputId": "b68d65d1-73b4-4203-977c-03c74d0bb4f1"
   },
   "outputs": [
    {
     "name": "stdout",
     "output_type": "stream",
     "text": [
      "A quantidade total de vendas: 3427\n"
     ]
    }
   ],
   "source": [
    "# quantidade total de vendas\n",
    "print('A quantidade total de vendas:', dt_merge['qtd_vendas'].sum())"
   ]
  },
  {
   "cell_type": "code",
   "execution_count": 9,
   "id": "4d_vXn2jX_CB",
   "metadata": {
    "colab": {
     "base_uri": "https://localhost:8080/"
    },
    "executionInfo": {
     "elapsed": 247,
     "status": "ok",
     "timestamp": 1636490046816,
     "user": {
      "displayName": "Daniel Rezende",
      "photoUrl": "https://lh3.googleusercontent.com/a/default-user=s64",
      "userId": "01387235247656097550"
     },
     "user_tz": 180
    },
    "id": "4d_vXn2jX_CB",
    "outputId": "5efcebf5-81c4-44fa-8c91-7da736011fe1"
   },
   "outputs": [
    {
     "name": "stdout",
     "output_type": "stream",
     "text": [
      "Média de ligações atendidas: 106.5065502183406\n"
     ]
    }
   ],
   "source": [
    "# média de ligações atendidas\n",
    "print('Média de ligações atendidas:', dt_merge['qtd_chamadas_atendidas'].mean())"
   ]
  },
  {
   "cell_type": "markdown",
   "id": "f609d061",
   "metadata": {
    "id": "f609d061"
   },
   "source": [
    "***\n",
    "**6ª questão**  - Qual o mês que houve a maior média de recusas:"
   ]
  },
  {
   "cell_type": "code",
   "execution_count": 10,
   "id": "B6EacvvoPeSD",
   "metadata": {
    "colab": {
     "base_uri": "https://localhost:8080/"
    },
    "executionInfo": {
     "elapsed": 261,
     "status": "ok",
     "timestamp": 1636489874557,
     "user": {
      "displayName": "Daniel Rezende",
      "photoUrl": "https://lh3.googleusercontent.com/a/default-user=s64",
      "userId": "01387235247656097550"
     },
     "user_tz": 180
    },
    "id": "B6EacvvoPeSD",
    "outputId": "50a1fa81-f0b0-4e73-b6fb-347331ea225f"
   },
   "outputs": [
    {
     "data": {
      "text/plain": [
       "num_mes_ano\n",
       "9     13.855932\n",
       "10    12.009009\n",
       "Name: qtd_recusas, dtype: float64"
      ]
     },
     "execution_count": 10,
     "metadata": {},
     "output_type": "execute_result"
    }
   ],
   "source": [
    "# quantidade de recusas\n",
    "dt_merge.groupby(['num_mes_ano']).qtd_recusas.mean().sort_values(ascending=False)"
   ]
  },
  {
   "cell_type": "markdown",
   "id": "12a6a7c4",
   "metadata": {
    "id": "12a6a7c4"
   },
   "source": [
    "***\n",
    "**7ª questão** - Faça uma conexão com o banco de dados informado nas intruções e, utilize a tabela `TB_PESSOA` para retornar apenas as pessoas que possuem a situação `PRESENCIAL`:"
   ]
  },
  {
   "cell_type": "code",
   "execution_count": 11,
   "id": "4b5eb5ef-891f-49cd-920d-0f8504e179a0",
   "metadata": {},
   "outputs": [
    {
     "data": {
      "text/html": [
       "<div>\n",
       "<style scoped>\n",
       "    .dataframe tbody tr th:only-of-type {\n",
       "        vertical-align: middle;\n",
       "    }\n",
       "\n",
       "    .dataframe tbody tr th {\n",
       "        vertical-align: top;\n",
       "    }\n",
       "\n",
       "    .dataframe thead th {\n",
       "        text-align: right;\n",
       "    }\n",
       "</style>\n",
       "<table border=\"1\" class=\"dataframe\">\n",
       "  <thead>\n",
       "    <tr style=\"text-align: right;\">\n",
       "      <th></th>\n",
       "      <th>cod_pessoa</th>\n",
       "      <th>cod_matricula</th>\n",
       "      <th>nome_pessoa</th>\n",
       "      <th>situacao</th>\n",
       "    </tr>\n",
       "  </thead>\n",
       "  <tbody>\n",
       "    <tr>\n",
       "      <th>0</th>\n",
       "      <td>1</td>\n",
       "      <td>2681</td>\n",
       "      <td>ana</td>\n",
       "      <td>PRESENCIAL</td>\n",
       "    </tr>\n",
       "    <tr>\n",
       "      <th>1</th>\n",
       "      <td>2</td>\n",
       "      <td>5763</td>\n",
       "      <td>carlos</td>\n",
       "      <td>HOME OFFICE</td>\n",
       "    </tr>\n",
       "    <tr>\n",
       "      <th>2</th>\n",
       "      <td>3</td>\n",
       "      <td>4815</td>\n",
       "      <td>lais</td>\n",
       "      <td>PRESENCIAL</td>\n",
       "    </tr>\n",
       "    <tr>\n",
       "      <th>3</th>\n",
       "      <td>4</td>\n",
       "      <td>6816</td>\n",
       "      <td>paulo</td>\n",
       "      <td>PRESENCIAL</td>\n",
       "    </tr>\n",
       "    <tr>\n",
       "      <th>4</th>\n",
       "      <td>5</td>\n",
       "      <td>6187</td>\n",
       "      <td>maria</td>\n",
       "      <td>HOME OFFICE</td>\n",
       "    </tr>\n",
       "    <tr>\n",
       "      <th>5</th>\n",
       "      <td>6</td>\n",
       "      <td>9846</td>\n",
       "      <td>pedro</td>\n",
       "      <td>PRESENCIAL</td>\n",
       "    </tr>\n",
       "    <tr>\n",
       "      <th>6</th>\n",
       "      <td>7</td>\n",
       "      <td>1587</td>\n",
       "      <td>laura</td>\n",
       "      <td>PRESENCIAL</td>\n",
       "    </tr>\n",
       "    <tr>\n",
       "      <th>7</th>\n",
       "      <td>8</td>\n",
       "      <td>3648</td>\n",
       "      <td>thiago</td>\n",
       "      <td>HOME OFFICE</td>\n",
       "    </tr>\n",
       "  </tbody>\n",
       "</table>\n",
       "</div>"
      ],
      "text/plain": [
       "   cod_pessoa  cod_matricula nome_pessoa     situacao\n",
       "0           1           2681         ana   PRESENCIAL\n",
       "1           2           5763      carlos  HOME OFFICE\n",
       "2           3           4815        lais   PRESENCIAL\n",
       "3           4           6816       paulo   PRESENCIAL\n",
       "4           5           6187       maria  HOME OFFICE\n",
       "5           6           9846       pedro   PRESENCIAL\n",
       "6           7           1587       laura   PRESENCIAL\n",
       "7           8           3648      thiago  HOME OFFICE"
      ]
     },
     "execution_count": 11,
     "metadata": {},
     "output_type": "execute_result"
    }
   ],
   "source": [
    "dt_pessoa = pd.read_csv('tb_pessoa_202111101232.csv')\n",
    "\n",
    "dt_pessoa"
   ]
  },
  {
   "cell_type": "markdown",
   "id": "cf13b746",
   "metadata": {
    "id": "cf13b746"
   },
   "source": [
    "***\n",
    "**8ª questão** - Cruze os dados obtidos na `4ª questão` com os dados da tabela `TB_PESSOA` e, retorne as primeiras linhas:"
   ]
  },
  {
   "cell_type": "code",
   "execution_count": 12,
   "id": "CwFHryhFPeSF",
   "metadata": {
    "id": "CwFHryhFPeSF"
   },
   "outputs": [
    {
     "data": {
      "text/html": [
       "<div>\n",
       "<style scoped>\n",
       "    .dataframe tbody tr th:only-of-type {\n",
       "        vertical-align: middle;\n",
       "    }\n",
       "\n",
       "    .dataframe tbody tr th {\n",
       "        vertical-align: top;\n",
       "    }\n",
       "\n",
       "    .dataframe thead th {\n",
       "        text-align: right;\n",
       "    }\n",
       "</style>\n",
       "<table border=\"1\" class=\"dataframe\">\n",
       "  <thead>\n",
       "    <tr style=\"text-align: right;\">\n",
       "      <th></th>\n",
       "      <th>data</th>\n",
       "      <th>cod_pessoa</th>\n",
       "      <th>qtd_chamadas_atendidas</th>\n",
       "      <th>qtd_vendas</th>\n",
       "      <th>qtd_recusas</th>\n",
       "      <th>num_dia_semana</th>\n",
       "      <th>nome_dia_semana</th>\n",
       "      <th>num_mes_ano</th>\n",
       "      <th>nome_mes_ano</th>\n",
       "      <th>cod_matricula</th>\n",
       "      <th>nome_pessoa</th>\n",
       "      <th>situacao</th>\n",
       "    </tr>\n",
       "  </thead>\n",
       "  <tbody>\n",
       "    <tr>\n",
       "      <th>71</th>\n",
       "      <td>01/09/2021</td>\n",
       "      <td>3</td>\n",
       "      <td>226</td>\n",
       "      <td>11</td>\n",
       "      <td>7</td>\n",
       "      <td>4</td>\n",
       "      <td>QUARTA-FEIRA</td>\n",
       "      <td>9</td>\n",
       "      <td>SETEMBRO</td>\n",
       "      <td>4815</td>\n",
       "      <td>lais</td>\n",
       "      <td>PRESENCIAL</td>\n",
       "    </tr>\n",
       "    <tr>\n",
       "      <th>190</th>\n",
       "      <td>01/09/2021</td>\n",
       "      <td>8</td>\n",
       "      <td>68</td>\n",
       "      <td>42</td>\n",
       "      <td>9</td>\n",
       "      <td>4</td>\n",
       "      <td>QUARTA-FEIRA</td>\n",
       "      <td>9</td>\n",
       "      <td>SETEMBRO</td>\n",
       "      <td>3648</td>\n",
       "      <td>thiago</td>\n",
       "      <td>HOME OFFICE</td>\n",
       "    </tr>\n",
       "    <tr>\n",
       "      <th>112</th>\n",
       "      <td>01/09/2021</td>\n",
       "      <td>4</td>\n",
       "      <td>129</td>\n",
       "      <td>1</td>\n",
       "      <td>7</td>\n",
       "      <td>4</td>\n",
       "      <td>QUARTA-FEIRA</td>\n",
       "      <td>9</td>\n",
       "      <td>SETEMBRO</td>\n",
       "      <td>6816</td>\n",
       "      <td>paulo</td>\n",
       "      <td>PRESENCIAL</td>\n",
       "    </tr>\n",
       "    <tr>\n",
       "      <th>152</th>\n",
       "      <td>01/10/2021</td>\n",
       "      <td>7</td>\n",
       "      <td>168</td>\n",
       "      <td>0</td>\n",
       "      <td>37</td>\n",
       "      <td>6</td>\n",
       "      <td>SEXTA-FEIRA</td>\n",
       "      <td>10</td>\n",
       "      <td>OUTUBRO</td>\n",
       "      <td>1587</td>\n",
       "      <td>laura</td>\n",
       "      <td>PRESENCIAL</td>\n",
       "    </tr>\n",
       "    <tr>\n",
       "      <th>72</th>\n",
       "      <td>01/10/2021</td>\n",
       "      <td>3</td>\n",
       "      <td>40</td>\n",
       "      <td>39</td>\n",
       "      <td>0</td>\n",
       "      <td>6</td>\n",
       "      <td>SEXTA-FEIRA</td>\n",
       "      <td>10</td>\n",
       "      <td>OUTUBRO</td>\n",
       "      <td>4815</td>\n",
       "      <td>lais</td>\n",
       "      <td>PRESENCIAL</td>\n",
       "    </tr>\n",
       "  </tbody>\n",
       "</table>\n",
       "</div>"
      ],
      "text/plain": [
       "           data  cod_pessoa  qtd_chamadas_atendidas  qtd_vendas  qtd_recusas  \\\n",
       "71   01/09/2021           3                     226          11            7   \n",
       "190  01/09/2021           8                      68          42            9   \n",
       "112  01/09/2021           4                     129           1            7   \n",
       "152  01/10/2021           7                     168           0           37   \n",
       "72   01/10/2021           3                      40          39            0   \n",
       "\n",
       "     num_dia_semana nome_dia_semana  num_mes_ano nome_mes_ano  cod_matricula  \\\n",
       "71                4    QUARTA-FEIRA            9     SETEMBRO           4815   \n",
       "190               4    QUARTA-FEIRA            9     SETEMBRO           3648   \n",
       "112               4    QUARTA-FEIRA            9     SETEMBRO           6816   \n",
       "152               6     SEXTA-FEIRA           10      OUTUBRO           1587   \n",
       "72                6     SEXTA-FEIRA           10      OUTUBRO           4815   \n",
       "\n",
       "    nome_pessoa     situacao  \n",
       "71         lais   PRESENCIAL  \n",
       "190      thiago  HOME OFFICE  \n",
       "112       paulo   PRESENCIAL  \n",
       "152       laura   PRESENCIAL  \n",
       "72         lais   PRESENCIAL  "
      ]
     },
     "execution_count": 12,
     "metadata": {},
     "output_type": "execute_result"
    }
   ],
   "source": [
    "dt_8q_merge = pd.merge(dt_merge, dt_pessoa, how = 'inner')\n",
    "\n",
    "dt_8q_merge.sort_values(by='data').head()"
   ]
  },
  {
   "cell_type": "code",
   "execution_count": 13,
   "id": "99925309-2262-4e5b-bfc2-b1dc5e57b873",
   "metadata": {},
   "outputs": [
    {
     "data": {
      "text/html": [
       "<div>\n",
       "<style scoped>\n",
       "    .dataframe tbody tr th:only-of-type {\n",
       "        vertical-align: middle;\n",
       "    }\n",
       "\n",
       "    .dataframe tbody tr th {\n",
       "        vertical-align: top;\n",
       "    }\n",
       "\n",
       "    .dataframe thead th {\n",
       "        text-align: right;\n",
       "    }\n",
       "</style>\n",
       "<table border=\"1\" class=\"dataframe\">\n",
       "  <thead>\n",
       "    <tr style=\"text-align: right;\">\n",
       "      <th></th>\n",
       "      <th>data</th>\n",
       "      <th>cod_pessoa</th>\n",
       "      <th>qtd_chamadas_atendidas</th>\n",
       "      <th>qtd_vendas</th>\n",
       "      <th>qtd_recusas</th>\n",
       "      <th>num_dia_semana</th>\n",
       "      <th>nome_dia_semana</th>\n",
       "      <th>num_mes_ano</th>\n",
       "      <th>nome_mes_ano</th>\n",
       "      <th>cod_matricula</th>\n",
       "      <th>nome_pessoa</th>\n",
       "      <th>situacao</th>\n",
       "    </tr>\n",
       "  </thead>\n",
       "  <tbody>\n",
       "    <tr>\n",
       "      <th>224</th>\n",
       "      <td>29/10/2021</td>\n",
       "      <td>5</td>\n",
       "      <td>176</td>\n",
       "      <td>43</td>\n",
       "      <td>14</td>\n",
       "      <td>6</td>\n",
       "      <td>SEXTA-FEIRA</td>\n",
       "      <td>10</td>\n",
       "      <td>OUTUBRO</td>\n",
       "      <td>6187</td>\n",
       "      <td>maria</td>\n",
       "      <td>HOME OFFICE</td>\n",
       "    </tr>\n",
       "    <tr>\n",
       "      <th>225</th>\n",
       "      <td>01/10/2021</td>\n",
       "      <td>5</td>\n",
       "      <td>438</td>\n",
       "      <td>1</td>\n",
       "      <td>1</td>\n",
       "      <td>6</td>\n",
       "      <td>SEXTA-FEIRA</td>\n",
       "      <td>10</td>\n",
       "      <td>OUTUBRO</td>\n",
       "      <td>6187</td>\n",
       "      <td>maria</td>\n",
       "      <td>HOME OFFICE</td>\n",
       "    </tr>\n",
       "    <tr>\n",
       "      <th>226</th>\n",
       "      <td>04/10/2021</td>\n",
       "      <td>5</td>\n",
       "      <td>182</td>\n",
       "      <td>54</td>\n",
       "      <td>3</td>\n",
       "      <td>2</td>\n",
       "      <td>SEGUNDA-FEIRA</td>\n",
       "      <td>10</td>\n",
       "      <td>OUTUBRO</td>\n",
       "      <td>6187</td>\n",
       "      <td>maria</td>\n",
       "      <td>HOME OFFICE</td>\n",
       "    </tr>\n",
       "    <tr>\n",
       "      <th>227</th>\n",
       "      <td>08/10/2021</td>\n",
       "      <td>5</td>\n",
       "      <td>265</td>\n",
       "      <td>22</td>\n",
       "      <td>11</td>\n",
       "      <td>6</td>\n",
       "      <td>SEXTA-FEIRA</td>\n",
       "      <td>10</td>\n",
       "      <td>OUTUBRO</td>\n",
       "      <td>6187</td>\n",
       "      <td>maria</td>\n",
       "      <td>HOME OFFICE</td>\n",
       "    </tr>\n",
       "    <tr>\n",
       "      <th>228</th>\n",
       "      <td>14/10/2021</td>\n",
       "      <td>5</td>\n",
       "      <td>467</td>\n",
       "      <td>7</td>\n",
       "      <td>2</td>\n",
       "      <td>5</td>\n",
       "      <td>QUINTA-FEIRA</td>\n",
       "      <td>10</td>\n",
       "      <td>OUTUBRO</td>\n",
       "      <td>6187</td>\n",
       "      <td>maria</td>\n",
       "      <td>HOME OFFICE</td>\n",
       "    </tr>\n",
       "  </tbody>\n",
       "</table>\n",
       "</div>"
      ],
      "text/plain": [
       "           data  cod_pessoa  qtd_chamadas_atendidas  qtd_vendas  qtd_recusas  \\\n",
       "224  29/10/2021           5                     176          43           14   \n",
       "225  01/10/2021           5                     438           1            1   \n",
       "226  04/10/2021           5                     182          54            3   \n",
       "227  08/10/2021           5                     265          22           11   \n",
       "228  14/10/2021           5                     467           7            2   \n",
       "\n",
       "     num_dia_semana nome_dia_semana  num_mes_ano nome_mes_ano  cod_matricula  \\\n",
       "224               6     SEXTA-FEIRA           10      OUTUBRO           6187   \n",
       "225               6     SEXTA-FEIRA           10      OUTUBRO           6187   \n",
       "226               2   SEGUNDA-FEIRA           10      OUTUBRO           6187   \n",
       "227               6     SEXTA-FEIRA           10      OUTUBRO           6187   \n",
       "228               5    QUINTA-FEIRA           10      OUTUBRO           6187   \n",
       "\n",
       "    nome_pessoa     situacao  \n",
       "224       maria  HOME OFFICE  \n",
       "225       maria  HOME OFFICE  \n",
       "226       maria  HOME OFFICE  \n",
       "227       maria  HOME OFFICE  \n",
       "228       maria  HOME OFFICE  "
      ]
     },
     "execution_count": 13,
     "metadata": {},
     "output_type": "execute_result"
    }
   ],
   "source": [
    "dt_8q_merge.tail()"
   ]
  },
  {
   "cell_type": "markdown",
   "id": "e81f9bfa",
   "metadata": {
    "id": "e81f9bfa"
   },
   "source": [
    "***\n",
    "**9ª questão** - Dado a seguinte equação da conversão de um colaborador: \n",
    "\n",
    "$conversaoColaborador = \\frac{qtdVendas}{qtdAtendidas}$\n",
    "\n",
    "Calcule:\n",
    "\n",
    "* A conversão de cada colaborador.\n",
    "\n",
    "E, realize o agrupamento por mês de forma ordenada juntamente com a melhor conversão."
   ]
  },
  {
   "cell_type": "code",
   "execution_count": 14,
   "id": "e404ac79-8727-4afa-b452-9ae626d84141",
   "metadata": {},
   "outputs": [],
   "source": [
    "# adiciona uma coluna com o calculo do conversorColaborador\n",
    "dt_8q_merge_conv = dt_8q_merge.assign(conv_colab = dt_8q_merge.qtd_vendas.div(dt_8q_merge.qtd_chamadas_atendidas))"
   ]
  },
  {
   "cell_type": "code",
   "execution_count": 15,
   "id": "2e7594e9-8f95-4ad0-a46c-6c9b18488394",
   "metadata": {},
   "outputs": [
    {
     "data": {
      "text/plain": [
       "nome_mes_ano  nome_pessoa\n",
       "OUTUBRO       lais           18.769505\n",
       "SETEMBRO      lais           17.074140\n",
       "OUTUBRO       carlos         16.000000\n",
       "SETEMBRO      carlos         15.846023\n",
       "              thiago         12.358661\n",
       "OUTUBRO       thiago         10.036816\n",
       "              laura           7.093991\n",
       "SETEMBRO      maria           2.832970\n",
       "OUTUBRO       maria           1.986663\n",
       "SETEMBRO      paulo           0.227206\n",
       "OUTUBRO       paulo           0.148441\n",
       "SETEMBRO      laura           0.050079\n",
       "Name: conv_colab, dtype: float64"
      ]
     },
     "execution_count": 15,
     "metadata": {},
     "output_type": "execute_result"
    }
   ],
   "source": [
    "dt_8q_merge_conv.groupby(['nome_mes_ano', 'nome_pessoa']).conv_colab.sum().sort_values(ascending=False)"
   ]
  },
  {
   "cell_type": "markdown",
   "id": "9bfed9fc",
   "metadata": {
    "id": "9bfed9fc"
   },
   "source": [
    "***\n",
    "# **Desafio** - Dado o seguinte dataset: [Kaggle - Superstore Data](https://www.kaggle.com/jr2ngb/superstore-data), realize:\n",
    "\n",
    "* Matriz de correlação;\n",
    "* Classificação;\n",
    "* Gráfico de como estão as vendas;\n",
    "* Outras análises que achar necessário."
   ]
  },
  {
   "cell_type": "code",
   "execution_count": 16,
   "id": "8ab735b4",
   "metadata": {
    "id": "8ab735b4"
   },
   "outputs": [
    {
     "name": "stdout",
     "output_type": "stream",
     "text": [
      "The DataFrame of Superstore Data is:\n"
     ]
    },
    {
     "data": {
      "text/html": [
       "<div>\n",
       "<style scoped>\n",
       "    .dataframe tbody tr th:only-of-type {\n",
       "        vertical-align: middle;\n",
       "    }\n",
       "\n",
       "    .dataframe tbody tr th {\n",
       "        vertical-align: top;\n",
       "    }\n",
       "\n",
       "    .dataframe thead th {\n",
       "        text-align: right;\n",
       "    }\n",
       "</style>\n",
       "<table border=\"1\" class=\"dataframe\">\n",
       "  <thead>\n",
       "    <tr style=\"text-align: right;\">\n",
       "      <th></th>\n",
       "      <th>Row ID</th>\n",
       "      <th>Order ID</th>\n",
       "      <th>Order Date</th>\n",
       "      <th>Ship Date</th>\n",
       "      <th>Ship Mode</th>\n",
       "      <th>Customer ID</th>\n",
       "      <th>Customer Name</th>\n",
       "      <th>Segment</th>\n",
       "      <th>City</th>\n",
       "      <th>State</th>\n",
       "      <th>...</th>\n",
       "      <th>Product ID</th>\n",
       "      <th>Category</th>\n",
       "      <th>Sub-Category</th>\n",
       "      <th>Product Name</th>\n",
       "      <th>Sales</th>\n",
       "      <th>Quantity</th>\n",
       "      <th>Discount</th>\n",
       "      <th>Profit</th>\n",
       "      <th>Shipping Cost</th>\n",
       "      <th>Order Priority</th>\n",
       "    </tr>\n",
       "  </thead>\n",
       "  <tbody>\n",
       "    <tr>\n",
       "      <th>0</th>\n",
       "      <td>42433</td>\n",
       "      <td>AG-2011-2040</td>\n",
       "      <td>1/1/2011</td>\n",
       "      <td>6/1/2011</td>\n",
       "      <td>Standard Class</td>\n",
       "      <td>TB-11280</td>\n",
       "      <td>Toby Braunhardt</td>\n",
       "      <td>Consumer</td>\n",
       "      <td>Constantine</td>\n",
       "      <td>Constantine</td>\n",
       "      <td>...</td>\n",
       "      <td>OFF-TEN-10000025</td>\n",
       "      <td>Office Supplies</td>\n",
       "      <td>Storage</td>\n",
       "      <td>Tenex Lockers, Blue</td>\n",
       "      <td>408.300</td>\n",
       "      <td>2</td>\n",
       "      <td>0.0</td>\n",
       "      <td>106.140</td>\n",
       "      <td>35.46</td>\n",
       "      <td>Medium</td>\n",
       "    </tr>\n",
       "    <tr>\n",
       "      <th>1</th>\n",
       "      <td>22253</td>\n",
       "      <td>IN-2011-47883</td>\n",
       "      <td>1/1/2011</td>\n",
       "      <td>8/1/2011</td>\n",
       "      <td>Standard Class</td>\n",
       "      <td>JH-15985</td>\n",
       "      <td>Joseph Holt</td>\n",
       "      <td>Consumer</td>\n",
       "      <td>Wagga Wagga</td>\n",
       "      <td>New South Wales</td>\n",
       "      <td>...</td>\n",
       "      <td>OFF-SU-10000618</td>\n",
       "      <td>Office Supplies</td>\n",
       "      <td>Supplies</td>\n",
       "      <td>Acme Trimmer, High Speed</td>\n",
       "      <td>120.366</td>\n",
       "      <td>3</td>\n",
       "      <td>0.1</td>\n",
       "      <td>36.036</td>\n",
       "      <td>9.72</td>\n",
       "      <td>Medium</td>\n",
       "    </tr>\n",
       "    <tr>\n",
       "      <th>2</th>\n",
       "      <td>48883</td>\n",
       "      <td>HU-2011-1220</td>\n",
       "      <td>1/1/2011</td>\n",
       "      <td>5/1/2011</td>\n",
       "      <td>Second Class</td>\n",
       "      <td>AT-735</td>\n",
       "      <td>Annie Thurman</td>\n",
       "      <td>Consumer</td>\n",
       "      <td>Budapest</td>\n",
       "      <td>Budapest</td>\n",
       "      <td>...</td>\n",
       "      <td>OFF-TEN-10001585</td>\n",
       "      <td>Office Supplies</td>\n",
       "      <td>Storage</td>\n",
       "      <td>Tenex Box, Single Width</td>\n",
       "      <td>66.120</td>\n",
       "      <td>4</td>\n",
       "      <td>0.0</td>\n",
       "      <td>29.640</td>\n",
       "      <td>8.17</td>\n",
       "      <td>High</td>\n",
       "    </tr>\n",
       "    <tr>\n",
       "      <th>3</th>\n",
       "      <td>11731</td>\n",
       "      <td>IT-2011-3647632</td>\n",
       "      <td>1/1/2011</td>\n",
       "      <td>5/1/2011</td>\n",
       "      <td>Second Class</td>\n",
       "      <td>EM-14140</td>\n",
       "      <td>Eugene Moren</td>\n",
       "      <td>Home Office</td>\n",
       "      <td>Stockholm</td>\n",
       "      <td>Stockholm</td>\n",
       "      <td>...</td>\n",
       "      <td>OFF-PA-10001492</td>\n",
       "      <td>Office Supplies</td>\n",
       "      <td>Paper</td>\n",
       "      <td>Enermax Note Cards, Premium</td>\n",
       "      <td>44.865</td>\n",
       "      <td>3</td>\n",
       "      <td>0.5</td>\n",
       "      <td>-26.055</td>\n",
       "      <td>4.82</td>\n",
       "      <td>High</td>\n",
       "    </tr>\n",
       "    <tr>\n",
       "      <th>4</th>\n",
       "      <td>22255</td>\n",
       "      <td>IN-2011-47883</td>\n",
       "      <td>1/1/2011</td>\n",
       "      <td>8/1/2011</td>\n",
       "      <td>Standard Class</td>\n",
       "      <td>JH-15985</td>\n",
       "      <td>Joseph Holt</td>\n",
       "      <td>Consumer</td>\n",
       "      <td>Wagga Wagga</td>\n",
       "      <td>New South Wales</td>\n",
       "      <td>...</td>\n",
       "      <td>FUR-FU-10003447</td>\n",
       "      <td>Furniture</td>\n",
       "      <td>Furnishings</td>\n",
       "      <td>Eldon Light Bulb, Duo Pack</td>\n",
       "      <td>113.670</td>\n",
       "      <td>5</td>\n",
       "      <td>0.1</td>\n",
       "      <td>37.770</td>\n",
       "      <td>4.70</td>\n",
       "      <td>Medium</td>\n",
       "    </tr>\n",
       "  </tbody>\n",
       "</table>\n",
       "<p>5 rows × 24 columns</p>\n",
       "</div>"
      ],
      "text/plain": [
       "   Row ID         Order ID Order Date Ship Date       Ship Mode Customer ID  \\\n",
       "0   42433     AG-2011-2040   1/1/2011  6/1/2011  Standard Class    TB-11280   \n",
       "1   22253    IN-2011-47883   1/1/2011  8/1/2011  Standard Class    JH-15985   \n",
       "2   48883     HU-2011-1220   1/1/2011  5/1/2011    Second Class      AT-735   \n",
       "3   11731  IT-2011-3647632   1/1/2011  5/1/2011    Second Class    EM-14140   \n",
       "4   22255    IN-2011-47883   1/1/2011  8/1/2011  Standard Class    JH-15985   \n",
       "\n",
       "     Customer Name      Segment         City            State  ...  \\\n",
       "0  Toby Braunhardt     Consumer  Constantine      Constantine  ...   \n",
       "1      Joseph Holt     Consumer  Wagga Wagga  New South Wales  ...   \n",
       "2    Annie Thurman     Consumer     Budapest         Budapest  ...   \n",
       "3     Eugene Moren  Home Office    Stockholm        Stockholm  ...   \n",
       "4      Joseph Holt     Consumer  Wagga Wagga  New South Wales  ...   \n",
       "\n",
       "         Product ID         Category Sub-Category  \\\n",
       "0  OFF-TEN-10000025  Office Supplies      Storage   \n",
       "1   OFF-SU-10000618  Office Supplies     Supplies   \n",
       "2  OFF-TEN-10001585  Office Supplies      Storage   \n",
       "3   OFF-PA-10001492  Office Supplies        Paper   \n",
       "4   FUR-FU-10003447        Furniture  Furnishings   \n",
       "\n",
       "                  Product Name    Sales Quantity Discount   Profit  \\\n",
       "0          Tenex Lockers, Blue  408.300        2      0.0  106.140   \n",
       "1     Acme Trimmer, High Speed  120.366        3      0.1   36.036   \n",
       "2      Tenex Box, Single Width   66.120        4      0.0   29.640   \n",
       "3  Enermax Note Cards, Premium   44.865        3      0.5  -26.055   \n",
       "4   Eldon Light Bulb, Duo Pack  113.670        5      0.1   37.770   \n",
       "\n",
       "   Shipping Cost  Order Priority  \n",
       "0          35.46          Medium  \n",
       "1           9.72          Medium  \n",
       "2           8.17            High  \n",
       "3           4.82            High  \n",
       "4           4.70          Medium  \n",
       "\n",
       "[5 rows x 24 columns]"
      ]
     },
     "execution_count": 16,
     "metadata": {},
     "output_type": "execute_result"
    }
   ],
   "source": [
    "dt_desafio = pd.read_csv('superstore_dataset2011-2015.csv', encoding= 'unicode_escape')\n",
    "\n",
    "print(\"The DataFrame of Superstore Data is:\")\n",
    "dt_desafio.head()"
   ]
  },
  {
   "cell_type": "code",
   "execution_count": 17,
   "id": "ba9a5d7e-3ddc-4bd4-a564-4358d8439293",
   "metadata": {},
   "outputs": [
    {
     "data": {
      "text/plain": [
       "Index(['Row ID', 'Order ID', 'Order Date', 'Ship Date', 'Ship Mode',\n",
       "       'Customer ID', 'Customer Name', 'Segment', 'City', 'State', 'Country',\n",
       "       'Postal Code', 'Market', 'Region', 'Product ID', 'Category',\n",
       "       'Sub-Category', 'Product Name', 'Sales', 'Quantity', 'Discount',\n",
       "       'Profit', 'Shipping Cost', 'Order Priority'],\n",
       "      dtype='object')"
      ]
     },
     "execution_count": 17,
     "metadata": {},
     "output_type": "execute_result"
    }
   ],
   "source": [
    "dt_desafio.columns"
   ]
  },
  {
   "cell_type": "markdown",
   "id": "dc742f78-4eb4-43c9-aa0f-0b29e7aed983",
   "metadata": {},
   "source": [
    "## Matriz de correlação"
   ]
  },
  {
   "cell_type": "code",
   "execution_count": 18,
   "id": "fe77b246-e20f-4bd7-abc2-8c572ce3fd26",
   "metadata": {},
   "outputs": [
    {
     "data": {
      "text/plain": [
       "<AxesSubplot:>"
      ]
     },
     "execution_count": 18,
     "metadata": {},
     "output_type": "execute_result"
    },
    {
     "data": {
      "image/png": "iVBORw0KGgoAAAANSUhEUgAABA4AAAJCCAYAAABAlIVtAAAAOXRFWHRTb2Z0d2FyZQBNYXRwbG90bGliIHZlcnNpb24zLjQuMywgaHR0cHM6Ly9tYXRwbG90bGliLm9yZy/MnkTPAAAACXBIWXMAAAsTAAALEwEAmpwYAACQtklEQVR4nOzdd3xUVdrA8d9JIDRBCB1BBcFV10a3SxEEXNQVde29YUdBsfeyuqKuBeuudd3lXcvqil0Q1FW6igVQbHRI6J3Mef9IjAkwIQqTGfD35XM/zL33zMxzmGFucuY5zwkxRiRJkiRJktYnK90BSJIkSZKkzOXAgSRJkiRJSsqBA0mSJEmSlJQDB5IkSZIkKSkHDiRJkiRJUlIOHEiSJEmSpKQcOJAkSZIkaTMQQvhbCGFOCGFikvMhhPDXEMLXIYRPQwhtNsXzOnAgSZIkSdLm4QmgRxnnewKtirazgMGb4kkdOJAkSZIkaTMQYxwB5JfR5DDgqVjoI6B2CKHxxj5vpY19gA1ZPW9qTPVzKHOd1W5AukNQmixIrEp3CEqjr1bMTncISpPDq7dMdwhKo6lxWbpDUJqsigXpDkFp9OIPr4R0x5BKFfk7bU79Hc6mMFPgJ4/EGB/5BQ+xDfBjif1pRcdmbkxcKR84kCRJkiRJG1Y0SPBLBgoqhAMHkiRJkiQlk9isMmqmA81K7DctOrZRrHEgSZIkSdKW4WXgpKLVFfYCFsYYN2qaAphxIEmSJElScjGR7giKhRCeAzoB9UII04DrgMoAMcaHgKFAL+BrYBlw6qZ4XgcOJEmSJEnaDMQYj93A+Qict6mf16kKkiRJkiQpKTMOJEmSJElKJpE5UxXSxYwDSZIkSZKUlBkHkiRJkiQlETOoOGK6mHEgSZIkSZKSMuNAkiRJkqRkrHFgxoEkSZIkSUrOjANJkiRJkpKxxoEZB5IkSZIkKTkzDiRJkiRJSiZRkO4I0s6MA0mSJEmSlJQZB5IkSZIkJWONAzMOJEmSJElScmYcSJIkSZKUTMKMAzMOJEmSJElSUmYcSJIkSZKURLTGgRkHkiRJkiQpOQcOJEmSJElSUmVOVQgh1AWOA3YqOvQl8FyMMS/VgUmSJEmSlHYWR0yecRBC2BmYCLQFJgNTgPbAZyGEnZLdT5IkSZIkbTnKyji4Cbgoxjik5MEQQh/gFqBPKgOTJEmSJCntLI5YZo2D3dYeNACIMT4P7Jq6kCRJkiRJUqYoK+Ng6a88J0mSJEnSliFRkO4I0q6sgYMGIYRL1nM8APVTFI8kSZIkScogZQ0cPArUTHLusRTEIkmSJElSZrHGQfKBgxjjDRUZiCRJkiRJyjxJBw5CCH8t644xxgs3fTiSJEmSJGWQhBkHZU1VGFthUUiSJEmSpIxU1lSFJysyEEmSJEmSMo41DsrMONBGuPrWQYz4YBS5dWrz0jMPpTsc/Uq7Hrgnx117GlnZWYz41zsMHfxiqfOVcipx5qAL2W7XFixZsJjB5w8ib9pcAA4594/sf3RXEgUJ/nHD35g4YgIA3U49hAOOOYgQAu/98y3e+turAPS9/xIatWgCQPVaNVi2aCnX9epfcZ3VBp1+w1m07dyWlctXct+l9zJ14jfrtGmx2w5ceNfF5FTNYeywsTx+3SOlzh965uGces3pnLTH8Syev6j4eMvdW3H7S3dy1/l38L+hH6a8L/r1rrzlUg44aB9WLF/BlRfcyBefTVqnzUVX9OWwo3tRq3ZN2jXvVHx84I396LBfWwCqVatKbr06dGzVtYIi16+x44G784drTyIrO4vR/xrGe4NfKXU+O6cSRw/qyza7NmfZgiX84/y/smDaPLIqZdPnz2fS5Pfbk1Upm3EvjOS9B18GYN/Te9L+T52JMTJ70o/8e8DDrFm5Oh3d0waccv0ZtC763B/c/698O3HqOm2a77oD5951ITlVcxg/bCxPXF9YQ3yvXvtwZL9j2KZlU646dABTPyu8ZmRXrsRZt/alxe4tiYkET9zwOF98NLFC+6Xy2Zjr/rGXHk+H7h2JicjCvIX89dJ7mD87nxpb1+D8Oy+i0XaNWL1yNff3v5cfJv9Q0V2TfrGsdAewpTq8VzceGnRzusPQRghZWZx445ncfcotXNXtYjoeuh9NWjYt1Wb/o7uydOESBnY6nzcf/y9HDzwRgCYtm9Kh935c3f1iBp18MyfedCYhK4ttdmzGAcccxE2HXc61PS9hjy7taLBdIwAGnz+I63r157pe/Rnz2keMff3jCu+zkmvTuS1Ntm/CuQeczeCBD3D2LX3X2+6cW87lwcvv59wDzqbJ9k1o06lt8bm6jeux5wGtmTNtTqn7ZGVlcdIVJzNhxPiU9kEb74Cu+7Bdi2b06NiH6y69jWvvuHy97Ya/OZI/HXzKOsdvv/ZujuhyAkd0OYFnHhvCW68OS3HE2hghK3Dojafy91Pu4O5uA9jj0H1o0HKbUm3aH92J5QuX8pdOl/D+46/Rc+CxAOzWqyPZOZW5t8dA7v/DVXQ8riu1m9ajVsM67HPKwdzf+yruPfhyQlYWu/feOx3d0wbs2bktjZo35qID+/LoFQ9y+s3nrLfdGbeczSMDH+CiA/vSqHlj9uzUBoAfJ//AXWffzpcff1GqfddjuwEw4OCLuPmE6znx6lMJIaS2M/rFNva6/9LDL9Dv4Au5pOdFjHlnNH+66BgAjjzvaL79Yir9Dr6Qe/vdzek3nFVhfdJGSCQqbstQGxw4CCFUrYhAtjTt9tyNrWslW81Sm4MWe7ZkzvezmPvjbApWr2HUK+/Tunv7Um3adO/AB88PB2DM0P+x8z67AdC6e3tGvfI+a1atYd60Ocz5fhYt9mxJ45ZNmTphCqtWrCJRkGDSx5/TtkfHdZ67wyH78PHL76e8jyq/Dt33Ytjz7wIwefwkatSqQZ0GdUq1qdOgDtW2qs7k8YXfQA97/l06HLxX8fnTrjuDp279O8RY6n69Tv0D/3vtQxbmLUxxL7SxuvQ8gP8MGQrAJ2MnUmvrmtRvUHeddp+MncjcOXllPtYhR3Rn6ItvpiRObRrN9mxJ3vezmf/jHApWF/DJK/9j5+5tS7XZuXs7xj0/EoCJQz9mh312LToTyalWhazsLCpXzaFg1RpWLl4OQFZ2NpWr5pCVnUVOtRwWz55fkd1SObXv1oERRdf4KeMnU6NWDWqv9blfu+hzf8r4yQCMeH447bsXXtenfz2NmVNnrPO4TVs1Y+KHnwGwKG8hSxctpcXuLVPYE/0aG3vdX75keXG7KtWrEIuu/U1bNeOzDz8FYPo302jQtAFb16ud6u5IG608GQcTQwgfhBBuDyEcEkLYOuVRSRmgTsNc8mfMK97Pn5lPnYalf0GoXaJNoiDB8sXL2KpOTeo0rEv+jLwS982jTsNcpk/6gR3b70yN2luRUzWH3Tu3IbdxvVKPuWOHXVg4bwGzv5uZwt7pl6rbqC55M39+P+TNyiO3Uen3Q26juuTNKtlmHnWL2nTo1pH8WXl89+V3pe/TMJe9Dt6b159+LXXBa5Np2KgBs2bMLt6fNWMODRo3+MWP06RpI5pu24SPRo7ZlOFpE6vVsA4LS3yWL5qZz9YNc9dps6CoTaIgwYrFy6hepyafDR3FquUruWLUg1z+4V8Z8eirLF+4lEWz5zPy0Ve5/MP7uGLUg6xYvJwpIz+r0H6pfOo0yiVvxlqf+2u9/rkNc8mftdb1vlHpNmv7/ovvaNetPVnZWdRv1oAWu+5A3Sb1yryPKt7GXvcBjh9wIo9+9DcOPLwTz931LADfffkte/XYB4BWe7Si/jYNqNt43QFoZZYYCypsy1QbHDiIMbYEjgU+Aw4BPgkhTCjrPiGEs0IIY0IIYx576rlNEqi0JZj5zXSGPvQS/Z++lkuevIYfvviOxFopSR0P3c9sgy1MTtUq9Dn/qOIfGko6/fozeeq2J4q/idBvQ68/dueNV95d5/+/thzN9tiBWJDgto7nccf+F7P/Gb2o06wBVWvVYJdubblz/4u4reN5VK5ehT0P3zfd4aoCDRvyNnkz87jtlbs4+drTmTzuKxIFfhZsiZ6982nO3Os03ntpOL1O+QMALzz4b2rUqsGg1+6l16m9mfr5VF9/bRY2WBwxhNAU2BfYH9gD+Bwo87eaGOMjwCMAq+dN9adhbZbmz84nt8Q3ALmNc5k/u3Tq8YKiNvNn5ZOVnUW1mtVZMn8x82fnkdukbon71mX+7HwARg55h5FD3gGgz4DjyJ/582NmZWfR9uCO3NB7QCq7pnLqeVIvuh17MABffzqFuiWyQ+o2qlvqWyaA/Fl51G1Usk098mbl0Wi7RjRs1pC7X/9r4fHG9bhr6D1cdugl7LBbKy69v/D1rplbi7ad21KwJsGoNz9KdfdUTseddiRHnnA4ABPHf0GjJg2LzzVq0oA5M+ckuWdyPQ/vxk0D79hUISpFFs2ez9YlPstrNc5lYdFneck2tZvUZVHRdaBqzeosm7+YPQ7rw+T3PiGxpoCleYv4fuxkmu7enBgh/8c5LM1fDMDnr49mu7Y7MuGlDyq0b1q/7if1pOsx3QH45tMppTIB6jaqS/5ar3/+7PxS30LnNq7L/Fml26wtUZDgqZv+Vrx/4wu3M/Pb6ZsifG2kTXXdX9uIF9/jmiev45+D/sHyJcu5v/+9xece/uAxZv8wa1N3RdrkyjNV4QfgYuC1GOPeMcZDYoy3pTYsKf2+/eRrGmzfmHpNG5BduRIdeu/H+LdKpxWPf2s0+/bpBEC7Xnvz5YcTi46PoUPv/aiUU4l6TRvQYPvGTJ3wNQA169YCILdJPdr22IuPXh5Z/Hi77Lc7M6dO3+APHaoYrz01lEt6XsQlPS/i4zc+onOfLgDs2Pp3LFu8jPlzSs9Lnj9nPsuXLGPH1r8DoHOfLox68yN+mPQ9p7Q5kbP3PYOz9z2DvJnzuLTXxSyYu4Bz9juj+Pj/hn7Iw1cPdtAgw/zjb/8uLmj4zmvvcdjRvQDYo+2uLF60ZIO1DNbWvOV2bL11TSaMNj0900375Bvqbd+IOk3rk105mz16782Xb40t1ebLt8bSps/+AOzaqyPffPg5AAtm5NFin98DULlaFZq1bsncb2awcMY8tm3dispVcwBoue/vmfO1vzRmijefeo3Le/Xj8l79GP3mxxxQdI1v1XpHli1eyoK1PvcXFH3ut2q9IwAH9OnE6LdGlfkcOVVzqFKtCgC77bcHiTUFTJ8ybdN3Rr/YprruAzTevnFxuw7dOzLtm8LXuHqtGlSqXPjdbbdju/P5qM9L1UNQhoqJitsyVHmWY2wN7AccF0IYCEwB3osxPp7SyDZzA667ndHjP2XBgkV0PfwEzj39RPr0PjjdYekXSBQkePbax7j0qWvIys5i5JB3mTHlRw7vdwzfffY1E94ew4gh73DWoAu5ffj9LF2whIcuuBuAGVN+ZPR/P+SWt+6lYE0Bz1z7KLEoJfn8wQOoUacmBWsKePqaR1m+aFnxc3bs7TSFTDX23TG07dyOwSMfKVyWqcS3BYNeu5dLel4EwMNXDy5elmncsLGMGzY22UNqM/Te2x9wwEH78MaoF1ixbAVXXnRT8bkX3n2GI7qcAED/ay/gkCO6U61aVYZNeIV/P/syD9z5KFA4TWHoS2+lJX79MomCBC9f+wSnPTWQkJ3FmCHDmTNlOgf1O5Lpn03ly7fHMWbIcI4edC79hw9i2YKlPHfBfQB89NSbHHnnOVz85h0QYOz/jWDWVz8CMPG1jzn/1VtJrClg5uffMeq5d9PZTSUx/t2xtO7clntHPMSqouUYf/LnoXdzea9+ADx+9cOce9eFVK5ahQnDxzKh6HO//cEdOfWGM6mVuzWX//0avv/iW2496Qa2rlebK5+6jhgT5M/K5/5+96Sje9qAjb3unzjwFLbZYRsSiQRzp8/loSseAKBZy6ZcOKgfMUZ+nPwD91/213WfXMpAoTzzakMIW1E4eLA/cAJAjHG78jyBUxV+285qZ8r9b9WCxKp0h6A0+mrF7A030hbp8OpWh/8tmxqXbbiRtkirMriom1LvxR9e2aLXFF0x7uUK+522aptDM/Lfsjw1DsYAVYAPgZHAATHG71MdmCRJkiRJSr/yTFXoGWOcm/JIJEmSJEnKNBlce6CilKc44qoQwqCfllcMIdwVQtg65ZFJkiRJkqS0K0/Gwd+AicDRRfsnAn8HjkhVUJIkSZIkZYSENTzKM3CwQ4yxT4n9G0IIE1IUjyRJkiRJyiDlGThYHkLYL8b4PkAIYV/AxUYlSZIkSVs+axyUa+CgL/BkUV2DAOQDJ6c0KkmSJEmSlBE2OHAQY5wA7BFCqFV0aClwDPBpCuOSJEmSJCn9EmYcJF1VIYRQK4RwRQjh/hBCN2AxcBLwNT8XSpQkSZIkSVuwsjIOngbmA/8DzgSuonCqwh+LshAkSZIkSdqyWeOgzIGDFjHG3QBCCI8BM4FtY4wrKiQySZIkSZKUdmUNHKz+6UaMsSCEMM1BA0mSJEnSb4o1DsocONgjhLCo6HYAqhXtByDGGGslv6skSZIkSdoSJB04iDFmV2QgkiRJkiQp82xwOUZJkiRJkn6znKqQfDlGSZIkSZIkMw4kSZIkSUoixoJ0h5B2ZhxIkiRJkqSkzDiQJEmSJCkZaxyYcSBJkiRJkpIz40CSJEmSpGSiGQdmHEiSJEmSpKTMOJAkSZIkKRlrHJhxIEmSJEmSkjPjQJIkSZKkZKxxYMaBJEmSJElKzowDSZIkSZKSscaBGQeSJEmSJCk5Mw4kSZIkSUrGGgdmHEiSJEmSpOQcOJAkSZIkSUk5VUGSJEmSpGQsjmjGgSRJkiRJSs6MA0mSJEmSkjHjIPUDB2e1G5Dqp1AGe2TMnekOQWlyXNt+6Q5BabR39W3THYLSZBn+cPVbVuDr/5tVKZjILG3JzDiQJEmSJCkZl2O0xoEkSZIkSZuLEEKPEMKkEMLXIYSB6zm/bQhhWAhhfAjh0xBCr419TjMOJEmSJElKJoNqHIQQsoEHgG7ANGB0COHlGOMXJZpdDQyJMQ4OIewCDAW235jnNeNAkiRJkqTNQwfg6xjj1BjjKuCfwGFrtYlAraLbWwMzNvZJzTiQJEmSJCmZCqxxEEI4CzirxKFHYoyPlNjfBvixxP40oONaD3M98GYI4QKgBnDQxsblwIEkSZIkSRmgaJDgkQ02LNuxwBMxxrtCCHsDT4cQdo3x14+AOHAgSZIkSVIyGVTjAJgONCux37ToWEmnAz0AYoz/CyFUBeoBc37tk1rjQJIkSZKkzcNooFUIoXkIIQc4Bnh5rTY/AF0BQgg7A1WBuRvzpGYcSJIkSZKUTAXWONiQGOOaEML5wBtANvC3GOPnIYQbgTExxpeBS4FHQwj9KCyUeEqMMW7M8zpwIEmSJEnSZiLGOJTCJRZLHru2xO0vgH035XM6cCBJkiRJUjKZVeMgLTZY4yCEUD2EcE0I4dGi/VYhhD+kPjRJkiRJkpRu5SmO+HdgJbB30f504OaURSRJkiRJkjJGeaYq7BBj/FMI4ViAGOOyEEJIcVySJEmSJKWfUxXKlXGwKoRQjcJqjIQQdqAwA0GSJEmSJG3hypNxcB3wOtAshPAshdUZT0llUJIkSZIkZYSNW8lwi7DBgYMY41shhHHAXkAALooxzkt5ZJIkSZIkKe2SDhyEENqsdWhm0d/bhhC2jTGOS11YkiRJkiRlAGsclJlxcFfR31WBdsAnFGYc7A6M4edVFiRJkiRJ0hYq6cBBjLEzQAjhBaBNjPGzov1dgesrJDpJkiRJktLJjINyrarwu58GDQBijBOBnVMXkiRJkiRJyhTlWVXh0xDCY8AzRfvHA5+mLiRJkiRJkjJENOOgPAMHpwJ9gYuK9kcAg1MWkSRJkiRJyhjlWY5xRQjhAeBtIAKTYoyrUx6ZJEmSJEnpZo2DDQ8chBA6AU8C31G4qkKzEMLJMcYRKY1MkiRJkiSlXXmmKtwFdI8xTgIIIewIPAe0TWVgkiRJkiSlXYzpjiDtyrOqQuWfBg0AYoyTgcqpC0mSJEmSJGWK8mQcjFlrVYUTgDGpC0mSJEmSpAxhjYNyDRz0Bc4DLizad1UFSZIkSZJ+I5IOHIQQ6gP1Y4xfAIOKNkIIvwdqAXMrJEJJkiRJktLFjIMyaxzcB9Rbz/Fc4N7UhCNJkiRJkjJJWQMHLde35GKMcSSwe+pCkiRJkiRJmaKsGgc1yzjnqgqSJEmSpC1fdKpCWRkHX4cQeq19MITQE5iaupAkSZIkSVKmKCvj4GLg1RDC0cDYomPtgL2BP6Q4royx64F7cty1p5GVncWIf73D0MEvljpfKacSZw66kO12bcGSBYsZfP4g8qYV1o085Nw/sv/RXUkUJPjHDX9j4ogJAHQ79RAOOOYgQgi898+3eOtvrwLQ9/5LaNSiCQDVa9Vg2aKlXNerf8V1VpvE1bcOYsQHo8itU5uXnnko3eFoEzr1+jNp07ktK5ev5IH+9/LtxHXHUFvsugPn3XUhOVWrMG7YWP5+/aMAnHjlKbTt2p41q9cw+/tZPDDgryxbtLT4fvWa1OPut+9nyD3/5JVHXqqoLqkcCq8DpxKysxj5r3cYOvilUucr5VTijEEXsN2uLVi6YEnxdaBG7a04d3B/mu++Ax/8ezjPXvd48X36PXkVtRvUISs7m8mjv+SZax4jWngpI+104B4cce3JZGVn8dG/3uXtwS+XOp+dU4kTBp1Hs12bs3TBEp48/17yp80lt2l9rnj7LuZMnQHA9+OnMOSqwvdAm0P3odu5h0OMLJwzn6cvfoCl8xdXdNf0C512/Zm07tyOVctXcn//e8q4BlxETtUqjB82hr8VXQOOufR42nfrSCKRYFHeQu6/9F7mz8mv6C7oF0rFdb9+0wbc8879zPhmOgCTx0/m0atcsC7TxURMdwhplzTjIMY4BdgNeA/Yvmh7D9g9xji5IoJLt5CVxYk3nsndp9zCVd0upuOh+9GkZdNSbfY/uitLFy5hYKfzefPx/3L0wBMBaNKyKR1678fV3S9m0Mk3c+JNZxKysthmx2YccMxB3HTY5Vzb8xL26NKOBts1AmDw+YO4rld/ruvVnzGvfcTY1z+u8D5r4x3eqxsPDbo53WFoE2vduS2NmzfmggPP4eErHuDMm/uut92Zt5zDQwMf4IIDz6Fx88bs2akNAJ+MnMAl3S+gf4+LmPHtdP54bp9S9zv5mtMZP3xcyvuhXyZkZXHCjWdw9ym3cHW3fmVcB5ZyRacLePPx/3LUwBMAWL1yNS/d9U+G3Pr0Oo87+LxBXNezP9d070fN3Fq0P2TvCumPfpmQFTjqxtN4+JTbua3bpbQ5dF8attymVJu9j+7M8oVLuLnTxQx//FV6Dzyu+Fze97O5s9dA7uw1sHjQICs7iyOuPZn7j72JP/e8nBlf/sD+Jx9cof3SL1d4DWjCBQeezUNXPMBZSa8BfYuuAWfTuHkTWhddA/7z8Atc2uNCBvS6mLHvjOaoi/5UkeHrV0jldX/W97MY0KsfA3r1c9BAm42ypioQY1wZY/x7jPHSou1vMcYVFRVcurXYsyVzvp/F3B9nU7B6DaNeeZ/W3duXatOmewc+eH44AGOG/o+d99kNgNbd2zPqlfdZs2oN86bNYc73s2ixZ0sat2zK1AlTWLViFYmCBJM+/py2PTqu89wdDtmHj19+P+V91KbXbs/d2LpWWSVCtDlq360D7z0/DIAp4ydTo1YNajeoU6pN7QZ1qLZVdaaMLxxbfe/5YXToXvj/+9ORE0gUJIrvX7fxz4vWtO/ekTk/zubHyT9URFf0C/x8HZhDweo1fPzKB+y51nWgdff2fLie68Cq5SuZMuYrVq9ctc7jrliyHIDsStlUqlyJGP0mIxNtt2dL5n4/i7wf51CwuoBxr3zIbt3blWqza/d2jHq+sJb0J0M/Zsd9fl/2g4ZACIGc6lUAqFqzGgtnz09J/Np02nfryPDia8Akqie5BlTfqjpTxk8CYPjzw2jffS8Alhf9nweoUr0q/pfPfKm87mszlEhU3Jahyhw4+K2r0zCX/BnzivfzZ+ZTp2HdUm1ql2iTKEiwfPEytqpTkzoN65I/I6/EffOo0zCX6ZN+YMf2O1Oj9lbkVM1h985tyF3rg2THDruwcN4CZn83M4W9k/RL5DaqS16Jz4O8WfPIXevzILdhXfJm/fz/Pm9mHrmNSrcB6Hx0V8YPL5wBVrV6VQ7vewT/d88/UxS5Nkbtta4D84s+y5O1KXkd2JBLnrqae8Y+zoqlyxkz9KNNG7g2ia0b5rKgxLV8wcx8tl7P6z+/qE2iIMGKxcupUfT65zarz4BXb+OCf11Li/Y7FbZZU8CQqx9n4Ot3cOOowTRs2ZSP/vVuBfVIv1bdRnXJmzG3eD9/Vh5117oG1G1Yl7xZJX9unEfdEteAYwecwEP/e5z9Dz+Qfw16NvVBa6Ok6roP0KBZQ+4Yejc3/OsWdmq/Swqilza9lAwchBDOCiGMCSGMmbT421Q8xWZr5jfTGfrQS/R/+louefIafvjiOxJrjSx1PHQ/sw2kLdQR5x9FYk2CkS++B8BR/Y7hv4+9zIplv5lkLhUZdNLN9OtwJpVyKrPzPrumOxxtYgvnzOf6fc7nzkOu4MWbnuakey+gylbVyKqUzX4ndOOOQ67g2g59mfHVD4X1DrTFe+7OZzhn79MZ+dJ79Dj5kHSHowqy9nV//px8+u59Bpf16seTN/2Ni/56KdW2qpbmKLVBMVFxW4YqqzjirxZjfAR4BODU7ftstslY82fnk9vk52yA3Ma5zJ+dV6rNgqI282flk5WdRbWa1VkyfzHzZ+eR26RuifvWZf7swiI4I4e8w8gh7wDQZ8Bx5M/8+TGzsrNoe3BHbug9IJVdk1QOB5/Ui4OO6QbA159+Td0Snwd1G9Ujf63Pg/zZeaW+XarbuC75Jb6J6HRkF9p2bccNx15TfKzVnjuyV899OOGKk6lRqwYxRlavXMXrTw5NVbf0CyxY6zpQp8Rn+dpt1r4OlMealauZ8NZoWndrzxfvf7pJY9fGWzg7n9olruW1G+eycD2vf50mdVlY9PpXrVmtuNDhslVLAJg28Vvm/TCbBs0bE0Lh/fJ+mA3AhFf/x0F9D6uA3uiX6nFSL7oe0x2Abz6dQt0m9YEvgaJvo9e6BuTNzqNuo5I/N9Yr9W30T0a+NJwrn7iOIXc/l7rg9atUxHV/zao1LFlV+BkxdeI3zP5+Jo2bb8PUz75OSZ+kTSVpxkEI4bMQwqfr2T4LIfwmfrr59pOvabB9Y+o1bUB25Up06L0f498aU6rN+LdGs2+fTgC067U3X344sej4GDr03o9KOZWo17QBDbZvzNQJhR8INevWAiC3ST3a9tiLj14eWfx4u+y3OzOnTmf+LCvtSun2xlNDi4sXjX7zIw7s0xmAVq13ZNnipSyYU3pe8oI581m+ZBmtWu8IwIF9OjP6rVEA7Hlgaw475wj+fPotrFrx85z3a4+6kvP2O4vz9juLV//2Ci888G8HDTLIt598TcMS14GOvfdlwlujS7WZ8NYY9ilxHfiq6DqQTJXqVdm6fm2gcLB49y5tmFlUXVuZ5YdPvqH+9o3IbVqf7MrZtOm9DxPfGluqzcS3xtKhzwEA7NGrI1M+/ByAGrk1CVmFowR1mzWg/vaNyPthNgtmzadhq22okVs4neF3++3O7K99/TPR608NZUCvixnQ62JGvfkxnYqvAb9j2eJl670GLFuyjFatfwdApz6dGf1WYaHrRts3Lm7XvntHpn8zrYJ6oV+iIq77tXJrkZVV+CtYg2YNady8CXN+mFUR3dPGSMSK2zJUWRkHv5klF5NJFCR49trHuPSpa8jKzmLkkHeZMeVHDu93DN999jUT3h7DiCHvcNagC7l9+P0sXbCEhy64G4AZU35k9H8/5Ja37qVgTQHPXPto8VJb5w8eQI06NSlYU8DT1zzK8kXLip+zY2+nKWzuBlx3O6PHf8qCBYvoevgJnHv6ifTpbcXszd24d8fSunM77hvxEKuWr+SB/vcVn7tz6N0M6NUPgEevfrhoWaYcJgwfx/hhhb9knH7j2VTKqcw1z9wAuPzS5iJRkOCZax/jkqeuJis7i/eHvMuMKdM4vN+f+O6zb4qvA2cOupDbht/H0gVLeLjoOgBwx/sPUnWralSqXInW3Tsw6MSbWLJgMRc+NpBKOZUJWYGv/jeR4c++mcZeKplEQYLnr/07fZ+6snA5xiHDmDVlGj37HcWPn01l4ttj+WjIME4YdB5XD7+HZQuW8OQFfwWgZYed6XnJURSsKSAmIkOueoxlC5cCS3nj3ue5cMj1JFavIX/6PJ7t72dBphv37hjadG7L/SMeZuXylTzY/6/F5+4ceg8Del0MwGNXP1S0HGMO40tcA04YeDJNWmxDTETmTp/DI1c+mI5u6BdI1XV/546/50+XHEfB6jUkYuSRKwezZOGSiu+g9AuFVFdy3pynKmjjPTLmznSHoDQ5rm2/dIegNKoZKqc7BKVJzdTMgtRmYnpctuFG2iIFQrpDUBr93/f/2aLfAMvuO7fCfqetfsGDGflvucHiiCGEvUIIo0MIS0IIq0IIBSGERRURnCRJkiRJSq/yfC1wP3AM8H9AO+AkYMdUBiVJkiRJUkZIZO5qBxWlXMsxxhi/BrJjjAUxxr8DPVIbliRJkiRJygTlyThYFkLIASaEEO4AZlLOAQdJkiRJkjZrKa4LuDkozwDAiUXtzgeWAs2AI1IZlCRJkiRJygzlGTg4PMa4Isa4KMZ4Q4zxElyqUZIkSZKk34TyDBycvJ5jp2ziOCRJkiRJyjyJRMVtGSppjYMQwrHAcUDzEMLLJU7VAvJTHZgkSZIkSUq/soojfkhhIcR6wF0lji8GPk1lUJIkSZIkZYSExRGTDhzEGL8Hvg8hHAQsjzEmQgg7AjsBn1VUgJIkSZIkKX3KU+NgBFA1hLAN8CaFqyw8kcqgJEmSJEnKCDFRcVuGKs/AQYgxLqNwCcYHY4xHAb9PbViSJEmSJCkTlFXj4CchhLA3cDxwetGx7NSFJEmSJElShrDGQbkyDi4GrgBejDF+HkJoAQxLaVSSJEmSJCkjbDDjIMb4HvBeCGGrEMJWMcapwIWpD02SJEmSpPSKicytPVBRNphxEELYLYQwHvgc+CKEMDaEYI0DSZIkSZJ+A8pT4+Bh4JIY4zCAEEIn4FFgn9SFJUmSJElSBrDGQblqHNT4adAAIMY4HKiRsogkSZIkSVLGKE/GwdQQwjXA00X7JwBTUxeSJEmSJEkZIlrjoDwZB6cB9YEXgOeBekXHJEmSJEnSFi5pxkEIoSpwDtAS+Ay4NMa4uqICkyRJkiQp7axxUGbGwZNAOwoHDXoCd1ZIRJIkSZIkKWOUVeNglxjjbgAhhMeBURUTkiRJkiRJyhRlDRwUT0uIMa4JIVRAOJIkSZIkZZCExRHLGjjYI4SwqOh2AKoV7QcgxhhrpTw6SZIkSZKUVkkHDmKM2RUZiCRJkiRJGcfiiOVajlGSJEmSJP1GlTVVQZIkSZKk37ZojQMzDiRJkiRJUlJmHEiSJEmSlIw1Dsw4kCRJkiRJyZlxIEmSJElSEjFhjQMzDiRJkiRJUlJmHEiSJEmSlIw1DlI/cLAgsSrVT6EMdlzbfukOQWnyj7F3pzsEpdFHu16W7hCUJtdXyk93CEqj5363Mt0hKE1qntEp3SFISiEzDiRJkiRJSsaMA2scSJIkSZKk5Mw4kCRJkiQpmeiqCmYcSJIkSZKkpBw4kCRJkiRJSTlwIEmSJElSMolYcVs5hBB6hBAmhRC+DiEMTNLm6BDCFyGEz0MI/9jYfwJrHEiSJEmStBkIIWQDDwDdgGnA6BDCyzHGL0q0aQVcAewbY5wfQmiwsc/rwIEkSZIkSUnEzFqOsQPwdYxxKkAI4Z/AYcAXJdqcCTwQY5wPEGOcs7FP6lQFSZIkSZIyQAjhrBDCmBLbWWs12Qb4scT+tKJjJe0I7BhC+CCE8FEIocfGxmXGgSRJkiRJyVRgxkGM8RHgkY18mEpAK6AT0BQYEULYLca44Nc+oBkHkiRJkiRtHqYDzUrsNy06VtI04OUY4+oY47fAZAoHEn41Bw4kSZIkSUomkai4bcNGA61CCM1DCDnAMcDLa7V5icJsA0II9SicujB1Y/4JHDiQJEmSJGkzEGNcA5wPvAF8CQyJMX4eQrgxhHBoUbM3gLwQwhfAMGBAjDFvY57XGgeSJEmSJCWTWasqEGMcCgxd69i1JW5H4JKibZMw40CSJEmSJCVlxoEkSZIkSclkWMZBOphxIEmSJEmSkjLjQJIkSZKkJApLBvy2mXEgSZIkSZKSMuNAkiRJkqRkrHFgxoEkSZIkSUrOgQNJkiRJkpSUUxUkSZIkSUrGqQpmHEiSJEmSpOTMOJAkSZIkKYloxoEZB5IkSZIkKTkzDiRJkiRJSsaMg1+ecRBCyAoh1EpFMJIkSZIkKbOUa+AghPCPEEKtEEINYCLwRQhhQGpDkyRJkiQpzRIVuGWo8mYc7BJjXAQcDrwGNAdOTFVQkiRJkiQpM5S3xkHlEEJlCgcO7o8xrg4hONFDkiRJkrRFc1WF8mccPAx8B9QARoQQtgMWpSooSZIkSZKUGcqVcRBj/Cvw1xKHvg8hdE5NSJIkSZIkZQgzDso3cBBCaAjcCjSJMfYMIewC7A08nsrgMtXpN5xF285tWbl8Jfddei9TJ36zTpsWu+3AhXddTE7VHMYOG8vj1z1S6vyhZx7Oqdeczkl7HM/i+T8nb7TcvRW3v3Qnd51/B/8b+mHK+6Jf5tTrz6RN0Wv/QP97+Xbi1HXatNh1B86760JyqlZh3LCx/P36RwE48cpTaNu1PWtWr2H297N4YMBfWbZoafH96jWpx91v38+Qe/7JK4+8VFFd0iZ29a2DGPHBKHLr1OalZx5KdzjaxOp03pMWN51KyM5i1rPvMO3+l0qdb3RSd5qcejCxIEHB0hV8PeBhlk2eRqU6W7HzY/2puecOzP7XcL658jd5+dxsnXfjuXTs0p6Vy1dyR7+/MGXi1+u0abVbKy67uz9Vqubw8bujeeDaBwHYYZcWXHz7ReRUyaFgTQH3XnUfkyZM4uhzjqLrH7sAkJ2dzbatmtFnj6NZvGBxhfZN5ZPTvgNbnXcBZGWxYuirLPvnP9bbrsr+B7D19TeR3/cs1kyeBNnZ1Ox/GZVb7gjZ2ax46w2WPfdsBUevjfXBlJnc8fo4EonIH9u04LT9dyl1/s7XxzH62zkArFhdQP7SFbx/RR9GfzubO18fX9zuu3mLuP3Ifeiyc9MKjV/aFMo7VeEJ4A2gSdH+ZODiFMST8dp0bkuT7Ztw7gFnM3jgA5x9S9/1tjvnlnN58PL7OfeAs2myfRPadGpbfK5u43rseUBr5kybU+o+WVlZnHTFyUwYMX7th1MGaN25LY2bN+aCA8/h4Sse4Myb1//an3nLOTw08AEuOPAcGjdvzJ6d2gDwycgJXNL9Avr3uIgZ307nj+f2KXW/k685nfHDx6W8H0qtw3t146FBN6c7DKVCVhY73HYGnx93C2MP6Ef9P+5H9R1L//A394WRjOt8KeMPGsC0B/5D8+tPBiCxcjXf//mfTL3h6XREro3QoUt7mjbfhpP2O5VBl9/DRbdduN52F992AYMuu5uT9juVps23oUPn9gCcddWZPH33M5x9cF+euOtJzrrqDACGPPR/nH1wX84+uC+P3/43Pv3oMwcNMlVWFjUvvJgFV1xG/mknU6VLV7K3226dZqFaNaodcSSrv/i8+FiVAzsTKlcm/8xTye97JtX+0Jusho0qMnptpIJEgtuGjuGB4w/khfN68vrEH/hmzsJSbQb0aMOQvj0Y0rcHx3ZsRdeigYH2zRsWH3/05M5UrVyJvXfw9d8suapCuQcO6sUYh1DUlRjjGqAgZVFlsA7d92LY8+8CMHn8JGrUqkGdBnVKtanToA7VtqrO5PGTABj2/Lt0OHiv4vOnXXcGT936d4ilU156nfoH/vfahyzMK/1hpMzQvlsH3nt+GABTxk+mRq0a1F7rta9d9NpPGT8ZgPeeH0aH7h0B+HTkBBIFieL7121c7+fH7t6ROT/O5sfJP1REV5RC7fbcja1r1Ux3GEqBmq1bsuLbWaz4YQ5x9RrmvvQBuQe3L9WmYMny4tvZ1asU304sW8miUV+RWLmqwuLVprFv9314899vAfDluK/YqlYNchvklmqT2yCX6lvV4MtxXwHw5r/fYt+D9wEgxkj1raoDUKNmDfJm563zHJ0P78S7/xmWym5oI1TaaWfWTJ9OYuZMWLOGlcPepco++63Trsapp7Psn/8grirx/zxGQtVqkJVNqFKFuGYNcdnSde6rzDVxej7NcmvSNHcrKlfK5uBdt2X4pOlJ27/22ff02G3dgaW3vviRfVs1plpOeWvTS5mlvAMHS0MIdYEIEELYC/hN/nZbt1Fd8mbOK97Pm5VHbqO6pdrkNqpL3qySbeZRt6hNh24dyZ+Vx3dfflf6Pg1z2evgvXn96ddSF7w2Sm6juuTNKP265jZc67VvWJe8WT//UJg3c933B0Dno7syfvhYAKpWr8rhfY/g/+75Z4oil7QpVGmcy8oSnwGrZuZRpXHuOu0an9qDdh/dT/NrTuSbq5ySsLmr16guc2fMLd6fO3Me9db6XK/XqC5zZ/7cZl6JNg9eP5izrj6T50Y9yznXnMVjt/2t1H2rVK1C+07tGDn0/RT2Qhsju149EnN/zhJNzJ1LVr16pdpUatWKrPoNWPXxR6WOrxwxnLhiOfX+7wXq/WMIy4b8i7jYzJLNyZxFy2lUq3rxfsNa1ZizaPl6285YsJQZC5bSoXmDdc69MfEHeu66bcriVGrFRKywLVOVd+DgEuBlYIcQwgfAU8AFyRqHEM4KIYwJIYz5bsn3myDMLUNO1Sr0Of8onrtr3bltp19/Jk/d9gQxZu6bRZvGEecfRWJNgpEvvgfAUf2O4b+PvcyKZSvSHJmkTWHm319nzF7n8+3Nz7BtvyPTHY7SrPdJvRl8w0Mc2+F4Hrz+Ifr/5ZJS5/futhefj/7CaQqbsxDY6pzzWPLQg+ucqrzTzlCQYN7RRzDvhGOoftTRZDVunIYgVRHemPgDB+3SjOys0r9izV28nK/nLGTvlr722nyVd1WFcSGEA4HfAQGYFGNcXUb7R4BHAP64be/N/jfhnif1otuxBwPw9adTSqWY121Ul/xZpdMO82flUbdRyTb1yJuVR6PtGtGwWUPufr1wgYq6jetx19B7uOzQS9hht1Zcev8AAGrm1qJt57YUrEkw6s3SI9eqWAef1IuDjukGwNeffk3dJqVf1/y1Uk7zZ+cVZ5cA1G1c+v3R6cgutO3ajhuOvab4WKs9d2SvnvtwwhUnU6NWDWKMrF65itefHJqqbkn6FVbOzKdKic+AnMZ1WTkzP2n7uS99QMs/n1kRoWkTO+zk3vQ6rhcAkz6ZRP0m9YvP1W9cj3lrXffnzcqjfuOf29Qr0ab7kd2KCyW+998RXHpnv1L37XyY0xQyXcG8eWTV//kb5Kz69UnM+zn7KFSvTqXmzakz6J7C87m5bH3TrSy85kqqdD2IVaNHQUEBccECVk+cSOUdd2LlzJkV3Q39Sg1qVWPWomXF+7MXLadBrWrrbfv6xO+5ole7dY6/+fkPdN5pGypnl/c7WynzlDlwEEI4IsmpHUMIxBhfSEFMGee1p4by2lOFv8S17dKOXif/gfdfHsGOrX/HssXLmD9nfqn28+fMZ/mSZezY+ndMHj+Jzn268OoTr/DDpO85pc2Jxe0e/uAx+v/hEhbPX8Q5+51RfPyCuy5mzDujHDTIAG88NZQ3il77Nl3a0uPkQ/jg5ZG0ar0jyxYvZcFar/2Cote+VesdmTJ+Mgf26cxrT7wKwJ4Htuawc47guqOvZNWKn+c/XnvUlcW3j7r4GFYsW+GggZSBFk/4mqotGlNl2wasmplP/cP3ZdK595RqU7V5I1Z8OwuA3IPasLzotjYv/3nyFf7z5CsAdOzSgcNPPYxh/xnOzm12YunipeTPKT1glD8nn2VLlrJzm534ctxXdD+yGy/+/SUA8mbnscfeu/PJ/z6l9b57Mv3bGcX3q1GzOrvvtRu3XfDnCuubfrk1X31FpW2aktWoEYl586jSuQuLbrmp+HxcupR5RxxWvF/7rntY8vBg1kyeRKJNGyq3bsOKt9+EqlWpvMsuLHvh/9LRDf1Kv2+Syw95i5k+fwkNalbjjYk/cGufvddp9+3cRSxavoo9mq07RfX1z37gwoN2r4hwlSoZXLSwomwo46B3Geci8JsYOChp7LtjaNu5HYNHPlK4HGP/e4vPDXrtXi7peREAD189uHg5xnHDxjJu2Nh0haxNZNy7Y2nduR33jXiIVctX8kD/+4rP3Tn0bgb0KvwW6dGrHy5ajjGHCcPHMb7otT/9xrOplFOZa565AYDJ4yfz6FWDK74jSqkB193O6PGfsmDBIroefgLnnn4ifXofnO6wtCkUJPjmysfY9bmrCdlZzH7uXZZNmsZ2l/2JxRO+If/NMTQ5rSe1D9iduHoNaxYuZfKFP39OtB/9INlbVSMrpxJ1e3Rg4jE3sWzytDR2SOXx8buj6NilA0+//wQrVqzkzkv+Unzu4TcGc/bBhSvs3HvlfVw2aABVquYwavhoRr07GoBBl93NeTecS3alLFatXM2gy+8pvv9+PfZl7HvjWLHcqWoZLVHA4vvuofaf/0LIymL5a0Mp+P47apxyGqsnfcWq/yVfPnv5Sy9R87KB5D7+BITAitdfo2Dquks5K3NVys5iYK+29H36PRIxwWGtW9CywdY8+O5n7NIkl047bQMUZhv02HU7Qgil7j99/hJmLVpG2+3WrXsgbU5CqufUbwlTFfTrVQqmZP1W/WPs3ekOQWn00a6XpTsEpcn1lRalOwSl0XO/W5nuEJQmNc/olO4QlEbVjr0hbLjV5iv/jwdW2O+0uS++l5H/luVeDySEcAjwe6DqT8dijDemIihJkiRJkpQZyjVwEEJ4CKgOdAYeA44ERqUwLkmSJEmS0s8aB+VejnGfGONJwPwY4w3A3sCOqQtLkiRJkiRlgvJOVVhe9PeyEEITIB9wIVJJkiRJ0hYtmnFQ7oGD/4YQagN3AD8tD/BYSiKSJEmSJEkZo8yBgxBCe+DHGONNRftbAZ8BXwGWTJckSZIkbdnMONhgjYOHgVUAIYQDgNuLji0EHkltaJIkSZIkKd02NFUhO8aYX3T7T8AjMcbngedDCBNSGpkkSZIkSWlmjYMNZxxkhxB+GlzoCrxb4lx56yNIkiRJkqTN1IZ++X8OeC+EMI/ClRVGAoQQWlI4XUGSJEmSpC2XGQdlDxzEGG8JIbxD4dKLb8YYY9GpLOCCVAcnSZIkSZLSa4PTDWKMH63n2OTUhCNJkiRJUuawxsGGaxxIkiRJkqTfMAcOJEmSJElSUq6MIEmSJElSEk5VMONAkiRJkiSVwYwDSZIkSZKSMOPAjANJkiRJklQGMw4kSZIkSUomhnRHkHZmHEiSJEmSpKTMOJAkSZIkKQlrHJhxIEmSJEmSymDGgSRJkiRJScSENQ7MOJAkSZIkSUmZcSBJkiRJUhLWODDjQJIkSZIklcGMA0mSJEmSkojRGgdmHEiSJEmSpKTMOJAkSZIkKQlrHJhxIEmSJEmSyuDAgSRJkiRJSsqpCpIkSZIkJRETFkc040CSJEmSJCVlxoEkSZIkSUnEmO4I0i/lAwdfrZid6qdQBtu7+rbpDkFp8tGul6U7BKXRXhPvSHcISpN6bS9JdwhKo/u/qZ/uEJQme108Kd0hKI16HZvuCJRqZhxIkiRJkpSENQ6scSBJkiRJkspgxoEkSZIkSUmYcWDGgSRJkiRJKoMZB5IkSZIkJeGqCmYcSJIkSZKkMphxIEmSJElSEtY4MONAkiRJkiSVwYwDSZIkSZKSiNGMAzMOJEmSJElSUmYcSJIkSZKUREykO4L0M+NAkiRJkqTNRAihRwhhUgjh6xDCwDLa9QkhxBBCu419TgcOJEmSJEnaDIQQsoEHgJ7ALsCxIYRd1tOuJnAR8PGmeF4HDiRJkiRJSiIRQ4Vt5dAB+DrGODXGuAr4J3DYetrdBPwZWLEp/g0cOJAkSZIkKQOEEM4KIYwpsZ21VpNtgB9L7E8rOlbyMdoAzWKMr26quCyOKEmSJElSEhW5HGOM8RHgkV97/xBCFjAIOGVTxQRmHEiSJEmStLmYDjQrsd+06NhPagK7AsNDCN8BewEvb2yBRDMOJEmSJElKIiYqLuOgHEYDrUIIzSkcMDgGOO6nkzHGhUC9n/ZDCMOB/jHGMRvzpGYcSJIkSZK0GYgxrgHOB94AvgSGxBg/DyHcGEI4NFXPa8aBJEmSJElJxJjuCEqLMQ4Fhq517NokbTttiucsV8ZBCOGFEMIhRYUWJEmSJEnSb0R5BwIepHDexJQQwu0hhN+lMCZJkiRJkjJCTIQK2zJVuQYOYoxvxxiPB9oA3wFvhxA+DCGcGkKonMoAJUmSJElS+pS7xkEIoS5wAnAiMB54FtgPOBnolIrgJEmSJElKp0TM3EyAilKugYMQwovA74Cngd4xxplFp/4VQtioZR0kSZIkSVLmKm/GwaNFlRuLhRCqxBhXxhjbpSAuSZIkSZLSLppxUO7iiDev59j/NmUgkiRJkiQp85SZcRBCaARsA1QLIbQGfhpqqQVUT3FskiRJkiSlVYzpjiD9NjRV4WDgFKApMKjE8cXAlSmKSZIkSZIkZYgyBw5ijE8CT4YQ+sQYn6+gmCRJkiRJUobY0FSFE2KMzwDbhxAuWft8jHHQeu4mSZIkSdIWweUYNzxVoUbR31ut55wzPSRJkiRJ2sJtaKrCw0U3344xflDyXAhh35RFJUmSJElSBnA5xvIvx3hfOY9JkiRJkqQtyIZqHOwN7APUX6vGQS0gO5WBbS6uvOVSDjhoH1YsX8GVF9zIF59NWqfNRVf05bCje1Grdk3aNe9UfHzgjf3osF9bAKpVq0puvTp0bNW1giLXL7XrgXty3LWnErKzGPmvdxg6+KVS5yvlVOKMQRew3a4tWLpgCYPPH0TetLnUqL0V5w7uT/Pdd+CDfw/n2eseL75PvyevonaDOmRlZzN59Jc8c81jxESignumX6pO5z1pcVPhe2HWs+8w7f6XSp1vdFJ3mpx6MLEgQcHSFXw94GGWTZ5GpTpbsfNj/am55w7M/tdwvrny8fU/gTZbV986iBEfjCK3Tm1eeuahdIejFDjl+jNo3bktK5evZHD/v/LtxKnrtGm+6w6ce9eF5FTNYfywsTxx/WMAHH/lybTt2p41q9cw+/tZDB5wH8sWLa3oLmgjtTxwd3pdeyIhO4tx/xrOyMGvlDq/XYed6HntCTTcaVv+74L7+eK1UWmKVJtKvc57sMvNJxOys/jx2XeZet/Lpc43P7sXTY/vQiwoYFXeYj69+CFWTJtH7r67sMuNJxW3q9GyCRPO+SuzXxtT0V3QRnI5xg1nHORQWN+gElCzxLYIODK1oWW+A7ruw3YtmtGjYx+uu/Q2rr3j8vW2G/7mSP508CnrHL/92rs5ossJHNHlBJ55bAhvvTosxRHr1wpZWZxw4xncfcotXN2tHx0P3Y8mLZuWarP/0V1ZunApV3S6gDcf/y9HDTwBgNUrV/PSXf9kyK1Pr/O4g88bxHU9+3NN937UzK1F+0P2rpD+aCNkZbHDbWfw+XG3MPaAftT/435U37H0e2HuCyMZ1/lSxh80gGkP/Ifm158MQGLlar7/8z+ZesO67wVtGQ7v1Y2HBt2c7jCUInt2bkuj5o256MC+PHrFg5x+8znrbXfGLWfzyMAHuOjAvjRq3pg9O7UB4LORn9C/+4Vc1uNiZn47g8PP7VOR4WsTCFmBP9x4Ck+fcgf3d7uM3Q7dm/ottynVZuGMebzY/2E++8+HaYpSm1RW4Pe3n8bo425nxP6X0uSP+7LVjmu95hO/44ODr+T9zpcz65WP2ena4wHI/+AL3u86kPe7DuTjPjdRsHwVc4d/mo5eSButzIGDGON7McYbgL1ijDeU2AbFGKdUUIwZq0vPA/jPkKEAfDJ2IrW2rkn9BnXXaffJ2InMnZNX5mMdckR3hr74Zkri1MZrsWdL5nw/i7k/zqFg9Ro+fuUD9uzevlSb1t3b8+HzwwEYM/R/7LzPbgCsWr6SKWO+YvXKVes87oolywHIrpRNpcqViA5nZryarVuy4ttZrPhhDnH1Gua+9AG5B5d+LxQUva4A2dWrFN9OLFvJolFfkVjPe0FbhnZ77sbWtWqmOwylSPtuHRhR9Dk/ZfxkatSqQe0GdUq1qd2gDtW2qs6U8ZMBGPH8cNp37wjApyMnkChIFN1/EnUbr/szgzJb0z13IP/72cz/cS4Fqwv47JWP2Kl721JtFkybx+yvfvSavoWo3aYly76dxfLv5xBXFzDzpQ9p2KNdqTb5H3xBYnnhtX3B2ClUbZy7zuM06r0Xc9+dUNxOm5dEDBW2Zary1jioEkJ4JITwZgjh3Z+2lEa2GWjYqAGzZswu3p81Yw4NGjf4xY/TpGkjmm7bhI9GmraUqWo3zCV/xrzi/fkz86jTMDdpm0RBguWLl7FVnQ3/AnHJU1dzz9jHWbF0OWOGfrRpA9cmV6VxLitLvBdWzcyjynp+QGh8ag/afXQ/za85kW+uckqCtCWo0yiXvBL///Nm5ZG71rUgt2Eu+bN+/rIgf2YedRqt+xnR+eiDGD98XOqCVUrUbJjLwhk/v76LZuZTq2GdMu6hzV3VRrmsKPGaL5+RT5X1/J/+SdPjOjP33QnrHG98+N7MfNEsFG2+yjtw8H/AeOBqYECJbb1CCGeFEMaEEMYsWD5n46PcwvX6Y3feeOVdEs5t/00adNLN9OtwJpVyKrPzPrumOxxtIjP//jpj9jqfb29+hm37/eZndkkq4Y/nH0nBmgLef/G9dIciaRNq0mc/tt6zBd8+ULruRZUGtam507bMHfZJmiLTxooxVNiWqcosjljCmhjj4PI+aIzxEeARgJ0bdNii8rSOO+1IjjzhcAAmjv+CRk0aFp9r1KQBc2b+8oGSnod346aBd2yqEJUCC2bnk9ukXvF+ncZ1mT87f71t5s/KJys7i2o1q7Nk/uJyPf6alauZ8NZoWndrzxfvO/ctk62cmU+VEu+FnMZ1WTkzP2n7uS99QMs/n1kRoUlKge4n9aTrMd0B+ObTKdQt8f+/bqO65K91LcifnU9uo5+nIOQ2rsv8WT+3OfDILrTp2o6bjr02xZErFRbPzmfrJj+/vrUa57Jo9vw0RqRUWzErn6olXvNqTXJZOWvd637dA3al5cV/5KM/3kBi1ZpS5xoftjezXxtNXFOQ8nilVClvxsErIYRzQwiNQwi5P20pjSxD/eNv/y4uaPjOa+9x2NG9ANij7a4sXrRkg7UM1ta85XZsvXVNJoz+LBXhahP59pOvabh9Y+o1bUB25Up07L0vE94aXarNhLfGsE+fTgC067U3X304sczHrFK9KlvXrw1AVnYWu3dpw8xvpqcifG1Ciyd8TdUWjamybQNC5UrUP3xf8t8s/V6o2rxR8e3cg9qw/NtZFR2mpE3kzade4/Je/bi8Vz9Gv/kxBxR9zrdqvSPLFi9lwZzSvzQumDOf5UuW0ar1jgAc0KcTo98qrKq/x4GtOfScP3LH6beyaoXznDdH0z+ZSu72jajdtD7ZlbPZrfdefPXW2HSHpRRaOP4barRoRLVt6xMqZ9P48H2Y/Ubp17zWrtuz651nMuakO1k1b9E6j9H4j/sw48UPKipkpYA1DsqfcXBy0d8lpydEoMWmDWfz8t7bH3DAQfvwxqgXWLFsBVdedFPxuRfefYYjuhRW1e9/7QUcckR3qlWryrAJr/DvZ1/mgTsfBQqnKQx96a20xK/ySxQkeObax7jkqavJys7i/SHvMmPKNA7v9ye+++wbJrw9hhFD3uHMQRdy2/D7WLpgCQ9fcHfx/e94/0GqblWNSpUr0bp7BwadeBNLFizmwscGUimnMiEr8NX/JjL8WQtkZryCBN9c+Ri7Pnc1ITuL2c+9y7JJ09jusj+xeMI35L85hian9aT2AbsTV69hzcKlTL7wvuK7tx/9INlbVSMrpxJ1e3Rg4jE3sWzytDR2SJvSgOtuZ/T4T1mwYBFdDz+Bc08/kT69D053WNpExr87ltad23LviIdYVbQc40/+PPRuLu/VD4DHr36Yc++6kMpVqzBh+FgmDCv8JeO0G8+iUk5lrn7mBqCwQOJjV7ls5+YkUZDg1Wuf4KSnLicrO4txQ95j7pTpdOnXh+mffcukt8fRZPcWHPtwP6ptXZ3fdW1Nl359uL/7+lfeUuaLBQk+v+LvdPjnlZCdxbTnhrFk0jRaXXYUCz+Zypw3xrLTdcdTqUYV2jx2MQDLp89j7El/AaBas/pUa1KX/A+/TGMvpI0XUl3xdUubqqBfZu/q26Y7BKXJqSvSHYHSaa+JTr/6rTqh7SXpDkFp9LtQI90hKE32Wm4a/m9Zr9n/zNyvyjeBj5ocUWG/0+4144WM/Lcsb8YBIYRdgV2Aqj8dizE+lYqgJEmSJElSZijXwEEI4TqgE4UDB0OBnsD7gAMHkiRJkqQtVibXHqgo5S2OeCTQFZgVYzwV2APYOmVRSZIkSZKkjFDeqQrLY4yJEMKaEEItYA7QLIVxSZIkSZKUdtGMg3IPHIwJIdQGHgXGAkuA/6UqKEmSJEmSlBnKNXAQYzy36OZDIYTXgVoxxk9TF5YkSZIkScoE5S2OeMD6jsUYR2z6kCRJkiRJygyJdAeQAco7VWFAidtVgQ4UTlnosskjkiRJkiRJGaO8UxV6l9wPITQD7klFQJIkSZIkZYqIxRHLuxzj2qYBO2/KQCRJkiRJUuYpb42D+4BYtJsFtAbGpSooSZIkSZIyQSJuuM2Wrrw1Dr4Csotu5wHPxRg/SE1IkiRJkiQpU5Q5cBBCqAzcCZwEfFd0uCFwH/BBCGHPGOOEVAYoSZIkSVK6JKxxsMGMg7uA6sB2McbFACGEWsBfQgiDgR5A89SGKEmSJEmS0mVDAwe9gFYxxuJZHTHGRSGEvsA8oGcqg5MkSZIkKZ1cVWHDqyokSg4a/CTGWADMjTF+lJqwJEmSJElSJtjQwMEXIYST1j4YQjgB+DI1IUmSJEmSlBkSFbhlqg1NVTgPeCGEcBowtuhYO6Aa8MdUBiZJkiRJktKvzIGDGON0oGMIoQvw+6LDQ2OM76Q8MkmSJEmS0swaBxvOOAAgxvgu8G6KY5EkSZIkSRmmXAMHkiRJkiT9FmVy7YGKsqHiiJIkSZIk6TfMgQNJkiRJkpSUUxUkSZIkSUrCqQpmHEiSJEmSpDKYcSBJkiRJUhIux2jGgSRJkiRJKoMZB5IkSZIkJZEw4cCMA0mSJEmSlJwZB5IkSZIkJZGwxoEZB5IkSZIkKTkzDiRJkiRJSiKmO4AMYMaBJEmSJElKyowDSZIkSZKSSKQ7gAyQ8oGDw6u3TPVTKIMt87/Zb9b1lfLTHYLSqF7bS9IdgtLkmbGD0h2C0qhak/3THYLSpEvD3dIdgtKoV7oDUMqZcSBJkiRJUhKJ4KoK1jiQJEmSJElJmXEgSZIkSVISrqpgxoEkSZIkSSqDAweSJEmSJCkppypIkiRJkpSE68SZcSBJkiRJkspgxoEkSZIkSUkkXI3RjANJkiRJkpScGQeSJEmSJCWRwJQDMw4kSZIkSVJSZhxIkiRJkpRETHcAGcCMA0mSJEmSlJQZB5IkSZIkJeGqCmYcSJIkSZKkMphxIEmSJElSEol0B5ABzDiQJEmSJGkzEULoEUKYFEL4OoQwcD3nLwkhfBFC+DSE8E4IYbuNfU4HDiRJkiRJSiJW4LYhIYRs4AGgJ7ALcGwIYZe1mo0H2sUYdwf+DdzxK7pdigMHkiRJkiRtHjoAX8cYp8YYVwH/BA4r2SDGOCzGuKxo9yOg6cY+abkGDkIIT5fnmCRJkiRJW5JEqLgthHBWCGFMie2stcLZBvixxP60omPJnA68trH/BuUtjvj7kjtF6RFtN/bJJUmSJElSoRjjI8Ajm+KxQggnAO2AAzf2scrMOAghXBFCWAzsHkJYVLQtBuYA/9nYJ5ckSZIkSeU2HWhWYr9p0bFSQggHAVcBh8YYV27sk5Y5cBBjvC3GWBO4M8ZYq2irGWOsG2O8YmOfXJIkSZKkTJaowK0cRgOtQgjNQwg5wDHAyyUbhBBaAw9TOGgw51d1ei3lmqoQY7wihLANsF3J+8QYR2yKICRJkiRJUtlijGtCCOcDbwDZwN9ijJ+HEG4ExsQYXwbuBLYC/i+EAPBDjPHQjXnecg0chBBup3Ak4wug4KeYAQcOJEmSJElbrHJmAlSYGONQYOhax64tcfugTf2c5S2O+Efgd5tiboQkSZIkSdp8lHfgYCpQGXDgQJIkSZL0mxFDuiNIv/IOHCwDJoQQ3qHE4EGM8cKURCVJkiRJkjJCeQcOXmatSo2SJEmSJG3pMq3GQTqUd1WFJ1MdiCRJkiRJyjzlXVXhWwpXUSglxthik0ckSZIkSVKGMOOg/FMV2pW4XRU4Csjd9OFIkiRJkqRMklWeRjHGvBLb9BjjPcAhqQ1NkiRJkqT0ihW4ZaryTlVoU2I3i8IMhPJmK0iSJEmSpM1UeX/5v6vE7TXAd8DRmzyaDLfjgbvzh2tPIis7i9H/GsZ7g18pdT47pxJHD+rLNrs2Z9mCJfzj/L+yYNo8sipl0+fPZ9Lk99uTVSmbcS+M5L0HCxep2Pf0nrT/U2dijMye9CP/HvAwa1auTkf3tAE7HbgHR1x7MlnZWXz0r3d5e3DphUaycypxwqDzaLZrc5YuWMKT599L/rS55DatzxVv38WcqTMA+H78FIZc9TgAbQ7dh27nHg4xsnDOfJ6++AGWzl9c0V1TOZ1347l07NKelctXcke/vzBl4tfrtGm1Wysuu7s/Varm8PG7o3ng2gcB2GGXFlx8+0XkVMmhYE0B9151H5MmTOLoc46i6x+7AJCdnc22rZrRZ4+jWbzA90GmOuX6M2jduS0rl69kcP+/8u3Eqeu0ab7rDpx714XkVM1h/LCxPHH9YwAcf+XJtO3anjWr1zD7+1kMHnAfyxYtreguKAWuvnUQIz4YRW6d2rz0zEPpDkcpcPegG+nZowvLli/n9NP7MX7CxHXavPrKMzRq3JBKlbJ5//1RXHDhlSQSCf5829Uc8odurFq1iqlTv+f0My5h4cJFaeiFfolzb+hL+6Lr/l8uuYuv13vdb0n/QZeSU7UKo98dzYPXDQbgygevoFmLpgDUqLUVSxctoW+P86hUuRIX3X4hO+7eikQiMvi6h/j0o08rtF/65RIh3RGkX3mnKnQusXWLMZ4ZY5yU6uAyScgKHHrjqfz9lDu4u9sA9jh0Hxq03KZUm/ZHd2L5wqX8pdMlvP/4a/QceCwAu/XqSHZOZe7tMZD7/3AVHY/rSu2m9ajVsA77nHIw9/e+insPvpyQlcXuvfdOR/e0ASErcNSNp/HwKbdzW7dLaXPovjRc6/Xf++jOLF+4hJs7Xczwx1+l98Djis/lfT+bO3sN5M5eA4sHDbKyszji2pO5/9ib+HPPy5nx5Q/sf/LBFdovlV+HLu1p2nwbTtrvVAZdfg8X3XbhettdfNsFDLrsbk7a71SaNt+GDp3bA3DWVWfy9N3PcPbBfXniric566ozABjy0P9x9sF9Ofvgvjx++9/49KPPHDTIYHt2bkuj5o256MC+PHrFg5x+8znrbXfGLWfzyMAHuOjAvjRq3pg9OxUm7n028hP6d7+Qy3pczMxvZ3D4uX0qMnyl0OG9uvHQoJvTHYZSpGePLrRq2ZyddtmPvn0v54H7b1tvu2OOO4e27bqxx55dqF8/lyOP/AMAb78zgj327EKbtt2YMmUqAy8/vyLD16/QvnN7tmnehFP3P417Lr+XC29d/2t2wa0XcPdl93Lq/qexTfMmtO9UWBru1nNvo2+P8+jb4zzef+193n/tAwB6HtcTgLO79eWK467g7GvOJAR/K1XmK9fAQQhh6xDCoBDCmKLtrhDC1qkOLpM027Mled/PZv6PcyhYXcAnr/yPnbu3LdVm5+7tGPf8SAAmDv2YHfbZtehMJKdaFbKys6hcNYeCVWtYuXg5AFnZ2VSumkNWdhY51XJYPHt+RXZL5bTdni2Z+/0s8ope/3GvfMhu3duVarNr93aMen4EAJ8M/Zgd9/l92Q8aAiEEcqpXAaBqzWos9PXPWPt234c3//0WAF+O+4qtatUgt0HpGrG5DXKpvlUNvhz3FQBv/vst9j14HwBijFTfqjoANWrWIG923jrP0fnwTrz7n2Gp7IY2UvtuHRjx/HAApoyfTI1aNajdoE6pNrUb1KHaVtWZMn4yACOeH0777h0B+HTkBBIFiaL7T6Ju47oVF7xSqt2eu7F1rZrpDkMp0rv3wTz97L8B+HjUOLauvTWNGjVYp93ixUsAqFSpEjk5OcSiCctvvT2CgoICAD76eBzbbNO4YgLXr7ZP97156/l3APhq/FfUqLXVeq/7NbaqzlfjC6/7bz3/DvsUXfdLOvAPBzDsP8MB2K7Vtkz44BMAFuQtZMmiJey4R6sU9kSbQqICt0xVroED4G/AYgqnJxwNLAL+nqqgMlGthnVYOOPnH/QXzcxn64a567RZUNQmUZBgxeJlVK9Tk8+GjmLV8pVcMepBLv/wr4x49FWWL1zKotnzGfnoq1z+4X1cMepBVixezpSRn1Vov1Q+WzfMLX5tARas5/Wv3TCX+aVe/+XUqFP4Q2Rus/oMePU2LvjXtbRov1NhmzUFDLn6cQa+fgc3jhpMw5ZN+ehf71ZQj/RL1WtUl7kz5hbvz505j3qN6q7bZubPbeaVaPPg9YM56+ozeW7Us5xzzVk8dtvfSt23StUqtO/UjpFD309hL7Sx6jTKJW/GvOL9vFl55K71WZDbMJf8WT9/XuTPzKNOo3UXIup89EGMHz4udcFK2mS2adKIaT/OKN6fPm0m2zRptN62Q//7LDOnf8LixUt4/vn/rnP+1FOO4fU3HCTOdHXXuu7PmzmXumtd9+s2qsvcmfPKbLNbx12ZP28+M74rfP9M/WIqe3fbi6zsLBo1a0ir3VpRv3H9FPZE2jTKO3CwQ4zxuhjj1KLtBqBFssYhhLN+yk6YsHjduUC/Nc322IFYkOC2judxx/4Xs/8ZvajTrAFVa9Vgl25tuXP/i7it43lUrl6FPQ/fN93hahNbOGc+1+9zPncecgUv3vQ0J917AVW2qkZWpWz2O6EbdxxyBdd26MuMr34orHegLVLvk3oz+IaHOLbD8Tx4/UP0/8slpc7v3W0vPh/9hdMUfiP+eP6RFKwp4P0X30t3KJI2sV5/OJ6m27ahSpUcunQu/XPdFQMvZM2aNfzjHy+kKTpVtE6HdSrONgB4/V9vMG/WXB549T7Ouf4cvhj7BYlEJn/PLBUqb3HE5SGE/WKM7wOEEPYFlidrHGN8BHgE4Irtj8vkVSXKbdHs+Wzd5OcRxFqNc1k4O3+dNrWb1GXRrHyysrOoWrM6y+YvZo/D+jD5vU9IrClgad4ivh87maa7NydGyP9xDkvzC39R+Pz10WzXdkcmvPRBhfZNG7Zwdj61S7z+tdfz+i+YnU+dJnVZWPz6VysudLhsVWHq4rSJ3zLvh9k0aN6Yn6az5f0wG4AJr/6Pg/oeVgG9UXkddnJveh3XC4BJn0yifpOfvxGo37ge82aVnm4wb1ZeqW8N6pVo0/3IbsWFEt/77wguvbNfqft2PsxpCpmq+0k96XpMdwC++XQKdZvUKz5Xt1Fd8tf6LMifnU9uiW+cchvXZf6sn9sceGQX2nRtx03HXpviyCVtjL7nnMzppx8PwJgxE2jarEnxuW2aNmb6jFlJ77ty5UpefuVNevc+mLffKZzGetKJR3NIr4PodvBvrr74ZqP3yb3pdWwPACZ9MrnUdb9e4/rkrXXdz5uVR/3G9ZK2ycrOYr8e+3JerwuKjyUKEjx0wyPF+3e/OIhpU6dv8r5o03Jop/wZB32BB0II34UQvgPuB9ZfEWoLNe2Tb6i3fSPqNK1PduVs9ui9N1++NbZUmy/fGkubPvsDsGuvjnzz4ecALJiRR4ui+e6Vq1WhWeuWzP1mBgtnzGPb1q2oXDUHgJb7/p45X/vBkYl++OQb6m/fiNyi179N732YuNbrP/GtsXTocwAAe/TqyJSi179Gbk1CVuEoQd1mDai/fSPyfpjNglnzadhqG2rkFk5n+N1+uzPb1z+j/OfJV4oLF37w+od0P7IbADu32Ymli5eSP2etXxjn5LNsyVJ2blM4HaX7kd344M0PAcibnccee+8OQOt992T6tz+nvNaoWZ3d99qND9/4X0V0S7/Qm0+9xuW9+nF5r36MfvNjDujTCYBWrXdk2eKlLJhTujbJgjnzWb5kGa1a7wjAAX06MfqtUQDscWBrDj3nj9xx+q2sWrGqQvsh6ZcZ/NCTtGvfnXbtu/Pyy29w4vFHAtCxQxsWLVzErFlzSrWvUaN6cd2D7OxsevXsyqRJhZm3B3fvRP/+fTn8iFNYvnxFxXZE5fbKk68UFzT88I3/0a1PVwB2ap38ur90yTJ2al143e/WpysfvvnztbzN/q358ZsfmTfr5+kMVapWoWq1KsXnEwUF/DDlh1R3Tdpo5co4iDFOAPYIIdQq2v/NrR+TKEjw8rVPcNpTAwnZWYwZMpw5U6ZzUL8jmf7ZVL58exxjhgzn6EHn0n/4IJYtWMpzF9wHwEdPvcmRd57DxW/eAQHG/t8IZn31IwATX/uY81+9lcSaAmZ+/h2jnnOOeyZKFCR4/tq/0/epKwuXYxwyjFlTptGz31H8+NlUJr49lo+GDOOEQedx9fB7WLZgCU9e8FcAWnbYmZ6XHEXBmgJiIjLkqsdYtnApsJQ37n2eC4dcT2L1GvKnz+PZ/oPT21El9fG7o+jYpQNPv/8EK1as5M5L/lJ87uE3BnP2wX0BuPfK+7hs0ACqVM1h1PDRjHp3NACDLrub8244l+xKWaxauZpBl99TfP/9euzL2PfGscIfJjPe+HfH0rpzW+4d8RCripZj/Mmfh97N5b0KM0kev/phzr3rQipXrcKE4WOZMKxwoPG0G8+iUk5lrn7mBqCwQOJjV7l035ZgwHW3M3r8pyxYsIiuh5/AuaefSJ/erpSzpRj62jv06NGFSV9+wLLlyznjjJ+nm40Z/Sbt2nenRo3qvPjC36lSJYesrCyGD/+Qhx95GoB777mZKlWq8Ppr/wTg44/Hcd75A9PSF5XPqHdH0aFLe554/2+FyzFeOqj43ODXH6Bvj/MAuO+q+xkw6FJyquYwetgYRg8bXdyu06GlpykA1K5Xm1ufuYWYSDBvVh5/vujOCumPNs4WkUK/kUKMG/5nCCHcCtwRY1xQtF8HuDTGePWG7rulTFXQr7PMxJ7frIlr8jfcSFusetnV0x2C0uSZsYM23EhbrGpN9k93CEqTLg13S3cISqM3f3x9i15T8i/bnlBhv9P2/+GZjPy3LO9UhZ4/DRoAxBjnA71SEpEkSZIkSRkiESpuy1TlHTjIDiFU+WknhFANqFJGe0mSJEmStAUo76oKzwLvhBD+XrR/KvBkakKSJEmSJCkzOPm6/MUR/xxC+AQ4qOjQTTHGN1IXliRJkiRJygTlGjgIIdQA3owxvh5C+B3wuxBC5Rjj6tSGJ0mSJElS+ljtv/w1DkYAVUMI2wCvAycCT6QqKEmSJEmSlBnKW+MgxBiXhRBOBwbHGO8IIUxIYVySJEmSJKVdwpyDcmcchBDC3sDxwKtFx7JTE5IkSZIkScoU5c04uBi4Angxxvh5CKEFMCxlUUmSJEmSlAFcVaH8qyq8B7xXYn8qcGGqgpIkSZIkSZmhzIGDEMI9McaLQwivsJ5ikjHGQ1MWmSRJkiRJaWaFgw1nHDxd9PdfUh2IJEmSJEnKPGUOHMQYxxb9/V4IoX7R7bkVEZgkSZIkSUq/Da6qEEK4PoQwD5gETA4hzA0hXJv60CRJkiRJSq9EBW6ZqsyBgxDCJcC+QPsYY26MsQ7QEdg3hNCvIgKUJEmSJEnps6EaBycC3WKM8346EGOcGkI4AXgTuDuVwUmSJEmSlE6JkO4I0m9DUxUqlxw0+ElRnYPKqQlJkiRJkiRlig1lHKz6leckSZIkSdrsJVyQcYMDB3uEEBat53gAqqYgHkmSJEmSlEE2tBxjdkUFIkmSJElSpjHfoBzLMUqSJEmSpN+uDU1VkCRJkiTpNyuR7gAygBkHkiRJkiQpKTMOJEmSJElKwlUVzDiQJEmSJEllMONAkiRJkqQkzDcw40CSJEmSJJXBjANJkiRJkpJwVQUzDiRJkiRJUhkcOJAkSZIkSUk5VUGSJEmSpCRcjtGMA0mSJEmSVAYzDiRJkiRJSsJ8gwoYOJgal6X6KZTBCqxB+pv13O9WpjsEpdH939RPdwhKk2pN9k93CEqj5TNGpjsEpcnENv3SHYKkFDLjQJIkSZKkJPwq1BoHkiRJkiSpDGYcSJIkSZKURLTKgRkHkiRJkiQpOTMOJEmSJElKwhoHZhxIkiRJkqQymHEgSZIkSVISCWscmHEgSZIkSZKSM+NAkiRJkqQkzDcw40CSJEmSJJXBjANJkiRJkpKwxoEZB5IkSZIkqQwOHEiSJEmSpKScqiBJkiRJUhKJdAeQAcw4kCRJkiRJSZlxIEmSJElSEtHiiGYcSJIkSZKk5Mw4kCRJkiQpCWscmHEgSZIkSZLKYMaBJEmSJElJWOPAjANJkiRJklQGBw4kSZIkSUoiUYFbeYQQeoQQJoUQvg4hDFzP+SohhH8Vnf84hLD9r+l3SQ4cSJIkSZK0GQghZAMPAD2BXYBjQwi7rNXsdGB+jLElcDfw5419XgcOJEmSJElKIhFjhW3l0AH4OsY4Nca4CvgncNhabQ4Dniy6/W+gawghbMy/gQMHkiRJkiRlgBDCWSGEMSW2s9Zqsg3wY4n9aUXH1tsmxrgGWAjU3Zi4XFVBkiRJkqQkKnJNhRjjI8AjFfiU5WLGgSRJkiRJm4fpQLMS+02Ljq23TQihErA1kLcxT+rAgSRJkiRJSSSIFbaVw2igVQiheQghBzgGeHmtNi8DJxfdPhJ4N8byFVBIplwDByGEd8pzTJIkSZIkpUZRzYLzgTeAL4EhMcbPQwg3hhAOLWr2OFA3hPA1cAmwzpKNv1SZNQ5CCFWB6kC9EEId4KdKjLVYtwCDJEmSJElKoRjjUGDoWseuLXF7BXDUpnzODRVHPBu4GGgCjCtxfBFw/6YMRJIkSZKkTBMrtDxiZipz4CDGeC9wbwjhghjjfRUUkyRJkiRJyhAbmqrQJcb4LjA9hHDE2udjjC+kLDJJkiRJktIske4AMsCGpiocALwL9F7PuQg4cCBJkiRJ0hZsQwMH84v+fjzG+H6qg9kcnHL9GbTu3JaVy1cyuP9f+Xbi1HXaNN91B86960JyquYwfthYnrj+MQD26rUPR/Y7hm1aNuWqQwcw9bNvAMiuXImzbu1Li91bEhMJnrjhcb74aGKF9ku/3GnXn0nrzu1YtXwl9/e/Z73vhRa77sB5d11ETtUqjB82hr9d/ygAx1x6PO27dSSRSLAobyH3X3ov8+fkV3QX9CvltO/AVuddAFlZrBj6Ksv++Y/1tquy/wFsff1N5Pc9izWTJ0F2NjX7X0blljtCdjYr3nqDZc89W8HRa1NpeeDu9Lr2REJ2FuP+NZyRg18pdX67DjvR89oTaLjTtvzfBffzxWuj0hSpNqW7B91Izx5dWLZ8Oaef3o/xE9a9Xr/6yjM0atyQSpWyef/9UVxw4ZUkEgn+fNvVHPKHbqxatYqpU7/n9DMuYeHCRWnohTa1q28dxIgPRpFbpzYvPfNQusPRJlbzwNY0vf5MQnYWef98i9kPPl/qfN0TelD/pJ7EggSJZSv4ceCDrJjyIzlNG7Dzu/ez4pvpACwbP5kfrxycji5oI5VzmcQt2oaWYzy16O+/pjqQzcGendvSqHljLjqwL49e8SCn33zOetudccvZPDLwAS46sC+Nmjdmz05tAPhx8g/cdfbtfPnxF6Xadz22GwADDr6Im0+4nhOvPpUQwjqPq8zRunNbGjdvwgUHns1DVzzAWTf3XW+7M2/py0MDH+CCA8+mcfMmtC56L/zn4Re4tMeFDOh1MWPfGc1RF/2pIsPXxsjKouaFF7PgisvIP+1kqnTpSvZ2263TLFSrRrUjjmT1F58XH6tyYGdC5crkn3kq+X3PpNofepPVsFFFRq9NJGQF/nDjKTx9yh3c3+0ydjt0b+q3LL3Y0MIZ83ix/8N89p8P0xSlNrWePbrQqmVzdtplP/r2vZwH7r9tve2OOe4c2rbrxh57dqF+/VyOPPIPALz9zgj22LMLbdp2Y8qUqQy8/PyKDF8pdHivbjw06OZ0h6FUyMqi2c1n883JN/Bl1/Opc+j+VG3VrFST+S+9x1fdL2JSz37MfuhFtrnmtOJzK7+fxaSe/ZjUs5+DBtqsbWjg4MsQwhTgdyGET0tsn4UQPq2IADNJ+24dGPH8cACmjJ9MjVo1qN2gTqk2tRvUodpW1ZkyfjIAI54fTvvuHQGY/vU0Zk6dsc7jNm3VjIkffgbAoryFLF20lBa7t0xhT7Sx2nfryPDnhwEwZfwkqid5L1TfqjpTxk8CYPjzw2jffS8Ali9ZXtyuSvWqRAcxNxuVdtqZNdOnk5g5E9asYeWwd6myz37rtKtx6uks++c/iKtW/XwwRkLVapCVTahShbhmDXHZ0gqMXptK0z13IP/72cz/cS4Fqwv47JWP2Kl721JtFkybx+yvfiT6H3yL0bv3wTz97L8B+HjUOLauvTWNGjVYp93ixUsAqFSpEjk5OcWf8W+9PYKCggIAPvp4HNts07hiAlfKtdtzN7auVTPdYSgFqu/ZipXfzWLVD7OJq9cw/5WRbN29Q6k2iRI/12VXq4I/2G15YgX+yVRlDhzEGI8F9ge+prDOwU/bH1h/3YMtWp1GueTNmFe8nzcrj9yGuaXa5DbMJX9WXvF+/sw86jQq3WZt33/xHe26tScrO4v6zRrQYtcdqNuk3qYNXptU3UZ1yZsxt3g/f1YedRvWLd2mYV3yZv38fsmfOY+6jX5uc+yAE3jof4+z/+EH8q9BpqtvLrLr1SMxd07xfmLuXLLqlf7/WqlVK7LqN2DVxx+VOr5yxHDiiuXU+78XqPePISwb8i/i4sUVErc2rZoNc1k44+fP+kUz86nVsE4Z99CWYJsmjZj2489fAEyfNpNtmqw/a2jof59l5vRPWLx4Cc8//991zp96yjG8/sawlMUqadPIaVSXVSV+/l81M4/Ka/3MB1DvpF7sMvIhmlx5CtOue/Tn+zdryO+G3k3LIbdQo8MuFRKzlAobyjggxjgrxrgHMBOoWbTNiDF+n+w+IYSzQghjQghjvlny3SYLdks1bMjb5M3M47ZX7uLka09n8rivSBRYu3NL99ydz3DO3qcz8qX36HHyIekOR5tKCGx1znkseejBdU5V3mlnKEgw7+gjmHfCMVQ/6miyGvuNo7Ql6vWH42m6bRuqVMmhS+d9S527YuCFrFmzhn/8wxrT0pZi3lND+WL/c5hx25M0vPBoAFbPyefzvc5gUq9+TL/pb2z/10vJ2qpamiPVr5GowC1Tbag4IgAhhAOBp4DvgAA0CyGcHGMcsb72McZHgEcA/rTd4Zmbb1EO3U/qSddjugPwzadTSmUC1G1Ul/zZpQva5c/OJ7fEt8q5jesyf1bZRe8SBQmeuulvxfs3vnA7M7+dvinC1ybU46Rea70X6gNfApDbqC55s/NKtc+bnUfdRj+/X3Ib1yNvVuk2ACNfGs6VT1zHkLufS13w2mQK5s0jq/7PqclZ9euTmPfzNxGhenUqNW9OnUH3FJ7PzWXrm25l4TVXUqXrQawaPQoKCogLFrB64kQq77gTK2fOrOhuaCMtnp3P1k1+/qyv1TiXRbPnl3EPba76nnMyp59+PABjxkygabMmxee2adqY6TNmJb3vypUrefmVN+nd+2DefmckACedeDSH9DqIbgcfndrAJW0Sq2blkVPi5/+cxnVZPXvdn+d+Mv/lkTS75Rx+AOKqNRSsKswsXP7ZN6z8fiZVWmzD8k+/TnXY0ia3wYyDIoOA7jHGA2OMBwAHA3enLqzM8eZTr3F5r35c3qsfo9/8mAP6dAKgVesdWbZ4KQvmlP5BccGc+SxfsoxWrXcE4IA+nRj9VtmVtHOq5lClWhUAdttvDxJrCpg+Zdqm74w2yutPDWVAr4sZ0OtiRr35MZ36dAagVevfsWzxsvW+F5YtWUar1r8DoFOfzox+62MAGm3/87fM7bt3ZPo3vt6bizVffUWlbZqS1agRVKpElc5dWPnhB8Xn49KlzDviMPKOP4a8449h9RdfsPCaK1kzeRKJObOp3LqwQCZVq1J5l11Y82PS5C1lsOmfTCV3+0bUblqf7MrZ7NZ7L756a2y6w1IKDH7oSdq170679t15+eU3OPH4IwHo2KENixYuYtasOaXa16hRvbjuQXZ2Nr16dmXSpMJfEg7u3on+/fty+BGnsHz5iortiKRfZdknU6jSvDE5zRoQKleiTu/9WbjWz/ZVSvxcV6trO1Z+V/iFQKXcWpBV+OtWzrYNqdK8Cau+Tz7YqMwVY6ywLVOVK+MAqBxjnPTTToxxcgihcopiyljj3x1L685tuXfEQ6wqWo7xJ38eejeX9+oHwONXP8y5d11I5apVmDB8LBOGFf4w2f7gjpx6w5nUyt2ay/9+Dd9/8S23nnQDW9erzZVPXUeMCfJn5XN/v3vS0T39AuPeHUObzm25f8TDrFy+kgdLvBfuHHoPA3pdDMBjVz9UtBxjDuOHj2N80XvhhIEn06TFNsREZO70OTxy5bpp7cpQiQIW33cPtf/8F0JWFstfG0rB999R45TTWD3pK1b9L3kF/eUvvUTNywaS+/gTEAIrXn+NgqnrLuOpzJcoSPDqtU9w0lOXk5Wdxbgh7zF3ynS69OvD9M++ZdLb42iyewuOfbgf1bauzu+6tqZLvz7c3/3ydIeujTD0tXfo0aMLk778gGXLl3PGGZcUnxsz+k3ate9OjRrVefGFv1OlSg5ZWVkMH/4hDz/yNAD33nMzVapU4fXX/gnAxx+P47zzB6alL9q0Blx3O6PHf8qCBYvoevgJnHv6ifTpfXC6w9KmUJBg2jWPsMPT1xcux/ivd1gx+UcaXXIcyz77mkVvjaLeKYdQc789iKvXULBwKd9fcg8ANTr+nsaXHkdcvQYSkR+vHEzBwiXp7Y/0K4XyjGqEEP4OFADPFB06HsiOMZ6W/F6FNvepCto4BRk9U0ep9GDLhekOQWl0/zdN0x2C0uTWGcPTHYLSaPmMkekOQWkysU2/dIegNGr9w3+26LXkD9v2DxX2O+1/fvhvRv5bljfj4BzgPODCov2RgF+RSpIkSZK0hdvgwEEIIRv4JMa4E4W1DiRJkiRJ+k0wh7p8yzEWAJNCCNtWQDySJEmSJCmDlHeqQh3g8xDCKGDpTwdjjIemJCpJkiRJkpQRyjtwcE1Ko5AkSZIkKQNFrPdf5sBBCKEqhYURWwKfAY/HGNdURGCSJEmSJCn9NpRx8CSwmsJVFHoCuwAXpTooSZIkSZIyQcKMgw0OHOwSY9wNIITwODAq9SFJkiRJkqRMsaGBg9U/3YgxrgkhpDgcSZIkSZIyR4xmHGxo4GCPEMKiotsBqFa0H4AYY6yV0ugkSZIkSVJalTlwEGPMrqhAJEmSJEnKNIl0B5ABstIdgCRJkiRJylwbmqogSZIkSdJvVnRVBTMOJEmSJElScmYcSJIkSZKURMKMAzMOJEmSJElScmYcSJIkSZKURIxmHJhxIEmSJEmSkjLjQJIkSZKkJKxxYMaBJEmSJEkqgxkHkiRJkiQlEc04MONAkiRJkiQl58CBJEmSJElKyqkKkiRJkiQlkXA5RjMOJEmSJElScmYcSJIkSZKUhPkGZhxIkiRJkqQymHEgSZIkSVISCXMOzDiQJEmSJEnJmXEgSZIkSVISZhyYcSBJkiRJkspgxoEkSZIkSUnEaMaBGQeSJEmSJCkpMw4kSZIkSUrCGgcVMHCwKhak+imUwSoFk1p+q2qe0SndISiN9rp4UrpDUJp0abhbukNQGk1s0y/dIShNdh13d7pDkJRCZhxIkiRJkpRENOPAGgeSJEmSJCk5Mw4kSZIkSUrCVRXMOJAkSZIkSWVw4ECSJEmSJCW1wYGDEMJF5TkmSZIkSdKWJkGssC1TlSfj4OT1HDtlE8chSZIkSZIyUNLiiCGEY4HjgOYhhJdLnKoF5Kc6MEmSJEmS0s3iiGWvqvAhMBOoB9xV4vhi4NNUBiVJkiRJkjJD0oGDGOP3wPchhIOA5THGRAhhR2An4LOKClCSJEmSpHTJ5NoDFaU8NQ5GAFVDCNsAbwInAk+kMihJkiRJkpQZyjNwEGKMy4AjgAdjjEcBv09tWJIkSZIkpV+swD+ZqlwDByGEvYHjgVeLjmWnLiRJkiRJkpQpyiqO+JOLgSuAF2OMn4cQWgDDUhqVJEmSJEkZIOGqChseOIgxvge8F0LYKoSwVYxxKnBh6kOTJEmSJEnptsGBgxDCbsBTQG7hbpgLnBRj/DzVwUmSJEmSlE6ZXHugopSnxsHDwCUxxu1ijNsClwKPpjYsSZIkSZKUCcpT46BGjLG4pkGMcXgIoUYKY5IkSZIkKSNY46B8AwdTQwjXAE8X7Z8ATE1dSJIkSZIkKVOUZ6rCaUB94AXgeaBe0TFJkiRJkrZosQL/ZKqkGQchhKpAzRjjXEqsohBCaAAsr4DYJEmSJElSmpWVcfBXYP/1HN8XuDs14UiSJEmSpExSVo2DtjHGs9Y+GGN8MYRwcwpjkiRJkiQpI1gcseyMg+q/8n6SJEmSJGkLUdYAwJwQQoe1D4YQ2gNzUxeSJEmSJEmZweKIZU9VGAAMCSE8AYwtOtYOOAk4JsVxSZIkSZKkDJA04yDGOAroAATglKItAB1jjB9XRHCSJEmSJKVTIsYK2zZGCCE3hPBWCGFK0d911tNmzxDC/0IIn4cQPg0h/Kk8j11WxgExxjnAdb8ybkmSJEmSVDEGAu/EGG8PIQws2r98rTbLgJNijFNCCE2AsSGEN2KMC8p64DIHDiRJkiRJ+i3L5NoDazkM6FR0+0lgOGsNHMQYJ5e4PSOEMAeoDywo64FdHUGSJEmSpAwQQjgrhDCmxHbWL7h7wxjjzKLbs4CGG3iuDkAO8M2GHtiMA0mSJEmSkogxUYHPFR8BHkl2PoTwNtBoPaeuWutxYgghaapECKEx8DRwcixHBzc4cBBCeAXWyc1YCIwBHo4xrtjQY0iSJEmSpI0TYzwo2bkQwuwQQuMY48yigYE5SdrVAl4FrooxflSe5y3PVIWpwBLg0aJtEbAY2LFoX5IkSZKkLVKCWGHbRnoZOLno9snAf9ZuEELIAV4Enoox/ru8D1yeqQr7xBjbl9h/JYQwOsbYPoTweXmfSJIkSZIkpcztwJAQwunA98DRACGEdsA5McYzio4dANQNIZxSdL9TYowTynrg8gwcbBVC2DbG+EPRk24LbFV0btUv7Mhm7/QbzqJt57asXL6S+y69l6kT160j0WK3HbjwrovJqZrD2GFjefy6wikqx156PB26dyQmIgvzFvLXS+9h/ux8amxdg/PvvIhG2zVi9crV3N//Xn6Y/ENFd03lcOr1Z9Km6PV/oP+9fDtx6jptWuy6A+fddSE5VaswbthY/n59YWLOiVeeQtuu7Vmzeg2zv5/FAwP+yrJFS6nftAH3vHM/M76ZDsDk8ZN59KrBFdov/TIfTJnJHa+PI5GI/LFNC07bf5dS5+98fRyjvy3MDFuxuoD8pSt4/4o+jP52Nne+Pr643XfzFnH7kfvQZeemFRq/fr16nfdgl5tPJmRn8eOz7zL1vpdLnW9+di+aHt+FWFDAqrzF/9/efcdHVaV/HP88dEQDJrRQVJS2ikpXbICKAoplsawNcXdVsKDYl1XRXXFxdVERAdn9qaD+rFiWFUV+UsTC0qUpIEiRTmgCoSXP7497ExKSSSYkkwnk++bFK5l7z8w9N2fmnjPPfe65zL13OLt/2UTi2Sdz8l96ZJar0rAOc3oNZv1nM4p7F+QQ3PFkb9qc34Y9qXt47r5/8NP8n3KUaXRqQx4YdD8VKlVk+oTpDO0fHMf7Df0T9U8MPuNVEo5m5/Yd9O58J+XKl+OegX1ofFoj0tOdYf2HM3fq3GLdL4neMe1bUO+JW7GyZUh5Zzzrh47Otj7pxs7U6NEFT0snfdduVj0ylN1LVlGhXk1+M2EIu8M+ftfsxazqpz7+SPLo04P46ptpJB5bjY/fHB7v6kiMuB8ed1Vw9xTgglyWzwD+GP7+JvBmQV87msDB/cDXZrYUMKABcIeZVSG4xUOp0bJjK+qcUIc7zrudxi2acPuA3jx8+QM5yvUacAdDHx7C4tmLeGzkE7Ts0IpZk2by8Ssf8vY/3gLgklu6ce09v2N4v6Fcdec1/LxwGc/c9jR1T6rHbU/1ov91jxb37kk+WnRsRXKDZO5u34tGLRpz61O96XfFgznK3TqgF8MfeZklsxfTb+TjNO/QkjmTZvH9lDm89cwo0tPSueGRHlx5R3feGjgKgHUr1vFg177FvUtyCNLS0/nb2BkMv6kjtRIqc8M/x9O+SV1Oqlk1s8yDnVtm/v72fxfz49otALRpUIv3encGYNuuPXQb/CntTsptbhspkcoYpwz8PdOuGcDuNSmcPe5pNoybyY7FqzOLbJu/nBUX9yM9dS/H3dyJpo/fwJzbXmTzNwv5+oJHAChfrQrtp77Ixkn6kng4aNOxDXUb1OGWc39P0xZN6fP0XfS57N4c5e5++m6ef+hFfpz9IwNG/ZU2HVozfdIMnr7jb5llbnvsVnZu3wlAl+u7AHB7p95US6rKgFFPcdelfQ6bwWmpUqYM9Z+6nZ9u6M++tSk0GfMc28ZPY/eSVZlFtnw8mZQ3PwcgoVNb6j72e5b2eBKAPSvWsaiL+vgj1RVdO3F998vo99fn4l0VkZjKd44Ddx8LNALuBe4Bmrj7p+6+091fiG31Spa2F53JxNETAFg8exFVEqpwbM1js5U5tuaxVD76KBbPXgTAxNETaHvxmQCk7kjNLFfxqIqZg4N6jeoz79tgALl66S/UrFeTqtWrxXp3pIDadGrL5NETAVgyezFVEqpQ7aD2rxa2/5LZwe1RJ4+eSNuLzgBg7pQ5pKelZz4/Kbl6MdZeisr81Zupn3gM9RKPpny5slzc7DgmLVodsfxn81bQ+dTjcywfv3AVZzdKpnIF3dzmcFGtZUN2/byO1BUb8H1prP34W2p1bp2tzOZvFpKeGiTjbZ25hErJiTlep3a3M9k4YU5mOSnZzrqoHeNHfwnAj7N/pErC0STWzN6uiTUTqXL0Ufw4+0cAxo/+krMuPivHa7W/9DwmfjIJgOMbHcecb74HYGvKNnZs30Hj0xvFcE/kUB3VvBF7lq9j78r1+L79bBkzhaoXtc1WJj3LGK9s5YqgAFCp0br5qVRNOCbe1ZAYO4zmOIiZaCZHBGgFnAKcDlxjZj3yKX9ESqqdRMraTZmPU9alkFg7KVuZxNpJpKzLWmYTSVnK3PDgTfxz6qu0v6JDZvbB8h9+5szOwQCj0emNqFG3JknJ2V9X4i+xdhIpa7K3bWKtg9q/VhIp61IOlFmb8z0C0PGaC5g9aWbm45r1a/H3sc/z5LsDaNrm5BzlpeTYsD2V2glHZT6ulVCZDdtTcy27ZutO1mzdSdsGNXOsGzd/JV2aHRezekrRq1Q7kd1rDny+U9dspmLtnIGBDPWu78jGCXNyLE++oh1rP/o2FlWUGEiqncTGNRszH29auzFbv55ZJsv4ILcyp57RjC2btrBm+RoAli1cRrtOZ1KmbBlq169Fo1MbUSO5Rgz3RA5VhdpJ7M3S/+9dm0L5Wjn79uo9unLylOHU6deTX/ofmD+8Qv1aNBn7PA3fG0CVturjReTwlG/gwMzeAJ4DzgHahP9b5/Oc28xshpnNWL5jRZFU9Ejx1rNvcOuZv2fyx5Po2vNSAD4c+gFVEqow6LMX6XpLN5YtWJZ5ZlqOPL+962rS96cz5aPJAGzZsJne7f7IQ137MvKvr3LP4PupfHTlONdSisK4+Su58OT6lC2T/VC78ddUftqwjXYNk+NUM4m1Ot3PoWrzE/n55THZllesWY1jmh7Hxonfx6lmEi8dLu+QmW0A8Pm749i0biMvf/oSvZ7oxcKZC0lPV99/ONs0aiwLz+3Fmr+NpFafawDYt2EzC878I4u69mX1X1/lhMH3U0Z9vIgchqLJkW0NnOwFuOjO3UcAIwCuPK5byc23iEKXHl3pdN3FAPw0d0m29PKk2klsznJ2GWDzuhSSamctUz3bGegMX300mcdG9uedQf9L6o5UhjzwYua6V775F+tXrivqXZFDcHGPrlz4u04A/DT3J5LqZG/bzesPav/1KdnOMiUlZ3+PdLjqfFpd0Jonr3ssc9n+vfvZsfdXAJbNX8r6FWtJblCXZfNyTr4l8VczoTLrtu/KfLx+eyo1E3IfBH4+fwV/6pozzvrFgpV0bFqX8mWjTfqSkmD3us1UqnPg8125TiJ71m3OUS7pvGY0vPdKpl75JOl792dbl3x5O9Z/Nh3fnxbz+sqh63ZzN7peF8xHsuj7xdSocyAToHpyjRz9esq6FGpkGR8cXKZM2TKc0/ls7ux6d+ay9LR0hj85IvPx8x8N4pdlkS97kvjZuy6FCln6/wrJSexbn3Nsl2HLv6dQf0AvVgK+dz9pYR+fOm8pe1aspeKJdUmdqz5e5HCi+Weiu1RhPlBqZ+/6bNRY7utyD/d1uYf/jptKx+7nA9C4RRN2/bqLLRu2ZCu/ZcMWUnfsonGLJgB07H4+076YCkDyCQfOLra96Ax+WfoLAEclVKFc+SCG0+m6i1gwbUG2+RAkfsaNGsuDXfvyYNe+TP9iKu27dwSgUYvG7Pp1J1sPav+tYfs3atEYgPbdOzJ9/DQAmrdvweW9fsszfxjA3t0Hrm1OSEygTHhGumb9WiQ3qMMGBY5KrFPqJLIy5VdWb9nBvv1pjJu/kvZN6uYo9/PG7WxP3cvp9XOms34+byVdcpn3QEq2bbOXUuXE2lQ+rgZWvizJV5zF+nEzs5VJaHYCzZ69lRk9nmXvpu05XiP5yrNY89E3xVVlOURjRo6hd+c76d35Tr4d9x2dugcTVDdt0ZSdv+5k84bsAaPNGzazc8cumrZoCkCn7hfw7RffZa5veW4LVi1dxaYslzJWrFSRSpUrZq5PT0tj5RLdUakk2vX9Eio2SKZC/ZpY+XIc2+1ctoV9e4aKWcZ4CRe0Zs/ytQCUS0yAsI+vcFwtKjaow94V6uNF5PATTcZBdWChmU0D9mQsdPfLYlarEmrmhBm06tiaYVNGBLdjzJIlMOizF7mvyz0AvPLosMzbMc6aOJNZE4OB5U2P9KTuSXVJT09n4+qNDP/TywDUb1iPPoP64u6sWrySIQ8NLv6dk3zNmjCTFh1b89JXw9mbuoeXH3gpc92zY5/PvCvCPx99JbwdYwXmTJrF7LD9//CX2ylXoTyPvRnMspxx28XfnHEK1953PWn79pPuzoh+w9ixbUfx76BEpVzZMjzStRW935hMuqdzeYsTaVizKkMnzOPkOol0aBoEET6fv4LOzY7HzLI9f/WWHazbvotWx+ec90BKNk9LZ8GfXqPtO/2gbBl+eXsiOxb9QqOHrmbb98vYMG4mTfvfQLkqFWn5r3sBSF29iZk9gpm2K9evQeU6SWz+9oc47oUU1LQJ02h7fhte//rV4HaM9w/KXDfs85fp3flOAF768xAeHHQ/FSpVYPrEGUyfOD2zXIfLsl+mAFCtejWefnMAnp7OpnUpPHPPs8WyP3II0tL55bERnPTGE8HtGN/9kt2LV1H7vuvZNe8nto+fRvWel3DMOafj+/aTtm0nK+57AYAqZ5xC8v3X4/v2Q7qzqt8w0tTHH1Ee7D+Q6bPnsnXrdi644kbu+MNNdO92cbyrJUUsXRkHWH5pF2bWPrfl7j45mg0c7pcqSOGUM6Vil1ajBjaPdxUkjibeuyjeVZA4eaHC1nhXQeLoGasY7ypInDSb9Xy8qyBxVL76iZZ/qcNXcrWTi+077dqtC0vk3zLfjINoAwQiIiIiIiIiRxovwbdJLC4RAwdm9rW7n2Nmv0K2v5QB7u4JMa+diIiIiIiIiMRVxMCBu58T/jym+KojIiIiIiIiUnLorgrRTY6ImbUEziHIPPja3WfHtFYiIiIiIiIiUiLkO3OdmT0OjASSCO6w8LqZPRrriomIiIiIiIjEWzpebP9LqmgyDm4ATnf33QBmNhCYAzwVw3qJiIiIiIiISAkQTeBgDVAJ2B0+rgisjlmNREREREREREoIzXEQXeBgG7DAzMYTzHHQCZhmZoMB3L1PDOsnIiIiIiIiInEUTeDgo/B/hkmxqYqIiIiIiIhIyZKujIP8AwfuPtLMKgBNCTIOFrn73pjXTERERERERETiLt/AgZl1BV4BlgIGNDCz2939s1hXTkRERERERCSeNMdBdJcqDAI6uvtPAGZ2EvApoMCBiIiIiIiIyBGuTBRlfs0IGoSWAb/GqD4iIiIiIiIiUoJEk3Eww8zGAu8RzHFwNTDdzH4L4O4fxrB+IiIiIiIiInGTji5ViCZwUAlYD7QPH28EKgPdCAIJChyIiIiIiIiIHKGiuavCLcVREREREREREZGSRpMj5hE4MLOH3P3vZvYS5MzNcPc+Ma2ZiIiIiIiIiMRdXhkHP4Q/ZxRHRURERERERERKmnRlHEQOHLj7mPDnyOKrjoiIiIiIiIiUJPnOcWBmjYEHgBOylnf382NXLREREREREZH4c91VIaq7KrwPDAf+BaTFtjoiIiIiIiIiUpJEEzjY7+7DYl4TERERERERkRJGcxzkfVeFxPDXMWZ2B/ARsCdjvbtvjnHdRERERERERCTO8so4mElwG0YLHz+YZZ0DJ8aqUiIiIiIiIiIlgSvjIM+7KjQozoqIiIiIiIiISMlTJtIKM2tjZrWzPO5hZp+Y2eAslzGIiIiIiIiIHLG8GP+VVBEDB8ArwF4AMzsPGAiMArYBI2JfNRERERERERGJt7zmOCibZQLEa4ER7j4aGG1mc2JeMxEREREREZE40xwHeWcclDWzjMDCBcCELOuiuY2jiIiIiIiIiBzm8goAvA1MNrNNQCowBcDMGhJcriAiIiIiIiIiR7i87qowwMy+BJKBL/xAfkYZ4O7iqJyIiIiIiIhIPOlShXwuOXD3qbksWxy76oiIiIiIiIhISaK5CkREREREREQiUL5B3pMjioiIiIiIiEgpZ7peI7bM7DZ3HxHvekh8qP1LL7V96ab2L73U9qWb2r/0UtvLkU4ZB7F3W7wrIHGl9i+91Palm9q/9FLbl25q/9JLbS9HNAUORERERERERCQiBQ5EREREREREJCIFDmJP1zqVbmr/0kttX7qp/UsvtX3ppvYvvdT2ckTT5IgiIiIiIiIiEpEyDkREREREREQkIgUORERERERERCQiBQ7yYWZpZjbHzOab2Rgzq1aEr93TzIaEvz9hZqvDbS0xsw/N7OSi2pbkaMv3zeyoAj7/BDO7Pspy8yOsa2xmY8M2nmVm75lZrQLUYZKZtS5IvaVomNmfzWyBmc0N30dn5FH2dTO7qjjrJ4VjZvXM7JPws7nMzIaYWcUi3kYHMzsry+NeZtYj/L2nmdUpyu1J/rL0CwvM7Hszu9/MyoTrWpvZ4DjXr188ty9FMnZ4O+w3+prZX8zswnD5vQV9LYksUh9tZsvNrHou5S8zs0cKsb1vC1Pfg16rrZl9ZWaLzGy2mf0rVmNUkcJQ4CB/qe7e3N2bAZuBO2O4refDbTUC3gUmmFmNGG6vtMnalnuBXgV8/gnAIR+UzawS8CkwzN0buXtLYCigNi7hzKwdcCnQ0t1PAy4EVsW3VlJUzMyAD4GPw+NvI6Ay8Pci3lQHIDNw4O7D3X1U+LAnoMBB8cvoF04BOgFdgP4A7j7D3fvEtXagwEH85Tl2MLNykZ5oZrWBNu5+mrs/7+6Pu/v/havvBRQ4KAKH0ke7+7/dfeChbtPdz8q/VP7Ck0fvAw+7exN3bwF8DhxTwJc6gUKMUUWiocBBwXwH1AUws+ZmNjWMbH5kZseaWU0zmxmuP93M3MyOCx8vLUj00N3fBb5AB4FYmQI0NLNEM/s4bMepZnYagJm1DyPWc8Lo7zHAQODccFnfMLo7JcwcmJX1TGIE1wPfufuYjAXuPsnd55tZJTN7zczmhdvrGNajspm9Y2Y/mNlHBF9mCNddZGbfhdt+38yOLuo/kmRKBja5+x4Ad9/k7mvM7HEzmx6eiRoRfgHNxsxamdlkM5tpZuPMLDlc3sfMFobvvXeKeX8ku/OB3e7+GoC7pwF9gR5mdpeFmWEAZvYfM+sQ/j7MzGaEZ7mezFJmuZk9GX4255lZUzM7geALR9/wGHKuBZlmD1iQndIaeCtcd4mZfZzl9TqFn3+JIXffANwG3GWBDmb2H4jYJ2BmD4dt/L2ZDQyX5RgfhMszM8bMrLqZLQ9/72lBluHnFmS8/D1cPhCoHG7zreL+e0iuMsYOHcL+/9/Awkh9OME4rm6Wz/zrZnaVmfUhCBRONLOJ8dqZI0iufXSW9XdnPR5Djqzf181seHg8X2xml2Yp80n42V1iZv0zXtDMdoQ/O4TrPzCzH83srYyxgJl1DZfNNLPBGceTg9wJjHT37zIWuPsH7r7eCjFGLbo/rcgBChxEyczKAhcA/w4XjSKIDp4GzAP6h4OOSmaWAJwLzCD4EB8PbHD3XQXc7CygaZHsgGSy4OxAF4J2exKYHbZjP4J2BXgAuNPdmxO0ZSrwCDAlPPPwPLAB6BRmDlwL5JfS2gyYGWHdnYC7+6nAdcBICzIUegO73P03BGfBWoX7UB14FLgw3P4M4L4C/SGkIL4A6ocDiqFm1j5cPsTd24RnoioTnPHIZGblgZeAq9y9FfAqMCBc/QjQInzvFTT7RYrWKRz02XT37cByIOLZRODP7t4aOA1onzGoC20KP5vDgAfcfTkwnAOZZVOybOsDgs/wDeExZyzQ1A5knN1C8N6RGHP3ZUBZoOZBq3L0CWbWBbgcOMPdT+dAhkqO8UEUm25O0I+cClxrZvXd/REOnO2+oXB7JoV10NgBoCVwj7s3JnIffhmwNJfP/GBgDdDR3TsihRWpj86Q7Xgc4TVOANoClwDDw/YjXNad4Dh/teV+uWgLggySk4ETgbPD578CdAn7/0jZpXmNDQszRhUpcgoc5K+ymc0B1gG1gPFmVhWo5u6TwzIjgfPC378Fzg4fPx3+PJcgSl1QOc5eSqFktOUMYCXwP8A5wBsA7j4BSAoDP98Ag8KzAtXcfX8ur1ce+KeZzSNIMyvMnBTnAG+G9fgRWAE0Jnj/ZCyfC8wNy58Zbu+bcJ9uBo4vxPYlD+6+gyBocxuwEXjXzHoCHc3sv+F74HyCL6BZNSEYFIwP2+lRoF64bi7BGeYbgdzeX1LyXWNms4DZBG2f9RjwYfhzJsGANGoe3Cf5DeBGC+bVaQd8VtjKSqHk1idcCLyWcVLA3TfnMz7Iy5fuvs3ddwML0fG8JMlt7AAwzd1/Dn+P1IdLMcijj84QzfH4PXdPd/clwDIOnLgb7+4p7p4avs45uTx3mrv/4u7pwJxwG02BZVneI28fwq4VZowqUuTyOpMigVR3b27BZQbjCFOK8ij/FUGg4HjgE+BhwAmubS+oFgQdlRSN1DA6m8lyZpYD4O4DzexToCvBl/OLcynWF1gPnE4QhNudz/YXAAdHwQ+VEXRm1xXR60k+wvT1ScCkMFBwO8EZiNbuvsrMngAqHfQ0Axa4e7tcXvISgi8U3YA/m9mp6vzjZiGQbTLLcHBWG0gh+xeASuH6BgRnfdq4+xYze53s7b8n/JnGofW1rwFjCI4r7+u9UTzM7ESCNtsA/CZjeZR9Qn72c+CEzcHHij1Zfj/U94zERqSxw8641EZylUsffTPwerg6muOxR3gcaXlWhfn8LiAIenwS7ROK6HgkUmDKOIhSeEahD3A/QWexxczODVffBGScXZgC3AgsCSOPmwk+2F8XZHtm1h24iEOLUEr0pgA3QHCdGkE623YzO8nd57n7M8B0gsjxr2SfrKYqsDZs55sI0lvz8r/AWWZ2ScYCMzvPzJodVI/GwHHAIoJA1PXh8mYEX1QBphKkwjUM11UJnycxYGZNzKxRlkXNCdoHYJMF80vkdheFRUANCyZuwszKm9kpFszaXt/dJxIEF6sCmqMifr4EjrIDdzgoC/wDGAL8DDQ3szJmVp8gbRUggaAv2GbB5FZdotjOwceQiOvC63PXEGSpvFbgPZICCy8NGU5wCZIftC63PmE8cEt4YgEzS3T3bUQeHywnvNyM3I8XudkXXvIkJVukPjwveR0PpAAi9NErCvgyV4fH+ZMILjfIaL9O4VwDlYErCM72R2MRcKIF89tAcClSboYAN1uWOzWZ2W/DfqUwY1SRIqeIdgG4+2wzm0tw/drNBNdAHUWQ0nRLWGa5BaHor8KnfQ3Uc/ctUWyib5i2XAWYD5zv7huLej8kmyeAV8N23UXQrgD3WjC5UTpBNPiz8Pc0M/ueIIo9FBgdftn4nHzOPrh7qgUT7rxgZi8A+wjS1e8JX2tYGCXfD/R09z1mNgx4zcx+AH4gvA7O3TeGaXhv24Fbxj0KLC7cn0MiOBp4KUwb3w/8RJASuZXgs7qOoPPOxt33WjDx3eAwhbkc8AJBO70ZLjNgsLtvjfleSK7c3c3sSuBlM3uM4FrUd919QHg8/5kgK+EHgrlncPfvzWw28CPB7N3RDCbHAB+Y2eXA3Qete52gT0kF2oVpsW8BNdz9h0LvpESSkYZenuCz/QYwKJdyOfqE8BjdHJhhZnsJ5qboR4TxAfAc8J6Z3Ub0WYgjgLlmNkvzHJRokfrwvJ4zAvjczNZonoNCi9RHF8RKYBpBULiXu+8O228aMJrgMsM33T2qTOBwzHcHQRvvJJcxQlhuvZn9DnjOzGoSHGO+IhhXPsEhjlE1z4HEgh0UVBcRESnVLLhDytvAle4+K471GEIwMdb/5FtYREQOSXip2X/CiWqzLu9JcDniXYf4uke7+44wAP0yQTayvtDLYUsZByIiIlm4+7fEeXI6C27tu5Pg8jgRETn83GpmNwMVCCbRfSXO9REpFGUciIiIiIiIiEhEmhxRRERERERERCJS4EBEREREREREIlLgQEREREREREQiUuBARERERERERCJS4EBEREREREREIvp/LkEqZqAP+mIAAAAASUVORK5CYII=\n",
      "text/plain": [
       "<Figure size 1440x720 with 2 Axes>"
      ]
     },
     "metadata": {
      "needs_background": "light"
     },
     "output_type": "display_data"
    }
   ],
   "source": [
    "# Matriz de correlação\n",
    "corr = dt_desafio.corr()\n",
    "\n",
    "fig, ax = plt.subplots(figsize=(20,10))\n",
    "sns.heatmap(corr, xticklabels = corr.columns, yticklabels = corr.columns, annot = True)"
   ]
  },
  {
   "cell_type": "markdown",
   "id": "194fb27a-1632-411d-969e-deb9fa1aee90",
   "metadata": {},
   "source": [
    "## Classificação\n"
   ]
  },
  {
   "cell_type": "raw",
   "id": "48daffce-9465-4239-8e80-cde4e8d304fe",
   "metadata": {},
   "source": [
    "# Classificação\n",
    "\n",
    "Features que possuem Correlação ALTA são 'Sales' e 'Shipping Cost': 0,77\n",
    "O que indica que possuem forte correlação entre ambos, ou seja, neste caso, com aumento do acumulo 'Sales' há porporcionalmente acumulo de 'Shipping Cost'\n",
    "\n",
    "\n",
    "Features que possuem Correlação MÉDIA são 'Sales' e 'Profit': 0,48\n",
    "Indica que não há forte correlação entre eles, ou seja, não indica que haverá proporcionalemente aumento de lucro 'Profit' caso haja aumento das vendas 'Sales'\n",
    "\n",
    "\n",
    "Features que possuem Correlação BAIXA são 'Quantity' e 'Profit': 0.1\n",
    "Indica que há baixa correlação entre estes, ou seja, caso haja aumento de 'Quantity' não implica em aumento de 'Profit'\n",
    "\n",
    "Features que possuem Correlação NEGATIVA são 'Discount' e 'Profit': -0,48\n",
    "Infica que há uma NÃO FORTE correlação entre as features, ou seja, poderá haver um efeito inverso caso 'Profit' aumente. Pode indicar que quando há baixo lucro 'Profit' é pelo fato de haver descontos 'Discount' maiores associados"
   ]
  },
  {
   "cell_type": "markdown",
   "id": "fcb7b164-a067-4ecc-be78-df4cd0d040b6",
   "metadata": {},
   "source": [
    "## Gráfico de como estão as vendas\n"
   ]
  },
  {
   "cell_type": "code",
   "execution_count": 19,
   "id": "2e6d2ea1-b60a-4eaa-819f-3aa416932fa6",
   "metadata": {},
   "outputs": [],
   "source": [
    "# conversão de formato de data\n",
    "\n",
    "dt_desafio[\"Order Date\"] = pd.to_datetime(dt_desafio[\"Order Date\"])\n",
    "dt_desafio[\"Ship Date\"] = pd.to_datetime(dt_desafio[\"Ship Date\"])\n",
    "\n",
    "# criação de colunas YEAR e MONTH para futura analise\n",
    "dt_desafio['Year'] = dt_desafio[\"Order Date\"].dt.year\n",
    "dt_desafio['Month'] = dt_desafio['Order Date'].values.astype('datetime64[M]')"
   ]
  },
  {
   "cell_type": "code",
   "execution_count": 20,
   "id": "2b90a876-d8b1-4d33-9323-bbb4a501e7ae",
   "metadata": {},
   "outputs": [],
   "source": [
    "# criando um dataframe apenas com dados de vendas por mes e ano\n",
    "dt_vendas = dt_desafio[['Sales','Year','Month']]"
   ]
  },
  {
   "cell_type": "code",
   "execution_count": 21,
   "id": "da46d0b7-4da8-4b0d-a6de-2cbd4bd1deb5",
   "metadata": {},
   "outputs": [],
   "source": [
    "# soma de todas as vendas por dia\n",
    "vendas = dt_vendas.groupby(['Year','Month']).sum()"
   ]
  },
  {
   "cell_type": "code",
   "execution_count": 22,
   "id": "79fb431b-4f49-40a6-ad61-7cbf94e56473",
   "metadata": {},
   "outputs": [],
   "source": [
    "# criação de dataframe de vendas por ano, para plotar o grafico\n",
    "ano2011 = vendas.loc[(2011,slice(None)),:].reset_index()\n",
    "ano2012 = vendas.loc[(2013,slice(None)),:].reset_index()\n",
    "ano2013 = vendas.loc[(2013,slice(None)),:].reset_index()\n",
    "ano2014 = vendas.loc[(2014,slice(None)),:].reset_index()"
   ]
  },
  {
   "cell_type": "code",
   "execution_count": 23,
   "id": "23bf2132-e03a-4cf1-8c53-0721dec19278",
   "metadata": {},
   "outputs": [
    {
     "data": {
      "text/html": [
       "<div>\n",
       "<style scoped>\n",
       "    .dataframe tbody tr th:only-of-type {\n",
       "        vertical-align: middle;\n",
       "    }\n",
       "\n",
       "    .dataframe tbody tr th {\n",
       "        vertical-align: top;\n",
       "    }\n",
       "\n",
       "    .dataframe thead th {\n",
       "        text-align: right;\n",
       "    }\n",
       "</style>\n",
       "<table border=\"1\" class=\"dataframe\">\n",
       "  <thead>\n",
       "    <tr style=\"text-align: right;\">\n",
       "      <th></th>\n",
       "      <th>2011</th>\n",
       "      <th>2012</th>\n",
       "      <th>2013</th>\n",
       "      <th>2014</th>\n",
       "    </tr>\n",
       "  </thead>\n",
       "  <tbody>\n",
       "    <tr>\n",
       "      <th>Janeiro</th>\n",
       "      <td>138241.30042</td>\n",
       "      <td>206459.19582</td>\n",
       "      <td>206459.19582</td>\n",
       "      <td>268265.52240</td>\n",
       "    </tr>\n",
       "    <tr>\n",
       "      <th>Fevereiro</th>\n",
       "      <td>134969.94086</td>\n",
       "      <td>191062.77216</td>\n",
       "      <td>191062.77216</td>\n",
       "      <td>244159.30486</td>\n",
       "    </tr>\n",
       "    <tr>\n",
       "      <th>Março</th>\n",
       "      <td>171455.59372</td>\n",
       "      <td>230547.79468</td>\n",
       "      <td>230547.79468</td>\n",
       "      <td>347720.96868</td>\n",
       "    </tr>\n",
       "    <tr>\n",
       "      <th>Abril</th>\n",
       "      <td>128833.47034</td>\n",
       "      <td>233181.34844</td>\n",
       "      <td>233181.34844</td>\n",
       "      <td>302132.54000</td>\n",
       "    </tr>\n",
       "    <tr>\n",
       "      <th>Maio</th>\n",
       "      <td>148146.72092</td>\n",
       "      <td>304509.96336</td>\n",
       "      <td>304509.96336</td>\n",
       "      <td>304798.83604</td>\n",
       "    </tr>\n",
       "    <tr>\n",
       "      <th>Junho</th>\n",
       "      <td>189338.43966</td>\n",
       "      <td>341162.34370</td>\n",
       "      <td>341162.34370</td>\n",
       "      <td>372577.23298</td>\n",
       "    </tr>\n",
       "    <tr>\n",
       "      <th>Julho</th>\n",
       "      <td>162034.69756</td>\n",
       "      <td>223642.65664</td>\n",
       "      <td>223642.65664</td>\n",
       "      <td>278672.17326</td>\n",
       "    </tr>\n",
       "    <tr>\n",
       "      <th>Agosto</th>\n",
       "      <td>219223.49524</td>\n",
       "      <td>323876.60716</td>\n",
       "      <td>323876.60716</td>\n",
       "      <td>432731.04194</td>\n",
       "    </tr>\n",
       "    <tr>\n",
       "      <th>Setembro</th>\n",
       "      <td>255237.89698</td>\n",
       "      <td>326897.27044</td>\n",
       "      <td>326897.27044</td>\n",
       "      <td>405436.70584</td>\n",
       "    </tr>\n",
       "    <tr>\n",
       "      <th>Outubro</th>\n",
       "      <td>204675.07846</td>\n",
       "      <td>270121.87570</td>\n",
       "      <td>270121.87570</td>\n",
       "      <td>406659.41500</td>\n",
       "    </tr>\n",
       "    <tr>\n",
       "      <th>Novembro</th>\n",
       "      <td>214934.29386</td>\n",
       "      <td>383039.21248</td>\n",
       "      <td>383039.21248</td>\n",
       "      <td>508954.73156</td>\n",
       "    </tr>\n",
       "    <tr>\n",
       "      <th>Dezembro</th>\n",
       "      <td>292359.96752</td>\n",
       "      <td>371245.40880</td>\n",
       "      <td>371245.40880</td>\n",
       "      <td>427757.39800</td>\n",
       "    </tr>\n",
       "  </tbody>\n",
       "</table>\n",
       "</div>"
      ],
      "text/plain": [
       "                   2011          2012          2013          2014\n",
       "Janeiro    138241.30042  206459.19582  206459.19582  268265.52240\n",
       "Fevereiro  134969.94086  191062.77216  191062.77216  244159.30486\n",
       "Março      171455.59372  230547.79468  230547.79468  347720.96868\n",
       "Abril      128833.47034  233181.34844  233181.34844  302132.54000\n",
       "Maio       148146.72092  304509.96336  304509.96336  304798.83604\n",
       "Junho      189338.43966  341162.34370  341162.34370  372577.23298\n",
       "Julho      162034.69756  223642.65664  223642.65664  278672.17326\n",
       "Agosto     219223.49524  323876.60716  323876.60716  432731.04194\n",
       "Setembro   255237.89698  326897.27044  326897.27044  405436.70584\n",
       "Outubro    204675.07846  270121.87570  270121.87570  406659.41500\n",
       "Novembro   214934.29386  383039.21248  383039.21248  508954.73156\n",
       "Dezembro   292359.96752  371245.40880  371245.40880  427757.39800"
      ]
     },
     "execution_count": 23,
     "metadata": {},
     "output_type": "execute_result"
    }
   ],
   "source": [
    "# criação de um data frame organizado por ano e por meses do ano\n",
    "tab_vendas = pd.concat([ano2011['Sales'], ano2012['Sales'], ano2013['Sales'], ano2014['Sales']], axis=1)\n",
    "tab_vendas.columns=['2011','2012','2013','2014']\n",
    "tab_vendas.index=['Janeiro','Fevereiro','Março','Abril','Maio','Junho','Julho','Agosto','Setembro','Outubro','Novembro','Dezembro']\n",
    "tab_vendas"
   ]
  },
  {
   "cell_type": "code",
   "execution_count": 24,
   "id": "ec1c5606-d456-4fb2-9ea0-5ab46e868437",
   "metadata": {},
   "outputs": [
    {
     "data": {
      "image/png": "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\n",
      "text/plain": [
       "<Figure size 720x720 with 1 Axes>"
      ]
     },
     "metadata": {},
     "output_type": "display_data"
    }
   ],
   "source": [
    "# gráfico de pizza representado a quantidade de vendas por ano\n",
    "plt.subplots(figsize=(10,10))\n",
    "sales_graph = tab_vendas.sum()\n",
    "sales_graph.plot(kind='pie')\n",
    "plt.title(\"Quantidade de Vendas por ANO\")\n",
    "plt.show()"
   ]
  },
  {
   "cell_type": "code",
   "execution_count": 25,
   "id": "a0ce058f-f12d-4501-9944-caaf8cfabf95",
   "metadata": {},
   "outputs": [
    {
     "data": {
      "text/plain": [
       "Text(0.5, 1.0, 'VENDAS POR CATEGORIA DO PRODUTO')"
      ]
     },
     "execution_count": 25,
     "metadata": {},
     "output_type": "execute_result"
    },
    {
     "data": {
      "image/png": "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\n",
      "text/plain": [
       "<Figure size 720x360 with 1 Axes>"
      ]
     },
     "metadata": {
      "needs_background": "light"
     },
     "output_type": "display_data"
    }
   ],
   "source": [
    "# Distribuição de vendas por categoria\n",
    "plt.subplots(figsize=(10,5))\n",
    "sns.countplot(\"Category\", data = dt_desafio)\n",
    "plt.xlabel('CATEGORIA DO PRODUTO')\n",
    "plt.ylabel('ACUMULADO DE VENDAS')\n",
    "plt.title(\"VENDAS POR CATEGORIA DO PRODUTO\")"
   ]
  },
  {
   "cell_type": "code",
   "execution_count": 26,
   "id": "3ddd25f8-de22-4cbc-9369-70ca09f29edd",
   "metadata": {},
   "outputs": [
    {
     "data": {
      "text/plain": [
       "Text(0.5, 1.0, 'Vendas por CATEGORIA')"
      ]
     },
     "execution_count": 26,
     "metadata": {},
     "output_type": "execute_result"
    },
    {
     "data": {
      "image/png": "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\n",
      "text/plain": [
       "<Figure size 720x360 with 1 Axes>"
      ]
     },
     "metadata": {
      "needs_background": "light"
     },
     "output_type": "display_data"
    }
   ],
   "source": [
    "plt.subplots(figsize=(10,5))\n",
    "plt.xticks(rotation=90),sns.countplot(\"Sub-Category\", data = dt_desafio)\n",
    "plt.xlabel('SUB-CATEGORIA')\n",
    "plt.ylabel('ACUMULADO DE VENDAS')\n",
    "plt.title(\"Vendas por CATEGORIA\")"
   ]
  },
  {
   "cell_type": "code",
   "execution_count": 27,
   "id": "820467a6-b3df-4960-90cf-ffd3535c55e7",
   "metadata": {},
   "outputs": [
    {
     "data": {
      "text/plain": [
       "Text(0.5, 1.0, 'Vendas por REGIÃO')"
      ]
     },
     "execution_count": 27,
     "metadata": {},
     "output_type": "execute_result"
    },
    {
     "data": {
      "image/png": "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\n",
      "text/plain": [
       "<Figure size 720x360 with 1 Axes>"
      ]
     },
     "metadata": {
      "needs_background": "light"
     },
     "output_type": "display_data"
    }
   ],
   "source": [
    "# Locais de mais vendas\n",
    "plt.subplots(figsize=(10,5))\n",
    "sns.countplot(\"Market\", data=dt_desafio)\n",
    "plt.xlabel('REGIÃO')\n",
    "plt.ylabel('ACUMULADO DE VENDAS')\n",
    "plt.title(\"Vendas por REGIÃO\")"
   ]
  },
  {
   "cell_type": "markdown",
   "id": "6326b5c0-f006-4774-ab8a-3bdea43a51da",
   "metadata": {},
   "source": [
    "## Outras análises que achar necessário"
   ]
  },
  {
   "cell_type": "code",
   "execution_count": 28,
   "id": "11217221-2178-43fa-8864-f5f88bb0e7e7",
   "metadata": {},
   "outputs": [
    {
     "data": {
      "image/png": "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\n",
      "text/plain": [
       "<Figure size 720x360 with 1 Axes>"
      ]
     },
     "metadata": {
      "needs_background": "light"
     },
     "output_type": "display_data"
    }
   ],
   "source": [
    "plt.subplots(figsize=(10,5))\n",
    "\n",
    "products = dt_desafio.groupby('Product Name')['Row ID'].count().sort_values(ascending=False)\n",
    "products = products[:25]\n",
    "products.plot(kind='bar', color='green')\n",
    "\n",
    "plt.title('Os 25 Produtos Mais Vendidos')\n",
    "plt.ylabel('ACUMULADO DE VENDAS')\n",
    "plt.xlabel('PRODUTOS')\n",
    "plt.show()"
   ]
  },
  {
   "cell_type": "code",
   "execution_count": 29,
   "id": "75035f5b-c976-44f2-87c2-10f1306dd535",
   "metadata": {},
   "outputs": [
    {
     "data": {
      "image/png": "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\n",
      "text/plain": [
       "<Figure size 720x360 with 1 Axes>"
      ]
     },
     "metadata": {
      "needs_background": "light"
     },
     "output_type": "display_data"
    }
   ],
   "source": [
    "plt.figure(figsize=(10,5))\n",
    "\n",
    "products = dt_desafio.groupby('Country')['Row ID'].count().sort_values(ascending=False)\n",
    "products = products[:25]\n",
    "products.plot(kind='bar', color='blue')\n",
    "\n",
    "plt.title('Os 25 Paises com mais vendas')\n",
    "plt.ylabel('ACUMULADO DE VENDAS')\n",
    "plt.xlabel('PAÍSES')\n",
    "plt.show()"
   ]
  },
  {
   "cell_type": "code",
   "execution_count": null,
   "id": "374ed4b7-74ea-46ed-84e2-76b7801efac3",
   "metadata": {},
   "outputs": [],
   "source": [
    "dt_desafio.replace("
   ]
  }
 ],
 "metadata": {
  "colab": {
   "collapsed_sections": [],
   "name": "Entrevista Prática - Cientista de dados [Callink].ipynb",
   "provenance": []
  },
  "interpreter": {
   "hash": "5b8373fb7a673307ec622c7e5184418dd855cbacdd5552844bf1a6d023bff01a"
  },
  "kernelspec": {
   "display_name": "Python 3 (ipykernel)",
   "language": "python",
   "name": "python3"
  },
  "language_info": {
   "codemirror_mode": {
    "name": "ipython",
    "version": 3
   },
   "file_extension": ".py",
   "mimetype": "text/x-python",
   "name": "python",
   "nbconvert_exporter": "python",
   "pygments_lexer": "ipython3",
   "version": "3.10.0"
  }
 },
 "nbformat": 4,
 "nbformat_minor": 5
}
