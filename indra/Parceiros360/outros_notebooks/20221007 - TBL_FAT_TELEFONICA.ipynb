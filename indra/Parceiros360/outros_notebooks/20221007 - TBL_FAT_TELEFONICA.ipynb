{
 "cells": [
  {
   "cell_type": "markdown",
   "id": "3043898a",
   "metadata": {},
   "source": [
    "##  PARCEIROS 360"
   ]
  },
  {
   "cell_type": "markdown",
   "id": "a3f59ba8",
   "metadata": {},
   "source": [
    "###  Faturamento - Fator de Faturamento\n",
    "\n",
    "- <b>Analista(s)</b>: Victor Hugo\n",
    "- <b>Projeto</b>: Parceiros 360 - Um modelo de análise de risco para auxiliar no controle das tomadas de decisões através de análises preditivas\n",
    "- <b>Data</b>: 20/10/2022\n",
    "- <b>Pilar</b>: Comissão\n",
    "- <b>Indicador/KPI</b>: Faturamento - Fator de Faturamento\n",
    "- <b>Fator de Sensibilidade e Ausência</b>: 14% (Sensibilidade) e 0,21 (Ausência)\n",
    "- <b>Descrição</b>: Exploração dos dados da bases '20221007 - TBL_FAT_TELEFONICA' (.csv e .xlsx)."
   ]
  },
  {
   "cell_type": "markdown",
   "id": "dd05f1dc",
   "metadata": {},
   "source": [
    "![title](imgs/kpi_04.png)"
   ]
  },
  {
   "cell_type": "code",
   "execution_count": 1,
   "id": "45e8f5ac",
   "metadata": {},
   "outputs": [
    {
     "name": "stdout",
     "output_type": "stream",
     "text": [
      "Python 3.8.12\n"
     ]
    }
   ],
   "source": [
    "!python --version"
   ]
  },
  {
   "cell_type": "markdown",
   "id": "7b9867f4",
   "metadata": {},
   "source": [
    "### BIBLIOTECAS:"
   ]
  },
  {
   "cell_type": "code",
   "execution_count": 2,
   "id": "67decd3e",
   "metadata": {},
   "outputs": [],
   "source": [
    "## data\n",
    "import pandas as pd\n",
    "import numpy as np\n",
    "import datetime as dt\n",
    "from dateutil.relativedelta import relativedelta\n",
    "from unicodedata import normalize\n",
    "\n",
    "## vis\n",
    "import matplotlib\n",
    "import matplotlib.pyplot as plt\n",
    "import matplotlib.dates as mdates\n",
    "import seaborn as sns\n",
    "\n",
    "## modelo\n",
    "from sklearn import preprocessing\n",
    "\n",
    "## alertas\n",
    "import warnings\n",
    "warnings.filterwarnings(\"ignore\")"
   ]
  },
  {
   "cell_type": "markdown",
   "id": "28d2a582",
   "metadata": {},
   "source": [
    "### LAYOUT:"
   ]
  },
  {
   "cell_type": "code",
   "execution_count": 3,
   "id": "151f1590",
   "metadata": {},
   "outputs": [],
   "source": [
    "%matplotlib inline\n",
    "matplotlib.rcParams['figure.figsize'] = (12, 6)\n",
    "\n",
    "pd.set_option('display.max_columns', 200)\n",
    "pd.set_option('display.width', 1000)\n",
    "\n",
    "rc={'font.size': 16, 'axes.labelsize': 16, 'legend.fontsize': 16,\n",
    "    'axes.titlesize': 18, 'xtick.labelsize': 16, 'ytick.labelsize': 16}\n",
    "\n",
    "sns.set(rc=rc)\n",
    "sns.set_style(\"darkgrid\")\n",
    "sns.set_palette(\"pastel\")"
   ]
  },
  {
   "cell_type": "markdown",
   "id": "449f7ecf",
   "metadata": {},
   "source": [
    "### CONFIGS:"
   ]
  },
  {
   "cell_type": "code",
   "execution_count": 4,
   "id": "3c0aa78e",
   "metadata": {},
   "outputs": [],
   "source": [
    "#pd.set_option('max_columns', 200)\n",
    "pd.options.display.max_columns = 200 \n",
    "\n",
    "seed = 42\n",
    "np.random.seed(seed)"
   ]
  },
  {
   "cell_type": "markdown",
   "id": "1c534641",
   "metadata": {},
   "source": [
    "### DADOS:"
   ]
  },
  {
   "cell_type": "code",
   "execution_count": 5,
   "id": "ae072ae7",
   "metadata": {},
   "outputs": [],
   "source": [
    "PATH = \"datasets/\""
   ]
  },
  {
   "cell_type": "code",
   "execution_count": 6,
   "id": "187da693",
   "metadata": {},
   "outputs": [
    {
     "data": {
      "text/html": [
       "<div>\n",
       "<style scoped>\n",
       "    .dataframe tbody tr th:only-of-type {\n",
       "        vertical-align: middle;\n",
       "    }\n",
       "\n",
       "    .dataframe tbody tr th {\n",
       "        vertical-align: top;\n",
       "    }\n",
       "\n",
       "    .dataframe thead th {\n",
       "        text-align: right;\n",
       "    }\n",
       "</style>\n",
       "<table border=\"1\" class=\"dataframe\">\n",
       "  <thead>\n",
       "    <tr style=\"text-align: right;\">\n",
       "      <th></th>\n",
       "      <th>Raiz CNPJ</th>\n",
       "      <th>CNPJ</th>\n",
       "      <th>NOME</th>\n",
       "      <th>CODIGO</th>\n",
       "      <th>MÊS FATURAMENTO</th>\n",
       "      <th>FATURADO BRUTO (R$)</th>\n",
       "      <th>ARRECADAÇÃO (R$)</th>\n",
       "      <th>% ARREC</th>\n",
       "      <th>CONTESTAÇÃO (R$)</th>\n",
       "      <th>% ARREC EFETIVA</th>\n",
       "      <th>SALDO EM ABERTO (R$)</th>\n",
       "      <th>SALDO EM ABERTO (%)</th>\n",
       "      <th>INADIMPLENCIA</th>\n",
       "      <th>AGING PAGAMENTOS</th>\n",
       "      <th>Arrecadação efetiva</th>\n",
       "      <th>Ajuste</th>\n",
       "      <th>Aging Pgto</th>\n",
       "      <th>Planta</th>\n",
       "      <th>Codigo</th>\n",
       "      <th>SCORE</th>\n",
       "    </tr>\n",
       "  </thead>\n",
       "  <tbody>\n",
       "    <tr>\n",
       "      <th>0</th>\n",
       "      <td>00000000</td>\n",
       "      <td>NaN</td>\n",
       "      <td>NaN</td>\n",
       "      <td>00000000202101</td>\n",
       "      <td>202101</td>\n",
       "      <td>R$ 1.030.373.12</td>\n",
       "      <td>R$ 896.918.94</td>\n",
       "      <td>87%</td>\n",
       "      <td>R$ 133.454.18</td>\n",
       "      <td>100%</td>\n",
       "      <td>R$ 0.00</td>\n",
       "      <td>0%</td>\n",
       "      <td>1</td>\n",
       "      <td>NaN</td>\n",
       "      <td>1</td>\n",
       "      <td>1</td>\n",
       "      <td>0</td>\n",
       "      <td>1</td>\n",
       "      <td>11011</td>\n",
       "      <td>MÉDIO</td>\n",
       "    </tr>\n",
       "    <tr>\n",
       "      <th>1</th>\n",
       "      <td>00000000</td>\n",
       "      <td>NaN</td>\n",
       "      <td>NaN</td>\n",
       "      <td>00000000202102</td>\n",
       "      <td>202102</td>\n",
       "      <td>R$ 959.047.87</td>\n",
       "      <td>R$ 851.549.88</td>\n",
       "      <td>89%</td>\n",
       "      <td>R$ 107.497.99</td>\n",
       "      <td>100%</td>\n",
       "      <td>R$ 0.00</td>\n",
       "      <td>0%</td>\n",
       "      <td>1</td>\n",
       "      <td>NaN</td>\n",
       "      <td>1</td>\n",
       "      <td>1</td>\n",
       "      <td>0</td>\n",
       "      <td>-1</td>\n",
       "      <td>110-11</td>\n",
       "      <td>MÉDIO</td>\n",
       "    </tr>\n",
       "    <tr>\n",
       "      <th>2</th>\n",
       "      <td>00000000</td>\n",
       "      <td>NaN</td>\n",
       "      <td>NaN</td>\n",
       "      <td>00000000202103</td>\n",
       "      <td>202103</td>\n",
       "      <td>R$ 888.815.11</td>\n",
       "      <td>R$ 802.659.44</td>\n",
       "      <td>90%</td>\n",
       "      <td>R$ 86.155.67</td>\n",
       "      <td>100%</td>\n",
       "      <td>R$ 0.00</td>\n",
       "      <td>0%</td>\n",
       "      <td>1</td>\n",
       "      <td>NaN</td>\n",
       "      <td>1</td>\n",
       "      <td>1</td>\n",
       "      <td>0</td>\n",
       "      <td>-1</td>\n",
       "      <td>110-11</td>\n",
       "      <td>MÉDIO</td>\n",
       "    </tr>\n",
       "  </tbody>\n",
       "</table>\n",
       "</div>"
      ],
      "text/plain": [
       "  Raiz CNPJ CNPJ NOME          CODIGO MÊS FATURAMENTO FATURADO BRUTO (R$) ARRECADAÇÃO (R$) % ARREC CONTESTAÇÃO (R$) % ARREC EFETIVA SALDO EM ABERTO (R$) SALDO EM ABERTO (%) INADIMPLENCIA AGING PAGAMENTOS Arrecadação efetiva Ajuste Aging Pgto Planta  Codigo  SCORE\n",
       "0  00000000  NaN  NaN  00000000202101          202101     R$ 1.030.373.12    R$ 896.918.94     87%    R$ 133.454.18            100%              R$ 0.00                  0%             1              NaN                   1      1          0      1   11011  MÉDIO\n",
       "1  00000000  NaN  NaN  00000000202102          202102       R$ 959.047.87    R$ 851.549.88     89%    R$ 107.497.99            100%              R$ 0.00                  0%             1              NaN                   1      1          0     -1  110-11  MÉDIO\n",
       "2  00000000  NaN  NaN  00000000202103          202103       R$ 888.815.11    R$ 802.659.44     90%     R$ 86.155.67            100%              R$ 0.00                  0%             1              NaN                   1      1          0     -1  110-11  MÉDIO"
      ]
     },
     "execution_count": 6,
     "metadata": {},
     "output_type": "execute_result"
    }
   ],
   "source": [
    "FILE = \"20221007 - TBL_FAT_TELEFONICA - AJUSTE.csv\"\n",
    "fatur = pd.read_csv(PATH + FILE, sep = ';', encoding = 'unicode_escape', dtype=str, engine ='python')\n",
    "fatur.head(3)"
   ]
  },
  {
   "cell_type": "code",
   "execution_count": 7,
   "id": "37f0c645",
   "metadata": {},
   "outputs": [],
   "source": [
    "fatur.columns = ['RAIZ_CNPJ', 'CNPJ', 'NOME_UNICO', \n",
    " 'CODIGO', 'ANOMES_F', 'FATURADO_BRUTO', \n",
    " 'ARRECADACAO', 'PERC_ARREC', \n",
    " 'CONTESTACAO', 'PERC_ARREC_EFETIVA', \n",
    " 'SALDO_EM_ABERTO', 'PERC_SALDO_EM_ABERTO', \n",
    " 'INADIMPLENCIA', 'AGING_PAGAMENTOS', \n",
    " 'ARRECADACAO_EFETIVA', 'AJUSTE', 'AGING_PGTO', 'PLANTA', 'CODIGO_SCORE', 'SCORE']\n"
   ]
  },
  {
   "cell_type": "code",
   "execution_count": 8,
   "id": "98db7813",
   "metadata": {},
   "outputs": [
    {
     "data": {
      "text/html": [
       "<div>\n",
       "<style scoped>\n",
       "    .dataframe tbody tr th:only-of-type {\n",
       "        vertical-align: middle;\n",
       "    }\n",
       "\n",
       "    .dataframe tbody tr th {\n",
       "        vertical-align: top;\n",
       "    }\n",
       "\n",
       "    .dataframe thead th {\n",
       "        text-align: right;\n",
       "    }\n",
       "</style>\n",
       "<table border=\"1\" class=\"dataframe\">\n",
       "  <thead>\n",
       "    <tr style=\"text-align: right;\">\n",
       "      <th></th>\n",
       "      <th>RAIZ_CNPJ</th>\n",
       "      <th>CNPJ</th>\n",
       "      <th>NOME_UNICO</th>\n",
       "      <th>CODIGO</th>\n",
       "      <th>ANOMES_F</th>\n",
       "      <th>FATURADO_BRUTO</th>\n",
       "      <th>ARRECADACAO</th>\n",
       "      <th>PERC_ARREC</th>\n",
       "      <th>CONTESTACAO</th>\n",
       "      <th>PERC_ARREC_EFETIVA</th>\n",
       "      <th>SALDO_EM_ABERTO</th>\n",
       "      <th>PERC_SALDO_EM_ABERTO</th>\n",
       "      <th>INADIMPLENCIA</th>\n",
       "      <th>AGING_PAGAMENTOS</th>\n",
       "      <th>ARRECADACAO_EFETIVA</th>\n",
       "      <th>AJUSTE</th>\n",
       "      <th>AGING_PGTO</th>\n",
       "      <th>PLANTA</th>\n",
       "      <th>CODIGO_SCORE</th>\n",
       "      <th>SCORE</th>\n",
       "    </tr>\n",
       "  </thead>\n",
       "  <tbody>\n",
       "    <tr>\n",
       "      <th>0</th>\n",
       "      <td>00000000</td>\n",
       "      <td>NaN</td>\n",
       "      <td>NaN</td>\n",
       "      <td>00000000202101</td>\n",
       "      <td>202101</td>\n",
       "      <td>R$ 1.030.373.12</td>\n",
       "      <td>R$ 896.918.94</td>\n",
       "      <td>87%</td>\n",
       "      <td>R$ 133.454.18</td>\n",
       "      <td>100%</td>\n",
       "      <td>R$ 0.00</td>\n",
       "      <td>0%</td>\n",
       "      <td>1</td>\n",
       "      <td>NaN</td>\n",
       "      <td>1</td>\n",
       "      <td>1</td>\n",
       "      <td>0</td>\n",
       "      <td>1</td>\n",
       "      <td>11011</td>\n",
       "      <td>MÉDIO</td>\n",
       "    </tr>\n",
       "    <tr>\n",
       "      <th>1</th>\n",
       "      <td>00000000</td>\n",
       "      <td>NaN</td>\n",
       "      <td>NaN</td>\n",
       "      <td>00000000202102</td>\n",
       "      <td>202102</td>\n",
       "      <td>R$ 959.047.87</td>\n",
       "      <td>R$ 851.549.88</td>\n",
       "      <td>89%</td>\n",
       "      <td>R$ 107.497.99</td>\n",
       "      <td>100%</td>\n",
       "      <td>R$ 0.00</td>\n",
       "      <td>0%</td>\n",
       "      <td>1</td>\n",
       "      <td>NaN</td>\n",
       "      <td>1</td>\n",
       "      <td>1</td>\n",
       "      <td>0</td>\n",
       "      <td>-1</td>\n",
       "      <td>110-11</td>\n",
       "      <td>MÉDIO</td>\n",
       "    </tr>\n",
       "    <tr>\n",
       "      <th>2</th>\n",
       "      <td>00000000</td>\n",
       "      <td>NaN</td>\n",
       "      <td>NaN</td>\n",
       "      <td>00000000202103</td>\n",
       "      <td>202103</td>\n",
       "      <td>R$ 888.815.11</td>\n",
       "      <td>R$ 802.659.44</td>\n",
       "      <td>90%</td>\n",
       "      <td>R$ 86.155.67</td>\n",
       "      <td>100%</td>\n",
       "      <td>R$ 0.00</td>\n",
       "      <td>0%</td>\n",
       "      <td>1</td>\n",
       "      <td>NaN</td>\n",
       "      <td>1</td>\n",
       "      <td>1</td>\n",
       "      <td>0</td>\n",
       "      <td>-1</td>\n",
       "      <td>110-11</td>\n",
       "      <td>MÉDIO</td>\n",
       "    </tr>\n",
       "  </tbody>\n",
       "</table>\n",
       "</div>"
      ],
      "text/plain": [
       "  RAIZ_CNPJ CNPJ NOME_UNICO          CODIGO ANOMES_F   FATURADO_BRUTO    ARRECADACAO PERC_ARREC    CONTESTACAO PERC_ARREC_EFETIVA SALDO_EM_ABERTO PERC_SALDO_EM_ABERTO INADIMPLENCIA AGING_PAGAMENTOS ARRECADACAO_EFETIVA AJUSTE AGING_PGTO PLANTA CODIGO_SCORE  SCORE\n",
       "0  00000000  NaN        NaN  00000000202101   202101  R$ 1.030.373.12  R$ 896.918.94        87%  R$ 133.454.18               100%         R$ 0.00                   0%             1              NaN                   1      1          0      1        11011  MÉDIO\n",
       "1  00000000  NaN        NaN  00000000202102   202102    R$ 959.047.87  R$ 851.549.88        89%  R$ 107.497.99               100%         R$ 0.00                   0%             1              NaN                   1      1          0     -1       110-11  MÉDIO\n",
       "2  00000000  NaN        NaN  00000000202103   202103    R$ 888.815.11  R$ 802.659.44        90%   R$ 86.155.67               100%         R$ 0.00                   0%             1              NaN                   1      1          0     -1       110-11  MÉDIO"
      ]
     },
     "execution_count": 8,
     "metadata": {},
     "output_type": "execute_result"
    }
   ],
   "source": [
    "for i in fatur.columns:\n",
    "    if fatur[i].dtypes=='object':\n",
    "        fatur[i] = fatur[i].str.upper()\n",
    "        \n",
    "fatur.head(3)"
   ]
  },
  {
   "cell_type": "markdown",
   "id": "601ef4ae",
   "metadata": {},
   "source": [
    "#### Esta base de dados é extraída do SAP e também passa por um refinamento que tem como resultado esse arquivo.\n",
    "\n",
    "- <b>RAIZ_CNPJ</b>: Os oito primeiros dígitos do CNPJ do fornecedor.\n",
    "- <b>CNPJ</b>: O CNPJ do fornecedor. (Campo não é preenchido)\n",
    "- <b>NOME_UNICO</b>: Nome do fornecedor. (Campo não é preenchido)\n",
    "- <b>CODIGO</b>: O CNPJ do fornecedor.\n",
    "- <b>ANOMES_F</b>: Data da competência.\n",
    "- <b>FATURADO_BRUTO</b>: Faturamento bruto.\n",
    "- <b>ARRECADACAO</b>: Valor arrecadado a partir do faturamento bruto.\n",
    "- <b>PERC_ARREC</b>: Percentual sobre a arrecadação.\n",
    "- <b>CONTESTACAO</b>: Valor contestado pelo fornecedor. Ele tem a possibilidade de contestar os valores.\n",
    "- <b>PERC_ARREC_EFETIVA</b>: Percentual efetivo, a partir do valor contestado e do valor faturado.\n",
    "- <b>SALDO_EM_ABERTO</b>: Valor de saldo ainda em aberto.\n",
    "- <b>PERC_SALDO_EM_ABERTO</b>: Percentual do saldo em aberto a partir do faturamento.\n",
    "- <b>INADIMPLENCIA</b>: Parceiro possui inadimplência?\n",
    "- <b>AGING_PAGAMENTOS</b>: ?\n",
    "- <b>ARRECADACAO_EFETIVA</b>: Tem arrecadação efetiva?\n",
    "- <b>AJUSTE</b>: Foi feito ajuste?\n",
    "- <b>AGING_PGTO</b>: Aging de pagamento?\n",
    "- <b>PLANTA</b>: Teve alteração na planta?\n",
    "- <b>CODIGO_SCORE</b>: Combinação (concatenado) das colunas: INADIMPLENCIA, ARRECADACAO_EFETIVA, ARRECADACAO_EFETIVA, AJUSTE, AGING_PGTO e PLANTA   \n",
    "- <b>SCORE</b>: O SCORE e/ou indicador final do parceiro."
   ]
  },
  {
   "cell_type": "markdown",
   "id": "7967954d",
   "metadata": {},
   "source": [
    "#### Como o indicador é calculado:"
   ]
  },
  {
   "cell_type": "markdown",
   "id": "24bd51c3",
   "metadata": {},
   "source": [
    "![title](imgs/kpi_04_01.png)"
   ]
  },
  {
   "cell_type": "markdown",
   "id": "3926cd84",
   "metadata": {},
   "source": [
    "![title](imgs/kpi_04_02.png)"
   ]
  },
  {
   "cell_type": "markdown",
   "id": "6c232a72",
   "metadata": {},
   "source": [
    "### AJUSTE DAS COLUNAS:"
   ]
  },
  {
   "cell_type": "code",
   "execution_count": 9,
   "id": "db9ce8f9",
   "metadata": {},
   "outputs": [],
   "source": [
    "fatur.drop(['CNPJ', 'NOME_UNICO', 'AGING_PAGAMENTOS'], axis=1, inplace=True)"
   ]
  },
  {
   "cell_type": "code",
   "execution_count": 10,
   "id": "1b46b466",
   "metadata": {},
   "outputs": [],
   "source": [
    "fatur.rename({'CODIGO': 'CNPJ'}, axis=1, inplace=True)"
   ]
  },
  {
   "cell_type": "code",
   "execution_count": 11,
   "id": "9269fd4a",
   "metadata": {},
   "outputs": [
    {
     "data": {
      "text/plain": [
       "MEDIO    20818\n",
       "BOM      19908\n",
       "RUIM      5634\n",
       "Name: SCORE, dtype: int64"
      ]
     },
     "execution_count": 11,
     "metadata": {},
     "output_type": "execute_result"
    }
   ],
   "source": [
    "fatur.SCORE = fatur.SCORE.fillna('VAZIO').str.replace('MÉDIO', 'MEDIO', regex=False)\n",
    "fatur.SCORE.value_counts(ascending=False)"
   ]
  },
  {
   "cell_type": "code",
   "execution_count": 12,
   "id": "7026ffc2",
   "metadata": {},
   "outputs": [
    {
     "data": {
      "image/png": "[encoded data removed]",
      "text/plain": [
       "<Figure size 576x288 with 1 Axes>"
      ]
     },
     "metadata": {},
     "output_type": "display_data"
    }
   ],
   "source": [
    "fig = plt.figure(figsize=(8, 4))\n",
    "ax = sns.countplot(x=fatur['SCORE'], order=['MEDIO', 'BOM', 'RUIM'])\n",
    "ax.set_xticklabels(ax.get_xticklabels(), rotation=45, horizontalalignment='right')\n",
    "for p in ax.patches:\n",
    "    ax.annotate('{:.2f}%'.format(p.get_height()/len(fatur)*100), (p.get_x(), p.get_height()+1))\n",
    "    \n",
    "plt.xlabel('SCORE')\n",
    "plt.ylabel('[TOTAL]')\n",
    "plt.show()"
   ]
  },
  {
   "cell_type": "code",
   "execution_count": 13,
   "id": "ac2b36b8",
   "metadata": {},
   "outputs": [],
   "source": [
    "fatur.PERC_ARREC = fatur.PERC_ARREC.str.replace('%', '', regex=False).astype(float)\n",
    "fatur.PERC_ARREC_EFETIVA = fatur.PERC_ARREC_EFETIVA.str.replace('%', '', regex=False).astype(float)\n",
    "fatur.PERC_SALDO_EM_ABERTO = fatur.PERC_SALDO_EM_ABERTO.str.replace('%', '', regex=False).astype(float)"
   ]
  },
  {
   "cell_type": "code",
   "execution_count": 14,
   "id": "fbec21be",
   "metadata": {},
   "outputs": [],
   "source": [
    "def convertToFloat(v):\n",
    "    v = str(v)\n",
    "    v= v.replace('R$ ', '') \\\n",
    "                .replace('.', '') \\\n",
    "                .replace(',', '') \\\n",
    "                .replace('\\.', '')\n",
    "    return float(v) / 100.\n",
    "    \n",
    "fatur.FATURADO_BRUTO = fatur.FATURADO_BRUTO.apply(convertToFloat)\n",
    "fatur.ARRECADACAO = fatur.ARRECADACAO.apply(convertToFloat)\n",
    "fatur.CONTESTACAO = fatur.CONTESTACAO.apply(convertToFloat)\n",
    "fatur.SALDO_EM_ABERTO = fatur.SALDO_EM_ABERTO.apply(convertToFloat)"
   ]
  },
  {
   "cell_type": "code",
   "execution_count": 15,
   "id": "79c0a194",
   "metadata": {},
   "outputs": [
    {
     "data": {
      "text/html": [
       "<div>\n",
       "<style scoped>\n",
       "    .dataframe tbody tr th:only-of-type {\n",
       "        vertical-align: middle;\n",
       "    }\n",
       "\n",
       "    .dataframe tbody tr th {\n",
       "        vertical-align: top;\n",
       "    }\n",
       "\n",
       "    .dataframe thead th {\n",
       "        text-align: right;\n",
       "    }\n",
       "</style>\n",
       "<table border=\"1\" class=\"dataframe\">\n",
       "  <thead>\n",
       "    <tr style=\"text-align: right;\">\n",
       "      <th></th>\n",
       "      <th>RAIZ_CNPJ</th>\n",
       "      <th>CNPJ</th>\n",
       "      <th>FATURADO_BRUTO</th>\n",
       "      <th>ARRECADACAO</th>\n",
       "      <th>PERC_ARREC</th>\n",
       "      <th>CONTESTACAO</th>\n",
       "      <th>PERC_ARREC_EFETIVA</th>\n",
       "      <th>SALDO_EM_ABERTO</th>\n",
       "      <th>PERC_SALDO_EM_ABERTO</th>\n",
       "      <th>INADIMPLENCIA</th>\n",
       "      <th>ARRECADACAO_EFETIVA</th>\n",
       "      <th>AJUSTE</th>\n",
       "      <th>AGING_PGTO</th>\n",
       "      <th>PLANTA</th>\n",
       "      <th>CODIGO_SCORE</th>\n",
       "      <th>SCORE</th>\n",
       "      <th>COMPETENCIA</th>\n",
       "    </tr>\n",
       "  </thead>\n",
       "  <tbody>\n",
       "    <tr>\n",
       "      <th>0</th>\n",
       "      <td>00000000</td>\n",
       "      <td>00000000202101</td>\n",
       "      <td>1030373.12</td>\n",
       "      <td>896918.94</td>\n",
       "      <td>87.0</td>\n",
       "      <td>133454.18</td>\n",
       "      <td>100.0</td>\n",
       "      <td>0.0</td>\n",
       "      <td>0.0</td>\n",
       "      <td>1</td>\n",
       "      <td>1</td>\n",
       "      <td>1</td>\n",
       "      <td>0</td>\n",
       "      <td>1</td>\n",
       "      <td>11011</td>\n",
       "      <td>MEDIO</td>\n",
       "      <td>2021-01-01</td>\n",
       "    </tr>\n",
       "    <tr>\n",
       "      <th>1</th>\n",
       "      <td>00000000</td>\n",
       "      <td>00000000202102</td>\n",
       "      <td>959047.87</td>\n",
       "      <td>851549.88</td>\n",
       "      <td>89.0</td>\n",
       "      <td>107497.99</td>\n",
       "      <td>100.0</td>\n",
       "      <td>0.0</td>\n",
       "      <td>0.0</td>\n",
       "      <td>1</td>\n",
       "      <td>1</td>\n",
       "      <td>1</td>\n",
       "      <td>0</td>\n",
       "      <td>-1</td>\n",
       "      <td>110-11</td>\n",
       "      <td>MEDIO</td>\n",
       "      <td>2021-02-01</td>\n",
       "    </tr>\n",
       "    <tr>\n",
       "      <th>2</th>\n",
       "      <td>00000000</td>\n",
       "      <td>00000000202103</td>\n",
       "      <td>888815.11</td>\n",
       "      <td>802659.44</td>\n",
       "      <td>90.0</td>\n",
       "      <td>86155.67</td>\n",
       "      <td>100.0</td>\n",
       "      <td>0.0</td>\n",
       "      <td>0.0</td>\n",
       "      <td>1</td>\n",
       "      <td>1</td>\n",
       "      <td>1</td>\n",
       "      <td>0</td>\n",
       "      <td>-1</td>\n",
       "      <td>110-11</td>\n",
       "      <td>MEDIO</td>\n",
       "      <td>2021-03-01</td>\n",
       "    </tr>\n",
       "  </tbody>\n",
       "</table>\n",
       "</div>"
      ],
      "text/plain": [
       "  RAIZ_CNPJ            CNPJ  FATURADO_BRUTO  ARRECADACAO  PERC_ARREC  CONTESTACAO  PERC_ARREC_EFETIVA  SALDO_EM_ABERTO  PERC_SALDO_EM_ABERTO INADIMPLENCIA ARRECADACAO_EFETIVA AJUSTE AGING_PGTO PLANTA CODIGO_SCORE  SCORE COMPETENCIA\n",
       "0  00000000  00000000202101      1030373.12    896918.94        87.0    133454.18               100.0              0.0                   0.0             1                   1      1          0      1        11011  MEDIO  2021-01-01\n",
       "1  00000000  00000000202102       959047.87    851549.88        89.0    107497.99               100.0              0.0                   0.0             1                   1      1          0     -1       110-11  MEDIO  2021-02-01\n",
       "2  00000000  00000000202103       888815.11    802659.44        90.0     86155.67               100.0              0.0                   0.0             1                   1      1          0     -1       110-11  MEDIO  2021-03-01"
      ]
     },
     "execution_count": 15,
     "metadata": {},
     "output_type": "execute_result"
    }
   ],
   "source": [
    "fatur['ANOMES_F'] = fatur['ANOMES_F'].fillna(value = '199901')\n",
    "fatur['COMPETENCIA'] = fatur['ANOMES_F'].apply(lambda x: pd.to_datetime(str(x) + '01'))\n",
    "fatur.drop(['ANOMES_F'], axis=1, inplace=True)\n",
    "\n",
    "fatur.head(3)"
   ]
  },
  {
   "cell_type": "code",
   "execution_count": 16,
   "id": "8145dc77",
   "metadata": {},
   "outputs": [
    {
     "name": "stdout",
     "output_type": "stream",
     "text": [
      "<class 'pandas.core.frame.DataFrame'>\n",
      "RangeIndex: 46360 entries, 0 to 46359\n",
      "Data columns (total 17 columns):\n",
      " #   Column                Non-Null Count  Dtype         \n",
      "---  ------                --------------  -----         \n",
      " 0   RAIZ_CNPJ             46360 non-null  object        \n",
      " 1   CNPJ                  46360 non-null  object        \n",
      " 2   FATURADO_BRUTO        46360 non-null  float64       \n",
      " 3   ARRECADACAO           38594 non-null  float64       \n",
      " 4   PERC_ARREC            46360 non-null  float64       \n",
      " 5   CONTESTACAO           13547 non-null  float64       \n",
      " 6   PERC_ARREC_EFETIVA    46360 non-null  float64       \n",
      " 7   SALDO_EM_ABERTO       46360 non-null  float64       \n",
      " 8   PERC_SALDO_EM_ABERTO  46360 non-null  float64       \n",
      " 9   INADIMPLENCIA         46360 non-null  object        \n",
      " 10  ARRECADACAO_EFETIVA   46360 non-null  object        \n",
      " 11  AJUSTE                46360 non-null  object        \n",
      " 12  AGING_PGTO            46360 non-null  object        \n",
      " 13  PLANTA                46360 non-null  object        \n",
      " 14  CODIGO_SCORE          46360 non-null  object        \n",
      " 15  SCORE                 46360 non-null  object        \n",
      " 16  COMPETENCIA           46360 non-null  datetime64[ns]\n",
      "dtypes: datetime64[ns](1), float64(7), object(9)\n",
      "memory usage: 6.0+ MB\n"
     ]
    }
   ],
   "source": [
    "fatur.info()"
   ]
  },
  {
   "cell_type": "code",
   "execution_count": 17,
   "id": "595c5c58",
   "metadata": {},
   "outputs": [
    {
     "data": {
      "text/plain": [
       " 1    40307\n",
       "-1     5634\n",
       " 0      419\n",
       "Name: INADIMPLENCIA, dtype: int64"
      ]
     },
     "execution_count": 17,
     "metadata": {},
     "output_type": "execute_result"
    }
   ],
   "source": [
    "fatur['INADIMPLENCIA'] = fatur['INADIMPLENCIA'].astype(int)\n",
    "fatur['INADIMPLENCIA'].value_counts(dropna=False, ascending=False)"
   ]
  },
  {
   "cell_type": "code",
   "execution_count": 18,
   "id": "a6578557",
   "metadata": {},
   "outputs": [
    {
     "data": {
      "image/png": "[encoded data removed]",
      "text/plain": [
       "<Figure size 576x288 with 1 Axes>"
      ]
     },
     "metadata": {},
     "output_type": "display_data"
    }
   ],
   "source": [
    "fig = plt.figure(figsize=(8, 4))\n",
    "ax = sns.countplot(x=fatur['INADIMPLENCIA'])\n",
    "ax.set_xticklabels(ax.get_xticklabels(), rotation=0, horizontalalignment='right')\n",
    "for p in ax.patches:\n",
    "    ax.annotate('{:.2f}%'.format(p.get_height()/len(fatur)*100), (p.get_x(), p.get_height()+1))\n",
    "    \n",
    "plt.xlabel('INADIMPLENCIA')\n",
    "plt.ylabel('[TOTAL]')\n",
    "plt.show()"
   ]
  },
  {
   "cell_type": "code",
   "execution_count": 19,
   "id": "7a526548",
   "metadata": {},
   "outputs": [
    {
     "data": {
      "text/plain": [
       " 1    40726\n",
       "-1     4934\n",
       " 0      700\n",
       "Name: ARRECADACAO_EFETIVA, dtype: int64"
      ]
     },
     "execution_count": 19,
     "metadata": {},
     "output_type": "execute_result"
    }
   ],
   "source": [
    "fatur['ARRECADACAO_EFETIVA'] = fatur['ARRECADACAO_EFETIVA'].astype(int)\n",
    "fatur['ARRECADACAO_EFETIVA'].value_counts(dropna=False, ascending=False)"
   ]
  },
  {
   "cell_type": "code",
   "execution_count": 20,
   "id": "42d1101e",
   "metadata": {},
   "outputs": [
    {
     "data": {
      "image/png": "[encoded data removed]",
      "text/plain": [
       "<Figure size 576x288 with 1 Axes>"
      ]
     },
     "metadata": {},
     "output_type": "display_data"
    }
   ],
   "source": [
    "fig = plt.figure(figsize=(8, 4))\n",
    "ax = sns.countplot(x=fatur['ARRECADACAO_EFETIVA'])\n",
    "ax.set_xticklabels(ax.get_xticklabels(), rotation=0, horizontalalignment='right')\n",
    "for p in ax.patches:\n",
    "    ax.annotate('{:.2f}%'.format(p.get_height()/len(fatur)*100), (p.get_x(), p.get_height()+1))\n",
    "    \n",
    "plt.xlabel('ARRECADACAO_EFETIVA')\n",
    "plt.ylabel('[TOTAL]')\n",
    "plt.show()"
   ]
  },
  {
   "cell_type": "code",
   "execution_count": 21,
   "id": "582e14d2",
   "metadata": {},
   "outputs": [
    {
     "data": {
      "text/plain": [
       "0    32813\n",
       "1    13547\n",
       "Name: AJUSTE, dtype: int64"
      ]
     },
     "execution_count": 21,
     "metadata": {},
     "output_type": "execute_result"
    }
   ],
   "source": [
    "fatur['AJUSTE'] = fatur['AJUSTE'].astype(int)\n",
    "fatur['AJUSTE'].value_counts(dropna=False, ascending=False)"
   ]
  },
  {
   "cell_type": "code",
   "execution_count": 22,
   "id": "1e424fb7",
   "metadata": {},
   "outputs": [
    {
     "data": {
      "image/png": "[encoded data removed]",
      "text/plain": [
       "<Figure size 576x288 with 1 Axes>"
      ]
     },
     "metadata": {},
     "output_type": "display_data"
    }
   ],
   "source": [
    "fig = plt.figure(figsize=(8, 4))\n",
    "ax = sns.countplot(x=fatur['AJUSTE'])\n",
    "ax.set_xticklabels(ax.get_xticklabels(), rotation=0, horizontalalignment='right')\n",
    "for p in ax.patches:\n",
    "    ax.annotate('{:.2f}%'.format(p.get_height()/len(fatur)*100), (p.get_x(), p.get_height()+1))\n",
    "    \n",
    "plt.xlabel('AJUSTE')\n",
    "plt.ylabel('[TOTAL]')\n",
    "plt.show()"
   ]
  },
  {
   "cell_type": "code",
   "execution_count": 23,
   "id": "8542318e",
   "metadata": {},
   "outputs": [
    {
     "data": {
      "text/plain": [
       " 0.5    24206\n",
       " 0.0    17667\n",
       " 1.0     3323\n",
       "-1.0     1164\n",
       "Name: PLANTA, dtype: int64"
      ]
     },
     "execution_count": 23,
     "metadata": {},
     "output_type": "execute_result"
    }
   ],
   "source": [
    "fatur['PLANTA'] = fatur['PLANTA'].astype(float)\n",
    "fatur['PLANTA'].value_counts(dropna=False, ascending=False)"
   ]
  },
  {
   "cell_type": "code",
   "execution_count": 24,
   "id": "aa807cc8",
   "metadata": {},
   "outputs": [
    {
     "data": {
      "image/png": "[encoded data removed]",
      "text/plain": [
       "<Figure size 576x288 with 1 Axes>"
      ]
     },
     "metadata": {},
     "output_type": "display_data"
    }
   ],
   "source": [
    "fig = plt.figure(figsize=(8, 4))\n",
    "ax = sns.countplot(x=fatur['PLANTA'])\n",
    "ax.set_xticklabels(ax.get_xticklabels(), rotation=0, horizontalalignment='right')\n",
    "for p in ax.patches:\n",
    "    ax.annotate('{:.2f}%'.format(p.get_height()/len(fatur)*100), (p.get_x(), p.get_height()+1))\n",
    "    \n",
    "plt.xlabel('PLANTA')\n",
    "plt.ylabel('[TOTAL]')\n",
    "plt.show()"
   ]
  },
  {
   "cell_type": "code",
   "execution_count": 25,
   "id": "2034e2bc",
   "metadata": {},
   "outputs": [
    {
     "data": {
      "text/plain": [
       " 1.0    19910\n",
       " 0.0    15165\n",
       "-1.0     7155\n",
       " 0.5     4130\n",
       "Name: AGING_PGTO, dtype: int64"
      ]
     },
     "execution_count": 25,
     "metadata": {},
     "output_type": "execute_result"
    }
   ],
   "source": [
    "fatur['AGING_PGTO'] = fatur['AGING_PGTO'].apply(lambda x: float(x.replace(',', '.')))\n",
    "fatur['AGING_PGTO'].value_counts(dropna=False, ascending=False)"
   ]
  },
  {
   "cell_type": "code",
   "execution_count": 26,
   "id": "c24d675b",
   "metadata": {},
   "outputs": [
    {
     "data": {
      "image/png": "[encoded data removed]",
      "text/plain": [
       "<Figure size 576x288 with 1 Axes>"
      ]
     },
     "metadata": {},
     "output_type": "display_data"
    }
   ],
   "source": [
    "fig = plt.figure(figsize=(8, 4))\n",
    "ax = sns.countplot(x=fatur['AGING_PGTO'])\n",
    "ax.set_xticklabels(ax.get_xticklabels(), rotation=0, horizontalalignment='right')\n",
    "for p in ax.patches:\n",
    "    ax.annotate('{:.2f}%'.format(p.get_height()/len(fatur)*100), (p.get_x(), p.get_height()+1))\n",
    "    \n",
    "plt.xlabel('AGING_PGTO')\n",
    "plt.ylabel('[TOTAL]')\n",
    "plt.show()"
   ]
  },
  {
   "cell_type": "code",
   "execution_count": 27,
   "id": "86ef225a",
   "metadata": {},
   "outputs": [
    {
     "data": {
      "text/html": [
       "<div>\n",
       "<style scoped>\n",
       "    .dataframe tbody tr th:only-of-type {\n",
       "        vertical-align: middle;\n",
       "    }\n",
       "\n",
       "    .dataframe tbody tr th {\n",
       "        vertical-align: top;\n",
       "    }\n",
       "\n",
       "    .dataframe thead th {\n",
       "        text-align: right;\n",
       "    }\n",
       "</style>\n",
       "<table border=\"1\" class=\"dataframe\">\n",
       "  <thead>\n",
       "    <tr style=\"text-align: right;\">\n",
       "      <th></th>\n",
       "      <th>RAIZ_CNPJ</th>\n",
       "      <th>CNPJ</th>\n",
       "      <th>FATURADO_BRUTO</th>\n",
       "      <th>ARRECADACAO</th>\n",
       "      <th>PERC_ARREC</th>\n",
       "      <th>CONTESTACAO</th>\n",
       "      <th>PERC_ARREC_EFETIVA</th>\n",
       "      <th>SALDO_EM_ABERTO</th>\n",
       "      <th>PERC_SALDO_EM_ABERTO</th>\n",
       "      <th>INADIMPLENCIA</th>\n",
       "      <th>ARRECADACAO_EFETIVA</th>\n",
       "      <th>AJUSTE</th>\n",
       "      <th>AGING_PGTO</th>\n",
       "      <th>PLANTA</th>\n",
       "      <th>CODIGO_SCORE</th>\n",
       "      <th>SCORE</th>\n",
       "      <th>COMPETENCIA</th>\n",
       "    </tr>\n",
       "  </thead>\n",
       "  <tbody>\n",
       "    <tr>\n",
       "      <th>0</th>\n",
       "      <td>00000000</td>\n",
       "      <td>00000000202101</td>\n",
       "      <td>1030373.12</td>\n",
       "      <td>896918.94</td>\n",
       "      <td>87.0</td>\n",
       "      <td>133454.18</td>\n",
       "      <td>100.0</td>\n",
       "      <td>0.0</td>\n",
       "      <td>0.0</td>\n",
       "      <td>1</td>\n",
       "      <td>1</td>\n",
       "      <td>1</td>\n",
       "      <td>0.0</td>\n",
       "      <td>1.0</td>\n",
       "      <td>11011</td>\n",
       "      <td>MEDIO</td>\n",
       "      <td>2021-01-01</td>\n",
       "    </tr>\n",
       "    <tr>\n",
       "      <th>1</th>\n",
       "      <td>00000000</td>\n",
       "      <td>00000000202102</td>\n",
       "      <td>959047.87</td>\n",
       "      <td>851549.88</td>\n",
       "      <td>89.0</td>\n",
       "      <td>107497.99</td>\n",
       "      <td>100.0</td>\n",
       "      <td>0.0</td>\n",
       "      <td>0.0</td>\n",
       "      <td>1</td>\n",
       "      <td>1</td>\n",
       "      <td>1</td>\n",
       "      <td>0.0</td>\n",
       "      <td>-1.0</td>\n",
       "      <td>110-11</td>\n",
       "      <td>MEDIO</td>\n",
       "      <td>2021-02-01</td>\n",
       "    </tr>\n",
       "    <tr>\n",
       "      <th>2</th>\n",
       "      <td>00000000</td>\n",
       "      <td>00000000202103</td>\n",
       "      <td>888815.11</td>\n",
       "      <td>802659.44</td>\n",
       "      <td>90.0</td>\n",
       "      <td>86155.67</td>\n",
       "      <td>100.0</td>\n",
       "      <td>0.0</td>\n",
       "      <td>0.0</td>\n",
       "      <td>1</td>\n",
       "      <td>1</td>\n",
       "      <td>1</td>\n",
       "      <td>0.0</td>\n",
       "      <td>-1.0</td>\n",
       "      <td>110-11</td>\n",
       "      <td>MEDIO</td>\n",
       "      <td>2021-03-01</td>\n",
       "    </tr>\n",
       "  </tbody>\n",
       "</table>\n",
       "</div>"
      ],
      "text/plain": [
       "  RAIZ_CNPJ            CNPJ  FATURADO_BRUTO  ARRECADACAO  PERC_ARREC  CONTESTACAO  PERC_ARREC_EFETIVA  SALDO_EM_ABERTO  PERC_SALDO_EM_ABERTO  INADIMPLENCIA  ARRECADACAO_EFETIVA  AJUSTE  AGING_PGTO  PLANTA CODIGO_SCORE  SCORE COMPETENCIA\n",
       "0  00000000  00000000202101      1030373.12    896918.94        87.0    133454.18               100.0              0.0                   0.0              1                    1       1         0.0     1.0        11011  MEDIO  2021-01-01\n",
       "1  00000000  00000000202102       959047.87    851549.88        89.0    107497.99               100.0              0.0                   0.0              1                    1       1         0.0    -1.0       110-11  MEDIO  2021-02-01\n",
       "2  00000000  00000000202103       888815.11    802659.44        90.0     86155.67               100.0              0.0                   0.0              1                    1       1         0.0    -1.0       110-11  MEDIO  2021-03-01"
      ]
     },
     "execution_count": 27,
     "metadata": {},
     "output_type": "execute_result"
    }
   ],
   "source": [
    "fatur.head(3)"
   ]
  },
  {
   "cell_type": "code",
   "execution_count": 29,
   "id": "f024f4f4",
   "metadata": {},
   "outputs": [
    {
     "data": {
      "image/png": "[encoded data removed]",
      "text/plain": [
       "<Figure size 504x216 with 1 Axes>"
      ]
     },
     "metadata": {},
     "output_type": "display_data"
    },
    {
     "data": {
      "image/png": "[encoded data removed]",
      "text/plain": [
       "<Figure size 504x216 with 1 Axes>"
      ]
     },
     "metadata": {},
     "output_type": "display_data"
    },
    {
     "data": {
      "image/png": "[encoded data removed]",
      "text/plain": [
       "<Figure size 504x216 with 1 Axes>"
      ]
     },
     "metadata": {},
     "output_type": "display_data"
    }
   ],
   "source": [
    "def distplotfeature(temp, column, order=False):\n",
    "    ##vis\n",
    "    fig = plt.figure(figsize=(7, 3))\n",
    "    g = sns.distplot(temp[column], kde=True, color=\"b\")\n",
    "    ##plot\n",
    "    plt.show()\n",
    "\n",
    "for i in ['FATURADO_BRUTO', 'ARRECADACAO', 'CONTESTACAO']:\n",
    "    distplotfeature(fatur[[i]], i)\n"
   ]
  },
  {
   "cell_type": "code",
   "execution_count": 31,
   "id": "ee0f8f5a",
   "metadata": {},
   "outputs": [],
   "source": [
    "fatur.COMPETENCIA = fatur.COMPETENCIA.dt.date"
   ]
  },
  {
   "cell_type": "code",
   "execution_count": 32,
   "id": "c6e97ec9",
   "metadata": {},
   "outputs": [
    {
     "data": {
      "image/png": "[encoded data removed]",
      "text/plain": [
       "<Figure size 1440x288 with 1 Axes>"
      ]
     },
     "metadata": {},
     "output_type": "display_data"
    }
   ],
   "source": [
    "fig, ax = plt.subplots(figsize=(20, 4))\n",
    "\n",
    "sns.barplot(x=\"COMPETENCIA\", y=\"FATURADO_BRUTO\", data=fatur, ax=ax, hue='SCORE')\n",
    "sns.pointplot(data=fatur, x='COMPETENCIA', y='FATURADO_BRUTO', color='red')\n",
    "sns.pointplot(data=fatur, x='COMPETENCIA', y='ARRECADACAO', color='green')\n",
    "\n",
    "ax.tick_params(axis='x', rotation=45)\n",
    "plt.title('COMPETENCIA | FATURADO_BRUTO | SCORE')\n",
    "plt.show()"
   ]
  },
  {
   "cell_type": "code",
   "execution_count": 33,
   "id": "2cf77659",
   "metadata": {},
   "outputs": [
    {
     "data": {
      "image/png": "[encoded data removed]",
      "text/plain": [
       "<Figure size 720x288 with 1 Axes>"
      ]
     },
     "metadata": {},
     "output_type": "display_data"
    }
   ],
   "source": [
    "plt.figure(figsize=(10, 4))\n",
    "\n",
    "columns = ['FATURADO_BRUTO', 'CONTESTACAO', 'SCORE']\n",
    "colors = ['green', 'yellow', 'red']\n",
    "\n",
    "plt.scatter(fatur[fatur[columns[2]].str.contains('BOM')==True][columns[0]], \n",
    "            fatur[fatur[columns[2]].str.contains('BOM')==True][columns[1]], \n",
    "            c = colors[0], label = 'BAIXO')\n",
    "\n",
    "plt.scatter(fatur[fatur[columns[2]].str.contains('MEDIO')==True][columns[0]], \n",
    "            fatur[fatur[columns[2]].str.contains('MEDIO')==True][columns[1]], \n",
    "            c = colors[1], label = 'MEDIO')\n",
    "\n",
    "plt.scatter(fatur[fatur[columns[2]].str.contains('RUIM')==True][columns[0]], \n",
    "            fatur[fatur[columns[2]].str.contains('RUIM')==True][columns[1]], \n",
    "            c = colors[2], label = 'RUIM')\n",
    "\n",
    "plt.xlabel(columns[0])\n",
    "plt.ylabel(columns[1])\n",
    "plt.title(columns[2])\n",
    "plt.legend()\n",
    "plt.show()"
   ]
  },
  {
   "cell_type": "markdown",
   "id": "ca4dacfa",
   "metadata": {},
   "source": [
    "#### Modelando a base por fornecedor e competência:"
   ]
  },
  {
   "cell_type": "code",
   "execution_count": 34,
   "id": "af19e4e9",
   "metadata": {},
   "outputs": [
    {
     "data": {
      "text/html": [
       "<div>\n",
       "<style scoped>\n",
       "    .dataframe tbody tr th:only-of-type {\n",
       "        vertical-align: middle;\n",
       "    }\n",
       "\n",
       "    .dataframe tbody tr th {\n",
       "        vertical-align: top;\n",
       "    }\n",
       "\n",
       "    .dataframe thead th {\n",
       "        text-align: right;\n",
       "    }\n",
       "</style>\n",
       "<table border=\"1\" class=\"dataframe\">\n",
       "  <thead>\n",
       "    <tr style=\"text-align: right;\">\n",
       "      <th></th>\n",
       "      <th>RAIZ_CNPJ</th>\n",
       "      <th>CNPJ</th>\n",
       "      <th>FATURADO_BRUTO</th>\n",
       "      <th>ARRECADACAO</th>\n",
       "      <th>PERC_ARREC</th>\n",
       "      <th>CONTESTACAO</th>\n",
       "      <th>PERC_ARREC_EFETIVA</th>\n",
       "      <th>SALDO_EM_ABERTO</th>\n",
       "      <th>PERC_SALDO_EM_ABERTO</th>\n",
       "      <th>INADIMPLENCIA</th>\n",
       "      <th>ARRECADACAO_EFETIVA</th>\n",
       "      <th>AJUSTE</th>\n",
       "      <th>AGING_PGTO</th>\n",
       "      <th>PLANTA</th>\n",
       "      <th>CODIGO_SCORE</th>\n",
       "      <th>SCORE</th>\n",
       "      <th>COMPETENCIA</th>\n",
       "    </tr>\n",
       "  </thead>\n",
       "  <tbody>\n",
       "    <tr>\n",
       "      <th>0</th>\n",
       "      <td>00000000</td>\n",
       "      <td>00000000202101</td>\n",
       "      <td>1030373.12</td>\n",
       "      <td>896918.94</td>\n",
       "      <td>87.0</td>\n",
       "      <td>133454.18</td>\n",
       "      <td>100.0</td>\n",
       "      <td>0.0</td>\n",
       "      <td>0.0</td>\n",
       "      <td>1</td>\n",
       "      <td>1</td>\n",
       "      <td>1</td>\n",
       "      <td>0.0</td>\n",
       "      <td>1.0</td>\n",
       "      <td>11011</td>\n",
       "      <td>MEDIO</td>\n",
       "      <td>2021-01-01</td>\n",
       "    </tr>\n",
       "    <tr>\n",
       "      <th>1</th>\n",
       "      <td>00000000</td>\n",
       "      <td>00000000202102</td>\n",
       "      <td>959047.87</td>\n",
       "      <td>851549.88</td>\n",
       "      <td>89.0</td>\n",
       "      <td>107497.99</td>\n",
       "      <td>100.0</td>\n",
       "      <td>0.0</td>\n",
       "      <td>0.0</td>\n",
       "      <td>1</td>\n",
       "      <td>1</td>\n",
       "      <td>1</td>\n",
       "      <td>0.0</td>\n",
       "      <td>-1.0</td>\n",
       "      <td>110-11</td>\n",
       "      <td>MEDIO</td>\n",
       "      <td>2021-02-01</td>\n",
       "    </tr>\n",
       "    <tr>\n",
       "      <th>2</th>\n",
       "      <td>00000000</td>\n",
       "      <td>00000000202103</td>\n",
       "      <td>888815.11</td>\n",
       "      <td>802659.44</td>\n",
       "      <td>90.0</td>\n",
       "      <td>86155.67</td>\n",
       "      <td>100.0</td>\n",
       "      <td>0.0</td>\n",
       "      <td>0.0</td>\n",
       "      <td>1</td>\n",
       "      <td>1</td>\n",
       "      <td>1</td>\n",
       "      <td>0.0</td>\n",
       "      <td>-1.0</td>\n",
       "      <td>110-11</td>\n",
       "      <td>MEDIO</td>\n",
       "      <td>2021-03-01</td>\n",
       "    </tr>\n",
       "  </tbody>\n",
       "</table>\n",
       "</div>"
      ],
      "text/plain": [
       "  RAIZ_CNPJ            CNPJ  FATURADO_BRUTO  ARRECADACAO  PERC_ARREC  CONTESTACAO  PERC_ARREC_EFETIVA  SALDO_EM_ABERTO  PERC_SALDO_EM_ABERTO  INADIMPLENCIA  ARRECADACAO_EFETIVA  AJUSTE  AGING_PGTO  PLANTA CODIGO_SCORE  SCORE COMPETENCIA\n",
       "0  00000000  00000000202101      1030373.12    896918.94        87.0    133454.18               100.0              0.0                   0.0              1                    1       1         0.0     1.0        11011  MEDIO  2021-01-01\n",
       "1  00000000  00000000202102       959047.87    851549.88        89.0    107497.99               100.0              0.0                   0.0              1                    1       1         0.0    -1.0       110-11  MEDIO  2021-02-01\n",
       "2  00000000  00000000202103       888815.11    802659.44        90.0     86155.67               100.0              0.0                   0.0              1                    1       1         0.0    -1.0       110-11  MEDIO  2021-03-01"
      ]
     },
     "execution_count": 34,
     "metadata": {},
     "output_type": "execute_result"
    }
   ],
   "source": [
    "fatur.head(3)"
   ]
  },
  {
   "cell_type": "code",
   "execution_count": 36,
   "id": "af8c6810",
   "metadata": {},
   "outputs": [],
   "source": [
    "fatur['INADIMPLENCIA_{}'.format('BOM')] = fatur['INADIMPLENCIA'].apply(lambda x: 1 if x == 1 else 0)\n",
    "fatur['INADIMPLENCIA_{}'.format('MEDIO')] = fatur['INADIMPLENCIA'].apply(lambda x: 1 if x == 0 else 0)\n",
    "fatur['INADIMPLENCIA_{}'.format('RUIM')] = fatur['INADIMPLENCIA'].apply(lambda x: 1 if x == -1 else 0)\n",
    "\n",
    "fatur.drop('INADIMPLENCIA', axis=1, inplace=True)"
   ]
  },
  {
   "cell_type": "code",
   "execution_count": 38,
   "id": "5969b02b",
   "metadata": {},
   "outputs": [
    {
     "data": {
      "text/html": [
       "<div>\n",
       "<style scoped>\n",
       "    .dataframe tbody tr th:only-of-type {\n",
       "        vertical-align: middle;\n",
       "    }\n",
       "\n",
       "    .dataframe tbody tr th {\n",
       "        vertical-align: top;\n",
       "    }\n",
       "\n",
       "    .dataframe thead th {\n",
       "        text-align: right;\n",
       "    }\n",
       "</style>\n",
       "<table border=\"1\" class=\"dataframe\">\n",
       "  <thead>\n",
       "    <tr style=\"text-align: right;\">\n",
       "      <th></th>\n",
       "      <th>RAIZ_CNPJ</th>\n",
       "      <th>CNPJ</th>\n",
       "      <th>FATURADO_BRUTO</th>\n",
       "      <th>ARRECADACAO</th>\n",
       "      <th>PERC_ARREC</th>\n",
       "      <th>CONTESTACAO</th>\n",
       "      <th>PERC_ARREC_EFETIVA</th>\n",
       "      <th>SALDO_EM_ABERTO</th>\n",
       "      <th>PERC_SALDO_EM_ABERTO</th>\n",
       "      <th>AJUSTE</th>\n",
       "      <th>AGING_PGTO</th>\n",
       "      <th>PLANTA</th>\n",
       "      <th>CODIGO_SCORE</th>\n",
       "      <th>SCORE</th>\n",
       "      <th>COMPETENCIA</th>\n",
       "      <th>INADIMPLENCIA_BOM</th>\n",
       "      <th>INADIMPLENCIA_MEDIO</th>\n",
       "      <th>INADIMPLENCIA_RUIM</th>\n",
       "      <th>ARRECADACAO_EFETIVA_BOM</th>\n",
       "      <th>ARRECADACAO_EFETIVA_MEDIO</th>\n",
       "      <th>ARRECADACAO_EFETIVA_RUIM</th>\n",
       "    </tr>\n",
       "  </thead>\n",
       "  <tbody>\n",
       "    <tr>\n",
       "      <th>0</th>\n",
       "      <td>00000000</td>\n",
       "      <td>00000000202101</td>\n",
       "      <td>1030373.12</td>\n",
       "      <td>896918.94</td>\n",
       "      <td>87.0</td>\n",
       "      <td>133454.18</td>\n",
       "      <td>100.0</td>\n",
       "      <td>0.0</td>\n",
       "      <td>0.0</td>\n",
       "      <td>1</td>\n",
       "      <td>0.0</td>\n",
       "      <td>1.0</td>\n",
       "      <td>11011</td>\n",
       "      <td>MEDIO</td>\n",
       "      <td>2021-01-01</td>\n",
       "      <td>1</td>\n",
       "      <td>0</td>\n",
       "      <td>0</td>\n",
       "      <td>1</td>\n",
       "      <td>0</td>\n",
       "      <td>0</td>\n",
       "    </tr>\n",
       "    <tr>\n",
       "      <th>1</th>\n",
       "      <td>00000000</td>\n",
       "      <td>00000000202102</td>\n",
       "      <td>959047.87</td>\n",
       "      <td>851549.88</td>\n",
       "      <td>89.0</td>\n",
       "      <td>107497.99</td>\n",
       "      <td>100.0</td>\n",
       "      <td>0.0</td>\n",
       "      <td>0.0</td>\n",
       "      <td>1</td>\n",
       "      <td>0.0</td>\n",
       "      <td>-1.0</td>\n",
       "      <td>110-11</td>\n",
       "      <td>MEDIO</td>\n",
       "      <td>2021-02-01</td>\n",
       "      <td>1</td>\n",
       "      <td>0</td>\n",
       "      <td>0</td>\n",
       "      <td>1</td>\n",
       "      <td>0</td>\n",
       "      <td>0</td>\n",
       "    </tr>\n",
       "    <tr>\n",
       "      <th>2</th>\n",
       "      <td>00000000</td>\n",
       "      <td>00000000202103</td>\n",
       "      <td>888815.11</td>\n",
       "      <td>802659.44</td>\n",
       "      <td>90.0</td>\n",
       "      <td>86155.67</td>\n",
       "      <td>100.0</td>\n",
       "      <td>0.0</td>\n",
       "      <td>0.0</td>\n",
       "      <td>1</td>\n",
       "      <td>0.0</td>\n",
       "      <td>-1.0</td>\n",
       "      <td>110-11</td>\n",
       "      <td>MEDIO</td>\n",
       "      <td>2021-03-01</td>\n",
       "      <td>1</td>\n",
       "      <td>0</td>\n",
       "      <td>0</td>\n",
       "      <td>1</td>\n",
       "      <td>0</td>\n",
       "      <td>0</td>\n",
       "    </tr>\n",
       "  </tbody>\n",
       "</table>\n",
       "</div>"
      ],
      "text/plain": [
       "  RAIZ_CNPJ            CNPJ  FATURADO_BRUTO  ARRECADACAO  PERC_ARREC  CONTESTACAO  PERC_ARREC_EFETIVA  SALDO_EM_ABERTO  PERC_SALDO_EM_ABERTO  AJUSTE  AGING_PGTO  PLANTA CODIGO_SCORE  SCORE COMPETENCIA  INADIMPLENCIA_BOM  INADIMPLENCIA_MEDIO  INADIMPLENCIA_RUIM  ARRECADACAO_EFETIVA_BOM  ARRECADACAO_EFETIVA_MEDIO  ARRECADACAO_EFETIVA_RUIM\n",
       "0  00000000  00000000202101      1030373.12    896918.94        87.0    133454.18               100.0              0.0                   0.0       1         0.0     1.0        11011  MEDIO  2021-01-01                  1                    0                   0                        1                          0                         0\n",
       "1  00000000  00000000202102       959047.87    851549.88        89.0    107497.99               100.0              0.0                   0.0       1         0.0    -1.0       110-11  MEDIO  2021-02-01                  1                    0                   0                        1                          0                         0\n",
       "2  00000000  00000000202103       888815.11    802659.44        90.0     86155.67               100.0              0.0                   0.0       1         0.0    -1.0       110-11  MEDIO  2021-03-01                  1                    0                   0                        1                          0                         0"
      ]
     },
     "execution_count": 38,
     "metadata": {},
     "output_type": "execute_result"
    }
   ],
   "source": [
    "fatur['ARRECADACAO_EFETIVA_{}'.format('BOM')] = fatur['ARRECADACAO_EFETIVA'].apply(lambda x: 1 if x == 1 else 0)\n",
    "fatur['ARRECADACAO_EFETIVA_{}'.format('MEDIO')] = fatur['ARRECADACAO_EFETIVA'].apply(lambda x: 1 if x == 0 else 0)\n",
    "fatur['ARRECADACAO_EFETIVA_{}'.format('RUIM')] = fatur['ARRECADACAO_EFETIVA'].apply(lambda x: 1 if x == -1 else 0)\n",
    "\n",
    "fatur.drop('ARRECADACAO_EFETIVA', axis=1, inplace=True)\n",
    "fatur.head(3)"
   ]
  },
  {
   "cell_type": "code",
   "execution_count": 39,
   "id": "6bd00428",
   "metadata": {},
   "outputs": [],
   "source": [
    "fatur['AJUSTE_{}'.format('BOM')] = fatur['AJUSTE'].apply(lambda x: 1 if x == 1 else 0)\n",
    "fatur['AJUSTE_{}'.format('MEDIO')] = fatur['AJUSTE'].apply(lambda x: 1 if x == 0 else 0)\n",
    "\n",
    "fatur.drop('AJUSTE', axis=1, inplace=True)"
   ]
  },
  {
   "cell_type": "code",
   "execution_count": 42,
   "id": "2c3366eb",
   "metadata": {},
   "outputs": [],
   "source": [
    "fatur['AGING_PGTO_{}'.format('BOM')] = fatur['AGING_PGTO'].apply(lambda x: 1 if x == 1. else 0)\n",
    "fatur['AGING_PGTO_{}'.format('MEDIO')] = fatur['AGING_PGTO'].apply(lambda x: 1 if x == 0. else 0)\n",
    "fatur['AGING_PGTO_{}'.format('RUIM')] = fatur['AGING_PGTO'].apply(lambda x: 1 if x == -1. else 0)\n",
    "fatur['AGING_PGTO_{}'.format('SEM_ANALISE')] = fatur['AGING_PGTO'].apply(lambda x: x if x == 0.5 else 0)\n",
    "\n",
    "fatur.drop('AGING_PGTO', axis=1, inplace=True)"
   ]
  },
  {
   "cell_type": "code",
   "execution_count": 45,
   "id": "4269c320",
   "metadata": {},
   "outputs": [],
   "source": [
    "fatur['PLANTA_{}'.format('BOM')] = fatur['PLANTA'].apply(lambda x: 1 if x == 1. else 0)\n",
    "fatur['PLANTA_{}'.format('MEDIO')] = fatur['PLANTA'].apply(lambda x: 1 if x == 0. else 0)\n",
    "fatur['PLANTA_{}'.format('RUIM')] = fatur['PLANTA'].apply(lambda x: 1 if x == -1. else 0)\n",
    "fatur['PLANTA_{}'.format('SEM_ANALISE')] = fatur['PLANTA'].apply(lambda x: x if x == 0.5 else 0)\n",
    "\n",
    "fatur.drop('PLANTA', axis=1, inplace=True)"
   ]
  },
  {
   "cell_type": "code",
   "execution_count": 48,
   "id": "542ac42f",
   "metadata": {},
   "outputs": [],
   "source": [
    "score = ['RUIM', 'MEDIO', 'BOM']\n",
    "\n",
    "for i in score:\n",
    "    fatur['SCORE_{}'.format(i)] = fatur['SCORE'].apply(lambda x: 1 if x.upper() == i else 0)\n",
    "    \n",
    "fatur.drop('SCORE', axis=1, inplace=True)"
   ]
  },
  {
   "cell_type": "code",
   "execution_count": 49,
   "id": "4c1fc5e3",
   "metadata": {},
   "outputs": [
    {
     "data": {
      "text/html": [
       "<div>\n",
       "<style scoped>\n",
       "    .dataframe tbody tr th:only-of-type {\n",
       "        vertical-align: middle;\n",
       "    }\n",
       "\n",
       "    .dataframe tbody tr th {\n",
       "        vertical-align: top;\n",
       "    }\n",
       "\n",
       "    .dataframe thead th {\n",
       "        text-align: right;\n",
       "    }\n",
       "</style>\n",
       "<table border=\"1\" class=\"dataframe\">\n",
       "  <thead>\n",
       "    <tr style=\"text-align: right;\">\n",
       "      <th></th>\n",
       "      <th>RAIZ_CNPJ</th>\n",
       "      <th>CNPJ</th>\n",
       "      <th>FATURADO_BRUTO</th>\n",
       "      <th>ARRECADACAO</th>\n",
       "      <th>PERC_ARREC</th>\n",
       "      <th>CONTESTACAO</th>\n",
       "      <th>PERC_ARREC_EFETIVA</th>\n",
       "      <th>SALDO_EM_ABERTO</th>\n",
       "      <th>PERC_SALDO_EM_ABERTO</th>\n",
       "      <th>CODIGO_SCORE</th>\n",
       "      <th>COMPETENCIA</th>\n",
       "      <th>INADIMPLENCIA_BOM</th>\n",
       "      <th>INADIMPLENCIA_MEDIO</th>\n",
       "      <th>INADIMPLENCIA_RUIM</th>\n",
       "      <th>ARRECADACAO_EFETIVA_BOM</th>\n",
       "      <th>ARRECADACAO_EFETIVA_MEDIO</th>\n",
       "      <th>ARRECADACAO_EFETIVA_RUIM</th>\n",
       "      <th>AJUSTE_BOM</th>\n",
       "      <th>AJUSTE_MEDIO</th>\n",
       "      <th>AGING_PGTO_BOM</th>\n",
       "      <th>AGING_PGTO_MEDIO</th>\n",
       "      <th>AGING_PGTO_RUIM</th>\n",
       "      <th>AGING_PGTO_SEM_ANALISE</th>\n",
       "      <th>PLANTA_BOM</th>\n",
       "      <th>PLANTA_MEDIO</th>\n",
       "      <th>PLANTA_RUIM</th>\n",
       "      <th>PLANTA_SEM_ANALISE</th>\n",
       "      <th>SCORE_RUIM</th>\n",
       "      <th>SCORE_MEDIO</th>\n",
       "      <th>SCORE_BOM</th>\n",
       "    </tr>\n",
       "  </thead>\n",
       "  <tbody>\n",
       "    <tr>\n",
       "      <th>0</th>\n",
       "      <td>00000000</td>\n",
       "      <td>00000000202101</td>\n",
       "      <td>1030373.12</td>\n",
       "      <td>896918.94</td>\n",
       "      <td>87.0</td>\n",
       "      <td>133454.18</td>\n",
       "      <td>100.0</td>\n",
       "      <td>0.0</td>\n",
       "      <td>0.0</td>\n",
       "      <td>11011</td>\n",
       "      <td>2021-01-01</td>\n",
       "      <td>1</td>\n",
       "      <td>0</td>\n",
       "      <td>0</td>\n",
       "      <td>1</td>\n",
       "      <td>0</td>\n",
       "      <td>0</td>\n",
       "      <td>1</td>\n",
       "      <td>0</td>\n",
       "      <td>0</td>\n",
       "      <td>1</td>\n",
       "      <td>0</td>\n",
       "      <td>0.0</td>\n",
       "      <td>1</td>\n",
       "      <td>0</td>\n",
       "      <td>0</td>\n",
       "      <td>0.0</td>\n",
       "      <td>0</td>\n",
       "      <td>1</td>\n",
       "      <td>0</td>\n",
       "    </tr>\n",
       "    <tr>\n",
       "      <th>1</th>\n",
       "      <td>00000000</td>\n",
       "      <td>00000000202102</td>\n",
       "      <td>959047.87</td>\n",
       "      <td>851549.88</td>\n",
       "      <td>89.0</td>\n",
       "      <td>107497.99</td>\n",
       "      <td>100.0</td>\n",
       "      <td>0.0</td>\n",
       "      <td>0.0</td>\n",
       "      <td>110-11</td>\n",
       "      <td>2021-02-01</td>\n",
       "      <td>1</td>\n",
       "      <td>0</td>\n",
       "      <td>0</td>\n",
       "      <td>1</td>\n",
       "      <td>0</td>\n",
       "      <td>0</td>\n",
       "      <td>1</td>\n",
       "      <td>0</td>\n",
       "      <td>0</td>\n",
       "      <td>1</td>\n",
       "      <td>0</td>\n",
       "      <td>0.0</td>\n",
       "      <td>0</td>\n",
       "      <td>0</td>\n",
       "      <td>1</td>\n",
       "      <td>0.0</td>\n",
       "      <td>0</td>\n",
       "      <td>1</td>\n",
       "      <td>0</td>\n",
       "    </tr>\n",
       "    <tr>\n",
       "      <th>2</th>\n",
       "      <td>00000000</td>\n",
       "      <td>00000000202103</td>\n",
       "      <td>888815.11</td>\n",
       "      <td>802659.44</td>\n",
       "      <td>90.0</td>\n",
       "      <td>86155.67</td>\n",
       "      <td>100.0</td>\n",
       "      <td>0.0</td>\n",
       "      <td>0.0</td>\n",
       "      <td>110-11</td>\n",
       "      <td>2021-03-01</td>\n",
       "      <td>1</td>\n",
       "      <td>0</td>\n",
       "      <td>0</td>\n",
       "      <td>1</td>\n",
       "      <td>0</td>\n",
       "      <td>0</td>\n",
       "      <td>1</td>\n",
       "      <td>0</td>\n",
       "      <td>0</td>\n",
       "      <td>1</td>\n",
       "      <td>0</td>\n",
       "      <td>0.0</td>\n",
       "      <td>0</td>\n",
       "      <td>0</td>\n",
       "      <td>1</td>\n",
       "      <td>0.0</td>\n",
       "      <td>0</td>\n",
       "      <td>1</td>\n",
       "      <td>0</td>\n",
       "    </tr>\n",
       "    <tr>\n",
       "      <th>3</th>\n",
       "      <td>00000000</td>\n",
       "      <td>00000000202104</td>\n",
       "      <td>948576.62</td>\n",
       "      <td>826244.80</td>\n",
       "      <td>87.0</td>\n",
       "      <td>122331.82</td>\n",
       "      <td>100.0</td>\n",
       "      <td>0.0</td>\n",
       "      <td>0.0</td>\n",
       "      <td>110-11</td>\n",
       "      <td>2021-04-01</td>\n",
       "      <td>1</td>\n",
       "      <td>0</td>\n",
       "      <td>0</td>\n",
       "      <td>1</td>\n",
       "      <td>0</td>\n",
       "      <td>0</td>\n",
       "      <td>1</td>\n",
       "      <td>0</td>\n",
       "      <td>0</td>\n",
       "      <td>1</td>\n",
       "      <td>0</td>\n",
       "      <td>0.0</td>\n",
       "      <td>0</td>\n",
       "      <td>0</td>\n",
       "      <td>1</td>\n",
       "      <td>0.0</td>\n",
       "      <td>0</td>\n",
       "      <td>1</td>\n",
       "      <td>0</td>\n",
       "    </tr>\n",
       "    <tr>\n",
       "      <th>4</th>\n",
       "      <td>00000000</td>\n",
       "      <td>00000000202105</td>\n",
       "      <td>738621.65</td>\n",
       "      <td>666642.89</td>\n",
       "      <td>90.0</td>\n",
       "      <td>71978.76</td>\n",
       "      <td>100.0</td>\n",
       "      <td>0.0</td>\n",
       "      <td>0.0</td>\n",
       "      <td>110-11</td>\n",
       "      <td>2021-05-01</td>\n",
       "      <td>1</td>\n",
       "      <td>0</td>\n",
       "      <td>0</td>\n",
       "      <td>1</td>\n",
       "      <td>0</td>\n",
       "      <td>0</td>\n",
       "      <td>1</td>\n",
       "      <td>0</td>\n",
       "      <td>0</td>\n",
       "      <td>1</td>\n",
       "      <td>0</td>\n",
       "      <td>0.0</td>\n",
       "      <td>0</td>\n",
       "      <td>0</td>\n",
       "      <td>1</td>\n",
       "      <td>0.0</td>\n",
       "      <td>0</td>\n",
       "      <td>1</td>\n",
       "      <td>0</td>\n",
       "    </tr>\n",
       "  </tbody>\n",
       "</table>\n",
       "</div>"
      ],
      "text/plain": [
       "  RAIZ_CNPJ            CNPJ  FATURADO_BRUTO  ARRECADACAO  PERC_ARREC  CONTESTACAO  PERC_ARREC_EFETIVA  SALDO_EM_ABERTO  PERC_SALDO_EM_ABERTO CODIGO_SCORE COMPETENCIA  INADIMPLENCIA_BOM  INADIMPLENCIA_MEDIO  INADIMPLENCIA_RUIM  ARRECADACAO_EFETIVA_BOM  ARRECADACAO_EFETIVA_MEDIO  ARRECADACAO_EFETIVA_RUIM  AJUSTE_BOM  AJUSTE_MEDIO  AGING_PGTO_BOM  AGING_PGTO_MEDIO  AGING_PGTO_RUIM  AGING_PGTO_SEM_ANALISE  PLANTA_BOM  PLANTA_MEDIO  PLANTA_RUIM  PLANTA_SEM_ANALISE  SCORE_RUIM  SCORE_MEDIO  SCORE_BOM\n",
       "0  00000000  00000000202101      1030373.12    896918.94        87.0    133454.18               100.0              0.0                   0.0        11011  2021-01-01                  1                    0                   0                        1                          0                         0           1             0               0                 1                0                     0.0           1             0            0                 0.0           0            1          0\n",
       "1  00000000  00000000202102       959047.87    851549.88        89.0    107497.99               100.0              0.0                   0.0       110-11  2021-02-01                  1                    0                   0                        1                          0                         0           1             0               0                 1                0                     0.0           0             0            1                 0.0           0            1          0\n",
       "2  00000000  00000000202103       888815.11    802659.44        90.0     86155.67               100.0              0.0                   0.0       110-11  2021-03-01                  1                    0                   0                        1                          0                         0           1             0               0                 1                0                     0.0           0             0            1                 0.0           0            1          0\n",
       "3  00000000  00000000202104       948576.62    826244.80        87.0    122331.82               100.0              0.0                   0.0       110-11  2021-04-01                  1                    0                   0                        1                          0                         0           1             0               0                 1                0                     0.0           0             0            1                 0.0           0            1          0\n",
       "4  00000000  00000000202105       738621.65    666642.89        90.0     71978.76               100.0              0.0                   0.0       110-11  2021-05-01                  1                    0                   0                        1                          0                         0           1             0               0                 1                0                     0.0           0             0            1                 0.0           0            1          0"
      ]
     },
     "execution_count": 49,
     "metadata": {},
     "output_type": "execute_result"
    }
   ],
   "source": [
    "fatur.head()"
   ]
  },
  {
   "cell_type": "code",
   "execution_count": 52,
   "id": "53e5f1e4",
   "metadata": {},
   "outputs": [
    {
     "data": {
      "text/html": [
       "<div>\n",
       "<style scoped>\n",
       "    .dataframe tbody tr th:only-of-type {\n",
       "        vertical-align: middle;\n",
       "    }\n",
       "\n",
       "    .dataframe tbody tr th {\n",
       "        vertical-align: top;\n",
       "    }\n",
       "\n",
       "    .dataframe thead th {\n",
       "        text-align: right;\n",
       "    }\n",
       "</style>\n",
       "<table border=\"1\" class=\"dataframe\">\n",
       "  <thead>\n",
       "    <tr style=\"text-align: right;\">\n",
       "      <th></th>\n",
       "      <th>RAIZ_CNPJ</th>\n",
       "      <th>COMPETENCIA</th>\n",
       "      <th>FATURADO_BRUTO</th>\n",
       "      <th>ARRECADACAO</th>\n",
       "      <th>PERC_ARREC</th>\n",
       "      <th>CONTESTACAO</th>\n",
       "      <th>PERC_ARREC_EFETIVA</th>\n",
       "      <th>SALDO_EM_ABERTO</th>\n",
       "      <th>PERC_SALDO_EM_ABERTO</th>\n",
       "      <th>INADIMPLENCIA_BOM</th>\n",
       "      <th>INADIMPLENCIA_MEDIO</th>\n",
       "      <th>INADIMPLENCIA_RUIM</th>\n",
       "      <th>ARRECADACAO_EFETIVA_BOM</th>\n",
       "      <th>ARRECADACAO_EFETIVA_MEDIO</th>\n",
       "      <th>ARRECADACAO_EFETIVA_RUIM</th>\n",
       "      <th>AJUSTE_BOM</th>\n",
       "      <th>AJUSTE_MEDIO</th>\n",
       "      <th>AGING_PGTO_BOM</th>\n",
       "      <th>AGING_PGTO_MEDIO</th>\n",
       "      <th>AGING_PGTO_RUIM</th>\n",
       "      <th>AGING_PGTO_SEM_ANALISE</th>\n",
       "      <th>PLANTA_BOM</th>\n",
       "      <th>PLANTA_MEDIO</th>\n",
       "      <th>PLANTA_RUIM</th>\n",
       "      <th>PLANTA_SEM_ANALISE</th>\n",
       "      <th>SCORE_RUIM</th>\n",
       "      <th>SCORE_MEDIO</th>\n",
       "      <th>SCORE_BOM</th>\n",
       "    </tr>\n",
       "  </thead>\n",
       "  <tbody>\n",
       "    <tr>\n",
       "      <th>0</th>\n",
       "      <td>00000000</td>\n",
       "      <td>2021-01-01</td>\n",
       "      <td>1030373.12</td>\n",
       "      <td>896918.94</td>\n",
       "      <td>87.0</td>\n",
       "      <td>133454.18</td>\n",
       "      <td>100.0</td>\n",
       "      <td>0.0</td>\n",
       "      <td>0.0</td>\n",
       "      <td>1</td>\n",
       "      <td>0</td>\n",
       "      <td>0</td>\n",
       "      <td>1</td>\n",
       "      <td>0</td>\n",
       "      <td>0</td>\n",
       "      <td>1</td>\n",
       "      <td>0</td>\n",
       "      <td>0</td>\n",
       "      <td>1</td>\n",
       "      <td>0</td>\n",
       "      <td>0.0</td>\n",
       "      <td>1</td>\n",
       "      <td>0</td>\n",
       "      <td>0</td>\n",
       "      <td>0.0</td>\n",
       "      <td>0</td>\n",
       "      <td>1</td>\n",
       "      <td>0</td>\n",
       "    </tr>\n",
       "    <tr>\n",
       "      <th>1</th>\n",
       "      <td>00000000</td>\n",
       "      <td>2021-02-01</td>\n",
       "      <td>959047.87</td>\n",
       "      <td>851549.88</td>\n",
       "      <td>89.0</td>\n",
       "      <td>107497.99</td>\n",
       "      <td>100.0</td>\n",
       "      <td>0.0</td>\n",
       "      <td>0.0</td>\n",
       "      <td>1</td>\n",
       "      <td>0</td>\n",
       "      <td>0</td>\n",
       "      <td>1</td>\n",
       "      <td>0</td>\n",
       "      <td>0</td>\n",
       "      <td>1</td>\n",
       "      <td>0</td>\n",
       "      <td>0</td>\n",
       "      <td>1</td>\n",
       "      <td>0</td>\n",
       "      <td>0.0</td>\n",
       "      <td>0</td>\n",
       "      <td>0</td>\n",
       "      <td>1</td>\n",
       "      <td>0.0</td>\n",
       "      <td>0</td>\n",
       "      <td>1</td>\n",
       "      <td>0</td>\n",
       "    </tr>\n",
       "    <tr>\n",
       "      <th>2</th>\n",
       "      <td>00000000</td>\n",
       "      <td>2021-03-01</td>\n",
       "      <td>888815.11</td>\n",
       "      <td>802659.44</td>\n",
       "      <td>90.0</td>\n",
       "      <td>86155.67</td>\n",
       "      <td>100.0</td>\n",
       "      <td>0.0</td>\n",
       "      <td>0.0</td>\n",
       "      <td>1</td>\n",
       "      <td>0</td>\n",
       "      <td>0</td>\n",
       "      <td>1</td>\n",
       "      <td>0</td>\n",
       "      <td>0</td>\n",
       "      <td>1</td>\n",
       "      <td>0</td>\n",
       "      <td>0</td>\n",
       "      <td>1</td>\n",
       "      <td>0</td>\n",
       "      <td>0.0</td>\n",
       "      <td>0</td>\n",
       "      <td>0</td>\n",
       "      <td>1</td>\n",
       "      <td>0.0</td>\n",
       "      <td>0</td>\n",
       "      <td>1</td>\n",
       "      <td>0</td>\n",
       "    </tr>\n",
       "  </tbody>\n",
       "</table>\n",
       "</div>"
      ],
      "text/plain": [
       "  RAIZ_CNPJ COMPETENCIA  FATURADO_BRUTO  ARRECADACAO  PERC_ARREC  CONTESTACAO  PERC_ARREC_EFETIVA  SALDO_EM_ABERTO  PERC_SALDO_EM_ABERTO  INADIMPLENCIA_BOM  INADIMPLENCIA_MEDIO  INADIMPLENCIA_RUIM  ARRECADACAO_EFETIVA_BOM  ARRECADACAO_EFETIVA_MEDIO  ARRECADACAO_EFETIVA_RUIM  AJUSTE_BOM  AJUSTE_MEDIO  AGING_PGTO_BOM  AGING_PGTO_MEDIO  AGING_PGTO_RUIM  AGING_PGTO_SEM_ANALISE  PLANTA_BOM  PLANTA_MEDIO  PLANTA_RUIM  PLANTA_SEM_ANALISE  SCORE_RUIM  SCORE_MEDIO  SCORE_BOM\n",
       "0  00000000  2021-01-01      1030373.12    896918.94        87.0    133454.18               100.0              0.0                   0.0                  1                    0                   0                        1                          0                         0           1             0               0                 1                0                     0.0           1             0            0                 0.0           0            1          0\n",
       "1  00000000  2021-02-01       959047.87    851549.88        89.0    107497.99               100.0              0.0                   0.0                  1                    0                   0                        1                          0                         0           1             0               0                 1                0                     0.0           0             0            1                 0.0           0            1          0\n",
       "2  00000000  2021-03-01       888815.11    802659.44        90.0     86155.67               100.0              0.0                   0.0                  1                    0                   0                        1                          0                         0           1             0               0                 1                0                     0.0           0             0            1                 0.0           0            1          0"
      ]
     },
     "execution_count": 52,
     "metadata": {},
     "output_type": "execute_result"
    }
   ],
   "source": [
    "fatur = fatur.drop(['CODIGO_SCORE'], axis=1) \\\n",
    "    .groupby(['RAIZ_CNPJ', 'COMPETENCIA']) \\\n",
    "    .sum() \\\n",
    "    .reset_index(drop=False) \\\n",
    "    .sort_values(by=['RAIZ_CNPJ', 'COMPETENCIA'])\n",
    "\n",
    "fatur.head(3)"
   ]
  },
  {
   "cell_type": "markdown",
   "id": "f4b3000b",
   "metadata": {},
   "source": [
    "### SALVAR DADOS:"
   ]
  },
  {
   "cell_type": "code",
   "execution_count": 53,
   "id": "bec12c5c",
   "metadata": {},
   "outputs": [],
   "source": [
    "fatur.to_csv(r'datasets/02_FATURAMENTO.csv', index = False, sep=';', encoding='utf-8', header='true')"
   ]
  },
  {
   "cell_type": "code",
   "execution_count": 54,
   "id": "bcf39f73",
   "metadata": {},
   "outputs": [],
   "source": [
    "del fatur"
   ]
  },
  {
   "cell_type": "code",
   "execution_count": null,
   "id": "0d6665e7",
   "metadata": {},
   "outputs": [],
   "source": []
  }
 ],
 "metadata": {
  "kernelspec": {
   "display_name": "Python 3 (ipykernel)",
   "language": "python",
   "name": "python3"
  },
  "language_info": {
   "codemirror_mode": {
    "name": "ipython",
    "version": 3
   },
   "file_extension": ".py",
   "mimetype": "text/x-python",
   "name": "python",
   "nbconvert_exporter": "python",
   "pygments_lexer": "ipython3",
   "version": "3.8.12"
  }
 },
 "nbformat": 4,
 "nbformat_minor": 5
}
