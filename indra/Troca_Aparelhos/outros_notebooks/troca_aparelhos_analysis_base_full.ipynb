{
 "cells": [
  {
   "cell_type": "code",
   "execution_count": 1,
   "metadata": {},
   "outputs": [],
   "source": [
    "## data\n",
    "import pandas as pd\n",
    "import numpy as np\n",
    "import datetime as dt\n",
    "from dateutil.relativedelta import relativedelta\n",
    "from unicodedata import normalize\n",
    "\n",
    "## vis\n",
    "import matplotlib\n",
    "import matplotlib.pyplot as plt\n",
    "import matplotlib.dates as mdates\n",
    "import seaborn as sns\n",
    "\n",
    "from IPython.display import display, HTML\n",
    "\n",
    "## modelo\n",
    "from sklearn import preprocessing\n",
    "from sklearn.ensemble import RandomForestRegressor\n",
    "from sklearn.model_selection import train_test_split\n",
    "from sklearn.preprocessing import OneHotEncoder, StandardScaler\n",
    "from sklearn.compose import ColumnTransformer\n",
    "from imblearn.pipeline import Pipeline\n",
    "from imblearn.over_sampling import SMOTE\n",
    "\n",
    "## alertas\n",
    "import warnings\n",
    "warnings.filterwarnings(\"ignore\")"
   ]
  },
  {
   "attachments": {},
   "cell_type": "markdown",
   "metadata": {},
   "source": [
    "***\n",
    "## Coleta de dados"
   ]
  },
  {
   "cell_type": "code",
   "execution_count": null,
   "metadata": {},
   "outputs": [],
   "source": [
    "PATH = \"../datasets/\""
   ]
  },
  {
   "cell_type": "code",
   "execution_count": null,
   "metadata": {},
   "outputs": [],
   "source": [
    "FILE = \"batdtfim_finaledited.csv\"\n",
    "dados = pd.read_csv(PATH + FILE, sep = ';', encoding = 'ISO-8859-1', engine ='python')\n",
    "dados = dados.rename(columns={'batdtfim_anlz6.msisdn': 'msisdn'})\\\n",
    "             .rename(columns={'batdtfim_anlz6.imsi': 'imsi'})\\\n",
    "             .rename(columns={'batdtfim_anlz6.tac': 'tac'})\\\n",
    "             .rename(columns={'batdtfim_anlz6.dt_inicio': 'dt_inicio'})\\\n",
    "             .rename(columns={'batdtfim_anlz6.dt_fim': 'dt_fim'})\\\n",
    "             .rename(columns={'batdtfim_anlz6.aging_aparelho': 'aging_aparelho'})\\\n",
    "             .rename(columns={'batdtfim_anlz6.cat_aparelho': 'cat_aparelho'})\\\n",
    "             .rename(columns={'batdtfim_anlz6.trocou_aparelho': 'trocou_aparelho'})\\\n",
    "             .rename(columns={'batdtfim_anlz6.fabricante': 'fabricante'})\\\n",
    "             .rename(columns={'batdtfim_anlz6.modelo': 'modelo'})\\\n",
    "             .rename(columns={'batdtfim_anlz6.imei': 'imei'})\\\n",
    "             .rename(columns={'batdtfim_anlz6.ranking': 'ranking'})\\\n",
    "             .rename(columns={'batdtfim_anlz6.cpfidentifier': 'cpfidentifier'})\\\n",
    "             .rename(columns={'batdtfim_anlz6.subscriberkey': 'subscriberkey'})\\\n",
    "             .rename(columns={'batdtfim_anlz6.customerkey': 'customerkey'})\\\n",
    "             .rename(columns={'batdtfim_anlz6.customersubtypedesc': 'customersubtypedesc'})\\\n",
    "             .rename(columns={'batdtfim_anlz6.subscriberstatuskey': 'subscriberstatuskey'})\\\n",
    "             .rename(columns={'batdtfim_anlz6.offertechnology': 'offertechnology'})\\\n",
    "             .rename(columns={'batdtfim_anlz6.citydesc': 'citydesc'})\\\n",
    "             .rename(columns={'batdtfim_anlz6.statedesc': 'statedesc'})\\\n",
    "             .rename(columns={'batdtfim_anlz6.subscribermainofferdesc': 'subscribermainofferdesc'})\\\n",
    "             .rename(columns={'batdtfim_anlz6.assignedchargeamount': 'assignedchargeamount'})\\\n",
    "             .rename(columns={'batdtfim_anlz6.fl_3g': 'fl_3g'})\\\n",
    "             .rename(columns={'batdtfim_anlz6.fl_4g': 'fl_4g'})\\\n",
    "             .rename(columns={'batdtfim_anlz6.fl_5g': 'fl_5g'})\\\n",
    "             .rename(columns={'batdtfim_anlz6.dt_ano_stts': 'dt_ano_stts'})\n",
    "\n",
    "\n",
    "dados"
   ]
  },
  {
   "attachments": {},
   "cell_type": "markdown",
   "metadata": {},
   "source": [
    "### Limpeza dos dados"
   ]
  },
  {
   "cell_type": "code",
   "execution_count": null,
   "metadata": {},
   "outputs": [],
   "source": [
    "def just_check_nan(df):\n",
    "    # Check NaN Pandas and Numpy\n",
    "    missing_val_count_by_column = (df.isna().sum())\n",
    "\n",
    "    columns_with_nan = missing_val_count_by_column[missing_val_count_by_column > 0]\n",
    "    print('Dados com NaN:')\n",
    "    print(columns_with_nan)\n",
    "    print('')\n",
    "    print('columns_with_nan.shape', columns_with_nan.shape)\n",
    "    print('')"
   ]
  },
  {
   "cell_type": "code",
   "execution_count": null,
   "metadata": {},
   "outputs": [],
   "source": [
    "just_check_nan(dados)"
   ]
  },
  {
   "cell_type": "code",
   "execution_count": null,
   "metadata": {},
   "outputs": [],
   "source": [
    "dados_droped = dados.dropna(subset=['statedesc', 'subscribermainofferdesc', 'assignedchargeamount', 'fl_3g', 'fl_4g', 'fl_5g', 'dt_ano_stts'])\\\n",
    "                    .reset_index()"
   ]
  },
  {
   "cell_type": "code",
   "execution_count": null,
   "metadata": {},
   "outputs": [],
   "source": [
    "just_check_nan(dados_droped)"
   ]
  },
  {
   "attachments": {},
   "cell_type": "markdown",
   "metadata": {},
   "source": [
    "***\n",
    "## Exploração dos dados"
   ]
  },
  {
   "attachments": {},
   "cell_type": "markdown",
   "metadata": {},
   "source": [
    "### seleção de features"
   ]
  },
  {
   "cell_type": "code",
   "execution_count": null,
   "metadata": {},
   "outputs": [],
   "source": [
    "# define features\n",
    "X = dados_droped[['cat_aparelho', 'trocou_aparelho',\n",
    "                  'fabricante', 'modelo',\n",
    "                  'ranking', \n",
    "                  'customersubtypedesc', 'subscriberstatuskey', \n",
    "                  'offertechnology', \n",
    "                  'statedesc', 'subscribermainofferdesc',\n",
    "                  'assignedchargeamount', 'fl_3g', 'fl_4g', 'fl_5g',\n",
    "                  'dt_ano_stts']]\n",
    "X"
   ]
  },
  {
   "attachments": {},
   "cell_type": "markdown",
   "metadata": {},
   "source": [
    "#### Variaveis Categoricas"
   ]
  },
  {
   "cell_type": "code",
   "execution_count": null,
   "metadata": {},
   "outputs": [],
   "source": [
    "# Get list of categorical variables\n",
    "s = (X.dtypes == 'object')\n",
    "object_cols = list(s[s].index)\n",
    "print(\"Categorical variables: \", len(object_cols))\n",
    "print(object_cols)"
   ]
  },
  {
   "attachments": {},
   "cell_type": "markdown",
   "metadata": {},
   "source": [
    "#### Variaveis Numéricas"
   ]
  },
  {
   "cell_type": "code",
   "execution_count": null,
   "metadata": {},
   "outputs": [],
   "source": [
    "# Criando uma lista de variaveis numéricas\n",
    "numerical_cols = [cname for cname in X.columns if X[cname].dtype in ['int64', 'float64']]\n",
    "print(\"Numerical variables: \", len(numerical_cols))\n",
    "print(numerical_cols)"
   ]
  },
  {
   "attachments": {},
   "cell_type": "markdown",
   "metadata": {},
   "source": [
    "***\n",
    "## Mostrando a correlação entre os dados numéricos"
   ]
  },
  {
   "cell_type": "code",
   "execution_count": null,
   "metadata": {},
   "outputs": [],
   "source": [
    "# corr = X.corr()\n",
    "\n",
    "# fig, ax = plt.subplots(figsize=(20,10))\n",
    "# sns.heatmap(corr, xticklabels = corr.columns, yticklabels = corr.columns, annot = True)"
   ]
  },
  {
   "attachments": {},
   "cell_type": "markdown",
   "metadata": {},
   "source": [
    "***\n",
    "## Definição do Target"
   ]
  },
  {
   "cell_type": "code",
   "execution_count": null,
   "metadata": {},
   "outputs": [],
   "source": [
    "# define target\n",
    "y = dados_droped['aging_aparelho']\n",
    "y"
   ]
  },
  {
   "attachments": {},
   "cell_type": "markdown",
   "metadata": {},
   "source": [
    "***\n",
    "## Modelagem"
   ]
  },
  {
   "cell_type": "code",
   "execution_count": null,
   "metadata": {},
   "outputs": [],
   "source": [
    "# contagem de aging\n",
    "from collections import Counter\n",
    "\n",
    "c = Counter(y)\n",
    "c"
   ]
  },
  {
   "cell_type": "code",
   "execution_count": null,
   "metadata": {},
   "outputs": [],
   "source": [
    "# Dividindo as features em dados de treino e teste - 70% para dados de treinamento e 30% para dados de teste\n",
    "X_train, X_val, y_train, y_val = train_test_split(X, \n",
    "                                                  y, \n",
    "                                                  test_size=0.30, \n",
    "                                                  random_state = 2048)"
   ]
  },
  {
   "cell_type": "code",
   "execution_count": null,
   "metadata": {},
   "outputs": [],
   "source": [
    "# Pré-processamento para Dados Numéricos\n",
    "numerical_transformer = Pipeline([\n",
    "                                  ('scaler', StandardScaler())\n",
    "                                 ])"
   ]
  },
  {
   "cell_type": "code",
   "execution_count": null,
   "metadata": {},
   "outputs": [],
   "source": [
    "# Pré-processamento para Dados Categóricos\n",
    "categorical_transformer = Pipeline([\n",
    "                                    ('onehot', OneHotEncoder(handle_unknown='ignore', sparse=False))\n",
    "                                   ])"
   ]
  },
  {
   "cell_type": "code",
   "execution_count": null,
   "metadata": {},
   "outputs": [],
   "source": [
    "# Pré-processamento de pacote de dados numéricos e categóricos\n",
    "preprocessor = ColumnTransformer(transformers=[\n",
    "                                                ('num', numerical_transformer, numerical_cols),\n",
    "                                                ('cat', categorical_transformer, object_cols)\n",
    "                                              ], n_jobs=-1)"
   ]
  },
  {
   "cell_type": "code",
   "execution_count": null,
   "metadata": {},
   "outputs": [],
   "source": [
    "pipeline = Pipeline(steps=[\n",
    "                            ('preprocessor', preprocessor),\n",
    "                            ('model', RandomForestRegressor(random_state=2048, n_jobs=-1))\n",
    "                          ])"
   ]
  },
  {
   "cell_type": "code",
   "execution_count": null,
   "metadata": {},
   "outputs": [],
   "source": [
    "# Preprocessing of training data, fit model \n",
    "pipeline.fit(X_train, y_train)"
   ]
  },
  {
   "cell_type": "code",
   "execution_count": null,
   "metadata": {},
   "outputs": [],
   "source": [
    "# Preprocessing of validation data, get predictions\n",
    "preds = np.asarray(pipeline.predict(X_val), dtype = 'int')"
   ]
  },
  {
   "cell_type": "code",
   "execution_count": null,
   "metadata": {},
   "outputs": [],
   "source": [
    "preds"
   ]
  },
  {
   "attachments": {},
   "cell_type": "markdown",
   "metadata": {},
   "source": [
    "***\n",
    "## Métricas"
   ]
  },
  {
   "cell_type": "code",
   "execution_count": null,
   "metadata": {},
   "outputs": [],
   "source": []
  },
  {
   "attachments": {},
   "cell_type": "markdown",
   "metadata": {},
   "source": [
    "***\n",
    "## Mesclando resultados com tabela"
   ]
  },
  {
   "attachments": {},
   "cell_type": "markdown",
   "metadata": {},
   "source": [
    "### Com a base de validação"
   ]
  },
  {
   "cell_type": "code",
   "execution_count": null,
   "metadata": {},
   "outputs": [],
   "source": [
    "X_val['a.aging_aparelho'] = y_val"
   ]
  },
  {
   "cell_type": "code",
   "execution_count": null,
   "metadata": {},
   "outputs": [],
   "source": [
    "X_val['previsto'] = preds\n",
    "X_val"
   ]
  },
  {
   "cell_type": "code",
   "execution_count": null,
   "metadata": {},
   "outputs": [],
   "source": [
    "X_val[' a.cpfidentifier  '] = dados[' a.cpfidentifier  ']\n",
    "X_val"
   ]
  },
  {
   "cell_type": "code",
   "execution_count": null,
   "metadata": {},
   "outputs": [],
   "source": [
    "X_val[' a.dt_inicio  '] = dados[' a.dt_inicio  ']\n",
    "X_val"
   ]
  },
  {
   "cell_type": "code",
   "execution_count": null,
   "metadata": {},
   "outputs": [],
   "source": [
    "X_val['  a.dt_fim   '] = dados['  a.dt_fim   ']\n",
    "X_val"
   ]
  },
  {
   "attachments": {},
   "cell_type": "markdown",
   "metadata": {},
   "source": [
    "## Calculando data prevista"
   ]
  },
  {
   "cell_type": "code",
   "execution_count": null,
   "metadata": {},
   "outputs": [],
   "source": [
    "X_val['a.dt_fim_previsto'] = ((pd.to_datetime(X_val[' a.dt_inicio  ']).dt.to_period('M')) + X_val['previsto']).dt.to_timestamp()\n",
    "X_val"
   ]
  },
  {
   "cell_type": "code",
   "execution_count": null,
   "metadata": {},
   "outputs": [],
   "source": []
  },
  {
   "attachments": {},
   "cell_type": "markdown",
   "metadata": {},
   "source": [
    "***\n",
    "## Teste com a base toda"
   ]
  },
  {
   "cell_type": "code",
   "execution_count": null,
   "metadata": {},
   "outputs": [],
   "source": [
    "# Preprocessing of validation data, get predictions\n",
    "preds_Test = np.asarray(pipeline.predict(X), dtype = 'int')\n",
    "preds_Test"
   ]
  },
  {
   "cell_type": "code",
   "execution_count": null,
   "metadata": {},
   "outputs": [],
   "source": [
    "X['a.aging_aparelho'] = y"
   ]
  },
  {
   "cell_type": "code",
   "execution_count": null,
   "metadata": {},
   "outputs": [],
   "source": [
    "X['previsto'] = preds_Test\n",
    "X"
   ]
  },
  {
   "cell_type": "code",
   "execution_count": null,
   "metadata": {},
   "outputs": [],
   "source": [
    "X[' a.cpfidentifier  '] = dados[' a.cpfidentifier  ']\n",
    "X"
   ]
  },
  {
   "cell_type": "code",
   "execution_count": null,
   "metadata": {},
   "outputs": [],
   "source": [
    "X[' a.dt_inicio  '] = dados[' a.dt_inicio  ']\n",
    "X"
   ]
  },
  {
   "cell_type": "code",
   "execution_count": null,
   "metadata": {},
   "outputs": [],
   "source": [
    "X['  a.dt_fim   '] = dados['  a.dt_fim   ']\n",
    "X"
   ]
  },
  {
   "attachments": {},
   "cell_type": "markdown",
   "metadata": {},
   "source": [
    "## Calculando data prevista"
   ]
  },
  {
   "cell_type": "code",
   "execution_count": null,
   "metadata": {},
   "outputs": [],
   "source": [
    "X['a.dt_fim_previsto'] = ((pd.to_datetime(X[' a.dt_inicio  ']).dt.to_period('M')) + X['previsto']).dt.to_timestamp()\n",
    "X"
   ]
  },
  {
   "cell_type": "code",
   "execution_count": null,
   "metadata": {},
   "outputs": [],
   "source": []
  }
 ],
 "metadata": {
  "kernelspec": {
   "display_name": "Python 3",
   "language": "python",
   "name": "python3"
  },
  "language_info": {
   "codemirror_mode": {
    "name": "ipython",
    "version": 3
   },
   "file_extension": ".py",
   "mimetype": "text/x-python",
   "name": "python",
   "nbconvert_exporter": "python",
   "pygments_lexer": "ipython3",
   "version": "3.8.16"
  },
  "orig_nbformat": 4,
  "vscode": {
   "interpreter": {
    "hash": "e3eab90f0555a5192143faf4d898506bcaf0d7bc149fc0f4d63b7b006b11e617"
   }
  }
 },
 "nbformat": 4,
 "nbformat_minor": 2
}
