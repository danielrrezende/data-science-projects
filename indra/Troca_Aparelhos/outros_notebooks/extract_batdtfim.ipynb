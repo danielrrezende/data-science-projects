{
 "cells": [
  {
   "cell_type": "code",
   "execution_count": 1,
   "id": "6442d913",
   "metadata": {},
   "outputs": [],
   "source": [
    "from pyspark import SparkContext, SparkConf, SQLContext\n",
    "from pyspark.sql import HiveContext \n",
    "import pyodbc\n",
    "import pandas as pd"
   ]
  },
  {
   "cell_type": "code",
   "execution_count": 8,
   "id": "89794b54",
   "metadata": {},
   "outputs": [],
   "source": [
    "cnxn = pyodbc.connect('DSN=Hive_CDP_PRD;UID=svc_preloadbd;PWD=Hbigdata@00', autocommit=True)\n",
    "\n",
    "cursor = cnxn.cursor()"
   ]
  },
  {
   "cell_type": "code",
   "execution_count": 2,
   "id": "d6f944bd",
   "metadata": {},
   "outputs": [],
   "source": [
    "conn = pyodbc.connect('DSN=Hive_CDP_PRD',autocommit=True) \n",
    "crsr = conn.cursor() \n",
    " "
   ]
  },
  {
   "cell_type": "code",
   "execution_count": 16,
   "id": "59cb7539",
   "metadata": {},
   "outputs": [],
   "source": [
    "query = \"\"\"SELECT * FROM h_bigd_db.batdtfim_anlz2\"\"\"\n"
   ]
  },
  {
   "cell_type": "code",
   "execution_count": null,
   "id": "51da4b6f",
   "metadata": {},
   "outputs": [],
   "source": [
    "data = pd.read_sql(query, cnxn)"
   ]
  },
  {
   "cell_type": "code",
   "execution_count": null,
   "id": "cae0f953",
   "metadata": {},
   "outputs": [],
   "source": [
    "data.head(10)"
   ]
  },
  {
   "cell_type": "code",
   "execution_count": null,
   "id": "7c979270",
   "metadata": {},
   "outputs": [],
   "source": []
  },
  {
   "cell_type": "code",
   "execution_count": null,
   "id": "c3b1ba61",
   "metadata": {},
   "outputs": [],
   "source": []
  },
  {
   "cell_type": "code",
   "execution_count": null,
   "id": "f4af7ff7",
   "metadata": {},
   "outputs": [],
   "source": [
    "##Importing pyodbc module\n",
    "import pyodbc\n",
    " \n",
    "##connecting to your database through ODBC\n",
    "cnxn = pyodbc.connect('DSN=Oracle Wire Protocol;UID=<user>;PWD=<password>', autocommit=True)\n",
    "cursor = cnxn.cursor()\n",
    " \n",
    "##Executing a simple query and printing the records\n",
    "cursor.execute(\"SELECT * FROM GDP ORDER BY YEAR\")\n",
    "for row in cursor.fetchall():\n",
    "    print (row)"
   ]
  },
  {
   "cell_type": "code",
   "execution_count": null,
   "id": "40bf367c",
   "metadata": {},
   "outputs": [],
   "source": []
  },
  {
   "cell_type": "code",
   "execution_count": null,
   "id": "81b98cd9",
   "metadata": {},
   "outputs": [],
   "source": []
  }
 ],
 "metadata": {
  "kernelspec": {
   "display_name": "Python 3 (ipykernel)",
   "language": "python",
   "name": "python3"
  },
  "language_info": {
   "codemirror_mode": {
    "name": "ipython",
    "version": 3
   },
   "file_extension": ".py",
   "mimetype": "text/x-python",
   "name": "python",
   "nbconvert_exporter": "python",
   "pygments_lexer": "ipython3",
   "version": "3.9.13"
  }
 },
 "nbformat": 4,
 "nbformat_minor": 5
}
