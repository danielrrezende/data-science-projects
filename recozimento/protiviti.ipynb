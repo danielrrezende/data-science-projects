{
 "cells": [
  {
   "cell_type": "markdown",
   "metadata": {},
   "source": [
    "# ICTS protiviti - Recozimento\n",
    "\n",
    "O recozimento é um tratamento térmico que tem por finalidade eliminar a dureza de uma peça temperada ou normalizar materiais com tensões internas resultantes do forjamento, da laminação e da trefilação. De acordo com o novo nível de dureza do material tratado, o resultado do processo de recozimento pode ser classificado como: ideal, mediano ou ruim.\n",
    "\n",
    "O conjunto de dados apresentado traz o resultado da execução de diferentes processos de recozimento em experimentos variados. Assim sendo, o candidato deve utilizar os dados para treinar um modelo de machine learning que posteriormente deverá ser utilizado para predizer o resultado de novos processos de recozimento.\n"
   ]
  },
  {
   "cell_type": "markdown",
   "metadata": {},
   "source": [
    "# Dicionário de dados:\n",
    "\n",
    "Number of Attributes: 39\n",
    "Attribute Information:\n",
    "1. family: --,GB,GK,GS,TN,ZA,ZF,ZH,ZM,ZS\n",
    "2. product-type: C, H, G\n",
    "3. steel: -,R,A,U,K,M,S,W,V\n",
    "4. carbon: continuous\n",
    "5. hardness: continuous\n",
    "6. temper_rolling: -,T\n",
    "7. condition: -,S,A,X\n",
    "8. formability: -,1,2,3,4,5\n",
    "9. strength: continuous\n",
    "10. non-ageing: -,N\n",
    "11. surface-finish: P,M,-\n",
    "12. surface-quality: -,D,E,F,G\n",
    "13. enamelability: -,1,2,3,4,5\n",
    "14. bc: Y,-\n",
    "15. bf: Y,-\n",
    "16. bt: Y,-\n",
    "17. bw/me: B,M,-\n",
    "18. bl: Y,-\n",
    "19. m: Y,-\n",
    "20. chrom: C,-\n",
    "21. phos: P,-\n",
    "22. cbond: Y,-\n",
    "23. marvi: Y,-\n",
    "24. exptl: Y,-\n",
    "25. ferro: Y,-\n",
    "26. corr: Y,-\n",
    "27. blue/bright/varn/clean: B,R,V,C,-\n",
    "28. lustre: Y,-\n",
    "29. jurofm: Y,-\n",
    "30. s: Y,-\n",
    "31. p: Y,-\n",
    "32. shape: COIL, SHEET\n",
    "33. thick: continuous\n",
    "34. width: continuous\n",
    "35. len: continuous\n",
    "36. oil: -,Y,N\n",
    "37. bore: 0000,0500,0600,0760\n",
    "38. packing: -,1,2,3\n",
    "39. recozimento: ruim, mediano, ideal\n",
    "40. experimento: 1 ... n - discrete\n"
   ]
  },
  {
   "cell_type": "markdown",
   "metadata": {},
   "source": [
    "* Instalação das libs que serão usados no pipeline"
   ]
  },
  {
   "cell_type": "code",
   "execution_count": 1,
   "metadata": {},
   "outputs": [],
   "source": [
    "# !pip install imblearn\n",
    "# !pip install seaborn\n",
    "# !pip install --upgrade pip\n",
    "# !pip install scikit-plot"
   ]
  },
  {
   "cell_type": "markdown",
   "metadata": {},
   "source": [
    "* Importação de bibliotecas"
   ]
  },
  {
   "cell_type": "code",
   "execution_count": 1,
   "metadata": {
    "_cell_guid": "b1076dfc-b9ad-4769-8c92-a6c4dae69d19",
    "_uuid": "8f2839f25d086af736a60e9eeb907d3b93b6e0e5"
   },
   "outputs": [
    {
     "name": "stdout",
     "output_type": "stream",
     "text": [
      "LOCAL DE DATASETS\n",
      "\n",
      "/Projetos/app-vivavida/san/20210827\\CADASTRO DE FAMÍLIAS.csv\n",
      "/Projetos/app-vivavida/san/20210827\\run_2nd.bat\n",
      "/Projetos/app-vivavida/san/20210827\\Untitled.ipynb\n",
      "/Projetos/app-vivavida/san/20210827\\.ipynb_checkpoints\\CADASTRO DE FAMÍLIAS-checkpoint.csv\n",
      "/Projetos/app-vivavida/san/20210827\\.ipynb_checkpoints\\CADASTRO DE FAMÍLIAS2-checkpoint.csv\n",
      "/Projetos/app-vivavida/san/20210827\\.ipynb_checkpoints\\Untitled-checkpoint.ipynb\n"
     ]
    }
   ],
   "source": [
    "import numpy as np # linear algebra\n",
    "import pandas as pd # data processing, CSV file I/O (e.g. pd.read_csv)\n",
    "from collections import Counter\n",
    "import seaborn as sns\n",
    "import matplotlib.pyplot as plt\n",
    "from sklearn.model_selection import train_test_split\n",
    "from scikitplot.metrics import plot_roc\n",
    "from sklearn.model_selection import ParameterGrid\n",
    "import warnings\n",
    "warnings.filterwarnings(\"ignore\", category=FutureWarning)\n",
    "\n",
    "from sklearn.linear_model import LogisticRegression\n",
    "from sklearn.ensemble import RandomForestClassifier, GradientBoostingClassifier\n",
    "from sklearn.tree import DecisionTreeClassifier\n",
    "\n",
    "from imblearn.pipeline import Pipeline\n",
    "from sklearn.preprocessing import OneHotEncoder, StandardScaler\n",
    "from sklearn.impute import SimpleImputer\n",
    "from sklearn.compose import ColumnTransformer\n",
    "from sklearn.linear_model import LogisticRegression\n",
    "from imblearn.over_sampling import SMOTE\n",
    "from sklearn.decomposition import PCA\n",
    "from sklearn.metrics import classification_report, confusion_matrix\n",
    "\n",
    "import os\n",
    "print('LOCAL DE DATASETS')\n",
    "print()\n",
    "for dirname, _, filenames in os.walk('/Projetos/app-vivavida/san/20210827'):\n",
    "    for filename in filenames:\n",
    "        print(os.path.join(dirname, filename))"
   ]
  },
  {
   "cell_type": "markdown",
   "metadata": {},
   "source": [
    "***\n",
    "# 1) Leitura da base de dados de treinamento e test"
   ]
  },
  {
   "cell_type": "markdown",
   "metadata": {},
   "source": [
    "* ### Leitura do dataset de DATA"
   ]
  },
  {
   "cell_type": "code",
   "execution_count": 3,
   "metadata": {},
   "outputs": [
    {
     "data": {
      "text/html": [
       "<div>\n",
       "<style scoped>\n",
       "    .dataframe tbody tr th:only-of-type {\n",
       "        vertical-align: middle;\n",
       "    }\n",
       "\n",
       "    .dataframe tbody tr th {\n",
       "        vertical-align: top;\n",
       "    }\n",
       "\n",
       "    .dataframe thead th {\n",
       "        text-align: right;\n",
       "    }\n",
       "</style>\n",
       "<table border=\"1\" class=\"dataframe\">\n",
       "  <thead>\n",
       "    <tr style=\"text-align: right;\">\n",
       "      <th></th>\n",
       "      <th>exp_id</th>\n",
       "      <th>ano</th>\n",
       "      <th>mes</th>\n",
       "    </tr>\n",
       "  </thead>\n",
       "  <tbody>\n",
       "    <tr>\n",
       "      <th>0</th>\n",
       "      <td>2</td>\n",
       "      <td>2020</td>\n",
       "      <td>8</td>\n",
       "    </tr>\n",
       "    <tr>\n",
       "      <th>1</th>\n",
       "      <td>1368</td>\n",
       "      <td>2020</td>\n",
       "      <td>8</td>\n",
       "    </tr>\n",
       "    <tr>\n",
       "      <th>2</th>\n",
       "      <td>1130</td>\n",
       "      <td>2020</td>\n",
       "      <td>8</td>\n",
       "    </tr>\n",
       "    <tr>\n",
       "      <th>3</th>\n",
       "      <td>402</td>\n",
       "      <td>2020</td>\n",
       "      <td>8</td>\n",
       "    </tr>\n",
       "    <tr>\n",
       "      <th>4</th>\n",
       "      <td>407</td>\n",
       "      <td>2020</td>\n",
       "      <td>8</td>\n",
       "    </tr>\n",
       "    <tr>\n",
       "      <th>...</th>\n",
       "      <td>...</td>\n",
       "      <td>...</td>\n",
       "      <td>...</td>\n",
       "    </tr>\n",
       "    <tr>\n",
       "      <th>2419</th>\n",
       "      <td>1354</td>\n",
       "      <td>2020</td>\n",
       "      <td>7</td>\n",
       "    </tr>\n",
       "    <tr>\n",
       "      <th>2420</th>\n",
       "      <td>1610</td>\n",
       "      <td>2020</td>\n",
       "      <td>7</td>\n",
       "    </tr>\n",
       "    <tr>\n",
       "      <th>2421</th>\n",
       "      <td>2243</td>\n",
       "      <td>2020</td>\n",
       "      <td>7</td>\n",
       "    </tr>\n",
       "    <tr>\n",
       "      <th>2422</th>\n",
       "      <td>900</td>\n",
       "      <td>2020</td>\n",
       "      <td>7</td>\n",
       "    </tr>\n",
       "    <tr>\n",
       "      <th>2423</th>\n",
       "      <td>534</td>\n",
       "      <td>2020</td>\n",
       "      <td>7</td>\n",
       "    </tr>\n",
       "  </tbody>\n",
       "</table>\n",
       "<p>2424 rows × 3 columns</p>\n",
       "</div>"
      ],
      "text/plain": [
       "      exp_id   ano  mes\n",
       "0          2  2020    8\n",
       "1       1368  2020    8\n",
       "2       1130  2020    8\n",
       "3        402  2020    8\n",
       "4        407  2020    8\n",
       "...      ...   ...  ...\n",
       "2419    1354  2020    7\n",
       "2420    1610  2020    7\n",
       "2421    2243  2020    7\n",
       "2422     900  2020    7\n",
       "2423     534  2020    7\n",
       "\n",
       "[2424 rows x 3 columns]"
      ]
     },
     "execution_count": 3,
     "metadata": {},
     "output_type": "execute_result"
    }
   ],
   "source": [
    "df_date = pd.read_csv(\"dataset/data_experimentos.csv\", sep=',')\n",
    "df_date"
   ]
  },
  {
   "cell_type": "markdown",
   "metadata": {},
   "source": [
    "* ### Leitura do dataset de Treinamento"
   ]
  },
  {
   "cell_type": "code",
   "execution_count": 4,
   "metadata": {},
   "outputs": [
    {
     "data": {
      "text/html": [
       "<div>\n",
       "<style scoped>\n",
       "    .dataframe tbody tr th:only-of-type {\n",
       "        vertical-align: middle;\n",
       "    }\n",
       "\n",
       "    .dataframe tbody tr th {\n",
       "        vertical-align: top;\n",
       "    }\n",
       "\n",
       "    .dataframe thead th {\n",
       "        text-align: right;\n",
       "    }\n",
       "</style>\n",
       "<table border=\"1\" class=\"dataframe\">\n",
       "  <thead>\n",
       "    <tr style=\"text-align: right;\">\n",
       "      <th></th>\n",
       "      <th>family</th>\n",
       "      <th>product-type</th>\n",
       "      <th>steel</th>\n",
       "      <th>carbon</th>\n",
       "      <th>hardness</th>\n",
       "      <th>temper_rolling</th>\n",
       "      <th>condition</th>\n",
       "      <th>formability</th>\n",
       "      <th>strength</th>\n",
       "      <th>non-ageing</th>\n",
       "      <th>...</th>\n",
       "      <th>p</th>\n",
       "      <th>shape</th>\n",
       "      <th>thick</th>\n",
       "      <th>width</th>\n",
       "      <th>len</th>\n",
       "      <th>oil</th>\n",
       "      <th>bore</th>\n",
       "      <th>packing</th>\n",
       "      <th>recozimento</th>\n",
       "      <th>experimento</th>\n",
       "    </tr>\n",
       "  </thead>\n",
       "  <tbody>\n",
       "    <tr>\n",
       "      <th>0</th>\n",
       "      <td>?</td>\n",
       "      <td>C</td>\n",
       "      <td>A</td>\n",
       "      <td>8</td>\n",
       "      <td>0</td>\n",
       "      <td>?</td>\n",
       "      <td>S</td>\n",
       "      <td>?</td>\n",
       "      <td>0</td>\n",
       "      <td>?</td>\n",
       "      <td>...</td>\n",
       "      <td>?</td>\n",
       "      <td>COIL</td>\n",
       "      <td>_0.7_</td>\n",
       "      <td>_610.0_</td>\n",
       "      <td>_0_</td>\n",
       "      <td>?</td>\n",
       "      <td>0</td>\n",
       "      <td>?</td>\n",
       "      <td>ruim</td>\n",
       "      <td>exp_2</td>\n",
       "    </tr>\n",
       "    <tr>\n",
       "      <th>1</th>\n",
       "      <td>?</td>\n",
       "      <td>C</td>\n",
       "      <td>R</td>\n",
       "      <td>0</td>\n",
       "      <td>0</td>\n",
       "      <td>?</td>\n",
       "      <td>S</td>\n",
       "      <td>2.0</td>\n",
       "      <td>0</td>\n",
       "      <td>?</td>\n",
       "      <td>...</td>\n",
       "      <td>?</td>\n",
       "      <td>SHEET</td>\n",
       "      <td>_0.7_</td>\n",
       "      <td>_1300.0_</td>\n",
       "      <td>_762_</td>\n",
       "      <td>?</td>\n",
       "      <td>0</td>\n",
       "      <td>?</td>\n",
       "      <td>ruim</td>\n",
       "      <td>exp_1368</td>\n",
       "    </tr>\n",
       "    <tr>\n",
       "      <th>2</th>\n",
       "      <td>?</td>\n",
       "      <td>C</td>\n",
       "      <td>A</td>\n",
       "      <td>0</td>\n",
       "      <td>60</td>\n",
       "      <td>T</td>\n",
       "      <td>?</td>\n",
       "      <td>?</td>\n",
       "      <td>0</td>\n",
       "      <td>?</td>\n",
       "      <td>...</td>\n",
       "      <td>?</td>\n",
       "      <td>COIL</td>\n",
       "      <td>_2.801_</td>\n",
       "      <td>_385.1_</td>\n",
       "      <td>_0_</td>\n",
       "      <td>?</td>\n",
       "      <td>0</td>\n",
       "      <td>?</td>\n",
       "      <td>ideal</td>\n",
       "      <td>exp_1130</td>\n",
       "    </tr>\n",
       "    <tr>\n",
       "      <th>3</th>\n",
       "      <td>?</td>\n",
       "      <td>C</td>\n",
       "      <td>A</td>\n",
       "      <td>0</td>\n",
       "      <td>60</td>\n",
       "      <td>T</td>\n",
       "      <td>?</td>\n",
       "      <td>?</td>\n",
       "      <td>0</td>\n",
       "      <td>?</td>\n",
       "      <td>...</td>\n",
       "      <td>?</td>\n",
       "      <td>SHEET</td>\n",
       "      <td>_0.801_</td>\n",
       "      <td>_255.0_</td>\n",
       "      <td>_269_</td>\n",
       "      <td>?</td>\n",
       "      <td>0</td>\n",
       "      <td>?</td>\n",
       "      <td>ideal</td>\n",
       "      <td>exp_402</td>\n",
       "    </tr>\n",
       "    <tr>\n",
       "      <th>4</th>\n",
       "      <td>?</td>\n",
       "      <td>C</td>\n",
       "      <td>A</td>\n",
       "      <td>0</td>\n",
       "      <td>45</td>\n",
       "      <td>?</td>\n",
       "      <td>S</td>\n",
       "      <td>?</td>\n",
       "      <td>0</td>\n",
       "      <td>?</td>\n",
       "      <td>...</td>\n",
       "      <td>?</td>\n",
       "      <td>COIL</td>\n",
       "      <td>_1.6_</td>\n",
       "      <td>_610.0_</td>\n",
       "      <td>_0_</td>\n",
       "      <td>?</td>\n",
       "      <td>0</td>\n",
       "      <td>?</td>\n",
       "      <td>mediano</td>\n",
       "      <td>exp_407</td>\n",
       "    </tr>\n",
       "    <tr>\n",
       "      <th>...</th>\n",
       "      <td>...</td>\n",
       "      <td>...</td>\n",
       "      <td>...</td>\n",
       "      <td>...</td>\n",
       "      <td>...</td>\n",
       "      <td>...</td>\n",
       "      <td>...</td>\n",
       "      <td>...</td>\n",
       "      <td>...</td>\n",
       "      <td>...</td>\n",
       "      <td>...</td>\n",
       "      <td>...</td>\n",
       "      <td>...</td>\n",
       "      <td>...</td>\n",
       "      <td>...</td>\n",
       "      <td>...</td>\n",
       "      <td>...</td>\n",
       "      <td>...</td>\n",
       "      <td>...</td>\n",
       "      <td>...</td>\n",
       "      <td>...</td>\n",
       "    </tr>\n",
       "    <tr>\n",
       "      <th>2419</th>\n",
       "      <td>?</td>\n",
       "      <td>C</td>\n",
       "      <td>R</td>\n",
       "      <td>0</td>\n",
       "      <td>0</td>\n",
       "      <td>?</td>\n",
       "      <td>S</td>\n",
       "      <td>2.0</td>\n",
       "      <td>0</td>\n",
       "      <td>?</td>\n",
       "      <td>...</td>\n",
       "      <td>?</td>\n",
       "      <td>SHEET</td>\n",
       "      <td>_1.6_</td>\n",
       "      <td>_1500.0_</td>\n",
       "      <td>_4170_</td>\n",
       "      <td>?</td>\n",
       "      <td>0</td>\n",
       "      <td>?</td>\n",
       "      <td>mediano</td>\n",
       "      <td>exp_1354</td>\n",
       "    </tr>\n",
       "    <tr>\n",
       "      <th>2420</th>\n",
       "      <td>TN</td>\n",
       "      <td>C</td>\n",
       "      <td>A</td>\n",
       "      <td>0</td>\n",
       "      <td>0</td>\n",
       "      <td>?</td>\n",
       "      <td>?</td>\n",
       "      <td>3.0</td>\n",
       "      <td>0</td>\n",
       "      <td>N</td>\n",
       "      <td>...</td>\n",
       "      <td>?</td>\n",
       "      <td>SHEET</td>\n",
       "      <td>_1.2_</td>\n",
       "      <td>_609.9_</td>\n",
       "      <td>_1_</td>\n",
       "      <td>?</td>\n",
       "      <td>0</td>\n",
       "      <td>?</td>\n",
       "      <td>mediano</td>\n",
       "      <td>exp_1610</td>\n",
       "    </tr>\n",
       "    <tr>\n",
       "      <th>2421</th>\n",
       "      <td>?</td>\n",
       "      <td>C</td>\n",
       "      <td>R</td>\n",
       "      <td>0</td>\n",
       "      <td>0</td>\n",
       "      <td>?</td>\n",
       "      <td>S</td>\n",
       "      <td>3.0</td>\n",
       "      <td>0</td>\n",
       "      <td>?</td>\n",
       "      <td>...</td>\n",
       "      <td>?</td>\n",
       "      <td>SHEET</td>\n",
       "      <td>_1.601_</td>\n",
       "      <td>_830.0_</td>\n",
       "      <td>_880_</td>\n",
       "      <td>?</td>\n",
       "      <td>0</td>\n",
       "      <td>?</td>\n",
       "      <td>mediano</td>\n",
       "      <td>exp_2243</td>\n",
       "    </tr>\n",
       "    <tr>\n",
       "      <th>2422</th>\n",
       "      <td>?</td>\n",
       "      <td>C</td>\n",
       "      <td>A</td>\n",
       "      <td>0</td>\n",
       "      <td>85</td>\n",
       "      <td>T</td>\n",
       "      <td>?</td>\n",
       "      <td>?</td>\n",
       "      <td>0</td>\n",
       "      <td>?</td>\n",
       "      <td>...</td>\n",
       "      <td>?</td>\n",
       "      <td>COIL</td>\n",
       "      <td>_0.4_</td>\n",
       "      <td>_20.0_</td>\n",
       "      <td>_0_</td>\n",
       "      <td>?</td>\n",
       "      <td>0</td>\n",
       "      <td>?</td>\n",
       "      <td>mediano</td>\n",
       "      <td>exp_900</td>\n",
       "    </tr>\n",
       "    <tr>\n",
       "      <th>2423</th>\n",
       "      <td>?</td>\n",
       "      <td>C</td>\n",
       "      <td>A</td>\n",
       "      <td>0</td>\n",
       "      <td>85</td>\n",
       "      <td>T</td>\n",
       "      <td>?</td>\n",
       "      <td>?</td>\n",
       "      <td>0</td>\n",
       "      <td>?</td>\n",
       "      <td>...</td>\n",
       "      <td>?</td>\n",
       "      <td>COIL</td>\n",
       "      <td>_4.0_</td>\n",
       "      <td>_610.0_</td>\n",
       "      <td>_0_</td>\n",
       "      <td>?</td>\n",
       "      <td>500</td>\n",
       "      <td>?</td>\n",
       "      <td>mediano</td>\n",
       "      <td>exp_534</td>\n",
       "    </tr>\n",
       "  </tbody>\n",
       "</table>\n",
       "<p>2424 rows × 40 columns</p>\n",
       "</div>"
      ],
      "text/plain": [
       "     family product-type steel  carbon  hardness temper_rolling condition  \\\n",
       "0         ?            C     A       8         0              ?         S   \n",
       "1         ?            C     R       0         0              ?         S   \n",
       "2         ?            C     A       0        60              T         ?   \n",
       "3         ?            C     A       0        60              T         ?   \n",
       "4         ?            C     A       0        45              ?         S   \n",
       "...     ...          ...   ...     ...       ...            ...       ...   \n",
       "2419      ?            C     R       0         0              ?         S   \n",
       "2420     TN            C     A       0         0              ?         ?   \n",
       "2421      ?            C     R       0         0              ?         S   \n",
       "2422      ?            C     A       0        85              T         ?   \n",
       "2423      ?            C     A       0        85              T         ?   \n",
       "\n",
       "     formability  strength non-ageing  ...  p  shape      thick       width  \\\n",
       "0              ?         0          ?  ...  ?   COIL     _0.7_     _610.0_    \n",
       "1            2.0         0          ?  ...  ?  SHEET     _0.7_    _1300.0_    \n",
       "2              ?         0          ?  ...  ?   COIL   _2.801_     _385.1_    \n",
       "3              ?         0          ?  ...  ?  SHEET   _0.801_     _255.0_    \n",
       "4              ?         0          ?  ...  ?   COIL     _1.6_     _610.0_    \n",
       "...          ...       ...        ...  ... ..    ...        ...         ...   \n",
       "2419         2.0         0          ?  ...  ?  SHEET     _1.6_    _1500.0_    \n",
       "2420         3.0         0          N  ...  ?  SHEET     _1.2_     _609.9_    \n",
       "2421         3.0         0          ?  ...  ?  SHEET   _1.601_     _830.0_    \n",
       "2422           ?         0          ?  ...  ?   COIL     _0.4_      _20.0_    \n",
       "2423           ?         0          ?  ...  ?   COIL     _4.0_     _610.0_    \n",
       "\n",
       "           len oil bore packing recozimento experimento  \n",
       "0         _0_    ?    0       ?        ruim       exp_2  \n",
       "1       _762_    ?    0       ?        ruim    exp_1368  \n",
       "2         _0_    ?    0       ?       ideal    exp_1130  \n",
       "3       _269_    ?    0       ?       ideal     exp_402  \n",
       "4         _0_    ?    0       ?     mediano     exp_407  \n",
       "...        ...  ..  ...     ...         ...         ...  \n",
       "2419   _4170_    ?    0       ?     mediano    exp_1354  \n",
       "2420      _1_    ?    0       ?     mediano    exp_1610  \n",
       "2421    _880_    ?    0       ?     mediano    exp_2243  \n",
       "2422      _0_    ?    0       ?     mediano     exp_900  \n",
       "2423      _0_    ?  500       ?     mediano     exp_534  \n",
       "\n",
       "[2424 rows x 40 columns]"
      ]
     },
     "execution_count": 4,
     "metadata": {},
     "output_type": "execute_result"
    }
   ],
   "source": [
    "df_train = pd.read_csv(\"dataset/train.csv\", sep=',')\n",
    "df_train"
   ]
  },
  {
   "cell_type": "markdown",
   "metadata": {},
   "source": [
    "* ### Leitura de dataset de Teste"
   ]
  },
  {
   "cell_type": "code",
   "execution_count": 5,
   "metadata": {
    "_cell_guid": "",
    "_uuid": ""
   },
   "outputs": [
    {
     "data": {
      "text/html": [
       "<div>\n",
       "<style scoped>\n",
       "    .dataframe tbody tr th:only-of-type {\n",
       "        vertical-align: middle;\n",
       "    }\n",
       "\n",
       "    .dataframe tbody tr th {\n",
       "        vertical-align: top;\n",
       "    }\n",
       "\n",
       "    .dataframe thead th {\n",
       "        text-align: right;\n",
       "    }\n",
       "</style>\n",
       "<table border=\"1\" class=\"dataframe\">\n",
       "  <thead>\n",
       "    <tr style=\"text-align: right;\">\n",
       "      <th></th>\n",
       "      <th>family</th>\n",
       "      <th>product-type</th>\n",
       "      <th>steel</th>\n",
       "      <th>carbon</th>\n",
       "      <th>hardness</th>\n",
       "      <th>temper_rolling</th>\n",
       "      <th>condition</th>\n",
       "      <th>formability</th>\n",
       "      <th>strength</th>\n",
       "      <th>non-ageing</th>\n",
       "      <th>...</th>\n",
       "      <th>s</th>\n",
       "      <th>p</th>\n",
       "      <th>shape</th>\n",
       "      <th>thick</th>\n",
       "      <th>width</th>\n",
       "      <th>len</th>\n",
       "      <th>oil</th>\n",
       "      <th>bore</th>\n",
       "      <th>packing</th>\n",
       "      <th>id</th>\n",
       "    </tr>\n",
       "  </thead>\n",
       "  <tbody>\n",
       "    <tr>\n",
       "      <th>0</th>\n",
       "      <td>?</td>\n",
       "      <td>C</td>\n",
       "      <td>K</td>\n",
       "      <td>55</td>\n",
       "      <td>0</td>\n",
       "      <td>?</td>\n",
       "      <td>?</td>\n",
       "      <td>?</td>\n",
       "      <td>0</td>\n",
       "      <td>?</td>\n",
       "      <td>...</td>\n",
       "      <td>?</td>\n",
       "      <td>?</td>\n",
       "      <td>COIL</td>\n",
       "      <td>2.200</td>\n",
       "      <td>900.0</td>\n",
       "      <td>0</td>\n",
       "      <td>?</td>\n",
       "      <td>0</td>\n",
       "      <td>?</td>\n",
       "      <td>1</td>\n",
       "    </tr>\n",
       "    <tr>\n",
       "      <th>1</th>\n",
       "      <td>?</td>\n",
       "      <td>C</td>\n",
       "      <td>K</td>\n",
       "      <td>45</td>\n",
       "      <td>0</td>\n",
       "      <td>?</td>\n",
       "      <td>?</td>\n",
       "      <td>?</td>\n",
       "      <td>0</td>\n",
       "      <td>?</td>\n",
       "      <td>...</td>\n",
       "      <td>?</td>\n",
       "      <td>?</td>\n",
       "      <td>COIL</td>\n",
       "      <td>1.090</td>\n",
       "      <td>610.0</td>\n",
       "      <td>0</td>\n",
       "      <td>?</td>\n",
       "      <td>0</td>\n",
       "      <td>?</td>\n",
       "      <td>2</td>\n",
       "    </tr>\n",
       "    <tr>\n",
       "      <th>2</th>\n",
       "      <td>?</td>\n",
       "      <td>C</td>\n",
       "      <td>R</td>\n",
       "      <td>0</td>\n",
       "      <td>0</td>\n",
       "      <td>?</td>\n",
       "      <td>S</td>\n",
       "      <td>3.0</td>\n",
       "      <td>0</td>\n",
       "      <td>?</td>\n",
       "      <td>...</td>\n",
       "      <td>?</td>\n",
       "      <td>?</td>\n",
       "      <td>SHEET</td>\n",
       "      <td>1.599</td>\n",
       "      <td>150.0</td>\n",
       "      <td>762</td>\n",
       "      <td>?</td>\n",
       "      <td>0</td>\n",
       "      <td>?</td>\n",
       "      <td>3</td>\n",
       "    </tr>\n",
       "    <tr>\n",
       "      <th>3</th>\n",
       "      <td>?</td>\n",
       "      <td>C</td>\n",
       "      <td>A</td>\n",
       "      <td>0</td>\n",
       "      <td>0</td>\n",
       "      <td>?</td>\n",
       "      <td>S</td>\n",
       "      <td>2.0</td>\n",
       "      <td>0</td>\n",
       "      <td>?</td>\n",
       "      <td>...</td>\n",
       "      <td>?</td>\n",
       "      <td>?</td>\n",
       "      <td>COIL</td>\n",
       "      <td>0.400</td>\n",
       "      <td>20.0</td>\n",
       "      <td>0</td>\n",
       "      <td>?</td>\n",
       "      <td>0</td>\n",
       "      <td>?</td>\n",
       "      <td>4</td>\n",
       "    </tr>\n",
       "    <tr>\n",
       "      <th>4</th>\n",
       "      <td>?</td>\n",
       "      <td>C</td>\n",
       "      <td>R</td>\n",
       "      <td>0</td>\n",
       "      <td>0</td>\n",
       "      <td>?</td>\n",
       "      <td>S</td>\n",
       "      <td>2.0</td>\n",
       "      <td>0</td>\n",
       "      <td>?</td>\n",
       "      <td>...</td>\n",
       "      <td>?</td>\n",
       "      <td>?</td>\n",
       "      <td>COIL</td>\n",
       "      <td>0.699</td>\n",
       "      <td>1320.0</td>\n",
       "      <td>0</td>\n",
       "      <td>?</td>\n",
       "      <td>0</td>\n",
       "      <td>?</td>\n",
       "      <td>5</td>\n",
       "    </tr>\n",
       "    <tr>\n",
       "      <th>...</th>\n",
       "      <td>...</td>\n",
       "      <td>...</td>\n",
       "      <td>...</td>\n",
       "      <td>...</td>\n",
       "      <td>...</td>\n",
       "      <td>...</td>\n",
       "      <td>...</td>\n",
       "      <td>...</td>\n",
       "      <td>...</td>\n",
       "      <td>...</td>\n",
       "      <td>...</td>\n",
       "      <td>...</td>\n",
       "      <td>...</td>\n",
       "      <td>...</td>\n",
       "      <td>...</td>\n",
       "      <td>...</td>\n",
       "      <td>...</td>\n",
       "      <td>...</td>\n",
       "      <td>...</td>\n",
       "      <td>...</td>\n",
       "      <td>...</td>\n",
       "    </tr>\n",
       "    <tr>\n",
       "      <th>85</th>\n",
       "      <td>?</td>\n",
       "      <td>C</td>\n",
       "      <td>A</td>\n",
       "      <td>0</td>\n",
       "      <td>85</td>\n",
       "      <td>T</td>\n",
       "      <td>?</td>\n",
       "      <td>?</td>\n",
       "      <td>0</td>\n",
       "      <td>?</td>\n",
       "      <td>...</td>\n",
       "      <td>?</td>\n",
       "      <td>?</td>\n",
       "      <td>SHEET</td>\n",
       "      <td>0.300</td>\n",
       "      <td>1220.0</td>\n",
       "      <td>4880</td>\n",
       "      <td>?</td>\n",
       "      <td>0</td>\n",
       "      <td>?</td>\n",
       "      <td>86</td>\n",
       "    </tr>\n",
       "    <tr>\n",
       "      <th>86</th>\n",
       "      <td>?</td>\n",
       "      <td>C</td>\n",
       "      <td>A</td>\n",
       "      <td>0</td>\n",
       "      <td>0</td>\n",
       "      <td>?</td>\n",
       "      <td>S</td>\n",
       "      <td>2.0</td>\n",
       "      <td>0</td>\n",
       "      <td>?</td>\n",
       "      <td>...</td>\n",
       "      <td>?</td>\n",
       "      <td>?</td>\n",
       "      <td>SHEET</td>\n",
       "      <td>0.600</td>\n",
       "      <td>610.0</td>\n",
       "      <td>761</td>\n",
       "      <td>?</td>\n",
       "      <td>0</td>\n",
       "      <td>?</td>\n",
       "      <td>87</td>\n",
       "    </tr>\n",
       "    <tr>\n",
       "      <th>87</th>\n",
       "      <td>?</td>\n",
       "      <td>C</td>\n",
       "      <td>W</td>\n",
       "      <td>0</td>\n",
       "      <td>0</td>\n",
       "      <td>?</td>\n",
       "      <td>?</td>\n",
       "      <td>?</td>\n",
       "      <td>310</td>\n",
       "      <td>?</td>\n",
       "      <td>...</td>\n",
       "      <td>?</td>\n",
       "      <td>?</td>\n",
       "      <td>COIL</td>\n",
       "      <td>2.500</td>\n",
       "      <td>1274.9</td>\n",
       "      <td>0</td>\n",
       "      <td>?</td>\n",
       "      <td>600</td>\n",
       "      <td>?</td>\n",
       "      <td>88</td>\n",
       "    </tr>\n",
       "    <tr>\n",
       "      <th>88</th>\n",
       "      <td>?</td>\n",
       "      <td>C</td>\n",
       "      <td>A</td>\n",
       "      <td>0</td>\n",
       "      <td>60</td>\n",
       "      <td>T</td>\n",
       "      <td>?</td>\n",
       "      <td>?</td>\n",
       "      <td>0</td>\n",
       "      <td>?</td>\n",
       "      <td>...</td>\n",
       "      <td>?</td>\n",
       "      <td>?</td>\n",
       "      <td>COIL</td>\n",
       "      <td>2.801</td>\n",
       "      <td>50.0</td>\n",
       "      <td>0</td>\n",
       "      <td>?</td>\n",
       "      <td>0</td>\n",
       "      <td>?</td>\n",
       "      <td>89</td>\n",
       "    </tr>\n",
       "    <tr>\n",
       "      <th>89</th>\n",
       "      <td>?</td>\n",
       "      <td>C</td>\n",
       "      <td>A</td>\n",
       "      <td>0</td>\n",
       "      <td>0</td>\n",
       "      <td>?</td>\n",
       "      <td>S</td>\n",
       "      <td>2.0</td>\n",
       "      <td>0</td>\n",
       "      <td>?</td>\n",
       "      <td>...</td>\n",
       "      <td>?</td>\n",
       "      <td>?</td>\n",
       "      <td>SHEET</td>\n",
       "      <td>0.699</td>\n",
       "      <td>519.9</td>\n",
       "      <td>762</td>\n",
       "      <td>?</td>\n",
       "      <td>0</td>\n",
       "      <td>?</td>\n",
       "      <td>90</td>\n",
       "    </tr>\n",
       "  </tbody>\n",
       "</table>\n",
       "<p>90 rows × 39 columns</p>\n",
       "</div>"
      ],
      "text/plain": [
       "   family product-type steel  carbon  hardness temper_rolling condition  \\\n",
       "0       ?            C     K      55         0              ?         ?   \n",
       "1       ?            C     K      45         0              ?         ?   \n",
       "2       ?            C     R       0         0              ?         S   \n",
       "3       ?            C     A       0         0              ?         S   \n",
       "4       ?            C     R       0         0              ?         S   \n",
       "..    ...          ...   ...     ...       ...            ...       ...   \n",
       "85      ?            C     A       0        85              T         ?   \n",
       "86      ?            C     A       0         0              ?         S   \n",
       "87      ?            C     W       0         0              ?         ?   \n",
       "88      ?            C     A       0        60              T         ?   \n",
       "89      ?            C     A       0         0              ?         S   \n",
       "\n",
       "   formability  strength non-ageing  ...  s  p  shape  thick   width   len  \\\n",
       "0            ?         0          ?  ...  ?  ?   COIL  2.200   900.0     0   \n",
       "1            ?         0          ?  ...  ?  ?   COIL  1.090   610.0     0   \n",
       "2          3.0         0          ?  ...  ?  ?  SHEET  1.599   150.0   762   \n",
       "3          2.0         0          ?  ...  ?  ?   COIL  0.400    20.0     0   \n",
       "4          2.0         0          ?  ...  ?  ?   COIL  0.699  1320.0     0   \n",
       "..         ...       ...        ...  ... .. ..    ...    ...     ...   ...   \n",
       "85           ?         0          ?  ...  ?  ?  SHEET  0.300  1220.0  4880   \n",
       "86         2.0         0          ?  ...  ?  ?  SHEET  0.600   610.0   761   \n",
       "87           ?       310          ?  ...  ?  ?   COIL  2.500  1274.9     0   \n",
       "88           ?         0          ?  ...  ?  ?   COIL  2.801    50.0     0   \n",
       "89         2.0         0          ?  ...  ?  ?  SHEET  0.699   519.9   762   \n",
       "\n",
       "   oil bore packing  id  \n",
       "0    ?    0       ?   1  \n",
       "1    ?    0       ?   2  \n",
       "2    ?    0       ?   3  \n",
       "3    ?    0       ?   4  \n",
       "4    ?    0       ?   5  \n",
       "..  ..  ...     ...  ..  \n",
       "85   ?    0       ?  86  \n",
       "86   ?    0       ?  87  \n",
       "87   ?  600       ?  88  \n",
       "88   ?    0       ?  89  \n",
       "89   ?    0       ?  90  \n",
       "\n",
       "[90 rows x 39 columns]"
      ]
     },
     "execution_count": 5,
     "metadata": {},
     "output_type": "execute_result"
    }
   ],
   "source": [
    "df_test = pd.read_csv(\"dataset/test.csv\", sep=',')\n",
    "df_test"
   ]
  },
  {
   "cell_type": "markdown",
   "metadata": {},
   "source": [
    "***\n",
    "# 1.1) Unir o conjunto de dados de treinamento ao de data"
   ]
  },
  {
   "cell_type": "markdown",
   "metadata": {},
   "source": [
    "* Mesclagem necessária para que fosse possível contabilizar os experimentos realizados em agosto de 2020, conforme requerido."
   ]
  },
  {
   "cell_type": "code",
   "execution_count": 6,
   "metadata": {},
   "outputs": [
    {
     "data": {
      "text/html": [
       "<div>\n",
       "<style scoped>\n",
       "    .dataframe tbody tr th:only-of-type {\n",
       "        vertical-align: middle;\n",
       "    }\n",
       "\n",
       "    .dataframe tbody tr th {\n",
       "        vertical-align: top;\n",
       "    }\n",
       "\n",
       "    .dataframe thead th {\n",
       "        text-align: right;\n",
       "    }\n",
       "</style>\n",
       "<table border=\"1\" class=\"dataframe\">\n",
       "  <thead>\n",
       "    <tr style=\"text-align: right;\">\n",
       "      <th></th>\n",
       "      <th>exp_id</th>\n",
       "      <th>ano</th>\n",
       "      <th>mes</th>\n",
       "      <th>family</th>\n",
       "      <th>product-type</th>\n",
       "      <th>steel</th>\n",
       "      <th>carbon</th>\n",
       "      <th>hardness</th>\n",
       "      <th>temper_rolling</th>\n",
       "      <th>condition</th>\n",
       "      <th>...</th>\n",
       "      <th>p</th>\n",
       "      <th>shape</th>\n",
       "      <th>thick</th>\n",
       "      <th>width</th>\n",
       "      <th>len</th>\n",
       "      <th>oil</th>\n",
       "      <th>bore</th>\n",
       "      <th>packing</th>\n",
       "      <th>recozimento</th>\n",
       "      <th>experimento</th>\n",
       "    </tr>\n",
       "  </thead>\n",
       "  <tbody>\n",
       "    <tr>\n",
       "      <th>0</th>\n",
       "      <td>2</td>\n",
       "      <td>2020</td>\n",
       "      <td>8</td>\n",
       "      <td>?</td>\n",
       "      <td>C</td>\n",
       "      <td>A</td>\n",
       "      <td>8</td>\n",
       "      <td>0</td>\n",
       "      <td>?</td>\n",
       "      <td>S</td>\n",
       "      <td>...</td>\n",
       "      <td>?</td>\n",
       "      <td>COIL</td>\n",
       "      <td>_0.7_</td>\n",
       "      <td>_610.0_</td>\n",
       "      <td>_0_</td>\n",
       "      <td>?</td>\n",
       "      <td>0</td>\n",
       "      <td>?</td>\n",
       "      <td>ruim</td>\n",
       "      <td>exp_2</td>\n",
       "    </tr>\n",
       "    <tr>\n",
       "      <th>1</th>\n",
       "      <td>1368</td>\n",
       "      <td>2020</td>\n",
       "      <td>8</td>\n",
       "      <td>?</td>\n",
       "      <td>C</td>\n",
       "      <td>R</td>\n",
       "      <td>0</td>\n",
       "      <td>0</td>\n",
       "      <td>?</td>\n",
       "      <td>S</td>\n",
       "      <td>...</td>\n",
       "      <td>?</td>\n",
       "      <td>SHEET</td>\n",
       "      <td>_0.7_</td>\n",
       "      <td>_1300.0_</td>\n",
       "      <td>_762_</td>\n",
       "      <td>?</td>\n",
       "      <td>0</td>\n",
       "      <td>?</td>\n",
       "      <td>ruim</td>\n",
       "      <td>exp_1368</td>\n",
       "    </tr>\n",
       "    <tr>\n",
       "      <th>2</th>\n",
       "      <td>1130</td>\n",
       "      <td>2020</td>\n",
       "      <td>8</td>\n",
       "      <td>?</td>\n",
       "      <td>C</td>\n",
       "      <td>A</td>\n",
       "      <td>0</td>\n",
       "      <td>60</td>\n",
       "      <td>T</td>\n",
       "      <td>?</td>\n",
       "      <td>...</td>\n",
       "      <td>?</td>\n",
       "      <td>COIL</td>\n",
       "      <td>_2.801_</td>\n",
       "      <td>_385.1_</td>\n",
       "      <td>_0_</td>\n",
       "      <td>?</td>\n",
       "      <td>0</td>\n",
       "      <td>?</td>\n",
       "      <td>ideal</td>\n",
       "      <td>exp_1130</td>\n",
       "    </tr>\n",
       "    <tr>\n",
       "      <th>3</th>\n",
       "      <td>402</td>\n",
       "      <td>2020</td>\n",
       "      <td>8</td>\n",
       "      <td>?</td>\n",
       "      <td>C</td>\n",
       "      <td>A</td>\n",
       "      <td>0</td>\n",
       "      <td>60</td>\n",
       "      <td>T</td>\n",
       "      <td>?</td>\n",
       "      <td>...</td>\n",
       "      <td>?</td>\n",
       "      <td>SHEET</td>\n",
       "      <td>_0.801_</td>\n",
       "      <td>_255.0_</td>\n",
       "      <td>_269_</td>\n",
       "      <td>?</td>\n",
       "      <td>0</td>\n",
       "      <td>?</td>\n",
       "      <td>ideal</td>\n",
       "      <td>exp_402</td>\n",
       "    </tr>\n",
       "    <tr>\n",
       "      <th>4</th>\n",
       "      <td>407</td>\n",
       "      <td>2020</td>\n",
       "      <td>8</td>\n",
       "      <td>?</td>\n",
       "      <td>C</td>\n",
       "      <td>A</td>\n",
       "      <td>0</td>\n",
       "      <td>45</td>\n",
       "      <td>?</td>\n",
       "      <td>S</td>\n",
       "      <td>...</td>\n",
       "      <td>?</td>\n",
       "      <td>COIL</td>\n",
       "      <td>_1.6_</td>\n",
       "      <td>_610.0_</td>\n",
       "      <td>_0_</td>\n",
       "      <td>?</td>\n",
       "      <td>0</td>\n",
       "      <td>?</td>\n",
       "      <td>mediano</td>\n",
       "      <td>exp_407</td>\n",
       "    </tr>\n",
       "    <tr>\n",
       "      <th>...</th>\n",
       "      <td>...</td>\n",
       "      <td>...</td>\n",
       "      <td>...</td>\n",
       "      <td>...</td>\n",
       "      <td>...</td>\n",
       "      <td>...</td>\n",
       "      <td>...</td>\n",
       "      <td>...</td>\n",
       "      <td>...</td>\n",
       "      <td>...</td>\n",
       "      <td>...</td>\n",
       "      <td>...</td>\n",
       "      <td>...</td>\n",
       "      <td>...</td>\n",
       "      <td>...</td>\n",
       "      <td>...</td>\n",
       "      <td>...</td>\n",
       "      <td>...</td>\n",
       "      <td>...</td>\n",
       "      <td>...</td>\n",
       "      <td>...</td>\n",
       "    </tr>\n",
       "    <tr>\n",
       "      <th>2419</th>\n",
       "      <td>1354</td>\n",
       "      <td>2020</td>\n",
       "      <td>7</td>\n",
       "      <td>?</td>\n",
       "      <td>C</td>\n",
       "      <td>R</td>\n",
       "      <td>0</td>\n",
       "      <td>0</td>\n",
       "      <td>?</td>\n",
       "      <td>S</td>\n",
       "      <td>...</td>\n",
       "      <td>?</td>\n",
       "      <td>SHEET</td>\n",
       "      <td>_1.6_</td>\n",
       "      <td>_1500.0_</td>\n",
       "      <td>_4170_</td>\n",
       "      <td>?</td>\n",
       "      <td>0</td>\n",
       "      <td>?</td>\n",
       "      <td>mediano</td>\n",
       "      <td>exp_1354</td>\n",
       "    </tr>\n",
       "    <tr>\n",
       "      <th>2420</th>\n",
       "      <td>1610</td>\n",
       "      <td>2020</td>\n",
       "      <td>7</td>\n",
       "      <td>TN</td>\n",
       "      <td>C</td>\n",
       "      <td>A</td>\n",
       "      <td>0</td>\n",
       "      <td>0</td>\n",
       "      <td>?</td>\n",
       "      <td>?</td>\n",
       "      <td>...</td>\n",
       "      <td>?</td>\n",
       "      <td>SHEET</td>\n",
       "      <td>_1.2_</td>\n",
       "      <td>_609.9_</td>\n",
       "      <td>_1_</td>\n",
       "      <td>?</td>\n",
       "      <td>0</td>\n",
       "      <td>?</td>\n",
       "      <td>mediano</td>\n",
       "      <td>exp_1610</td>\n",
       "    </tr>\n",
       "    <tr>\n",
       "      <th>2421</th>\n",
       "      <td>2243</td>\n",
       "      <td>2020</td>\n",
       "      <td>7</td>\n",
       "      <td>?</td>\n",
       "      <td>C</td>\n",
       "      <td>R</td>\n",
       "      <td>0</td>\n",
       "      <td>0</td>\n",
       "      <td>?</td>\n",
       "      <td>S</td>\n",
       "      <td>...</td>\n",
       "      <td>?</td>\n",
       "      <td>SHEET</td>\n",
       "      <td>_1.601_</td>\n",
       "      <td>_830.0_</td>\n",
       "      <td>_880_</td>\n",
       "      <td>?</td>\n",
       "      <td>0</td>\n",
       "      <td>?</td>\n",
       "      <td>mediano</td>\n",
       "      <td>exp_2243</td>\n",
       "    </tr>\n",
       "    <tr>\n",
       "      <th>2422</th>\n",
       "      <td>900</td>\n",
       "      <td>2020</td>\n",
       "      <td>7</td>\n",
       "      <td>?</td>\n",
       "      <td>C</td>\n",
       "      <td>A</td>\n",
       "      <td>0</td>\n",
       "      <td>85</td>\n",
       "      <td>T</td>\n",
       "      <td>?</td>\n",
       "      <td>...</td>\n",
       "      <td>?</td>\n",
       "      <td>COIL</td>\n",
       "      <td>_0.4_</td>\n",
       "      <td>_20.0_</td>\n",
       "      <td>_0_</td>\n",
       "      <td>?</td>\n",
       "      <td>0</td>\n",
       "      <td>?</td>\n",
       "      <td>mediano</td>\n",
       "      <td>exp_900</td>\n",
       "    </tr>\n",
       "    <tr>\n",
       "      <th>2423</th>\n",
       "      <td>534</td>\n",
       "      <td>2020</td>\n",
       "      <td>7</td>\n",
       "      <td>?</td>\n",
       "      <td>C</td>\n",
       "      <td>A</td>\n",
       "      <td>0</td>\n",
       "      <td>85</td>\n",
       "      <td>T</td>\n",
       "      <td>?</td>\n",
       "      <td>...</td>\n",
       "      <td>?</td>\n",
       "      <td>COIL</td>\n",
       "      <td>_4.0_</td>\n",
       "      <td>_610.0_</td>\n",
       "      <td>_0_</td>\n",
       "      <td>?</td>\n",
       "      <td>500</td>\n",
       "      <td>?</td>\n",
       "      <td>mediano</td>\n",
       "      <td>exp_534</td>\n",
       "    </tr>\n",
       "  </tbody>\n",
       "</table>\n",
       "<p>2424 rows × 43 columns</p>\n",
       "</div>"
      ],
      "text/plain": [
       "      exp_id   ano  mes family product-type steel  carbon  hardness  \\\n",
       "0          2  2020    8      ?            C     A       8         0   \n",
       "1       1368  2020    8      ?            C     R       0         0   \n",
       "2       1130  2020    8      ?            C     A       0        60   \n",
       "3        402  2020    8      ?            C     A       0        60   \n",
       "4        407  2020    8      ?            C     A       0        45   \n",
       "...      ...   ...  ...    ...          ...   ...     ...       ...   \n",
       "2419    1354  2020    7      ?            C     R       0         0   \n",
       "2420    1610  2020    7     TN            C     A       0         0   \n",
       "2421    2243  2020    7      ?            C     R       0         0   \n",
       "2422     900  2020    7      ?            C     A       0        85   \n",
       "2423     534  2020    7      ?            C     A       0        85   \n",
       "\n",
       "     temper_rolling condition  ...  p  shape      thick       width       len  \\\n",
       "0                 ?         S  ...  ?   COIL     _0.7_     _610.0_       _0_    \n",
       "1                 ?         S  ...  ?  SHEET     _0.7_    _1300.0_     _762_    \n",
       "2                 T         ?  ...  ?   COIL   _2.801_     _385.1_       _0_    \n",
       "3                 T         ?  ...  ?  SHEET   _0.801_     _255.0_     _269_    \n",
       "4                 ?         S  ...  ?   COIL     _1.6_     _610.0_       _0_    \n",
       "...             ...       ...  ... ..    ...        ...         ...       ...   \n",
       "2419              ?         S  ...  ?  SHEET     _1.6_    _1500.0_    _4170_    \n",
       "2420              ?         ?  ...  ?  SHEET     _1.2_     _609.9_       _1_    \n",
       "2421              ?         S  ...  ?  SHEET   _1.601_     _830.0_     _880_    \n",
       "2422              T         ?  ...  ?   COIL     _0.4_      _20.0_       _0_    \n",
       "2423              T         ?  ...  ?   COIL     _4.0_     _610.0_       _0_    \n",
       "\n",
       "     oil bore packing recozimento experimento  \n",
       "0      ?    0       ?        ruim       exp_2  \n",
       "1      ?    0       ?        ruim    exp_1368  \n",
       "2      ?    0       ?       ideal    exp_1130  \n",
       "3      ?    0       ?       ideal     exp_402  \n",
       "4      ?    0       ?     mediano     exp_407  \n",
       "...   ..  ...     ...         ...         ...  \n",
       "2419   ?    0       ?     mediano    exp_1354  \n",
       "2420   ?    0       ?     mediano    exp_1610  \n",
       "2421   ?    0       ?     mediano    exp_2243  \n",
       "2422   ?    0       ?     mediano     exp_900  \n",
       "2423   ?  500       ?     mediano     exp_534  \n",
       "\n",
       "[2424 rows x 43 columns]"
      ]
     },
     "execution_count": 6,
     "metadata": {},
     "output_type": "execute_result"
    }
   ],
   "source": [
    "df_dated_train = pd.concat([df_date, df_train], axis=1)\n",
    "df_dated_train"
   ]
  },
  {
   "cell_type": "markdown",
   "metadata": {},
   "source": [
    "# 1.2) Somente experimentos realizados em agosto de 2020 devem ser considerados."
   ]
  },
  {
   "cell_type": "code",
   "execution_count": 7,
   "metadata": {},
   "outputs": [],
   "source": [
    "mes = (df_dated_train['mes'] != 8)\n",
    "ano = (df_dated_train['ano'] != 2020)"
   ]
  },
  {
   "cell_type": "code",
   "execution_count": 8,
   "metadata": {},
   "outputs": [
    {
     "data": {
      "text/html": [
       "<div>\n",
       "<style scoped>\n",
       "    .dataframe tbody tr th:only-of-type {\n",
       "        vertical-align: middle;\n",
       "    }\n",
       "\n",
       "    .dataframe tbody tr th {\n",
       "        vertical-align: top;\n",
       "    }\n",
       "\n",
       "    .dataframe thead th {\n",
       "        text-align: right;\n",
       "    }\n",
       "</style>\n",
       "<table border=\"1\" class=\"dataframe\">\n",
       "  <thead>\n",
       "    <tr style=\"text-align: right;\">\n",
       "      <th></th>\n",
       "      <th>exp_id</th>\n",
       "      <th>ano</th>\n",
       "      <th>mes</th>\n",
       "      <th>family</th>\n",
       "      <th>product-type</th>\n",
       "      <th>steel</th>\n",
       "      <th>carbon</th>\n",
       "      <th>hardness</th>\n",
       "      <th>temper_rolling</th>\n",
       "      <th>condition</th>\n",
       "      <th>...</th>\n",
       "      <th>p</th>\n",
       "      <th>shape</th>\n",
       "      <th>thick</th>\n",
       "      <th>width</th>\n",
       "      <th>len</th>\n",
       "      <th>oil</th>\n",
       "      <th>bore</th>\n",
       "      <th>packing</th>\n",
       "      <th>recozimento</th>\n",
       "      <th>experimento</th>\n",
       "    </tr>\n",
       "  </thead>\n",
       "  <tbody>\n",
       "    <tr>\n",
       "      <th>0</th>\n",
       "      <td>2</td>\n",
       "      <td>2020</td>\n",
       "      <td>8</td>\n",
       "      <td>?</td>\n",
       "      <td>C</td>\n",
       "      <td>A</td>\n",
       "      <td>8</td>\n",
       "      <td>0</td>\n",
       "      <td>?</td>\n",
       "      <td>S</td>\n",
       "      <td>...</td>\n",
       "      <td>?</td>\n",
       "      <td>COIL</td>\n",
       "      <td>_0.7_</td>\n",
       "      <td>_610.0_</td>\n",
       "      <td>_0_</td>\n",
       "      <td>?</td>\n",
       "      <td>0</td>\n",
       "      <td>?</td>\n",
       "      <td>ruim</td>\n",
       "      <td>exp_2</td>\n",
       "    </tr>\n",
       "    <tr>\n",
       "      <th>1</th>\n",
       "      <td>1368</td>\n",
       "      <td>2020</td>\n",
       "      <td>8</td>\n",
       "      <td>?</td>\n",
       "      <td>C</td>\n",
       "      <td>R</td>\n",
       "      <td>0</td>\n",
       "      <td>0</td>\n",
       "      <td>?</td>\n",
       "      <td>S</td>\n",
       "      <td>...</td>\n",
       "      <td>?</td>\n",
       "      <td>SHEET</td>\n",
       "      <td>_0.7_</td>\n",
       "      <td>_1300.0_</td>\n",
       "      <td>_762_</td>\n",
       "      <td>?</td>\n",
       "      <td>0</td>\n",
       "      <td>?</td>\n",
       "      <td>ruim</td>\n",
       "      <td>exp_1368</td>\n",
       "    </tr>\n",
       "    <tr>\n",
       "      <th>2</th>\n",
       "      <td>1130</td>\n",
       "      <td>2020</td>\n",
       "      <td>8</td>\n",
       "      <td>?</td>\n",
       "      <td>C</td>\n",
       "      <td>A</td>\n",
       "      <td>0</td>\n",
       "      <td>60</td>\n",
       "      <td>T</td>\n",
       "      <td>?</td>\n",
       "      <td>...</td>\n",
       "      <td>?</td>\n",
       "      <td>COIL</td>\n",
       "      <td>_2.801_</td>\n",
       "      <td>_385.1_</td>\n",
       "      <td>_0_</td>\n",
       "      <td>?</td>\n",
       "      <td>0</td>\n",
       "      <td>?</td>\n",
       "      <td>ideal</td>\n",
       "      <td>exp_1130</td>\n",
       "    </tr>\n",
       "    <tr>\n",
       "      <th>3</th>\n",
       "      <td>402</td>\n",
       "      <td>2020</td>\n",
       "      <td>8</td>\n",
       "      <td>?</td>\n",
       "      <td>C</td>\n",
       "      <td>A</td>\n",
       "      <td>0</td>\n",
       "      <td>60</td>\n",
       "      <td>T</td>\n",
       "      <td>?</td>\n",
       "      <td>...</td>\n",
       "      <td>?</td>\n",
       "      <td>SHEET</td>\n",
       "      <td>_0.801_</td>\n",
       "      <td>_255.0_</td>\n",
       "      <td>_269_</td>\n",
       "      <td>?</td>\n",
       "      <td>0</td>\n",
       "      <td>?</td>\n",
       "      <td>ideal</td>\n",
       "      <td>exp_402</td>\n",
       "    </tr>\n",
       "    <tr>\n",
       "      <th>4</th>\n",
       "      <td>407</td>\n",
       "      <td>2020</td>\n",
       "      <td>8</td>\n",
       "      <td>?</td>\n",
       "      <td>C</td>\n",
       "      <td>A</td>\n",
       "      <td>0</td>\n",
       "      <td>45</td>\n",
       "      <td>?</td>\n",
       "      <td>S</td>\n",
       "      <td>...</td>\n",
       "      <td>?</td>\n",
       "      <td>COIL</td>\n",
       "      <td>_1.6_</td>\n",
       "      <td>_610.0_</td>\n",
       "      <td>_0_</td>\n",
       "      <td>?</td>\n",
       "      <td>0</td>\n",
       "      <td>?</td>\n",
       "      <td>mediano</td>\n",
       "      <td>exp_407</td>\n",
       "    </tr>\n",
       "    <tr>\n",
       "      <th>...</th>\n",
       "      <td>...</td>\n",
       "      <td>...</td>\n",
       "      <td>...</td>\n",
       "      <td>...</td>\n",
       "      <td>...</td>\n",
       "      <td>...</td>\n",
       "      <td>...</td>\n",
       "      <td>...</td>\n",
       "      <td>...</td>\n",
       "      <td>...</td>\n",
       "      <td>...</td>\n",
       "      <td>...</td>\n",
       "      <td>...</td>\n",
       "      <td>...</td>\n",
       "      <td>...</td>\n",
       "      <td>...</td>\n",
       "      <td>...</td>\n",
       "      <td>...</td>\n",
       "      <td>...</td>\n",
       "      <td>...</td>\n",
       "      <td>...</td>\n",
       "    </tr>\n",
       "    <tr>\n",
       "      <th>803</th>\n",
       "      <td>374</td>\n",
       "      <td>2020</td>\n",
       "      <td>8</td>\n",
       "      <td>?</td>\n",
       "      <td>C</td>\n",
       "      <td>R</td>\n",
       "      <td>0</td>\n",
       "      <td>0</td>\n",
       "      <td>?</td>\n",
       "      <td>S</td>\n",
       "      <td>...</td>\n",
       "      <td>?</td>\n",
       "      <td>SHEET</td>\n",
       "      <td>_1.6_</td>\n",
       "      <td>_1500.0_</td>\n",
       "      <td>_4170_</td>\n",
       "      <td>?</td>\n",
       "      <td>0</td>\n",
       "      <td>?</td>\n",
       "      <td>mediano</td>\n",
       "      <td>exp_374</td>\n",
       "    </tr>\n",
       "    <tr>\n",
       "      <th>804</th>\n",
       "      <td>1166</td>\n",
       "      <td>2020</td>\n",
       "      <td>8</td>\n",
       "      <td>TN</td>\n",
       "      <td>C</td>\n",
       "      <td>A</td>\n",
       "      <td>0</td>\n",
       "      <td>0</td>\n",
       "      <td>?</td>\n",
       "      <td>?</td>\n",
       "      <td>...</td>\n",
       "      <td>?</td>\n",
       "      <td>SHEET</td>\n",
       "      <td>_1.2_</td>\n",
       "      <td>_609.9_</td>\n",
       "      <td>_1_</td>\n",
       "      <td>?</td>\n",
       "      <td>0</td>\n",
       "      <td>?</td>\n",
       "      <td>ideal</td>\n",
       "      <td>exp_1166</td>\n",
       "    </tr>\n",
       "    <tr>\n",
       "      <th>805</th>\n",
       "      <td>1363</td>\n",
       "      <td>2020</td>\n",
       "      <td>8</td>\n",
       "      <td>?</td>\n",
       "      <td>C</td>\n",
       "      <td>R</td>\n",
       "      <td>0</td>\n",
       "      <td>0</td>\n",
       "      <td>?</td>\n",
       "      <td>S</td>\n",
       "      <td>...</td>\n",
       "      <td>?</td>\n",
       "      <td>SHEET</td>\n",
       "      <td>_1.601_</td>\n",
       "      <td>_830.0_</td>\n",
       "      <td>_880_</td>\n",
       "      <td>?</td>\n",
       "      <td>0</td>\n",
       "      <td>?</td>\n",
       "      <td>mediano</td>\n",
       "      <td>exp_1363</td>\n",
       "    </tr>\n",
       "    <tr>\n",
       "      <th>806</th>\n",
       "      <td>1209</td>\n",
       "      <td>2020</td>\n",
       "      <td>8</td>\n",
       "      <td>?</td>\n",
       "      <td>C</td>\n",
       "      <td>A</td>\n",
       "      <td>0</td>\n",
       "      <td>85</td>\n",
       "      <td>T</td>\n",
       "      <td>?</td>\n",
       "      <td>...</td>\n",
       "      <td>?</td>\n",
       "      <td>COIL</td>\n",
       "      <td>_0.4_</td>\n",
       "      <td>_20.0_</td>\n",
       "      <td>_0_</td>\n",
       "      <td>?</td>\n",
       "      <td>0</td>\n",
       "      <td>?</td>\n",
       "      <td>ideal</td>\n",
       "      <td>exp_1209</td>\n",
       "    </tr>\n",
       "    <tr>\n",
       "      <th>807</th>\n",
       "      <td>1020</td>\n",
       "      <td>2020</td>\n",
       "      <td>8</td>\n",
       "      <td>?</td>\n",
       "      <td>C</td>\n",
       "      <td>A</td>\n",
       "      <td>0</td>\n",
       "      <td>85</td>\n",
       "      <td>T</td>\n",
       "      <td>?</td>\n",
       "      <td>...</td>\n",
       "      <td>?</td>\n",
       "      <td>COIL</td>\n",
       "      <td>_4.0_</td>\n",
       "      <td>_610.0_</td>\n",
       "      <td>_0_</td>\n",
       "      <td>?</td>\n",
       "      <td>500</td>\n",
       "      <td>?</td>\n",
       "      <td>mediano</td>\n",
       "      <td>exp_1020</td>\n",
       "    </tr>\n",
       "  </tbody>\n",
       "</table>\n",
       "<p>808 rows × 43 columns</p>\n",
       "</div>"
      ],
      "text/plain": [
       "     exp_id   ano  mes family product-type steel  carbon  hardness  \\\n",
       "0         2  2020    8      ?            C     A       8         0   \n",
       "1      1368  2020    8      ?            C     R       0         0   \n",
       "2      1130  2020    8      ?            C     A       0        60   \n",
       "3       402  2020    8      ?            C     A       0        60   \n",
       "4       407  2020    8      ?            C     A       0        45   \n",
       "..      ...   ...  ...    ...          ...   ...     ...       ...   \n",
       "803     374  2020    8      ?            C     R       0         0   \n",
       "804    1166  2020    8     TN            C     A       0         0   \n",
       "805    1363  2020    8      ?            C     R       0         0   \n",
       "806    1209  2020    8      ?            C     A       0        85   \n",
       "807    1020  2020    8      ?            C     A       0        85   \n",
       "\n",
       "    temper_rolling condition  ...  p  shape      thick       width       len  \\\n",
       "0                ?         S  ...  ?   COIL     _0.7_     _610.0_       _0_    \n",
       "1                ?         S  ...  ?  SHEET     _0.7_    _1300.0_     _762_    \n",
       "2                T         ?  ...  ?   COIL   _2.801_     _385.1_       _0_    \n",
       "3                T         ?  ...  ?  SHEET   _0.801_     _255.0_     _269_    \n",
       "4                ?         S  ...  ?   COIL     _1.6_     _610.0_       _0_    \n",
       "..             ...       ...  ... ..    ...        ...         ...       ...   \n",
       "803              ?         S  ...  ?  SHEET     _1.6_    _1500.0_    _4170_    \n",
       "804              ?         ?  ...  ?  SHEET     _1.2_     _609.9_       _1_    \n",
       "805              ?         S  ...  ?  SHEET   _1.601_     _830.0_     _880_    \n",
       "806              T         ?  ...  ?   COIL     _0.4_      _20.0_       _0_    \n",
       "807              T         ?  ...  ?   COIL     _4.0_     _610.0_       _0_    \n",
       "\n",
       "    oil bore packing recozimento experimento  \n",
       "0     ?    0       ?        ruim       exp_2  \n",
       "1     ?    0       ?        ruim    exp_1368  \n",
       "2     ?    0       ?       ideal    exp_1130  \n",
       "3     ?    0       ?       ideal     exp_402  \n",
       "4     ?    0       ?     mediano     exp_407  \n",
       "..   ..  ...     ...         ...         ...  \n",
       "803   ?    0       ?     mediano     exp_374  \n",
       "804   ?    0       ?       ideal    exp_1166  \n",
       "805   ?    0       ?     mediano    exp_1363  \n",
       "806   ?    0       ?       ideal    exp_1209  \n",
       "807   ?  500       ?     mediano    exp_1020  \n",
       "\n",
       "[808 rows x 43 columns]"
      ]
     },
     "execution_count": 8,
     "metadata": {},
     "output_type": "execute_result"
    }
   ],
   "source": [
    "df_dated_train = df_dated_train.loc[~mes]\n",
    "df_dated_train = df_dated_train.loc[~ano]\n",
    "df_dated_train"
   ]
  },
  {
   "cell_type": "markdown",
   "metadata": {},
   "source": [
    "***\n",
    "# 2) Função para checagem de dados faltantes ou inválidos - com NaN - Not a number e missing values\n",
    "\n",
    "É muito comum as bases de dados virem com dados faltantes e/ou inválidos, sendo assim é muito importante a checagem destes.\n",
    "\n",
    "* ### A função 'just_check_nan' é para checar dados NaN"
   ]
  },
  {
   "cell_type": "code",
   "execution_count": 9,
   "metadata": {},
   "outputs": [],
   "source": [
    "def just_check_nan(df):\n",
    "    missing_val_count_by_column = (df.isna().sum())           # Para trabalhar com valores nulos usar o isna, muito util para determinar quantidade de NaN\n",
    "    columns_with_nan = missing_val_count_by_column[missing_val_count_by_column > 0]\n",
    "    print('Dados com NaN:')\n",
    "    print(columns_with_nan)\n",
    "    print('')\n",
    "    print('columns_with_nan.shape', columns_with_nan.shape)\n",
    "    print('')"
   ]
  },
  {
   "cell_type": "markdown",
   "metadata": {},
   "source": [
    "* ### Função 'just_check_null' para checar valores NULL"
   ]
  },
  {
   "cell_type": "code",
   "execution_count": 10,
   "metadata": {},
   "outputs": [],
   "source": [
    "def just_check_null(df):\n",
    "    missing_val_count_by_column = (df.isnull().sum())           # Para trabalhar com valores nulos usar o isna, muito util para determinar quantidade de NaN\n",
    "    columns_with_nan = missing_val_count_by_column[missing_val_count_by_column > 0]\n",
    "    print('Dados com NaN:')\n",
    "    print(columns_with_nan)\n",
    "    print('')\n",
    "    print('columns_with_nan.shape', columns_with_nan.shape)\n",
    "    print('')"
   ]
  },
  {
   "cell_type": "markdown",
   "metadata": {},
   "source": [
    "* ### Chamada da função **'just_check_nan'**"
   ]
  },
  {
   "cell_type": "code",
   "execution_count": 11,
   "metadata": {},
   "outputs": [
    {
     "name": "stdout",
     "output_type": "stream",
     "text": [
      "Dados com NaN:\n",
      "Series([], dtype: int64)\n",
      "\n",
      "columns_with_nan.shape (0,)\n",
      "\n"
     ]
    }
   ],
   "source": [
    "just_check_nan(df_dated_train)"
   ]
  },
  {
   "cell_type": "markdown",
   "metadata": {},
   "source": [
    "* ### Chamada da função **'just_check_null'**"
   ]
  },
  {
   "cell_type": "code",
   "execution_count": 12,
   "metadata": {},
   "outputs": [
    {
     "name": "stdout",
     "output_type": "stream",
     "text": [
      "Dados com NaN:\n",
      "Series([], dtype: int64)\n",
      "\n",
      "columns_with_nan.shape (0,)\n",
      "\n"
     ]
    }
   ],
   "source": [
    "just_check_null(df_dated_train)"
   ]
  },
  {
   "cell_type": "markdown",
   "metadata": {},
   "source": [
    "Não foram encontrados deliberadamente dados inválidos e NaN"
   ]
  },
  {
   "cell_type": "markdown",
   "metadata": {},
   "source": [
    "***\n",
    "# 3) Definição de target e features\n",
    "\n",
    "* ### Target y\n",
    "\n",
    "O target é o objetivo do modelo, ou seja, é o que se deseja prever sobre a base de dados \"test.csv\".\n",
    "\n",
    "No caso deste trabalho, o objetivo é classificar o processo de recozimento como: ideal, mediano ou ruim\n",
    "\n",
    "O gráfico mostra a relação entre o processo de recozimento da base de treinamento. Este gráfico também serve para medir o balanceamentro entre as classes."
   ]
  },
  {
   "cell_type": "code",
   "execution_count": 13,
   "metadata": {},
   "outputs": [
    {
     "data": {
      "image/png": "[encoded data removed]",
      "text/plain": [
       "<Figure size 432x288 with 1 Axes>"
      ]
     },
     "metadata": {
      "needs_background": "light"
     },
     "output_type": "display_data"
    },
    {
     "name": "stdout",
     "output_type": "stream",
     "text": [
      "Com relação com a quantidade de 808 recozimentos classificados, \n",
      " - 172 destes foram classificados como IDEAL, ou seja, 21.29%; \n",
      " - 186 destes como MEDIANO, ou seja, 23.02%; \n",
      " - 450 destes como RUIM, ou seja, 55.69%.\n"
     ]
    },
    {
     "data": {
      "text/plain": [
       "<Figure size 432x288 with 0 Axes>"
      ]
     },
     "metadata": {},
     "output_type": "display_data"
    }
   ],
   "source": [
    "y = df_dated_train.recozimento\n",
    "\n",
    "sns.countplot(x=y, data=df_dated_train)\n",
    "plt.show()\n",
    "plt.savefig('count_plot')\n",
    "\n",
    "print('Com relação com a quantidade de ' + str(len(df_dated_train)) +  ' recozimentos classificados, \\n' \\\n",
    "      + ' - ' + str(Counter(y)['ideal']) + ' destes foram classificados como IDEAL, ou seja, %.2f' %float((Counter(y)['ideal']/len(df_dated_train))*100) + '%; \\n' \\\n",
    "      + ' - ' + str(Counter(y)['mediano']) + ' destes como MEDIANO, ou seja, %.2f' %float((Counter(y)['mediano']/len(df_dated_train))*100) + '%; \\n' \\\n",
    "      + ' - ' + str(Counter(y)['ruim']) + ' destes como RUIM, ou seja, %.2f' %float((Counter(y)['ruim']/len(df_dated_train))*100) + '%.' )"
   ]
  },
  {
   "cell_type": "markdown",
   "metadata": {},
   "source": [
    "* ### Features X\n",
    "\n",
    "As features são os dados que o modelo usará para fazer as previsões. \n",
    "\n",
    "Foram excluidas as features de **'recozimento', 'exp_id', 'ano', 'mes', 'experimento'**\n",
    "\n",
    "Neste caso será considerado todas as colunas, exceto a de target 'recozimento'. \n",
    "\n",
    "Posteriormente o PCA, no pipeline, se encarregará de selecionar as features mais relevantes para o modelo, onde há menor correlação entre elas."
   ]
  },
  {
   "cell_type": "code",
   "execution_count": 14,
   "metadata": {},
   "outputs": [
    {
     "data": {
      "text/html": [
       "<div>\n",
       "<style scoped>\n",
       "    .dataframe tbody tr th:only-of-type {\n",
       "        vertical-align: middle;\n",
       "    }\n",
       "\n",
       "    .dataframe tbody tr th {\n",
       "        vertical-align: top;\n",
       "    }\n",
       "\n",
       "    .dataframe thead th {\n",
       "        text-align: right;\n",
       "    }\n",
       "</style>\n",
       "<table border=\"1\" class=\"dataframe\">\n",
       "  <thead>\n",
       "    <tr style=\"text-align: right;\">\n",
       "      <th></th>\n",
       "      <th>family</th>\n",
       "      <th>product-type</th>\n",
       "      <th>steel</th>\n",
       "      <th>carbon</th>\n",
       "      <th>hardness</th>\n",
       "      <th>temper_rolling</th>\n",
       "      <th>condition</th>\n",
       "      <th>formability</th>\n",
       "      <th>strength</th>\n",
       "      <th>non-ageing</th>\n",
       "      <th>...</th>\n",
       "      <th>jurofm</th>\n",
       "      <th>s</th>\n",
       "      <th>p</th>\n",
       "      <th>shape</th>\n",
       "      <th>thick</th>\n",
       "      <th>width</th>\n",
       "      <th>len</th>\n",
       "      <th>oil</th>\n",
       "      <th>bore</th>\n",
       "      <th>packing</th>\n",
       "    </tr>\n",
       "  </thead>\n",
       "  <tbody>\n",
       "    <tr>\n",
       "      <th>0</th>\n",
       "      <td>?</td>\n",
       "      <td>C</td>\n",
       "      <td>A</td>\n",
       "      <td>8</td>\n",
       "      <td>0</td>\n",
       "      <td>?</td>\n",
       "      <td>S</td>\n",
       "      <td>?</td>\n",
       "      <td>0</td>\n",
       "      <td>?</td>\n",
       "      <td>...</td>\n",
       "      <td>?</td>\n",
       "      <td>?</td>\n",
       "      <td>?</td>\n",
       "      <td>COIL</td>\n",
       "      <td>_0.7_</td>\n",
       "      <td>_610.0_</td>\n",
       "      <td>_0_</td>\n",
       "      <td>?</td>\n",
       "      <td>0</td>\n",
       "      <td>?</td>\n",
       "    </tr>\n",
       "    <tr>\n",
       "      <th>1</th>\n",
       "      <td>?</td>\n",
       "      <td>C</td>\n",
       "      <td>R</td>\n",
       "      <td>0</td>\n",
       "      <td>0</td>\n",
       "      <td>?</td>\n",
       "      <td>S</td>\n",
       "      <td>2.0</td>\n",
       "      <td>0</td>\n",
       "      <td>?</td>\n",
       "      <td>...</td>\n",
       "      <td>?</td>\n",
       "      <td>?</td>\n",
       "      <td>?</td>\n",
       "      <td>SHEET</td>\n",
       "      <td>_0.7_</td>\n",
       "      <td>_1300.0_</td>\n",
       "      <td>_762_</td>\n",
       "      <td>?</td>\n",
       "      <td>0</td>\n",
       "      <td>?</td>\n",
       "    </tr>\n",
       "    <tr>\n",
       "      <th>2</th>\n",
       "      <td>?</td>\n",
       "      <td>C</td>\n",
       "      <td>A</td>\n",
       "      <td>0</td>\n",
       "      <td>60</td>\n",
       "      <td>T</td>\n",
       "      <td>?</td>\n",
       "      <td>?</td>\n",
       "      <td>0</td>\n",
       "      <td>?</td>\n",
       "      <td>...</td>\n",
       "      <td>?</td>\n",
       "      <td>?</td>\n",
       "      <td>?</td>\n",
       "      <td>COIL</td>\n",
       "      <td>_2.801_</td>\n",
       "      <td>_385.1_</td>\n",
       "      <td>_0_</td>\n",
       "      <td>?</td>\n",
       "      <td>0</td>\n",
       "      <td>?</td>\n",
       "    </tr>\n",
       "    <tr>\n",
       "      <th>3</th>\n",
       "      <td>?</td>\n",
       "      <td>C</td>\n",
       "      <td>A</td>\n",
       "      <td>0</td>\n",
       "      <td>60</td>\n",
       "      <td>T</td>\n",
       "      <td>?</td>\n",
       "      <td>?</td>\n",
       "      <td>0</td>\n",
       "      <td>?</td>\n",
       "      <td>...</td>\n",
       "      <td>?</td>\n",
       "      <td>?</td>\n",
       "      <td>?</td>\n",
       "      <td>SHEET</td>\n",
       "      <td>_0.801_</td>\n",
       "      <td>_255.0_</td>\n",
       "      <td>_269_</td>\n",
       "      <td>?</td>\n",
       "      <td>0</td>\n",
       "      <td>?</td>\n",
       "    </tr>\n",
       "    <tr>\n",
       "      <th>4</th>\n",
       "      <td>?</td>\n",
       "      <td>C</td>\n",
       "      <td>A</td>\n",
       "      <td>0</td>\n",
       "      <td>45</td>\n",
       "      <td>?</td>\n",
       "      <td>S</td>\n",
       "      <td>?</td>\n",
       "      <td>0</td>\n",
       "      <td>?</td>\n",
       "      <td>...</td>\n",
       "      <td>?</td>\n",
       "      <td>?</td>\n",
       "      <td>?</td>\n",
       "      <td>COIL</td>\n",
       "      <td>_1.6_</td>\n",
       "      <td>_610.0_</td>\n",
       "      <td>_0_</td>\n",
       "      <td>?</td>\n",
       "      <td>0</td>\n",
       "      <td>?</td>\n",
       "    </tr>\n",
       "    <tr>\n",
       "      <th>...</th>\n",
       "      <td>...</td>\n",
       "      <td>...</td>\n",
       "      <td>...</td>\n",
       "      <td>...</td>\n",
       "      <td>...</td>\n",
       "      <td>...</td>\n",
       "      <td>...</td>\n",
       "      <td>...</td>\n",
       "      <td>...</td>\n",
       "      <td>...</td>\n",
       "      <td>...</td>\n",
       "      <td>...</td>\n",
       "      <td>...</td>\n",
       "      <td>...</td>\n",
       "      <td>...</td>\n",
       "      <td>...</td>\n",
       "      <td>...</td>\n",
       "      <td>...</td>\n",
       "      <td>...</td>\n",
       "      <td>...</td>\n",
       "      <td>...</td>\n",
       "    </tr>\n",
       "    <tr>\n",
       "      <th>803</th>\n",
       "      <td>?</td>\n",
       "      <td>C</td>\n",
       "      <td>R</td>\n",
       "      <td>0</td>\n",
       "      <td>0</td>\n",
       "      <td>?</td>\n",
       "      <td>S</td>\n",
       "      <td>2.0</td>\n",
       "      <td>0</td>\n",
       "      <td>?</td>\n",
       "      <td>...</td>\n",
       "      <td>?</td>\n",
       "      <td>?</td>\n",
       "      <td>?</td>\n",
       "      <td>SHEET</td>\n",
       "      <td>_1.6_</td>\n",
       "      <td>_1500.0_</td>\n",
       "      <td>_4170_</td>\n",
       "      <td>?</td>\n",
       "      <td>0</td>\n",
       "      <td>?</td>\n",
       "    </tr>\n",
       "    <tr>\n",
       "      <th>804</th>\n",
       "      <td>TN</td>\n",
       "      <td>C</td>\n",
       "      <td>A</td>\n",
       "      <td>0</td>\n",
       "      <td>0</td>\n",
       "      <td>?</td>\n",
       "      <td>?</td>\n",
       "      <td>3.0</td>\n",
       "      <td>0</td>\n",
       "      <td>N</td>\n",
       "      <td>...</td>\n",
       "      <td>?</td>\n",
       "      <td>?</td>\n",
       "      <td>?</td>\n",
       "      <td>SHEET</td>\n",
       "      <td>_1.2_</td>\n",
       "      <td>_609.9_</td>\n",
       "      <td>_1_</td>\n",
       "      <td>?</td>\n",
       "      <td>0</td>\n",
       "      <td>?</td>\n",
       "    </tr>\n",
       "    <tr>\n",
       "      <th>805</th>\n",
       "      <td>?</td>\n",
       "      <td>C</td>\n",
       "      <td>R</td>\n",
       "      <td>0</td>\n",
       "      <td>0</td>\n",
       "      <td>?</td>\n",
       "      <td>S</td>\n",
       "      <td>3.0</td>\n",
       "      <td>0</td>\n",
       "      <td>?</td>\n",
       "      <td>...</td>\n",
       "      <td>?</td>\n",
       "      <td>?</td>\n",
       "      <td>?</td>\n",
       "      <td>SHEET</td>\n",
       "      <td>_1.601_</td>\n",
       "      <td>_830.0_</td>\n",
       "      <td>_880_</td>\n",
       "      <td>?</td>\n",
       "      <td>0</td>\n",
       "      <td>?</td>\n",
       "    </tr>\n",
       "    <tr>\n",
       "      <th>806</th>\n",
       "      <td>?</td>\n",
       "      <td>C</td>\n",
       "      <td>A</td>\n",
       "      <td>0</td>\n",
       "      <td>85</td>\n",
       "      <td>T</td>\n",
       "      <td>?</td>\n",
       "      <td>?</td>\n",
       "      <td>0</td>\n",
       "      <td>?</td>\n",
       "      <td>...</td>\n",
       "      <td>?</td>\n",
       "      <td>?</td>\n",
       "      <td>?</td>\n",
       "      <td>COIL</td>\n",
       "      <td>_0.4_</td>\n",
       "      <td>_20.0_</td>\n",
       "      <td>_0_</td>\n",
       "      <td>?</td>\n",
       "      <td>0</td>\n",
       "      <td>?</td>\n",
       "    </tr>\n",
       "    <tr>\n",
       "      <th>807</th>\n",
       "      <td>?</td>\n",
       "      <td>C</td>\n",
       "      <td>A</td>\n",
       "      <td>0</td>\n",
       "      <td>85</td>\n",
       "      <td>T</td>\n",
       "      <td>?</td>\n",
       "      <td>?</td>\n",
       "      <td>0</td>\n",
       "      <td>?</td>\n",
       "      <td>...</td>\n",
       "      <td>?</td>\n",
       "      <td>?</td>\n",
       "      <td>?</td>\n",
       "      <td>COIL</td>\n",
       "      <td>_4.0_</td>\n",
       "      <td>_610.0_</td>\n",
       "      <td>_0_</td>\n",
       "      <td>?</td>\n",
       "      <td>500</td>\n",
       "      <td>?</td>\n",
       "    </tr>\n",
       "  </tbody>\n",
       "</table>\n",
       "<p>808 rows × 38 columns</p>\n",
       "</div>"
      ],
      "text/plain": [
       "    family product-type steel  carbon  hardness temper_rolling condition  \\\n",
       "0        ?            C     A       8         0              ?         S   \n",
       "1        ?            C     R       0         0              ?         S   \n",
       "2        ?            C     A       0        60              T         ?   \n",
       "3        ?            C     A       0        60              T         ?   \n",
       "4        ?            C     A       0        45              ?         S   \n",
       "..     ...          ...   ...     ...       ...            ...       ...   \n",
       "803      ?            C     R       0         0              ?         S   \n",
       "804     TN            C     A       0         0              ?         ?   \n",
       "805      ?            C     R       0         0              ?         S   \n",
       "806      ?            C     A       0        85              T         ?   \n",
       "807      ?            C     A       0        85              T         ?   \n",
       "\n",
       "    formability  strength non-ageing  ... jurofm  s  p  shape      thick  \\\n",
       "0             ?         0          ?  ...      ?  ?  ?   COIL     _0.7_    \n",
       "1           2.0         0          ?  ...      ?  ?  ?  SHEET     _0.7_    \n",
       "2             ?         0          ?  ...      ?  ?  ?   COIL   _2.801_    \n",
       "3             ?         0          ?  ...      ?  ?  ?  SHEET   _0.801_    \n",
       "4             ?         0          ?  ...      ?  ?  ?   COIL     _1.6_    \n",
       "..          ...       ...        ...  ...    ... .. ..    ...        ...   \n",
       "803         2.0         0          ?  ...      ?  ?  ?  SHEET     _1.6_    \n",
       "804         3.0         0          N  ...      ?  ?  ?  SHEET     _1.2_    \n",
       "805         3.0         0          ?  ...      ?  ?  ?  SHEET   _1.601_    \n",
       "806           ?         0          ?  ...      ?  ?  ?   COIL     _0.4_    \n",
       "807           ?         0          ?  ...      ?  ?  ?   COIL     _4.0_    \n",
       "\n",
       "          width       len oil bore packing  \n",
       "0      _610.0_       _0_    ?    0       ?  \n",
       "1     _1300.0_     _762_    ?    0       ?  \n",
       "2      _385.1_       _0_    ?    0       ?  \n",
       "3      _255.0_     _269_    ?    0       ?  \n",
       "4      _610.0_       _0_    ?    0       ?  \n",
       "..          ...       ...  ..  ...     ...  \n",
       "803   _1500.0_    _4170_    ?    0       ?  \n",
       "804    _609.9_       _1_    ?    0       ?  \n",
       "805    _830.0_     _880_    ?    0       ?  \n",
       "806     _20.0_       _0_    ?    0       ?  \n",
       "807    _610.0_       _0_    ?  500       ?  \n",
       "\n",
       "[808 rows x 38 columns]"
      ]
     },
     "execution_count": 14,
     "metadata": {},
     "output_type": "execute_result"
    }
   ],
   "source": [
    "X = df_dated_train.drop(columns=['recozimento', 'exp_id', 'ano', 'mes', 'experimento'])\n",
    "X"
   ]
  },
  {
   "cell_type": "markdown",
   "metadata": {},
   "source": [
    "* ### Variaveis Numéricas\n",
    "\n",
    "Neste caso, está sendo feita uma análise de quantas **variavéis numéricas** existem nas features escolhidas"
   ]
  },
  {
   "cell_type": "code",
   "execution_count": 63,
   "metadata": {},
   "outputs": [
    {
     "name": "stdout",
     "output_type": "stream",
     "text": [
      "Numerical variables:  4\n",
      "['carbon', 'hardness', 'strength', 'bore']\n"
     ]
    }
   ],
   "source": [
    "numerical_cols = [cname for cname in X.columns if X[cname].dtype in ['int64', 'float64']]\n",
    "print(\"Numerical variables: \", len(numerical_cols))\n",
    "print(numerical_cols)"
   ]
  },
  {
   "cell_type": "markdown",
   "metadata": {},
   "source": [
    "* ### Variaveis Categóricas\n",
    "\n",
    "Neste caso, está sendo feita uma análise de quantas **variavéis categóricas** existem nas features escolhidas, exije uma atenção especial pelo fato do pipeline irá transformar estas variaveis em variaveis binárias, usando **'one hot enconding'**."
   ]
  },
  {
   "cell_type": "code",
   "execution_count": 16,
   "metadata": {},
   "outputs": [
    {
     "name": "stdout",
     "output_type": "stream",
     "text": [
      "Categorical variables:  34\n",
      "['family', 'product-type', 'steel', 'temper_rolling', 'condition', 'formability', 'non-ageing', 'surface-finish', 'surface-quality', 'enamelability', 'bc', 'bf', 'bt', 'bw/me', 'bl', 'm', 'chrom', 'phos', 'cbond', 'marvi', 'exptl', 'ferro', 'corr', 'blue/bright/varn/clean', 'lustre', 'jurofm', 's', 'p', 'shape', 'thick', 'width', 'len', 'oil', 'packing']\n"
     ]
    }
   ],
   "source": [
    "s = (X.dtypes == 'object')\n",
    "object_cols = list(s[s].index)\n",
    "print(\"Categorical variables: \", len(object_cols))\n",
    "print(object_cols)"
   ]
  },
  {
   "cell_type": "markdown",
   "metadata": {},
   "source": [
    "***\n",
    "# 4) train_test_split\n",
    "\n",
    "Aqui é feita a separação dos dados de treinamento (X_train, y_train) e de teste (X_test, y_test), onde é feita a separação de 60% para o treinamento e 40% para os testes"
   ]
  },
  {
   "cell_type": "code",
   "execution_count": 17,
   "metadata": {},
   "outputs": [],
   "source": [
    "# 70% for train data and 30% for test data SMOTE\n",
    "X_train, X_test, y_train, y_test = train_test_split(X, \n",
    "                                                    y, \n",
    "                                                    test_size=0.4,\n",
    "                                                    random_state=42)"
   ]
  },
  {
   "cell_type": "code",
   "execution_count": 18,
   "metadata": {},
   "outputs": [
    {
     "data": {
      "image/png": "[encoded data removed]",
      "text/plain": [
       "<Figure size 1152x288 with 2 Axes>"
      ]
     },
     "metadata": {
      "needs_background": "light"
     },
     "output_type": "display_data"
    }
   ],
   "source": [
    "plt.figure(figsize=(16, 4))\n",
    "\n",
    "plt.subplot(1,3,1)\n",
    "plt.title('Frequencia das classes no conjunto de treinamento (%i amostras)' % len(X_train))\n",
    "labels, counts = np.unique(y_train, return_counts=True)\n",
    "sns.barplot(labels, counts)\n",
    "\n",
    "plt.subplot(1,3,2)\n",
    "plt.title('Frequencia das classes no conjunto de teste (%i amostras)' % len(X_test))\n",
    "labels, counts = np.unique(y_test, return_counts=True)\n",
    "sns.barplot(labels, counts);"
   ]
  },
  {
   "cell_type": "markdown",
   "metadata": {},
   "source": [
    "Distribuição das frequencias de classes entre a base de TREINAMENTO e a de TESTE."
   ]
  },
  {
   "cell_type": "markdown",
   "metadata": {},
   "source": [
    "***\n",
    "# 5) Pipeline\n",
    "\n",
    "O Pipeline é uma série de algoritmos encadeados, compostos e misturados de algumas maneiras para processar um fluxo de dados, recebe entradas e fornece saídas.\n",
    "\n",
    "numerical_transformer = neste foi feito o uso do 'StandardScaler' para um padronização de escala dos dados numéricos, manter os valores entre 0 e 1. Pelo fato de haver, para as diferentes categorias numéricas, escalas de valores diferentes umas dos outros, há a necessidade de padronizar estes para o modelo de ML.\n",
    "\n",
    "categorical_transformer = neste caso, usei SimpleImputer com a estratégia de substituir valores faltantes por valores de média da coluna em questão. Neste caso, foi especialmente necessário o uso desse artificio pelo fato do dataset de teste haver dados faltantes, e se não for feito este Imputer o algoritmo não executará.\n",
    "\n",
    "preprocessor = execução dos anteriores\n",
    "\n",
    "pipeline:\n",
    "    - PCA - selecionar as features mais relevantes para o modelo, onde há menor correlação entre elas"
   ]
  },
  {
   "cell_type": "code",
   "execution_count": 19,
   "metadata": {},
   "outputs": [],
   "source": [
    "# Pré-processamento para Dados numéricos\n",
    "numerical_transformer = Pipeline([\n",
    "                                  ('scaler', StandardScaler()) # padronização de escala para ter uma escala comum comum durante a construção do modelo de machine learning\n",
    "                                 ])                            # em termos tecnicos, transformar os dados de forma que sua distribuição tenha um valor médio 0 e desvio padrão de 1\n",
    "\n",
    "# Pré-processamento para Dados Categóricos\n",
    "categorical_transformer = Pipeline([\n",
    "                                    ('imputer', SimpleImputer(strategy='most_frequent')), # ele substituirá os valores que faltam pela média da coluna (necessário por causa dos dados de teste)\n",
    "                                    ('onehot', OneHotEncoder(handle_unknown='ignore', sparse=False)) # transforma dados categorios em binário\n",
    "                                   ])\n",
    "\n",
    "# Pré-processamento de pacote de dados numéricos e categóricos\n",
    "preprocessor = ColumnTransformer(transformers=[\n",
    "                                               ('num', numerical_transformer, numerical_cols),\n",
    "                                               ('cat', categorical_transformer, object_cols)\n",
    "                                              ], n_jobs=-1)\n",
    "\n",
    "# MODEL\n",
    "model1 = LogisticRegression()\n",
    "model2 = DecisionTreeClassifier(random_state=42)\n",
    "model3 = RandomForestClassifier(n_jobs=-1)\n",
    "model4 = GradientBoostingClassifier()"
   ]
  },
  {
   "cell_type": "markdown",
   "metadata": {},
   "source": [
    "* LogisticRegression"
   ]
  },
  {
   "cell_type": "code",
   "execution_count": 20,
   "metadata": {},
   "outputs": [],
   "source": [
    "## Bundle preprocessing and modeling code in a pipeline\n",
    "pipeline1 = Pipeline(steps=[\n",
    "                           ('preprocessor', preprocessor),\n",
    "                           ('pca', PCA(n_components = 1)),                 # selecionar as features mais relevantes para o modelo, onde há menor correlação entre elas\n",
    "                           ('model', model1)\n",
    "                          ])"
   ]
  },
  {
   "cell_type": "markdown",
   "metadata": {},
   "source": [
    "* DecisionTreeClassifier"
   ]
  },
  {
   "cell_type": "code",
   "execution_count": 21,
   "metadata": {},
   "outputs": [],
   "source": [
    "## Bundle preprocessing and modeling code in a pipeline\n",
    "pipeline2 = Pipeline(steps=[\n",
    "                           ('preprocessor', preprocessor),\n",
    "                           ('pca', PCA(n_components = 1)),                 # selecionar as features mais relevantes para o modelo, onde há menor correlação entre elas\n",
    "                           ('model', model2)\n",
    "                          ])"
   ]
  },
  {
   "cell_type": "markdown",
   "metadata": {},
   "source": [
    "* RandomForestClassifier"
   ]
  },
  {
   "cell_type": "code",
   "execution_count": 22,
   "metadata": {},
   "outputs": [],
   "source": [
    "## Bundle preprocessing and modeling code in a pipeline\n",
    "pipeline3 = Pipeline(steps=[\n",
    "                           ('preprocessor', preprocessor),\n",
    "                           ('pca', PCA(n_components = 1)),                 # selecionar as features mais relevantes para o modelo, onde há menor correlação entre elas\n",
    "                           ('model', model3)\n",
    "                          ])"
   ]
  },
  {
   "cell_type": "markdown",
   "metadata": {},
   "source": [
    "* GradientBoostingClassifier"
   ]
  },
  {
   "cell_type": "code",
   "execution_count": 23,
   "metadata": {},
   "outputs": [],
   "source": [
    "## Bundle preprocessing and modeling code in a pipeline\n",
    "pipeline4 = Pipeline(steps=[\n",
    "                           ('preprocessor', preprocessor),\n",
    "                           ('pca', PCA(n_components = 1)),                 # selecionar as features mais relevantes para o modelo, onde há menor correlação entre elas\n",
    "                           ('model', model4)\n",
    "                          ])"
   ]
  },
  {
   "cell_type": "markdown",
   "metadata": {},
   "source": [
    "# Grid Search\n",
    "\n",
    "Busca dos melhores parametros para cada modelo"
   ]
  },
  {
   "cell_type": "code",
   "execution_count": 24,
   "metadata": {},
   "outputs": [],
   "source": [
    "def grid_search(X_train, X_test, y_train, y_test, model, pipeline, grid):\n",
    "    test_scores = []\n",
    "\n",
    "    # Loop through the parameter grid, set the hyperparameters, and save the scores\n",
    "    for g in ParameterGrid(grid):\n",
    "        model.set_params(**g)  # ** is \"unpacking\" the dictionary\n",
    "        pipeline.fit(X_train, y_train)\n",
    "        test_scores.append(pipeline.score(X_test, y_test))\n",
    "\n",
    "    # Find best hyperparameters from the test score and print\n",
    "    best_idx = np.argmax(test_scores)\n",
    "    print(test_scores[best_idx], ParameterGrid(grid)[best_idx])"
   ]
  },
  {
   "cell_type": "markdown",
   "metadata": {},
   "source": [
    "* LogisticRegression"
   ]
  },
  {
   "cell_type": "code",
   "execution_count": 25,
   "metadata": {},
   "outputs": [
    {
     "name": "stderr",
     "output_type": "stream",
     "text": [
      "c:\\users\\vb\\appdata\\local\\programs\\python\\python38\\lib\\site-packages\\sklearn\\linear_model\\_logistic.py:1322: UserWarning: Setting penalty='none' will ignore the C and l1_ratio parameters\n",
      "  warnings.warn(\n",
      "c:\\users\\vb\\appdata\\local\\programs\\python\\python38\\lib\\site-packages\\sklearn\\linear_model\\_logistic.py:1322: UserWarning: Setting penalty='none' will ignore the C and l1_ratio parameters\n",
      "  warnings.warn(\n",
      "c:\\users\\vb\\appdata\\local\\programs\\python\\python38\\lib\\site-packages\\sklearn\\linear_model\\_logistic.py:1322: UserWarning: Setting penalty='none' will ignore the C and l1_ratio parameters\n",
      "  warnings.warn(\n",
      "c:\\users\\vb\\appdata\\local\\programs\\python\\python38\\lib\\site-packages\\sklearn\\linear_model\\_logistic.py:1322: UserWarning: Setting penalty='none' will ignore the C and l1_ratio parameters\n",
      "  warnings.warn(\n",
      "c:\\users\\vb\\appdata\\local\\programs\\python\\python38\\lib\\site-packages\\sklearn\\linear_model\\_logistic.py:1322: UserWarning: Setting penalty='none' will ignore the C and l1_ratio parameters\n",
      "  warnings.warn(\n",
      "c:\\users\\vb\\appdata\\local\\programs\\python\\python38\\lib\\site-packages\\sklearn\\linear_model\\_logistic.py:1322: UserWarning: Setting penalty='none' will ignore the C and l1_ratio parameters\n",
      "  warnings.warn(\n",
      "c:\\users\\vb\\appdata\\local\\programs\\python\\python38\\lib\\site-packages\\sklearn\\linear_model\\_logistic.py:1322: UserWarning: Setting penalty='none' will ignore the C and l1_ratio parameters\n",
      "  warnings.warn(\n"
     ]
    },
    {
     "name": "stdout",
     "output_type": "stream",
     "text": [
      "0.6388888888888888 {'penalty': 'l2', 'C': 0.09}\n"
     ]
    }
   ],
   "source": [
    "#LogisticRegression\n",
    "grid1 = {'penalty': ['none', 'l2'],'C':[0.001,.009,0.01,.09,1,5,10,25]}\n",
    "\n",
    "grid_search(X_train, X_test, y_train, y_test, model1, pipeline1, grid1)"
   ]
  },
  {
   "cell_type": "code",
   "execution_count": 26,
   "metadata": {},
   "outputs": [],
   "source": [
    "model1 = LogisticRegression(penalty='l2', C=0.09)"
   ]
  },
  {
   "cell_type": "code",
   "execution_count": 27,
   "metadata": {},
   "outputs": [],
   "source": [
    "## Bundle preprocessing and modeling code in a pipeline\n",
    "pipeline1 = Pipeline(steps=[\n",
    "                           ('preprocessor', preprocessor),\n",
    "                           ('pca', PCA(n_components = 1)),                 # selecionar as features mais relevantes para o modelo, onde há menor correlação entre elas\n",
    "                           ('model', model1)\n",
    "                          ])"
   ]
  },
  {
   "cell_type": "markdown",
   "metadata": {},
   "source": [
    "* DecisionTreeClassifier"
   ]
  },
  {
   "cell_type": "code",
   "execution_count": 28,
   "metadata": {},
   "outputs": [
    {
     "name": "stdout",
     "output_type": "stream",
     "text": [
      "0.7932098765432098 {'max_depth': 4, 'criterion': 'entropy'}\n"
     ]
    }
   ],
   "source": [
    "# DecisionTreeClassifier\n",
    "grid2 = { 'criterion':['gini','entropy'],'max_depth': np.arange(3, 15)}\n",
    "\n",
    "grid_search(X_train, X_test, y_train, y_test, model2, pipeline2, grid2)"
   ]
  },
  {
   "cell_type": "code",
   "execution_count": 29,
   "metadata": {},
   "outputs": [],
   "source": [
    "model2 = DecisionTreeClassifier(max_depth=4, criterion='entropy', random_state=42)"
   ]
  },
  {
   "cell_type": "code",
   "execution_count": 30,
   "metadata": {},
   "outputs": [],
   "source": [
    "## Bundle preprocessing and modeling code in a pipeline\n",
    "pipeline2 = Pipeline(steps=[\n",
    "                           ('preprocessor', preprocessor),\n",
    "                           ('pca', PCA(n_components = 1)),                 # selecionar as features mais relevantes para o modelo, onde há menor correlação entre elas\n",
    "                           ('model', model2)\n",
    "                          ])"
   ]
  },
  {
   "cell_type": "markdown",
   "metadata": {},
   "source": [
    "* RandomForestClassifier"
   ]
  },
  {
   "cell_type": "code",
   "execution_count": 31,
   "metadata": {},
   "outputs": [
    {
     "name": "stdout",
     "output_type": "stream",
     "text": [
      "0.6944444444444444 {'n_estimators': 50, 'max_depth': 14, 'criterion': 'entropy'}\n"
     ]
    }
   ],
   "source": [
    "# RandomForestClassifier\n",
    "grid3 = {'n_estimators': [50, 150, 250], 'max_depth': [14, 20, 24], 'criterion': ['gini', 'entropy']}\n",
    "\n",
    "grid_search(X_train, X_test, y_train, y_test, model3, pipeline3, grid3)"
   ]
  },
  {
   "cell_type": "code",
   "execution_count": 32,
   "metadata": {},
   "outputs": [],
   "source": [
    "model3 = RandomForestClassifier(n_estimators=50, max_depth=14, criterion='entropy', n_jobs=-1)"
   ]
  },
  {
   "cell_type": "code",
   "execution_count": 33,
   "metadata": {},
   "outputs": [],
   "source": [
    "## Bundle preprocessing and modeling code in a pipeline\n",
    "pipeline3 = Pipeline(steps=[\n",
    "                           ('preprocessor', preprocessor),\n",
    "                           ('pca', PCA(n_components = 1)),                 # selecionar as features mais relevantes para o modelo, onde há menor correlação entre elas\n",
    "                           ('model', model3)\n",
    "                          ])"
   ]
  },
  {
   "cell_type": "markdown",
   "metadata": {},
   "source": [
    "* GradientBoostingClassifier"
   ]
  },
  {
   "cell_type": "code",
   "execution_count": 34,
   "metadata": {},
   "outputs": [
    {
     "name": "stdout",
     "output_type": "stream",
     "text": [
      "0.6882716049382716 {'subsample': 0.8, 'random_state': 42, 'n_estimators': 100, 'max_depth': 20}\n"
     ]
    }
   ],
   "source": [
    "# GradientBoostingClassifier\n",
    "grid4 = {'n_estimators' : [50, 100, 150, 200, 250], 'max_depth': [14, 20, 24], 'random_state' : [42], 'subsample': [0.8], 'max_depth': [20] }\n",
    "\n",
    "grid_search(X_train, X_test, y_train, y_test, model4, pipeline4, grid4)"
   ]
  },
  {
   "cell_type": "code",
   "execution_count": 35,
   "metadata": {},
   "outputs": [],
   "source": [
    "model4 = GradientBoostingClassifier(subsample=0.8, n_estimators=100, max_depth=20)"
   ]
  },
  {
   "cell_type": "code",
   "execution_count": 36,
   "metadata": {},
   "outputs": [],
   "source": [
    "## Bundle preprocessing and modeling code in a pipeline\n",
    "pipeline4 = Pipeline(steps=[\n",
    "                           ('preprocessor', preprocessor),\n",
    "                           ('pca', PCA(n_components = 1)),                 # selecionar as features mais relevantes para o modelo, onde há menor correlação entre elas\n",
    "                           ('model', model4)\n",
    "                          ])"
   ]
  },
  {
   "cell_type": "markdown",
   "metadata": {},
   "source": [
    "***\n",
    "# 6) Fit\n",
    "\n",
    "Pré-processamento de dados de treinamento"
   ]
  },
  {
   "cell_type": "markdown",
   "metadata": {},
   "source": [
    "* ### LogisticRegression"
   ]
  },
  {
   "cell_type": "code",
   "execution_count": 37,
   "metadata": {},
   "outputs": [
    {
     "data": {
      "text/plain": [
       "Pipeline(steps=[('preprocessor',\n",
       "                 ColumnTransformer(n_jobs=-1,\n",
       "                                   transformers=[('num',\n",
       "                                                  Pipeline(steps=[('scaler',\n",
       "                                                                   StandardScaler())]),\n",
       "                                                  ['carbon', 'hardness',\n",
       "                                                   'strength', 'bore']),\n",
       "                                                 ('cat',\n",
       "                                                  Pipeline(steps=[('imputer',\n",
       "                                                                   SimpleImputer(strategy='most_frequent')),\n",
       "                                                                  ('onehot',\n",
       "                                                                   OneHotEncoder(handle_unknown='ignore',\n",
       "                                                                                 sparse=False))]),\n",
       "                                                  ['family', 'product-type',\n",
       "                                                   'steel', 'temper_rolling',\n",
       "                                                   'condition', 'formability',\n",
       "                                                   'non-ageing',\n",
       "                                                   'surface-finish',\n",
       "                                                   'surface-quality',\n",
       "                                                   'enamelability', 'bc', 'bf',\n",
       "                                                   'bt', 'bw/me', 'bl', 'm',\n",
       "                                                   'chrom', 'phos', 'cbond',\n",
       "                                                   'marvi', 'exptl', 'ferro',\n",
       "                                                   'corr',\n",
       "                                                   'blue/bright/varn/clean',\n",
       "                                                   'lustre', 'jurofm', 's', 'p',\n",
       "                                                   'shape', 'thick', ...])])),\n",
       "                ('pca', PCA(n_components=1)),\n",
       "                ('model', LogisticRegression(C=0.09))])"
      ]
     },
     "execution_count": 37,
     "metadata": {},
     "output_type": "execute_result"
    }
   ],
   "source": [
    "# Preprocessing of training data, fit model \n",
    "pipeline1.fit(X_train, y_train)"
   ]
  },
  {
   "cell_type": "markdown",
   "metadata": {},
   "source": [
    "* ### DecisionTreeClassifier"
   ]
  },
  {
   "cell_type": "code",
   "execution_count": 38,
   "metadata": {},
   "outputs": [
    {
     "data": {
      "text/plain": [
       "Pipeline(steps=[('preprocessor',\n",
       "                 ColumnTransformer(n_jobs=-1,\n",
       "                                   transformers=[('num',\n",
       "                                                  Pipeline(steps=[('scaler',\n",
       "                                                                   StandardScaler())]),\n",
       "                                                  ['carbon', 'hardness',\n",
       "                                                   'strength', 'bore']),\n",
       "                                                 ('cat',\n",
       "                                                  Pipeline(steps=[('imputer',\n",
       "                                                                   SimpleImputer(strategy='most_frequent')),\n",
       "                                                                  ('onehot',\n",
       "                                                                   OneHotEncoder(handle_unknown='ignore',\n",
       "                                                                                 sparse=False))]),\n",
       "                                                  ['family', 'product-type',\n",
       "                                                   'steel', 'temper_r...\n",
       "                                                   'condition', 'formability',\n",
       "                                                   'non-ageing',\n",
       "                                                   'surface-finish',\n",
       "                                                   'surface-quality',\n",
       "                                                   'enamelability', 'bc', 'bf',\n",
       "                                                   'bt', 'bw/me', 'bl', 'm',\n",
       "                                                   'chrom', 'phos', 'cbond',\n",
       "                                                   'marvi', 'exptl', 'ferro',\n",
       "                                                   'corr',\n",
       "                                                   'blue/bright/varn/clean',\n",
       "                                                   'lustre', 'jurofm', 's', 'p',\n",
       "                                                   'shape', 'thick', ...])])),\n",
       "                ('pca', PCA(n_components=1)),\n",
       "                ('model',\n",
       "                 DecisionTreeClassifier(criterion='entropy', max_depth=4,\n",
       "                                        random_state=42))])"
      ]
     },
     "execution_count": 38,
     "metadata": {},
     "output_type": "execute_result"
    }
   ],
   "source": [
    "pipeline2.fit(X_train, y_train)"
   ]
  },
  {
   "cell_type": "markdown",
   "metadata": {},
   "source": [
    "* ### RandomForestClassifier"
   ]
  },
  {
   "cell_type": "code",
   "execution_count": 39,
   "metadata": {},
   "outputs": [
    {
     "data": {
      "text/plain": [
       "Pipeline(steps=[('preprocessor',\n",
       "                 ColumnTransformer(n_jobs=-1,\n",
       "                                   transformers=[('num',\n",
       "                                                  Pipeline(steps=[('scaler',\n",
       "                                                                   StandardScaler())]),\n",
       "                                                  ['carbon', 'hardness',\n",
       "                                                   'strength', 'bore']),\n",
       "                                                 ('cat',\n",
       "                                                  Pipeline(steps=[('imputer',\n",
       "                                                                   SimpleImputer(strategy='most_frequent')),\n",
       "                                                                  ('onehot',\n",
       "                                                                   OneHotEncoder(handle_unknown='ignore',\n",
       "                                                                                 sparse=False))]),\n",
       "                                                  ['family', 'product-type',\n",
       "                                                   'steel', 'temper_r...\n",
       "                                                   'condition', 'formability',\n",
       "                                                   'non-ageing',\n",
       "                                                   'surface-finish',\n",
       "                                                   'surface-quality',\n",
       "                                                   'enamelability', 'bc', 'bf',\n",
       "                                                   'bt', 'bw/me', 'bl', 'm',\n",
       "                                                   'chrom', 'phos', 'cbond',\n",
       "                                                   'marvi', 'exptl', 'ferro',\n",
       "                                                   'corr',\n",
       "                                                   'blue/bright/varn/clean',\n",
       "                                                   'lustre', 'jurofm', 's', 'p',\n",
       "                                                   'shape', 'thick', ...])])),\n",
       "                ('pca', PCA(n_components=1)),\n",
       "                ('model',\n",
       "                 RandomForestClassifier(criterion='entropy', max_depth=14,\n",
       "                                        n_estimators=50, n_jobs=-1))])"
      ]
     },
     "execution_count": 39,
     "metadata": {},
     "output_type": "execute_result"
    }
   ],
   "source": [
    "pipeline3.fit(X_train, y_train)"
   ]
  },
  {
   "cell_type": "markdown",
   "metadata": {},
   "source": [
    "* ### GradientBoostingClassifier"
   ]
  },
  {
   "cell_type": "code",
   "execution_count": 40,
   "metadata": {},
   "outputs": [
    {
     "data": {
      "text/plain": [
       "Pipeline(steps=[('preprocessor',\n",
       "                 ColumnTransformer(n_jobs=-1,\n",
       "                                   transformers=[('num',\n",
       "                                                  Pipeline(steps=[('scaler',\n",
       "                                                                   StandardScaler())]),\n",
       "                                                  ['carbon', 'hardness',\n",
       "                                                   'strength', 'bore']),\n",
       "                                                 ('cat',\n",
       "                                                  Pipeline(steps=[('imputer',\n",
       "                                                                   SimpleImputer(strategy='most_frequent')),\n",
       "                                                                  ('onehot',\n",
       "                                                                   OneHotEncoder(handle_unknown='ignore',\n",
       "                                                                                 sparse=False))]),\n",
       "                                                  ['family', 'product-type',\n",
       "                                                   'steel', 'temper_r...ng',\n",
       "                                                   'condition', 'formability',\n",
       "                                                   'non-ageing',\n",
       "                                                   'surface-finish',\n",
       "                                                   'surface-quality',\n",
       "                                                   'enamelability', 'bc', 'bf',\n",
       "                                                   'bt', 'bw/me', 'bl', 'm',\n",
       "                                                   'chrom', 'phos', 'cbond',\n",
       "                                                   'marvi', 'exptl', 'ferro',\n",
       "                                                   'corr',\n",
       "                                                   'blue/bright/varn/clean',\n",
       "                                                   'lustre', 'jurofm', 's', 'p',\n",
       "                                                   'shape', 'thick', ...])])),\n",
       "                ('pca', PCA(n_components=1)),\n",
       "                ('model',\n",
       "                 GradientBoostingClassifier(max_depth=20, subsample=0.8))])"
      ]
     },
     "execution_count": 40,
     "metadata": {},
     "output_type": "execute_result"
    }
   ],
   "source": [
    "pipeline4.fit(X_train, y_train)"
   ]
  },
  {
   "cell_type": "markdown",
   "metadata": {},
   "source": [
    "***\n",
    "# 7) Predição\n",
    "\n",
    "É onde feito as previsões em cima da base de Treinamento. Há um contador mostrando justamente a quantidade de recozimento classificados"
   ]
  },
  {
   "cell_type": "markdown",
   "metadata": {},
   "source": [
    "* LogisticRegression"
   ]
  },
  {
   "cell_type": "code",
   "execution_count": 41,
   "metadata": {},
   "outputs": [
    {
     "name": "stdout",
     "output_type": "stream",
     "text": [
      "Dados Previstos:  Counter({'ruim': 229, 'mediano': 79, 'ideal': 16})\n"
     ]
    }
   ],
   "source": [
    "preds1 = pipeline1.predict(X_test)\n",
    "print('Dados Previstos: ', Counter(preds1))"
   ]
  },
  {
   "cell_type": "markdown",
   "metadata": {},
   "source": [
    "* DecisionTreeClassifier"
   ]
  },
  {
   "cell_type": "code",
   "execution_count": 42,
   "metadata": {},
   "outputs": [
    {
     "name": "stdout",
     "output_type": "stream",
     "text": [
      "Dados Previstos:  Counter({'ruim': 225, 'ideal': 61, 'mediano': 38})\n"
     ]
    }
   ],
   "source": [
    "preds2 = pipeline2.predict(X_test)\n",
    "print('Dados Previstos: ', Counter(preds2))"
   ]
  },
  {
   "cell_type": "markdown",
   "metadata": {},
   "source": [
    "* RandomForestClassifier"
   ]
  },
  {
   "cell_type": "code",
   "execution_count": 43,
   "metadata": {},
   "outputs": [
    {
     "name": "stdout",
     "output_type": "stream",
     "text": [
      "Dados Previstos:  Counter({'ruim': 186, 'mediano': 71, 'ideal': 67})\n"
     ]
    }
   ],
   "source": [
    "preds3 = pipeline3.predict(X_test)\n",
    "print('Dados Previstos: ', Counter(preds3))"
   ]
  },
  {
   "cell_type": "markdown",
   "metadata": {},
   "source": [
    "* GradientBoostingClassifier"
   ]
  },
  {
   "cell_type": "code",
   "execution_count": 44,
   "metadata": {},
   "outputs": [
    {
     "name": "stdout",
     "output_type": "stream",
     "text": [
      "Dados Previstos:  Counter({'ruim': 178, 'mediano': 80, 'ideal': 66})\n"
     ]
    }
   ],
   "source": [
    "preds4 = pipeline4.predict(X_test)\n",
    "print('Dados Previstos: ', Counter(preds4))"
   ]
  },
  {
   "cell_type": "markdown",
   "metadata": {},
   "source": [
    "***\n",
    "# 8) Métrica\n",
    "\n",
    "A curva ROC mostra o quanto o modelo consegue distinguir entre as classes (ideal, mediano e ruim). E o modelo GradientBoostingClassifier teve uma melhor pontuação para cada classe, um indicio que no Classification Report terá melhores resultados"
   ]
  },
  {
   "cell_type": "markdown",
   "metadata": {},
   "source": [
    "* LogisticRegression"
   ]
  },
  {
   "cell_type": "code",
   "execution_count": 45,
   "metadata": {},
   "outputs": [
    {
     "data": {
      "image/png": "[encoded data removed]",
      "text/plain": [
       "<Figure size 576x576 with 1 Axes>"
      ]
     },
     "metadata": {
      "needs_background": "light"
     },
     "output_type": "display_data"
    }
   ],
   "source": [
    "y_probas1 = pipeline1.predict_proba(X_test)\n",
    "plot_roc(y_test, y_probas1, plot_micro = False, plot_macro = False, figsize = (8, 8))\n",
    "plt.show()"
   ]
  },
  {
   "cell_type": "markdown",
   "metadata": {},
   "source": [
    "* DecisionTreeClassifier"
   ]
  },
  {
   "cell_type": "code",
   "execution_count": 46,
   "metadata": {},
   "outputs": [
    {
     "data": {
      "image/png": "[encoded data removed]",
      "text/plain": [
       "<Figure size 576x576 with 1 Axes>"
      ]
     },
     "metadata": {
      "needs_background": "light"
     },
     "output_type": "display_data"
    }
   ],
   "source": [
    "y_probas2 = pipeline2.predict_proba(X_test)\n",
    "plot_roc(y_test, y_probas2, plot_micro = False, plot_macro = False, figsize = (8, 8))\n",
    "plt.show()"
   ]
  },
  {
   "cell_type": "markdown",
   "metadata": {},
   "source": [
    "* RandomForestClassifier"
   ]
  },
  {
   "cell_type": "code",
   "execution_count": 47,
   "metadata": {},
   "outputs": [
    {
     "data": {
      "image/png": "[encoded data removed]",
      "text/plain": [
       "<Figure size 576x576 with 1 Axes>"
      ]
     },
     "metadata": {
      "needs_background": "light"
     },
     "output_type": "display_data"
    }
   ],
   "source": [
    "y_probas3 = pipeline3.predict_proba(X_test)\n",
    "plot_roc(y_test, y_probas3, plot_micro = False, plot_macro = False, figsize = (8, 8))\n",
    "plt.show()"
   ]
  },
  {
   "cell_type": "markdown",
   "metadata": {},
   "source": [
    "* GradientBoostingClassifier"
   ]
  },
  {
   "cell_type": "code",
   "execution_count": 48,
   "metadata": {},
   "outputs": [
    {
     "data": {
      "image/png": "[encoded data removed]",
      "text/plain": [
       "<Figure size 576x576 with 1 Axes>"
      ]
     },
     "metadata": {
      "needs_background": "light"
     },
     "output_type": "display_data"
    }
   ],
   "source": [
    "y_probas4 = pipeline4.predict_proba(X_test)\n",
    "plot_roc(y_test, y_probas4, plot_micro = False, plot_macro = False, figsize = (8, 8))\n",
    "plt.show()"
   ]
  },
  {
   "cell_type": "markdown",
   "metadata": {},
   "source": [
    "## Classification Report\n",
    "\n",
    "\n",
    "Foram feitas comparações de modelos de algoritmos usando Classification Report."
   ]
  },
  {
   "cell_type": "markdown",
   "metadata": {},
   "source": [
    "* LogisticRegression"
   ]
  },
  {
   "cell_type": "code",
   "execution_count": 49,
   "metadata": {},
   "outputs": [
    {
     "name": "stdout",
     "output_type": "stream",
     "text": [
      "              precision    recall  f1-score   support\n",
      "\n",
      "       ideal       0.25      0.05      0.09        74\n",
      "     mediano       0.34      0.40      0.37        67\n",
      "        ruim       0.77      0.96      0.85       183\n",
      "\n",
      "    accuracy                           0.64       324\n",
      "   macro avg       0.45      0.47      0.44       324\n",
      "weighted avg       0.56      0.64      0.58       324\n",
      "\n"
     ]
    }
   ],
   "source": [
    "# classification_report\n",
    "print(classification_report(y_test, preds1))"
   ]
  },
  {
   "cell_type": "markdown",
   "metadata": {},
   "source": [
    "* RandomForestClassifier"
   ]
  },
  {
   "cell_type": "code",
   "execution_count": 50,
   "metadata": {},
   "outputs": [
    {
     "name": "stdout",
     "output_type": "stream",
     "text": [
      "              precision    recall  f1-score   support\n",
      "\n",
      "       ideal       0.75      0.68      0.71        74\n",
      "     mediano       0.41      0.43      0.42        67\n",
      "        ruim       0.78      0.80      0.79       183\n",
      "\n",
      "    accuracy                           0.69       324\n",
      "   macro avg       0.65      0.64      0.64       324\n",
      "weighted avg       0.70      0.69      0.70       324\n",
      "\n"
     ]
    }
   ],
   "source": [
    "# classification_report\n",
    "print(classification_report(y_test, preds3))"
   ]
  },
  {
   "cell_type": "markdown",
   "metadata": {},
   "source": [
    "* GradientBoostingClassifier"
   ]
  },
  {
   "cell_type": "code",
   "execution_count": 51,
   "metadata": {},
   "outputs": [
    {
     "name": "stdout",
     "output_type": "stream",
     "text": [
      "              precision    recall  f1-score   support\n",
      "\n",
      "       ideal       0.74      0.66      0.70        74\n",
      "     mediano       0.40      0.48      0.44        67\n",
      "        ruim       0.79      0.77      0.78       183\n",
      "\n",
      "    accuracy                           0.69       324\n",
      "   macro avg       0.64      0.64      0.64       324\n",
      "weighted avg       0.70      0.69      0.69       324\n",
      "\n"
     ]
    }
   ],
   "source": [
    "# classification_report\n",
    "print(classification_report(y_test, preds4))"
   ]
  },
  {
   "cell_type": "markdown",
   "metadata": {},
   "source": [
    "* DecisionTreeClassifier"
   ]
  },
  {
   "cell_type": "code",
   "execution_count": 52,
   "metadata": {},
   "outputs": [
    {
     "name": "stdout",
     "output_type": "stream",
     "text": [
      "              precision    recall  f1-score   support\n",
      "\n",
      "       ideal       0.84      0.69      0.76        74\n",
      "     mediano       0.74      0.42      0.53        67\n",
      "        ruim       0.79      0.97      0.87       183\n",
      "\n",
      "    accuracy                           0.79       324\n",
      "   macro avg       0.79      0.69      0.72       324\n",
      "weighted avg       0.79      0.79      0.78       324\n",
      "\n"
     ]
    }
   ],
   "source": [
    "# classification_report\n",
    "print(classification_report(y_test, preds2))"
   ]
  },
  {
   "cell_type": "markdown",
   "metadata": {},
   "source": [
    "### CONCLUSÃO SOBRE A ESCOLHA DO MODELO: \n",
    "\n",
    "Dentre os modelos, o que teve melhor performance foi o **DecisionTreeClassifier**, que basicamente teve um F1 score medio de 72, melhor que os outros modelos. Abaixo foi feito uma analise de Precision e Recall"
   ]
  },
  {
   "cell_type": "markdown",
   "metadata": {},
   "source": [
    "* ### Precision (casos previstos)\n",
    "\n",
    "Habilidade de encontrar apenas os pontos relevantes (verdadeiro positivo / positivos) \n",
    "\n",
    "exemplo: De todos os casos PREVISTOS classificados como 'IDEAL', qual percentual realmente é IDEAL?\n",
    "\n",
    "O modelo previu 61 como IDEAL, acertou 51, precisão de 84%\n",
    "\n",
    "O modelo previu 38 como MEDIANO, acertou 28, precisão de 74%\n",
    "\n",
    "O modelo previu 225 como RUIM, acertou 177, precisão de 79%"
   ]
  },
  {
   "cell_type": "code",
   "execution_count": 53,
   "metadata": {},
   "outputs": [
    {
     "name": "stdout",
     "output_type": "stream",
     "text": [
      "GradientBoostingClassifier:  Counter({'ruim': 225, 'ideal': 61, 'mediano': 38})\n"
     ]
    }
   ],
   "source": [
    "print('GradientBoostingClassifier: ', Counter(preds2))"
   ]
  },
  {
   "cell_type": "markdown",
   "metadata": {},
   "source": [
    "* ### Recall (casos reais)\n",
    "\n",
    "Habilidade de encontrar todos os casos reais no DATASET (verdadeiro positivo)\n",
    "\n",
    "exemplo: De todos os casos que são REALMENTE 'IDEAL', qual percentual é identificado corretamente pelo modelo?\n",
    "\n",
    "Dos 74 casos reais de IDEAL, ele acertou 51, que é 69%\n",
    "\n",
    "Dos 67 casos reais de MEDIANO, ele acertou 28, que é 42%\n",
    "\n",
    "Dos 183 casos reais de RUIM, ele acertou 142, que é 78%"
   ]
  },
  {
   "cell_type": "code",
   "execution_count": 54,
   "metadata": {},
   "outputs": [
    {
     "name": "stdout",
     "output_type": "stream",
     "text": [
      "y_test:  Counter({'ruim': 183, 'ideal': 74, 'mediano': 67})\n"
     ]
    }
   ],
   "source": [
    "print('y_test: ', Counter(y_test))"
   ]
  },
  {
   "cell_type": "markdown",
   "metadata": {},
   "source": [
    "* ### F1 score\n",
    "\n",
    "É uma média harmônica ponderada de precision e recall, de modo que a melhor pontuação seja 1,0 e a pior seja 0,0.\n",
    "\n",
    "F1 score medio de 0.72, melhor que os outros modelos"
   ]
  },
  {
   "cell_type": "markdown",
   "metadata": {},
   "source": [
    "* ### support (y_test)\n",
    "\n",
    "O Support diz que você a quantidade de classes da base de teste (y_test), no caso temos:\n",
    " - 74 para IDEAL\n",
    " - 67 para MEDIANO\n",
    " - 183 para RUIM"
   ]
  },
  {
   "cell_type": "code",
   "execution_count": 55,
   "metadata": {},
   "outputs": [
    {
     "data": {
      "image/png": "[encoded data removed]",
      "text/plain": [
       "<Figure size 432x288 with 1 Axes>"
      ]
     },
     "metadata": {
      "needs_background": "light"
     },
     "output_type": "display_data"
    },
    {
     "name": "stdout",
     "output_type": "stream",
     "text": [
      "Com relação com a quantidade de 324 recozimentos da base de TESTE, \n",
      " - 74 destes foram classificados como IDEAL, ou seja, 22.84%; \n",
      " - 67 destes como MEDIANO, ou seja, 20.68%; \n",
      " - 183 destes como RUIM, ou seja, 56.48%.\n"
     ]
    },
    {
     "data": {
      "text/plain": [
       "<Figure size 432x288 with 0 Axes>"
      ]
     },
     "metadata": {},
     "output_type": "display_data"
    }
   ],
   "source": [
    "sns.countplot(x=y_test, data=X_test)\n",
    "plt.show()\n",
    "plt.savefig('count_plot')\n",
    "\n",
    "print('Com relação com a quantidade de ' + str(len(X_test)) +  ' recozimentos da base de TESTE, \\n' \\\n",
    "      + ' - ' + str(Counter(y_test)['ideal']) + ' destes foram classificados como IDEAL, ou seja, %.2f' %float((Counter(y_test)['ideal']/len(X_test))*100) + '%; \\n' \\\n",
    "      + ' - ' + str(Counter(y_test)['mediano']) + ' destes como MEDIANO, ou seja, %.2f' %float((Counter(y_test)['mediano']/len(X_test))*100) + '%; \\n' \\\n",
    "      + ' - ' + str(Counter(y_test)['ruim']) + ' destes como RUIM, ou seja, %.2f' %float((Counter(y_test)['ruim']/len(X_test))*100) + '%.' )"
   ]
  },
  {
   "cell_type": "markdown",
   "metadata": {},
   "source": [
    "# 9) Make Predictions\n",
    "\n",
    "Usando o GradientBoostingClassifier como modelo, aqui é gerado predições para a base de teste."
   ]
  },
  {
   "cell_type": "code",
   "execution_count": 56,
   "metadata": {},
   "outputs": [
    {
     "data": {
      "text/html": [
       "<div>\n",
       "<style scoped>\n",
       "    .dataframe tbody tr th:only-of-type {\n",
       "        vertical-align: middle;\n",
       "    }\n",
       "\n",
       "    .dataframe tbody tr th {\n",
       "        vertical-align: top;\n",
       "    }\n",
       "\n",
       "    .dataframe thead th {\n",
       "        text-align: right;\n",
       "    }\n",
       "</style>\n",
       "<table border=\"1\" class=\"dataframe\">\n",
       "  <thead>\n",
       "    <tr style=\"text-align: right;\">\n",
       "      <th></th>\n",
       "      <th>family</th>\n",
       "      <th>product-type</th>\n",
       "      <th>steel</th>\n",
       "      <th>carbon</th>\n",
       "      <th>hardness</th>\n",
       "      <th>temper_rolling</th>\n",
       "      <th>condition</th>\n",
       "      <th>formability</th>\n",
       "      <th>strength</th>\n",
       "      <th>non-ageing</th>\n",
       "      <th>...</th>\n",
       "      <th>jurofm</th>\n",
       "      <th>s</th>\n",
       "      <th>p</th>\n",
       "      <th>shape</th>\n",
       "      <th>thick</th>\n",
       "      <th>width</th>\n",
       "      <th>len</th>\n",
       "      <th>oil</th>\n",
       "      <th>bore</th>\n",
       "      <th>packing</th>\n",
       "    </tr>\n",
       "  </thead>\n",
       "  <tbody>\n",
       "    <tr>\n",
       "      <th>0</th>\n",
       "      <td>?</td>\n",
       "      <td>C</td>\n",
       "      <td>K</td>\n",
       "      <td>55</td>\n",
       "      <td>0</td>\n",
       "      <td>?</td>\n",
       "      <td>?</td>\n",
       "      <td>?</td>\n",
       "      <td>0</td>\n",
       "      <td>?</td>\n",
       "      <td>...</td>\n",
       "      <td>?</td>\n",
       "      <td>?</td>\n",
       "      <td>?</td>\n",
       "      <td>COIL</td>\n",
       "      <td>2.200</td>\n",
       "      <td>900.0</td>\n",
       "      <td>0</td>\n",
       "      <td>?</td>\n",
       "      <td>0</td>\n",
       "      <td>?</td>\n",
       "    </tr>\n",
       "    <tr>\n",
       "      <th>1</th>\n",
       "      <td>?</td>\n",
       "      <td>C</td>\n",
       "      <td>K</td>\n",
       "      <td>45</td>\n",
       "      <td>0</td>\n",
       "      <td>?</td>\n",
       "      <td>?</td>\n",
       "      <td>?</td>\n",
       "      <td>0</td>\n",
       "      <td>?</td>\n",
       "      <td>...</td>\n",
       "      <td>?</td>\n",
       "      <td>?</td>\n",
       "      <td>?</td>\n",
       "      <td>COIL</td>\n",
       "      <td>1.090</td>\n",
       "      <td>610.0</td>\n",
       "      <td>0</td>\n",
       "      <td>?</td>\n",
       "      <td>0</td>\n",
       "      <td>?</td>\n",
       "    </tr>\n",
       "    <tr>\n",
       "      <th>2</th>\n",
       "      <td>?</td>\n",
       "      <td>C</td>\n",
       "      <td>R</td>\n",
       "      <td>0</td>\n",
       "      <td>0</td>\n",
       "      <td>?</td>\n",
       "      <td>S</td>\n",
       "      <td>3.0</td>\n",
       "      <td>0</td>\n",
       "      <td>?</td>\n",
       "      <td>...</td>\n",
       "      <td>?</td>\n",
       "      <td>?</td>\n",
       "      <td>?</td>\n",
       "      <td>SHEET</td>\n",
       "      <td>1.599</td>\n",
       "      <td>150.0</td>\n",
       "      <td>762</td>\n",
       "      <td>?</td>\n",
       "      <td>0</td>\n",
       "      <td>?</td>\n",
       "    </tr>\n",
       "    <tr>\n",
       "      <th>3</th>\n",
       "      <td>?</td>\n",
       "      <td>C</td>\n",
       "      <td>A</td>\n",
       "      <td>0</td>\n",
       "      <td>0</td>\n",
       "      <td>?</td>\n",
       "      <td>S</td>\n",
       "      <td>2.0</td>\n",
       "      <td>0</td>\n",
       "      <td>?</td>\n",
       "      <td>...</td>\n",
       "      <td>?</td>\n",
       "      <td>?</td>\n",
       "      <td>?</td>\n",
       "      <td>COIL</td>\n",
       "      <td>0.400</td>\n",
       "      <td>20.0</td>\n",
       "      <td>0</td>\n",
       "      <td>?</td>\n",
       "      <td>0</td>\n",
       "      <td>?</td>\n",
       "    </tr>\n",
       "    <tr>\n",
       "      <th>4</th>\n",
       "      <td>?</td>\n",
       "      <td>C</td>\n",
       "      <td>R</td>\n",
       "      <td>0</td>\n",
       "      <td>0</td>\n",
       "      <td>?</td>\n",
       "      <td>S</td>\n",
       "      <td>2.0</td>\n",
       "      <td>0</td>\n",
       "      <td>?</td>\n",
       "      <td>...</td>\n",
       "      <td>?</td>\n",
       "      <td>?</td>\n",
       "      <td>?</td>\n",
       "      <td>COIL</td>\n",
       "      <td>0.699</td>\n",
       "      <td>1320.0</td>\n",
       "      <td>0</td>\n",
       "      <td>?</td>\n",
       "      <td>0</td>\n",
       "      <td>?</td>\n",
       "    </tr>\n",
       "    <tr>\n",
       "      <th>...</th>\n",
       "      <td>...</td>\n",
       "      <td>...</td>\n",
       "      <td>...</td>\n",
       "      <td>...</td>\n",
       "      <td>...</td>\n",
       "      <td>...</td>\n",
       "      <td>...</td>\n",
       "      <td>...</td>\n",
       "      <td>...</td>\n",
       "      <td>...</td>\n",
       "      <td>...</td>\n",
       "      <td>...</td>\n",
       "      <td>...</td>\n",
       "      <td>...</td>\n",
       "      <td>...</td>\n",
       "      <td>...</td>\n",
       "      <td>...</td>\n",
       "      <td>...</td>\n",
       "      <td>...</td>\n",
       "      <td>...</td>\n",
       "      <td>...</td>\n",
       "    </tr>\n",
       "    <tr>\n",
       "      <th>85</th>\n",
       "      <td>?</td>\n",
       "      <td>C</td>\n",
       "      <td>A</td>\n",
       "      <td>0</td>\n",
       "      <td>85</td>\n",
       "      <td>T</td>\n",
       "      <td>?</td>\n",
       "      <td>?</td>\n",
       "      <td>0</td>\n",
       "      <td>?</td>\n",
       "      <td>...</td>\n",
       "      <td>?</td>\n",
       "      <td>?</td>\n",
       "      <td>?</td>\n",
       "      <td>SHEET</td>\n",
       "      <td>0.300</td>\n",
       "      <td>1220.0</td>\n",
       "      <td>4880</td>\n",
       "      <td>?</td>\n",
       "      <td>0</td>\n",
       "      <td>?</td>\n",
       "    </tr>\n",
       "    <tr>\n",
       "      <th>86</th>\n",
       "      <td>?</td>\n",
       "      <td>C</td>\n",
       "      <td>A</td>\n",
       "      <td>0</td>\n",
       "      <td>0</td>\n",
       "      <td>?</td>\n",
       "      <td>S</td>\n",
       "      <td>2.0</td>\n",
       "      <td>0</td>\n",
       "      <td>?</td>\n",
       "      <td>...</td>\n",
       "      <td>?</td>\n",
       "      <td>?</td>\n",
       "      <td>?</td>\n",
       "      <td>SHEET</td>\n",
       "      <td>0.600</td>\n",
       "      <td>610.0</td>\n",
       "      <td>761</td>\n",
       "      <td>?</td>\n",
       "      <td>0</td>\n",
       "      <td>?</td>\n",
       "    </tr>\n",
       "    <tr>\n",
       "      <th>87</th>\n",
       "      <td>?</td>\n",
       "      <td>C</td>\n",
       "      <td>W</td>\n",
       "      <td>0</td>\n",
       "      <td>0</td>\n",
       "      <td>?</td>\n",
       "      <td>?</td>\n",
       "      <td>?</td>\n",
       "      <td>310</td>\n",
       "      <td>?</td>\n",
       "      <td>...</td>\n",
       "      <td>?</td>\n",
       "      <td>?</td>\n",
       "      <td>?</td>\n",
       "      <td>COIL</td>\n",
       "      <td>2.500</td>\n",
       "      <td>1274.9</td>\n",
       "      <td>0</td>\n",
       "      <td>?</td>\n",
       "      <td>600</td>\n",
       "      <td>?</td>\n",
       "    </tr>\n",
       "    <tr>\n",
       "      <th>88</th>\n",
       "      <td>?</td>\n",
       "      <td>C</td>\n",
       "      <td>A</td>\n",
       "      <td>0</td>\n",
       "      <td>60</td>\n",
       "      <td>T</td>\n",
       "      <td>?</td>\n",
       "      <td>?</td>\n",
       "      <td>0</td>\n",
       "      <td>?</td>\n",
       "      <td>...</td>\n",
       "      <td>?</td>\n",
       "      <td>?</td>\n",
       "      <td>?</td>\n",
       "      <td>COIL</td>\n",
       "      <td>2.801</td>\n",
       "      <td>50.0</td>\n",
       "      <td>0</td>\n",
       "      <td>?</td>\n",
       "      <td>0</td>\n",
       "      <td>?</td>\n",
       "    </tr>\n",
       "    <tr>\n",
       "      <th>89</th>\n",
       "      <td>?</td>\n",
       "      <td>C</td>\n",
       "      <td>A</td>\n",
       "      <td>0</td>\n",
       "      <td>0</td>\n",
       "      <td>?</td>\n",
       "      <td>S</td>\n",
       "      <td>2.0</td>\n",
       "      <td>0</td>\n",
       "      <td>?</td>\n",
       "      <td>...</td>\n",
       "      <td>?</td>\n",
       "      <td>?</td>\n",
       "      <td>?</td>\n",
       "      <td>SHEET</td>\n",
       "      <td>0.699</td>\n",
       "      <td>519.9</td>\n",
       "      <td>762</td>\n",
       "      <td>?</td>\n",
       "      <td>0</td>\n",
       "      <td>?</td>\n",
       "    </tr>\n",
       "  </tbody>\n",
       "</table>\n",
       "<p>90 rows × 38 columns</p>\n",
       "</div>"
      ],
      "text/plain": [
       "   family product-type steel  carbon  hardness temper_rolling condition  \\\n",
       "0       ?            C     K      55         0              ?         ?   \n",
       "1       ?            C     K      45         0              ?         ?   \n",
       "2       ?            C     R       0         0              ?         S   \n",
       "3       ?            C     A       0         0              ?         S   \n",
       "4       ?            C     R       0         0              ?         S   \n",
       "..    ...          ...   ...     ...       ...            ...       ...   \n",
       "85      ?            C     A       0        85              T         ?   \n",
       "86      ?            C     A       0         0              ?         S   \n",
       "87      ?            C     W       0         0              ?         ?   \n",
       "88      ?            C     A       0        60              T         ?   \n",
       "89      ?            C     A       0         0              ?         S   \n",
       "\n",
       "   formability  strength non-ageing  ... jurofm  s  p  shape  thick   width  \\\n",
       "0            ?         0          ?  ...      ?  ?  ?   COIL  2.200   900.0   \n",
       "1            ?         0          ?  ...      ?  ?  ?   COIL  1.090   610.0   \n",
       "2          3.0         0          ?  ...      ?  ?  ?  SHEET  1.599   150.0   \n",
       "3          2.0         0          ?  ...      ?  ?  ?   COIL  0.400    20.0   \n",
       "4          2.0         0          ?  ...      ?  ?  ?   COIL  0.699  1320.0   \n",
       "..         ...       ...        ...  ...    ... .. ..    ...    ...     ...   \n",
       "85           ?         0          ?  ...      ?  ?  ?  SHEET  0.300  1220.0   \n",
       "86         2.0         0          ?  ...      ?  ?  ?  SHEET  0.600   610.0   \n",
       "87           ?       310          ?  ...      ?  ?  ?   COIL  2.500  1274.9   \n",
       "88           ?         0          ?  ...      ?  ?  ?   COIL  2.801    50.0   \n",
       "89         2.0         0          ?  ...      ?  ?  ?  SHEET  0.699   519.9   \n",
       "\n",
       "     len oil bore packing  \n",
       "0      0   ?    0       ?  \n",
       "1      0   ?    0       ?  \n",
       "2    762   ?    0       ?  \n",
       "3      0   ?    0       ?  \n",
       "4      0   ?    0       ?  \n",
       "..   ...  ..  ...     ...  \n",
       "85  4880   ?    0       ?  \n",
       "86   761   ?    0       ?  \n",
       "87     0   ?  600       ?  \n",
       "88     0   ?    0       ?  \n",
       "89   762   ?    0       ?  \n",
       "\n",
       "[90 rows x 38 columns]"
      ]
     },
     "execution_count": 56,
     "metadata": {},
     "output_type": "execute_result"
    }
   ],
   "source": [
    "X_eval = df_test.drop(columns=['id'])\n",
    "X_eval"
   ]
  },
  {
   "cell_type": "code",
   "execution_count": 57,
   "metadata": {},
   "outputs": [
    {
     "name": "stdout",
     "output_type": "stream",
     "text": [
      "Dados com NaN:\n",
      "Series([], dtype: int64)\n",
      "\n",
      "columns_with_nan.shape (0,)\n",
      "\n"
     ]
    }
   ],
   "source": [
    "just_check_nan(X_eval)"
   ]
  },
  {
   "cell_type": "code",
   "execution_count": 58,
   "metadata": {},
   "outputs": [
    {
     "name": "stdout",
     "output_type": "stream",
     "text": [
      "Dados com NaN:\n",
      "Series([], dtype: int64)\n",
      "\n",
      "columns_with_nan.shape (0,)\n",
      "\n"
     ]
    }
   ],
   "source": [
    "just_check_null(X_eval)"
   ]
  },
  {
   "cell_type": "code",
   "execution_count": 59,
   "metadata": {},
   "outputs": [
    {
     "name": "stdout",
     "output_type": "stream",
     "text": [
      "preds:  Counter({'ruim': 71, 'mediano': 14, 'ideal': 5})\n"
     ]
    }
   ],
   "source": [
    "test_preds = pipeline2.predict(X_eval)\n",
    "print('preds: ', Counter(test_preds))"
   ]
  },
  {
   "cell_type": "code",
   "execution_count": 60,
   "metadata": {},
   "outputs": [
    {
     "data": {
      "image/png": "[encoded data removed]",
      "text/plain": [
       "<Figure size 432x288 with 1 Axes>"
      ]
     },
     "metadata": {
      "needs_background": "light"
     },
     "output_type": "display_data"
    },
    {
     "name": "stdout",
     "output_type": "stream",
     "text": [
      "Com relação com a quantidade de 90 recozimentos PREVISTOS, \n",
      " - 61 destes foram classificados como IDEAL, ou seja, 67.78%; \n",
      " - 38 destes como MEDIANO, ou seja, 42.22%; \n",
      " - 225 destes como RUIM, ou seja, 250.00%.\n"
     ]
    },
    {
     "data": {
      "text/plain": [
       "<Figure size 432x288 with 0 Axes>"
      ]
     },
     "metadata": {},
     "output_type": "display_data"
    }
   ],
   "source": [
    "sns.countplot(x=preds2, data=X_eval)\n",
    "plt.show()\n",
    "plt.savefig('count_plot')\n",
    "\n",
    "print('Com relação com a quantidade de ' + str(len(X_eval)) +  ' recozimentos PREVISTOS, \\n' \\\n",
    "      + ' - ' + str(Counter(preds2)['ideal']) + ' destes foram classificados como IDEAL, ou seja, %.2f' %float((Counter(preds2)['ideal']/len(X_eval))*100) + '%; \\n' \\\n",
    "      + ' - ' + str(Counter(preds2)['mediano']) + ' destes como MEDIANO, ou seja, %.2f' %float((Counter(preds2)['mediano']/len(X_eval))*100) + '%; \\n' \\\n",
    "      + ' - ' + str(Counter(preds2)['ruim']) + ' destes como RUIM, ou seja, %.2f' %float((Counter(preds2)['ruim']/len(X_eval))*100) + '%.' )"
   ]
  },
  {
   "cell_type": "code",
   "execution_count": 61,
   "metadata": {},
   "outputs": [
    {
     "data": {
      "text/plain": [
       "<AxesSubplot:title={'center':'Frequencia das classes no conjunto de validação (90 amostras)'}>"
      ]
     },
     "execution_count": 61,
     "metadata": {},
     "output_type": "execute_result"
    },
    {
     "data": {
      "image/png": "[encoded data removed]",
      "text/plain": [
       "<Figure size 1152x288 with 3 Axes>"
      ]
     },
     "metadata": {
      "needs_background": "light"
     },
     "output_type": "display_data"
    }
   ],
   "source": [
    "plt.figure(figsize=(16, 4))\n",
    "\n",
    "plt.subplot(1,3,1)\n",
    "plt.title('Frequencia das classes no conjunto de treinamento (%i amostras)' % len(X_train))\n",
    "labels, counts = np.unique(y_train, return_counts=True)\n",
    "sns.barplot(labels, counts)\n",
    "\n",
    "plt.subplot(1,3,2)\n",
    "plt.title('Frequencia das classes no conjunto de teste (%i amostras)' % len(X_test))\n",
    "labels, counts = np.unique(y_test, return_counts=True)\n",
    "sns.barplot(labels, counts);\n",
    "\n",
    "plt.subplot(1,3,3)\n",
    "plt.title('Frequencia das classes no conjunto de validação (%i amostras)' % len(X_eval))\n",
    "labels, counts = np.unique(test_preds, return_counts=True)\n",
    "sns.barplot(labels, counts)"
   ]
  },
  {
   "cell_type": "markdown",
   "metadata": {},
   "source": [
    "Distribuição das frequencias de classes entre a base de TREINAMENTO, TESTE e PREVISTOS."
   ]
  },
  {
   "cell_type": "markdown",
   "metadata": {},
   "source": [
    "# 10) Output file\n",
    "\n",
    "Geração do arquivo de entrega"
   ]
  },
  {
   "cell_type": "code",
   "execution_count": 62,
   "metadata": {},
   "outputs": [],
   "source": [
    "output_test = pd.DataFrame({'recozimento' : test_preds})\n",
    "\n",
    "output_test.to_csv('submission_test.csv', index=False)"
   ]
  },
  {
   "cell_type": "code",
   "execution_count": null,
   "metadata": {},
   "outputs": [],
   "source": []
  }
 ],
 "metadata": {
  "kernelspec": {
   "display_name": "Python 3 (ipykernel)",
   "language": "python",
   "name": "python3"
  },
  "language_info": {
   "codemirror_mode": {
    "name": "ipython",
    "version": 3
   },
   "file_extension": ".py",
   "mimetype": "text/x-python",
   "name": "python",
   "nbconvert_exporter": "python",
   "pygments_lexer": "ipython3",
   "version": "3.10.0"
  }
 },
 "nbformat": 4,
 "nbformat_minor": 4
}
